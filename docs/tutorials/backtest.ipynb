{
 "cells": [
  {
   "cell_type": "markdown",
   "metadata": {},
   "source": [
    "# Backtest Orbit Model\n",
    "\n",
    "In this section, we will cover:\n",
    "\n",
    "- How to create a TimeSeriesSplitter\n",
    "- How to create a BackTester and retrieve the backtesting results\n",
    "- How to leverage the backtesting to tune the hyper-paramters for orbit models"
   ]
  },
  {
   "cell_type": "code",
   "execution_count": 1,
   "metadata": {
    "ExecuteTime": {
     "end_time": "2021-09-01T22:23:35.982887Z",
     "start_time": "2021-09-01T22:23:33.785643Z"
    }
   },
   "outputs": [],
   "source": [
    "%matplotlib inline\n",
    "\n",
    "import pandas as pd\n",
    "import numpy as np\n",
    "import matplotlib.pyplot as plt\n",
    "\n",
    "import orbit\n",
    "from orbit.models import LGT, DLT\n",
    "from orbit.diagnostics.backtest import BackTester, TimeSeriesSplitter\n",
    "from orbit.utils.dataset import load_iclaims\n",
    "\n",
    "\n",
    "import warnings\n",
    "warnings.filterwarnings('ignore')"
   ]
  },
  {
   "cell_type": "code",
   "execution_count": 2,
   "metadata": {
    "ExecuteTime": {
     "end_time": "2021-09-01T22:23:35.987958Z",
     "start_time": "2021-09-01T22:23:35.984872Z"
    }
   },
   "outputs": [
    {
     "name": "stdout",
     "output_type": "stream",
     "text": [
      "1.1.0dev\n"
     ]
    }
   ],
   "source": [
    "print(orbit.__version__)"
   ]
  },
  {
   "cell_type": "code",
   "execution_count": 3,
   "metadata": {
    "ExecuteTime": {
     "end_time": "2021-09-01T22:23:36.945274Z",
     "start_time": "2021-09-01T22:23:35.991385Z"
    }
   },
   "outputs": [],
   "source": [
    "# load log-transformed data\n",
    "data = load_iclaims()"
   ]
  },
  {
   "cell_type": "code",
   "execution_count": 4,
   "metadata": {
    "ExecuteTime": {
     "end_time": "2021-09-01T22:23:36.952777Z",
     "start_time": "2021-09-01T22:23:36.947564Z"
    }
   },
   "outputs": [
    {
     "data": {
      "text/plain": [
       "(443, 7)"
      ]
     },
     "execution_count": 4,
     "metadata": {},
     "output_type": "execute_result"
    }
   ],
   "source": [
    "data.shape"
   ]
  },
  {
   "cell_type": "markdown",
   "metadata": {},
   "source": [
    "The way to gauge the performance of a time-series model is through re-training models with different historic periods and check their forecast within certain steps. This is similar to a time-based style cross-validation. More often, we called it `backtest` in time-series modeling.\n",
    "\n",
    "The purpose of this notebook is to illustrate how to \"backtest\" a single model using `BackTester`\n",
    "\n",
    "`BackTester` will compose a `TimeSeriesSplitter` within it, but `TimeSeriesSplitter` is useful as a standalone, in case there are other tasks to perform that requires splitting but not backtesting. `TimeSeriesSplitter` implemented each 'slices' as genertor, i.e it can be used in a for loop. You can also retrieve the composed `TimeSeriesSplitter` object from `BackTester` to utilize the additional methods in `TimeSeriesSplitter`\n",
    "\n",
    "Currently, there are two schemes supported for the back-testing engine: expanding window and rolling window.\n",
    "\n",
    "* **expanding window**: for each back-testing model training, the train start date is fixed, while the train end date is extended forward.\n",
    "* **rolling window**: for each back-testing model training, the training window length is fixed but the window is moving forward."
   ]
  },
  {
   "cell_type": "markdown",
   "metadata": {},
   "source": [
    "## Create a TimeSeriesSplitter"
   ]
  },
  {
   "cell_type": "markdown",
   "metadata": {},
   "source": [
    "There two main way to splitting a timeseries: expanding and rolling. Expanding window has a fixed starting point, and the window length grows as we move forward in timeseries. It is useful when we want to incoporate all historical information. On the other hand, rolling window has a fixed window length, and the starting point of the window moves forward as we move forward in timeseries. Now, we will illustrate how to use `TimeSeriesSplitter` to split the claims timeseries."
   ]
  },
  {
   "cell_type": "markdown",
   "metadata": {},
   "source": [
    "###  Expanding window"
   ]
  },
  {
   "cell_type": "code",
   "execution_count": 5,
   "metadata": {
    "ExecuteTime": {
     "end_time": "2021-09-01T22:23:36.956995Z",
     "start_time": "2021-09-01T22:23:36.954545Z"
    }
   },
   "outputs": [],
   "source": [
    "# configs\n",
    "min_train_len = 380 # minimal length of window length\n",
    "forecast_len = 20 # length forecast window\n",
    "incremental_len = 20 # step length for moving forward"
   ]
  },
  {
   "cell_type": "code",
   "execution_count": 6,
   "metadata": {
    "ExecuteTime": {
     "end_time": "2021-09-01T22:23:36.961801Z",
     "start_time": "2021-09-01T22:23:36.958927Z"
    }
   },
   "outputs": [],
   "source": [
    "ex_splitter = TimeSeriesSplitter(df=data,\n",
    "                                 min_train_len=min_train_len,\n",
    "                                 incremental_len=incremental_len,\n",
    "                                 forecast_len=forecast_len, \n",
    "                                 window_type='expanding',\n",
    "                                 date_col='week')"
   ]
  },
  {
   "cell_type": "code",
   "execution_count": 7,
   "metadata": {
    "ExecuteTime": {
     "end_time": "2021-09-01T22:23:36.966706Z",
     "start_time": "2021-09-01T22:23:36.963700Z"
    },
    "scrolled": true
   },
   "outputs": [
    {
     "name": "stdout",
     "output_type": "stream",
     "text": [
      "\n",
      "------------ Fold: (1 / 3)------------\n",
      "Train start index: 0 Train end index: 379\n",
      "Test start index: 380 Test end index: 399\n",
      "Train start date: 2010-01-03 00:00:00 Train end date: 2017-04-09 00:00:00\n",
      "Test start date: 2017-04-16 00:00:00 Test end date: 2017-08-27 00:00:00\n",
      "\n",
      "------------ Fold: (2 / 3)------------\n",
      "Train start index: 0 Train end index: 399\n",
      "Test start index: 400 Test end index: 419\n",
      "Train start date: 2010-01-03 00:00:00 Train end date: 2017-08-27 00:00:00\n",
      "Test start date: 2017-09-03 00:00:00 Test end date: 2018-01-14 00:00:00\n",
      "\n",
      "------------ Fold: (3 / 3)------------\n",
      "Train start index: 0 Train end index: 419\n",
      "Test start index: 420 Test end index: 439\n",
      "Train start date: 2010-01-03 00:00:00 Train end date: 2018-01-14 00:00:00\n",
      "Test start date: 2018-01-21 00:00:00 Test end date: 2018-06-03 00:00:00\n",
      "\n"
     ]
    }
   ],
   "source": [
    "print(ex_splitter)"
   ]
  },
  {
   "cell_type": "markdown",
   "metadata": {},
   "source": [
    "We can visualize the splits, green is training window and yellow it the forecasting windown. The starting point is always 0 for three splits but window length increases from 380 to 420. "
   ]
  },
  {
   "cell_type": "code",
   "execution_count": 8,
   "metadata": {
    "ExecuteTime": {
     "end_time": "2021-09-01T22:23:37.167385Z",
     "start_time": "2021-09-01T22:23:36.970287Z"
    }
   },
   "outputs": [
    {
     "data": {
      "image/png": "[encoded data removed]",
      "text/plain": [
       "<Figure size 2000x300 with 1 Axes>"
      ]
     },
     "metadata": {},
     "output_type": "display_data"
    }
   ],
   "source": [
    "_ = ex_splitter.plot()"
   ]
  },
  {
   "cell_type": "markdown",
   "metadata": {},
   "source": [
    "### Rolling window"
   ]
  },
  {
   "cell_type": "code",
   "execution_count": 9,
   "metadata": {
    "ExecuteTime": {
     "end_time": "2021-09-01T22:23:37.173330Z",
     "start_time": "2021-09-01T22:23:37.171081Z"
    }
   },
   "outputs": [],
   "source": [
    "# configs\n",
    "min_train_len = 380 # in case of rolling window, this specify the length of window length\n",
    "forecast_len = 20 # length forecast window\n",
    "incremental_len = 20 # step length for moving forward"
   ]
  },
  {
   "cell_type": "code",
   "execution_count": 10,
   "metadata": {
    "ExecuteTime": {
     "end_time": "2021-09-01T22:23:37.180303Z",
     "start_time": "2021-09-01T22:23:37.175588Z"
    }
   },
   "outputs": [],
   "source": [
    "roll_splitter = TimeSeriesSplitter(data, \n",
    "                                   min_train_len=min_train_len, \n",
    "                                   incremental_len=incremental_len, \n",
    "                                   forecast_len=forecast_len, \n",
    "                                   window_type='rolling', date_col='week')"
   ]
  },
  {
   "cell_type": "markdown",
   "metadata": {},
   "source": [
    "We can visualize the splits, green is training window and yellow it the forecasting windown. The window length is always 380, while the starting point moves forward 20 weeks each steps. "
   ]
  },
  {
   "cell_type": "code",
   "execution_count": 11,
   "metadata": {
    "ExecuteTime": {
     "end_time": "2021-09-01T22:23:37.340180Z",
     "start_time": "2021-09-01T22:23:37.181864Z"
    }
   },
   "outputs": [
    {
     "data": {
      "image/png": "[encoded data removed]",
      "text/plain": [
       "<Figure size 2000x300 with 1 Axes>"
      ]
     },
     "metadata": {},
     "output_type": "display_data"
    }
   ],
   "source": [
    "_ = roll_splitter.plot()"
   ]
  },
  {
   "cell_type": "markdown",
   "metadata": {},
   "source": [
    "### Specifying number of splits"
   ]
  },
  {
   "cell_type": "markdown",
   "metadata": {},
   "source": [
    "User can also define number of splits using `n_splits` instead of specifying minimum training length.  That way, minimum training length will be automatically calculated."
   ]
  },
  {
   "cell_type": "code",
   "execution_count": 12,
   "metadata": {
    "ExecuteTime": {
     "end_time": "2021-09-01T22:23:37.344200Z",
     "start_time": "2021-09-01T22:23:37.341751Z"
    }
   },
   "outputs": [],
   "source": [
    "ex_splitter2 = TimeSeriesSplitter(data, \n",
    "                                  min_train_len=min_train_len, \n",
    "                                  incremental_len=incremental_len, \n",
    "                                  forecast_len=forecast_len, \n",
    "                                  n_splits=5, \n",
    "                                  window_type='expanding', date_col='week')"
   ]
  },
  {
   "cell_type": "code",
   "execution_count": 13,
   "metadata": {
    "ExecuteTime": {
     "end_time": "2021-09-01T22:23:37.538096Z",
     "start_time": "2021-09-01T22:23:37.346039Z"
    }
   },
   "outputs": [
    {
     "data": {
      "image/png": "[encoded data removed]",
      "text/plain": [
       "<Figure size 2000x500 with 1 Axes>"
      ]
     },
     "metadata": {},
     "output_type": "display_data"
    }
   ],
   "source": [
    "_ = ex_splitter2.plot()"
   ]
  },
  {
   "cell_type": "markdown",
   "metadata": {},
   "source": [
    "### TimeSeriesSplitter as generator"
   ]
  },
  {
   "cell_type": "markdown",
   "metadata": {},
   "source": [
    "`TimeSeriesSplitter` is implemented as a genetor, therefore we can call `split()` to loop through it. It comes handy even for tasks other than backtest. "
   ]
  },
  {
   "cell_type": "code",
   "execution_count": 14,
   "metadata": {
    "ExecuteTime": {
     "end_time": "2021-09-01T22:23:37.547611Z",
     "start_time": "2021-09-01T22:23:37.540620Z"
    }
   },
   "outputs": [
    {
     "name": "stdout",
     "output_type": "stream",
     "text": [
      "Initial Claim slice 0 rolling mean:12.712341458856958\n",
      "Initial Claim slice 1 rolling mean:12.67144746151623\n",
      "Initial Claim slice 2 rolling mean:12.64657747604057\n"
     ]
    }
   ],
   "source": [
    " for train_df, test_df, scheme, key in roll_splitter.split():\n",
    "        print('Initial Claim slice {} rolling mean:{}'.format(key, train_df['claims'].mean()))"
   ]
  },
  {
   "cell_type": "markdown",
   "metadata": {},
   "source": [
    "## Create a BackTester"
   ]
  },
  {
   "cell_type": "markdown",
   "metadata": {},
   "source": [
    "Now, we are ready to do backtest, first let's initialize a `DLT` model and a `BackTester`. You pass in `TimeSeriesSplitter` parameters to `BackTester`. "
   ]
  },
  {
   "cell_type": "code",
   "execution_count": 15,
   "metadata": {
    "ExecuteTime": {
     "end_time": "2021-09-01T22:23:37.552188Z",
     "start_time": "2021-09-01T22:23:37.549048Z"
    }
   },
   "outputs": [],
   "source": [
    "# instantiate a model\n",
    "dlt = DLT(\n",
    "    date_col='week',\n",
    "    response_col='claims',\n",
    "    regressor_col=['trend.unemploy', 'trend.filling', 'trend.job'],\n",
    "    seasonality=52,\n",
    "    estimator='stan-map',\n",
    ")"
   ]
  },
  {
   "cell_type": "code",
   "execution_count": 16,
   "metadata": {
    "ExecuteTime": {
     "end_time": "2021-09-01T22:23:37.612995Z",
     "start_time": "2021-09-01T22:23:37.554226Z"
    }
   },
   "outputs": [],
   "source": [
    "# configs\n",
    "min_train_len = 100 \n",
    "forecast_len = 20 \n",
    "incremental_len = 100 \n",
    "window_type = 'expanding'\n",
    "\n",
    "bt = BackTester(\n",
    "    model=dlt,\n",
    "    df=data,\n",
    "    min_train_len=min_train_len,\n",
    "    incremental_len=incremental_len,\n",
    "    forecast_len=forecast_len,\n",
    "    window_type=window_type,\n",
    ")"
   ]
  },
  {
   "cell_type": "markdown",
   "metadata": {},
   "source": [
    "## Backtest fit and predict\n",
    "\n",
    "The most expensive portion of backtesting is fitting the model iteratively. Thus, we separate the api calls for `fit_predict` and `score` to avoid redundant computation for multiple metrics or scoring methods"
   ]
  },
  {
   "cell_type": "code",
   "execution_count": 17,
   "metadata": {
    "ExecuteTime": {
     "end_time": "2021-09-01T22:23:38.421199Z",
     "start_time": "2021-09-01T22:23:37.615303Z"
    }
   },
   "outputs": [],
   "source": [
    "bt.fit_predict()"
   ]
  },
  {
   "cell_type": "markdown",
   "metadata": {},
   "source": [
    "Once `fit_predict()` is called, the fitted models and predictions can be easily retrieved from `BackTester`. Here the data is grouped by the date, split_key, and whether or not that observation is part of the training or test data"
   ]
  },
  {
   "cell_type": "code",
   "execution_count": 18,
   "metadata": {
    "ExecuteTime": {
     "end_time": "2021-09-01T22:23:38.434499Z",
     "start_time": "2021-09-01T22:23:38.423148Z"
    }
   },
   "outputs": [
    {
     "data": {
      "text/html": [
       "<div>\n",
       "<style scoped>\n",
       "    .dataframe tbody tr th:only-of-type {\n",
       "        vertical-align: middle;\n",
       "    }\n",
       "\n",
       "    .dataframe tbody tr th {\n",
       "        vertical-align: top;\n",
       "    }\n",
       "\n",
       "    .dataframe thead th {\n",
       "        text-align: right;\n",
       "    }\n",
       "</style>\n",
       "<table border=\"1\" class=\"dataframe\">\n",
       "  <thead>\n",
       "    <tr style=\"text-align: right;\">\n",
       "      <th></th>\n",
       "      <th>date</th>\n",
       "      <th>split_key</th>\n",
       "      <th>training_data</th>\n",
       "      <th>actuals</th>\n",
       "      <th>prediction</th>\n",
       "    </tr>\n",
       "  </thead>\n",
       "  <tbody>\n",
       "    <tr>\n",
       "      <th>0</th>\n",
       "      <td>2010-01-03</td>\n",
       "      <td>0</td>\n",
       "      <td>True</td>\n",
       "      <td>13.386595</td>\n",
       "      <td>13.386595</td>\n",
       "    </tr>\n",
       "    <tr>\n",
       "      <th>1</th>\n",
       "      <td>2010-01-10</td>\n",
       "      <td>0</td>\n",
       "      <td>True</td>\n",
       "      <td>13.624218</td>\n",
       "      <td>13.640867</td>\n",
       "    </tr>\n",
       "    <tr>\n",
       "      <th>2</th>\n",
       "      <td>2010-01-17</td>\n",
       "      <td>0</td>\n",
       "      <td>True</td>\n",
       "      <td>13.398741</td>\n",
       "      <td>13.375500</td>\n",
       "    </tr>\n",
       "    <tr>\n",
       "      <th>3</th>\n",
       "      <td>2010-01-24</td>\n",
       "      <td>0</td>\n",
       "      <td>True</td>\n",
       "      <td>13.137549</td>\n",
       "      <td>13.152080</td>\n",
       "    </tr>\n",
       "    <tr>\n",
       "      <th>4</th>\n",
       "      <td>2010-01-31</td>\n",
       "      <td>0</td>\n",
       "      <td>True</td>\n",
       "      <td>13.196760</td>\n",
       "      <td>13.196777</td>\n",
       "    </tr>\n",
       "  </tbody>\n",
       "</table>\n",
       "</div>"
      ],
      "text/plain": [
       "        date  split_key  training_data    actuals  prediction\n",
       "0 2010-01-03          0           True  13.386595   13.386595\n",
       "1 2010-01-10          0           True  13.624218   13.640867\n",
       "2 2010-01-17          0           True  13.398741   13.375500\n",
       "3 2010-01-24          0           True  13.137549   13.152080\n",
       "4 2010-01-31          0           True  13.196760   13.196777"
      ]
     },
     "execution_count": 18,
     "metadata": {},
     "output_type": "execute_result"
    }
   ],
   "source": [
    "predicted_df = bt.get_predicted_df()\n",
    "predicted_df.head()"
   ]
  },
  {
   "cell_type": "markdown",
   "metadata": {},
   "source": [
    "Users might find this useful for any custom computations that may need to be performed on the set of predicted data. Note that the columns are renamed to generic and consistent names."
   ]
  },
  {
   "cell_type": "markdown",
   "metadata": {},
   "source": [
    "Sometimes, it might be useful to match the data back to the original dataset for ad-hoc diagnostics. This can easily be done by merging back to the orignal dataset"
   ]
  },
  {
   "cell_type": "code",
   "execution_count": 19,
   "metadata": {
    "ExecuteTime": {
     "end_time": "2021-09-01T22:23:38.460849Z",
     "start_time": "2021-09-01T22:23:38.436258Z"
    }
   },
   "outputs": [
    {
     "data": {
      "text/html": [
       "<div>\n",
       "<style scoped>\n",
       "    .dataframe tbody tr th:only-of-type {\n",
       "        vertical-align: middle;\n",
       "    }\n",
       "\n",
       "    .dataframe tbody tr th {\n",
       "        vertical-align: top;\n",
       "    }\n",
       "\n",
       "    .dataframe thead th {\n",
       "        text-align: right;\n",
       "    }\n",
       "</style>\n",
       "<table border=\"1\" class=\"dataframe\">\n",
       "  <thead>\n",
       "    <tr style=\"text-align: right;\">\n",
       "      <th></th>\n",
       "      <th>date</th>\n",
       "      <th>split_key</th>\n",
       "      <th>training_data</th>\n",
       "      <th>actuals</th>\n",
       "      <th>prediction</th>\n",
       "      <th>week</th>\n",
       "      <th>claims</th>\n",
       "      <th>trend.unemploy</th>\n",
       "      <th>trend.filling</th>\n",
       "      <th>trend.job</th>\n",
       "      <th>sp500</th>\n",
       "      <th>vix</th>\n",
       "    </tr>\n",
       "  </thead>\n",
       "  <tbody>\n",
       "    <tr>\n",
       "      <th>0</th>\n",
       "      <td>2010-01-03</td>\n",
       "      <td>0</td>\n",
       "      <td>True</td>\n",
       "      <td>13.386595</td>\n",
       "      <td>13.386595</td>\n",
       "      <td>2010-01-03</td>\n",
       "      <td>13.386595</td>\n",
       "      <td>0.219882</td>\n",
       "      <td>-0.318452</td>\n",
       "      <td>0.117500</td>\n",
       "      <td>-0.417633</td>\n",
       "      <td>0.122654</td>\n",
       "    </tr>\n",
       "    <tr>\n",
       "      <th>1</th>\n",
       "      <td>2010-01-03</td>\n",
       "      <td>1</td>\n",
       "      <td>True</td>\n",
       "      <td>13.386595</td>\n",
       "      <td>13.386595</td>\n",
       "      <td>2010-01-03</td>\n",
       "      <td>13.386595</td>\n",
       "      <td>0.219882</td>\n",
       "      <td>-0.318452</td>\n",
       "      <td>0.117500</td>\n",
       "      <td>-0.417633</td>\n",
       "      <td>0.122654</td>\n",
       "    </tr>\n",
       "    <tr>\n",
       "      <th>2</th>\n",
       "      <td>2010-01-03</td>\n",
       "      <td>2</td>\n",
       "      <td>True</td>\n",
       "      <td>13.386595</td>\n",
       "      <td>13.386595</td>\n",
       "      <td>2010-01-03</td>\n",
       "      <td>13.386595</td>\n",
       "      <td>0.219882</td>\n",
       "      <td>-0.318452</td>\n",
       "      <td>0.117500</td>\n",
       "      <td>-0.417633</td>\n",
       "      <td>0.122654</td>\n",
       "    </tr>\n",
       "    <tr>\n",
       "      <th>3</th>\n",
       "      <td>2010-01-03</td>\n",
       "      <td>3</td>\n",
       "      <td>True</td>\n",
       "      <td>13.386595</td>\n",
       "      <td>13.386595</td>\n",
       "      <td>2010-01-03</td>\n",
       "      <td>13.386595</td>\n",
       "      <td>0.219882</td>\n",
       "      <td>-0.318452</td>\n",
       "      <td>0.117500</td>\n",
       "      <td>-0.417633</td>\n",
       "      <td>0.122654</td>\n",
       "    </tr>\n",
       "    <tr>\n",
       "      <th>4</th>\n",
       "      <td>2010-01-10</td>\n",
       "      <td>0</td>\n",
       "      <td>True</td>\n",
       "      <td>13.624218</td>\n",
       "      <td>13.640867</td>\n",
       "      <td>2010-01-10</td>\n",
       "      <td>13.624218</td>\n",
       "      <td>0.219882</td>\n",
       "      <td>-0.194838</td>\n",
       "      <td>0.168794</td>\n",
       "      <td>-0.425480</td>\n",
       "      <td>0.110445</td>\n",
       "    </tr>\n",
       "    <tr>\n",
       "      <th>...</th>\n",
       "      <td>...</td>\n",
       "      <td>...</td>\n",
       "      <td>...</td>\n",
       "      <td>...</td>\n",
       "      <td>...</td>\n",
       "      <td>...</td>\n",
       "      <td>...</td>\n",
       "      <td>...</td>\n",
       "      <td>...</td>\n",
       "      <td>...</td>\n",
       "      <td>...</td>\n",
       "      <td>...</td>\n",
       "    </tr>\n",
       "    <tr>\n",
       "      <th>1075</th>\n",
       "      <td>2017-12-17</td>\n",
       "      <td>3</td>\n",
       "      <td>False</td>\n",
       "      <td>12.568616</td>\n",
       "      <td>12.578723</td>\n",
       "      <td>2017-12-17</td>\n",
       "      <td>12.568616</td>\n",
       "      <td>0.298663</td>\n",
       "      <td>0.248654</td>\n",
       "      <td>-0.216869</td>\n",
       "      <td>0.434042</td>\n",
       "      <td>-0.482380</td>\n",
       "    </tr>\n",
       "    <tr>\n",
       "      <th>1076</th>\n",
       "      <td>2017-12-24</td>\n",
       "      <td>3</td>\n",
       "      <td>False</td>\n",
       "      <td>12.691451</td>\n",
       "      <td>12.682765</td>\n",
       "      <td>2017-12-24</td>\n",
       "      <td>12.691451</td>\n",
       "      <td>0.328516</td>\n",
       "      <td>0.233616</td>\n",
       "      <td>-0.358839</td>\n",
       "      <td>0.430410</td>\n",
       "      <td>-0.373389</td>\n",
       "    </tr>\n",
       "    <tr>\n",
       "      <th>1077</th>\n",
       "      <td>2017-12-31</td>\n",
       "      <td>3</td>\n",
       "      <td>False</td>\n",
       "      <td>12.769532</td>\n",
       "      <td>12.732821</td>\n",
       "      <td>2017-12-31</td>\n",
       "      <td>12.769532</td>\n",
       "      <td>0.503457</td>\n",
       "      <td>0.069313</td>\n",
       "      <td>-0.092571</td>\n",
       "      <td>0.456087</td>\n",
       "      <td>-0.553539</td>\n",
       "    </tr>\n",
       "    <tr>\n",
       "      <th>1078</th>\n",
       "      <td>2018-01-07</td>\n",
       "      <td>3</td>\n",
       "      <td>False</td>\n",
       "      <td>12.908227</td>\n",
       "      <td>12.910995</td>\n",
       "      <td>2018-01-07</td>\n",
       "      <td>12.908227</td>\n",
       "      <td>0.527849</td>\n",
       "      <td>0.051295</td>\n",
       "      <td>0.029532</td>\n",
       "      <td>0.471673</td>\n",
       "      <td>-0.456456</td>\n",
       "    </tr>\n",
       "    <tr>\n",
       "      <th>1079</th>\n",
       "      <td>2018-01-14</td>\n",
       "      <td>3</td>\n",
       "      <td>False</td>\n",
       "      <td>12.777193</td>\n",
       "      <td>12.695319</td>\n",
       "      <td>2018-01-14</td>\n",
       "      <td>12.777193</td>\n",
       "      <td>0.465717</td>\n",
       "      <td>0.032946</td>\n",
       "      <td>0.006275</td>\n",
       "      <td>0.480271</td>\n",
       "      <td>-0.352770</td>\n",
       "    </tr>\n",
       "  </tbody>\n",
       "</table>\n",
       "<p>1080 rows × 12 columns</p>\n",
       "</div>"
      ],
      "text/plain": [
       "           date  split_key  training_data    actuals  prediction       week  \\\n",
       "0    2010-01-03          0           True  13.386595   13.386595 2010-01-03   \n",
       "1    2010-01-03          1           True  13.386595   13.386595 2010-01-03   \n",
       "2    2010-01-03          2           True  13.386595   13.386595 2010-01-03   \n",
       "3    2010-01-03          3           True  13.386595   13.386595 2010-01-03   \n",
       "4    2010-01-10          0           True  13.624218   13.640867 2010-01-10   \n",
       "...         ...        ...            ...        ...         ...        ...   \n",
       "1075 2017-12-17          3          False  12.568616   12.578723 2017-12-17   \n",
       "1076 2017-12-24          3          False  12.691451   12.682765 2017-12-24   \n",
       "1077 2017-12-31          3          False  12.769532   12.732821 2017-12-31   \n",
       "1078 2018-01-07          3          False  12.908227   12.910995 2018-01-07   \n",
       "1079 2018-01-14          3          False  12.777193   12.695319 2018-01-14   \n",
       "\n",
       "         claims  trend.unemploy  trend.filling  trend.job     sp500       vix  \n",
       "0     13.386595        0.219882      -0.318452   0.117500 -0.417633  0.122654  \n",
       "1     13.386595        0.219882      -0.318452   0.117500 -0.417633  0.122654  \n",
       "2     13.386595        0.219882      -0.318452   0.117500 -0.417633  0.122654  \n",
       "3     13.386595        0.219882      -0.318452   0.117500 -0.417633  0.122654  \n",
       "4     13.624218        0.219882      -0.194838   0.168794 -0.425480  0.110445  \n",
       "...         ...             ...            ...        ...       ...       ...  \n",
       "1075  12.568616        0.298663       0.248654  -0.216869  0.434042 -0.482380  \n",
       "1076  12.691451        0.328516       0.233616  -0.358839  0.430410 -0.373389  \n",
       "1077  12.769532        0.503457       0.069313  -0.092571  0.456087 -0.553539  \n",
       "1078  12.908227        0.527849       0.051295   0.029532  0.471673 -0.456456  \n",
       "1079  12.777193        0.465717       0.032946   0.006275  0.480271 -0.352770  \n",
       "\n",
       "[1080 rows x 12 columns]"
      ]
     },
     "execution_count": 19,
     "metadata": {},
     "output_type": "execute_result"
    }
   ],
   "source": [
    "predicted_df.merge(data, left_on='date', right_on='week')"
   ]
  },
  {
   "cell_type": "markdown",
   "metadata": {},
   "source": [
    "## Backtest Scoring\n",
    "\n",
    "The main purpose of `BackTester` are the evaluation metrics. Some of the most widely used metrics are implemented and built into the `BackTester` API.\n",
    "\n",
    "The default metric list is **smape, wmape, mape, mse, mae, rmsse**."
   ]
  },
  {
   "cell_type": "code",
   "execution_count": 20,
   "metadata": {
    "ExecuteTime": {
     "end_time": "2021-09-01T22:23:38.471766Z",
     "start_time": "2021-09-01T22:23:38.462730Z"
    }
   },
   "outputs": [
    {
     "data": {
      "text/html": [
       "<div>\n",
       "<style scoped>\n",
       "    .dataframe tbody tr th:only-of-type {\n",
       "        vertical-align: middle;\n",
       "    }\n",
       "\n",
       "    .dataframe tbody tr th {\n",
       "        vertical-align: top;\n",
       "    }\n",
       "\n",
       "    .dataframe thead th {\n",
       "        text-align: right;\n",
       "    }\n",
       "</style>\n",
       "<table border=\"1\" class=\"dataframe\">\n",
       "  <thead>\n",
       "    <tr style=\"text-align: right;\">\n",
       "      <th></th>\n",
       "      <th>metric_name</th>\n",
       "      <th>metric_values</th>\n",
       "      <th>is_training_metric</th>\n",
       "    </tr>\n",
       "  </thead>\n",
       "  <tbody>\n",
       "    <tr>\n",
       "      <th>0</th>\n",
       "      <td>smape</td>\n",
       "      <td>0.006225</td>\n",
       "      <td>False</td>\n",
       "    </tr>\n",
       "    <tr>\n",
       "      <th>1</th>\n",
       "      <td>wmape</td>\n",
       "      <td>0.006215</td>\n",
       "      <td>False</td>\n",
       "    </tr>\n",
       "    <tr>\n",
       "      <th>2</th>\n",
       "      <td>mape</td>\n",
       "      <td>0.006206</td>\n",
       "      <td>False</td>\n",
       "    </tr>\n",
       "    <tr>\n",
       "      <th>3</th>\n",
       "      <td>mse</td>\n",
       "      <td>0.012128</td>\n",
       "      <td>False</td>\n",
       "    </tr>\n",
       "    <tr>\n",
       "      <th>4</th>\n",
       "      <td>mae</td>\n",
       "      <td>0.078946</td>\n",
       "      <td>False</td>\n",
       "    </tr>\n",
       "    <tr>\n",
       "      <th>5</th>\n",
       "      <td>rmsse</td>\n",
       "      <td>0.786049</td>\n",
       "      <td>False</td>\n",
       "    </tr>\n",
       "  </tbody>\n",
       "</table>\n",
       "</div>"
      ],
      "text/plain": [
       "  metric_name  metric_values  is_training_metric\n",
       "0       smape       0.006225               False\n",
       "1       wmape       0.006215               False\n",
       "2        mape       0.006206               False\n",
       "3         mse       0.012128               False\n",
       "4         mae       0.078946               False\n",
       "5       rmsse       0.786049               False"
      ]
     },
     "execution_count": 20,
     "metadata": {},
     "output_type": "execute_result"
    }
   ],
   "source": [
    "bt.score()"
   ]
  },
  {
   "cell_type": "markdown",
   "metadata": {},
   "source": [
    "It is possible to filter for only specific metrics of interest, or even implement your own callable and pass into the `score()` method. For example, see this function that uses last observed value as a predictor and computes the `mse`. Or `naive_error` which computes the error as the delta between predicted values and the training period mean. \n",
    "\n",
    "Note these are not really useful error metrics, just showing some examples of callables you can use ;)"
   ]
  },
  {
   "cell_type": "code",
   "execution_count": 21,
   "metadata": {
    "ExecuteTime": {
     "end_time": "2021-09-01T22:23:38.476923Z",
     "start_time": "2021-09-01T22:23:38.473520Z"
    },
    "code_folding": []
   },
   "outputs": [],
   "source": [
    "def mse_naive(test_actual):\n",
    "    actual = test_actual[1:]\n",
    "    predicted = test_actual[:-1]\n",
    "    return np.mean(np.square(actual - predicted))\n",
    "\n",
    "def naive_error(train_actual, test_predicted):\n",
    "    train_mean = np.mean(train_actual)\n",
    "    return np.mean(np.abs(test_predicted - train_mean))"
   ]
  },
  {
   "cell_type": "code",
   "execution_count": 22,
   "metadata": {
    "ExecuteTime": {
     "end_time": "2021-09-01T22:23:38.486838Z",
     "start_time": "2021-09-01T22:23:38.478787Z"
    }
   },
   "outputs": [
    {
     "data": {
      "text/html": [
       "<div>\n",
       "<style scoped>\n",
       "    .dataframe tbody tr th:only-of-type {\n",
       "        vertical-align: middle;\n",
       "    }\n",
       "\n",
       "    .dataframe tbody tr th {\n",
       "        vertical-align: top;\n",
       "    }\n",
       "\n",
       "    .dataframe thead th {\n",
       "        text-align: right;\n",
       "    }\n",
       "</style>\n",
       "<table border=\"1\" class=\"dataframe\">\n",
       "  <thead>\n",
       "    <tr style=\"text-align: right;\">\n",
       "      <th></th>\n",
       "      <th>metric_name</th>\n",
       "      <th>metric_values</th>\n",
       "      <th>is_training_metric</th>\n",
       "    </tr>\n",
       "  </thead>\n",
       "  <tbody>\n",
       "    <tr>\n",
       "      <th>0</th>\n",
       "      <td>mse_naive</td>\n",
       "      <td>0.019628</td>\n",
       "      <td>False</td>\n",
       "    </tr>\n",
       "    <tr>\n",
       "      <th>1</th>\n",
       "      <td>naive_error</td>\n",
       "      <td>0.227063</td>\n",
       "      <td>False</td>\n",
       "    </tr>\n",
       "  </tbody>\n",
       "</table>\n",
       "</div>"
      ],
      "text/plain": [
       "   metric_name  metric_values  is_training_metric\n",
       "0    mse_naive       0.019628               False\n",
       "1  naive_error       0.227063               False"
      ]
     },
     "execution_count": 22,
     "metadata": {},
     "output_type": "execute_result"
    }
   ],
   "source": [
    "bt.score(metrics=[mse_naive, naive_error])"
   ]
  },
  {
   "cell_type": "markdown",
   "metadata": {},
   "source": [
    "It doesn't take additional time to refit and predict the model, since the results are stored when `fit_predict()` is called. Check docstrings for function criteria that is required for it to be supported with this api."
   ]
  },
  {
   "cell_type": "markdown",
   "metadata": {},
   "source": [
    "In some cases, we may want to evaluate our metrics on both train and test data. To do this you can call score again with the following indicator"
   ]
  },
  {
   "cell_type": "code",
   "execution_count": 23,
   "metadata": {
    "ExecuteTime": {
     "end_time": "2021-09-01T22:23:38.505427Z",
     "start_time": "2021-09-01T22:23:38.492290Z"
    }
   },
   "outputs": [
    {
     "data": {
      "text/html": [
       "<div>\n",
       "<style scoped>\n",
       "    .dataframe tbody tr th:only-of-type {\n",
       "        vertical-align: middle;\n",
       "    }\n",
       "\n",
       "    .dataframe tbody tr th {\n",
       "        vertical-align: top;\n",
       "    }\n",
       "\n",
       "    .dataframe thead th {\n",
       "        text-align: right;\n",
       "    }\n",
       "</style>\n",
       "<table border=\"1\" class=\"dataframe\">\n",
       "  <thead>\n",
       "    <tr style=\"text-align: right;\">\n",
       "      <th></th>\n",
       "      <th>metric_name</th>\n",
       "      <th>metric_values</th>\n",
       "      <th>is_training_metric</th>\n",
       "    </tr>\n",
       "  </thead>\n",
       "  <tbody>\n",
       "    <tr>\n",
       "      <th>0</th>\n",
       "      <td>smape</td>\n",
       "      <td>0.006225</td>\n",
       "      <td>False</td>\n",
       "    </tr>\n",
       "    <tr>\n",
       "      <th>1</th>\n",
       "      <td>wmape</td>\n",
       "      <td>0.006215</td>\n",
       "      <td>False</td>\n",
       "    </tr>\n",
       "    <tr>\n",
       "      <th>2</th>\n",
       "      <td>mape</td>\n",
       "      <td>0.006206</td>\n",
       "      <td>False</td>\n",
       "    </tr>\n",
       "    <tr>\n",
       "      <th>3</th>\n",
       "      <td>mse</td>\n",
       "      <td>0.012128</td>\n",
       "      <td>False</td>\n",
       "    </tr>\n",
       "    <tr>\n",
       "      <th>4</th>\n",
       "      <td>mae</td>\n",
       "      <td>0.078946</td>\n",
       "      <td>False</td>\n",
       "    </tr>\n",
       "    <tr>\n",
       "      <th>5</th>\n",
       "      <td>rmsse</td>\n",
       "      <td>0.786049</td>\n",
       "      <td>False</td>\n",
       "    </tr>\n",
       "    <tr>\n",
       "      <th>6</th>\n",
       "      <td>smape</td>\n",
       "      <td>0.002688</td>\n",
       "      <td>True</td>\n",
       "    </tr>\n",
       "    <tr>\n",
       "      <th>7</th>\n",
       "      <td>wmape</td>\n",
       "      <td>0.002684</td>\n",
       "      <td>True</td>\n",
       "    </tr>\n",
       "    <tr>\n",
       "      <th>8</th>\n",
       "      <td>mape</td>\n",
       "      <td>0.002687</td>\n",
       "      <td>True</td>\n",
       "    </tr>\n",
       "    <tr>\n",
       "      <th>9</th>\n",
       "      <td>mse</td>\n",
       "      <td>0.002978</td>\n",
       "      <td>True</td>\n",
       "    </tr>\n",
       "    <tr>\n",
       "      <th>10</th>\n",
       "      <td>mae</td>\n",
       "      <td>0.034297</td>\n",
       "      <td>True</td>\n",
       "    </tr>\n",
       "  </tbody>\n",
       "</table>\n",
       "</div>"
      ],
      "text/plain": [
       "   metric_name  metric_values  is_training_metric\n",
       "0        smape       0.006225               False\n",
       "1        wmape       0.006215               False\n",
       "2         mape       0.006206               False\n",
       "3          mse       0.012128               False\n",
       "4          mae       0.078946               False\n",
       "5        rmsse       0.786049               False\n",
       "6        smape       0.002688                True\n",
       "7        wmape       0.002684                True\n",
       "8         mape       0.002687                True\n",
       "9          mse       0.002978                True\n",
       "10         mae       0.034297                True"
      ]
     },
     "execution_count": 23,
     "metadata": {},
     "output_type": "execute_result"
    }
   ],
   "source": [
    "bt.score(include_training_metrics=True)"
   ]
  },
  {
   "cell_type": "markdown",
   "metadata": {},
   "source": [
    "## Backtest Get Models\n",
    "\n",
    "In cases where `BackTester` doesn't cut it or for more custom use-cases, there's an interface to export the `TimeSeriesSplitter` and predicted data, as shown earlier. It's also possible to get each of the fitted models for deeper diving"
   ]
  },
  {
   "cell_type": "code",
   "execution_count": 24,
   "metadata": {
    "ExecuteTime": {
     "end_time": "2021-09-01T22:23:38.511000Z",
     "start_time": "2021-09-01T22:23:38.508235Z"
    }
   },
   "outputs": [],
   "source": [
    "fitted_models = bt.get_fitted_models()"
   ]
  },
  {
   "cell_type": "code",
   "execution_count": 25,
   "metadata": {
    "ExecuteTime": {
     "end_time": "2021-09-01T22:23:38.524110Z",
     "start_time": "2021-09-01T22:23:38.513497Z"
    }
   },
   "outputs": [
    {
     "data": {
      "text/html": [
       "<div>\n",
       "<style scoped>\n",
       "    .dataframe tbody tr th:only-of-type {\n",
       "        vertical-align: middle;\n",
       "    }\n",
       "\n",
       "    .dataframe tbody tr th {\n",
       "        vertical-align: top;\n",
       "    }\n",
       "\n",
       "    .dataframe thead th {\n",
       "        text-align: right;\n",
       "    }\n",
       "</style>\n",
       "<table border=\"1\" class=\"dataframe\">\n",
       "  <thead>\n",
       "    <tr style=\"text-align: right;\">\n",
       "      <th></th>\n",
       "      <th>regressor</th>\n",
       "      <th>regressor_sign</th>\n",
       "      <th>coefficient</th>\n",
       "    </tr>\n",
       "  </thead>\n",
       "  <tbody>\n",
       "    <tr>\n",
       "      <th>0</th>\n",
       "      <td>trend.unemploy</td>\n",
       "      <td>Regular</td>\n",
       "      <td>-0.049384</td>\n",
       "    </tr>\n",
       "    <tr>\n",
       "      <th>1</th>\n",
       "      <td>trend.filling</td>\n",
       "      <td>Regular</td>\n",
       "      <td>-0.034050</td>\n",
       "    </tr>\n",
       "    <tr>\n",
       "      <th>2</th>\n",
       "      <td>trend.job</td>\n",
       "      <td>Regular</td>\n",
       "      <td>0.274457</td>\n",
       "    </tr>\n",
       "  </tbody>\n",
       "</table>\n",
       "</div>"
      ],
      "text/plain": [
       "        regressor regressor_sign  coefficient\n",
       "0  trend.unemploy        Regular    -0.049384\n",
       "1   trend.filling        Regular    -0.034050\n",
       "2       trend.job        Regular     0.274457"
      ]
     },
     "execution_count": 25,
     "metadata": {},
     "output_type": "execute_result"
    }
   ],
   "source": [
    "model_1 = fitted_models[0]\n",
    "model_1.get_regression_coefs()"
   ]
  },
  {
   "cell_type": "markdown",
   "metadata": {},
   "source": [
    "BackTester composes a TimeSeriesSplitter within it, but TimeSeriesSplitter can also be created on its own as a standalone object. See section below on TimeSeriesSplitter for more details on how to use the splitter.\n",
    "\n",
    "All of the additional TimeSeriesSplitter args can also be passed into BackTester on instantiation"
   ]
  },
  {
   "cell_type": "code",
   "execution_count": 26,
   "metadata": {
    "ExecuteTime": {
     "end_time": "2021-09-01T22:23:38.740546Z",
     "start_time": "2021-09-01T22:23:38.526705Z"
    }
   },
   "outputs": [
    {
     "data": {
      "image/png": "[encoded data removed]",
      "text/plain": [
       "<Figure size 2000x400 with 1 Axes>"
      ]
     },
     "metadata": {},
     "output_type": "display_data"
    }
   ],
   "source": [
    "ts_splitter = bt.get_splitter()\n",
    "_ = ts_splitter.plot()"
   ]
  },
  {
   "cell_type": "markdown",
   "metadata": {},
   "source": [
    "## Hyperparameter Tunning\n",
    "After seeing the results fromt the backtest, users may wish to fine tune the hyperparmeters. Orbit also provide a `grid_search_orbit` utilities for parameter searching. It uses `Backtester` under the hood so users can compare backtest metrics for different paramters combination."
   ]
  },
  {
   "cell_type": "code",
   "execution_count": 27,
   "metadata": {
    "ExecuteTime": {
     "end_time": "2021-09-01T22:23:38.746225Z",
     "start_time": "2021-09-01T22:23:38.743774Z"
    }
   },
   "outputs": [],
   "source": [
    "from orbit.diagnostics.backtest import grid_search_orbit\n",
    "# defining the search space for level smoothing paramter and seasonality smooth paramter\n",
    "param_grid = {\n",
    "    'level_sm_input': [0.3, 0.5, 0.8],  \n",
    "    'seasonality_sm_input': [0.3, 0.5, 0.8],\n",
    "}"
   ]
  },
  {
   "cell_type": "code",
   "execution_count": 28,
   "metadata": {
    "ExecuteTime": {
     "end_time": "2021-09-01T22:23:42.207708Z",
     "start_time": "2021-09-01T22:23:38.747885Z"
    }
   },
   "outputs": [
    {
     "name": "stderr",
     "output_type": "stream",
     "text": [
      "\r",
      "  0%|          | 0/9 [00:00<?, ?it/s]"
     ]
    },
    {
     "name": "stdout",
     "output_type": "stream",
     "text": [
      "tuning hyper-params {'level_sm_input': 0.3, 'seasonality_sm_input': 0.3}\n"
     ]
    },
    {
     "name": "stderr",
     "output_type": "stream",
     "text": [
      "\r",
      " 11%|█         | 1/9 [00:00<00:02,  2.93it/s]"
     ]
    },
    {
     "name": "stdout",
     "output_type": "stream",
     "text": [
      "tuning metric:0.0049016\n",
      "tuning hyper-params {'level_sm_input': 0.3, 'seasonality_sm_input': 0.5}\n"
     ]
    },
    {
     "name": "stderr",
     "output_type": "stream",
     "text": [
      "\r",
      " 22%|██▏       | 2/9 [00:00<00:02,  3.21it/s]"
     ]
    },
    {
     "name": "stdout",
     "output_type": "stream",
     "text": [
      "tuning metric:0.0040405\n",
      "tuning hyper-params {'level_sm_input': 0.3, 'seasonality_sm_input': 0.8}\n"
     ]
    },
    {
     "name": "stderr",
     "output_type": "stream",
     "text": [
      "\r",
      " 33%|███▎      | 3/9 [00:00<00:01,  3.33it/s]"
     ]
    },
    {
     "name": "stdout",
     "output_type": "stream",
     "text": [
      "tuning metric:0.0036083\n",
      "tuning hyper-params {'level_sm_input': 0.5, 'seasonality_sm_input': 0.3}\n"
     ]
    },
    {
     "name": "stderr",
     "output_type": "stream",
     "text": [
      "\r",
      " 44%|████▍     | 4/9 [00:01<00:01,  2.87it/s]"
     ]
    },
    {
     "name": "stdout",
     "output_type": "stream",
     "text": [
      "tuning metric:0.007957\n",
      "tuning hyper-params {'level_sm_input': 0.5, 'seasonality_sm_input': 0.5}\n"
     ]
    },
    {
     "name": "stderr",
     "output_type": "stream",
     "text": [
      "\r",
      " 56%|█████▌    | 5/9 [00:01<00:01,  3.01it/s]"
     ]
    },
    {
     "name": "stdout",
     "output_type": "stream",
     "text": [
      "tuning metric:0.0063213\n",
      "tuning hyper-params {'level_sm_input': 0.5, 'seasonality_sm_input': 0.8}\n"
     ]
    },
    {
     "name": "stderr",
     "output_type": "stream",
     "text": [
      "\r",
      " 67%|██████▋   | 6/9 [00:01<00:00,  3.01it/s]"
     ]
    },
    {
     "name": "stdout",
     "output_type": "stream",
     "text": [
      "tuning metric:0.0050771\n",
      "tuning hyper-params {'level_sm_input': 0.8, 'seasonality_sm_input': 0.3}\n"
     ]
    },
    {
     "name": "stderr",
     "output_type": "stream",
     "text": [
      "\r",
      " 78%|███████▊  | 7/9 [00:02<00:00,  2.52it/s]"
     ]
    },
    {
     "name": "stdout",
     "output_type": "stream",
     "text": [
      "tuning metric:0.0108\n",
      "tuning hyper-params {'level_sm_input': 0.8, 'seasonality_sm_input': 0.5}\n"
     ]
    },
    {
     "name": "stderr",
     "output_type": "stream",
     "text": [
      "\r",
      " 89%|████████▉ | 8/9 [00:02<00:00,  2.37it/s]"
     ]
    },
    {
     "name": "stdout",
     "output_type": "stream",
     "text": [
      "tuning metric:0.011083\n",
      "tuning hyper-params {'level_sm_input': 0.8, 'seasonality_sm_input': 0.8}\n"
     ]
    },
    {
     "name": "stderr",
     "output_type": "stream",
     "text": [
      "100%|██████████| 9/9 [00:03<00:00,  2.61it/s]"
     ]
    },
    {
     "name": "stdout",
     "output_type": "stream",
     "text": [
      "tuning metric:0.0106\n"
     ]
    },
    {
     "name": "stderr",
     "output_type": "stream",
     "text": [
      "\n"
     ]
    }
   ],
   "source": [
    "# configs\n",
    "min_train_len = 380 # in case of rolling window, this specify the length of window length\n",
    "forecast_len = 20 # length forecast window\n",
    "incremental_len = 20 # step length for moving forward\n",
    "best_params, tuned_df = grid_search_orbit(param_grid, \n",
    "                                        model=dlt, \n",
    "                                        df=data,\n",
    "                                        min_train_len=min_train_len, \n",
    "                                        incremental_len=incremental_len, \n",
    "                                        forecast_len=forecast_len, \n",
    "                                        metrics=None, criteria=None, verbose=True)"
   ]
  },
  {
   "cell_type": "code",
   "execution_count": 29,
   "metadata": {
    "ExecuteTime": {
     "end_time": "2021-09-01T22:23:42.217968Z",
     "start_time": "2021-09-01T22:23:42.209513Z"
    }
   },
   "outputs": [
    {
     "data": {
      "text/html": [
       "<div>\n",
       "<style scoped>\n",
       "    .dataframe tbody tr th:only-of-type {\n",
       "        vertical-align: middle;\n",
       "    }\n",
       "\n",
       "    .dataframe tbody tr th {\n",
       "        vertical-align: top;\n",
       "    }\n",
       "\n",
       "    .dataframe thead th {\n",
       "        text-align: right;\n",
       "    }\n",
       "</style>\n",
       "<table border=\"1\" class=\"dataframe\">\n",
       "  <thead>\n",
       "    <tr style=\"text-align: right;\">\n",
       "      <th></th>\n",
       "      <th>level_sm_input</th>\n",
       "      <th>seasonality_sm_input</th>\n",
       "      <th>metrics</th>\n",
       "    </tr>\n",
       "  </thead>\n",
       "  <tbody>\n",
       "    <tr>\n",
       "      <th>0</th>\n",
       "      <td>0.3</td>\n",
       "      <td>0.3</td>\n",
       "      <td>0.004902</td>\n",
       "    </tr>\n",
       "    <tr>\n",
       "      <th>1</th>\n",
       "      <td>0.3</td>\n",
       "      <td>0.5</td>\n",
       "      <td>0.004041</td>\n",
       "    </tr>\n",
       "    <tr>\n",
       "      <th>2</th>\n",
       "      <td>0.3</td>\n",
       "      <td>0.8</td>\n",
       "      <td>0.003608</td>\n",
       "    </tr>\n",
       "    <tr>\n",
       "      <th>3</th>\n",
       "      <td>0.5</td>\n",
       "      <td>0.3</td>\n",
       "      <td>0.007957</td>\n",
       "    </tr>\n",
       "    <tr>\n",
       "      <th>4</th>\n",
       "      <td>0.5</td>\n",
       "      <td>0.5</td>\n",
       "      <td>0.006321</td>\n",
       "    </tr>\n",
       "  </tbody>\n",
       "</table>\n",
       "</div>"
      ],
      "text/plain": [
       "   level_sm_input  seasonality_sm_input   metrics\n",
       "0             0.3                   0.3  0.004902\n",
       "1             0.3                   0.5  0.004041\n",
       "2             0.3                   0.8  0.003608\n",
       "3             0.5                   0.3  0.007957\n",
       "4             0.5                   0.5  0.006321"
      ]
     },
     "execution_count": 29,
     "metadata": {},
     "output_type": "execute_result"
    }
   ],
   "source": [
    "tuned_df.head() # backtest output for each parameter searched"
   ]
  },
  {
   "cell_type": "code",
   "execution_count": 30,
   "metadata": {
    "ExecuteTime": {
     "end_time": "2021-09-01T22:23:42.223135Z",
     "start_time": "2021-09-01T22:23:42.219741Z"
    }
   },
   "outputs": [
    {
     "data": {
      "text/plain": [
       "[{'level_sm_input': 0.3, 'seasonality_sm_input': 0.8}]"
      ]
     },
     "execution_count": 30,
     "metadata": {},
     "output_type": "execute_result"
    }
   ],
   "source": [
    "best_params # output best parameters"
   ]
  }
 ],
 "metadata": {
  "kernelspec": {
   "display_name": "Python 3",
   "language": "python",
   "name": "python3"
  },
  "language_info": {
   "codemirror_mode": {
    "name": "ipython",
    "version": 3
   },
   "file_extension": ".py",
   "mimetype": "text/x-python",
   "name": "python",
   "nbconvert_exporter": "python",
   "pygments_lexer": "ipython3",
   "version": "3.7.8"
  },
  "toc": {
   "base_numbering": 1,
   "nav_menu": {},
   "number_sections": true,
   "sideBar": true,
   "skip_h1_title": false,
   "title_cell": "Table of Contents",
   "title_sidebar": "Contents",
   "toc_cell": false,
   "toc_position": {
    "height": "calc(100% - 180px)",
    "left": "10px",
    "top": "150px",
    "width": "306.391px"
   },
   "toc_section_display": true,
   "toc_window_display": true
  },
  "toc-autonumbering": false,
  "toc-showcode": false
 },
 "nbformat": 4,
 "nbformat_minor": 4
}
