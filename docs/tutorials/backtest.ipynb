{
 "cells": [
  {
   "cell_type": "markdown",
   "metadata": {},
   "source": [
    "# Backtest Orbit Model\n",
    "\n",
    "In this section, we will cover:\n",
    "\n",
    "- How to create a TimeSeriesSplitter\n",
    "- How to create a BackTester and retrieve the backtesting results\n",
    "- How to leverage the backtesting to tune the hyper-paramters for orbit models"
   ]
  },
  {
   "cell_type": "code",
   "execution_count": 1,
   "metadata": {
    "ExecuteTime": {
     "end_time": "2021-09-09T23:01:48.382788Z",
     "start_time": "2021-09-09T23:01:45.754956Z"
    }
   },
   "outputs": [],
   "source": [
    "%matplotlib inline\n",
    "\n",
    "import pandas as pd\n",
    "import numpy as np\n",
    "import matplotlib.pyplot as plt\n",
    "\n",
    "import orbit\n",
    "from orbit.models import LGT, DLT\n",
    "from orbit.diagnostics.backtest import BackTester, TimeSeriesSplitter\n",
    "from orbit.diagnostics.plot import plot_bt_predictions\n",
    "from orbit.diagnostics.metrics import smape, wmape\n",
    "from orbit.utils.dataset import load_iclaims\n",
    "\n",
    "\n",
    "import warnings\n",
    "warnings.filterwarnings('ignore')"
   ]
  },
  {
   "cell_type": "code",
   "execution_count": 2,
   "metadata": {
    "ExecuteTime": {
     "end_time": "2021-09-09T23:01:48.388198Z",
     "start_time": "2021-09-09T23:01:48.385049Z"
    }
   },
   "outputs": [
    {
     "name": "stdout",
     "output_type": "stream",
     "text": [
      "1.1.0dev\n"
     ]
    }
   ],
   "source": [
    "print(orbit.__version__)"
   ]
  },
  {
   "cell_type": "code",
   "execution_count": 3,
   "metadata": {
    "ExecuteTime": {
     "end_time": "2021-09-09T23:01:48.563090Z",
     "start_time": "2021-09-09T23:01:48.391630Z"
    }
   },
   "outputs": [],
   "source": [
    "# load log-transformed data\n",
    "data = load_iclaims()"
   ]
  },
  {
   "cell_type": "code",
   "execution_count": 4,
   "metadata": {
    "ExecuteTime": {
     "end_time": "2021-09-09T23:01:48.569505Z",
     "start_time": "2021-09-09T23:01:48.565163Z"
    }
   },
   "outputs": [
    {
     "data": {
      "text/plain": [
       "(443, 7)"
      ]
     },
     "execution_count": 4,
     "metadata": {},
     "output_type": "execute_result"
    }
   ],
   "source": [
    "data.shape"
   ]
  },
  {
   "cell_type": "markdown",
   "metadata": {},
   "source": [
    "The way to gauge the performance of a time-series model is through re-training models with different historic periods and check their forecast within certain steps. This is similar to a time-based style cross-validation. More often, we called it `backtest` in time-series modeling.\n",
    "\n",
    "The purpose of this notebook is to illustrate how to \"backtest\" a single model using `BackTester`\n",
    "\n",
    "`BackTester` will compose a `TimeSeriesSplitter` within it, but `TimeSeriesSplitter` is useful as a standalone, in case there are other tasks to perform that requires splitting but not backtesting. `TimeSeriesSplitter` implemented each 'slices' as genertor, i.e it can be used in a for loop. You can also retrieve the composed `TimeSeriesSplitter` object from `BackTester` to utilize the additional methods in `TimeSeriesSplitter`\n",
    "\n",
    "Currently, there are two schemes supported for the back-testing engine: expanding window and rolling window.\n",
    "\n",
    "* **expanding window**: for each back-testing model training, the train start date is fixed, while the train end date is extended forward.\n",
    "* **rolling window**: for each back-testing model training, the training window length is fixed but the window is moving forward."
   ]
  },
  {
   "cell_type": "markdown",
   "metadata": {},
   "source": [
    "## Create a TimeSeriesSplitter"
   ]
  },
  {
   "cell_type": "markdown",
   "metadata": {},
   "source": [
    "There two main way to splitting a timeseries: expanding and rolling. Expanding window has a fixed starting point, and the window length grows as we move forward in timeseries. It is useful when we want to incoporate all historical information. On the other hand, rolling window has a fixed window length, and the starting point of the window moves forward as we move forward in timeseries. Now, we will illustrate how to use `TimeSeriesSplitter` to split the claims timeseries."
   ]
  },
  {
   "cell_type": "markdown",
   "metadata": {},
   "source": [
    "###  Expanding window"
   ]
  },
  {
   "cell_type": "code",
   "execution_count": 5,
   "metadata": {
    "ExecuteTime": {
     "end_time": "2021-09-09T23:01:48.572954Z",
     "start_time": "2021-09-09T23:01:48.570888Z"
    }
   },
   "outputs": [],
   "source": [
    "# configs\n",
    "min_train_len = 380 # minimal length of window length\n",
    "forecast_len = 20 # length forecast window\n",
    "incremental_len = 20 # step length for moving forward"
   ]
  },
  {
   "cell_type": "code",
   "execution_count": 6,
   "metadata": {
    "ExecuteTime": {
     "end_time": "2021-09-09T23:01:48.577200Z",
     "start_time": "2021-09-09T23:01:48.574883Z"
    }
   },
   "outputs": [],
   "source": [
    "ex_splitter = TimeSeriesSplitter(df=data,\n",
    "                                 min_train_len=min_train_len,\n",
    "                                 incremental_len=incremental_len,\n",
    "                                 forecast_len=forecast_len, \n",
    "                                 window_type='expanding',\n",
    "                                 date_col='week')"
   ]
  },
  {
   "cell_type": "code",
   "execution_count": 7,
   "metadata": {
    "ExecuteTime": {
     "end_time": "2021-09-09T23:01:48.581658Z",
     "start_time": "2021-09-09T23:01:48.578689Z"
    },
    "scrolled": true
   },
   "outputs": [
    {
     "name": "stdout",
     "output_type": "stream",
     "text": [
      "\n",
      "------------ Fold: (1 / 3)------------\n",
      "Train start index: 0 Train end index: 379\n",
      "Test start index: 380 Test end index: 399\n",
      "Train start date: 2010-01-03 00:00:00 Train end date: 2017-04-09 00:00:00\n",
      "Test start date: 2017-04-16 00:00:00 Test end date: 2017-08-27 00:00:00\n",
      "\n",
      "------------ Fold: (2 / 3)------------\n",
      "Train start index: 0 Train end index: 399\n",
      "Test start index: 400 Test end index: 419\n",
      "Train start date: 2010-01-03 00:00:00 Train end date: 2017-08-27 00:00:00\n",
      "Test start date: 2017-09-03 00:00:00 Test end date: 2018-01-14 00:00:00\n",
      "\n",
      "------------ Fold: (3 / 3)------------\n",
      "Train start index: 0 Train end index: 419\n",
      "Test start index: 420 Test end index: 439\n",
      "Train start date: 2010-01-03 00:00:00 Train end date: 2018-01-14 00:00:00\n",
      "Test start date: 2018-01-21 00:00:00 Test end date: 2018-06-03 00:00:00\n",
      "\n"
     ]
    }
   ],
   "source": [
    "print(ex_splitter)"
   ]
  },
  {
   "cell_type": "markdown",
   "metadata": {},
   "source": [
    "We can visualize the splits, green is training window and yellow it the forecasting windown. The starting point is always 0 for three splits but window length increases from 380 to 420. "
   ]
  },
  {
   "cell_type": "code",
   "execution_count": 8,
   "metadata": {
    "ExecuteTime": {
     "end_time": "2021-09-09T23:01:48.793275Z",
     "start_time": "2021-09-09T23:01:48.584643Z"
    }
   },
   "outputs": [
    {
     "data": {
      "image/png": "[encoded data removed]",
      "text/plain": [
       "<Figure size 2000x300 with 1 Axes>"
      ]
     },
     "metadata": {},
     "output_type": "display_data"
    }
   ],
   "source": [
    "_ = ex_splitter.plot()"
   ]
  },
  {
   "cell_type": "markdown",
   "metadata": {},
   "source": [
    "### Rolling window"
   ]
  },
  {
   "cell_type": "code",
   "execution_count": 9,
   "metadata": {
    "ExecuteTime": {
     "end_time": "2021-09-09T23:01:48.798531Z",
     "start_time": "2021-09-09T23:01:48.796046Z"
    }
   },
   "outputs": [],
   "source": [
    "# configs\n",
    "min_train_len = 380 # in case of rolling window, this specify the length of window length\n",
    "forecast_len = 20 # length forecast window\n",
    "incremental_len = 20 # step length for moving forward"
   ]
  },
  {
   "cell_type": "code",
   "execution_count": 10,
   "metadata": {
    "ExecuteTime": {
     "end_time": "2021-09-09T23:01:48.802807Z",
     "start_time": "2021-09-09T23:01:48.800389Z"
    }
   },
   "outputs": [],
   "source": [
    "roll_splitter = TimeSeriesSplitter(data, \n",
    "                                   min_train_len=min_train_len, \n",
    "                                   incremental_len=incremental_len, \n",
    "                                   forecast_len=forecast_len, \n",
    "                                   window_type='rolling', date_col='week')"
   ]
  },
  {
   "cell_type": "markdown",
   "metadata": {},
   "source": [
    "We can visualize the splits, green is training window and yellow it the forecasting windown. The window length is always 380, while the starting point moves forward 20 weeks each steps. "
   ]
  },
  {
   "cell_type": "code",
   "execution_count": 11,
   "metadata": {
    "ExecuteTime": {
     "end_time": "2021-09-09T23:01:48.963219Z",
     "start_time": "2021-09-09T23:01:48.804679Z"
    }
   },
   "outputs": [
    {
     "data": {
      "image/png": "[encoded data removed]",
      "text/plain": [
       "<Figure size 2000x300 with 1 Axes>"
      ]
     },
     "metadata": {},
     "output_type": "display_data"
    }
   ],
   "source": [
    "_ = roll_splitter.plot()"
   ]
  },
  {
   "cell_type": "markdown",
   "metadata": {},
   "source": [
    "### Specifying number of splits"
   ]
  },
  {
   "cell_type": "markdown",
   "metadata": {},
   "source": [
    "User can also define number of splits using `n_splits` instead of specifying minimum training length.  That way, minimum training length will be automatically calculated."
   ]
  },
  {
   "cell_type": "code",
   "execution_count": 12,
   "metadata": {
    "ExecuteTime": {
     "end_time": "2021-09-09T23:01:48.967695Z",
     "start_time": "2021-09-09T23:01:48.964997Z"
    }
   },
   "outputs": [],
   "source": [
    "ex_splitter2 = TimeSeriesSplitter(data, \n",
    "                                  min_train_len=min_train_len, \n",
    "                                  incremental_len=incremental_len, \n",
    "                                  forecast_len=forecast_len, \n",
    "                                  n_splits=5, \n",
    "                                  window_type='expanding', date_col='week')"
   ]
  },
  {
   "cell_type": "code",
   "execution_count": 13,
   "metadata": {
    "ExecuteTime": {
     "end_time": "2021-09-09T23:01:49.162212Z",
     "start_time": "2021-09-09T23:01:48.969580Z"
    }
   },
   "outputs": [
    {
     "data": {
      "image/png": "[encoded data removed]",
      "text/plain": [
       "<Figure size 2000x500 with 1 Axes>"
      ]
     },
     "metadata": {},
     "output_type": "display_data"
    }
   ],
   "source": [
    "_ = ex_splitter2.plot()"
   ]
  },
  {
   "cell_type": "markdown",
   "metadata": {},
   "source": [
    "### TimeSeriesSplitter as generator"
   ]
  },
  {
   "cell_type": "markdown",
   "metadata": {},
   "source": [
    "`TimeSeriesSplitter` is implemented as a genetor, therefore we can call `split()` to loop through it. It comes handy even for tasks other than backtest. "
   ]
  },
  {
   "cell_type": "code",
   "execution_count": 14,
   "metadata": {
    "ExecuteTime": {
     "end_time": "2021-09-09T23:01:49.171915Z",
     "start_time": "2021-09-09T23:01:49.165625Z"
    }
   },
   "outputs": [
    {
     "name": "stdout",
     "output_type": "stream",
     "text": [
      "Initial Claim slice 0 rolling mean:12.712341458856958\n",
      "Initial Claim slice 1 rolling mean:12.67144746151623\n",
      "Initial Claim slice 2 rolling mean:12.64657747604057\n"
     ]
    }
   ],
   "source": [
    " for train_df, test_df, scheme, key in roll_splitter.split():\n",
    "        print('Initial Claim slice {} rolling mean:{}'.format(key, train_df['claims'].mean()))"
   ]
  },
  {
   "cell_type": "markdown",
   "metadata": {},
   "source": [
    "## Create a BackTester"
   ]
  },
  {
   "cell_type": "markdown",
   "metadata": {},
   "source": [
    "Now, we are ready to do backtest, first let's initialize a `DLT` model and a `BackTester`. You pass in `TimeSeriesSplitter` parameters to `BackTester`. "
   ]
  },
  {
   "cell_type": "code",
   "execution_count": 15,
   "metadata": {
    "ExecuteTime": {
     "end_time": "2021-09-09T23:01:49.176095Z",
     "start_time": "2021-09-09T23:01:49.173540Z"
    }
   },
   "outputs": [],
   "source": [
    "# instantiate a model\n",
    "dlt = DLT(\n",
    "    date_col='week',\n",
    "    response_col='claims',\n",
    "    regressor_col=['trend.unemploy', 'trend.filling', 'trend.job'],\n",
    "    seasonality=52,\n",
    "    estimator='stan-map',\n",
    ")"
   ]
  },
  {
   "cell_type": "code",
   "execution_count": 16,
   "metadata": {
    "ExecuteTime": {
     "end_time": "2021-09-09T23:01:49.182882Z",
     "start_time": "2021-09-09T23:01:49.177659Z"
    }
   },
   "outputs": [],
   "source": [
    "# configs\n",
    "min_train_len = 100 \n",
    "forecast_len = 20 \n",
    "incremental_len = 100 \n",
    "window_type = 'expanding'\n",
    "\n",
    "bt = BackTester(\n",
    "    model=dlt,\n",
    "    df=data,\n",
    "    min_train_len=min_train_len,\n",
    "    incremental_len=incremental_len,\n",
    "    forecast_len=forecast_len,\n",
    "    window_type=window_type,\n",
    ")"
   ]
  },
  {
   "cell_type": "markdown",
   "metadata": {},
   "source": [
    "## Backtest fit and predict\n",
    "\n",
    "The most expensive portion of backtesting is fitting the model iteratively. Thus, we separate the api calls for `fit_predict` and `score` to avoid redundant computation for multiple metrics or scoring methods"
   ]
  },
  {
   "cell_type": "code",
   "execution_count": 17,
   "metadata": {
    "ExecuteTime": {
     "end_time": "2021-09-09T23:01:49.863130Z",
     "start_time": "2021-09-09T23:01:49.185147Z"
    }
   },
   "outputs": [
    {
     "name": "stdout",
     "output_type": "stream",
     "text": [
      "Initial log joint probability = 85.8691\n",
      "    Iter      log prob        ||dx||      ||grad||       alpha      alpha0  # evals  Notes \n",
      "      19       260.694     0.0659625       102.507           1           1       32   \n",
      "    Iter      log prob        ||dx||      ||grad||       alpha      alpha0  # evals  Notes \n",
      "      39        267.38     0.0151088       17.9151           1           1       57   \n",
      "    Iter      log prob        ||dx||      ||grad||       alpha      alpha0  # evals  Notes \n",
      "      59       272.823     0.0189509       39.6353      0.2449      0.2449       81   \n",
      "    Iter      log prob        ||dx||      ||grad||       alpha      alpha0  # evals  Notes \n",
      "      79       277.608     0.0471997       21.7784           1           1      104   \n",
      "    Iter      log prob        ||dx||      ||grad||       alpha      alpha0  # evals  Notes \n",
      "      99       283.656      0.176242       45.7616           1           1      127   \n",
      "    Iter      log prob        ||dx||      ||grad||       alpha      alpha0  # evals  Notes \n",
      "     119       286.397     0.0580157       17.0127           1           1      151   \n",
      "    Iter      log prob        ||dx||      ||grad||       alpha      alpha0  # evals  Notes \n",
      "     139       287.906      0.260353       80.4514      0.9656      0.9656      171   \n",
      "    Iter      log prob        ||dx||      ||grad||       alpha      alpha0  # evals  Notes \n",
      "     159        289.64     0.0388054       63.1316           1           1      191   \n",
      "    Iter      log prob        ||dx||      ||grad||       alpha      alpha0  # evals  Notes \n",
      "     179       290.841    0.00707298        42.571       0.851       0.851      215   \n",
      "    Iter      log prob        ||dx||      ||grad||       alpha      alpha0  # evals  Notes \n",
      "     199       291.129     0.0200974       16.7536           1           1      239   \n",
      "    Iter      log prob        ||dx||      ||grad||       alpha      alpha0  # evals  Notes \n",
      "     219       291.397     0.0377095       17.1289           1           1      261   \n",
      "    Iter      log prob        ||dx||      ||grad||       alpha      alpha0  # evals  Notes \n",
      "     239       291.766      0.256632       26.8451           1           1      281   \n",
      "    Iter      log prob        ||dx||      ||grad||       alpha      alpha0  # evals  Notes \n",
      "     259       291.898     0.0152861       9.88417           1           1      306   \n",
      "    Iter      log prob        ||dx||      ||grad||       alpha      alpha0  # evals  Notes \n",
      "     279       291.939     0.0113083       21.0222           1           1      327   \n",
      "    Iter      log prob        ||dx||      ||grad||       alpha      alpha0  # evals  Notes \n",
      "     299        291.95   0.000582437       7.32484      0.4016           1      348   \n",
      "    Iter      log prob        ||dx||      ||grad||       alpha      alpha0  # evals  Notes \n",
      "     319       291.958    0.00413092       13.9316      0.2186           1      373   \n",
      "    Iter      log prob        ||dx||      ||grad||       alpha      alpha0  # evals  Notes \n",
      "     339       291.969    0.00141592       2.64792           1           1      399   \n",
      "    Iter      log prob        ||dx||      ||grad||       alpha      alpha0  # evals  Notes \n",
      "     359        291.97    0.00143341       1.48109           1           1      423   \n",
      "    Iter      log prob        ||dx||      ||grad||       alpha      alpha0  # evals  Notes \n",
      "     379       291.973    0.00167914       3.74339      0.4547      0.4547      446   \n",
      "    Iter      log prob        ||dx||      ||grad||       alpha      alpha0  # evals  Notes \n",
      "     399       291.976   0.000707094       3.02004      0.4366      0.4366      471   \n",
      "    Iter      log prob        ||dx||      ||grad||       alpha      alpha0  # evals  Notes \n",
      "     419       291.978    0.00110273       3.39484           1           1      494   \n",
      "    Iter      log prob        ||dx||      ||grad||       alpha      alpha0  # evals  Notes \n",
      "     439        291.98    0.00175915       4.35862           1           1      519   \n",
      "    Iter      log prob        ||dx||      ||grad||       alpha      alpha0  # evals  Notes \n",
      "     459       291.984    0.00378881        8.6129           1           1      544   \n",
      "    Iter      log prob        ||dx||      ||grad||       alpha      alpha0  # evals  Notes \n",
      "     479       291.987   0.000578038        3.2495      0.1963      0.1963      568   \n",
      "    Iter      log prob        ||dx||      ||grad||       alpha      alpha0  # evals  Notes \n",
      "     499       291.991    0.00106421       4.39089      0.4219           1      593   \n",
      "    Iter      log prob        ||dx||      ||grad||       alpha      alpha0  # evals  Notes \n",
      "     519       291.996    0.00344334       5.00137           1           1      613   \n",
      "    Iter      log prob        ||dx||      ||grad||       alpha      alpha0  # evals  Notes \n",
      "     539       292.007      0.018916       14.1727           1           1      636   \n",
      "    Iter      log prob        ||dx||      ||grad||       alpha      alpha0  # evals  Notes \n",
      "     559       292.017    0.00484169       4.83398           1           1      660   \n",
      "    Iter      log prob        ||dx||      ||grad||       alpha      alpha0  # evals  Notes \n",
      "     579       292.025    0.00322322       6.32659      0.8531     0.08531      686   \n",
      "    Iter      log prob        ||dx||      ||grad||       alpha      alpha0  # evals  Notes \n",
      "     599       292.037     0.0176556       4.44278           1           1      708   \n",
      "    Iter      log prob        ||dx||      ||grad||       alpha      alpha0  # evals  Notes \n",
      "     619       292.059    0.00369753       11.8777      0.6464      0.6464      730   \n",
      "    Iter      log prob        ||dx||      ||grad||       alpha      alpha0  # evals  Notes \n",
      "     639        292.07     0.0184068        3.2581           1           1      754   \n",
      "    Iter      log prob        ||dx||      ||grad||       alpha      alpha0  # evals  Notes \n",
      "     659       292.083    0.00241713       5.18214           1           1      777   \n",
      "    Iter      log prob        ||dx||      ||grad||       alpha      alpha0  # evals  Notes \n",
      "     679       292.099     0.0225216       5.54465           1           1      800   \n",
      "    Iter      log prob        ||dx||      ||grad||       alpha      alpha0  # evals  Notes \n",
      "     699       292.106     0.0120991       6.77585           1           1      825   \n",
      "    Iter      log prob        ||dx||      ||grad||       alpha      alpha0  # evals  Notes \n",
      "     719       292.109    0.00550484       4.35438      0.9108      0.9108      850   \n",
      "    Iter      log prob        ||dx||      ||grad||       alpha      alpha0  # evals  Notes \n",
      "     739       292.115     0.0107427       7.54272           1           1      871   \n",
      "    Iter      log prob        ||dx||      ||grad||       alpha      alpha0  # evals  Notes \n",
      "     759       292.131    0.00763261       5.05724      0.5807      0.5807      896   \n",
      "    Iter      log prob        ||dx||      ||grad||       alpha      alpha0  # evals  Notes \n",
      "     779       292.135    0.00642044       15.5273           1           1      918   \n",
      "    Iter      log prob        ||dx||      ||grad||       alpha      alpha0  # evals  Notes \n",
      "     799        292.14     0.0164069        3.8036       1.554      0.1554      941   \n",
      "    Iter      log prob        ||dx||      ||grad||       alpha      alpha0  # evals  Notes \n",
      "     819       292.146   0.000157074       1.79465           1           1      964   \n",
      "    Iter      log prob        ||dx||      ||grad||       alpha      alpha0  # evals  Notes \n",
      "     839       292.148    0.00746463       1.52816           1           1      985   \n",
      "    Iter      log prob        ||dx||      ||grad||       alpha      alpha0  # evals  Notes \n",
      "     859        292.15    0.00225772        3.2942      0.3678      0.3678     1009   \n",
      "    Iter      log prob        ||dx||      ||grad||       alpha      alpha0  # evals  Notes \n",
      "     879       292.151    0.00120922       6.55241      0.5728      0.5728     1031   \n",
      "    Iter      log prob        ||dx||      ||grad||       alpha      alpha0  # evals  Notes \n",
      "     899       292.152   0.000221706       1.61408      0.2665           1     1054   \n",
      "    Iter      log prob        ||dx||      ||grad||       alpha      alpha0  # evals  Notes \n",
      "     919       292.153   2.39026e-05       1.34369      0.8251      0.8251     1079   \n",
      "    Iter      log prob        ||dx||      ||grad||       alpha      alpha0  # evals  Notes \n",
      "     939       292.153      0.000116      0.474212      0.7048      0.7048     1103   \n",
      "    Iter      log prob        ||dx||      ||grad||       alpha      alpha0  # evals  Notes \n",
      "     949       292.153   5.62754e-06       0.18016      0.9127      0.9127     1114   \n",
      "Optimization terminated normally: \n",
      "  Convergence detected: relative gradient magnitude is below tolerance\n",
      "Initial log joint probability = 188.216\n",
      "    Iter      log prob        ||dx||      ||grad||       alpha      alpha0  # evals  Notes \n",
      "      19       422.629     0.0248951       38.9926           1           1       25   \n",
      "    Iter      log prob        ||dx||      ||grad||       alpha      alpha0  # evals  Notes \n",
      "      39       447.966      0.042561       59.8006           1           1       51   \n",
      "    Iter      log prob        ||dx||      ||grad||       alpha      alpha0  # evals  Notes \n",
      "      59       474.356     0.0317967       32.7282      0.3226      0.3226       73   \n",
      "    Iter      log prob        ||dx||      ||grad||       alpha      alpha0  # evals  Notes \n",
      "      79       479.785     0.0154802       52.8568      0.3705      0.3705       95   \n",
      "    Iter      log prob        ||dx||      ||grad||       alpha      alpha0  # evals  Notes \n",
      "      99        482.59     0.0813018       89.9475      0.4091           1      119   \n",
      "    Iter      log prob        ||dx||      ||grad||       alpha      alpha0  # evals  Notes \n",
      "     119       491.097     0.0753213       36.2572      0.6828      0.6828      140   \n",
      "    Iter      log prob        ||dx||      ||grad||       alpha      alpha0  # evals  Notes \n",
      "     139       492.551     0.0651951       18.0816           1           1      167   \n",
      "    Iter      log prob        ||dx||      ||grad||       alpha      alpha0  # evals  Notes \n",
      "     159       493.979     0.0397434       7.58089      0.9849      0.9849      190   \n",
      "    Iter      log prob        ||dx||      ||grad||       alpha      alpha0  # evals  Notes \n",
      "     179       494.529      0.470546       21.8068           1           1      212   \n",
      "    Iter      log prob        ||dx||      ||grad||       alpha      alpha0  # evals  Notes \n",
      "     199       495.154     0.0281988       3.06696           1           1      236   \n",
      "    Iter      log prob        ||dx||      ||grad||       alpha      alpha0  # evals  Notes \n",
      "     219       495.199     0.0036149       4.23171           1           1      259   \n",
      "    Iter      log prob        ||dx||      ||grad||       alpha      alpha0  # evals  Notes \n",
      "     239       495.203   0.000267766      0.495681           1           1      280   \n",
      "    Iter      log prob        ||dx||      ||grad||       alpha      alpha0  # evals  Notes \n",
      "     259       495.227     0.0105393       2.07461           1           1      303   \n",
      "    Iter      log prob        ||dx||      ||grad||       alpha      alpha0  # evals  Notes \n",
      "     279       495.251    0.00229191       3.23075           1           1      326   \n",
      "    Iter      log prob        ||dx||      ||grad||       alpha      alpha0  # evals  Notes \n",
      "     299       495.282    0.00795238       3.79571           1           1      347   \n",
      "    Iter      log prob        ||dx||      ||grad||       alpha      alpha0  # evals  Notes \n",
      "     319       495.297     0.0174764       3.00492       0.948       0.948      372   \n",
      "    Iter      log prob        ||dx||      ||grad||       alpha      alpha0  # evals  Notes \n",
      "     339       495.324     0.0206787       3.45785           1           1      395   \n",
      "    Iter      log prob        ||dx||      ||grad||       alpha      alpha0  # evals  Notes \n",
      "     359       495.431     0.0203925       1.79639           1           1      419   \n",
      "    Iter      log prob        ||dx||      ||grad||       alpha      alpha0  # evals  Notes \n",
      "     379       495.439    0.00459234       5.11382           1           1      440   \n",
      "    Iter      log prob        ||dx||      ||grad||       alpha      alpha0  # evals  Notes \n",
      "     399       495.443   0.000790104      0.550911           1           1      464   \n",
      "    Iter      log prob        ||dx||      ||grad||       alpha      alpha0  # evals  Notes \n",
      "     419       495.443    0.00254315       1.08817      0.2282           1      486   \n",
      "    Iter      log prob        ||dx||      ||grad||       alpha      alpha0  # evals  Notes \n",
      "     439       495.446     0.0030826      0.971644           1           1      508   \n",
      "    Iter      log prob        ||dx||      ||grad||       alpha      alpha0  # evals  Notes \n",
      "     459       495.451     0.0451652       2.04964           1           1      529   \n",
      "    Iter      log prob        ||dx||      ||grad||       alpha      alpha0  # evals  Notes \n",
      "     479        495.47      0.120729       2.05294           1           1      550   \n",
      "    Iter      log prob        ||dx||      ||grad||       alpha      alpha0  # evals  Notes \n",
      "     499       495.485      0.230047        3.0567      0.2507           1      574   \n",
      "    Iter      log prob        ||dx||      ||grad||       alpha      alpha0  # evals  Notes \n",
      "     519       495.489      0.056191       1.14625           1           1      595   \n",
      "    Iter      log prob        ||dx||      ||grad||       alpha      alpha0  # evals  Notes \n",
      "     533       495.489    0.00115546      0.079283           1           1      612   \n",
      "Optimization terminated normally: \n",
      "  Convergence detected: relative gradient magnitude is below tolerance\n",
      "Initial log joint probability = 269.579\n",
      "    Iter      log prob        ||dx||      ||grad||       alpha      alpha0  # evals  Notes \n",
      "      19       561.398     0.0916032       55.3769           1           1       24   \n",
      "    Iter      log prob        ||dx||      ||grad||       alpha      alpha0  # evals  Notes \n",
      "      39       607.385     0.0704187       44.2323           1           1       49   \n",
      "    Iter      log prob        ||dx||      ||grad||       alpha      alpha0  # evals  Notes \n",
      "      59       614.856      0.120028       55.1977           1           1       72   \n",
      "    Iter      log prob        ||dx||      ||grad||       alpha      alpha0  # evals  Notes \n",
      "      79        617.87     0.0400276       36.6244           1           1       92   \n",
      "    Iter      log prob        ||dx||      ||grad||       alpha      alpha0  # evals  Notes \n",
      "      99       621.429     0.0824299        28.614      0.6949      0.6949      115   \n",
      "    Iter      log prob        ||dx||      ||grad||       alpha      alpha0  # evals  Notes \n",
      "     119       623.943      0.107495       23.1901           1           1      139   \n",
      "    Iter      log prob        ||dx||      ||grad||       alpha      alpha0  # evals  Notes \n",
      "     139       629.573       0.11489        55.635      0.5777      0.5777      162   \n",
      "    Iter      log prob        ||dx||      ||grad||       alpha      alpha0  # evals  Notes \n",
      "     159       631.143     0.0133979       2.45033           1           1      185   \n",
      "    Iter      log prob        ||dx||      ||grad||       alpha      alpha0  # evals  Notes \n",
      "     179       631.147     0.0013603      0.634618       1.257      0.1257      208   \n",
      "    Iter      log prob        ||dx||      ||grad||       alpha      alpha0  # evals  Notes \n",
      "     199       631.148   7.81403e-05      0.231423       1.021      0.1021      231   \n",
      "    Iter      log prob        ||dx||      ||grad||       alpha      alpha0  # evals  Notes \n",
      "     219       631.148    0.00112833      0.396882      0.7316      0.7316      252   \n",
      "    Iter      log prob        ||dx||      ||grad||       alpha      alpha0  # evals  Notes \n",
      "     239       631.153     0.0372646       3.49739      0.3627           1      278   \n",
      "    Iter      log prob        ||dx||      ||grad||       alpha      alpha0  # evals  Notes \n",
      "     259       631.181     0.0587495       2.09253        0.37           1      300   \n",
      "    Iter      log prob        ||dx||      ||grad||       alpha      alpha0  # evals  Notes \n",
      "     279       631.193    0.00357171       1.40416           1           1      322   \n",
      "    Iter      log prob        ||dx||      ||grad||       alpha      alpha0  # evals  Notes \n",
      "     299       631.197    0.00126775      0.491166           1           1      345   \n",
      "    Iter      log prob        ||dx||      ||grad||       alpha      alpha0  # evals  Notes \n",
      "     315       631.197    9.8816e-05      0.127671           1           1      363   \n",
      "Optimization terminated normally: \n",
      "  Convergence detected: relative gradient magnitude is below tolerance\n",
      "Initial log joint probability = 356.685\n",
      "    Iter      log prob        ||dx||      ||grad||       alpha      alpha0  # evals  Notes \n",
      "      19       734.822      0.129558        103.05           1           1       24   \n",
      "    Iter      log prob        ||dx||      ||grad||       alpha      alpha0  # evals  Notes \n",
      "      39       770.864     0.0331111       15.9496           1           1       47   \n",
      "    Iter      log prob        ||dx||      ||grad||       alpha      alpha0  # evals  Notes \n",
      "      59       774.693     0.0447569       14.5836           1           1       70   \n",
      "    Iter      log prob        ||dx||      ||grad||       alpha      alpha0  # evals  Notes \n",
      "      79       794.791     0.0856702       107.654           1           1       94   \n",
      "    Iter      log prob        ||dx||      ||grad||       alpha      alpha0  # evals  Notes \n",
      "      99       809.556      0.145809       43.4767           1           1      120   \n",
      "    Iter      log prob        ||dx||      ||grad||       alpha      alpha0  # evals  Notes \n",
      "     119     "
     ]
    }
   ],
   "source": [
    "bt.fit_predict()"
   ]
  },
  {
   "cell_type": "markdown",
   "metadata": {},
   "source": [
    "Once `fit_predict()` is called, the fitted models and predictions can be easily retrieved from `BackTester`. Here the data is grouped by the date, split_key, and whether or not that observation is part of the training or test data"
   ]
  },
  {
   "cell_type": "code",
   "execution_count": 18,
   "metadata": {
    "ExecuteTime": {
     "end_time": "2021-09-09T23:01:49.877945Z",
     "start_time": "2021-09-09T23:01:49.864990Z"
    }
   },
   "outputs": [
    {
     "name": "stdout",
     "output_type": "stream",
     "text": [
      "  810.692    0.00297647       14.4994           1           1      146   \n",
      "    Iter      log prob        ||dx||      ||grad||       alpha      alpha0  # evals  Notes \n",
      "     139       810.846    0.00645842       11.2952      0.3336           1      169   \n",
      "    Iter      log prob        ||dx||      ||grad||       alpha      alpha0  # evals  Notes \n",
      "     159       810.991     0.0108688       16.3066           1           1      189   \n",
      "    Iter      log prob        ||dx||      ||grad||       alpha      alpha0  # evals  Notes \n",
      "     179       811.222     0.0350511       13.2625           1           1      209   \n",
      "    Iter      log prob        ||dx||      ||grad||       alpha      alpha0  # evals  Notes \n",
      "     199        811.72    0.00536119       30.1248           1           1      230   \n",
      "    Iter      log prob        ||dx||      ||grad||       alpha      alpha0  # evals  Notes \n",
      "     219       813.659     0.0525208       30.1466       0.453       0.453      251   \n",
      "    Iter      log prob        ||dx||      ||grad||       alpha      alpha0  # evals  Notes \n",
      "     239       816.193      0.306198       41.4592           1           1      273   \n",
      "    Iter      log prob        ||dx||      ||grad||       alpha      alpha0  # evals  Notes \n",
      "     259       820.332     0.0497423       9.02239           1           1      294   \n",
      "    Iter      log prob        ||dx||      ||grad||       alpha      alpha0  # evals  Notes \n",
      "     279       821.981     0.0342622        4.7742           1           1      315   \n",
      "    Iter      log prob        ||dx||      ||grad||       alpha      alpha0  # evals  Notes \n",
      "     299       822.189    0.00404039       3.64903      0.3652      0.3652      337   \n",
      "    Iter      log prob        ||dx||      ||grad||       alpha      alpha0  # evals  Notes \n",
      "     319       822.228     0.0236357       7.22834           1           1      357   \n",
      "    Iter      log prob        ||dx||      ||grad||       alpha      alpha0  # evals  Notes \n",
      "     339       822.396     0.0319135       4.29081           1           1      378   \n",
      "    Iter      log prob        ||dx||      ||grad||       alpha      alpha0  # evals  Notes \n",
      "     359       822.553     0.0189886       3.05451      0.3203           1      401   \n",
      "    Iter      log prob        ||dx||      ||grad||       alpha      alpha0  # evals  Notes \n",
      "     379       822.608    0.00294974       1.89322           1           1      421   \n",
      "    Iter      log prob        ||dx||      ||grad||       alpha      alpha0  # evals  Notes \n",
      "     399       822.615    0.00243116       1.02519      0.7902      0.7902      442   \n",
      "    Iter      log prob        ||dx||      ||grad||       alpha      alpha0  # evals  Notes \n",
      "     419        822.62    0.00262804      0.789626           1           1      463   \n",
      "    Iter      log prob        ||dx||      ||grad||       alpha      alpha0  # evals  Notes \n",
      "     439       822.627    0.00267545      0.959989           1           1      485   \n",
      "    Iter      log prob        ||dx||      ||grad||       alpha      alpha0  # evals  Notes \n",
      "     459       822.651     0.0462819       2.85094           1           1      506   \n",
      "    Iter      log prob        ||dx||      ||grad||       alpha      alpha0  # evals  Notes \n",
      "     479       822.692     0.0123662       3.26903           1           1      528   \n",
      "    Iter      log prob        ||dx||      ||grad||       alpha      alpha0  # evals  Notes \n",
      "     499       822.696     0.0028835      0.508722           1           1      551   \n",
      "    Iter      log prob        ||dx||      ||grad||       alpha      alpha0  # evals  Notes \n",
      "     519       822.697    0.00231026      0.659969           1           1      573   \n",
      "    Iter      log prob        ||dx||      ||grad||       alpha      alpha0  # evals  Notes \n",
      "     539       822.697    0.00112306      0.382263      0.5138           1      594   \n",
      "    Iter      log prob        ||dx||      ||grad||       alpha      alpha0  # evals  Notes \n",
      "     559       822.699    0.00689226      0.637643      0.7318      0.7318      616   \n",
      "    Iter      log prob        ||dx||      ||grad||       alpha      alpha0  # evals  Notes \n",
      "     579       822.705       0.06953       1.19848           1           1      637   \n",
      "    Iter      log prob        ||dx||      ||grad||       alpha      alpha0  # evals  Notes \n",
      "     599       822.724     0.0611125      0.942113           1           1      658   \n",
      "    Iter      log prob        ||dx||      ||grad||       alpha      alpha0  # evals  Notes \n",
      "     619       822.729    0.00236944      0.460771      0.3406      0.3406      681   \n",
      "    Iter      log prob        ||dx||      ||grad||       alpha      alpha0  # evals  Notes \n",
      "     639       822.731     0.0171939      0.261386           1           1      703   \n",
      "    Iter      log prob        ||dx||      ||grad||       alpha      alpha0  # evals  Notes \n",
      "     659       822.731     0.0029487       0.28987           1           1      724   \n",
      "    Iter      log prob        ||dx||      ||grad||       alpha      alpha0  # evals  Notes \n",
      "     679       822.731     0.0427532      0.341119           1           1      746   \n",
      "    Iter      log prob        ||dx||      ||grad||       alpha      alpha0  # evals  Notes \n",
      "     699       822.733      0.135075      0.327377       0.332           1      772   \n",
      "    Iter      log prob        ||dx||      ||grad||       alpha      alpha0  # evals  Notes \n",
      "     714       822.733    0.00228931     0.0680176           1           1      790   \n",
      "Optimization terminated normally: \n",
      "  Convergence detected: relative gradient magnitude is below tolerance\n"
     ]
    },
    {
     "data": {
      "text/html": [
       "<div>\n",
       "<style scoped>\n",
       "    .dataframe tbody tr th:only-of-type {\n",
       "        vertical-align: middle;\n",
       "    }\n",
       "\n",
       "    .dataframe tbody tr th {\n",
       "        vertical-align: top;\n",
       "    }\n",
       "\n",
       "    .dataframe thead th {\n",
       "        text-align: right;\n",
       "    }\n",
       "</style>\n",
       "<table border=\"1\" class=\"dataframe\">\n",
       "  <thead>\n",
       "    <tr style=\"text-align: right;\">\n",
       "      <th></th>\n",
       "      <th>date</th>\n",
       "      <th>split_key</th>\n",
       "      <th>training_data</th>\n",
       "      <th>actuals</th>\n",
       "      <th>prediction</th>\n",
       "    </tr>\n",
       "  </thead>\n",
       "  <tbody>\n",
       "    <tr>\n",
       "      <th>0</th>\n",
       "      <td>2010-01-03</td>\n",
       "      <td>0</td>\n",
       "      <td>True</td>\n",
       "      <td>13.386595</td>\n",
       "      <td>13.386595</td>\n",
       "    </tr>\n",
       "    <tr>\n",
       "      <th>1</th>\n",
       "      <td>2010-01-10</td>\n",
       "      <td>0</td>\n",
       "      <td>True</td>\n",
       "      <td>13.624218</td>\n",
       "      <td>13.640867</td>\n",
       "    </tr>\n",
       "    <tr>\n",
       "      <th>2</th>\n",
       "      <td>2010-01-17</td>\n",
       "      <td>0</td>\n",
       "      <td>True</td>\n",
       "      <td>13.398741</td>\n",
       "      <td>13.375500</td>\n",
       "    </tr>\n",
       "    <tr>\n",
       "      <th>3</th>\n",
       "      <td>2010-01-24</td>\n",
       "      <td>0</td>\n",
       "      <td>True</td>\n",
       "      <td>13.137549</td>\n",
       "      <td>13.152080</td>\n",
       "    </tr>\n",
       "    <tr>\n",
       "      <th>4</th>\n",
       "      <td>2010-01-31</td>\n",
       "      <td>0</td>\n",
       "      <td>True</td>\n",
       "      <td>13.196760</td>\n",
       "      <td>13.196777</td>\n",
       "    </tr>\n",
       "  </tbody>\n",
       "</table>\n",
       "</div>"
      ],
      "text/plain": [
       "        date  split_key  training_data    actuals  prediction\n",
       "0 2010-01-03          0           True  13.386595   13.386595\n",
       "1 2010-01-10          0           True  13.624218   13.640867\n",
       "2 2010-01-17          0           True  13.398741   13.375500\n",
       "3 2010-01-24          0           True  13.137549   13.152080\n",
       "4 2010-01-31          0           True  13.196760   13.196777"
      ]
     },
     "execution_count": 18,
     "metadata": {},
     "output_type": "execute_result"
    }
   ],
   "source": [
    "predicted_df = bt.get_predicted_df()\n",
    "predicted_df.head()"
   ]
  },
  {
   "cell_type": "markdown",
   "metadata": {},
   "source": [
    "We also provide a plotting utility to visualize the predictions against the actuals for each split."
   ]
  },
  {
   "cell_type": "code",
   "execution_count": 19,
   "metadata": {
    "ExecuteTime": {
     "end_time": "2021-09-09T23:01:50.596855Z",
     "start_time": "2021-09-09T23:01:49.880008Z"
    }
   },
   "outputs": [
    {
     "data": {
      "image/png": "[encoded data removed]",
      "text/plain": [
       "<Figure size 1600x800 with 4 Axes>"
      ]
     },
     "metadata": {},
     "output_type": "display_data"
    }
   ],
   "source": [
    "plot_bt_predictions(predicted_df, metrics=smape, ncol=2, include_vline=True);"
   ]
  },
  {
   "cell_type": "markdown",
   "metadata": {},
   "source": [
    "Users might find this useful for any custom computations that may need to be performed on the set of predicted data. Note that the columns are renamed to generic and consistent names."
   ]
  },
  {
   "cell_type": "markdown",
   "metadata": {},
   "source": [
    "Sometimes, it might be useful to match the data back to the original dataset for ad-hoc diagnostics. This can easily be done by merging back to the orignal dataset"
   ]
  },
  {
   "cell_type": "code",
   "execution_count": 20,
   "metadata": {
    "ExecuteTime": {
     "end_time": "2021-09-09T23:01:50.620324Z",
     "start_time": "2021-09-09T23:01:50.598717Z"
    }
   },
   "outputs": [
    {
     "data": {
      "text/html": [
       "<div>\n",
       "<style scoped>\n",
       "    .dataframe tbody tr th:only-of-type {\n",
       "        vertical-align: middle;\n",
       "    }\n",
       "\n",
       "    .dataframe tbody tr th {\n",
       "        vertical-align: top;\n",
       "    }\n",
       "\n",
       "    .dataframe thead th {\n",
       "        text-align: right;\n",
       "    }\n",
       "</style>\n",
       "<table border=\"1\" class=\"dataframe\">\n",
       "  <thead>\n",
       "    <tr style=\"text-align: right;\">\n",
       "      <th></th>\n",
       "      <th>date</th>\n",
       "      <th>split_key</th>\n",
       "      <th>training_data</th>\n",
       "      <th>actuals</th>\n",
       "      <th>prediction</th>\n",
       "      <th>week</th>\n",
       "      <th>claims</th>\n",
       "      <th>trend.unemploy</th>\n",
       "      <th>trend.filling</th>\n",
       "      <th>trend.job</th>\n",
       "      <th>sp500</th>\n",
       "      <th>vix</th>\n",
       "    </tr>\n",
       "  </thead>\n",
       "  <tbody>\n",
       "    <tr>\n",
       "      <th>0</th>\n",
       "      <td>2010-01-03</td>\n",
       "      <td>0</td>\n",
       "      <td>True</td>\n",
       "      <td>13.386595</td>\n",
       "      <td>13.386595</td>\n",
       "      <td>2010-01-03</td>\n",
       "      <td>13.386595</td>\n",
       "      <td>0.219882</td>\n",
       "      <td>-0.318452</td>\n",
       "      <td>0.117500</td>\n",
       "      <td>-0.417633</td>\n",
       "      <td>0.122654</td>\n",
       "    </tr>\n",
       "    <tr>\n",
       "      <th>1</th>\n",
       "      <td>2010-01-03</td>\n",
       "      <td>1</td>\n",
       "      <td>True</td>\n",
       "      <td>13.386595</td>\n",
       "      <td>13.386595</td>\n",
       "      <td>2010-01-03</td>\n",
       "      <td>13.386595</td>\n",
       "      <td>0.219882</td>\n",
       "      <td>-0.318452</td>\n",
       "      <td>0.117500</td>\n",
       "      <td>-0.417633</td>\n",
       "      <td>0.122654</td>\n",
       "    </tr>\n",
       "    <tr>\n",
       "      <th>2</th>\n",
       "      <td>2010-01-03</td>\n",
       "      <td>2</td>\n",
       "      <td>True</td>\n",
       "      <td>13.386595</td>\n",
       "      <td>13.386595</td>\n",
       "      <td>2010-01-03</td>\n",
       "      <td>13.386595</td>\n",
       "      <td>0.219882</td>\n",
       "      <td>-0.318452</td>\n",
       "      <td>0.117500</td>\n",
       "      <td>-0.417633</td>\n",
       "      <td>0.122654</td>\n",
       "    </tr>\n",
       "    <tr>\n",
       "      <th>3</th>\n",
       "      <td>2010-01-03</td>\n",
       "      <td>3</td>\n",
       "      <td>True</td>\n",
       "      <td>13.386595</td>\n",
       "      <td>13.386595</td>\n",
       "      <td>2010-01-03</td>\n",
       "      <td>13.386595</td>\n",
       "      <td>0.219882</td>\n",
       "      <td>-0.318452</td>\n",
       "      <td>0.117500</td>\n",
       "      <td>-0.417633</td>\n",
       "      <td>0.122654</td>\n",
       "    </tr>\n",
       "    <tr>\n",
       "      <th>4</th>\n",
       "      <td>2010-01-10</td>\n",
       "      <td>0</td>\n",
       "      <td>True</td>\n",
       "      <td>13.624218</td>\n",
       "      <td>13.640867</td>\n",
       "      <td>2010-01-10</td>\n",
       "      <td>13.624218</td>\n",
       "      <td>0.219882</td>\n",
       "      <td>-0.194838</td>\n",
       "      <td>0.168794</td>\n",
       "      <td>-0.425480</td>\n",
       "      <td>0.110445</td>\n",
       "    </tr>\n",
       "    <tr>\n",
       "      <th>...</th>\n",
       "      <td>...</td>\n",
       "      <td>...</td>\n",
       "      <td>...</td>\n",
       "      <td>...</td>\n",
       "      <td>...</td>\n",
       "      <td>...</td>\n",
       "      <td>...</td>\n",
       "      <td>...</td>\n",
       "      <td>...</td>\n",
       "      <td>...</td>\n",
       "      <td>...</td>\n",
       "      <td>...</td>\n",
       "    </tr>\n",
       "    <tr>\n",
       "      <th>1075</th>\n",
       "      <td>2017-12-17</td>\n",
       "      <td>3</td>\n",
       "      <td>False</td>\n",
       "      <td>12.568616</td>\n",
       "      <td>12.578723</td>\n",
       "      <td>2017-12-17</td>\n",
       "      <td>12.568616</td>\n",
       "      <td>0.298663</td>\n",
       "      <td>0.248654</td>\n",
       "      <td>-0.216869</td>\n",
       "      <td>0.434042</td>\n",
       "      <td>-0.482380</td>\n",
       "    </tr>\n",
       "    <tr>\n",
       "      <th>1076</th>\n",
       "      <td>2017-12-24</td>\n",
       "      <td>3</td>\n",
       "      <td>False</td>\n",
       "      <td>12.691451</td>\n",
       "      <td>12.682765</td>\n",
       "      <td>2017-12-24</td>\n",
       "      <td>12.691451</td>\n",
       "      <td>0.328516</td>\n",
       "      <td>0.233616</td>\n",
       "      <td>-0.358839</td>\n",
       "      <td>0.430410</td>\n",
       "      <td>-0.373389</td>\n",
       "    </tr>\n",
       "    <tr>\n",
       "      <th>1077</th>\n",
       "      <td>2017-12-31</td>\n",
       "      <td>3</td>\n",
       "      <td>False</td>\n",
       "      <td>12.769532</td>\n",
       "      <td>12.732821</td>\n",
       "      <td>2017-12-31</td>\n",
       "      <td>12.769532</td>\n",
       "      <td>0.503457</td>\n",
       "      <td>0.069313</td>\n",
       "      <td>-0.092571</td>\n",
       "      <td>0.456087</td>\n",
       "      <td>-0.553539</td>\n",
       "    </tr>\n",
       "    <tr>\n",
       "      <th>1078</th>\n",
       "      <td>2018-01-07</td>\n",
       "      <td>3</td>\n",
       "      <td>False</td>\n",
       "      <td>12.908227</td>\n",
       "      <td>12.910995</td>\n",
       "      <td>2018-01-07</td>\n",
       "      <td>12.908227</td>\n",
       "      <td>0.527849</td>\n",
       "      <td>0.051295</td>\n",
       "      <td>0.029532</td>\n",
       "      <td>0.471673</td>\n",
       "      <td>-0.456456</td>\n",
       "    </tr>\n",
       "    <tr>\n",
       "      <th>1079</th>\n",
       "      <td>2018-01-14</td>\n",
       "      <td>3</td>\n",
       "      <td>False</td>\n",
       "      <td>12.777193</td>\n",
       "      <td>12.695319</td>\n",
       "      <td>2018-01-14</td>\n",
       "      <td>12.777193</td>\n",
       "      <td>0.465717</td>\n",
       "      <td>0.032946</td>\n",
       "      <td>0.006275</td>\n",
       "      <td>0.480271</td>\n",
       "      <td>-0.352770</td>\n",
       "    </tr>\n",
       "  </tbody>\n",
       "</table>\n",
       "<p>1080 rows × 12 columns</p>\n",
       "</div>"
      ],
      "text/plain": [
       "           date  split_key  training_data    actuals  prediction       week  \\\n",
       "0    2010-01-03          0           True  13.386595   13.386595 2010-01-03   \n",
       "1    2010-01-03          1           True  13.386595   13.386595 2010-01-03   \n",
       "2    2010-01-03          2           True  13.386595   13.386595 2010-01-03   \n",
       "3    2010-01-03          3           True  13.386595   13.386595 2010-01-03   \n",
       "4    2010-01-10          0           True  13.624218   13.640867 2010-01-10   \n",
       "...         ...        ...            ...        ...         ...        ...   \n",
       "1075 2017-12-17          3          False  12.568616   12.578723 2017-12-17   \n",
       "1076 2017-12-24          3          False  12.691451   12.682765 2017-12-24   \n",
       "1077 2017-12-31          3          False  12.769532   12.732821 2017-12-31   \n",
       "1078 2018-01-07          3          False  12.908227   12.910995 2018-01-07   \n",
       "1079 2018-01-14          3          False  12.777193   12.695319 2018-01-14   \n",
       "\n",
       "         claims  trend.unemploy  trend.filling  trend.job     sp500       vix  \n",
       "0     13.386595        0.219882      -0.318452   0.117500 -0.417633  0.122654  \n",
       "1     13.386595        0.219882      -0.318452   0.117500 -0.417633  0.122654  \n",
       "2     13.386595        0.219882      -0.318452   0.117500 -0.417633  0.122654  \n",
       "3     13.386595        0.219882      -0.318452   0.117500 -0.417633  0.122654  \n",
       "4     13.624218        0.219882      -0.194838   0.168794 -0.425480  0.110445  \n",
       "...         ...             ...            ...        ...       ...       ...  \n",
       "1075  12.568616        0.298663       0.248654  -0.216869  0.434042 -0.482380  \n",
       "1076  12.691451        0.328516       0.233616  -0.358839  0.430410 -0.373389  \n",
       "1077  12.769532        0.503457       0.069313  -0.092571  0.456087 -0.553539  \n",
       "1078  12.908227        0.527849       0.051295   0.029532  0.471673 -0.456456  \n",
       "1079  12.777193        0.465717       0.032946   0.006275  0.480271 -0.352770  \n",
       "\n",
       "[1080 rows x 12 columns]"
      ]
     },
     "execution_count": 20,
     "metadata": {},
     "output_type": "execute_result"
    }
   ],
   "source": [
    "predicted_df.merge(data, left_on='date', right_on='week')"
   ]
  },
  {
   "cell_type": "markdown",
   "metadata": {},
   "source": [
    "## Backtest Scoring\n",
    "\n",
    "The main purpose of `BackTester` are the evaluation metrics. Some of the most widely used metrics are implemented and built into the `BackTester` API.\n",
    "\n",
    "The default metric list is **smape, wmape, mape, mse, mae, rmsse**."
   ]
  },
  {
   "cell_type": "code",
   "execution_count": 21,
   "metadata": {
    "ExecuteTime": {
     "end_time": "2021-09-09T23:01:50.634399Z",
     "start_time": "2021-09-09T23:01:50.622142Z"
    }
   },
   "outputs": [
    {
     "data": {
      "text/html": [
       "<div>\n",
       "<style scoped>\n",
       "    .dataframe tbody tr th:only-of-type {\n",
       "        vertical-align: middle;\n",
       "    }\n",
       "\n",
       "    .dataframe tbody tr th {\n",
       "        vertical-align: top;\n",
       "    }\n",
       "\n",
       "    .dataframe thead th {\n",
       "        text-align: right;\n",
       "    }\n",
       "</style>\n",
       "<table border=\"1\" class=\"dataframe\">\n",
       "  <thead>\n",
       "    <tr style=\"text-align: right;\">\n",
       "      <th></th>\n",
       "      <th>metric_name</th>\n",
       "      <th>metric_values</th>\n",
       "      <th>is_training_metric</th>\n",
       "    </tr>\n",
       "  </thead>\n",
       "  <tbody>\n",
       "    <tr>\n",
       "      <th>0</th>\n",
       "      <td>smape</td>\n",
       "      <td>0.006225</td>\n",
       "      <td>False</td>\n",
       "    </tr>\n",
       "    <tr>\n",
       "      <th>1</th>\n",
       "      <td>wmape</td>\n",
       "      <td>0.006215</td>\n",
       "      <td>False</td>\n",
       "    </tr>\n",
       "    <tr>\n",
       "      <th>2</th>\n",
       "      <td>mape</td>\n",
       "      <td>0.006206</td>\n",
       "      <td>False</td>\n",
       "    </tr>\n",
       "    <tr>\n",
       "      <th>3</th>\n",
       "      <td>mse</td>\n",
       "      <td>0.012128</td>\n",
       "      <td>False</td>\n",
       "    </tr>\n",
       "    <tr>\n",
       "      <th>4</th>\n",
       "      <td>mae</td>\n",
       "      <td>0.078946</td>\n",
       "      <td>False</td>\n",
       "    </tr>\n",
       "    <tr>\n",
       "      <th>5</th>\n",
       "      <td>rmsse</td>\n",
       "      <td>0.786049</td>\n",
       "      <td>False</td>\n",
       "    </tr>\n",
       "  </tbody>\n",
       "</table>\n",
       "</div>"
      ],
      "text/plain": [
       "  metric_name  metric_values  is_training_metric\n",
       "0       smape       0.006225               False\n",
       "1       wmape       0.006215               False\n",
       "2        mape       0.006206               False\n",
       "3         mse       0.012128               False\n",
       "4         mae       0.078946               False\n",
       "5       rmsse       0.786049               False"
      ]
     },
     "execution_count": 21,
     "metadata": {},
     "output_type": "execute_result"
    }
   ],
   "source": [
    "bt.score()"
   ]
  },
  {
   "cell_type": "markdown",
   "metadata": {},
   "source": [
    "It is possible to filter for only specific metrics of interest, or even implement your own callable and pass into the `score()` method. For example, see this function that uses last observed value as a predictor and computes the `mse`. Or `naive_error` which computes the error as the delta between predicted values and the training period mean. \n",
    "\n",
    "Note these are not really useful error metrics, just showing some examples of callables you can use ;)"
   ]
  },
  {
   "cell_type": "code",
   "execution_count": 22,
   "metadata": {
    "ExecuteTime": {
     "end_time": "2021-09-09T23:01:50.639637Z",
     "start_time": "2021-09-09T23:01:50.636209Z"
    },
    "code_folding": []
   },
   "outputs": [],
   "source": [
    "def mse_naive(test_actual):\n",
    "    actual = test_actual[1:]\n",
    "    predicted = test_actual[:-1]\n",
    "    return np.mean(np.square(actual - predicted))\n",
    "\n",
    "def naive_error(train_actual, test_predicted):\n",
    "    train_mean = np.mean(train_actual)\n",
    "    return np.mean(np.abs(test_predicted - train_mean))"
   ]
  },
  {
   "cell_type": "code",
   "execution_count": 23,
   "metadata": {
    "ExecuteTime": {
     "end_time": "2021-09-09T23:01:50.653457Z",
     "start_time": "2021-09-09T23:01:50.644776Z"
    }
   },
   "outputs": [
    {
     "data": {
      "text/html": [
       "<div>\n",
       "<style scoped>\n",
       "    .dataframe tbody tr th:only-of-type {\n",
       "        vertical-align: middle;\n",
       "    }\n",
       "\n",
       "    .dataframe tbody tr th {\n",
       "        vertical-align: top;\n",
       "    }\n",
       "\n",
       "    .dataframe thead th {\n",
       "        text-align: right;\n",
       "    }\n",
       "</style>\n",
       "<table border=\"1\" class=\"dataframe\">\n",
       "  <thead>\n",
       "    <tr style=\"text-align: right;\">\n",
       "      <th></th>\n",
       "      <th>metric_name</th>\n",
       "      <th>metric_values</th>\n",
       "      <th>is_training_metric</th>\n",
       "    </tr>\n",
       "  </thead>\n",
       "  <tbody>\n",
       "    <tr>\n",
       "      <th>0</th>\n",
       "      <td>mse_naive</td>\n",
       "      <td>0.019628</td>\n",
       "      <td>False</td>\n",
       "    </tr>\n",
       "    <tr>\n",
       "      <th>1</th>\n",
       "      <td>naive_error</td>\n",
       "      <td>0.227063</td>\n",
       "      <td>False</td>\n",
       "    </tr>\n",
       "  </tbody>\n",
       "</table>\n",
       "</div>"
      ],
      "text/plain": [
       "   metric_name  metric_values  is_training_metric\n",
       "0    mse_naive       0.019628               False\n",
       "1  naive_error       0.227063               False"
      ]
     },
     "execution_count": 23,
     "metadata": {},
     "output_type": "execute_result"
    }
   ],
   "source": [
    "bt.score(metrics=[mse_naive, naive_error])"
   ]
  },
  {
   "cell_type": "markdown",
   "metadata": {},
   "source": [
    "It doesn't take additional time to refit and predict the model, since the results are stored when `fit_predict()` is called. Check docstrings for function criteria that is required for it to be supported with this api."
   ]
  },
  {
   "cell_type": "markdown",
   "metadata": {},
   "source": [
    "In some cases, we may want to evaluate our metrics on both train and test data. To do this you can call score again with the following indicator"
   ]
  },
  {
   "cell_type": "code",
   "execution_count": 24,
   "metadata": {
    "ExecuteTime": {
     "end_time": "2021-09-09T23:01:50.668949Z",
     "start_time": "2021-09-09T23:01:50.656221Z"
    }
   },
   "outputs": [
    {
     "data": {
      "text/html": [
       "<div>\n",
       "<style scoped>\n",
       "    .dataframe tbody tr th:only-of-type {\n",
       "        vertical-align: middle;\n",
       "    }\n",
       "\n",
       "    .dataframe tbody tr th {\n",
       "        vertical-align: top;\n",
       "    }\n",
       "\n",
       "    .dataframe thead th {\n",
       "        text-align: right;\n",
       "    }\n",
       "</style>\n",
       "<table border=\"1\" class=\"dataframe\">\n",
       "  <thead>\n",
       "    <tr style=\"text-align: right;\">\n",
       "      <th></th>\n",
       "      <th>metric_name</th>\n",
       "      <th>metric_values</th>\n",
       "      <th>is_training_metric</th>\n",
       "    </tr>\n",
       "  </thead>\n",
       "  <tbody>\n",
       "    <tr>\n",
       "      <th>0</th>\n",
       "      <td>smape</td>\n",
       "      <td>0.006225</td>\n",
       "      <td>False</td>\n",
       "    </tr>\n",
       "    <tr>\n",
       "      <th>1</th>\n",
       "      <td>wmape</td>\n",
       "      <td>0.006215</td>\n",
       "      <td>False</td>\n",
       "    </tr>\n",
       "    <tr>\n",
       "      <th>2</th>\n",
       "      <td>mape</td>\n",
       "      <td>0.006206</td>\n",
       "      <td>False</td>\n",
       "    </tr>\n",
       "    <tr>\n",
       "      <th>3</th>\n",
       "      <td>mse</td>\n",
       "      <td>0.012128</td>\n",
       "      <td>False</td>\n",
       "    </tr>\n",
       "    <tr>\n",
       "      <th>4</th>\n",
       "      <td>mae</td>\n",
       "      <td>0.078946</td>\n",
       "      <td>False</td>\n",
       "    </tr>\n",
       "    <tr>\n",
       "      <th>5</th>\n",
       "      <td>rmsse</td>\n",
       "      <td>0.786049</td>\n",
       "      <td>False</td>\n",
       "    </tr>\n",
       "    <tr>\n",
       "      <th>6</th>\n",
       "      <td>smape</td>\n",
       "      <td>0.002688</td>\n",
       "      <td>True</td>\n",
       "    </tr>\n",
       "    <tr>\n",
       "      <th>7</th>\n",
       "      <td>wmape</td>\n",
       "      <td>0.002684</td>\n",
       "      <td>True</td>\n",
       "    </tr>\n",
       "    <tr>\n",
       "      <th>8</th>\n",
       "      <td>mape</td>\n",
       "      <td>0.002687</td>\n",
       "      <td>True</td>\n",
       "    </tr>\n",
       "    <tr>\n",
       "      <th>9</th>\n",
       "      <td>mse</td>\n",
       "      <td>0.002978</td>\n",
       "      <td>True</td>\n",
       "    </tr>\n",
       "    <tr>\n",
       "      <th>10</th>\n",
       "      <td>mae</td>\n",
       "      <td>0.034297</td>\n",
       "      <td>True</td>\n",
       "    </tr>\n",
       "  </tbody>\n",
       "</table>\n",
       "</div>"
      ],
      "text/plain": [
       "   metric_name  metric_values  is_training_metric\n",
       "0        smape       0.006225               False\n",
       "1        wmape       0.006215               False\n",
       "2         mape       0.006206               False\n",
       "3          mse       0.012128               False\n",
       "4          mae       0.078946               False\n",
       "5        rmsse       0.786049               False\n",
       "6        smape       0.002688                True\n",
       "7        wmape       0.002684                True\n",
       "8         mape       0.002687                True\n",
       "9          mse       0.002978                True\n",
       "10         mae       0.034297                True"
      ]
     },
     "execution_count": 24,
     "metadata": {},
     "output_type": "execute_result"
    }
   ],
   "source": [
    "bt.score(include_training_metrics=True)"
   ]
  },
  {
   "cell_type": "markdown",
   "metadata": {},
   "source": [
    "## Backtest Get Models\n",
    "\n",
    "In cases where `BackTester` doesn't cut it or for more custom use-cases, there's an interface to export the `TimeSeriesSplitter` and predicted data, as shown earlier. It's also possible to get each of the fitted models for deeper diving"
   ]
  },
  {
   "cell_type": "code",
   "execution_count": 25,
   "metadata": {
    "ExecuteTime": {
     "end_time": "2021-09-09T23:01:50.676379Z",
     "start_time": "2021-09-09T23:01:50.670914Z"
    }
   },
   "outputs": [],
   "source": [
    "fitted_models = bt.get_fitted_models()"
   ]
  },
  {
   "cell_type": "code",
   "execution_count": 26,
   "metadata": {
    "ExecuteTime": {
     "end_time": "2021-09-09T23:01:50.689946Z",
     "start_time": "2021-09-09T23:01:50.679104Z"
    }
   },
   "outputs": [
    {
     "data": {
      "text/html": [
       "<div>\n",
       "<style scoped>\n",
       "    .dataframe tbody tr th:only-of-type {\n",
       "        vertical-align: middle;\n",
       "    }\n",
       "\n",
       "    .dataframe tbody tr th {\n",
       "        vertical-align: top;\n",
       "    }\n",
       "\n",
       "    .dataframe thead th {\n",
       "        text-align: right;\n",
       "    }\n",
       "</style>\n",
       "<table border=\"1\" class=\"dataframe\">\n",
       "  <thead>\n",
       "    <tr style=\"text-align: right;\">\n",
       "      <th></th>\n",
       "      <th>regressor</th>\n",
       "      <th>regressor_sign</th>\n",
       "      <th>coefficient</th>\n",
       "    </tr>\n",
       "  </thead>\n",
       "  <tbody>\n",
       "    <tr>\n",
       "      <th>0</th>\n",
       "      <td>trend.unemploy</td>\n",
       "      <td>Regular</td>\n",
       "      <td>-0.049384</td>\n",
       "    </tr>\n",
       "    <tr>\n",
       "      <th>1</th>\n",
       "      <td>trend.filling</td>\n",
       "      <td>Regular</td>\n",
       "      <td>-0.034050</td>\n",
       "    </tr>\n",
       "    <tr>\n",
       "      <th>2</th>\n",
       "      <td>trend.job</td>\n",
       "      <td>Regular</td>\n",
       "      <td>0.274457</td>\n",
       "    </tr>\n",
       "  </tbody>\n",
       "</table>\n",
       "</div>"
      ],
      "text/plain": [
       "        regressor regressor_sign  coefficient\n",
       "0  trend.unemploy        Regular    -0.049384\n",
       "1   trend.filling        Regular    -0.034050\n",
       "2       trend.job        Regular     0.274457"
      ]
     },
     "execution_count": 26,
     "metadata": {},
     "output_type": "execute_result"
    }
   ],
   "source": [
    "model_1 = fitted_models[0]\n",
    "model_1.get_regression_coefs()"
   ]
  },
  {
   "cell_type": "markdown",
   "metadata": {},
   "source": [
    "BackTester composes a TimeSeriesSplitter within it, but TimeSeriesSplitter can also be created on its own as a standalone object. See section below on TimeSeriesSplitter for more details on how to use the splitter.\n",
    "\n",
    "All of the additional TimeSeriesSplitter args can also be passed into BackTester on instantiation"
   ]
  },
  {
   "cell_type": "code",
   "execution_count": 27,
   "metadata": {
    "ExecuteTime": {
     "end_time": "2021-09-09T23:01:50.926244Z",
     "start_time": "2021-09-09T23:01:50.692195Z"
    }
   },
   "outputs": [
    {
     "data": {
      "image/png": "[encoded data removed]",
      "text/plain": [
       "<Figure size 2000x400 with 1 Axes>"
      ]
     },
     "metadata": {},
     "output_type": "display_data"
    }
   ],
   "source": [
    "ts_splitter = bt.get_splitter()\n",
    "_ = ts_splitter.plot()"
   ]
  },
  {
   "cell_type": "markdown",
   "metadata": {},
   "source": [
    "## Hyperparameter Tunning\n",
    "After seeing the results fromt the backtest, users may wish to fine tune the hyperparmeters. Orbit also provide a `grid_search_orbit` utilities for parameter searching. It uses `Backtester` under the hood so users can compare backtest metrics for different paramters combination."
   ]
  },
  {
   "cell_type": "code",
   "execution_count": 28,
   "metadata": {
    "ExecuteTime": {
     "end_time": "2021-09-09T23:01:50.930941Z",
     "start_time": "2021-09-09T23:01:50.927969Z"
    }
   },
   "outputs": [],
   "source": [
    "from orbit.utils.params_tuning import grid_search_orbit"
   ]
  },
  {
   "cell_type": "code",
   "execution_count": 29,
   "metadata": {
    "ExecuteTime": {
     "end_time": "2021-09-09T23:01:50.935108Z",
     "start_time": "2021-09-09T23:01:50.932799Z"
    }
   },
   "outputs": [],
   "source": [
    "# defining the search space for level smoothing paramter and seasonality smooth paramter\n",
    "param_grid = {\n",
    "    'level_sm_input': [0.3, 0.5, 0.8],  \n",
    "    'seasonality_sm_input': [0.3, 0.5, 0.8],\n",
    "}"
   ]
  },
  {
   "cell_type": "code",
   "execution_count": 30,
   "metadata": {
    "ExecuteTime": {
     "end_time": "2021-09-09T23:01:54.974654Z",
     "start_time": "2021-09-09T23:01:50.938985Z"
    }
   },
   "outputs": [
    {
     "name": "stderr",
     "output_type": "stream",
     "text": [
      "  0%|                                                                                                                              | 0/9 [00:00<?, ?it/s]"
     ]
    },
    {
     "name": "stdout",
     "output_type": "stream",
     "text": [
      "tuning hyper-params {'level_sm_input': 0.3, 'seasonality_sm_input': 0.3}\n",
      "Initial log joint probability = 395.935\n",
      "    Iter      log prob        ||dx||      ||grad||       alpha      alpha0  # evals  Notes \n",
      "      19       710.489      0.194312       96.0525           1           1       21   \n",
      "    Iter      log prob        ||dx||      ||grad||       alpha      alpha0  # evals  Notes \n",
      "      39       725.164       0.22436       72.5081           1           1       41   \n",
      "    Iter      log prob        ||dx||      ||grad||       alpha      alpha0  # evals  Notes \n",
      "      59       738.725     0.0681122       13.7026      0.1554           1       63   \n",
      "    Iter      log prob        ||dx||      ||grad||       alpha      alpha0  # evals  Notes \n",
      "      79       739.272     0.0279381       4.14341           1           1       84   \n",
      "    Iter      log prob        ||dx||      ||grad||       alpha      alpha0  # evals  Notes \n",
      "      99        739.59     0.0487181        2.2363           1           1      106   \n",
      "    Iter      log prob        ||dx||      ||grad||       alpha      alpha0  # evals  Notes \n",
      "     119       739.617     0.0638805       1.31236      0.5018           1      129   \n",
      "    Iter      log prob        ||dx||      ||grad||       alpha      alpha0  # evals  Notes \n",
      "     139       739.623    0.00890923      0.384075           1           1      151   \n",
      "    Iter      log prob        ||dx||      ||grad||       alpha      alpha0  # evals  Notes \n",
      "     159       739.625     0.0146935      0.270536           1           1      171   \n",
      "    Iter      log prob        ||dx||      ||grad||       alpha      alpha0  # evals  Notes \n",
      "     179       739.625      0.129765      0.108159           1           1      195   \n",
      "    Iter      log prob        ||dx||      ||grad||       alpha      alpha0  # evals  Notes \n",
      "     199       739.626       3.47959       0.32802           1           1      216   \n",
      "    Iter      log prob        ||dx||      ||grad||       alpha      alpha0  # evals  Notes \n",
      "     219       739.628       1.28017      0.116969      0.1483           1      241   \n",
      "    Iter      log prob        ||dx||      ||grad||       alpha      alpha0  # evals  Notes \n",
      "     228       739.628      0.370975     0.0338405           1           1      251   \n",
      "Optimization terminated normally: \n",
      "  Convergence detected: relative gradient magnitude is below tolerance\n"
     ]
    },
    {
     "name": "stderr",
     "output_type": "stream",
     "text": [
      " 11%|█████████████                                                                                                         | 1/9 [00:00<00:03,  2.35it/s]"
     ]
    },
    {
     "name": "stdout",
     "output_type": "stream",
     "text": [
      "Initial log joint probability = 433.198\n",
      "    Iter      log prob        ||dx||      ||grad||       alpha      alpha0  # evals  Notes \n",
      "      19       752.628     0.0137588       141.329       0.515       0.515       21   \n",
      "    Iter      log prob        ||dx||      ||grad||       alpha      alpha0  # evals  Notes \n",
      "      39       771.362     0.0222613       47.1086           1           1       41   \n",
      "    Iter      log prob        ||dx||      ||grad||       alpha      alpha0  # evals  Notes \n",
      "      59       779.831     0.0166068       10.1563           1           1       63   \n",
      "    Iter      log prob        ||dx||      ||grad||       alpha      alpha0  # evals  Notes \n",
      "      79       780.166     0.0571755       18.5855      0.2694           1       86   \n",
      "    Iter      log prob        ||dx||      ||grad||       alpha      alpha0  # evals  Notes \n",
      "      99       780.645     0.0811474       4.44921           1           1      106   \n",
      "    Iter      log prob        ||dx||      ||grad||       alpha      alpha0  # evals  Notes \n",
      "     119       780.713     0.0512259       1.10994           1           1      129   \n",
      "    Iter      log prob        ||dx||      ||grad||       alpha      alpha0  # evals  Notes \n",
      "     139       780.721     0.0407237       1.13811      0.3232      0.3232      151   \n",
      "    Iter      log prob        ||dx||      ||grad||       alpha      alpha0  # evals  Notes \n",
      "     159       780.727     0.0296452      0.485873           1           1      173   \n",
      "    Iter      log prob        ||dx||      ||grad||       alpha      alpha0  # evals  Notes \n",
      "     179       780.729      0.376704       0.20871           1           1      193   \n",
      "    Iter      log prob        ||dx||      ||grad||       alpha      alpha0  # evals  Notes \n",
      "     199        780.73      0.527737     0.0723882           1           1      217   \n",
      "    Iter      log prob        ||dx||      ||grad||       alpha      alpha0  # evals  Notes \n",
      "     219       780.731       14.8536      0.415261           1           1      239   \n",
      "    Iter      log prob        ||dx||      ||grad||       alpha      alpha0  # evals  Notes \n",
      "     238       780.732       1.43921     0.0346277       1.162      0.1162      262   \n",
      "Optimization terminated normally: \n",
      "  Convergence detected: relative gradient magnitude is below tolerance\n",
      "Initial log joint probability = 437.842\n",
      "    Iter      log prob        ||dx||      ||grad||       alpha      alpha0  # evals  Notes \n",
      "      19       779.197      0.204115       69.4077           1           1       22   \n",
      "    Iter      log prob        ||dx||      ||grad||       alpha      alpha0  # evals  Notes \n",
      "      39       798.963      0.681358       44.6385           1           1       42   \n",
      "    Iter      log prob        ||dx||      ||grad||       alpha      alpha0  # evals  Notes \n",
      "      59       805.772      0.124683       15.4342           1           1       65   \n",
      "    Iter      log prob        ||dx||      ||grad||       alpha      alpha0  # evals  Notes \n",
      "      79       806.464     0.0186887       5.25769           1           1       87   \n",
      "    Iter      log prob        ||dx||      ||grad||       alpha      alpha0  # evals  Notes \n",
      "      99       806.577     0.0244399       4.15317        0.67        0.67      109   \n",
      "    Iter      log prob        ||dx||      ||grad||       alpha      alpha0  # evals  Notes \n",
      "     119     tuning metric:0.0049016\n",
      "tuning hyper-params {'level_sm_input': 0.3, 'seasonality_sm_input': 0.5}\n",
      "  806.649     0.0209501       1.01505           1           1      129   \n",
      "    Iter      log prob        ||dx||      ||grad||       alpha      alpha0  # evals  Notes \n",
      "     139       806.655     0.0095139      0.760729           1           1      151   \n",
      "    Iter      log prob        ||dx||      ||grad||       alpha      alpha0  # evals  Notes \n",
      "     159       806.658      0.126069      0.957187           1           1      173   \n",
      "    Iter      log prob        ||dx||      ||grad||       alpha      alpha0  # evals  Notes \n",
      "     179       806.672     0.0727805      0.540085           1           1      194   \n",
      "    Iter      log prob        ||dx||      ||grad||       alpha      alpha0  # evals  Notes \n",
      "     199       806.673     0.0472371      0.199858           1           1      216   \n",
      "    Iter      log prob        ||dx||      ||grad||       alpha      alpha0  # evals  Notes \n",
      "     219       806.674       2.74636      0.303435           1           1      241   \n",
      "    Iter      log prob        ||dx||      ||grad||       alpha      alpha0  # evals  Notes \n",
      "     238       806.674     0.0138201     0.0739161           1           1      261   \n",
      "Optimization terminated normally: \n",
      "  Convergence detected: relative gradient magnitude is below tolerance\n",
      "Initial log joint probability = 403.01\n",
      "    Iter      log prob        ||dx||      ||grad||       alpha      alpha0  # evals  Notes \n",
      "      19       732.212      0.213234       31.3449           1           1       24   \n",
      "    Iter      log prob        ||dx||      ||grad||       alpha      alpha0  # evals  Notes \n",
      "      39       746.651      0.118389       32.5633           1           1       45   \n",
      "    Iter      log prob        ||dx||      ||grad||       alpha      alpha0  # evals  Notes \n",
      "      59       753.827      0.582227        47.255           1           1       66   \n",
      "    Iter      log prob        ||dx||      ||grad||       alpha      alpha0  # evals  Notes \n",
      "      79       755.128      0.486885       5.96371           1           1       88   \n",
      "    Iter      log prob        ||dx||      ||grad||       alpha      alpha0  # evals  Notes \n",
      "      99       755.304     0.0183173        3.7773      0.2389      0.2389      111   \n",
      "    Iter      log prob        ||dx||      ||grad||       alpha      alpha0  # evals  Notes \n",
      "     119       755.324     0.0300711      0.597416           1           1      132   \n",
      "    Iter      log prob        ||dx||      ||grad||       alpha      alpha0  # evals  Notes \n",
      "     139        755.33      0.113557       1.06442           1           1      152   \n",
      "    Iter      log prob        ||dx||      ||grad||       alpha      alpha0  # evals  Notes \n",
      "     159       755.331     0.0881276      0.252219      0.1689           1      173   \n",
      "    Iter      log prob        ||dx||      ||grad||       alpha      alpha0  # evals  Notes \n",
      "     179       755.332        0.2442      0.245806      0.4096           1      195   \n",
      "    Iter      log prob        ||dx||      ||grad||       alpha      alpha0  # evals  Notes \n",
      "     199       755.332      0.131865      0.182145      0.3418      0.3418      218   \n",
      "    Iter      log prob        ||dx||      ||grad||       alpha      alpha0  # evals  Notes \n",
      "     219       755.334       3.09087      0.213528           1           1      238   \n",
      "    Iter      log prob        ||dx||      ||grad||       alpha      alpha0  # evals  Notes \n",
      "     232       755.334      0.536351     0.0437695           1           1      252   \n",
      "Optimization terminated normally: \n",
      "  Convergence detected: relative gradient magnitude is below tolerance\n",
      "Initial log joint probability = 436.947\n",
      "    Iter      log prob        ||dx||      ||grad||       alpha      alpha0  # evals  Notes \n",
      "      19        775.32     0.0557594       28.5127      0.9992      0.9992       22   \n",
      "    Iter      log prob        ||dx||      ||grad||       alpha      alpha0  # evals  Notes \n",
      "      39       795.165      0.193283       29.7352      0.8003      0.8003       44   \n",
      "    Iter      log prob        ||dx||      ||grad||       alpha      alpha0  # evals  Notes \n",
      "      59       798.557      0.115699       15.2718      0.9131      0.9131       64   \n",
      "    Iter      log prob        ||dx||      ||grad||       alpha      alpha0  # evals  Notes \n",
      "      79       799.159       0.10502       3.04556           1           1       86   \n",
      "    Iter      log prob        ||dx||      ||grad||       alpha      alpha0  # evals  Notes \n",
      "      99       799.216      0.130141       2.77668           1           1      107   \n",
      "    Iter      log prob        ||dx||      ||grad||       alpha      alpha0  # evals  Notes \n",
      "     119       799.246      0.122849       1.35161      0.2204           1      130   \n",
      "    Iter      log prob        ||dx||      ||grad||       alpha      alpha0  # evals  Notes \n",
      "     139       799.251     0.0210046      0.487508      0.2958      0.2958      155   \n",
      "    Iter      log prob        ||dx||      ||grad||       alpha      alpha0  # evals  Notes \n",
      "     159       799.251      0.102891      0.209166           1           1      177   \n",
      "    Iter      log prob        ||dx||      ||grad||       alpha      alpha0  # evals  Notes \n",
      "     179       799.252     0.0688772      0.110814           1           1      200   \n",
      "    Iter      log prob        ||dx||      ||grad||       alpha      alpha0  # evals  Notes \n",
      "     199       799.252      0.968264       0.32772           1           1      224   \n",
      "    Iter      log prob        ||dx||      ||grad||       alpha      alpha0  # evals  Notes \n",
      "     219       799.254       2.54129      0.089021           1           1      245   \n",
      "    Iter      log prob        ||dx||      ||grad||       alpha      alpha0  # evals  Notes \n",
      "     221       799.254      0.858967      0.100408           1           1      247   \n",
      "Optimization terminated normally: \n",
      "  Convergence detected: relative gradient magnitude is below tolerance\n",
      "Initial log joint probability = 444.706\n",
      "    Iter      log prob        ||dx||      ||grad||       alpha      alpha0  # evals  Notes \n",
      "      19       804.184     "
     ]
    },
    {
     "name": "stderr",
     "output_type": "stream",
     "text": [
      " 22%|██████████████████████████▏                                                                                           | 2/9 [00:00<00:02,  2.86it/s]"
     ]
    },
    {
     "name": "stdout",
     "output_type": "stream",
     "text": [
      "tuning metric:0.0040405\n",
      "tuning hyper-params {'level_sm_input': 0.3, 'seasonality_sm_input': 0.8}\n",
      "0.0626012        48.765           1           1       25   \n",
      "    Iter      log prob        ||dx||      ||grad||       alpha      alpha0  # evals  Notes \n",
      "      39       824.317      0.328152       67.0866           1           1       46   \n",
      "    Iter      log prob        ||dx||      ||grad||       alpha      alpha0  # evals  Notes \n",
      "      59       828.028     0.0996461       7.96779           1           1       67   \n",
      "    Iter      log prob        ||dx||      ||grad||       alpha      alpha0  # evals  Notes \n",
      "      79         828.5      0.121472        4.8439           1           1       87   \n",
      "    Iter      log prob        ||dx||      ||grad||       alpha      alpha0  # evals  Notes \n",
      "      99       828.568     0.0069367       1.58066           1           1      107   \n",
      "    Iter      log prob        ||dx||      ||grad||       alpha      alpha0  # evals  Notes \n",
      "     119       828.603      0.445858       2.29938           1           1      131   \n",
      "    Iter      log prob        ||dx||      ||grad||       alpha      alpha0  # evals  Notes \n",
      "     139       828.605    0.00877608        0.2706        0.27        0.27      152   \n",
      "    Iter      log prob        ||dx||      ||grad||       alpha      alpha0  # evals  Notes \n",
      "     159       828.606        1.4425      0.222347           1           1      173   \n",
      "    Iter      log prob        ||dx||      ||grad||       alpha      alpha0  # evals  Notes \n",
      "     179       828.608       2.72187      0.475605      0.1657           1      196   \n",
      "    Iter      log prob        ||dx||      ||grad||       alpha      alpha0  # evals  Notes \n",
      "     188       828.608      0.253741     0.0443582      0.8777      0.8777      206   \n",
      "Optimization terminated normally: \n",
      "  Convergence detected: relative gradient magnitude is below tolerance\n",
      "Initial log joint probability = 406.596\n",
      "    Iter      log prob        ||dx||      ||grad||       alpha      alpha0  # evals  Notes \n",
      "      19       741.663     0.0519072       35.6867      0.8136      0.8136       24   \n",
      "    Iter      log prob        ||dx||      ||grad||       alpha      alpha0  # evals  Notes \n",
      "      39       755.985      0.137534       63.0281      0.2695           1       45   \n",
      "    Iter      log prob        ||dx||      ||grad||       alpha      alpha0  # evals  Notes \n",
      "      59       764.426     0.0746061       22.0316           1           1       65   \n",
      "    Iter      log prob        ||dx||      ||grad||       alpha      alpha0  # evals  Notes \n",
      "      79       764.991     0.0172102       2.84089      0.4975           1       87   \n",
      "    Iter      log prob        ||dx||      ||grad||       alpha      alpha0  # evals  Notes \n",
      "      99       765.078     0.0232162       3.10248           1           1      108   \n",
      "    Iter      log prob        ||dx||      ||grad||       alpha      alpha0  # evals  Notes \n",
      "     119       765.164      0.115116      0.862139           1           1      129   \n",
      "    Iter      log prob        ||dx||      ||grad||       alpha      alpha0  # evals  Notes \n",
      "     139       765.168    0.00131787       0.57118        0.55        0.55      151   \n",
      "    Iter      log prob        ||dx||      ||grad||       alpha      alpha0  # evals  Notes \n",
      "     159       765.169      0.022986      0.625307           1           1      171   \n",
      "    Iter      log prob        ||dx||      ||grad||       alpha      alpha0  # evals  Notes \n",
      "     179        765.17       0.36739       1.63647           1           1      192   \n",
      "    Iter      log prob        ||dx||      ||grad||       alpha      alpha0  # evals  Notes \n",
      "     199       765.173      0.113367      0.149732           1           1      212   \n",
      "    Iter      log prob        ||dx||      ||grad||       alpha      alpha0  # evals  Notes \n",
      "     219       765.174      0.390718      0.533476      0.3738           1      235   \n",
      "    Iter      log prob        ||dx||      ||grad||       alpha      alpha0  # evals  Notes \n",
      "     239       765.175      0.585939      0.147889           1           1      257   \n",
      "    Iter      log prob        ||dx|"
     ]
    },
    {
     "name": "stderr",
     "output_type": "stream",
     "text": [
      " 33%|███████████████████████████████████████▎                                                                              | 3/9 [00:01<00:01,  3.10it/s]"
     ]
    },
    {
     "name": "stdout",
     "output_type": "stream",
     "text": [
      "|      ||grad||       alpha      alpha0  # evals  Notes \n",
      "     249       765.175    0.00589846     0.0243465      0.2029           1      269   \n",
      "Optimization terminated normally: \n",
      "  Convergence detected: relative gradient magnitude is below tolerance\n",
      "Initial log joint probability = 437.98\n",
      "    Iter      log prob        ||dx||      ||grad||       alpha      alpha0  # evals  Notes \n",
      "      19        789.18      0.127382       92.5089      0.4171           1       27   \n",
      "    Iter      log prob        ||dx||      ||grad||       alpha      alpha0  # evals  Notes \n",
      "      39       807.403      0.393884       33.6209           1           1       48   \n",
      "    Iter      log prob        ||dx||      ||grad||       alpha      alpha0  # evals  Notes \n",
      "      59       811.505     0.0779698        5.7524           1           1       70   \n",
      "    Iter      log prob        ||dx||      ||grad||       alpha      alpha0  # evals  Notes \n",
      "      79       811.731     0.0322381       6.70823      0.5631      0.5631       92   \n",
      "    Iter      log prob        ||dx||      ||grad||       alpha      alpha0  # evals  Notes \n",
      "      99       811.847      0.141292       1.83722           1           1      117   \n",
      "    Iter      log prob        ||dx||      ||grad||       alpha      alpha0  # evals  Notes \n",
      "     119       811.869     0.0234721      0.365334           1           1      138   \n",
      "    Iter      log prob        ||dx||      ||grad||       alpha      alpha0  # evals  Notes \n",
      "     139        811.87    0.00520069       0.48839      0.4173      0.4173      159   \n",
      "    Iter      log prob        ||dx||      ||grad||       alpha      alpha0  # evals  Notes \n",
      "     159       811.871      0.124987      0.872774           1           1      180   \n",
      "    Iter      log prob        ||dx||      ||grad||       alpha      alpha0  # evals  Notes \n",
      "     179       811.872     0.0561764      0.148895           1           1      201   \n",
      "    Iter      log prob        ||dx||      ||grad||       alpha      alpha0  # evals  Notes \n",
      "     199       811.873      0.456188      0.521497           1           1      222   \n",
      "    Iter      log prob        ||dx||      ||grad||       alpha      alpha0  # evals  Notes \n",
      "     219       811.873       3.53874      0.328224           1           1      246   \n",
      "    Iter      log prob        ||dx||      ||grad||       alpha      alpha0  # evals  Notes \n",
      "     237       811.875     0.0285957     0.0539236      0.5966      0.5966      265   \n",
      "Optimization terminated normally: \n",
      "  Convergence detected: relative gradient magnitude is below tolerance\n",
      "Initial log joint probability = 446.334\n",
      "    Iter      log prob        ||dx||      ||grad||       alpha      alpha0  # evals  Notes \n",
      "      19       819.311     0.0730035       34.5767           1           1       22   \n",
      "    Iter      log prob        ||dx||      ||grad||       alpha      alpha0  # evals  Notes \n",
      "      39       835.196     0.0453654       48.5398      0.2736      0.2736       44   \n",
      "    Iter      log prob        ||dx||      ||grad||       alpha      alpha0  # evals  Notes \n",
      "      59        840.96     0.0368286       18.2142      0.5404      0.5404       68   \n",
      "    Iter      log prob        ||dx||      ||grad||       alpha      alpha0  # evals  Notes \n",
      "      79       841.695     0.0935022       2.90621           1           1       90   \n",
      "    Iter      log prob        ||dx||      ||grad||       alpha      alpha0  # evals  Notes \n",
      "      99       841.842      0.319939       2.67425           1           1      111   \n",
      "    Iter      log prob        ||dx||      ||grad||       alpha      alpha0  # evals  Notes \n",
      "     119       841.882     0.0018308      0.450355           1           1      132   \n",
      "    Iter      log prob        ||dx||      ||grad||       alpha      alpha0  # evals  Notes \n",
      "     139       841.885      0.337003       1.28173           1           1      154   \n",
      "    Iter      log prob        ||dx||      ||grad||       alpha      alpha0  # evals  Notes \n",
      "     159       841.887     0.0585792      0.142157      0.7582      0.7582      176   \n",
      "    Iter      log prob        ||dx||      ||grad||       alpha      alpha0  # evals  Notes \n",
      "     179       841.888      0.469034       0.20839           1           1      197   \n",
      "    Iter      log prob        ||dx||      ||grad||       alpha      alpha0  # evals  Notes \n",
      "     199        841.89       8.69839      0.326291           1           1      220   \n",
      "    Iter      log prob        ||dx||      ||grad||       alpha      alpha0  # evals  Notes \n",
      "     211        841.89     0.0337677     0.0417683           1           1      233   \n",
      "Optimization terminated normally: \n",
      "  Convergence detected: relative gradient magnitude is below tolerance\n",
      "tuning metric:0.0036083\n",
      "tuning hyper-params {'level_sm_input': 0.5, 'seasonality_sm_input': 0.3}\n",
      "Initial log joint probability = 392.718\n",
      "    Iter      log prob        ||dx||      ||grad||       alpha      alpha0  # evals  Notes \n",
      "      19       682.989     0.0438698         47.85       0.832       0.832       22   \n",
      "    Iter      log prob        ||dx||      ||grad||       alpha      alpha0  # evals  Notes \n",
      "      39       701.415     0.0560958       15.8669           1           1       43   \n",
      "    Iter      log prob        ||dx||      ||grad||       alpha      alpha0  # evals  Notes \n",
      "      59       709.571      0.320484       79.9861           1           1       64   \n",
      "    Iter      log prob        ||dx||      ||grad||       alpha      alpha0  # evals  Notes \n",
      "      79       711.341     0.0832318       9.06875           1           1       84   \n",
      "    Iter      log prob        ||dx||      ||grad||       alpha      alpha0  # evals  Notes \n",
      "      99        711.59     0.0104492       1.96945           1           1      109   \n",
      "    Iter      log prob        ||dx||      ||grad||       alpha      alpha0  # evals  Notes \n",
      "     119       711.721     0.0150877       3.47972           1           1      132   \n",
      "    Iter      log prob        ||dx||      ||grad||       alpha      alpha0  # evals  Notes \n",
      "     139       711.849      0.056478       3.87767      0.3435           1      159   \n",
      "    Iter      log prob        ||dx||      ||grad||       alpha      alpha0  # evals  Notes \n",
      "     159       712.014      0.101126       5.53451      0.4832           1      180   \n",
      "    Iter      log prob        ||dx||      ||grad||       alpha      alpha0  # evals  Notes \n",
      "     179       712.067     0.0437035      0.993506           1           1      202   \n",
      "    Iter      log prob        ||dx||      ||grad||       alpha      alpha0  # evals  Notes \n",
      "     199       712.073     0.0113062      0.903117           1           1      224   \n",
      "    Iter      log prob        ||dx||      ||grad||       alpha      alpha0  # evals  Notes \n",
      "     219       712.074     0.0386664      0.504627           1           1      245   \n",
      "    Iter      log prob        ||dx||      ||grad||       alpha      alpha0  # evals  Notes \n",
      "     239       712.079     0.0159051      0.851109           1           1      266   \n",
      "    Iter      log prob        ||dx||      ||grad||       alpha      alpha0  # evals  Notes \n",
      "     259       712.081     0.0407498      0.369781           1           1      287   \n",
      "    Iter      log prob        ||dx||      ||grad||       alpha      alpha0  # evals  Notes \n",
      "     279       712.082     0.0206331        0.2243           1           1      310   \n",
      "    Iter      log prob        ||dx||      ||grad||       alpha      alpha0  # evals  Notes \n",
      "     299       712.083     0.0402879       0.10055           1           1      335   \n",
      "    Iter      log prob        ||dx||      ||grad||       alpha      alpha0  # evals  Notes \n",
      "     319       712.083      0.519656      0.694421           1           1      359   \n",
      "    Iter      log prob        ||dx||      ||grad||       alpha      alpha0  # evals  Notes \n",
      "     339       712.084      0.190822      0.335248           1           1      379   \n",
      "    Iter      log prob        ||dx||      ||grad||       alpha      alpha0  # evals  Notes \n",
      "     359       712.085      0.362728     0.0726732           1           1      404   \n",
      "    Iter      log prob        ||dx||      ||grad||       alpha      alpha0  # evals  Notes \n",
      "     370       712.085      0.253532     0.0654855      0.9101      0.9101      415   \n",
      "Optimization terminated normally: \n",
      "  Convergence detected: relative gradient magnitude is below tolerance\n"
     ]
    },
    {
     "name": "stderr",
     "output_type": "stream",
     "text": [
      " 44%|████████████████████████████████████████████████████▍                                                                 | 4/9 [00:01<00:01,  2.86it/s]"
     ]
    },
    {
     "name": "stdout",
     "output_type": "stream",
     "text": [
      "Initial log joint probability = 435.011\n",
      "    Iter      log prob        ||dx||      ||grad||       alpha      alpha0  # evals  Notes \n",
      "      19       719.217     0.0865215       76.9894           1           1       24   \n",
      "    Iter      log prob        ||dx||      ||grad||       alpha      alpha0  # evals  Notes \n",
      "      39       738.219     0.0390455       31.4622      0.8249      0.8249       46   \n",
      "    Iter      log prob        ||dx||      ||grad||       alpha      alpha0  # evals  Notes \n",
      "      59       746.592      0.148005       24.7103           1           1       69   \n",
      "    Iter      log prob        ||dx||      ||grad||       alpha      alpha0  # evals  Notes \n",
      "      79        749.06     0.0422096       14.8467           1           1       93   \n",
      "    Iter      log prob        ||dx||      ||grad||       alpha      alpha0  # evals  Notes \n",
      "      99       749.797    0.00668028       5.99613           1           1      114   \n",
      "    Iter      log prob        ||dx||      ||grad||       alpha      alpha0  # evals  Notes \n",
      "     119       750.098     0.0773618       11.6783           1           1      140   \n",
      "    Iter      log prob        ||dx||      ||grad||       alpha      alpha0  # evals  Notes \n",
      "     139       750.298     0.0166592       2.05594       0.175           1      164   \n",
      "    Iter      log prob        ||dx||      ||grad||       alpha      alpha0  # evals  Notes \n",
      "     159       750.325     0.0862421        1.7644           1           1      185   \n",
      "    Iter      log prob        ||dx||      ||grad||       alpha      alpha0  # evals  Notes \n",
      "     179       750.337     0.0149879       2.17316        0.17           1      210   \n",
      "    Iter      log prob        ||dx||      ||grad||       alpha      alpha0  # evals  Notes \n",
      "     199       750.339     0.0430046      0.728774           1           1      232   \n",
      "    Iter      log prob        ||dx||      ||grad||       alpha      alpha0  # evals  Notes \n",
      "     219       750.344     0.0919496      0.632651           1           1      253   \n",
      "    Iter      log prob        ||dx||      ||grad||       alpha      alpha0  # evals  Notes \n",
      "     239       750.344     0.0436256      0.187007           1           1      273   \n",
      "    Iter      log prob        ||dx||      ||grad||       alpha      alpha0  # evals  Notes \n",
      "     259       750.345     0.0660886      0.329152           1           1      295   \n",
      "    Iter      log prob        ||dx||      ||grad||       alpha      alpha0  # evals  Notes \n",
      "     279       750.345       0.29156      0.128768           1           1      316   \n",
      "    Iter      log prob        ||dx||      ||grad||       alpha      alpha0  # evals  Notes \n",
      "     299       750.346      0.782186      0.252554           1           1      340   \n",
      "    Iter      log prob        ||dx||      ||grad||       alpha      alpha0  # evals  Notes \n",
      "     319       750.347      0.356026     0.0507982           1           1      364   \n",
      "Optimization terminated normally: \n",
      "  Convergence detected: relative gradient magnitude is below tolerance\n",
      "Initial log joint probability = 439.631\n",
      "    Iter      log prob        ||dx||      ||grad||       alpha      alpha0  # evals  Notes \n",
      "      19        739.15     0.0170039       38.1735           1           1       21   \n",
      "    Iter      log prob        ||dx||      ||grad||       alpha      alpha0  # evals  Notes \n",
      "      39       760.802      0.142695       46.2528           1           1       41   \n",
      "    Iter      log prob        ||dx||      ||grad||       alpha      alpha0  # evals  Notes \n",
      "      59       768.668        0.1012       70.0146      0.3021           1       64   \n",
      "    Iter      log prob        ||dx||      ||grad||       alpha      alpha0  # evals  Notes \n",
      "      79       772.729      0.624506       68.4574           1           1       86   \n",
      "    Iter      log prob        ||dx||      ||grad||       alpha      alpha0  # evals  Notes \n",
      "      99       775.513     0.0256332       5.60358           1           1      108   \n",
      "    Iter      log prob        ||dx||      ||grad||       alpha      alpha0  # evals  Notes \n",
      "     119       775.618     0.0572604       6.38367           1           1      131   \n",
      "    Iter      log prob        ||dx||      ||grad||       alpha      alpha0  # evals  Notes \n",
      "     139       775.716     0.0703356       3.57555           1           1      155   \n",
      "    Iter      log prob        ||dx||      ||grad||       alpha      alpha0  # evals  Notes \n",
      "     159       775.763     0.0546477      0.923439           1           1      180   \n",
      "    Iter      log prob        ||dx||      ||grad||       alpha      alpha0  # evals  Notes \n",
      "     179       775.773     0.0173084       1.16189           1           1      205   \n",
      "    Iter      log prob        ||dx||      ||grad||       alpha      alpha0  # evals  Notes \n",
      "     199       775.784      0.002966       1.05626           1           1      226   \n",
      "    Iter      log prob        ||dx||      ||grad||       alpha      alpha0  # evals  Notes \n",
      "     219       775.786    0.00328754      0.217558           1           1      250   \n",
      "    Iter      log prob        ||dx||      ||grad||       alpha      alpha0  # evals  Notes \n",
      "     239       775.786     0.0308057      0.307826           1           1      271   \n",
      "    Iter      log prob        ||dx||      ||grad||       alpha      alpha0  # evals  Notes \n",
      "     259       775.788     0.0329223       0.28852      0.4366      0.4366      293   \n",
      "    Iter      log prob        ||dx||      ||grad||       alpha      alpha0  # evals  Notes \n",
      "     279       775.789      0.162766      0.369219       1.854      0.1854      317   \n",
      "    Iter      log prob        ||dx||      ||grad||       alpha      alpha0  # evals  Notes \n",
      "     299       775.791     0.0215367      0.163523       0.882       0.882      338   \n",
      "    Iter      log prob        ||dx||      ||grad||       alpha      alpha0  # evals  Notes \n",
      "     319       775.791    0.00167813      0.122919           1           1      360   \n",
      "    Iter      log prob        ||dx||      ||grad||       alpha      alpha0  # evals  Notes \n",
      "     339       775.791      0.037067      0.166247      0.3379      0.3379      384   \n",
      "    Iter      log prob        ||dx||      ||grad||       alpha      alpha0  # evals  Notes \n",
      "     359       775.792     0.0346237      0.153735      0.2147      0.2147      408   \n",
      "    Iter      log prob        ||dx||      ||grad||       alpha      alpha0  # evals  Notes \n",
      "     366       775.792     0.0251799     0.0578049           1           1      416   \n",
      "Optimization terminated normally: \n",
      "  Convergence detected: relative gradient magnitude is below tolerance\n",
      "tuning metric:0.007957\n",
      "tuning hyper-params {'level_sm_input': 0.5, 'seasonality_sm_input': 0.5}\n"
     ]
    },
    {
     "name": "stderr",
     "output_type": "stream",
     "text": [
      " 56%|█████████████████████████████████████████████████████████████████▌                                                    | 5/9 [00:01<00:01,  3.03it/s]"
     ]
    },
    {
     "name": "stdout",
     "output_type": "stream",
     "text": [
      "Initial log joint probability = 400.206\n",
      "    Iter      log prob        ||dx||      ||grad||       alpha      alpha0  # evals  Notes \n",
      "      19       690.454     0.0230055       40.2011       0.789       0.789       22   \n",
      "    Iter      log prob        ||dx||      ||grad||       alpha      alpha0  # evals  Notes \n",
      "      39       711.107     0.0366055       23.2372           1           1       45   \n",
      "    Iter      log prob        ||dx||      ||grad||       alpha      alpha0  # evals  Notes \n",
      "      59       719.725     0.0312562       11.0129           1           1       67   \n",
      "    Iter      log prob        ||dx||      ||grad||       alpha      alpha0  # evals  Notes \n",
      "      79       724.093     0.0312445       8.15187      0.4569      0.4569       90   \n",
      "    Iter      log prob        ||dx||      ||grad||       alpha      alpha0  # evals  Notes \n",
      "      99        724.32     0.0414108       1.23474           1           1      111   \n",
      "    Iter      log prob        ||dx||      ||grad||       alpha      alpha0  # evals  Notes \n",
      "     119       724.386      0.209161        2.0373           1           1      135   \n",
      "    Iter      log prob        ||dx||      ||grad||       alpha      alpha0  # evals  Notes \n",
      "     139       724.447     0.0116971      0.605252           1           1      159   \n",
      "    Iter      log prob        ||dx||      ||grad||       alpha      alpha0  # evals  Notes \n",
      "     159        724.45    0.00147715        0.1766           1           1      180   \n",
      "    Iter      log prob        ||dx||      ||grad||       alpha      alpha0  # evals  Notes \n",
      "     179        724.45    0.00574961      0.192873           1           1      202   \n",
      "    Iter      log prob        ||dx||      ||grad||       alpha      alpha0  # evals  Notes \n",
      "     199       724.452     0.0443314      0.368652           1           1      223   \n",
      "    Iter      log prob        ||dx||      ||grad||       alpha      alpha0  # evals  Notes \n",
      "     219       724.455     0.0256839      0.245645           1           1      245   \n",
      "    Iter      log prob        ||dx||      ||grad||       alpha      alpha0  # evals  Notes \n",
      "     239       724.457    0.00269059     0.0797603           1           1      266   \n",
      "    Iter      log prob        ||dx||      ||grad||       alpha      alpha0  # evals  Notes \n",
      "     259       724.457     0.0400027      0.105235           1           1      288   \n",
      "    Iter      log prob        ||dx||      ||grad||       alpha      alpha0  # evals  Notes \n",
      "     279       724.457      0.561881      0.287374           1           1      309   \n",
      "    Iter      log prob        ||dx||      ||grad||       alpha      alpha0  # evals  Notes \n",
      "     299       724.459    0.00827129      0.285896      0.5934      0.5934      330   \n",
      "    Iter      log prob        ||dx||      ||grad||       alpha      alpha0  # evals  Notes \n",
      "     307       724.459     0.0282916      0.113019      0.4365           1      339   \n",
      "Optimization terminated normally: \n",
      "  Convergence detected: relative gradient magnitude is below tolerance\n",
      "Initial log joint probability = 438.273\n",
      "    Iter      log prob        ||dx||      ||grad||       alpha      alpha0  # evals  Notes \n",
      "      19       736.711      0.117297       32.3395           1           1       23   \n",
      "    Iter      log prob        ||dx||      ||grad||       alpha      alpha0  # evals  Notes \n",
      "      39        757.57     0.0731306        24.814           1           1       45   \n",
      "    Iter      log prob        ||dx||      ||grad||       alpha      alpha0  # evals  Notes \n",
      "      59       763.706      0.152434       26.8634      0.3955           1       71   \n",
      "    Iter      log prob        ||dx||      ||grad||       alpha      alpha0  # evals  Notes \n",
      "      79       764.305     0.0278729       2.55921           1           1       93   \n",
      "    Iter      log prob        ||dx||      ||grad||       alpha      alpha0  # evals  Notes \n",
      "      99       764.524       0.15587       3.92633           1           1      114   \n",
      "    Iter      log prob        ||dx||      ||grad||       alpha      alpha0  # evals  Notes \n",
      "     119       764.615     0.0358496       2.45089           1           1      135   \n",
      "    Iter      log prob        ||dx||      ||grad||       alpha      alpha0  # evals  Notes \n",
      "     139       764.637    0.00444306      0.474107           1           1      156   \n",
      "    Iter      log prob        ||dx||      ||grad||       alpha      alpha0  # evals  Notes \n",
      "     159       764.641     0.0151779      0.803942           1           1      180   \n",
      "    Iter      log prob        ||dx||      ||grad||       alpha      alpha0  # evals  Notes \n",
      "     179       764.654       0.26474       1.09427           1           1      202   \n",
      "    Iter      log prob        ||dx||      ||grad||       alpha      alpha0  # evals  Notes \n",
      "     199       764.669     0.0968419       1.38829      0.4138      0.4138      224   \n",
      "    Iter      log prob        ||dx||      ||grad||       alpha      alpha0  # evals  Notes \n",
      "     219       764.671      0.194391      0.239242           1           1      246   \n",
      "    Iter      log prob        ||dx||      ||grad||       alpha      alpha0  # evals  Notes \n",
      "     239       764.671     0.0556989      0.125415      0.7987      0.7987      270   \n",
      "    Iter      log prob        ||dx||      ||grad||       alpha      alpha0  # evals  Notes \n",
      "     259       764.673     0.0341389      0.384251      0.2039           1      291   \n",
      "    Iter      log prob        ||dx||      ||grad||       alpha      alpha0  # evals  Notes \n",
      "     271       764.673      0.150153     0.0693762           1           1      304   \n",
      "Optimization terminated normally: \n",
      "  Convergence detected: relative gradient magnitude is below tolerance\n",
      "Initial log joint probability = 447.025\n",
      "    Iter      log prob        ||dx||      ||grad||       alpha      alpha0  # evals  Notes \n",
      "      19       761.955      0.134529        29.386           1           1       21   \n",
      "    Iter      log prob        ||dx||      ||grad||       alpha      alpha0  # evals  Notes \n",
      "      39       782.574     0.0360422       23.7316           1           1       44   \n",
      "    Iter      log prob        ||dx||      ||grad||       alpha      alpha0  # evals  Notes \n",
      "      59       792.272     0.0810892       10.9185           1           1       69   \n",
      "    Iter      log prob        ||dx||      ||grad||       alpha      alpha0  # evals  Notes \n",
      "      79       793.807      0.246151       5.05183           1           1       91   \n",
      "    Iter      log prob        ||dx||      ||grad||       alpha      alpha0  # evals  Notes \n",
      "      99       794.031     0.0812681        2.0674           1           1      114   \n",
      "    Iter      log prob        ||dx||      ||grad||       alpha      alpha0  # evals  Notes \n",
      "     119       794.053      0.021797       1.33233      0.5186      0.5186      140   \n",
      "    Iter      log prob        ||dx||      ||grad||       alpha      alpha0  # evals  Notes \n",
      "     139        794.06   0.000811073        0.2011           1           1      163   \n",
      "    Iter      log prob        ||dx||      ||grad||       alpha      alpha0  # evals  Notes \n",
      "     151        794.06   0.000350858     0.0534686           1           1      176   \n",
      "Optimization terminated normally: \n",
      "  Convergence detected: relative gradient magnitude is below tolerance\n",
      "tuning metric:0.0063213\n",
      "tuning hyper-params {'level_sm_input': 0.5, 'seasonality_sm_input': 0.8}\n",
      "Initial log joint probability = 405.689\n",
      "    Iter      log prob        ||dx||      ||grad||       alpha      alpha0  # evals  Notes \n",
      "      19       713.163      0.154322        55.503           1           1       21   \n",
      "    Iter      log prob        ||dx||      ||grad||       alpha      alpha0  # evals  Notes \n",
      "      39       731.166     0.0220555       17.8662           1           1       42   \n",
      "    Iter      log prob        ||dx||      ||grad||       alpha      alpha0  # evals  Notes \n",
      "      59       739.034      0.333487       12.3531           1           1       65   \n",
      "    Iter      log prob        ||dx||      ||grad||       alpha      alpha0  # evals  Notes \n",
      "      79       741.595    0.00554659       8.50047      0.3227      0.3227       88   \n",
      "    Iter      log prob        ||dx||      ||grad||       alpha      alpha0  # evals  Notes \n",
      "      99       741.844     0.0510544       5.39257           1           1      109   \n",
      "    Iter      log prob        ||dx||      ||grad||       alpha      alpha0  # evals  Notes \n",
      "     119       741.974    0.00743217       2.62823           1           1      130   \n",
      "    Iter      log prob        ||dx||      ||grad||       alpha      alpha0  # evals  Notes \n",
      "     139       742.015    0.00136262       1.00935           1           1      154   \n",
      "    Iter      log prob        ||dx||      ||grad||       alpha      alpha0  # evals  Notes \n",
      "     159        742.02     0.0012163      0.743474           1           1      178   \n",
      "    Iter      log prob        ||dx||      ||grad||       alpha      alpha0  # evals  Notes \n",
      "     179       742.022     0.0146943      0.695433           1           1      198   \n",
      "    Iter      log prob        ||dx||      ||grad||       alpha      alpha0  # evals  Notes \n",
      "     199       742.037     0.0100685       1.33855      0.1892           1      222   \n",
      "    Iter      log prob        ||dx||      ||grad||       alpha      alpha0  # evals  Notes \n",
      "     219       742.062      0.114058       1.87586      0.6787      0.6787      245   \n",
      "    Iter      log prob        ||dx||      ||grad||       alpha      alpha0  # evals  Notes \n",
      "     239       742.068    0.00249399       0.12567           1           1      266   \n",
      "    Iter      log prob        ||dx||      ||grad||       alpha      alpha0  # evals  Notes \n",
      "     259       742.069     0.0231566      0.345922           1           1      287   \n",
      "    Iter      log prob        ||dx||      ||grad||       alpha      alpha0  # evals  Notes \n",
      "     279       742.074       0.16051      0.662133           1           1      309   \n",
      "    Iter      log prob        ||dx||      ||grad||       alpha      alpha0  # evals  Notes \n",
      "     299       742.076      0.251743      0.360355           1           1      332   \n",
      "    Iter      log prob        ||dx||      ||grad||       alpha      alpha0  # evals  Notes \n",
      "     317       742.076     0.0188423     0.0296198           1           1      353   \n",
      "Optimization terminated normally: \n",
      "  Convergence detected: relative gradient magnitude is below tolerance\n",
      "Initial log joint probability = 441.616\n",
      "    Iter      log prob        ||dx||      ||grad||       alpha      alpha0  # evals  Notes \n",
      "      19       755.002      0.058604       29.1126           1           1       22   \n",
      "    Iter      log prob        ||dx||      ||grad||       alpha      alpha0  # evals  Notes \n",
      "      39       780.978     0.0807478       22.3536           1           1       46   \n",
      "    Iter      log prob        ||dx||      ||grad||       alpha      alpha0  # evals  Notes \n",
      "      59        784.48      0.031351       9.06135           1           1       68   \n",
      "    Iter      log prob        ||dx||      ||grad||       alpha      alpha0  # evals  Notes \n",
      "      79       785.265      0.176173       6.47719           1           1       88   \n",
      "    Iter      log prob        ||dx||      ||grad||       alpha      alpha0  # evals  Notes \n",
      "      99       785.517     0.0931077       9.11209           1           1      113   \n",
      "    Iter      log prob        ||dx||      ||grad||       alpha      alpha0  # evals  Notes \n",
      "   "
     ]
    },
    {
     "name": "stderr",
     "output_type": "stream",
     "text": [
      " 67%|██████████████████████████████████████████████████████████████████████████████▋                                       | 6/9 [00:02<00:00,  3.05it/s]"
     ]
    },
    {
     "name": "stdout",
     "output_type": "stream",
     "text": [
      "  119       785.574      0.222914       4.14928           1           1      135   \n",
      "    Iter      log prob        ||dx||      ||grad||       alpha      alpha0  # evals  Notes \n",
      "     139       785.586     0.0233089      0.456142           1           1      156   \n",
      "    Iter      log prob        ||dx||      ||grad||       alpha      alpha0  # evals  Notes \n",
      "     159       785.587     0.0148888      0.461549           1           1      177   \n",
      "    Iter      log prob        ||dx||      ||grad||       alpha      alpha0  # evals  Notes \n",
      "     179       785.591      0.154964      0.645543           1           1      197   \n",
      "    Iter      log prob        ||dx||      ||grad||       alpha      alpha0  # evals  Notes \n",
      "     199       785.593     0.0188358      0.211081           1           1      218   \n",
      "    Iter      log prob        ||dx||      ||grad||       alpha      alpha0  # evals  Notes \n",
      "     219       785.594     0.0232391      0.085775           1           1      241   \n",
      "    Iter      log prob        ||dx||      ||grad||       alpha      alpha0  # evals  Notes \n",
      "     239       785.594     0.0952186      0.413377      0.9564      0.9564      261   \n",
      "    Iter      log prob        ||dx||      ||grad||       alpha      alpha0  # evals  Notes \n",
      "     259       785.595      0.213677      0.545995      0.5719      0.5719      282   \n",
      "    Iter      log prob        ||dx||      ||grad||       alpha      alpha0  # evals  Notes \n",
      "     275       785.596     0.0937731      0.064372           1           1      299   \n",
      "Optimization terminated normally: \n",
      "  Convergence detected: relative gradient magnitude is below tolerance\n",
      "Initial log joint probability = 452.733\n",
      "    Iter      log prob        ||dx||      ||grad||       alpha      alpha0  # evals  Notes \n",
      "      19       785.936     0.0629045       27.6026      0.7395      0.7395       21   \n",
      "    Iter      log prob        ||dx||      ||grad||       alpha      alpha0  # evals  Notes \n",
      "      39       808.637      0.275828       40.0449           1     tuning metric:0.0050771\n",
      "tuning hyper-params {'level_sm_input': 0.8, 'seasonality_sm_input': 0.3}\n",
      "      1       45   \n",
      "    Iter      log prob        ||dx||      ||grad||       alpha      alpha0  # evals  Notes \n",
      "      59       815.779       0.03928       25.2994           1           1       67   \n",
      "    Iter      log prob        ||dx||      ||grad||       alpha      alpha0  # evals  Notes \n",
      "      79       817.523       0.45122       10.5121           1           1       87   \n",
      "    Iter      log prob        ||dx||      ||grad||       alpha      alpha0  # evals  Notes \n",
      "      99       817.823     0.0117896       3.42466           1           1      110   \n",
      "    Iter      log prob        ||dx||      ||grad||       alpha      alpha0  # evals  Notes \n",
      "     119       817.873      0.176859       2.68112           1           1      130   \n",
      "    Iter      log prob        ||dx||      ||grad||       alpha      alpha0  # evals  Notes \n",
      "     139       817.881      0.151953       0.52221           1           1      150   \n",
      "    Iter      log prob        ||dx||      ||grad||       alpha      alpha0  # evals  Notes \n",
      "     159       817.882    0.00125045      0.104262      0.3958      0.3958      171   \n",
      "    Iter      log prob        ||dx||      ||grad||       alpha      alpha0  # evals  Notes \n",
      "     179       817.882     0.0279868      0.151341           1           1      195   \n",
      "    Iter      log prob        ||dx||      ||grad||       alpha      alpha0  # evals  Notes \n",
      "     199       817.884      0.790254      0.474939           1           1      219   \n",
      "    Iter      log prob        ||dx||      ||grad||       alpha      alpha0  # evals  Notes \n",
      "     219       817.885       1.34907       0.46121           1           1      242   \n",
      "    Iter      log prob        ||dx||      ||grad||       alpha      alpha0  # evals  Notes \n",
      "     239       817.886      0.928895      0.333118           1           1      263   \n",
      "    Iter      log prob        ||dx||      ||grad||       alpha      alpha0  # evals  Notes \n",
      "     257       817.886      0.346313     0.0488442           1           1      282   \n",
      "Optimization terminated normally: \n",
      "  Convergence detected: relative gradient magnitude is below tolerance\n",
      "Initial log joint probability = 366.611\n",
      "    Iter      log prob        ||dx||      ||grad||       alpha      alpha0  # evals  Notes \n",
      "      19       630.031     0.0468741       46.6937       0.996       0.996       22   \n",
      "    Iter      log prob        ||dx||      ||grad||       alpha      alpha0  # evals  Notes \n",
      "      39       655.085     0.0869822       107.483           1           1       44   \n",
      "    Iter      log prob        ||dx||      ||grad||       alpha      alpha0  # evals  Notes \n",
      "      59       667.183      0.293298       38.5851           1           1       68   \n",
      "    Iter      log prob        ||dx||      ||grad||       alpha      alpha0  # evals  Notes \n",
      "      79       670.713      0.040155       12.6978           1           1       92   \n",
      "    Iter      log prob        ||dx||      ||grad||       alpha      alpha0  # evals  Notes \n",
      "      99       672.604      0.170617       18.6354       0.325           1      116   \n",
      "    Iter      log prob        ||dx||      ||grad||       alpha      alpha0  # evals  Notes \n",
      "     119       672.916     0.0159507       7.84892           1           1      138   \n",
      "    Iter      log prob        ||dx||      ||grad||       alpha      alpha0  # evals  Notes \n",
      "     139        673.13    0.00968142       1.83813           1           1      162   \n",
      "    Iter      log prob        ||dx||      ||grad||       alpha      alpha0  # evals  Notes \n",
      "     159       673.153     0.0114542       5.83442           1           1      185   \n",
      "    Iter      log prob        ||dx||      ||grad||       alpha      alpha0  # evals  Notes \n",
      "     179       673.178    0.00227864       1.81943      0.6825      0.6825      208   \n",
      "    Iter      log prob        ||dx||      ||grad||       alpha      alpha0  # evals  Notes \n",
      "     199       673.197     0.0133112      0.856442           1           1      233   \n",
      "    Iter      log prob        ||dx||      ||grad||       alpha      alpha0  # evals  Notes \n",
      "     219       673.215     0.0489755       2.78432           1           1      256   \n",
      "    Iter      log prob        ||dx||      ||grad||       alpha      alpha0  # evals  Notes \n",
      "     239       673.241    0.00592127       2.33585           1           1      276   \n",
      "    Iter      log prob        ||dx||      ||grad||       alpha      alpha0  # evals  Notes \n",
      "     259       673.275     0.0735023       1.96255           1           1      299   \n",
      "    Iter      log prob        ||dx||      ||grad||       alpha      alpha0  # evals  Notes \n",
      "     279        673.31      0.103801       1.82889           1           1      325   \n",
      "    Iter      log prob        ||dx||      ||grad||       alpha      alpha0  # evals  Notes \n",
      "     299       673.325     0.0522452       2.85643           1           1      349   \n",
      "    Iter      log prob        ||dx||      ||grad||       alpha      alpha0  # evals  Notes \n",
      "     319       673.334     0.0278354      0.973609           1           1      372   \n",
      "    Iter      log prob        ||dx||      ||grad||       alpha      alpha0  # evals  Notes \n",
      "     339       673.337     0.0324567      0.725361           1           1      393   \n",
      "    Iter      log prob        ||dx||      ||grad||       alpha      alpha0  # evals  Notes \n",
      "     359       673.341      0.004823       1.54884           1           1      419   \n",
      "    Iter      log prob        ||dx||      ||grad||       alpha      alpha0  # evals  Notes \n",
      "     379       673.346     0.0185863       1.02647      0.4534     0.04534      444   \n",
      "    Iter      log prob        ||dx||      ||grad||       alpha      alpha0  # evals  Notes \n",
      "     399       673.351     0.0281672       1.58655      0.1952      0.1952      466   \n",
      "    Iter      log prob        ||dx||      ||grad||       alpha      alpha0  # evals  Notes \n",
      "     419       673.354    0.00227664      0.300198       1.264      0.1264      492   \n",
      "    Iter      log prob        ||dx||      ||grad||       alpha      alpha0  # evals  Notes \n",
      "     439       673.354     0.0111787      0.343467      0.2289           1      518   \n",
      "    Iter      log prob        ||dx||      ||grad||       alpha      alpha0  # evals  Notes \n",
      "     442       673.354    0.00343087     0.0987563     0.05817           1      522   \n",
      "Optimization terminated normally: \n",
      "  Convergence detected: relative gradient magnitude is below tolerance\n",
      "Initial log joint probability = 419.857\n",
      "    Iter      log prob        ||dx||      ||grad||       alpha      alpha0  # evals  Notes \n",
      "      19       683.173      0.389209       71.0832           1           1       21   \n",
      "    Iter      log prob        ||dx||      ||grad||       alpha      alpha0  # evals  Notes \n",
      "      39       696.307      0.195637       59.5035           1           1       44   \n",
      "    Iter      log prob        ||dx||      ||grad||       alpha      alpha0  # evals  Notes \n",
      "      59       704.306     0.0148864       14.2915      0.6778      0.6778       64   \n",
      "    Iter      log prob        ||dx||      ||grad||       alpha      alpha0  # evals  Notes \n",
      "      79       706.537      0.430157       29.4281           1           1       84   \n",
      "    Iter      log prob        ||dx||      ||grad||       alpha      alpha0  # evals  Notes \n",
      "      99       707.534      0.249839       6.62224       1.577      0.1577      109   \n",
      "    Iter      log prob        ||dx||      ||grad||       alpha      alpha0  # evals  Notes \n",
      "     119       707.816    0.00354686       2.53153           1           1      134   \n",
      "    Iter      log prob        ||dx||      ||grad||       alpha      alpha0  # evals  Notes \n",
      "     139       707.866    0.00332625       3.40418      0.5354      0.5354      155   \n",
      "    Iter      log prob        ||dx||      ||grad||       alpha      alpha0  # evals  Notes \n",
      "     159       707.871    0.00159016      0.502199           1           1      178   \n",
      "    Iter      log prob        ||dx||      ||grad||       alpha      alpha0  # evals  Notes \n",
      "     179       707.874    0.00149173      0.465297      0.4361     0.04361      202   \n",
      "    Iter      log prob        ||dx||      ||grad||       alpha      alpha0  # evals  Notes \n",
      "     199        707.88    0.00709296       1.72454           1           1      223   \n",
      "    Iter      log prob        ||dx||      ||grad||       alpha      alpha0  # evals  Notes \n",
      "     219       707.893    0.00649551       3.24804           1           1      243   \n",
      "    Iter      log prob        ||dx||      ||grad||       alpha      alpha0  # evals  Notes \n",
      "     239       707.909    0.00756992       1.11185           1           1      264   \n",
      "    Iter      log prob        ||dx||      ||grad||       alpha      alpha0  # evals  Notes \n",
      "     259       707.926      0.015493       1.00384           1           1      286   \n",
      "    Iter      log prob        ||dx||      ||grad||       alpha      alpha0  # evals  Notes \n",
      "     279       707.934     0.0366552       1.05673           1           1      308   \n",
      "    Iter      log prob        ||dx||      ||grad||       alpha      alpha0  # evals  Notes \n",
      "     299       707.951     0.0264568      0.441583           1           1      331   \n",
      "    Iter      log prob        ||dx||      ||grad||       alpha      alpha0  # evals  Notes \n",
      "     319       707.957     0.0349209       1.73845           1           1      354   \n",
      "    Iter      log prob        ||dx||      ||grad||       alpha      alpha0  # evals  Notes \n",
      "     339       707.961     0.0645903      0.396036           1           1      379   \n",
      "    Iter      log prob        ||dx||      ||grad||       alpha      alpha0  # evals  Notes \n",
      "     359       707.963     0.0205181      0.485915           1           1      401   \n",
      "    Iter      log prob        ||dx||      ||grad||       alpha      alpha0  # evals  Notes \n",
      "     379       707.967     0.0763047      0.619428           1           1      425   \n",
      "    Iter      log prob        ||dx||      ||grad||       alpha      alpha0  # evals  Notes \n",
      "     399       707.968    0.00315175      0.357743           1           1      450   \n",
      "    Iter      log prob        ||dx||      ||grad||       alpha      alpha0  # evals  Notes \n",
      "     419       707.969     0.0110438      0.547853      0.4525      0.4525      474   \n",
      "    Iter      log prob        ||dx||      ||grad||       alpha      alpha0  # evals  Notes \n",
      "     439       707.969   0.000900779      0.238992           1           1      496   \n",
      "    Iter      log prob        ||dx||      ||grad||       alpha      alpha0  # evals  Notes \n",
      "     459        707.97     0.0050024       0.12032           1           1      518   \n",
      "    Iter      log prob        ||dx||      ||grad||       alpha      alpha0  # evals  Notes \n",
      "     479        707.97     0.0374866      0.122785           1           1      540   \n",
      "    Iter      log prob        ||dx||      ||grad||       alpha      alpha0  # evals  Notes \n",
      "     499        707.97    0.00307294      0.150015           1           1      564   \n",
      "    Iter      log prob        ||dx||      ||grad||       alpha      alpha0  # evals  Notes \n",
      "     508        707.97    0.00133852      0.107061      0.6488      0.6488      573   \n",
      "Optimization terminated normally: \n",
      "  Convergence detected: relative gradient magnitude is below tolerance\n"
     ]
    },
    {
     "name": "stderr",
     "output_type": "stream",
     "text": [
      " 78%|███████████████████████████████████████████████████████████████████████████████████████████▊                          | 7/9 [00:02<00:00,  2.52it/s]"
     ]
    },
    {
     "name": "stdout",
     "output_type": "stream",
     "text": [
      "Initial log joint probability = 415.737\n",
      "    Iter      log prob        ||dx||      ||grad||       alpha      alpha0  # evals  Notes \n",
      "      19       692.834      0.162956       63.0749           1           1       27   \n",
      "    Iter      log prob        ||dx||      ||grad||       alpha      alpha0  # evals  Notes \n",
      "      39       716.981     0.0353225       34.8982       1.971      0.1971       53   \n",
      "    Iter      log prob        ||dx||      ||grad||       alpha      alpha0  # evals  Notes \n",
      "      59       729.413     0.0288544       46.5258        0.21        0.21       79   \n",
      "    Iter      log prob        ||dx||      ||grad||       alpha      alpha0  # evals  Notes \n",
      "      79       734.113     0.0120907       10.5203           1           1      102   \n",
      "    Iter      log prob        ||dx||      ||grad||       alpha      alpha0  # evals  Notes \n",
      "      99       736.052     0.0312079       7.99669           1           1      126   \n",
      "    Iter      log prob        ||dx||      ||grad||       alpha      alpha0  # evals  Notes \n",
      "     119        736.36     0.0171138       4.15953           1           1      148   \n",
      "    Iter      log prob        ||dx||      ||grad||       alpha      alpha0  # evals  Notes \n",
      "     139       736.661    0.00657819       11.9617      0.7128      0.7128      175   \n",
      "    Iter      log prob        ||dx||      ||grad||       alpha      alpha0  # evals  Notes \n",
      "     159       737.137     0.0230844       10.0163      0.7082      0.7082      197   \n",
      "    Iter      log prob        ||dx||      ||grad||       alpha      alpha0  # evals  Notes \n",
      "     179       737.641      0.266123        9.4236       1.043      0.1043      221   \n",
      "    Iter      log prob        ||dx||      ||grad||       alpha      alpha0  # evals  Notes \n",
      "     199       737.862     0.0125354       2.28594           1           1      246   \n",
      "    Iter      log prob        ||dx||      ||grad||       alpha      alpha0  # evals  Notes \n",
      "     219       737.938     0.0410465       3.08238           1           1      267   \n",
      "    Iter      log prob        ||dx||      ||grad||       alpha      alpha0  # evals  Notes \n",
      "     239        738.02     0.0153955       4.67511      0.5668      0.5668      287   \n",
      "    Iter      log prob        ||dx||      ||grad||       alpha      alpha0  # evals  Notes \n",
      "     259       738.051    0.00305073       1.72716      0.6614      0.6614      313   \n",
      "    Iter      log prob        ||dx||      ||grad||       alpha      alpha0  # evals  Notes \n",
      "     279       738.055    0.00244522      0.216474           1           1      337   \n",
      "    Iter      log prob        ||dx||      ||grad||       alpha      alpha0  # evals  Notes \n",
      "     299        738.06     0.0162152      0.591175           1           1      363   \n",
      "    Iter      log prob        ||dx||      ||grad||       alpha      alpha0  # evals  Notes \n",
      "     319       738.067    0.00165949       1.00547           1           1      386   \n",
      "    Iter      log prob        ||dx||      ||grad||       alpha      alpha0  # evals  Notes \n",
      "     339        738.07    0.00530913      0.tuning metric:0.0108\n",
      "tuning hyper-params {'level_sm_input': 0.8, 'seasonality_sm_input': 0.5}\n",
      "461603           1           1      410   \n",
      "    Iter      log prob        ||dx||      ||grad||       alpha      alpha0  # evals  Notes \n",
      "     359       738.076     0.0687825         1.394           1           1      435   \n",
      "    Iter      log prob        ||dx||      ||grad||       alpha      alpha0  # evals  Notes \n",
      "     379       738.085    0.00417682       1.18319           1           1      459   \n",
      "    Iter      log prob        ||dx||      ||grad||       alpha      alpha0  # evals  Notes \n",
      "     399       738.087     0.0132736      0.428402           1           1      483   \n",
      "    Iter      log prob        ||dx||      ||grad||       alpha      alpha0  # evals  Notes \n",
      "     419        738.09    0.00389085      0.624258      0.6006      0.6006      508   \n",
      "    Iter      log prob        ||dx||      ||grad||       alpha      alpha0  # evals  Notes \n",
      "     439       738.093     0.0684781       1.56083           1           1      529   \n",
      "    Iter      log prob        ||dx||      ||grad||       alpha      alpha0  # evals  Notes \n",
      "     459       738.102     0.0364426      0.847628           1           1      552   \n",
      "    Iter      log prob        ||dx||      ||grad||       alpha      alpha0  # evals  Notes \n",
      "     479       738.103    0.00127099      0.379488           1           1      575   \n",
      "    Iter      log prob        ||dx||      ||grad||       alpha      alpha0  # evals  Notes \n",
      "     499       738.104     0.0098262      0.204947           1           1      597   \n",
      "    Iter      log prob        ||dx||      ||grad||       alpha      alpha0  # evals  Notes \n",
      "     519       738.104     0.0437867      0.483472           1           1      622   \n",
      "    Iter      log prob        ||dx||      ||grad||       alpha      alpha0  # evals  Notes \n",
      "     539       738.105    0.00260344      0.244831           1           1      645   \n",
      "    Iter      log prob        ||dx||      ||grad||       alpha      alpha0  # evals  Notes \n",
      "     559       738.105    0.00256942      0.163755      0.5378      0.5378 "
     ]
    },
    {
     "name": "stderr",
     "output_type": "stream",
     "text": [
      " 89%|████████████████████████████████████████████████████████████████████████████████████████████████████████▉             | 8/9 [00:03<00:00,  2.39it/s]"
     ]
    },
    {
     "name": "stdout",
     "output_type": "stream",
     "text": [
      "     671   \n",
      "    Iter      log prob        ||dx||      ||grad||       alpha      alpha0  # evals  Notes \n",
      "     560       738.105    0.00248944     0.0645788           1           1      672   \n",
      "Optimization terminated normally: \n",
      "  Convergence detected: relative gradient magnitude is below tolerance\n",
      "Initial log joint probability = 373.185\n",
      "    Iter      log prob        ||dx||      ||grad||       alpha      alpha0  # evals  Notes \n",
      "      19       627.248      0.122281       48.9749      0.8209      0.8209       24   \n",
      "    Iter      log prob        ||dx||      ||grad||       alpha      alpha0  # evals  Notes \n",
      "      39       653.107      0.108012       38.9449           1           1       45   \n",
      "    Iter      log prob        ||dx||      ||grad||       alpha      alpha0  # evals  Notes \n",
      "      59       666.119     0.0590233        15.412           1           1       67   \n",
      "    Iter      log prob        ||dx||      ||grad||       alpha      alpha0  # evals  Notes \n",
      "      79       669.332     0.0326117       10.0926           1           1       91   \n",
      "    Iter      log prob        ||dx||      ||grad||       alpha      alpha0  # evals  Notes \n",
      "      99       670.013    0.00858054       4.56839           1           1      116   \n",
      "    Iter      log prob        ||dx||      ||grad||       alpha      alpha0  # evals  Notes \n",
      "     119       670.329     0.0305331       3.88216           1           1      139   \n",
      "    Iter      log prob        ||dx||      ||grad||       alpha      alpha0  # evals  Notes \n",
      "     139       670.592    0.00983495       2.70983      0.9976      0.9976      164   \n",
      "    Iter      log prob        ||dx||      ||grad||       alpha      alpha0  # evals  Notes \n",
      "     159       670.829      0.118315       4.72864           1           1      191   \n",
      "    Iter      log prob        ||dx||      ||grad||       alpha      alpha0  # evals  Notes \n",
      "     179       670.978     0.0397159       1.34806           1           1      213   \n",
      "    Iter      log prob        ||dx||      ||grad||       alpha      alpha0  # evals  Notes \n",
      "     199       671.051     0.0377144        5.3393      0.4556      0.4556      234   \n",
      "    Iter      log prob        ||dx||      ||grad||       alpha      alpha0  # evals  Notes \n",
      "     219       671.092     0.0454373       3.90518      0.4152      0.4152      260   \n",
      "    Iter      log prob        ||dx||      ||grad||       alpha      alpha0  # evals  Notes \n",
      "     239       671.126     0.0349668       1.81412           1           1      282   \n",
      "    Iter      log prob        ||dx||      ||grad||       alpha      alpha0  # evals  Notes \n",
      "     259       671.136    0.00660843      0.320225           1           1      307   \n",
      "    Iter      log prob        ||dx||      ||grad||       alpha      alpha0  # evals  Notes \n",
      "     279       671.138     0.0146131       0.69575           1           1      327   \n",
      "    Iter      log prob        ||dx||      ||grad||       alpha      alpha0  # evals  Notes \n",
      "     299       671.139   0.000378454      0.192565      0.8463      0.8463      348   \n",
      "    Iter      log prob        ||dx||      ||grad||       alpha      alpha0  # evals  Notes \n",
      "     319        671.14    0.00130034      0.191674      0.3856      0.3856      370   \n",
      "    Iter      log prob        ||dx||      ||grad||       alpha      alpha0  # evals  Notes \n",
      "     339        671.14    0.00627183       0.43272      0.2188           1      392   \n",
      "    Iter      log prob        ||dx||      ||grad||       alpha      alpha0  # evals  Notes \n",
      "     359       671.141   0.000403648      0.303474           1           1      412   \n",
      "    Iter      log prob        ||dx||      ||grad||       alpha      alpha0  # evals  Notes \n",
      "     379       671.142      0.111461      0.347909       1.242      0.1242      438   \n",
      "    Iter      log prob        ||dx||      ||grad||       alpha      alpha0  # evals  Notes \n",
      "     399       671.145    0.00893286      0.282838      0.8646      0.8646      459   \n",
      "    Iter      log prob        ||dx||      ||grad||       alpha      alpha0  # evalstuning metric:0.011083\n",
      "tuning hyper-params {'level_sm_input': 0.8, 'seasonality_sm_input': 0.8}\n",
      "  Notes \n",
      "     419       671.146     0.0492023      0.198986           1           1      482   \n",
      "    Iter      log prob        ||dx||      ||grad||       alpha      alpha0  # evals  Notes \n",
      "     439       671.147     0.0078416      0.380355      0.6513      0.6513      503   \n",
      "    Iter      log prob        ||dx||      ||grad||       alpha      alpha0  # evals  Notes \n",
      "     459       671.147     0.0160032      0.105724           1           1      524   \n",
      "    Iter      log prob        ||dx||      ||grad||       alpha      alpha0  # evals  Notes \n",
      "     479       671.147     0.0375504     0.0843143           1           1      550   \n",
      "    Iter      log prob        ||dx||      ||grad||       alpha      alpha0  # evals  Notes \n",
      "     494       671.147      0.011971     0.0537329           1           1      567   \n",
      "Optimization terminated normally: \n",
      "  Convergence detected: relative gradient magnitude is below tolerance\n",
      "Initial log joint probability = 421.429\n",
      "    Iter      log prob        ||dx||      ||grad||       alpha      alpha0  # evals  Notes \n",
      "      19       677.207      0.393832       89.1811           1           1       21   \n",
      "    Iter      log prob        ||dx||      ||grad||       alpha      alpha0  # evals  Notes \n",
      "      39       693.293      0.327796       103.433           1           1       43   \n",
      "    Iter      log prob        ||dx||      ||grad||       alpha      alpha0  # evals  Notes \n",
      "      59       701.784      0.137013       62.6933           1           1       64   \n",
      "    Iter      log prob        ||dx||      ||grad||       alpha      alpha0  # evals  Notes \n",
      "      79       704.607     0.0131184       12.8337      0.1697      0.1697       85   \n",
      "    Iter      log prob        ||dx||      ||grad||       alpha      alpha0  # evals  Notes \n",
      "      99       705.482     0.0641199       9.19824           1           1      106   \n",
      "    Iter      log prob        ||dx||      ||grad||       alpha      alpha0  # evals  Notes \n",
      "     119       705.781     0.0455398       2.42923           1           1      127   \n",
      "    Iter      log prob        ||dx||      ||grad||       alpha      alpha0  # evals  Notes \n",
      "     139       705.915    0.00647367        5.0567      0.3683      0.3683      153   \n",
      "    Iter      log prob        ||dx||      ||grad||       alpha      alpha0  # evals  Notes \n",
      "     159       705.981    0.00597868        4.3862      0.1257           1      176   \n",
      "    Iter      log prob        ||dx||      ||grad||       alpha      alpha0  # evals  Notes \n",
      "     179       706.019     0.0688331       4.62501           1           1      199   \n",
      "    Iter      log prob        ||dx||      ||grad||       alpha      alpha0  # evals  Notes \n",
      "     199       706.042    0.00295279       2.22222      0.1427           1      222   \n",
      "    Iter      log prob        ||dx||      ||grad||       alpha      alpha0  # evals  Notes \n",
      "     219       706.054   0.000575164      0.628247      0.3647      0.3647      249   \n",
      "    Iter      log prob        ||dx||      ||grad||       alpha      alpha0  # evals  Notes \n",
      "     239       706.058   0.000269064       1.05944      0.6005      0.6005      270   \n",
      "    Iter      log prob        ||dx||      ||grad||       alpha      alpha0  # evals  Notes \n",
      "     259        706.06     0.0051288      0.864976      0.4927           1      295   \n",
      "    Iter      log prob        ||dx||      ||grad||       alpha      alpha0  # evals  Notes \n",
      "     279       706.062    0.00529398      0.778412           1           1      316   \n",
      "    Iter      log prob        ||dx||      ||grad||       alpha      alpha0  # evals  Notes \n",
      "     299       706.074     0.0573321       1.59922           1           1      338   \n",
      "    Iter      log prob        ||dx||      ||grad||       alpha      alpha0  # evals  Notes \n",
      "     319       706.098     0.0120925       1.48728           1           1      358   \n",
      "    Iter      log prob        ||dx||      ||grad||       alpha      alpha0  # evals  Notes \n",
      "     339        706.11    0.00119852      0.527026      0.9205     0.09205      382   \n",
      "    Iter      log prob        ||dx||      ||grad||       alpha      alpha0  # evals  Notes \n",
      "     359       706.113   0.000149405      0.213338      0.1725      0.1725      406   \n",
      "    Iter      log prob        ||dx||      ||grad||       alpha      alpha0  # evals  Notes \n",
      "     379       706.113   7.56704e-05      0.093528      0.3913           1      429   \n",
      "Optimization terminated normally: \n",
      "  Convergence detected: relative gradient magnitude is below tolerance\n",
      "Initial log joint probability = 423.035\n",
      "    Iter      log prob        ||dx||      ||grad||       alpha      alpha0  # evals  Notes \n",
      "      19       684.594     0.0303597       56.6068           1           1       23   \n",
      "    Iter      log prob        ||dx||      ||grad||       alpha      alpha0  # evals  Notes \n",
      "      39       713.816     0.0451744       70.6254      0.3125      0.3125       46   \n",
      "    Iter      log prob        ||dx||      ||grad||       alpha      alpha0  # evals  Notes \n",
      "      59       723.832     0.0106634       46.2728      0.5879      0.5879       67   \n",
      "    Iter      log prob        ||dx||      ||grad||       alpha      alpha0  # evals  Notes \n",
      "      79       725.878     0.0145205       10.6486       0.358       0.358       90   \n",
      "    Iter      log prob        ||dx||      ||grad||       alpha      alpha0  # evals  Notes \n",
      "      99       726.979      0.017794       20.1156      0.2293      0.2293      112   \n",
      "    Iter      log prob        ||dx||      ||grad||       alpha      alpha0  # evals  Notes \n",
      "     119        727.51     0.0476758       16.5835      0.3617           1      135   \n",
      "    Iter      log prob        ||dx||      ||grad||       alpha      alpha0  # evals  Notes \n",
      "     139       727.751     0.0116519       5.00091           1           1      156   \n",
      "    Iter      log prob        ||dx||      ||grad||       alpha      alpha0  # evals  Notes \n",
      "     159        728.14     0.0113001       6.74295           1           1      178   \n",
      "    Iter      log prob        ||dx||      ||grad||       alpha      alpha0  # evals  Notes \n",
      "     179        728.47    0.00330046       3.70231           1           1      200   \n",
      "    Iter      log prob        ||dx||      ||grad||       alpha      alpha0  # evals  Notes \n",
      "     199       728.668     0.0114425        2.0236      0.7924      0.7924      222   \n",
      "    Iter      log prob        ||dx||      ||grad||       alpha      alpha0  # evals  Notes \n",
      "     219        728.71     0.0275206       2.66702           1           1      246   \n",
      "    Iter      log prob        ||dx||      ||grad||       alpha      alpha0  # evals  Notes \n",
      "     239       728.726    0.00355987      0.635898           1           1      271   \n",
      "    Iter      log prob        ||dx||      ||grad||       alpha      alpha0  # evals  Notes \n",
      "     259        728.73     0.0052097      0.444658           1           1      294   \n",
      "    Iter      log prob        ||dx||      ||grad||       alpha      alpha0  # evals  Notes \n",
      "     279       728.742     0.0881091       1.75499           1           1      317   \n",
      "    Iter      log prob        ||dx||      ||grad||       alpha      alpha0  # evals  Notes \n",
      "     299       728.763      0.136375       1.38857           1           1      341   \n",
      "    Iter      log prob        ||dx||      ||grad||       alpha      alpha0  # evals  Notes \n",
      "     319       728.791     0.0858653       1.09294       0.924       0.924      363   \n",
      "    Iter      log prob        ||dx||      ||grad||       alpha      alpha0  # evals  Notes \n",
      "     339       728.795     0.0367449      0.336737       1.526      0.1526      386   \n",
      "    Iter      log prob        ||dx||      ||grad||       alpha      alpha0  # evals  Notes \n",
      "     359       728.796   0.000495246      0.162854      0.8539      0.8539      412   \n",
      "    Iter      log prob        ||dx||      ||grad||       alpha      alpha0  # evals  Notes \n",
      "     379       728.797     0.0280926      0.239079           1           1      437   \n",
      "    Iter      log prob        ||dx||      ||grad||       alpha      alpha0  # evals  Notes \n",
      "     399       728.798    0.00680262      0.417855       0.327       0.327      463   \n",
      "    Iter      log prob        ||dx||      ||grad||       alpha      alpha0  # evals  Notes \n",
      "     419       728.799     0.0049857      0.262182      0.4625      0.4625      485   \n",
      "    Iter      log prob        ||dx||      ||grad||       alpha      alpha0  # evals  Notes \n",
      "     439       728.799   0.000652495      0.168742      0.2423           1      510   \n",
      "    Iter      log prob        ||dx||      ||grad||       alpha      alpha0  # evals  Notes \n",
      "     441       728.799    0.00183573     0.0407914           1           1      512   \n",
      "Optimization terminated normally: \n",
      "  Convergence detected: relative gradient magnitude is below tolerance\n",
      "Initial log joint probability = 379.874\n",
      "    Iter      log prob        ||dx||      ||grad||       alpha      alpha0  # evals  Notes \n",
      "      19       647.644      0.210667       108.848       9.811      0.9811       22   \n",
      "    Iter      log prob        ||dx||      ||grad||       alpha      alpha0  # evals  Notes \n",
      "      39       665.239      0.225234       57.9049      0.9901      0.9901       45   \n",
      "    Iter      log prob        ||dx||      ||grad||       alpha      alpha0  # evals  Notes \n",
      "      59       672.794      0.123728       14.6101           1           1       66   \n",
      "    Iter      log prob        ||dx||      ||grad||       alpha      alpha0  # evals  Notes \n",
      "      79       674.996     0.0149653       9.81993           1           1       90   \n",
      "    Iter      log prob        ||dx||      ||grad||       alpha      alpha0  # evals  Notes \n",
      "      99       675.244     0.0481734       8.94865      0.5859      0.5859      113   \n",
      "    Iter      log prob        ||dx||      ||grad||       alpha      alpha0  # evals  Notes \n",
      "     119        675.38    0.00169106       1.88421      0.5822      0.5822      134   \n",
      "    Iter      log prob        ||dx||      ||grad||       alpha      alpha0  # evals  Notes \n",
      "     139        675.41   0.000881731       1.38023           1           1      156   \n",
      "    Iter      log prob        ||dx||      ||grad||       alpha      alpha0  # evals  Notes \n",
      "     159       675.442     0.0503494       2.40501           1           1      177   \n",
      "    Iter      log prob        ||dx||      ||grad||       alpha      alpha0  # evals  Notes \n",
      "     179       675.639      0.015988       2.12282           1           1      199   \n",
      "    Iter      log prob        ||dx||      ||grad||       alpha      alpha0  # evals  Notes \n",
      "     199       675.682     0.0253807        1.6025      0.4426      0.4426      223   \n",
      "    Iter      log prob        ||dx||      ||grad||       alpha      alpha0  # evals  Notes \n",
      "     219       675.709     0.0880623      0.556662           1           1      247   \n",
      "    Iter      log prob        ||dx||      ||grad||       alpha      alpha0  # evals  Notes \n",
      "     239       675.717     0.0322669      0.631177           1           1      272   \n",
      "    Iter      log prob        ||dx||      ||grad||       alpha      alpha0  # evals  Notes \n",
      "     259       675.719    0.00222438      0.475612      0.3568      0.3568      295   \n",
      "    Iter      log prob        ||dx||      ||grad||       alpha      alpha0  # evals  Notes \n",
      "     279       675.719     0.0108793      0.363543           1           1      321   \n",
      "    Iter      log prob        ||dx||      ||grad||       alpha      alpha0  # evals  Notes \n",
      "     299        675.72     0.0225225      0.476908           1           1      341   \n",
      "    Iter      log prob        ||dx||      ||grad||       alpha      alpha0  # evals  Notes \n",
      "     319       675.724      0.134092      0.341866           1           1      367   \n",
      "    Iter      log prob        ||dx||      ||grad||       alpha      alpha0  # evals  Notes \n",
      "     339       675.727     0.0239834      0.569246       0.861      0.0861      390   \n",
      "    Iter      log prob        ||dx||      ||grad||       alpha      alpha0  # evals  Notes \n",
      "     359       675.728    0.00666199     0.0437696           1           1      413   \n",
      "Optimization terminated normally: \n",
      "  Convergence detected: relative gradient magnitude is below tolerance\n",
      "Initial log joint probability = 423.413\n",
      "    Iter      log prob        ||dx||      ||grad||       alpha      alpha0  # evals  Notes \n",
      "      19       679.599     0.0612762       99.4835           1           1       22   \n",
      "    Iter      log prob        ||dx||      ||grad||       alpha      alpha0  # evals  Notes \n",
      "      39       700.373      0.102894       40.9808      0.9435      0.9435       44   \n",
      "    Iter      log prob        ||dx||      ||grad||       alpha      alpha0  # evals  Notes \n",
      "      59       707.825     0.0460759       30.7378       0.231           1       66   \n",
      "    Iter      log prob        ||dx||      ||grad||       alpha      alpha0  # evals  Notes \n",
      "      79       710.642     0.0540413       9.29492      0.7681      0.7681       87   \n",
      "    Iter      log prob        ||dx||      ||grad||       alpha      alpha0  # evals  Notes \n",
      "      99       711.017     0.0593219       3.98275           1           1      108   \n",
      "    Iter      log prob        ||dx||      ||grad||       alpha      alpha0  # evals  Notes \n",
      "     119       711.221    0.00716389       7.66032      0.3869           1      131   \n",
      "    Iter      log prob        ||dx||      ||grad||       alpha      alpha0  # evals  Notes \n",
      "     139       711.247     0.0038239        1.3658           1           1      152   \n",
      "    Iter      log prob        ||dx||      ||grad||       alpha      alpha0  # evals  Notes \n",
      "     159       711.258     0.0112632       1.41928           1           1      173   \n",
      "    Iter      log prob        ||dx||      ||grad||       alpha      alpha0  # evals  Notes \n",
      "     179       711.434     0.0722071       2.74543           1           1      197   \n",
      "    Iter      log prob        ||dx||      ||grad||       alpha      alpha0  # evals  Notes \n",
      "     199       711.544     0.0614377       1.48025           1           1      219   \n",
      "    Iter      log prob        ||dx||      ||grad||       alpha      alpha0  # evals  Notes \n",
      "     219       711.558    0.00367923      0.315345           1           1      241   \n",
      "    Iter      log prob        ||dx||      ||grad||       alpha      alpha0  # evals  Notes \n",
      "     239       711.559   0.000949001      0.385068           1           1      262   \n",
      "    Iter      log prob        ||dx||      ||grad||       alpha      alpha0  # evals  Notes \n",
      "     259       711.561     0.0125356      0.712684           1           1      283   \n",
      "    Iter      log prob        ||dx||      ||grad||       alpha      alpha0  # evals  Notes \n",
      "     279       711.572     0.0165127      0.947351           1           1      306   \n",
      "    Iter      log prob        ||dx||      ||grad||       alpha      alpha0  # evals  Notes \n",
      "     299       711.583     0.0296089      0.807003           1           1      328   \n",
      "    Iter      log prob        ||dx||      ||grad||       alpha      alpha0  # evals  Notes \n",
      "     319       711.586    0.00842666      0.225992           1           1      349   \n",
      "    Iter      log prob        ||dx||      ||grad||       alpha      alpha0  # evals  Notes \n",
      "     339       711.588    0.00739833      0.308985      0.6421      0.6421      373   \n",
      "    Iter      log prob        ||dx||      ||grad||       alpha      alpha0  # evals  Notes \n",
      "     359       711.589     0.0853767       1.12903           1           1      395   \n",
      "    Iter      log prob        ||dx||      ||grad||       alpha      alpha0  # evals  Notes \n",
      "     379       711.591     0.0238516      0.351602      0.9893      0.9893      416   \n",
      "    Iter      log prob        ||dx||      ||grad||       alpha      alpha0  # evals  Notes \n",
      "     399       711.593       0.17215      0.379703           1           1      439   \n",
      "    Iter      log prob        ||dx||      ||grad||       alpha      alpha0  # evals  Notes \n",
      "     419       711.593      0.164505      0.128572           1           1      460   \n",
      "    Iter      log prob        ||dx||      ||grad||       alpha      alpha0  # evals  Notes \n",
      "     437       711.593    0.00528686     0.0832493      0.7837      0.7837      482   \n",
      "Optimization terminated normally: \n",
      "  Convergence detected: relative gradient magnitude is below tolerance\n"
     ]
    },
    {
     "name": "stderr",
     "output_type": "stream",
     "text": [
      "100%|██████████████████████████████████████████████████████████████████████████████████████████████████████████████████████| 9/9 [00:03<00:00,  2.60it/s]"
     ]
    },
    {
     "name": "stdout",
     "output_type": "stream",
     "text": [
      "Initial log joint probability = 429.944\n",
      "    Iter      log prob        ||dx||      ||grad||       alpha      alpha0  # evals  Notes \n",
      "      19       712.398       0.21546       42.6949           1           1       26   \n",
      "    Iter      log prob        ||dx||      ||grad||       alpha      alpha0  # evals  Notes \n",
      "      39       728.985     0.0176303       39.8527      0.7497      0.7497       49   \n",
      "    Iter      log prob        ||dx||      ||grad||       alpha      alpha0  # evals  Notes \n",
      "      59       731.705      0.103331        15.933           1           1       72   \n",
      "    Iter      log prob        ||dx||      ||grad||       alpha      alpha0  # evals  Notes \n",
      "      79       733.585     0.0264439       16.6031      0.5812      0.5812       94   \n",
      "    Iter      log prob        ||dx||      ||grad||       alpha      alpha0  # evals  Notes \n",
      "      99       734.367     0.0156237       10.9175      0.5849      0.5849      116   \n",
      "    Iter      log prob        ||dx||      ||grad||       alpha      alpha0  # evals  Notes \n",
      "     119       734.489    0.00358051       1.83799           1           1      138   \n",
      "    Iter      log prob        ||dx||      ||grad||       alpha      alpha0  # evals  Notes \n",
      "     139       734.515    0.00263854       1.87517       0.202           1      159   \n",
      "    Iter      log prob        ||dx||      ||grad||       alpha      alpha0  # evals  Notes \n",
      "     159       734.663      0.111036       5.85924           1           1      185   \n",
      "    Iter      log prob        ||dx||      ||grad||       alpha      alpha0  # evals  Notes \n",
      "     179       734.962      0.465888       13.4366           1           1      205   \n",
      "    Iter      log prob        ||dx||      ||grad||       alpha      alpha0  # evals  Notes \n",
      "     199       735.101    0.00869786       2.52721      0.1638           1      230   \n",
      "    Iter      log prob        ||dx||      ||grad||       alpha      alpha0  # evals  Notes \n",
      "     219       735.116    0.00134615      0.556141           1           1      252   \n",
      "    Iter      log prob        ||dx||      ||grad||       alpha      alpha0  # evals  Notes \n",
      "     239       735.118    8.8154e-05      0.216317      0.6899      0.6899      273   \n",
      "    Iter      log prob        ||dx||      ||grad||       alpha      alpha0  # evals  Notes \n",
      "     259       735.118     0.0010437      0.288055           1           1      295   \n",
      "    Iter      log prob        ||dx||      ||grad||       alpha      alpha0  # evals  Notes \n",
      "     279       735.118    0.00210707      0.595717      0.2996           1      320   \n",
      "    Iter      log prob        ||dx||      ||grad||       alpha      alpha0  # evals  Notes \n",
      "     299       735.119    0.00984645      0.514292       0.477       0.477      342   \n",
      "    Iter      log prob        ||dx||      ||grad||       alpha      alpha0  # evals  Notes \n",
      "     319       735.124      0.159526       2.25346           1           1      368   \n",
      "    Iter      log prob        ||dx||      ||grad||       alpha      alpha0  # evals  Notes \n",
      "     339       735.133      0.033367       1.27945      0.8384      0.8384      390   \n",
      "    Iter      log prob        ||dx||      ||grad||       alpha      alpha0  # evals  Notes \n",
      "     359       735.137       0.11646      0.260575           1           1      412   \n",
      "    Iter      log prob        ||dx||      ||grad||       alpha      alpha0  # evals  Notes \n",
      "     379       735.138     0.0297903      0.205066       1.298      0.1298      437   \n",
      "    Iter      log prob        ||dx||      ||grad||       alpha      alpha0  # evals  Notes \n",
      "     399       735.138    0.00473483       0.14181           1           1      459   \n",
      "    Iter      log prob        ||dx||      ||grad||       alpha      alpha0  # evals  Notes \n",
      "     401       735.138     0.0018837     0.0349373           1           1      461   \n",
      "Optimization terminated normally: \n",
      "  Convergence detected: relative gradient magnitude is below tolerance\n",
      "tuning metric:0.0106\n"
     ]
    },
    {
     "name": "stderr",
     "output_type": "stream",
     "text": [
      "\n"
     ]
    }
   ],
   "source": [
    "# configs\n",
    "min_train_len = 380 # in case of rolling window, this specify the length of window length\n",
    "forecast_len = 20 # length forecast window\n",
    "incremental_len = 20 # step length for moving forward\n",
    "best_params, tuned_df = grid_search_orbit(param_grid, \n",
    "                                        model=dlt, \n",
    "                                        df=data,\n",
    "                                        min_train_len=min_train_len, \n",
    "                                        incremental_len=incremental_len, \n",
    "                                        forecast_len=forecast_len, \n",
    "                                        metrics=None, criteria=None, verbose=True)"
   ]
  },
  {
   "cell_type": "code",
   "execution_count": 31,
   "metadata": {
    "ExecuteTime": {
     "end_time": "2021-09-09T23:01:54.989375Z",
     "start_time": "2021-09-09T23:01:54.977629Z"
    }
   },
   "outputs": [
    {
     "data": {
      "text/html": [
       "<div>\n",
       "<style scoped>\n",
       "    .dataframe tbody tr th:only-of-type {\n",
       "        vertical-align: middle;\n",
       "    }\n",
       "\n",
       "    .dataframe tbody tr th {\n",
       "        vertical-align: top;\n",
       "    }\n",
       "\n",
       "    .dataframe thead th {\n",
       "        text-align: right;\n",
       "    }\n",
       "</style>\n",
       "<table border=\"1\" class=\"dataframe\">\n",
       "  <thead>\n",
       "    <tr style=\"text-align: right;\">\n",
       "      <th></th>\n",
       "      <th>level_sm_input</th>\n",
       "      <th>seasonality_sm_input</th>\n",
       "      <th>metrics</th>\n",
       "    </tr>\n",
       "  </thead>\n",
       "  <tbody>\n",
       "    <tr>\n",
       "      <th>0</th>\n",
       "      <td>0.3</td>\n",
       "      <td>0.3</td>\n",
       "      <td>0.004902</td>\n",
       "    </tr>\n",
       "    <tr>\n",
       "      <th>1</th>\n",
       "      <td>0.3</td>\n",
       "      <td>0.5</td>\n",
       "      <td>0.004041</td>\n",
       "    </tr>\n",
       "    <tr>\n",
       "      <th>2</th>\n",
       "      <td>0.3</td>\n",
       "      <td>0.8</td>\n",
       "      <td>0.003608</td>\n",
       "    </tr>\n",
       "    <tr>\n",
       "      <th>3</th>\n",
       "      <td>0.5</td>\n",
       "      <td>0.3</td>\n",
       "      <td>0.007957</td>\n",
       "    </tr>\n",
       "    <tr>\n",
       "      <th>4</th>\n",
       "      <td>0.5</td>\n",
       "      <td>0.5</td>\n",
       "      <td>0.006321</td>\n",
       "    </tr>\n",
       "  </tbody>\n",
       "</table>\n",
       "</div>"
      ],
      "text/plain": [
       "   level_sm_input  seasonality_sm_input   metrics\n",
       "0             0.3                   0.3  0.004902\n",
       "1             0.3                   0.5  0.004041\n",
       "2             0.3                   0.8  0.003608\n",
       "3             0.5                   0.3  0.007957\n",
       "4             0.5                   0.5  0.006321"
      ]
     },
     "execution_count": 31,
     "metadata": {},
     "output_type": "execute_result"
    }
   ],
   "source": [
    "tuned_df.head() # backtest output for each parameter searched"
   ]
  },
  {
   "cell_type": "code",
   "execution_count": 32,
   "metadata": {
    "ExecuteTime": {
     "end_time": "2021-09-09T23:01:54.999092Z",
     "start_time": "2021-09-09T23:01:54.993701Z"
    }
   },
   "outputs": [
    {
     "data": {
      "text/plain": [
       "[{'level_sm_input': 0.3, 'seasonality_sm_input': 0.8}]"
      ]
     },
     "execution_count": 32,
     "metadata": {},
     "output_type": "execute_result"
    }
   ],
   "source": [
    "best_params # output best parameters"
   ]
  }
 ],
 "metadata": {
  "kernelspec": {
   "display_name": "env_orbit",
   "language": "python",
   "name": "env_orbit"
  },
  "language_info": {
   "codemirror_mode": {
    "name": "ipython",
    "version": 3
   },
   "file_extension": ".py",
   "mimetype": "text/x-python",
   "name": "python",
   "nbconvert_exporter": "python",
   "pygments_lexer": "ipython3",
   "version": "3.9.6"
  },
  "toc": {
   "base_numbering": 1,
   "nav_menu": {},
   "number_sections": true,
   "sideBar": true,
   "skip_h1_title": false,
   "title_cell": "Table of Contents",
   "title_sidebar": "Contents",
   "toc_cell": false,
   "toc_position": {
    "height": "calc(100% - 180px)",
    "left": "10px",
    "top": "150px",
    "width": "306.391px"
   },
   "toc_section_display": true,
   "toc_window_display": true
  },
  "toc-autonumbering": false,
  "toc-showcode": false
 },
 "nbformat": 4,
 "nbformat_minor": 4
}
