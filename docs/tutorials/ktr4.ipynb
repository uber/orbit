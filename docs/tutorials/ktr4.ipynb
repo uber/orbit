{
 "cells": [
  {
   "cell_type": "markdown",
   "metadata": {
    "tags": []
   },
   "source": [
    "# Kernel-based Time-varying Regression - Part IV\n",
    "\n",
    "We will continue to cover advance inputs for KTR. For other details you can also refer to the original paper Ng, Wang and Dai (2021).\n",
    "\n",
    "In **Part IV**, we will cover advance inputs for regression including\n",
    "\n",
    "- regressors signs\n",
    "- adjusting knot sensitivity with respect to volume of response\n",
    "- time-point coefficients priors "
   ]
  },
  {
   "cell_type": "code",
   "execution_count": 4,
   "metadata": {},
   "outputs": [],
   "source": [
    "import pandas as pd\n",
    "import numpy as np\n",
    "from math import pi\n",
    "import matplotlib.pyplot as plt\n",
    "\n",
    "import orbit\n",
    "from orbit.models import KTR\n",
    "from orbit.diagnostics.plot import plot_predicted_components\n",
    "from orbit.utils.plot import get_orbit_style\n",
    "\n",
    "%matplotlib inline\n",
    "pd.set_option('display.float_format', lambda x: '%.5f' % x)\n",
    "orbit_style = get_orbit_style()\n",
    "plt.style.context(orbit_style);"
   ]
  },
  {
   "cell_type": "code",
   "execution_count": 83,
   "metadata": {},
   "outputs": [],
   "source": [
    "def sim_stepwise_coef_data(n, RS, p=3, n_jump=2):\n",
    "    np.random.seed(RS)\n",
    "    \n",
    "    # initializing coefficients at zeros, simulate all coefficient values\n",
    "    lev = np.cumsum(np.concatenate((np.array([5.0]), np.random.normal(0, 0.01, n-1))))\n",
    "    \n",
    "    jump_tp = np.round(np.random.uniform(0, n, (p, n_jump)), 0).astype(np.int32)\n",
    "    jump_amp = np.random.normal(0, 0.1, (p, n_jump))\n",
    "    \n",
    "    beta = np.zeros((n, p))\n",
    "    beta[0, :] = -1.5\n",
    "    for idx in range(p):\n",
    "        beta[jump_tp[idx], idx] = jump_amp[idx]\n",
    "    beta = np.cumsum(beta, 0)\n",
    "    beta += np.random.normal(0, 1e-2, (n, p))\n",
    "    # strictly positive coefficients\n",
    "    beta = np.exp(beta)\n",
    "\n",
    "    # simulate regressors\n",
    "    covariates = np.random.normal(0, 1, (n, p))\n",
    "\n",
    "    # observation with noise\n",
    "    y = lev + (covariates * beta).sum(-1) + 0.3 * np.random.normal(0, 1, n)\n",
    "\n",
    "    regressor_col = ['x{}'.format(pp) for pp in range(1, p+1)]\n",
    "    data = pd.DataFrame(covariates, columns=regressor_col)\n",
    "    data['y'] = y\n",
    "    data['date'] = pd.date_range(start='1/1/2018', periods=len(y))\n",
    "    \n",
    "    # hack for p = 3 \n",
    "    data['beta1'] = beta[:,0]\n",
    "    data['beta2'] = beta[:,1]\n",
    "    data['beta3'] = beta[:,2]    \n",
    "    \n",
    "    return data"
   ]
  },
  {
   "cell_type": "code",
   "execution_count": 84,
   "metadata": {},
   "outputs": [
    {
     "data": {
      "text/html": [
       "<div>\n",
       "<style scoped>\n",
       "    .dataframe tbody tr th:only-of-type {\n",
       "        vertical-align: middle;\n",
       "    }\n",
       "\n",
       "    .dataframe tbody tr th {\n",
       "        vertical-align: top;\n",
       "    }\n",
       "\n",
       "    .dataframe thead th {\n",
       "        text-align: right;\n",
       "    }\n",
       "</style>\n",
       "<table border=\"1\" class=\"dataframe\">\n",
       "  <thead>\n",
       "    <tr style=\"text-align: right;\">\n",
       "      <th></th>\n",
       "      <th>x1</th>\n",
       "      <th>x2</th>\n",
       "      <th>x3</th>\n",
       "      <th>y</th>\n",
       "      <th>date</th>\n",
       "      <th>beta1</th>\n",
       "      <th>beta2</th>\n",
       "      <th>beta3</th>\n",
       "    </tr>\n",
       "  </thead>\n",
       "  <tbody>\n",
       "    <tr>\n",
       "      <th>290</th>\n",
       "      <td>0.03155</td>\n",
       "      <td>-0.57452</td>\n",
       "      <td>0.06659</td>\n",
       "      <td>5.10411</td>\n",
       "      <td>2018-10-18</td>\n",
       "      <td>0.17162</td>\n",
       "      <td>0.25337</td>\n",
       "      <td>0.22347</td>\n",
       "    </tr>\n",
       "    <tr>\n",
       "      <th>291</th>\n",
       "      <td>-1.00310</td>\n",
       "      <td>0.47901</td>\n",
       "      <td>-0.53047</td>\n",
       "      <td>5.23974</td>\n",
       "      <td>2018-10-19</td>\n",
       "      <td>0.17194</td>\n",
       "      <td>0.25216</td>\n",
       "      <td>0.22092</td>\n",
       "    </tr>\n",
       "    <tr>\n",
       "      <th>292</th>\n",
       "      <td>0.28695</td>\n",
       "      <td>0.61022</td>\n",
       "      <td>0.66294</td>\n",
       "      <td>5.48032</td>\n",
       "      <td>2018-10-20</td>\n",
       "      <td>0.17073</td>\n",
       "      <td>0.25061</td>\n",
       "      <td>0.22510</td>\n",
       "    </tr>\n",
       "    <tr>\n",
       "      <th>293</th>\n",
       "      <td>-0.52936</td>\n",
       "      <td>1.48160</td>\n",
       "      <td>1.17136</td>\n",
       "      <td>5.67231</td>\n",
       "      <td>2018-10-21</td>\n",
       "      <td>0.17207</td>\n",
       "      <td>0.25340</td>\n",
       "      <td>0.22509</td>\n",
       "    </tr>\n",
       "    <tr>\n",
       "      <th>294</th>\n",
       "      <td>-0.58430</td>\n",
       "      <td>0.77060</td>\n",
       "      <td>-0.11744</td>\n",
       "      <td>5.51009</td>\n",
       "      <td>2018-10-22</td>\n",
       "      <td>0.17610</td>\n",
       "      <td>0.25398</td>\n",
       "      <td>0.22252</td>\n",
       "    </tr>\n",
       "    <tr>\n",
       "      <th>295</th>\n",
       "      <td>0.91221</td>\n",
       "      <td>-0.64489</td>\n",
       "      <td>-0.76538</td>\n",
       "      <td>4.79089</td>\n",
       "      <td>2018-10-23</td>\n",
       "      <td>0.17331</td>\n",
       "      <td>0.25274</td>\n",
       "      <td>0.21892</td>\n",
       "    </tr>\n",
       "    <tr>\n",
       "      <th>296</th>\n",
       "      <td>-1.03230</td>\n",
       "      <td>-0.61765</td>\n",
       "      <td>0.46613</td>\n",
       "      <td>4.87878</td>\n",
       "      <td>2018-10-24</td>\n",
       "      <td>0.17273</td>\n",
       "      <td>0.24676</td>\n",
       "      <td>0.22153</td>\n",
       "    </tr>\n",
       "    <tr>\n",
       "      <th>297</th>\n",
       "      <td>0.59207</td>\n",
       "      <td>-0.05361</td>\n",
       "      <td>0.95064</td>\n",
       "      <td>5.53987</td>\n",
       "      <td>2018-10-25</td>\n",
       "      <td>0.17823</td>\n",
       "      <td>0.25257</td>\n",
       "      <td>0.22188</td>\n",
       "    </tr>\n",
       "    <tr>\n",
       "      <th>298</th>\n",
       "      <td>-0.10021</td>\n",
       "      <td>0.04903</td>\n",
       "      <td>-0.89586</td>\n",
       "      <td>4.92437</td>\n",
       "      <td>2018-10-26</td>\n",
       "      <td>0.17223</td>\n",
       "      <td>0.25744</td>\n",
       "      <td>0.22285</td>\n",
       "    </tr>\n",
       "    <tr>\n",
       "      <th>299</th>\n",
       "      <td>1.72214</td>\n",
       "      <td>0.07972</td>\n",
       "      <td>-0.49909</td>\n",
       "      <td>5.38139</td>\n",
       "      <td>2018-10-27</td>\n",
       "      <td>0.17381</td>\n",
       "      <td>0.25428</td>\n",
       "      <td>0.22034</td>\n",
       "    </tr>\n",
       "  </tbody>\n",
       "</table>\n",
       "</div>"
      ],
      "text/plain": [
       "          x1       x2       x3       y       date   beta1   beta2   beta3\n",
       "290  0.03155 -0.57452  0.06659 5.10411 2018-10-18 0.17162 0.25337 0.22347\n",
       "291 -1.00310  0.47901 -0.53047 5.23974 2018-10-19 0.17194 0.25216 0.22092\n",
       "292  0.28695  0.61022  0.66294 5.48032 2018-10-20 0.17073 0.25061 0.22510\n",
       "293 -0.52936  1.48160  1.17136 5.67231 2018-10-21 0.17207 0.25340 0.22509\n",
       "294 -0.58430  0.77060 -0.11744 5.51009 2018-10-22 0.17610 0.25398 0.22252\n",
       "295  0.91221 -0.64489 -0.76538 4.79089 2018-10-23 0.17331 0.25274 0.21892\n",
       "296 -1.03230 -0.61765  0.46613 4.87878 2018-10-24 0.17273 0.24676 0.22153\n",
       "297  0.59207 -0.05361  0.95064 5.53987 2018-10-25 0.17823 0.25257 0.22188\n",
       "298 -0.10021  0.04903 -0.89586 4.92437 2018-10-26 0.17223 0.25744 0.22285\n",
       "299  1.72214  0.07972 -0.49909 5.38139 2018-10-27 0.17381 0.25428 0.22034"
      ]
     },
     "execution_count": 84,
     "metadata": {},
     "output_type": "execute_result"
    }
   ],
   "source": [
    "data = sim_stepwise_coef_data(n=300, RS=2021, p=3, n_jump=2)\n",
    "data.tail(10)"
   ]
  },
  {
   "cell_type": "code",
   "execution_count": 85,
   "metadata": {},
   "outputs": [
    {
     "data": {
      "text/plain": [
       "<AxesSubplot:>"
      ]
     },
     "execution_count": 85,
     "metadata": {},
     "output_type": "execute_result"
    },
    {
     "data": {
      "image/png": "[encoded data removed]",
      "text/plain": [
       "<Figure size 432x288 with 1 Axes>"
      ]
     },
     "metadata": {
      "needs_background": "light"
     },
     "output_type": "display_data"
    }
   ],
   "source": [
    "data['beta2'].plot()"
   ]
  },
  {
   "cell_type": "code",
   "execution_count": 86,
   "metadata": {},
   "outputs": [],
   "source": [
    "# num of predictors\n",
    "p = 3\n",
    "regressor_col = ['x{}'.format(pp) for pp in range(1, p + 1)]\n",
    "response_col = 'y'\n",
    "date_col='date'"
   ]
  },
  {
   "cell_type": "markdown",
   "metadata": {},
   "source": [
    "Here, we need to supply additional args to describe the regressors."
   ]
  },
  {
   "cell_type": "code",
   "execution_count": 95,
   "metadata": {},
   "outputs": [],
   "source": [
    "ktr = KTR(\n",
    "    response_col=response_col,\n",
    "    date_col=date_col,\n",
    "    regressor_col=regressor_col,\n",
    "    regressor_init_knot_scale=[1.0] * 3,\n",
    "    regressor_knot_scale=[0.1] * 3,\n",
    "    prediction_percentiles=[2.5, 97.5],\n",
    "    seed=2021,\n",
    "    estimator='pyro-svi',\n",
    ")"
   ]
  },
  {
   "cell_type": "markdown",
   "metadata": {},
   "source": [
    "After the initialization, the fit-and-predict would be similar to the previous models. And now you should expect a regression component reported in prediction if you specify `decompose=True`."
   ]
  },
  {
   "cell_type": "code",
   "execution_count": 96,
   "metadata": {},
   "outputs": [
    {
     "name": "stderr",
     "output_type": "stream",
     "text": [
      "INFO:root:Guessed max_plate_nesting = 1\n"
     ]
    },
    {
     "data": {
      "text/html": [
       "<div>\n",
       "<style scoped>\n",
       "    .dataframe tbody tr th:only-of-type {\n",
       "        vertical-align: middle;\n",
       "    }\n",
       "\n",
       "    .dataframe tbody tr th {\n",
       "        vertical-align: top;\n",
       "    }\n",
       "\n",
       "    .dataframe thead th {\n",
       "        text-align: right;\n",
       "    }\n",
       "</style>\n",
       "<table border=\"1\" class=\"dataframe\">\n",
       "  <thead>\n",
       "    <tr style=\"text-align: right;\">\n",
       "      <th></th>\n",
       "      <th>date</th>\n",
       "      <th>prediction_2.5</th>\n",
       "      <th>prediction</th>\n",
       "      <th>prediction_97.5</th>\n",
       "    </tr>\n",
       "  </thead>\n",
       "  <tbody>\n",
       "    <tr>\n",
       "      <th>0</th>\n",
       "      <td>2018-01-01</td>\n",
       "      <td>4.09773</td>\n",
       "      <td>4.76812</td>\n",
       "      <td>5.42231</td>\n",
       "    </tr>\n",
       "    <tr>\n",
       "      <th>1</th>\n",
       "      <td>2018-01-02</td>\n",
       "      <td>4.46397</td>\n",
       "      <td>5.04856</td>\n",
       "      <td>5.61600</td>\n",
       "    </tr>\n",
       "    <tr>\n",
       "      <th>2</th>\n",
       "      <td>2018-01-03</td>\n",
       "      <td>4.68061</td>\n",
       "      <td>5.27377</td>\n",
       "      <td>6.02504</td>\n",
       "    </tr>\n",
       "    <tr>\n",
       "      <th>3</th>\n",
       "      <td>2018-01-04</td>\n",
       "      <td>4.12033</td>\n",
       "      <td>4.71642</td>\n",
       "      <td>5.41158</td>\n",
       "    </tr>\n",
       "    <tr>\n",
       "      <th>4</th>\n",
       "      <td>2018-01-05</td>\n",
       "      <td>4.45857</td>\n",
       "      <td>5.02531</td>\n",
       "      <td>5.57943</td>\n",
       "    </tr>\n",
       "    <tr>\n",
       "      <th>...</th>\n",
       "      <td>...</td>\n",
       "      <td>...</td>\n",
       "      <td>...</td>\n",
       "      <td>...</td>\n",
       "    </tr>\n",
       "    <tr>\n",
       "      <th>295</th>\n",
       "      <td>2018-10-23</td>\n",
       "      <td>4.49002</td>\n",
       "      <td>5.07090</td>\n",
       "      <td>5.75010</td>\n",
       "    </tr>\n",
       "    <tr>\n",
       "      <th>296</th>\n",
       "      <td>2018-10-24</td>\n",
       "      <td>4.37430</td>\n",
       "      <td>5.00449</td>\n",
       "      <td>5.70300</td>\n",
       "    </tr>\n",
       "    <tr>\n",
       "      <th>297</th>\n",
       "      <td>2018-10-25</td>\n",
       "      <td>4.86800</td>\n",
       "      <td>5.46943</td>\n",
       "      <td>6.00925</td>\n",
       "    </tr>\n",
       "    <tr>\n",
       "      <th>298</th>\n",
       "      <td>2018-10-26</td>\n",
       "      <td>4.48838</td>\n",
       "      <td>5.07411</td>\n",
       "      <td>5.83473</td>\n",
       "    </tr>\n",
       "    <tr>\n",
       "      <th>299</th>\n",
       "      <td>2018-10-27</td>\n",
       "      <td>4.88879</td>\n",
       "      <td>5.43390</td>\n",
       "      <td>6.17265</td>\n",
       "    </tr>\n",
       "  </tbody>\n",
       "</table>\n",
       "<p>300 rows × 4 columns</p>\n",
       "</div>"
      ],
      "text/plain": [
       "          date  prediction_2.5  prediction  prediction_97.5\n",
       "0   2018-01-01         4.09773     4.76812          5.42231\n",
       "1   2018-01-02         4.46397     5.04856          5.61600\n",
       "2   2018-01-03         4.68061     5.27377          6.02504\n",
       "3   2018-01-04         4.12033     4.71642          5.41158\n",
       "4   2018-01-05         4.45857     5.02531          5.57943\n",
       "..         ...             ...         ...              ...\n",
       "295 2018-10-23         4.49002     5.07090          5.75010\n",
       "296 2018-10-24         4.37430     5.00449          5.70300\n",
       "297 2018-10-25         4.86800     5.46943          6.00925\n",
       "298 2018-10-26         4.48838     5.07411          5.83473\n",
       "299 2018-10-27         4.88879     5.43390          6.17265\n",
       "\n",
       "[300 rows x 4 columns]"
      ]
     },
     "execution_count": 96,
     "metadata": {},
     "output_type": "execute_result"
    }
   ],
   "source": [
    "ktr.fit(df=data)\n",
    "ktr.predict(df=data)"
   ]
  },
  {
   "cell_type": "markdown",
   "metadata": {},
   "source": [
    "## Visualization of Regression Coefficient Curves\n",
    "\n",
    "First, we can leverage `get_regression_coefs` to extract coefficients with intervals by supplying argument `include_ci=True`."
   ]
  },
  {
   "cell_type": "code",
   "execution_count": 97,
   "metadata": {},
   "outputs": [],
   "source": [
    "coef_mid, coef_lower, coef_upper  = ktr.get_regression_coefs(include_ci=True)"
   ]
  },
  {
   "cell_type": "code",
   "execution_count": 98,
   "metadata": {},
   "outputs": [
    {
     "data": {
      "text/html": [
       "<div>\n",
       "<style scoped>\n",
       "    .dataframe tbody tr th:only-of-type {\n",
       "        vertical-align: middle;\n",
       "    }\n",
       "\n",
       "    .dataframe tbody tr th {\n",
       "        vertical-align: top;\n",
       "    }\n",
       "\n",
       "    .dataframe thead th {\n",
       "        text-align: right;\n",
       "    }\n",
       "</style>\n",
       "<table border=\"1\" class=\"dataframe\">\n",
       "  <thead>\n",
       "    <tr style=\"text-align: right;\">\n",
       "      <th></th>\n",
       "      <th>date</th>\n",
       "      <th>x1</th>\n",
       "      <th>x2</th>\n",
       "      <th>x3</th>\n",
       "    </tr>\n",
       "  </thead>\n",
       "  <tbody>\n",
       "    <tr>\n",
       "      <th>0</th>\n",
       "      <td>2018-01-01</td>\n",
       "      <td>0.15528</td>\n",
       "      <td>0.25345</td>\n",
       "      <td>0.17111</td>\n",
       "    </tr>\n",
       "    <tr>\n",
       "      <th>1</th>\n",
       "      <td>2018-01-02</td>\n",
       "      <td>0.15587</td>\n",
       "      <td>0.25328</td>\n",
       "      <td>0.17114</td>\n",
       "    </tr>\n",
       "    <tr>\n",
       "      <th>2</th>\n",
       "      <td>2018-01-03</td>\n",
       "      <td>0.15648</td>\n",
       "      <td>0.25312</td>\n",
       "      <td>0.17117</td>\n",
       "    </tr>\n",
       "    <tr>\n",
       "      <th>3</th>\n",
       "      <td>2018-01-04</td>\n",
       "      <td>0.15709</td>\n",
       "      <td>0.25295</td>\n",
       "      <td>0.17121</td>\n",
       "    </tr>\n",
       "    <tr>\n",
       "      <th>4</th>\n",
       "      <td>2018-01-05</td>\n",
       "      <td>0.15771</td>\n",
       "      <td>0.25279</td>\n",
       "      <td>0.17125</td>\n",
       "    </tr>\n",
       "  </tbody>\n",
       "</table>\n",
       "</div>"
      ],
      "text/plain": [
       "        date      x1      x2      x3\n",
       "0 2018-01-01 0.15528 0.25345 0.17111\n",
       "1 2018-01-02 0.15587 0.25328 0.17114\n",
       "2 2018-01-03 0.15648 0.25312 0.17117\n",
       "3 2018-01-04 0.15709 0.25295 0.17121\n",
       "4 2018-01-05 0.15771 0.25279 0.17125"
      ]
     },
     "execution_count": 98,
     "metadata": {},
     "output_type": "execute_result"
    }
   ],
   "source": [
    "coef_mid.head(5)"
   ]
  },
  {
   "cell_type": "markdown",
   "metadata": {},
   "source": [
    "Let's overlay the estimate with the true coefficients."
   ]
  },
  {
   "cell_type": "code",
   "execution_count": 99,
   "metadata": {},
   "outputs": [
    {
     "data": {
      "image/png": "[encoded data removed]",
      "text/plain": [
       "<Figure size 864x864 with 3 Axes>"
      ]
     },
     "metadata": {
      "needs_background": "light"
     },
     "output_type": "display_data"
    }
   ],
   "source": [
    "fig, axes = plt.subplots(p, 1, figsize=(12, 12), sharex=True)\n",
    "\n",
    "x = np.arange(coef_mid.shape[0])\n",
    "for idx in range(p):\n",
    "    axes[idx].plot(x, coef_mid['x{}'.format(idx + 1)], label='est' if idx == 0 else \"\", alpha=0.5)\n",
    "    axes[idx].fill_between(x, coef_lower['x{}'.format(idx + 1)], coef_upper['x{}'.format(idx + 1)], alpha=0.5)\n",
    "    axes[idx].scatter(x, data['beta{}'.format(idx + 1)], label='truth' if idx == 0 else \"\", s=10, alpha=0.5)\n",
    "    axes[idx].set_title('beta{}'.format(idx + 1))\n",
    "\n",
    "fig.legend(bbox_to_anchor = (1,0.5));"
   ]
  }
 ],
 "metadata": {
  "kernelspec": {
   "display_name": "orbit37",
   "language": "python",
   "name": "orbit37"
  },
  "language_info": {
   "codemirror_mode": {
    "name": "ipython",
    "version": 3
   },
   "file_extension": ".py",
   "mimetype": "text/x-python",
   "name": "python",
   "nbconvert_exporter": "python",
   "pygments_lexer": "ipython3",
   "version": "3.7.8"
  },
  "toc": {
   "base_numbering": 1,
   "nav_menu": {},
   "number_sections": true,
   "sideBar": true,
   "skip_h1_title": true,
   "title_cell": "Table of Contents",
   "title_sidebar": "Contents",
   "toc_cell": false,
   "toc_position": {},
   "toc_section_display": true,
   "toc_window_display": true
  },
  "toc-autonumbering": true
 },
 "nbformat": 4,
 "nbformat_minor": 4
}
