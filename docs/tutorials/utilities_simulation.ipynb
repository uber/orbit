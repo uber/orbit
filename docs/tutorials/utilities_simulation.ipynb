{
 "cells": [
  {
   "cell_type": "markdown",
   "metadata": {},
   "source": [
    "# Simulation Data\n",
    "\n",
    "Orbit provide the functions to generate the simulation data including: \n",
    "\n",
    "1. Generate the data with time-series trend:\n",
    "     - random walk\n",
    "     - arima\n",
    "2. Generate the data with seasonality\n",
    "     - discrete\n",
    "     - fourier series\n",
    "3. Generate regression data"
   ]
  },
  {
   "cell_type": "code",
   "execution_count": 1,
   "metadata": {
    "ExecuteTime": {
     "end_time": "2022-04-28T21:49:20.662186Z",
     "start_time": "2022-04-28T21:49:19.490820Z"
    }
   },
   "outputs": [
    {
     "ename": "ModuleNotFoundError",
     "evalue": "No module named 'sklearn'",
     "output_type": "error",
     "traceback": [
      "\u001b[0;31m---------------------------------------------------------------------------\u001b[0m",
      "\u001b[0;31mModuleNotFoundError\u001b[0m                       Traceback (most recent call last)",
      "Cell \u001b[0;32mIn [1], line 3\u001b[0m\n\u001b[1;32m      1\u001b[0m \u001b[38;5;28;01mimport\u001b[39;00m \u001b[38;5;21;01mnumpy\u001b[39;00m \u001b[38;5;28;01mas\u001b[39;00m \u001b[38;5;21;01mnp\u001b[39;00m\n\u001b[1;32m      2\u001b[0m \u001b[38;5;28;01mimport\u001b[39;00m \u001b[38;5;21;01mmatplotlib\u001b[39;00m\u001b[38;5;21;01m.\u001b[39;00m\u001b[38;5;21;01mpyplot\u001b[39;00m \u001b[38;5;28;01mas\u001b[39;00m \u001b[38;5;21;01mplt\u001b[39;00m\n\u001b[0;32m----> 3\u001b[0m \u001b[38;5;28;01mfrom\u001b[39;00m \u001b[38;5;21;01msklearn\u001b[39;00m\u001b[38;5;21;01m.\u001b[39;00m\u001b[38;5;21;01mlinear_model\u001b[39;00m \u001b[38;5;28;01mimport\u001b[39;00m LinearRegression\n\u001b[1;32m      5\u001b[0m \u001b[38;5;28;01mimport\u001b[39;00m \u001b[38;5;21;01morbit\u001b[39;00m\n\u001b[1;32m      6\u001b[0m \u001b[38;5;28;01mfrom\u001b[39;00m \u001b[38;5;21;01morbit\u001b[39;00m\u001b[38;5;21;01m.\u001b[39;00m\u001b[38;5;21;01mutils\u001b[39;00m\u001b[38;5;21;01m.\u001b[39;00m\u001b[38;5;21;01msimulation\u001b[39;00m \u001b[38;5;28;01mimport\u001b[39;00m make_trend, make_seasonality, make_regression\n",
      "\u001b[0;31mModuleNotFoundError\u001b[0m: No module named 'sklearn'"
     ]
    }
   ],
   "source": [
    "import numpy as np\n",
    "import matplotlib.pyplot as plt\n",
    "from sklearn.linear_model import LinearRegression\n",
    "\n",
    "import orbit\n",
    "from orbit.utils.simulation import make_trend, make_seasonality, make_regression\n",
    "from orbit.utils.plot import get_orbit_style\n",
    "plt.style.use(get_orbit_style())\n",
    "from orbit.constants.palette import OrbitPalette\n",
    "\n",
    "%matplotlib inline"
   ]
  },
  {
   "cell_type": "code",
   "execution_count": null,
   "metadata": {
    "ExecuteTime": {
     "end_time": "2022-04-28T21:49:20.666637Z",
     "start_time": "2022-04-28T21:49:20.664049Z"
    }
   },
   "outputs": [],
   "source": [
    "print(orbit.__version__)"
   ]
  },
  {
   "cell_type": "markdown",
   "metadata": {},
   "source": [
    "## Trend"
   ]
  },
  {
   "cell_type": "markdown",
   "metadata": {},
   "source": [
    "### Random Walk"
   ]
  },
  {
   "cell_type": "code",
   "execution_count": null,
   "metadata": {
    "ExecuteTime": {
     "end_time": "2021-09-01T23:38:53.477154Z",
     "start_time": "2021-09-01T23:38:53.329591Z"
    }
   },
   "outputs": [],
   "source": [
    "rw = make_trend(200, rw_loc=0.02, rw_scale=0.1, seed=2020)\n",
    "_ = plt.plot(rw, color = OrbitPalette.BLUE.value)"
   ]
  },
  {
   "cell_type": "markdown",
   "metadata": {},
   "source": [
    "### ARMA\n",
    "\n",
    "reference for the ARMA process: https://www.statsmodels.org/stable/generated/statsmodels.tsa.arima_process.ArmaProcess.html"
   ]
  },
  {
   "cell_type": "code",
   "execution_count": null,
   "metadata": {
    "ExecuteTime": {
     "end_time": "2021-09-01T23:38:53.602163Z",
     "start_time": "2021-09-01T23:38:53.479078Z"
    }
   },
   "outputs": [],
   "source": [
    "arma_trend =  make_trend(200, method='arma', arma=[.8, -.1], seed=2020)\n",
    "_ = plt.plot(arma_trend, color = OrbitPalette.BLUE.value)"
   ]
  },
  {
   "cell_type": "markdown",
   "metadata": {},
   "source": [
    "## Seasonality"
   ]
  },
  {
   "cell_type": "markdown",
   "metadata": {},
   "source": [
    "### Discrete"
   ]
  },
  {
   "cell_type": "markdown",
   "metadata": {},
   "source": [
    "generating a weekly seasonality(=7) where seasonality within a day is constant(duration=24) on an hourly time-series"
   ]
  },
  {
   "cell_type": "code",
   "execution_count": null,
   "metadata": {
    "ExecuteTime": {
     "end_time": "2021-09-01T23:38:53.756546Z",
     "start_time": "2021-09-01T23:38:53.603644Z"
    }
   },
   "outputs": [],
   "source": [
    "ds = make_seasonality(500, seasonality=7, duration=24, method='discrete', seed=2020)\n",
    "_ = plt.plot(ds, color = OrbitPalette.BLUE.value)"
   ]
  },
  {
   "cell_type": "markdown",
   "metadata": {},
   "source": [
    "### Fourier"
   ]
  },
  {
   "cell_type": "markdown",
   "metadata": {},
   "source": [
    "generating a sine-cosine wave seasonality for a annual seasonality(=365) using fourier series"
   ]
  },
  {
   "cell_type": "code",
   "execution_count": null,
   "metadata": {
    "ExecuteTime": {
     "end_time": "2021-09-01T23:38:53.854727Z",
     "start_time": "2021-09-01T23:38:53.758232Z"
    }
   },
   "outputs": [],
   "source": [
    "fs = make_seasonality(365 * 3, seasonality=365, method='fourier', order=5, seed=2020)\n",
    "_ = plt.plot(fs, color = OrbitPalette.BLUE.value)"
   ]
  },
  {
   "cell_type": "code",
   "execution_count": null,
   "metadata": {
    "ExecuteTime": {
     "end_time": "2021-09-01T23:38:53.859851Z",
     "start_time": "2021-09-01T23:38:53.856462Z"
    }
   },
   "outputs": [],
   "source": [
    "fs"
   ]
  },
  {
   "cell_type": "markdown",
   "metadata": {},
   "source": [
    "## Regression"
   ]
  },
  {
   "cell_type": "markdown",
   "metadata": {},
   "source": [
    "generating multiplicative time-series with trend, seasonality and regression components"
   ]
  },
  {
   "cell_type": "code",
   "execution_count": null,
   "metadata": {
    "ExecuteTime": {
     "end_time": "2021-09-01T23:38:53.865795Z",
     "start_time": "2021-09-01T23:38:53.863583Z"
    }
   },
   "outputs": [],
   "source": [
    "# define the regression coefficients\n",
    "coefs = [0.1, -.33, 0.8]"
   ]
  },
  {
   "cell_type": "code",
   "execution_count": null,
   "metadata": {
    "ExecuteTime": {
     "end_time": "2021-09-01T23:38:53.870945Z",
     "start_time": "2021-09-01T23:38:53.868081Z"
    }
   },
   "outputs": [],
   "source": [
    "x, y, coefs = make_regression(200, coefs, scale=2.0, seed=2020)"
   ]
  },
  {
   "cell_type": "code",
   "execution_count": null,
   "metadata": {
    "ExecuteTime": {
     "end_time": "2021-09-01T23:38:54.010060Z",
     "start_time": "2021-09-01T23:38:53.873157Z"
    }
   },
   "outputs": [],
   "source": [
    "_ = plt.plot(y, color = OrbitPalette.BLUE.value)"
   ]
  },
  {
   "cell_type": "code",
   "execution_count": null,
   "metadata": {
    "ExecuteTime": {
     "end_time": "2021-09-01T23:38:54.016208Z",
     "start_time": "2021-09-01T23:38:54.011933Z"
    }
   },
   "outputs": [],
   "source": [
    "# check if get the coefficients as set up \n",
    "reg = LinearRegression().fit(x, y)\n",
    "print(reg.coef_)"
   ]
  }
 ],
 "metadata": {
  "kernelspec": {
   "display_name": "orbit39-cmdstan",
   "language": "python",
   "name": "orbit39-cmdstan"
  },
  "language_info": {
   "codemirror_mode": {
    "name": "ipython",
    "version": 3
   },
   "file_extension": ".py",
   "mimetype": "text/x-python",
   "name": "python",
   "nbconvert_exporter": "python",
   "pygments_lexer": "ipython3",
   "version": "3.9.15"
  },
  "toc": {
   "base_numbering": 1,
   "nav_menu": {},
   "number_sections": true,
   "sideBar": true,
   "skip_h1_title": false,
   "title_cell": "Table of Contents",
   "title_sidebar": "Contents",
   "toc_cell": false,
   "toc_position": {},
   "toc_section_display": true,
   "toc_window_display": false
  }
 },
 "nbformat": 4,
 "nbformat_minor": 4
}
