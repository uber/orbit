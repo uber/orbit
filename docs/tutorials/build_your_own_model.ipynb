{
 "cells": [
  {
   "cell_type": "markdown",
   "id": "db333d1e",
   "metadata": {},
   "source": [
    "# Build Your Own Model\n",
    "\n",
    "One important feature of `orbit` is to allow users to build and customize some prototype models promptly to serve their own purpose. Users just need to code up the core model structure part, then orbit will facilitate and streamline the downstream functionalities, such as fit-predict, diagnostics, etc.\n",
    "\n",
    "In this section, we give a demo on how to build up a new model, i.e., `PyroVIRegression`, with the help of orbit."
   ]
  },
  {
   "cell_type": "code",
   "execution_count": 1,
   "id": "11140c35",
   "metadata": {
    "ExecuteTime": {
     "end_time": "2021-03-20T22:18:29.580991Z",
     "start_time": "2021-03-20T22:18:27.494932Z"
    }
   },
   "outputs": [],
   "source": [
    "import pandas as pd\n",
    "import numpy as np\n",
    "import torch\n",
    "import pyro\n",
    "import pyro.distributions as dist\n",
    "\n",
    "import orbit\n",
    "from orbit.models.template import BaseTemplate\n",
    "from orbit.models.template import FullBayesianTemplate\n",
    "from orbit.estimators.pyro_estimator import PyroEstimatorVI\n",
    "\n",
    "from orbit.utils.simulation import make_regression\n",
    "\n",
    "%matplotlib inline"
   ]
  },
  {
   "cell_type": "code",
   "execution_count": 2,
   "id": "fbb3cdc5",
   "metadata": {
    "ExecuteTime": {
     "end_time": "2021-03-20T22:18:29.585328Z",
     "start_time": "2021-03-20T22:18:29.582788Z"
    }
   },
   "outputs": [],
   "source": [
    "assert orbit.__version__ == '1.0.14dev'"
   ]
  },
  {
   "cell_type": "markdown",
   "id": "649f77bc",
   "metadata": {},
   "source": [
    "## Define a new model structure"
   ]
  },
  {
   "cell_type": "code",
   "execution_count": 3,
   "id": "df2e71f8",
   "metadata": {
    "ExecuteTime": {
     "end_time": "2021-03-20T22:18:29.594776Z",
     "start_time": "2021-03-20T22:18:29.588382Z"
    }
   },
   "outputs": [],
   "source": [
    "class MyFitter:\n",
    "    max_plate_nesting = 1  # max number of plates nested in model\n",
    "\n",
    "    def __init__(self, data):\n",
    "        for key, value in data.items():\n",
    "            key = key.lower()\n",
    "            if isinstance(value, (list, np.ndarray)):\n",
    "                value = torch.tensor(value, dtype=torch.float)\n",
    "            self.__dict__[key] = value\n",
    "\n",
    "    def __call__(self):\n",
    "        extra_out = {}\n",
    "        \n",
    "        p = self.regressor.shape[1]\n",
    "        bias = pyro.sample(\"bias\", dist.Normal(0, 1))\n",
    "        weight = pyro.sample(\"weight\", dist.Normal(0, 1).expand([p]).to_event(1))\n",
    "        yhat = bias + weight @ self.regressor.transpose(-1, -2)\n",
    "        obs_sigma = pyro.sample(\"obs_sigma\", dist.HalfCauchy(self.response_sd))\n",
    "        \n",
    "        with pyro.plate(\"response_plate\", self.num_of_obs):\n",
    "            pyro.sample(\"response\", dist.Normal(yhat, obs_sigma), obs=self.response)\n",
    "        return extra_out"
   ]
  },
  {
   "cell_type": "markdown",
   "id": "b38a239b",
   "metadata": {},
   "source": [
    "## Define data mapper"
   ]
  },
  {
   "cell_type": "code",
   "execution_count": 4,
   "id": "b1a15758",
   "metadata": {
    "ExecuteTime": {
     "end_time": "2021-03-20T22:18:29.600210Z",
     "start_time": "2021-03-20T22:18:29.597366Z"
    }
   },
   "outputs": [],
   "source": [
    "from enum import Enum\n",
    "\n",
    "class MyDataMapper(Enum):\n",
    "    NUM_OF_OBSERVATIONS = 'NUM_OF_OBS'\n",
    "    RESPONSE = 'RESPONSE'\n",
    "    RESPONSE_SD = 'RESPONSE_SD'\n",
    "    REGRESSOR = 'REGRESSOR'"
   ]
  },
  {
   "cell_type": "markdown",
   "id": "d74b0dc8",
   "metadata": {},
   "source": [
    "## Put it into the template"
   ]
  },
  {
   "cell_type": "code",
   "execution_count": 5,
   "id": "5e6bbad7",
   "metadata": {
    "ExecuteTime": {
     "end_time": "2021-03-20T22:18:29.607407Z",
     "start_time": "2021-03-20T22:18:29.602021Z"
    }
   },
   "outputs": [],
   "source": [
    "class BaseRegression(BaseTemplate):\n",
    "    _fitter = MyFitter\n",
    "    _data_input_mapper = MyDataMapper\n",
    "    def __init__(self, regressor_col, **kwargs):\n",
    "        super().__init__(**kwargs)  # create estimator in base class\n",
    "        self.regressor_col = regressor_col\n",
    "        self.regressor = None\n",
    "\n",
    "    def _set_model_param_names(self):\n",
    "        # sampling parameters\n",
    "        self._model_param_names = ['bias', 'weight', 'obs_sigma']\n",
    "    \n",
    "    def _set_dynamic_attributes(self, df):\n",
    "        # additional information want to bring into the model fitting\n",
    "        self.regressor = df[self.regressor_col].values\n",
    "\n",
    "class PyroVIRegression(FullBayesianTemplate, BaseRegression):\n",
    "    \n",
    "    _supported_estimator_types = [PyroEstimatorVI]\n",
    "    \n",
    "    def __init__(self, estimator_type=PyroEstimatorVI, **kwargs):\n",
    "        super().__init__(estimator_type=estimator_type, **kwargs)"
   ]
  },
  {
   "cell_type": "markdown",
   "id": "b183edc8",
   "metadata": {},
   "source": [
    "## Test out the new model!"
   ]
  },
  {
   "cell_type": "markdown",
   "id": "9e593898",
   "metadata": {},
   "source": [
    "Prepare the input data."
   ]
  },
  {
   "cell_type": "code",
   "execution_count": 6,
   "id": "1c90010d",
   "metadata": {
    "ExecuteTime": {
     "end_time": "2021-03-20T22:18:29.612454Z",
     "start_time": "2021-03-20T22:18:29.609196Z"
    }
   },
   "outputs": [],
   "source": [
    "x, y, coefs = make_regression(120, [3.0, -1.0], bias=1.0)"
   ]
  },
  {
   "cell_type": "code",
   "execution_count": 7,
   "id": "b35f771a",
   "metadata": {
    "ExecuteTime": {
     "end_time": "2021-03-20T22:18:29.618915Z",
     "start_time": "2021-03-20T22:18:29.614167Z"
    }
   },
   "outputs": [],
   "source": [
    "df = pd.DataFrame(\n",
    "    np.concatenate([y.reshape(-1, 1), x], axis=1), columns=['y', 'x1', 'x2']\n",
    ")\n",
    "df['week'] = pd.date_range(start='2016-01-04', periods=len(y), freq='7D')"
   ]
  },
  {
   "cell_type": "code",
   "execution_count": 8,
   "id": "0ee88e3f",
   "metadata": {
    "ExecuteTime": {
     "end_time": "2021-03-20T22:18:29.634956Z",
     "start_time": "2021-03-20T22:18:29.622013Z"
    }
   },
   "outputs": [
    {
     "data": {
      "text/html": [
       "<div>\n",
       "<style scoped>\n",
       "    .dataframe tbody tr th:only-of-type {\n",
       "        vertical-align: middle;\n",
       "    }\n",
       "\n",
       "    .dataframe tbody tr th {\n",
       "        vertical-align: top;\n",
       "    }\n",
       "\n",
       "    .dataframe thead th {\n",
       "        text-align: right;\n",
       "    }\n",
       "</style>\n",
       "<table border=\"1\" class=\"dataframe\">\n",
       "  <thead>\n",
       "    <tr style=\"text-align: right;\">\n",
       "      <th></th>\n",
       "      <th>y</th>\n",
       "      <th>x1</th>\n",
       "      <th>x2</th>\n",
       "      <th>week</th>\n",
       "    </tr>\n",
       "  </thead>\n",
       "  <tbody>\n",
       "    <tr>\n",
       "      <th>0</th>\n",
       "      <td>1.863960</td>\n",
       "      <td>0.172792</td>\n",
       "      <td>0.000000</td>\n",
       "      <td>2016-01-04</td>\n",
       "    </tr>\n",
       "    <tr>\n",
       "      <th>1</th>\n",
       "      <td>2.317274</td>\n",
       "      <td>0.165219</td>\n",
       "      <td>-0.000000</td>\n",
       "      <td>2016-01-11</td>\n",
       "    </tr>\n",
       "    <tr>\n",
       "      <th>2</th>\n",
       "      <td>2.465284</td>\n",
       "      <td>0.452678</td>\n",
       "      <td>0.223187</td>\n",
       "      <td>2016-01-18</td>\n",
       "    </tr>\n",
       "    <tr>\n",
       "      <th>3</th>\n",
       "      <td>-0.593716</td>\n",
       "      <td>-0.000000</td>\n",
       "      <td>0.290559</td>\n",
       "      <td>2016-01-25</td>\n",
       "    </tr>\n",
       "    <tr>\n",
       "      <th>4</th>\n",
       "      <td>2.305148</td>\n",
       "      <td>0.182286</td>\n",
       "      <td>0.147066</td>\n",
       "      <td>2016-02-01</td>\n",
       "    </tr>\n",
       "  </tbody>\n",
       "</table>\n",
       "</div>"
      ],
      "text/plain": [
       "          y        x1        x2       week\n",
       "0  1.863960  0.172792  0.000000 2016-01-04\n",
       "1  2.317274  0.165219 -0.000000 2016-01-11\n",
       "2  2.465284  0.452678  0.223187 2016-01-18\n",
       "3 -0.593716 -0.000000  0.290559 2016-01-25\n",
       "4  2.305148  0.182286  0.147066 2016-02-01"
      ]
     },
     "execution_count": 8,
     "metadata": {},
     "output_type": "execute_result"
    }
   ],
   "source": [
    "df.head(5)"
   ]
  },
  {
   "cell_type": "code",
   "execution_count": 9,
   "id": "6e47b44a",
   "metadata": {
    "ExecuteTime": {
     "end_time": "2021-03-20T22:18:29.639688Z",
     "start_time": "2021-03-20T22:18:29.637039Z"
    }
   },
   "outputs": [],
   "source": [
    "test_size = 20\n",
    "train_df = df[:-test_size]\n",
    "test_df = df[-test_size:]"
   ]
  },
  {
   "cell_type": "markdown",
   "id": "fab0d367",
   "metadata": {},
   "source": [
    "Instantiate the new model object."
   ]
  },
  {
   "cell_type": "code",
   "execution_count": 10,
   "id": "68f58ee7",
   "metadata": {
    "ExecuteTime": {
     "end_time": "2021-03-20T22:18:29.644588Z",
     "start_time": "2021-03-20T22:18:29.641643Z"
    }
   },
   "outputs": [],
   "source": [
    "mod = PyroVIRegression(\n",
    "    response_col='y', \n",
    "    date_col='week',\n",
    "    regressor_col=['x1','x2'], \n",
    "    verbose=True,\n",
    "    num_steps=501,\n",
    "    seed=2021,\n",
    ")"
   ]
  },
  {
   "cell_type": "code",
   "execution_count": 11,
   "id": "264e6f07",
   "metadata": {
    "ExecuteTime": {
     "end_time": "2021-03-20T22:18:45.484369Z",
     "start_time": "2021-03-20T22:18:29.646613Z"
    }
   },
   "outputs": [
    {
     "name": "stderr",
     "output_type": "stream",
     "text": [
      "INFO:root:Guessed max_plate_nesting = 2\n"
     ]
    },
    {
     "name": "stdout",
     "output_type": "stream",
     "text": [
      "step    0 loss = 21953, scale = 0.073408\n",
      "step  100 loss = 12588, scale = 0.015333\n",
      "step  200 loss = 12587, scale = 0.016251\n"
     ]
    },
    {
     "ename": "KeyboardInterrupt",
     "evalue": "",
     "output_type": "error",
     "traceback": [
      "\u001b[0;31m---------------------------------------------------------------------------\u001b[0m",
      "\u001b[0;31mKeyboardInterrupt\u001b[0m                         Traceback (most recent call last)",
      "\u001b[0;32m<ipython-input-11-7d6dcbcbd2ce>\u001b[0m in \u001b[0;36m<module>\u001b[0;34m\u001b[0m\n\u001b[0;32m----> 1\u001b[0;31m \u001b[0mmod\u001b[0m\u001b[0;34m.\u001b[0m\u001b[0mfit\u001b[0m\u001b[0;34m(\u001b[0m\u001b[0mdf\u001b[0m\u001b[0;34m=\u001b[0m\u001b[0mtrain_df\u001b[0m\u001b[0;34m)\u001b[0m\u001b[0;34m\u001b[0m\u001b[0;34m\u001b[0m\u001b[0m\n\u001b[0m",
      "\u001b[0;32m~/work/orbit-super/orbit/orbit/models/template.py\u001b[0m in \u001b[0;36mfit\u001b[0;34m(self, df)\u001b[0m\n\u001b[1;32m    225\u001b[0m             \u001b[0mdata_input\u001b[0m\u001b[0;34m=\u001b[0m\u001b[0mdata_input\u001b[0m\u001b[0;34m,\u001b[0m\u001b[0;34m\u001b[0m\u001b[0;34m\u001b[0m\u001b[0m\n\u001b[1;32m    226\u001b[0m             \u001b[0mfitter\u001b[0m\u001b[0;34m=\u001b[0m\u001b[0mself\u001b[0m\u001b[0;34m.\u001b[0m\u001b[0m_fitter\u001b[0m\u001b[0;34m,\u001b[0m\u001b[0;34m\u001b[0m\u001b[0;34m\u001b[0m\u001b[0m\n\u001b[0;32m--> 227\u001b[0;31m             \u001b[0minit_values\u001b[0m\u001b[0;34m=\u001b[0m\u001b[0minit_values\u001b[0m\u001b[0;34m\u001b[0m\u001b[0;34m\u001b[0m\u001b[0m\n\u001b[0m\u001b[1;32m    228\u001b[0m         )\n\u001b[1;32m    229\u001b[0m \u001b[0;34m\u001b[0m\u001b[0m\n",
      "\u001b[0;32m~/work/orbit-super/orbit/orbit/estimators/pyro_estimator.py\u001b[0m in \u001b[0;36mfit\u001b[0;34m(self, model_name, model_param_names, data_input, fitter, init_values)\u001b[0m\n\u001b[1;32m     92\u001b[0m \u001b[0;34m\u001b[0m\u001b[0m\n\u001b[1;32m     93\u001b[0m         \u001b[0;32mfor\u001b[0m \u001b[0mstep\u001b[0m \u001b[0;32min\u001b[0m \u001b[0mrange\u001b[0m\u001b[0;34m(\u001b[0m\u001b[0mnum_steps\u001b[0m\u001b[0;34m)\u001b[0m\u001b[0;34m:\u001b[0m\u001b[0;34m\u001b[0m\u001b[0;34m\u001b[0m\u001b[0m\n\u001b[0;32m---> 94\u001b[0;31m             \u001b[0mloss\u001b[0m \u001b[0;34m=\u001b[0m \u001b[0msvi\u001b[0m\u001b[0;34m.\u001b[0m\u001b[0mstep\u001b[0m\u001b[0;34m(\u001b[0m\u001b[0;34m)\u001b[0m\u001b[0;34m\u001b[0m\u001b[0;34m\u001b[0m\u001b[0m\n\u001b[0m\u001b[1;32m     95\u001b[0m             \u001b[0;32mif\u001b[0m \u001b[0mverbose\u001b[0m \u001b[0;32mand\u001b[0m \u001b[0mstep\u001b[0m \u001b[0;34m%\u001b[0m \u001b[0mmessage\u001b[0m \u001b[0;34m==\u001b[0m \u001b[0;36m0\u001b[0m\u001b[0;34m:\u001b[0m\u001b[0;34m\u001b[0m\u001b[0;34m\u001b[0m\u001b[0m\n\u001b[1;32m     96\u001b[0m                 \u001b[0mscale_rms\u001b[0m \u001b[0;34m=\u001b[0m \u001b[0mguide\u001b[0m\u001b[0;34m.\u001b[0m\u001b[0m_loc_scale\u001b[0m\u001b[0;34m(\u001b[0m\u001b[0;34m)\u001b[0m\u001b[0;34m[\u001b[0m\u001b[0;36m1\u001b[0m\u001b[0;34m]\u001b[0m\u001b[0;34m.\u001b[0m\u001b[0mdetach\u001b[0m\u001b[0;34m(\u001b[0m\u001b[0;34m)\u001b[0m\u001b[0;34m.\u001b[0m\u001b[0mpow\u001b[0m\u001b[0;34m(\u001b[0m\u001b[0;36m2\u001b[0m\u001b[0;34m)\u001b[0m\u001b[0;34m.\u001b[0m\u001b[0mmean\u001b[0m\u001b[0;34m(\u001b[0m\u001b[0;34m)\u001b[0m\u001b[0;34m.\u001b[0m\u001b[0msqrt\u001b[0m\u001b[0;34m(\u001b[0m\u001b[0;34m)\u001b[0m\u001b[0;34m.\u001b[0m\u001b[0mitem\u001b[0m\u001b[0;34m(\u001b[0m\u001b[0;34m)\u001b[0m\u001b[0;34m\u001b[0m\u001b[0;34m\u001b[0m\u001b[0m\n",
      "\u001b[0;32m~/work/venv/py37_orbit/lib/python3.7/site-packages/pyro/infer/svi.py\u001b[0m in \u001b[0;36mstep\u001b[0;34m(self, *args, **kwargs)\u001b[0m\n\u001b[1;32m    126\u001b[0m         \u001b[0;31m# get loss and compute gradients\u001b[0m\u001b[0;34m\u001b[0m\u001b[0;34m\u001b[0m\u001b[0;34m\u001b[0m\u001b[0m\n\u001b[1;32m    127\u001b[0m         \u001b[0;32mwith\u001b[0m \u001b[0mpoutine\u001b[0m\u001b[0;34m.\u001b[0m\u001b[0mtrace\u001b[0m\u001b[0;34m(\u001b[0m\u001b[0mparam_only\u001b[0m\u001b[0;34m=\u001b[0m\u001b[0;32mTrue\u001b[0m\u001b[0;34m)\u001b[0m \u001b[0;32mas\u001b[0m \u001b[0mparam_capture\u001b[0m\u001b[0;34m:\u001b[0m\u001b[0;34m\u001b[0m\u001b[0;34m\u001b[0m\u001b[0m\n\u001b[0;32m--> 128\u001b[0;31m             \u001b[0mloss\u001b[0m \u001b[0;34m=\u001b[0m \u001b[0mself\u001b[0m\u001b[0;34m.\u001b[0m\u001b[0mloss_and_grads\u001b[0m\u001b[0;34m(\u001b[0m\u001b[0mself\u001b[0m\u001b[0;34m.\u001b[0m\u001b[0mmodel\u001b[0m\u001b[0;34m,\u001b[0m \u001b[0mself\u001b[0m\u001b[0;34m.\u001b[0m\u001b[0mguide\u001b[0m\u001b[0;34m,\u001b[0m \u001b[0;34m*\u001b[0m\u001b[0margs\u001b[0m\u001b[0;34m,\u001b[0m \u001b[0;34m**\u001b[0m\u001b[0mkwargs\u001b[0m\u001b[0;34m)\u001b[0m\u001b[0;34m\u001b[0m\u001b[0;34m\u001b[0m\u001b[0m\n\u001b[0m\u001b[1;32m    129\u001b[0m \u001b[0;34m\u001b[0m\u001b[0m\n\u001b[1;32m    130\u001b[0m         params = set(site[\"value\"].unconstrained()\n",
      "\u001b[0;32m~/work/venv/py37_orbit/lib/python3.7/site-packages/pyro/infer/trace_elbo.py\u001b[0m in \u001b[0;36mloss_and_grads\u001b[0;34m(self, model, guide, *args, **kwargs)\u001b[0m\n\u001b[1;32m    140\u001b[0m             \u001b[0;32mif\u001b[0m \u001b[0mtrainable_params\u001b[0m \u001b[0;32mand\u001b[0m \u001b[0mgetattr\u001b[0m\u001b[0;34m(\u001b[0m\u001b[0msurrogate_loss_particle\u001b[0m\u001b[0;34m,\u001b[0m \u001b[0;34m'requires_grad'\u001b[0m\u001b[0;34m,\u001b[0m \u001b[0;32mFalse\u001b[0m\u001b[0;34m)\u001b[0m\u001b[0;34m:\u001b[0m\u001b[0;34m\u001b[0m\u001b[0;34m\u001b[0m\u001b[0m\n\u001b[1;32m    141\u001b[0m                 \u001b[0msurrogate_loss_particle\u001b[0m \u001b[0;34m=\u001b[0m \u001b[0msurrogate_loss_particle\u001b[0m \u001b[0;34m/\u001b[0m \u001b[0mself\u001b[0m\u001b[0;34m.\u001b[0m\u001b[0mnum_particles\u001b[0m\u001b[0;34m\u001b[0m\u001b[0;34m\u001b[0m\u001b[0m\n\u001b[0;32m--> 142\u001b[0;31m                 \u001b[0msurrogate_loss_particle\u001b[0m\u001b[0;34m.\u001b[0m\u001b[0mbackward\u001b[0m\u001b[0;34m(\u001b[0m\u001b[0mretain_graph\u001b[0m\u001b[0;34m=\u001b[0m\u001b[0mself\u001b[0m\u001b[0;34m.\u001b[0m\u001b[0mretain_graph\u001b[0m\u001b[0;34m)\u001b[0m\u001b[0;34m\u001b[0m\u001b[0;34m\u001b[0m\u001b[0m\n\u001b[0m\u001b[1;32m    143\u001b[0m         \u001b[0mwarn_if_nan\u001b[0m\u001b[0;34m(\u001b[0m\u001b[0mloss\u001b[0m\u001b[0;34m,\u001b[0m \u001b[0;34m\"loss\"\u001b[0m\u001b[0;34m)\u001b[0m\u001b[0;34m\u001b[0m\u001b[0;34m\u001b[0m\u001b[0m\n\u001b[1;32m    144\u001b[0m         \u001b[0;32mreturn\u001b[0m \u001b[0mloss\u001b[0m\u001b[0;34m\u001b[0m\u001b[0;34m\u001b[0m\u001b[0m\n",
      "\u001b[0;32m~/work/venv/py37_orbit/lib/python3.7/site-packages/torch/tensor.py\u001b[0m in \u001b[0;36mbackward\u001b[0;34m(self, gradient, retain_graph, create_graph, inputs)\u001b[0m\n\u001b[1;32m    243\u001b[0m                 \u001b[0mcreate_graph\u001b[0m\u001b[0;34m=\u001b[0m\u001b[0mcreate_graph\u001b[0m\u001b[0;34m,\u001b[0m\u001b[0;34m\u001b[0m\u001b[0;34m\u001b[0m\u001b[0m\n\u001b[1;32m    244\u001b[0m                 inputs=inputs)\n\u001b[0;32m--> 245\u001b[0;31m         \u001b[0mtorch\u001b[0m\u001b[0;34m.\u001b[0m\u001b[0mautograd\u001b[0m\u001b[0;34m.\u001b[0m\u001b[0mbackward\u001b[0m\u001b[0;34m(\u001b[0m\u001b[0mself\u001b[0m\u001b[0;34m,\u001b[0m \u001b[0mgradient\u001b[0m\u001b[0;34m,\u001b[0m \u001b[0mretain_graph\u001b[0m\u001b[0;34m,\u001b[0m \u001b[0mcreate_graph\u001b[0m\u001b[0;34m,\u001b[0m \u001b[0minputs\u001b[0m\u001b[0;34m=\u001b[0m\u001b[0minputs\u001b[0m\u001b[0;34m)\u001b[0m\u001b[0;34m\u001b[0m\u001b[0;34m\u001b[0m\u001b[0m\n\u001b[0m\u001b[1;32m    246\u001b[0m \u001b[0;34m\u001b[0m\u001b[0m\n\u001b[1;32m    247\u001b[0m     \u001b[0;32mdef\u001b[0m \u001b[0mregister_hook\u001b[0m\u001b[0;34m(\u001b[0m\u001b[0mself\u001b[0m\u001b[0;34m,\u001b[0m \u001b[0mhook\u001b[0m\u001b[0;34m)\u001b[0m\u001b[0;34m:\u001b[0m\u001b[0;34m\u001b[0m\u001b[0;34m\u001b[0m\u001b[0m\n",
      "\u001b[0;32m~/work/venv/py37_orbit/lib/python3.7/site-packages/torch/autograd/__init__.py\u001b[0m in \u001b[0;36mbackward\u001b[0;34m(tensors, grad_tensors, retain_graph, create_graph, grad_variables, inputs)\u001b[0m\n\u001b[1;32m    145\u001b[0m     Variable._execution_engine.run_backward(\n\u001b[1;32m    146\u001b[0m         \u001b[0mtensors\u001b[0m\u001b[0;34m,\u001b[0m \u001b[0mgrad_tensors_\u001b[0m\u001b[0;34m,\u001b[0m \u001b[0mretain_graph\u001b[0m\u001b[0;34m,\u001b[0m \u001b[0mcreate_graph\u001b[0m\u001b[0;34m,\u001b[0m \u001b[0minputs\u001b[0m\u001b[0;34m,\u001b[0m\u001b[0;34m\u001b[0m\u001b[0;34m\u001b[0m\u001b[0m\n\u001b[0;32m--> 147\u001b[0;31m         allow_unreachable=True, accumulate_grad=True)  # allow_unreachable flag\n\u001b[0m\u001b[1;32m    148\u001b[0m \u001b[0;34m\u001b[0m\u001b[0m\n\u001b[1;32m    149\u001b[0m \u001b[0;34m\u001b[0m\u001b[0m\n",
      "\u001b[0;32m~/work/venv/py37_orbit/lib/python3.7/site-packages/pyro/util.py\u001b[0m in \u001b[0;36m<lambda>\u001b[0;34m(x)\u001b[0m\n\u001b[1;32m     85\u001b[0m \u001b[0;34m\u001b[0m\u001b[0m\n\u001b[1;32m     86\u001b[0m     \u001b[0;32mif\u001b[0m \u001b[0mtorch\u001b[0m\u001b[0;34m.\u001b[0m\u001b[0mis_tensor\u001b[0m\u001b[0;34m(\u001b[0m\u001b[0mvalue\u001b[0m\u001b[0;34m)\u001b[0m \u001b[0;32mand\u001b[0m \u001b[0mvalue\u001b[0m\u001b[0;34m.\u001b[0m\u001b[0mrequires_grad\u001b[0m\u001b[0;34m:\u001b[0m\u001b[0;34m\u001b[0m\u001b[0;34m\u001b[0m\u001b[0m\n\u001b[0;32m---> 87\u001b[0;31m         \u001b[0mvalue\u001b[0m\u001b[0;34m.\u001b[0m\u001b[0mregister_hook\u001b[0m\u001b[0;34m(\u001b[0m\u001b[0;32mlambda\u001b[0m \u001b[0mx\u001b[0m\u001b[0;34m:\u001b[0m \u001b[0mwarn_if_nan\u001b[0m\u001b[0;34m(\u001b[0m\u001b[0mx\u001b[0m\u001b[0;34m,\u001b[0m \u001b[0;34m\"backward \"\u001b[0m \u001b[0;34m+\u001b[0m \u001b[0mmsg\u001b[0m\u001b[0;34m,\u001b[0m \u001b[0mfilename\u001b[0m\u001b[0;34m=\u001b[0m\u001b[0mfilename\u001b[0m\u001b[0;34m,\u001b[0m \u001b[0mlineno\u001b[0m\u001b[0;34m=\u001b[0m\u001b[0mlineno\u001b[0m\u001b[0;34m)\u001b[0m\u001b[0;34m)\u001b[0m\u001b[0;34m\u001b[0m\u001b[0;34m\u001b[0m\u001b[0m\n\u001b[0m\u001b[1;32m     88\u001b[0m \u001b[0;34m\u001b[0m\u001b[0m\n\u001b[1;32m     89\u001b[0m     \u001b[0;32mif\u001b[0m \u001b[0mtorch_isnan\u001b[0m\u001b[0;34m(\u001b[0m\u001b[0mvalue\u001b[0m\u001b[0;34m)\u001b[0m\u001b[0;34m:\u001b[0m\u001b[0;34m\u001b[0m\u001b[0;34m\u001b[0m\u001b[0m\n",
      "\u001b[0;31mKeyboardInterrupt\u001b[0m: "
     ]
    }
   ],
   "source": [
    "mod.fit(df=train_df)"
   ]
  },
  {
   "cell_type": "code",
   "execution_count": null,
   "id": "fc17b394",
   "metadata": {
    "ExecuteTime": {
     "end_time": "2021-03-20T22:18:45.490440Z",
     "start_time": "2021-03-20T22:18:45.487041Z"
    }
   },
   "outputs": [],
   "source": [
    "estimated_weights = mod._posterior_samples['weight']"
   ]
  },
  {
   "cell_type": "code",
   "execution_count": null,
   "id": "ce63cc6a",
   "metadata": {
    "ExecuteTime": {
     "end_time": "2021-03-20T22:18:45.497601Z",
     "start_time": "2021-03-20T22:18:45.493024Z"
    }
   },
   "outputs": [],
   "source": [
    "print(\"True Coef: {:.3f}, {:.3f}\".format(coefs[0], coefs[1]) )\n",
    "estimated_coef = np.median(estimated_weights, axis=0)\n",
    "print(\"Estimated Coef: {:.3f}, {:.3f}\".format(estimated_coef[0], estimated_coef[1]))"
   ]
  }
 ],
 "metadata": {
  "kernelspec": {
   "display_name": "py37_orbit",
   "language": "python",
   "name": "py37_orbit"
  },
  "language_info": {
   "codemirror_mode": {
    "name": "ipython",
    "version": 3
   },
   "file_extension": ".py",
   "mimetype": "text/x-python",
   "name": "python",
   "nbconvert_exporter": "python",
   "pygments_lexer": "ipython3",
   "version": "3.7.8"
  },
  "toc": {
   "base_numbering": 1,
   "nav_menu": {},
   "number_sections": true,
   "sideBar": true,
   "skip_h1_title": false,
   "title_cell": "Table of Contents",
   "title_sidebar": "Contents",
   "toc_cell": false,
   "toc_position": {},
   "toc_section_display": true,
   "toc_window_display": false
  }
 },
 "nbformat": 4,
 "nbformat_minor": 5
}
