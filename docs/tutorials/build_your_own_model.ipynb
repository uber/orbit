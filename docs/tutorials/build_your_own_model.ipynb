{
 "cells": [
  {
   "cell_type": "markdown",
   "id": "f9fd3817",
   "metadata": {},
   "source": [
    "# Build Your Own Model\n",
    "\n",
    "One important feature of `orbit` is to allow users to build and customize some prototype models promptly to serve their own purpose. Users just need to code up the core model structure part, then orbit will facilitate and streamline the downstream functionalities, such as fit-predict, diagnostics, etc.\n",
    "\n",
    "In this section, we give a demo on how to build up a new model, i.e., `PyroVIRegression`, with the help of orbit."
   ]
  },
  {
   "cell_type": "code",
   "execution_count": 28,
   "id": "aca242d6",
   "metadata": {
    "ExecuteTime": {
     "end_time": "2021-03-20T22:18:29.580991Z",
     "start_time": "2021-03-20T22:18:27.494932Z"
    }
   },
   "outputs": [],
   "source": [
    "import pandas as pd\n",
    "import numpy as np\n",
    "import torch\n",
    "import pyro\n",
    "import pyro.distributions as dist\n",
    "from copy import deepcopy\n",
    "\n",
    "import orbit\n",
    "from orbit.models.template import BaseTemplate\n",
    "from orbit.models.template import FullBayesianTemplate\n",
    "from orbit.estimators.pyro_estimator import PyroEstimatorVI\n",
    "\n",
    "from orbit.utils.simulation import make_regression\n",
    "from orbit.diagnostics.plot import plot_predicted_data\n",
    "%matplotlib inline"
   ]
  },
  {
   "cell_type": "code",
   "execution_count": 2,
   "id": "5701b771",
   "metadata": {
    "ExecuteTime": {
     "end_time": "2021-03-20T22:18:29.585328Z",
     "start_time": "2021-03-20T22:18:29.582788Z"
    }
   },
   "outputs": [],
   "source": [
    "print(orbit.__version__)"
   ]
  },
  {
   "cell_type": "markdown",
   "id": "2c912f16",
   "metadata": {},
   "source": [
    "## Define a new model structure"
   ]
  },
  {
   "cell_type": "code",
   "execution_count": 3,
   "id": "29d35ab6",
   "metadata": {
    "ExecuteTime": {
     "end_time": "2021-03-20T22:18:29.594776Z",
     "start_time": "2021-03-20T22:18:29.588382Z"
    }
   },
   "outputs": [],
   "source": [
    "class MyFitter:\n",
    "    max_plate_nesting = 1  # max number of plates nested in model\n",
    "\n",
    "    def __init__(self, data):\n",
    "        for key, value in data.items():\n",
    "            key = key.lower()\n",
    "            if isinstance(value, (list, np.ndarray)):\n",
    "                value = torch.tensor(value, dtype=torch.float)\n",
    "            self.__dict__[key] = value\n",
    "\n",
    "    def __call__(self):\n",
    "        extra_out = {}\n",
    "        \n",
    "        p = self.regressor.shape[1]\n",
    "        bias = pyro.sample(\"bias\", dist.Normal(0, 1))\n",
    "        weight = pyro.sample(\"weight\", dist.Normal(0, 1).expand([p]).to_event(1))\n",
    "        yhat = bias + weight @ self.regressor.transpose(-1, -2)\n",
    "        obs_sigma = pyro.sample(\"obs_sigma\", dist.HalfCauchy(self.response_sd))\n",
    "        \n",
    "        with pyro.plate(\"response_plate\", self.num_of_obs):\n",
    "            pyro.sample(\"response\", dist.Normal(yhat, obs_sigma), obs=self.response)\n",
    "        return extra_out"
   ]
  },
  {
   "cell_type": "markdown",
   "id": "698315b3",
   "metadata": {},
   "source": [
    "## Define data mapper"
   ]
  },
  {
   "cell_type": "code",
   "execution_count": 4,
   "id": "35f66f02",
   "metadata": {
    "ExecuteTime": {
     "end_time": "2021-03-20T22:18:29.600210Z",
     "start_time": "2021-03-20T22:18:29.597366Z"
    }
   },
   "outputs": [],
   "source": [
    "from enum import Enum\n",
    "\n",
    "class MyDataMapper(Enum):\n",
    "    NUM_OF_OBSERVATIONS = 'NUM_OF_OBS'\n",
    "    RESPONSE = 'RESPONSE'\n",
    "    RESPONSE_SD = 'RESPONSE_SD'\n",
    "    REGRESSOR = 'REGRESSOR'"
   ]
  },
  {
   "cell_type": "markdown",
   "id": "7dd1fef0",
   "metadata": {},
   "source": [
    "## Put it into the template"
   ]
  },
  {
   "cell_type": "code",
   "execution_count": 61,
   "id": "11d79253",
   "metadata": {
    "ExecuteTime": {
     "end_time": "2021-03-20T22:18:29.607407Z",
     "start_time": "2021-03-20T22:18:29.602021Z"
    }
   },
   "outputs": [],
   "source": [
    "class BaseRegression(BaseTemplate):\n",
    "    _fitter = MyFitter\n",
    "    _data_input_mapper = MyDataMapper\n",
    "    def __init__(self, regressor_col, **kwargs):\n",
    "        super().__init__(**kwargs)  # create estimator in base class\n",
    "        self.regressor_col = regressor_col\n",
    "        self.regressor = None\n",
    "\n",
    "    def _set_model_param_names(self):\n",
    "        self._model_param_names = ['bias', 'weight', 'obs_sigma']\n",
    "        \n",
    "    def _set_dynamic_attributes(self, df):\n",
    "        super()._validate_training_df(df)\n",
    "        super()._set_training_df_meta(df)\n",
    "        \n",
    "        self.regressor = df[self.regressor_col].values\n",
    "\n",
    "        super()._set_model_data_input()\n",
    "        self._set_init_values()\n",
    "    \n",
    "    def _predict(self, posterior_estimates, df, include_error=False, **kwargs):\n",
    "        model = deepcopy(posterior_estimates)\n",
    "        new_regressor = df[self.regressor_col].values.T\n",
    "        bias =  np.expand_dims(model.get('bias'),-1)\n",
    "        obs_sigma = np.expand_dims(model.get('obs_sigma'), -1)\n",
    "        weight = model.get('weight')\n",
    "        \n",
    "        pred_len = df.shape[0]\n",
    "        batch_size = weight.shape[0]\n",
    "        \n",
    "        prediction = bias + np.matmul(weight, new_regressor) + \\\n",
    "            np.random.normal(0, obs_sigma, size=(batch_size, pred_len))\n",
    "        return {'prediction': prediction}\n",
    "\n",
    "class PyroVIRegression(FullBayesianTemplate, BaseRegression):\n",
    "    \n",
    "    _supported_estimator_types = [PyroEstimatorVI]\n",
    "    \n",
    "    def __init__(self, estimator_type=PyroEstimatorVI, **kwargs):\n",
    "        super().__init__(estimator_type=estimator_type, **kwargs)"
   ]
  },
  {
   "cell_type": "markdown",
   "id": "40dbbadd",
   "metadata": {},
   "source": [
    "## Test out the new model!"
   ]
  },
  {
   "cell_type": "markdown",
   "id": "46ff3dca",
   "metadata": {},
   "source": [
    "Prepare the input data."
   ]
  },
  {
   "cell_type": "code",
   "execution_count": 62,
   "id": "3267f46d",
   "metadata": {
    "ExecuteTime": {
     "end_time": "2021-03-20T22:18:29.612454Z",
     "start_time": "2021-03-20T22:18:29.609196Z"
    }
   },
   "outputs": [],
   "source": [
    "x, y, coefs = make_regression(120, [3.0, -1.0], bias=1.0, scale=1.0)"
   ]
  },
  {
   "cell_type": "code",
   "execution_count": 63,
   "id": "dd81a93b",
   "metadata": {
    "ExecuteTime": {
     "end_time": "2021-03-20T22:18:29.618915Z",
     "start_time": "2021-03-20T22:18:29.614167Z"
    }
   },
   "outputs": [],
   "source": [
    "df = pd.DataFrame(\n",
    "    np.concatenate([y.reshape(-1, 1), x], axis=1), columns=['y', 'x1', 'x2']\n",
    ")\n",
    "df['week'] = pd.date_range(start='2016-01-04', periods=len(y), freq='7D')"
   ]
  },
  {
   "cell_type": "code",
   "execution_count": 64,
   "id": "3c816cb5",
   "metadata": {
    "ExecuteTime": {
     "end_time": "2021-03-20T22:18:29.634956Z",
     "start_time": "2021-03-20T22:18:29.622013Z"
    }
   },
   "outputs": [
    {
     "data": {
      "text/html": [
       "<div>\n",
       "<style scoped>\n",
       "    .dataframe tbody tr th:only-of-type {\n",
       "        vertical-align: middle;\n",
       "    }\n",
       "\n",
       "    .dataframe tbody tr th {\n",
       "        vertical-align: top;\n",
       "    }\n",
       "\n",
       "    .dataframe thead th {\n",
       "        text-align: right;\n",
       "    }\n",
       "</style>\n",
       "<table border=\"1\" class=\"dataframe\">\n",
       "  <thead>\n",
       "    <tr style=\"text-align: right;\">\n",
       "      <th></th>\n",
       "      <th>y</th>\n",
       "      <th>x1</th>\n",
       "      <th>x2</th>\n",
       "      <th>week</th>\n",
       "    </tr>\n",
       "  </thead>\n",
       "  <tbody>\n",
       "    <tr>\n",
       "      <th>0</th>\n",
       "      <td>2.382337</td>\n",
       "      <td>0.345584</td>\n",
       "      <td>0.000000</td>\n",
       "      <td>2016-01-04</td>\n",
       "    </tr>\n",
       "    <tr>\n",
       "      <th>1</th>\n",
       "      <td>2.812929</td>\n",
       "      <td>0.330437</td>\n",
       "      <td>-0.000000</td>\n",
       "      <td>2016-01-11</td>\n",
       "    </tr>\n",
       "    <tr>\n",
       "      <th>2</th>\n",
       "      <td>3.600130</td>\n",
       "      <td>0.905356</td>\n",
       "      <td>0.446375</td>\n",
       "      <td>2016-01-18</td>\n",
       "    </tr>\n",
       "    <tr>\n",
       "      <th>3</th>\n",
       "      <td>-0.884275</td>\n",
       "      <td>-0.000000</td>\n",
       "      <td>0.581118</td>\n",
       "      <td>2016-01-25</td>\n",
       "    </tr>\n",
       "    <tr>\n",
       "      <th>4</th>\n",
       "      <td>2.704941</td>\n",
       "      <td>0.364572</td>\n",
       "      <td>0.294132</td>\n",
       "      <td>2016-02-01</td>\n",
       "    </tr>\n",
       "  </tbody>\n",
       "</table>\n",
       "</div>"
      ],
      "text/plain": [
       "          y        x1        x2       week\n",
       "0  2.382337  0.345584  0.000000 2016-01-04\n",
       "1  2.812929  0.330437 -0.000000 2016-01-11\n",
       "2  3.600130  0.905356  0.446375 2016-01-18\n",
       "3 -0.884275 -0.000000  0.581118 2016-01-25\n",
       "4  2.704941  0.364572  0.294132 2016-02-01"
      ]
     },
     "execution_count": 64,
     "metadata": {},
     "output_type": "execute_result"
    }
   ],
   "source": [
    "df.head(5)"
   ]
  },
  {
   "cell_type": "code",
   "execution_count": 65,
   "id": "a57ff99a",
   "metadata": {
    "ExecuteTime": {
     "end_time": "2021-03-20T22:18:29.639688Z",
     "start_time": "2021-03-20T22:18:29.637039Z"
    }
   },
   "outputs": [],
   "source": [
    "test_size = 20\n",
    "train_df = df[:-test_size]\n",
    "test_df = df[-test_size:]"
   ]
  },
  {
   "cell_type": "markdown",
   "id": "6822fe68",
   "metadata": {},
   "source": [
    "Instantiate the new model object."
   ]
  },
  {
   "cell_type": "code",
   "execution_count": 66,
   "id": "bbadfb0e",
   "metadata": {
    "ExecuteTime": {
     "end_time": "2021-03-20T22:18:29.644588Z",
     "start_time": "2021-03-20T22:18:29.641643Z"
    }
   },
   "outputs": [],
   "source": [
    "mod = PyroVIRegression(\n",
    "    response_col='y', \n",
    "    date_col='week',\n",
    "    regressor_col=['x1','x2'], \n",
    "    verbose=True,\n",
    "    num_steps=501,\n",
    "    seed=2021,\n",
    ")"
   ]
  },
  {
   "cell_type": "code",
   "execution_count": 67,
   "id": "71cc0f91",
   "metadata": {
    "ExecuteTime": {
     "end_time": "2021-03-20T22:18:45.484369Z",
     "start_time": "2021-03-20T22:18:29.646613Z"
    }
   },
   "outputs": [
    {
     "name": "stderr",
     "output_type": "stream",
     "text": [
      "INFO:root:Guessed max_plate_nesting = 2\n"
     ]
    },
    {
     "name": "stdout",
     "output_type": "stream",
     "text": [
      "step    0 loss = 27333, scale = 0.077552\n",
      "step  100 loss = 12590, scale = 0.0092793\n",
      "step  200 loss = 12597, scale = 0.0098217\n",
      "step  300 loss = 12591, scale = 0.0095262\n",
      "step  400 loss = 12593, scale = 0.0092962\n",
      "step  500 loss = 12591, scale = 0.0095438\n"
     ]
    }
   ],
   "source": [
    "mod.fit(df=train_df)"
   ]
  },
  {
   "cell_type": "code",
   "execution_count": 68,
   "id": "f4a6fdce",
   "metadata": {
    "ExecuteTime": {
     "end_time": "2021-03-20T22:18:45.490440Z",
     "start_time": "2021-03-20T22:18:45.487041Z"
    }
   },
   "outputs": [],
   "source": [
    "estimated_weights = mod._posterior_samples['weight']"
   ]
  },
  {
   "cell_type": "code",
   "execution_count": 69,
   "id": "1e639210",
   "metadata": {
    "ExecuteTime": {
     "end_time": "2021-03-20T22:18:45.497601Z",
     "start_time": "2021-03-20T22:18:45.493024Z"
    }
   },
   "outputs": [
    {
     "name": "stdout",
     "output_type": "stream",
     "text": [
      "True Coef: 3.000, -1.000\n",
      "Estimated Coef: 2.951, -0.964\n"
     ]
    }
   ],
   "source": [
    "print(\"True Coef: {:.3f}, {:.3f}\".format(coefs[0], coefs[1]) )\n",
    "estimated_coef = np.median(estimated_weights, axis=0)\n",
    "print(\"Estimated Coef: {:.3f}, {:.3f}\".format(estimated_coef[0], estimated_coef[1]))"
   ]
  },
  {
   "cell_type": "code",
   "execution_count": 70,
   "id": "23ef4305",
   "metadata": {},
   "outputs": [
    {
     "ename": "ValueError",
     "evalue": "shape mismatch: objects cannot be broadcast to a single shape",
     "output_type": "error",
     "traceback": [
      "\u001b[0;31m---------------------------------------------------------------------------\u001b[0m",
      "\u001b[0;31mValueError\u001b[0m                                Traceback (most recent call last)",
      "\u001b[0;32m<ipython-input-70-8eb344419328>\u001b[0m in \u001b[0;36m<module>\u001b[0;34m\u001b[0m\n\u001b[0;32m----> 1\u001b[0;31m \u001b[0mpredicted_df\u001b[0m \u001b[0;34m=\u001b[0m \u001b[0mmod\u001b[0m\u001b[0;34m.\u001b[0m\u001b[0mpredict\u001b[0m\u001b[0;34m(\u001b[0m\u001b[0mdf\u001b[0m\u001b[0;34m)\u001b[0m\u001b[0;34m\u001b[0m\u001b[0;34m\u001b[0m\u001b[0m\n\u001b[0m",
      "\u001b[0;32m~/work/orbit-super/orbit/orbit/models/template.py\u001b[0m in \u001b[0;36mpredict\u001b[0;34m(self, df, decompose, store_prediction_array, **kwargs)\u001b[0m\n\u001b[1;32m    496\u001b[0m \u001b[0;34m\u001b[0m\u001b[0m\n\u001b[1;32m    497\u001b[0m         predicted_dict = self._predict(\n\u001b[0;32m--> 498\u001b[0;31m             \u001b[0mposterior_estimates\u001b[0m\u001b[0;34m=\u001b[0m\u001b[0mposterior_samples\u001b[0m\u001b[0;34m,\u001b[0m \u001b[0mdf\u001b[0m\u001b[0;34m=\u001b[0m\u001b[0mdf\u001b[0m\u001b[0;34m,\u001b[0m \u001b[0minclude_error\u001b[0m\u001b[0;34m=\u001b[0m\u001b[0;32mTrue\u001b[0m\u001b[0;34m,\u001b[0m \u001b[0;34m**\u001b[0m\u001b[0mkwargs\u001b[0m\u001b[0;34m\u001b[0m\u001b[0;34m\u001b[0m\u001b[0m\n\u001b[0m\u001b[1;32m    499\u001b[0m         )\n\u001b[1;32m    500\u001b[0m \u001b[0;34m\u001b[0m\u001b[0m\n",
      "\u001b[0;32m<ipython-input-61-a32847fca15e>\u001b[0m in \u001b[0;36m_predict\u001b[0;34m(self, posterior_estimates, df, include_error, **kwargs)\u001b[0m\n\u001b[1;32m     30\u001b[0m \u001b[0;34m\u001b[0m\u001b[0m\n\u001b[1;32m     31\u001b[0m         \u001b[0mprediction\u001b[0m \u001b[0;34m=\u001b[0m \u001b[0mbias\u001b[0m \u001b[0;34m+\u001b[0m \u001b[0mnp\u001b[0m\u001b[0;34m.\u001b[0m\u001b[0mmatmul\u001b[0m\u001b[0;34m(\u001b[0m\u001b[0mweight\u001b[0m\u001b[0;34m,\u001b[0m \u001b[0mnew_regressor\u001b[0m\u001b[0;34m)\u001b[0m \u001b[0;34m+\u001b[0m\u001b[0;31m \u001b[0m\u001b[0;31m\\\u001b[0m\u001b[0;34m\u001b[0m\u001b[0;34m\u001b[0m\u001b[0m\n\u001b[0;32m---> 32\u001b[0;31m             \u001b[0mnp\u001b[0m\u001b[0;34m.\u001b[0m\u001b[0mrandom\u001b[0m\u001b[0;34m.\u001b[0m\u001b[0mnormal\u001b[0m\u001b[0;34m(\u001b[0m\u001b[0;36m0\u001b[0m\u001b[0;34m,\u001b[0m \u001b[0mobs_sigma\u001b[0m\u001b[0;34m,\u001b[0m \u001b[0msize\u001b[0m\u001b[0;34m=\u001b[0m\u001b[0;34m(\u001b[0m\u001b[0mbatch_size\u001b[0m\u001b[0;34m,\u001b[0m \u001b[0mpred_len\u001b[0m\u001b[0;34m)\u001b[0m\u001b[0;34m)\u001b[0m\u001b[0;34m\u001b[0m\u001b[0;34m\u001b[0m\u001b[0m\n\u001b[0m\u001b[1;32m     33\u001b[0m         \u001b[0;32mreturn\u001b[0m \u001b[0;34m{\u001b[0m\u001b[0;34m'prediction'\u001b[0m\u001b[0;34m:\u001b[0m \u001b[0mprediction\u001b[0m\u001b[0;34m}\u001b[0m\u001b[0;34m\u001b[0m\u001b[0;34m\u001b[0m\u001b[0m\n\u001b[1;32m     34\u001b[0m \u001b[0;34m\u001b[0m\u001b[0m\n",
      "\u001b[0;32mmtrand.pyx\u001b[0m in \u001b[0;36mnumpy.random.mtrand.RandomState.normal\u001b[0;34m()\u001b[0m\n",
      "\u001b[0;32m_common.pyx\u001b[0m in \u001b[0;36mnumpy.random._common.cont\u001b[0;34m()\u001b[0m\n",
      "\u001b[0;32m_common.pyx\u001b[0m in \u001b[0;36mnumpy.random._common.cont_broadcast_2\u001b[0;34m()\u001b[0m\n",
      "\u001b[0;32m__init__.pxd\u001b[0m in \u001b[0;36mnumpy.PyArray_MultiIterNew3\u001b[0;34m()\u001b[0m\n",
      "\u001b[0;31mValueError\u001b[0m: shape mismatch: objects cannot be broadcast to a single shape"
     ]
    }
   ],
   "source": [
    "predicted_df = mod.predict(df)"
   ]
  },
  {
   "cell_type": "code",
   "execution_count": null,
   "id": "8c1cc2c0",
   "metadata": {},
   "outputs": [],
   "source": [
    "_ = plot_predicted_data(train_df, predicted_df, 'week', 'y', test_actual_df=test_df, prediction_percentiles=[5, 95])"
   ]
  }
 ],
 "metadata": {
  "kernelspec": {
   "display_name": "py37_orbit",
   "language": "python",
   "name": "py37_orbit"
  },
  "language_info": {
   "codemirror_mode": {
    "name": "ipython",
    "version": 3
   },
   "file_extension": ".py",
   "mimetype": "text/x-python",
   "name": "python",
   "nbconvert_exporter": "python",
   "pygments_lexer": "ipython3",
   "version": "3.7.8"
  },
  "toc": {
   "base_numbering": 1,
   "nav_menu": {},
   "number_sections": true,
   "sideBar": true,
   "skip_h1_title": false,
   "title_cell": "Table of Contents",
   "title_sidebar": "Contents",
   "toc_cell": false,
   "toc_position": {},
   "toc_section_display": true,
   "toc_window_display": false
  }
 },
 "nbformat": 4,
 "nbformat_minor": 5
}
