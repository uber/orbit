{
 "cells": [
  {
   "cell_type": "markdown",
   "id": "pending-decimal",
   "metadata": {},
   "source": [
    "# Build Your Own Model\n",
    "\n",
    "One important feature of `orbit` is to allow users to build and customize some prototype models promptly to serve their own purpose. Users just need to code up the core model structure part, then orbit will facilitate and streamline the downstream functionalities, such as fit-predict, diagnostics, etc.\n",
    "\n",
    "In this section, we give a demo on how to build up a new model, i.e., `PyroVIRegression`, with the help of orbit."
   ]
  },
  {
   "cell_type": "code",
   "execution_count": 1,
   "id": "living-moscow",
   "metadata": {
    "ExecuteTime": {
     "end_time": "2021-03-20T22:18:29.580991Z",
     "start_time": "2021-03-20T22:18:27.494932Z"
    }
   },
   "outputs": [],
   "source": [
    "import pandas as pd\n",
    "import numpy as np\n",
    "import torch\n",
    "import pyro\n",
    "import pyro.distributions as dist\n",
    "\n",
    "import orbit\n",
    "from orbit.models.template import BaseTemplate\n",
    "from orbit.models.template import FullBayesianTemplate\n",
    "from orbit.estimators.pyro_estimator import PyroEstimatorVI\n",
    "\n",
    "from orbit.utils.simulation import make_regression\n",
    "\n",
    "%matplotlib inline"
   ]
  },
  {
   "cell_type": "code",
   "execution_count": 2,
   "id": "still-washer",
   "metadata": {
    "ExecuteTime": {
     "end_time": "2021-03-20T22:18:29.585328Z",
     "start_time": "2021-03-20T22:18:29.582788Z"
    }
   },
   "outputs": [],
   "source": [
    "assert orbit.__version__ == '1.0.13dev'"
   ]
  },
  {
   "cell_type": "markdown",
   "id": "passing-spoke",
   "metadata": {},
   "source": [
    "## Define a new model structure"
   ]
  },
  {
   "cell_type": "code",
   "execution_count": 3,
   "id": "preceding-primary",
   "metadata": {
    "ExecuteTime": {
     "end_time": "2021-03-20T22:18:29.594776Z",
     "start_time": "2021-03-20T22:18:29.588382Z"
    }
   },
   "outputs": [],
   "source": [
    "class MyFitter:\n",
    "    max_plate_nesting = 1  # max number of plates nested in model\n",
    "\n",
    "    def __init__(self, data):\n",
    "        for key, value in data.items():\n",
    "            key = key.lower()\n",
    "            if isinstance(value, (list, np.ndarray)):\n",
    "                value = torch.tensor(value, dtype=torch.float)\n",
    "            self.__dict__[key] = value\n",
    "\n",
    "    def __call__(self):\n",
    "        extra_out = {}\n",
    "        \n",
    "        p = self.regressor.shape[1]\n",
    "        bias = pyro.sample(\"bias\", dist.Normal(0, 1))\n",
    "        weight = pyro.sample(\"weight\", dist.Normal(0, 1).expand([p]).to_event(1))\n",
    "        yhat = bias + weight @ self.regressor.transpose(-1, -2)\n",
    "        obs_sigma = pyro.sample(\"obs_sigma\", dist.HalfCauchy(self.response_sd))\n",
    "        \n",
    "        with pyro.plate(\"response_plate\", self.num_of_obs):\n",
    "            pyro.sample(\"response\", dist.Normal(yhat, obs_sigma), obs=self.response)\n",
    "        return extra_out"
   ]
  },
  {
   "cell_type": "markdown",
   "id": "collaborative-cheese",
   "metadata": {},
   "source": [
    "## Define data mapper"
   ]
  },
  {
   "cell_type": "code",
   "execution_count": 4,
   "id": "talented-garden",
   "metadata": {
    "ExecuteTime": {
     "end_time": "2021-03-20T22:18:29.600210Z",
     "start_time": "2021-03-20T22:18:29.597366Z"
    }
   },
   "outputs": [],
   "source": [
    "from enum import Enum\n",
    "\n",
    "class MyDataMapper(Enum):\n",
    "    NUM_OF_OBSERVATIONS = 'NUM_OF_OBS'\n",
    "    RESPONSE = 'RESPONSE'\n",
    "    RESPONSE_SD = 'RESPONSE_SD'\n",
    "    REGRESSOR = 'REGRESSOR'"
   ]
  },
  {
   "cell_type": "markdown",
   "id": "simplified-sussex",
   "metadata": {},
   "source": [
    "## Put it into the template"
   ]
  },
  {
   "cell_type": "code",
   "execution_count": 5,
   "id": "wanted-incentive",
   "metadata": {
    "ExecuteTime": {
     "end_time": "2021-03-20T22:18:29.607407Z",
     "start_time": "2021-03-20T22:18:29.602021Z"
    }
   },
   "outputs": [],
   "source": [
    "class BaseRegression(BaseTemplate):\n",
    "    _fitter = MyFitter\n",
    "    _data_input_mapper = MyDataMapper\n",
    "    def __init__(self, regressor_col, **kwargs):\n",
    "        super().__init__(**kwargs)  # create estimator in base class\n",
    "        self.regressor_col = regressor_col\n",
    "        self.regressor = None\n",
    "\n",
    "    def _set_model_param_names(self):\n",
    "        # sampling parameters\n",
    "        self._model_param_names = ['bias', 'weight', 'obs_sigma']\n",
    "    \n",
    "    def _set_dynamic_attributes(self, df):\n",
    "        # additional information want to bring into the model fitting\n",
    "        self.regressor = df[self.regressor_col].values\n",
    "\n",
    "class PyroVIRegression(FullBayesianTemplate, BaseRegression):\n",
    "    \n",
    "    _supported_estimator_types = [PyroEstimatorVI]\n",
    "    \n",
    "    def __init__(self, estimator_type=PyroEstimatorVI, **kwargs):\n",
    "        super().__init__(estimator_type=estimator_type, **kwargs)"
   ]
  },
  {
   "cell_type": "markdown",
   "id": "north-finding",
   "metadata": {},
   "source": [
    "## Test out the new model!"
   ]
  },
  {
   "cell_type": "markdown",
   "id": "martial-community",
   "metadata": {},
   "source": [
    "Prepare the input data."
   ]
  },
  {
   "cell_type": "code",
   "execution_count": 6,
   "id": "systematic-namibia",
   "metadata": {
    "ExecuteTime": {
     "end_time": "2021-03-20T22:18:29.612454Z",
     "start_time": "2021-03-20T22:18:29.609196Z"
    }
   },
   "outputs": [],
   "source": [
    "x, y, coefs = make_regression(120, [3.0, -1.0], bias=1.0)"
   ]
  },
  {
   "cell_type": "code",
   "execution_count": 7,
   "id": "surprised-horse",
   "metadata": {
    "ExecuteTime": {
     "end_time": "2021-03-20T22:18:29.618915Z",
     "start_time": "2021-03-20T22:18:29.614167Z"
    }
   },
   "outputs": [],
   "source": [
    "df = pd.DataFrame(\n",
    "    np.concatenate([y.reshape(-1, 1), x], axis=1), columns=['y', 'x1', 'x2']\n",
    ")\n",
    "df['week'] = pd.date_range(start='2016-01-04', periods=len(y), freq='7D')"
   ]
  },
  {
   "cell_type": "code",
   "execution_count": 8,
   "id": "successful-dispatch",
   "metadata": {
    "ExecuteTime": {
     "end_time": "2021-03-20T22:18:29.634956Z",
     "start_time": "2021-03-20T22:18:29.622013Z"
    }
   },
   "outputs": [
    {
     "data": {
      "text/html": [
       "<div>\n",
       "<style scoped>\n",
       "    .dataframe tbody tr th:only-of-type {\n",
       "        vertical-align: middle;\n",
       "    }\n",
       "\n",
       "    .dataframe tbody tr th {\n",
       "        vertical-align: top;\n",
       "    }\n",
       "\n",
       "    .dataframe thead th {\n",
       "        text-align: right;\n",
       "    }\n",
       "</style>\n",
       "<table border=\"1\" class=\"dataframe\">\n",
       "  <thead>\n",
       "    <tr style=\"text-align: right;\">\n",
       "      <th></th>\n",
       "      <th>y</th>\n",
       "      <th>x1</th>\n",
       "      <th>x2</th>\n",
       "      <th>week</th>\n",
       "    </tr>\n",
       "  </thead>\n",
       "  <tbody>\n",
       "    <tr>\n",
       "      <th>0</th>\n",
       "      <td>1.863960</td>\n",
       "      <td>0.172792</td>\n",
       "      <td>0.000000</td>\n",
       "      <td>2016-01-04</td>\n",
       "    </tr>\n",
       "    <tr>\n",
       "      <th>1</th>\n",
       "      <td>2.317274</td>\n",
       "      <td>0.165219</td>\n",
       "      <td>-0.000000</td>\n",
       "      <td>2016-01-11</td>\n",
       "    </tr>\n",
       "    <tr>\n",
       "      <th>2</th>\n",
       "      <td>2.465284</td>\n",
       "      <td>0.452678</td>\n",
       "      <td>0.223187</td>\n",
       "      <td>2016-01-18</td>\n",
       "    </tr>\n",
       "    <tr>\n",
       "      <th>3</th>\n",
       "      <td>-0.593716</td>\n",
       "      <td>-0.000000</td>\n",
       "      <td>0.290559</td>\n",
       "      <td>2016-01-25</td>\n",
       "    </tr>\n",
       "    <tr>\n",
       "      <th>4</th>\n",
       "      <td>2.305148</td>\n",
       "      <td>0.182286</td>\n",
       "      <td>0.147066</td>\n",
       "      <td>2016-02-01</td>\n",
       "    </tr>\n",
       "  </tbody>\n",
       "</table>\n",
       "</div>"
      ],
      "text/plain": [
       "          y        x1        x2       week\n",
       "0  1.863960  0.172792  0.000000 2016-01-04\n",
       "1  2.317274  0.165219 -0.000000 2016-01-11\n",
       "2  2.465284  0.452678  0.223187 2016-01-18\n",
       "3 -0.593716 -0.000000  0.290559 2016-01-25\n",
       "4  2.305148  0.182286  0.147066 2016-02-01"
      ]
     },
     "execution_count": 8,
     "metadata": {},
     "output_type": "execute_result"
    }
   ],
   "source": [
    "df.head(5)"
   ]
  },
  {
   "cell_type": "code",
   "execution_count": 9,
   "id": "optional-isaac",
   "metadata": {
    "ExecuteTime": {
     "end_time": "2021-03-20T22:18:29.639688Z",
     "start_time": "2021-03-20T22:18:29.637039Z"
    }
   },
   "outputs": [],
   "source": [
    "test_size = 20\n",
    "train_df = df[:-test_size]\n",
    "test_df = df[-test_size:]"
   ]
  },
  {
   "cell_type": "markdown",
   "id": "scheduled-vacation",
   "metadata": {},
   "source": [
    "Instantiate the new model object."
   ]
  },
  {
   "cell_type": "code",
   "execution_count": 10,
   "id": "married-acting",
   "metadata": {
    "ExecuteTime": {
     "end_time": "2021-03-20T22:18:29.644588Z",
     "start_time": "2021-03-20T22:18:29.641643Z"
    }
   },
   "outputs": [],
   "source": [
    "mod = PyroVIRegression(\n",
    "    response_col='y', \n",
    "    date_col='week',\n",
    "    regressor_col=['x1','x2'], \n",
    "    verbose=True,\n",
    "    num_steps=501,\n",
    "    seed=2021,\n",
    ")"
   ]
  },
  {
   "cell_type": "code",
   "execution_count": 11,
   "id": "thrown-delay",
   "metadata": {
    "ExecuteTime": {
     "end_time": "2021-03-20T22:18:45.484369Z",
     "start_time": "2021-03-20T22:18:29.646613Z"
    }
   },
   "outputs": [
    {
     "name": "stderr",
     "output_type": "stream",
     "text": [
      "INFO:root:Guessed max_plate_nesting = 2\n"
     ]
    },
    {
     "name": "stdout",
     "output_type": "stream",
     "text": [
      "step    0 loss = 21953, scale = 0.073408\n",
      "step  100 loss = 12588, scale = 0.015333\n",
      "step  200 loss = 12587, scale = 0.016251\n",
      "step  300 loss = 12589, scale = 0.016101\n",
      "step  400 loss = 12589, scale = 0.015745\n",
      "step  500 loss = 12589, scale = 0.016569\n"
     ]
    }
   ],
   "source": [
    "mod.fit(df=train_df)"
   ]
  },
  {
   "cell_type": "code",
   "execution_count": 12,
   "id": "usual-model",
   "metadata": {
    "ExecuteTime": {
     "end_time": "2021-03-20T22:18:45.490440Z",
     "start_time": "2021-03-20T22:18:45.487041Z"
    }
   },
   "outputs": [],
   "source": [
    "estimated_weights = mod._posterior_samples['weight']"
   ]
  },
  {
   "cell_type": "code",
   "execution_count": 13,
   "id": "killing-uzbekistan",
   "metadata": {
    "ExecuteTime": {
     "end_time": "2021-03-20T22:18:45.497601Z",
     "start_time": "2021-03-20T22:18:45.493024Z"
    }
   },
   "outputs": [
    {
     "name": "stdout",
     "output_type": "stream",
     "text": [
      "True Coef: 3.000, -1.000\n",
      "Estimated Coef: 2.924, -0.934\n"
     ]
    }
   ],
   "source": [
    "print(\"True Coef: {:.3f}, {:.3f}\".format(coefs[0], coefs[1]) )\n",
    "estimated_coef = np.median(estimated_weights, axis=0)\n",
    "print(\"Estimated Coef: {:.3f}, {:.3f}\".format(estimated_coef[0], estimated_coef[1]))"
   ]
  }
 ],
 "metadata": {
  "kernelspec": {
   "display_name": "Python 3",
   "language": "python",
   "name": "python3"
  },
  "language_info": {
   "codemirror_mode": {
    "name": "ipython",
    "version": 3
   },
   "file_extension": ".py",
   "mimetype": "text/x-python",
   "name": "python",
   "nbconvert_exporter": "python",
   "pygments_lexer": "ipython3",
   "version": "3.7.8"
  },
  "toc": {
   "base_numbering": 1,
   "nav_menu": {},
   "number_sections": true,
   "sideBar": true,
   "skip_h1_title": false,
   "title_cell": "Table of Contents",
   "title_sidebar": "Contents",
   "toc_cell": false,
   "toc_position": {},
   "toc_section_display": true,
   "toc_window_display": false
  }
 },
 "nbformat": 4,
 "nbformat_minor": 5
}
