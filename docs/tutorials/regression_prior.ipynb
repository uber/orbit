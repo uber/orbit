{
 "cells": [
  {
   "cell_type": "markdown",
   "metadata": {},
   "source": [
    "# Regression with DLT"
   ]
  },
  {
   "cell_type": "markdown",
   "metadata": {},
   "source": [
    "This notebook demonstrates usage of priors in the regression analysis. The *iclaims* data will be used in demo purpose. Examples include\n",
    "\n",
    "1. regression with default setting\n",
    "2. regression with bounded priors for regression coefficients \n",
    "\n",
    "Generally speaking, regression coefficients are more robust under full Bayesian sampling and estimation.  Hence, we will use `estimator='stan-mcmc'` (the default) in the session."
   ]
  },
  {
   "cell_type": "code",
   "execution_count": 13,
   "metadata": {
    "ExecuteTime": {
     "end_time": "2022-01-12T00:55:12.764462Z",
     "start_time": "2022-01-12T00:55:10.604376Z"
    }
   },
   "outputs": [],
   "source": [
    "%matplotlib inline\n",
    "\n",
    "import matplotlib.pyplot as plt\n",
    "import numpy as np\n",
    "\n",
    "import orbit\n",
    "from orbit.utils.dataset import load_iclaims\n",
    "from orbit.models import DLT\n",
    "from orbit.diagnostics.plot import plot_predicted_data\n",
    "from orbit.constants.palette import OrbitPalette"
   ]
  },
  {
   "cell_type": "code",
   "execution_count": 2,
   "metadata": {
    "ExecuteTime": {
     "end_time": "2022-01-12T00:55:12.769545Z",
     "start_time": "2022-01-12T00:55:12.766606Z"
    }
   },
   "outputs": [
    {
     "name": "stdout",
     "output_type": "stream",
     "text": [
      "1.1.1dev\n"
     ]
    }
   ],
   "source": [
    "print(orbit.__version__)"
   ]
  },
  {
   "cell_type": "markdown",
   "metadata": {
    "toc-hr-collapsed": false
   },
   "source": [
    "## US Weekly Initial Claims"
   ]
  },
  {
   "cell_type": "markdown",
   "metadata": {},
   "source": [
    "Recall the *iclaims* dataset by previous section. In order to use this data to nowcast the US unemployment claims during COVID-19 period, we extended the dataset to Jan 2021 and added the [S&P 500 (^GSPC)](https://finance.yahoo.com/quote/%5EGSPC/history?period1=1264032000&period2=1611187200&interval=1wk&filter=history&frequency=1wk&includeAdjustedClose=true) and [VIX](https://finance.yahoo.com/quote/%5EVIX/history?p=%5EVIX) Index historical data for the same period.\n",
    "\n",
    "The data is standardized and log-transformed for the model fitting purpose."
   ]
  },
  {
   "cell_type": "code",
   "execution_count": 3,
   "metadata": {
    "ExecuteTime": {
     "end_time": "2021-08-20T23:40:32.394924Z",
     "start_time": "2021-08-20T23:40:31.997101Z"
    }
   },
   "outputs": [
    {
     "data": {
      "text/plain": [
       "week              datetime64[ns]\n",
       "claims                   float64\n",
       "trend.unemploy           float64\n",
       "trend.job                float64\n",
       "sp500                    float64\n",
       "vix                      float64\n",
       "dtype: object"
      ]
     },
     "execution_count": 3,
     "metadata": {},
     "output_type": "execute_result"
    }
   ],
   "source": [
    "# load data\n",
    "df = load_iclaims(end_date='2021-01-03')\n",
    "df = df[['week', 'claims', 'trend.unemploy', 'trend.job', 'sp500', 'vix']]\n",
    "df = df[1:].reset_index(drop=True)\n",
    "\n",
    "date_col = 'week'\n",
    "response_col = 'claims'\n",
    "df.dtypes"
   ]
  },
  {
   "cell_type": "code",
   "execution_count": 4,
   "metadata": {
    "ExecuteTime": {
     "end_time": "2021-08-20T23:40:32.412073Z",
     "start_time": "2021-08-20T23:40:32.397312Z"
    }
   },
   "outputs": [
    {
     "data": {
      "text/html": [
       "<div>\n",
       "<style scoped>\n",
       "    .dataframe tbody tr th:only-of-type {\n",
       "        vertical-align: middle;\n",
       "    }\n",
       "\n",
       "    .dataframe tbody tr th {\n",
       "        vertical-align: top;\n",
       "    }\n",
       "\n",
       "    .dataframe thead th {\n",
       "        text-align: right;\n",
       "    }\n",
       "</style>\n",
       "<table border=\"1\" class=\"dataframe\">\n",
       "  <thead>\n",
       "    <tr style=\"text-align: right;\">\n",
       "      <th></th>\n",
       "      <th>week</th>\n",
       "      <th>claims</th>\n",
       "      <th>trend.unemploy</th>\n",
       "      <th>trend.job</th>\n",
       "      <th>sp500</th>\n",
       "      <th>vix</th>\n",
       "    </tr>\n",
       "  </thead>\n",
       "  <tbody>\n",
       "    <tr>\n",
       "      <th>0</th>\n",
       "      <td>2010-01-10</td>\n",
       "      <td>13.624218</td>\n",
       "      <td>0.016351</td>\n",
       "      <td>0.181862</td>\n",
       "      <td>-0.550891</td>\n",
       "      <td>0.069878</td>\n",
       "    </tr>\n",
       "    <tr>\n",
       "      <th>1</th>\n",
       "      <td>2010-01-17</td>\n",
       "      <td>13.398741</td>\n",
       "      <td>0.032611</td>\n",
       "      <td>0.130569</td>\n",
       "      <td>-0.590640</td>\n",
       "      <td>0.491772</td>\n",
       "    </tr>\n",
       "    <tr>\n",
       "      <th>2</th>\n",
       "      <td>2010-01-24</td>\n",
       "      <td>13.137549</td>\n",
       "      <td>-0.000179</td>\n",
       "      <td>0.119987</td>\n",
       "      <td>-0.607162</td>\n",
       "      <td>0.388078</td>\n",
       "    </tr>\n",
       "    <tr>\n",
       "      <th>3</th>\n",
       "      <td>2010-01-31</td>\n",
       "      <td>13.196760</td>\n",
       "      <td>-0.069172</td>\n",
       "      <td>0.087552</td>\n",
       "      <td>-0.614339</td>\n",
       "      <td>0.446838</td>\n",
       "    </tr>\n",
       "    <tr>\n",
       "      <th>4</th>\n",
       "      <td>2010-02-07</td>\n",
       "      <td>13.146984</td>\n",
       "      <td>-0.182500</td>\n",
       "      <td>0.019344</td>\n",
       "      <td>-0.605636</td>\n",
       "      <td>0.308205</td>\n",
       "    </tr>\n",
       "  </tbody>\n",
       "</table>\n",
       "</div>"
      ],
      "text/plain": [
       "        week     claims  trend.unemploy  trend.job     sp500       vix\n",
       "0 2010-01-10  13.624218        0.016351   0.181862 -0.550891  0.069878\n",
       "1 2010-01-17  13.398741        0.032611   0.130569 -0.590640  0.491772\n",
       "2 2010-01-24  13.137549       -0.000179   0.119987 -0.607162  0.388078\n",
       "3 2010-01-31  13.196760       -0.069172   0.087552 -0.614339  0.446838\n",
       "4 2010-02-07  13.146984       -0.182500   0.019344 -0.605636  0.308205"
      ]
     },
     "execution_count": 4,
     "metadata": {},
     "output_type": "execute_result"
    }
   ],
   "source": [
    "df.head(5)"
   ]
  },
  {
   "cell_type": "markdown",
   "metadata": {},
   "source": [
    "We can see form the plot below, there are seasonality, trend, and as well as a huge changpoint due the impact of COVID-19."
   ]
  },
  {
   "cell_type": "code",
   "execution_count": 5,
   "metadata": {
    "ExecuteTime": {
     "end_time": "2021-08-20T23:40:32.965372Z",
     "start_time": "2021-08-20T23:40:32.414214Z"
    }
   },
   "outputs": [
    {
     "data": {
      "text/plain": [
       "Text(0.5, 1.0, 'S&P500')"
      ]
     },
     "execution_count": 5,
     "metadata": {},
     "output_type": "execute_result"
    },
    {
     "data": {
      "image/png": "[encoded data removed]",
      "text/plain": [
       "<Figure size 1440x576 with 4 Axes>"
      ]
     },
     "metadata": {
      "needs_background": "light"
     },
     "output_type": "display_data"
    }
   ],
   "source": [
    "fig, axs = plt.subplots(2, 2,figsize=(20,8))\n",
    "axs[0, 0].plot(df['week'], df['claims'])\n",
    "axs[0, 0].set_title('Unemployment Claims')\n",
    "axs[0, 1].plot(df['week'], df['trend.unemploy'], 'tab:orange')\n",
    "axs[0, 1].set_title('Google trend - unemploy')\n",
    "axs[1, 0].plot(df['week'], df['vix'], 'tab:green')\n",
    "axs[1, 0].set_title('VIX')\n",
    "axs[1, 1].plot(df['week'], df['sp500'], 'tab:red')\n",
    "axs[1, 1].set_title('S&P500')"
   ]
  },
  {
   "cell_type": "code",
   "execution_count": 6,
   "metadata": {
    "ExecuteTime": {
     "end_time": "2021-08-20T23:40:32.974427Z",
     "start_time": "2021-08-20T23:40:32.967844Z"
    }
   },
   "outputs": [],
   "source": [
    "# using relatively updated data\n",
    "df[['sp500']] = df[['sp500']].diff()\n",
    "df = df[1:].reset_index(drop=True)\n",
    "\n",
    "test_size = 12\n",
    "train_df = df[:-test_size]\n",
    "test_df = df[-test_size:]"
   ]
  },
  {
   "cell_type": "markdown",
   "metadata": {},
   "source": [
    "### Naive Model"
   ]
  },
  {
   "cell_type": "markdown",
   "metadata": {},
   "source": [
    "Here we will use DLT models to compare the model performance with vs. without regression."
   ]
  },
  {
   "cell_type": "code",
   "execution_count": 7,
   "metadata": {
    "ExecuteTime": {
     "end_time": "2021-08-20T23:40:48.674597Z",
     "start_time": "2021-08-20T23:40:32.978178Z"
    }
   },
   "outputs": [
    {
     "name": "stderr",
     "output_type": "stream",
     "text": [
      "INFO:orbit:Sampling (PyStan) with chains: 4, cores: 8, temperature: 1.000, warmups (per chain): 1000 and samples(per chain): 25.\n",
      "WARNING:pystan:Maximum (flat) parameter count (1000) exceeded: skipping diagnostic tests for n_eff and Rhat.\n",
      "To run all diagnostics call pystan.check_hmc_diagnostics(fit)\n"
     ]
    },
    {
     "name": "stdout",
     "output_type": "stream",
     "text": [
      "CPU times: user 240 ms, sys: 273 ms, total: 513 ms\n",
      "Wall time: 15.1 s\n"
     ]
    }
   ],
   "source": [
    "%%time\n",
    "dlt = DLT(\n",
    "    response_col=response_col,\n",
    "    date_col=date_col,\n",
    "    seasonality=52,\n",
    "    seed=8888,\n",
    "    num_warmup=4000,\n",
    ")\n",
    "dlt.fit(df=train_df)\n",
    "predicted_df = dlt.predict(df=test_df)"
   ]
  },
  {
   "cell_type": "markdown",
   "metadata": {
    "toc-hr-collapsed": false
   },
   "source": [
    "### DLT With Regression"
   ]
  },
  {
   "cell_type": "markdown",
   "metadata": {},
   "source": [
    "The regressor columns can be supplied via argument `regressor_col`.  Recall the regression formula in **DLT**:\n",
    "\n",
    "$$\n",
    "\\hat{y}_t =\\mu_t + s_t + r_t \\\\\n",
    "r_t = \\sum_{j}\\beta_j x_{jt} \\\\\n",
    "\\beta_j ~\\sim \\mathcal{N}(\\mu_j, \\sigma_j^2)\n",
    "$$\n",
    "\n",
    "By default, $\\mu_j = 0$ and $\\sigma_j = 1$.  In addition, we can set a *sign* constraint for each coefficient $\\beta_j$.  This is can be done by supplying the `regressor_sign` as a list where elements are in one of followings:\n",
    "\n",
    "* '=': $\\beta_j ~\\sim \\mathcal{N}(0, \\sigma_j^2)$  i.e. $\\beta_j \\in (-\\inf, \\inf)$\n",
    "* '+': $\\beta_j ~\\sim \\mathcal{N}^+(0, \\sigma_j^2)$  i.e. $\\beta_j \\in [0, \\inf)$\n",
    "* '-': $\\beta_j ~\\sim \\mathcal{N}^-(0, \\sigma_j^2)$  i.e. $\\beta_j \\in (-\\inf, 0]$\n",
    "\n",
    "Based on some intuition, it's reasonable to assume search terms such as \"unemployment\", \"filling\" and **VIX** index to be positively correlated and stock index such as **SP500** to be negatively correlated to the outcome.  Then we will leave whatever unsured as a regular regressor."
   ]
  },
  {
   "cell_type": "code",
   "execution_count": 8,
   "metadata": {
    "ExecuteTime": {
     "end_time": "2021-08-20T23:41:04.943958Z",
     "start_time": "2021-08-20T23:40:48.681783Z"
    }
   },
   "outputs": [
    {
     "name": "stderr",
     "output_type": "stream",
     "text": [
      "INFO:orbit:Sampling (PyStan) with chains: 4, cores: 8, temperature: 1.000, warmups (per chain): 1000 and samples(per chain): 25.\n",
      "WARNING:pystan:Maximum (flat) parameter count (1000) exceeded: skipping diagnostic tests for n_eff and Rhat.\n",
      "To run all diagnostics call pystan.check_hmc_diagnostics(fit)\n"
     ]
    },
    {
     "name": "stdout",
     "output_type": "stream",
     "text": [
      "CPU times: user 239 ms, sys: 325 ms, total: 564 ms\n",
      "Wall time: 13.7 s\n"
     ]
    }
   ],
   "source": [
    "%%time\n",
    "dlt_reg = DLT(\n",
    "    response_col=response_col, \n",
    "    date_col=date_col,\n",
    "    regressor_col=['trend.unemploy', 'trend.job', 'sp500', 'vix'],\n",
    "    seasonality=52,\n",
    "    seed=8888,\n",
    "    num_warmup=4000,\n",
    ")\n",
    "dlt_reg.fit(df=train_df)\n",
    "predicted_df_reg = dlt_reg.predict(test_df)"
   ]
  },
  {
   "cell_type": "markdown",
   "metadata": {},
   "source": [
    "The estimated regressor coefficients can be retrieved via `.get_regression_coefs()`."
   ]
  },
  {
   "cell_type": "code",
   "execution_count": 9,
   "metadata": {
    "ExecuteTime": {
     "end_time": "2021-08-20T23:41:04.964397Z",
     "start_time": "2021-08-20T23:41:04.947716Z"
    }
   },
   "outputs": [
    {
     "data": {
      "text/html": [
       "<div>\n",
       "<style scoped>\n",
       "    .dataframe tbody tr th:only-of-type {\n",
       "        vertical-align: middle;\n",
       "    }\n",
       "\n",
       "    .dataframe tbody tr th {\n",
       "        vertical-align: top;\n",
       "    }\n",
       "\n",
       "    .dataframe thead th {\n",
       "        text-align: right;\n",
       "    }\n",
       "</style>\n",
       "<table border=\"1\" class=\"dataframe\">\n",
       "  <thead>\n",
       "    <tr style=\"text-align: right;\">\n",
       "      <th></th>\n",
       "      <th>regressor</th>\n",
       "      <th>regressor_sign</th>\n",
       "      <th>coefficient</th>\n",
       "    </tr>\n",
       "  </thead>\n",
       "  <tbody>\n",
       "    <tr>\n",
       "      <th>0</th>\n",
       "      <td>trend.unemploy</td>\n",
       "      <td>Regular</td>\n",
       "      <td>0.078319</td>\n",
       "    </tr>\n",
       "    <tr>\n",
       "      <th>1</th>\n",
       "      <td>trend.job</td>\n",
       "      <td>Regular</td>\n",
       "      <td>-0.042035</td>\n",
       "    </tr>\n",
       "    <tr>\n",
       "      <th>2</th>\n",
       "      <td>sp500</td>\n",
       "      <td>Regular</td>\n",
       "      <td>-0.012173</td>\n",
       "    </tr>\n",
       "    <tr>\n",
       "      <th>3</th>\n",
       "      <td>vix</td>\n",
       "      <td>Regular</td>\n",
       "      <td>0.009580</td>\n",
       "    </tr>\n",
       "  </tbody>\n",
       "</table>\n",
       "</div>"
      ],
      "text/plain": [
       "        regressor regressor_sign  coefficient\n",
       "0  trend.unemploy        Regular     0.078319\n",
       "1       trend.job        Regular    -0.042035\n",
       "2           sp500        Regular    -0.012173\n",
       "3             vix        Regular     0.009580"
      ]
     },
     "execution_count": 9,
     "metadata": {},
     "output_type": "execute_result"
    }
   ],
   "source": [
    "dlt_reg.get_regression_coefs()"
   ]
  },
  {
   "cell_type": "markdown",
   "metadata": {},
   "source": [
    "### Regression with Informative Priors"
   ]
  },
  {
   "cell_type": "markdown",
   "metadata": {},
   "source": [
    "Due to various reasons, users may obtain further knowledge on some of the regressors or they want to propose different regularization on different regressors. These informative priors basically means to replace the defaults ($\\mu$, $\\sigma$) mentioned previously. In orbit, this process is done via the arguments `regressor_beta_prior` and `regressor_sigma_prior`. These two lists should be of the same length as `regressor_col`."
   ]
  },
  {
   "cell_type": "markdown",
   "metadata": {},
   "source": [
    "In addition, we can set a *sign* constraint for each coefficient $\\beta_j$.  This is can be done by supplying the `regressor_sign` as a list where elements are in one of followings:\n",
    "\n",
    "* '=': $\\beta_j ~\\sim \\mathcal{N}(0, \\sigma_j^2)$  i.e. $\\beta_j \\in (-\\inf, \\inf)$\n",
    "* '+': $\\beta_j ~\\sim \\mathcal{N}^+(0, \\sigma_j^2)$  i.e. $\\beta_j \\in [0, \\inf)$\n",
    "* '-': $\\beta_j ~\\sim \\mathcal{N}^-(0, \\sigma_j^2)$  i.e. $\\beta_j \\in (-\\inf, 0]$\n",
    "\n",
    "Based on intuition, it's reasonable to assume search terms such as \"unemployment\", \"filling\" and **VIX** index to be positively correlated (`+` sign is used in this case) and upward shock of **SP500** (`-` sign) to be negatively correlated to the outcome. Otherwise, an unbounded coefficient can be used (`=` sign).\n",
    "\n",
    "Furthermore, regressors such as seach queries may have more direct impact than stock marker indices.  Hence, a smaller $\\sigma$ is considered."
   ]
  },
  {
   "cell_type": "code",
   "execution_count": 10,
   "metadata": {
    "ExecuteTime": {
     "end_time": "2021-08-20T23:41:21.635423Z",
     "start_time": "2021-08-20T23:41:04.966900Z"
    }
   },
   "outputs": [
    {
     "name": "stderr",
     "output_type": "stream",
     "text": [
      "INFO:orbit:Sampling (PyStan) with chains: 4, cores: 8, temperature: 1.000, warmups (per chain): 1000 and samples(per chain): 250.\n",
      "WARNING:pystan:Maximum (flat) parameter count (1000) exceeded: skipping diagnostic tests for n_eff and Rhat.\n",
      "To run all diagnostics call pystan.check_hmc_diagnostics(fit)\n"
     ]
    }
   ],
   "source": [
    "dlt_reg_adjust = DLT(\n",
    "    response_col=response_col,\n",
    "    date_col=date_col,\n",
    "    regressor_col=['trend.unemploy', 'trend.job', 'sp500','vix'],\n",
    "    regressor_sign=['+','=','-','+'],\n",
    "    regressor_sigma_prior=[0.3, 0.1, 0.05, 0.1],\n",
    "    num_warmup=4000,\n",
    "    num_sample=1000,\n",
    "    estimator='stan-mcmc',\n",
    "    seed=2022,\n",
    ")\n",
    "dlt_reg_adjust.fit(df=train_df)\n",
    "predicted_df_reg_adjust = dlt_reg_adjust.predict(test_df)"
   ]
  },
  {
   "cell_type": "code",
   "execution_count": 11,
   "metadata": {
    "ExecuteTime": {
     "end_time": "2021-08-20T23:41:21.652662Z",
     "start_time": "2021-08-20T23:41:21.639260Z"
    }
   },
   "outputs": [
    {
     "data": {
      "text/html": [
       "<div>\n",
       "<style scoped>\n",
       "    .dataframe tbody tr th:only-of-type {\n",
       "        vertical-align: middle;\n",
       "    }\n",
       "\n",
       "    .dataframe tbody tr th {\n",
       "        vertical-align: top;\n",
       "    }\n",
       "\n",
       "    .dataframe thead th {\n",
       "        text-align: right;\n",
       "    }\n",
       "</style>\n",
       "<table border=\"1\" class=\"dataframe\">\n",
       "  <thead>\n",
       "    <tr style=\"text-align: right;\">\n",
       "      <th></th>\n",
       "      <th>regressor</th>\n",
       "      <th>regressor_sign</th>\n",
       "      <th>coefficient</th>\n",
       "    </tr>\n",
       "  </thead>\n",
       "  <tbody>\n",
       "    <tr>\n",
       "      <th>0</th>\n",
       "      <td>trend.unemploy</td>\n",
       "      <td>Positive</td>\n",
       "      <td>0.130684</td>\n",
       "    </tr>\n",
       "    <tr>\n",
       "      <th>1</th>\n",
       "      <td>vix</td>\n",
       "      <td>Positive</td>\n",
       "      <td>0.020018</td>\n",
       "    </tr>\n",
       "    <tr>\n",
       "      <th>2</th>\n",
       "      <td>sp500</td>\n",
       "      <td>Negative</td>\n",
       "      <td>-0.028337</td>\n",
       "    </tr>\n",
       "    <tr>\n",
       "      <th>3</th>\n",
       "      <td>trend.job</td>\n",
       "      <td>Regular</td>\n",
       "      <td>-0.015209</td>\n",
       "    </tr>\n",
       "  </tbody>\n",
       "</table>\n",
       "</div>"
      ],
      "text/plain": [
       "        regressor regressor_sign  coefficient\n",
       "0  trend.unemploy       Positive     0.130684\n",
       "1             vix       Positive     0.020018\n",
       "2           sp500       Negative    -0.028337\n",
       "3       trend.job        Regular    -0.015209"
      ]
     },
     "execution_count": 11,
     "metadata": {},
     "output_type": "execute_result"
    }
   ],
   "source": [
    "dlt_reg_adjust.get_regression_coefs()"
   ]
  },
  {
   "cell_type": "markdown",
   "metadata": {},
   "source": [
    "Let's compare the holdout performance by using the built-in function `smape()` ."
   ]
  },
  {
   "cell_type": "code",
   "execution_count": 14,
   "metadata": {
    "ExecuteTime": {
     "end_time": "2021-08-20T23:41:21.661669Z",
     "start_time": "2021-08-20T23:41:21.654879Z"
    }
   },
   "outputs": [
    {
     "name": "stdout",
     "output_type": "stream",
     "text": [
      "----------------Mean Absolute Error Summary----------------\n",
      "Naive Model: 0.256\n",
      "Regression Model: 0.249\n",
      "Refined Regression Model: 0.098\n"
     ]
    }
   ],
   "source": [
    "def mae(x, y):\n",
    "    return np.mean(np.abs(x - y))\n",
    "\n",
    "naive_mae = mae(predicted_df['prediction'].values, test_df['claims'].values)\n",
    "reg_mae = mae(predicted_df_reg['prediction'].values, test_df['claims'].values)\n",
    "reg_adjust_mae = mae(predicted_df_reg_adjust['prediction'].values, test_df['claims'].values)\n",
    "\n",
    "print(\"----------------Mean Absolute Error Summary----------------\")\n",
    "print(\"Naive Model: {:.3f}\\nRegression Model: {:.3f}\\nRefined Regression Model: {:.3f}\".format(\n",
    "    naive_mae, reg_mae, reg_adjust_mae\n",
    "))"
   ]
  },
  {
   "cell_type": "markdown",
   "metadata": {},
   "source": [
    "## Summary\n",
    "\n",
    "This demo showcases a use case in nowcasting. Although this may not be applicable in real-time forecasting, it mainly introduces the regression analysis with time-series modeling in `Orbit`. For people who have concerns on the forecastability, one can consider introducing lag on regressors.\n",
    "\n",
    "Also, `Orbit` allows informative priors where sometime can be useful in combining multiple source of insights together."
   ]
  }
 ],
 "metadata": {
  "kernelspec": {
   "display_name": "Python 3 (ipykernel)",
   "language": "python",
   "name": "python3"
  },
  "language_info": {
   "codemirror_mode": {
    "name": "ipython",
    "version": 3
   },
   "file_extension": ".py",
   "mimetype": "text/x-python",
   "name": "python",
   "nbconvert_exporter": "python",
   "pygments_lexer": "ipython3",
   "version": "3.7.9"
  },
  "toc": {
   "base_numbering": 1,
   "nav_menu": {},
   "number_sections": true,
   "sideBar": true,
   "skip_h1_title": true,
   "title_cell": "Table of Contents",
   "title_sidebar": "Contents",
   "toc_cell": false,
   "toc_position": {},
   "toc_section_display": true,
   "toc_window_display": true
  }
 },
 "nbformat": 4,
 "nbformat_minor": 4
}
