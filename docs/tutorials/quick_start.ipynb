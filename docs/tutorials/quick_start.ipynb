{
 "cells": [
  {
   "cell_type": "markdown",
   "metadata": {},
   "source": [
    "# Quick Start"
   ]
  },
  {
   "cell_type": "markdown",
   "metadata": {},
   "source": [
    "In this session, we will explore:\n",
    "\n",
    "- a forecast task on iclaims dataset\n",
    "- a simple Bayesian ETS Model using `PyStan`\n",
    "- tools to visualize the forecast"
   ]
  },
  {
   "cell_type": "markdown",
   "metadata": {},
   "source": [
    "## Load Library"
   ]
  },
  {
   "cell_type": "code",
   "execution_count": 1,
   "metadata": {
    "ExecuteTime": {
     "end_time": "2021-03-31T03:00:26.240327Z",
     "start_time": "2021-03-31T03:00:23.490227Z"
    }
   },
   "outputs": [],
   "source": [
    "%matplotlib inline\n",
    "\n",
    "import orbit\n",
    "from orbit.utils.dataset import load_iclaims\n",
    "from orbit.models.ets import ETSFull\n",
    "from orbit.diagnostics.plot import plot_predicted_data"
   ]
  },
  {
   "cell_type": "code",
   "execution_count": 2,
   "metadata": {
    "ExecuteTime": {
     "end_time": "2021-03-31T03:00:26.246014Z",
     "start_time": "2021-03-31T03:00:26.243069Z"
    }
   },
   "outputs": [
    {
     "name": "stdout",
     "output_type": "stream",
     "text": [
      "1.0.14dev\n"
     ]
    }
   ],
   "source": [
    "print(orbit.__version__)"
   ]
  },
  {
   "cell_type": "markdown",
   "metadata": {},
   "source": [
    "## Data"
   ]
  },
  {
   "cell_type": "markdown",
   "metadata": {},
   "source": [
    "The *iclaims* data contains the weekly initial claims for US unemployment benefits against a few related google trend queries (unemploy, filling and job)from Jan 2010 - June 2018. \n",
    "This aims to demo a similar dataset from the Bayesian Structural Time Series (BSTS) model [(Scott and Varian 2014)](https://people.ischool.berkeley.edu/~hal/Papers/2013/pred-present-with-bsts.pdf).\n",
    "\n",
    "Number of claims are obtained from [Federal Reserve Bank of St. Louis](https://fred.stlouisfed.org/series/ICNSA) while regressors such as google queries are obtained through [Google Trends API](https://trends.google.com/trends/?geo=US).\n",
    "\n",
    "**Note:** Both the response and regressors are transformed by log in order to illustrate a multiplicative model.  We will continue to use this dataset in some subsequent sections."
   ]
  },
  {
   "cell_type": "code",
   "execution_count": 3,
   "metadata": {
    "ExecuteTime": {
     "end_time": "2021-03-31T03:00:42.313626Z",
     "start_time": "2021-03-31T03:00:41.907575Z"
    }
   },
   "outputs": [
    {
     "data": {
      "text/plain": [
       "week              datetime64[ns]\n",
       "claims                   float64\n",
       "trend.unemploy           float64\n",
       "trend.filling            float64\n",
       "trend.job                float64\n",
       "sp500                    float64\n",
       "vix                      float64\n",
       "dtype: object"
      ]
     },
     "execution_count": 3,
     "metadata": {},
     "output_type": "execute_result"
    }
   ],
   "source": [
    "# load data\n",
    "df = load_iclaims()\n",
    "date_col = 'week'\n",
    "response_col = 'claims'\n",
    "df.dtypes"
   ]
  },
  {
   "cell_type": "code",
   "execution_count": 4,
   "metadata": {
    "ExecuteTime": {
     "end_time": "2021-03-31T03:00:43.102171Z",
     "start_time": "2021-03-31T03:00:43.076726Z"
    }
   },
   "outputs": [
    {
     "data": {
      "text/html": [
       "<div>\n",
       "<style scoped>\n",
       "    .dataframe tbody tr th:only-of-type {\n",
       "        vertical-align: middle;\n",
       "    }\n",
       "\n",
       "    .dataframe tbody tr th {\n",
       "        vertical-align: top;\n",
       "    }\n",
       "\n",
       "    .dataframe thead th {\n",
       "        text-align: right;\n",
       "    }\n",
       "</style>\n",
       "<table border=\"1\" class=\"dataframe\">\n",
       "  <thead>\n",
       "    <tr style=\"text-align: right;\">\n",
       "      <th></th>\n",
       "      <th>week</th>\n",
       "      <th>claims</th>\n",
       "      <th>trend.unemploy</th>\n",
       "      <th>trend.filling</th>\n",
       "      <th>trend.job</th>\n",
       "      <th>sp500</th>\n",
       "      <th>vix</th>\n",
       "    </tr>\n",
       "  </thead>\n",
       "  <tbody>\n",
       "    <tr>\n",
       "      <th>0</th>\n",
       "      <td>2010-01-03</td>\n",
       "      <td>13.386595</td>\n",
       "      <td>0.219882</td>\n",
       "      <td>-0.318452</td>\n",
       "      <td>0.117500</td>\n",
       "      <td>-0.417633</td>\n",
       "      <td>0.122654</td>\n",
       "    </tr>\n",
       "    <tr>\n",
       "      <th>1</th>\n",
       "      <td>2010-01-10</td>\n",
       "      <td>13.624218</td>\n",
       "      <td>0.219882</td>\n",
       "      <td>-0.194838</td>\n",
       "      <td>0.168794</td>\n",
       "      <td>-0.425480</td>\n",
       "      <td>0.110445</td>\n",
       "    </tr>\n",
       "    <tr>\n",
       "      <th>2</th>\n",
       "      <td>2010-01-17</td>\n",
       "      <td>13.398741</td>\n",
       "      <td>0.236143</td>\n",
       "      <td>-0.292477</td>\n",
       "      <td>0.117500</td>\n",
       "      <td>-0.465229</td>\n",
       "      <td>0.532339</td>\n",
       "    </tr>\n",
       "    <tr>\n",
       "      <th>3</th>\n",
       "      <td>2010-01-24</td>\n",
       "      <td>13.137549</td>\n",
       "      <td>0.203353</td>\n",
       "      <td>-0.194838</td>\n",
       "      <td>0.106918</td>\n",
       "      <td>-0.481751</td>\n",
       "      <td>0.428645</td>\n",
       "    </tr>\n",
       "    <tr>\n",
       "      <th>4</th>\n",
       "      <td>2010-01-31</td>\n",
       "      <td>13.196760</td>\n",
       "      <td>0.134360</td>\n",
       "      <td>-0.242466</td>\n",
       "      <td>0.074483</td>\n",
       "      <td>-0.488929</td>\n",
       "      <td>0.487404</td>\n",
       "    </tr>\n",
       "  </tbody>\n",
       "</table>\n",
       "</div>"
      ],
      "text/plain": [
       "        week     claims  trend.unemploy  trend.filling  trend.job     sp500  \\\n",
       "0 2010-01-03  13.386595        0.219882      -0.318452   0.117500 -0.417633   \n",
       "1 2010-01-10  13.624218        0.219882      -0.194838   0.168794 -0.425480   \n",
       "2 2010-01-17  13.398741        0.236143      -0.292477   0.117500 -0.465229   \n",
       "3 2010-01-24  13.137549        0.203353      -0.194838   0.106918 -0.481751   \n",
       "4 2010-01-31  13.196760        0.134360      -0.242466   0.074483 -0.488929   \n",
       "\n",
       "        vix  \n",
       "0  0.122654  \n",
       "1  0.110445  \n",
       "2  0.532339  \n",
       "3  0.428645  \n",
       "4  0.487404  "
      ]
     },
     "execution_count": 4,
     "metadata": {},
     "output_type": "execute_result"
    }
   ],
   "source": [
    "df.head(5)"
   ]
  },
  {
   "cell_type": "markdown",
   "metadata": {},
   "source": [
    "### Train / Test Split"
   ]
  },
  {
   "cell_type": "code",
   "execution_count": 5,
   "metadata": {
    "ExecuteTime": {
     "end_time": "2021-03-31T03:00:44.717793Z",
     "start_time": "2021-03-31T03:00:44.714932Z"
    }
   },
   "outputs": [],
   "source": [
    "test_size = 52\n",
    "train_df = df[:-test_size]\n",
    "test_df = df[-test_size:]"
   ]
  },
  {
   "cell_type": "markdown",
   "metadata": {},
   "source": [
    "## Forecasting Using Orbit"
   ]
  },
  {
   "cell_type": "markdown",
   "metadata": {},
   "source": [
    "`Orbit` aims to provide an intuitive **initialize-fit-predict** interface for working with forecasting tasks. Under the hood, it utilizes probabilistic modeling API such as\n",
    "`PyStan` and `Pyro`. We first illustrate a Bayesian implementation of Rob Hyndman's ETS (which stands for Error, Trend, and Seasonality) Model [(Hyndman et. al, 2008)](http://www.exponentialsmoothing.net/home) using `PyStan`."
   ]
  },
  {
   "cell_type": "code",
   "execution_count": 6,
   "metadata": {
    "ExecuteTime": {
     "end_time": "2021-03-31T03:00:45.769570Z",
     "start_time": "2021-03-31T03:00:45.766752Z"
    }
   },
   "outputs": [],
   "source": [
    "ets = ETSFull(\n",
    "    response_col=response_col,\n",
    "    date_col=date_col,\n",
    "    seasonality=52,\n",
    "    seed=8888,\n",
    ")"
   ]
  },
  {
   "cell_type": "code",
   "execution_count": 7,
   "metadata": {
    "ExecuteTime": {
     "end_time": "2021-03-31T03:01:39.190989Z",
     "start_time": "2021-03-31T03:00:46.988302Z"
    }
   },
   "outputs": [
    {
     "name": "stderr",
     "output_type": "stream",
     "text": [
      "WARNING:pystan:n_eff / iter below 0.001 indicates that the effective sample size has likely been overestimated\n"
     ]
    },
    {
     "name": "stdout",
     "output_type": "stream",
     "text": [
      "CPU times: user 271 ms, sys: 62.1 ms, total: 333 ms\n",
      "Wall time: 1.4 s\n"
     ]
    }
   ],
   "source": [
    "%%time\n",
    "ets.fit(df=train_df)"
   ]
  },
  {
   "cell_type": "code",
   "execution_count": 13,
   "metadata": {
    "ExecuteTime": {
     "end_time": "2021-03-31T03:01:39.211502Z",
     "start_time": "2021-03-31T03:01:39.193174Z"
    }
   },
   "outputs": [],
   "source": [
    "predicted_df = ets.predict(df=test_df)"
   ]
  },
  {
   "cell_type": "code",
   "execution_count": 14,
   "metadata": {
    "ExecuteTime": {
     "end_time": "2021-03-31T03:01:39.458937Z",
     "start_time": "2021-03-31T03:01:39.215070Z"
    }
   },
   "outputs": [
    {
     "data": {
      "image/png": "[encoded data removed]",
      "text/plain": [
       "<Figure size 1152x576 with 1 Axes>"
      ]
     },
     "metadata": {},
     "output_type": "display_data"
    }
   ],
   "source": [
    "_ = plot_predicted_data(train_df, predicted_df, date_col, response_col, title='Prediction with ETS')"
   ]
  }
 ],
 "metadata": {
  "kernelspec": {
   "display_name": "py37_orbit",
   "language": "python",
   "name": "py37_orbit"
  },
  "language_info": {
   "codemirror_mode": {
    "name": "ipython",
    "version": 3
   },
   "file_extension": ".py",
   "mimetype": "text/x-python",
   "name": "python",
   "nbconvert_exporter": "python",
   "pygments_lexer": "ipython3",
   "version": "3.7.8"
  },
  "toc": {
   "base_numbering": 1,
   "nav_menu": {},
   "number_sections": true,
   "sideBar": true,
   "skip_h1_title": true,
   "title_cell": "Table of Contents",
   "title_sidebar": "Contents",
   "toc_cell": false,
   "toc_position": {},
   "toc_section_display": true,
   "toc_window_display": true
  }
 },
 "nbformat": 4,
 "nbformat_minor": 4
}
