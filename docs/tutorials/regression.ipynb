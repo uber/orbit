{
 "cells": [
  {
   "cell_type": "markdown",
   "metadata": {},
   "source": [
    "# Regression with Orbit"
   ]
  },
  {
   "cell_type": "markdown",
   "metadata": {},
   "source": [
    "In this demo, we want to demonstartate how to use the different arguments in the model classes (LGT or DLT) to realize different setups for the regressors. Those could be very useful in practice when tuning the models."
   ]
  },
  {
   "cell_type": "code",
   "execution_count": 2,
   "metadata": {
    "ExecuteTime": {
     "end_time": "2020-10-14T01:14:04.545515Z",
     "start_time": "2020-10-14T01:14:02.841939Z"
    }
   },
   "outputs": [],
   "source": [
    "import pandas as pd\n",
    "import numpy as np\n",
    "from orbit.models.lgt import LGTMAP, LGTAggregated, LGTFull\n",
    "from orbit.models.dlt import DLTMAP, DLTAggregated, DLTFull\n",
    "from orbit.diagnostics.plot import plot_predicted_data\n",
    "from orbit.diagnostics.plot import plot_predicted_components\n",
    "from orbit.utils.dataset import load_iclaims"
   ]
  },
  {
   "cell_type": "markdown",
   "metadata": {},
   "source": [
    "## load data"
   ]
  },
  {
   "cell_type": "code",
   "execution_count": 3,
   "metadata": {
    "ExecuteTime": {
     "end_time": "2020-10-14T01:14:07.618267Z",
     "start_time": "2020-10-14T01:14:07.607818Z"
    }
   },
   "outputs": [],
   "source": [
    "df = load_iclaims()\n",
    "df[['claims', 'trend.unemploy', 'trend.filling', 'trend.job']] = \\\n",
    "    np.log(df[['claims', 'trend.unemploy', 'trend.filling', 'trend.job']])"
   ]
  },
  {
   "cell_type": "markdown",
   "metadata": {},
   "source": [
    "## Use regressors and specify their signs"
   ]
  },
  {
   "cell_type": "markdown",
   "metadata": {},
   "source": [
    "The regressor columns can be supplied via argument `regressor_col`. Their signs can be specified via `regressor_sign`, with values either '=' (regular, no restriction) or '+' (positive). These two lists should be of the same lenght. The default values of `regressor_sign` is all '='."
   ]
  },
  {
   "cell_type": "code",
   "execution_count": 4,
   "metadata": {
    "ExecuteTime": {
     "end_time": "2020-10-14T01:14:09.287197Z",
     "start_time": "2020-10-14T01:14:09.284595Z"
    }
   },
   "outputs": [],
   "source": [
    "DATE_COL=\"week\"\n",
    "RESPONSE_COL=\"claims\"\n",
    "REGRESSOR_COL=['trend.unemploy', 'trend.filling', 'trend.job']"
   ]
  },
  {
   "cell_type": "code",
   "execution_count": 5,
   "metadata": {
    "ExecuteTime": {
     "end_time": "2020-10-14T01:14:18.617036Z",
     "start_time": "2020-10-14T01:14:09.531902Z"
    }
   },
   "outputs": [
    {
     "name": "stderr",
     "output_type": "stream",
     "text": [
      "WARNING:pystan:Maximum (flat) parameter count (1000) exceeded: skipping diagnostic tests for n_eff and Rhat.\n",
      "To run all diagnostics call pystan.check_hmc_diagnostics(fit)\n",
      "WARNING:pystan:4 of 100 iterations ended with a divergence (4 %).\n",
      "WARNING:pystan:Try running with adapt_delta larger than 0.8 to remove the divergences.\n"
     ]
    }
   ],
   "source": [
    "lgt_mod=LGTAggregated(\n",
    "    response_col=RESPONSE_COL,\n",
    "    date_col=DATE_COL,\n",
    "    regressor_col=REGRESSOR_COL,\n",
    "    regressor_sign=[\"+\", '+', '='], \n",
    "    seasonality=52,\n",
    "    seed=1,\n",
    ")\n",
    "lgt_mod.fit(df=df)"
   ]
  },
  {
   "cell_type": "markdown",
   "metadata": {},
   "source": [
    "The estimated regressor coefficients can be retrieved via `.aggregated_posteriors`."
   ]
  },
  {
   "cell_type": "code",
   "execution_count": 6,
   "metadata": {
    "ExecuteTime": {
     "end_time": "2020-10-14T01:14:18.639611Z",
     "start_time": "2020-10-14T01:14:18.620086Z"
    }
   },
   "outputs": [
    {
     "data": {
      "text/html": [
       "<div>\n",
       "<style scoped>\n",
       "    .dataframe tbody tr th:only-of-type {\n",
       "        vertical-align: middle;\n",
       "    }\n",
       "\n",
       "    .dataframe tbody tr th {\n",
       "        vertical-align: top;\n",
       "    }\n",
       "\n",
       "    .dataframe thead th {\n",
       "        text-align: right;\n",
       "    }\n",
       "</style>\n",
       "<table border=\"1\" class=\"dataframe\">\n",
       "  <thead>\n",
       "    <tr style=\"text-align: right;\">\n",
       "      <th></th>\n",
       "      <th>regressor</th>\n",
       "      <th>regressor_sign</th>\n",
       "      <th>coefficient</th>\n",
       "    </tr>\n",
       "  </thead>\n",
       "  <tbody>\n",
       "    <tr>\n",
       "      <th>0</th>\n",
       "      <td>trend.unemploy</td>\n",
       "      <td>Positive</td>\n",
       "      <td>0.053995</td>\n",
       "    </tr>\n",
       "    <tr>\n",
       "      <th>1</th>\n",
       "      <td>trend.filling</td>\n",
       "      <td>Positive</td>\n",
       "      <td>0.076244</td>\n",
       "    </tr>\n",
       "    <tr>\n",
       "      <th>2</th>\n",
       "      <td>trend.job</td>\n",
       "      <td>Regular</td>\n",
       "      <td>-0.070255</td>\n",
       "    </tr>\n",
       "  </tbody>\n",
       "</table>\n",
       "</div>"
      ],
      "text/plain": [
       "        regressor regressor_sign  coefficient\n",
       "0  trend.unemploy       Positive     0.053995\n",
       "1   trend.filling       Positive     0.076244\n",
       "2       trend.job        Regular    -0.070255"
      ]
     },
     "execution_count": 6,
     "metadata": {},
     "output_type": "execute_result"
    }
   ],
   "source": [
    "lgt_mod.get_regression_coefs()"
   ]
  },
  {
   "cell_type": "markdown",
   "metadata": {},
   "source": [
    "## Regression Types"
   ]
  },
  {
   "cell_type": "markdown",
   "metadata": {},
   "source": [
    "In orbit, we have different prior types for the regressiont coefficients:\n",
    "\n",
    "* Fixed Ridge\n",
    "* Lasso\n",
    "* Auto Ridge\n",
    "\n",
    "In **Fixed Ridge**, it is assumed that $$\\beta \\sim Gaussian(\\beta_{prior}, \\sigma_{prior})$$\n",
    "\n",
    "In **Lasso**, it is assumed that $$\\beta \\sim Laplace(\\beta_{prior}, \\sigma_{prior})$$\n",
    "\n",
    "In **Auto Ridge**, it is assumed that $$\\beta \\sim Gaussian(\\beta_{prior}, \\sigma_{\\beta})$$, $$\\sigma_\\beta \\sim \\text{Half-Cauchy}(0, \\text{ridge_scale})$$"
   ]
  },
  {
   "cell_type": "markdown",
   "metadata": {},
   "source": [
    "### Fixed Ridge"
   ]
  },
  {
   "cell_type": "code",
   "execution_count": 7,
   "metadata": {
    "ExecuteTime": {
     "end_time": "2020-10-14T01:15:53.610037Z",
     "start_time": "2020-10-14T01:15:43.510398Z"
    }
   },
   "outputs": [
    {
     "name": "stderr",
     "output_type": "stream",
     "text": [
      "WARNING:pystan:Maximum (flat) parameter count (1000) exceeded: skipping diagnostic tests for n_eff and Rhat.\n",
      "To run all diagnostics call pystan.check_hmc_diagnostics(fit)\n",
      "WARNING:pystan:4 of 100 iterations ended with a divergence (4 %).\n",
      "WARNING:pystan:Try running with adapt_delta larger than 0.8 to remove the divergences.\n"
     ]
    }
   ],
   "source": [
    "lgt_mod = LGTAggregated(\n",
    "    response_col=RESPONSE_COL,\n",
    "    date_col=DATE_COL,\n",
    "    regressor_col=REGRESSOR_COL,\n",
    "    regressor_sign=[\"+\", '+', '='],\n",
    "    seasonality=52,\n",
    "    seed=1,\n",
    "    regression_penalty=\"fixed_ridge\",\n",
    ")\n",
    "lgt_mod.fit(df=df)"
   ]
  },
  {
   "cell_type": "code",
   "execution_count": 8,
   "metadata": {
    "ExecuteTime": {
     "end_time": "2020-10-14T01:15:53.626806Z",
     "start_time": "2020-10-14T01:15:53.612928Z"
    }
   },
   "outputs": [
    {
     "data": {
      "text/html": [
       "<div>\n",
       "<style scoped>\n",
       "    .dataframe tbody tr th:only-of-type {\n",
       "        vertical-align: middle;\n",
       "    }\n",
       "\n",
       "    .dataframe tbody tr th {\n",
       "        vertical-align: top;\n",
       "    }\n",
       "\n",
       "    .dataframe thead th {\n",
       "        text-align: right;\n",
       "    }\n",
       "</style>\n",
       "<table border=\"1\" class=\"dataframe\">\n",
       "  <thead>\n",
       "    <tr style=\"text-align: right;\">\n",
       "      <th></th>\n",
       "      <th>regressor</th>\n",
       "      <th>regressor_sign</th>\n",
       "      <th>coefficient</th>\n",
       "    </tr>\n",
       "  </thead>\n",
       "  <tbody>\n",
       "    <tr>\n",
       "      <th>0</th>\n",
       "      <td>trend.unemploy</td>\n",
       "      <td>Positive</td>\n",
       "      <td>0.053995</td>\n",
       "    </tr>\n",
       "    <tr>\n",
       "      <th>1</th>\n",
       "      <td>trend.filling</td>\n",
       "      <td>Positive</td>\n",
       "      <td>0.076244</td>\n",
       "    </tr>\n",
       "    <tr>\n",
       "      <th>2</th>\n",
       "      <td>trend.job</td>\n",
       "      <td>Regular</td>\n",
       "      <td>-0.070255</td>\n",
       "    </tr>\n",
       "  </tbody>\n",
       "</table>\n",
       "</div>"
      ],
      "text/plain": [
       "        regressor regressor_sign  coefficient\n",
       "0  trend.unemploy       Positive     0.053995\n",
       "1   trend.filling       Positive     0.076244\n",
       "2       trend.job        Regular    -0.070255"
      ]
     },
     "execution_count": 8,
     "metadata": {},
     "output_type": "execute_result"
    }
   ],
   "source": [
    "lgt_mod.get_regression_coefs()"
   ]
  },
  {
   "cell_type": "markdown",
   "metadata": {},
   "source": [
    "### Lasso"
   ]
  },
  {
   "cell_type": "code",
   "execution_count": 9,
   "metadata": {
    "ExecuteTime": {
     "end_time": "2020-10-14T01:15:53.610037Z",
     "start_time": "2020-10-14T01:15:43.510398Z"
    }
   },
   "outputs": [
    {
     "name": "stderr",
     "output_type": "stream",
     "text": [
      "WARNING:pystan:Maximum (flat) parameter count (1000) exceeded: skipping diagnostic tests for n_eff and Rhat.\n",
      "To run all diagnostics call pystan.check_hmc_diagnostics(fit)\n",
      "WARNING:pystan:3 of 100 iterations ended with a divergence (3 %).\n",
      "WARNING:pystan:Try running with adapt_delta larger than 0.8 to remove the divergences.\n"
     ]
    }
   ],
   "source": [
    "lgt_mod = LGTAggregated(\n",
    "    response_col=RESPONSE_COL,\n",
    "    date_col=DATE_COL,\n",
    "    regressor_col=REGRESSOR_COL,\n",
    "    regressor_sign=[\"+\", '+', '='],\n",
    "    seasonality=52,\n",
    "    seed=1,\n",
    "    regression_penalty=\"lasso\",\n",
    ")\n",
    "lgt_mod.fit(df=df)"
   ]
  },
  {
   "cell_type": "code",
   "execution_count": 10,
   "metadata": {
    "ExecuteTime": {
     "end_time": "2020-10-14T01:15:53.626806Z",
     "start_time": "2020-10-14T01:15:53.612928Z"
    }
   },
   "outputs": [
    {
     "data": {
      "text/html": [
       "<div>\n",
       "<style scoped>\n",
       "    .dataframe tbody tr th:only-of-type {\n",
       "        vertical-align: middle;\n",
       "    }\n",
       "\n",
       "    .dataframe tbody tr th {\n",
       "        vertical-align: top;\n",
       "    }\n",
       "\n",
       "    .dataframe thead th {\n",
       "        text-align: right;\n",
       "    }\n",
       "</style>\n",
       "<table border=\"1\" class=\"dataframe\">\n",
       "  <thead>\n",
       "    <tr style=\"text-align: right;\">\n",
       "      <th></th>\n",
       "      <th>regressor</th>\n",
       "      <th>regressor_sign</th>\n",
       "      <th>coefficient</th>\n",
       "    </tr>\n",
       "  </thead>\n",
       "  <tbody>\n",
       "    <tr>\n",
       "      <th>0</th>\n",
       "      <td>trend.unemploy</td>\n",
       "      <td>Positive</td>\n",
       "      <td>0.049352</td>\n",
       "    </tr>\n",
       "    <tr>\n",
       "      <th>1</th>\n",
       "      <td>trend.filling</td>\n",
       "      <td>Positive</td>\n",
       "      <td>0.068068</td>\n",
       "    </tr>\n",
       "    <tr>\n",
       "      <th>2</th>\n",
       "      <td>trend.job</td>\n",
       "      <td>Regular</td>\n",
       "      <td>-0.058273</td>\n",
       "    </tr>\n",
       "  </tbody>\n",
       "</table>\n",
       "</div>"
      ],
      "text/plain": [
       "        regressor regressor_sign  coefficient\n",
       "0  trend.unemploy       Positive     0.049352\n",
       "1   trend.filling       Positive     0.068068\n",
       "2       trend.job        Regular    -0.058273"
      ]
     },
     "execution_count": 10,
     "metadata": {},
     "output_type": "execute_result"
    }
   ],
   "source": [
    "lgt_mod.get_regression_coefs()"
   ]
  },
  {
   "cell_type": "markdown",
   "metadata": {},
   "source": [
    "### Auto Ridge"
   ]
  },
  {
   "cell_type": "code",
   "execution_count": 11,
   "metadata": {
    "ExecuteTime": {
     "end_time": "2020-10-14T01:16:04.156402Z",
     "start_time": "2020-10-14T01:15:53.630079Z"
    }
   },
   "outputs": [
    {
     "name": "stderr",
     "output_type": "stream",
     "text": [
      "WARNING:pystan:Maximum (flat) parameter count (1000) exceeded: skipping diagnostic tests for n_eff and Rhat.\n",
      "To run all diagnostics call pystan.check_hmc_diagnostics(fit)\n",
      "WARNING:pystan:3 of 100 iterations ended with a divergence (3 %).\n",
      "WARNING:pystan:Try running with adapt_delta larger than 0.8 to remove the divergences.\n"
     ]
    }
   ],
   "source": [
    "lgt_mod = LGTAggregated(\n",
    "    response_col=RESPONSE_COL,\n",
    "    date_col=DATE_COL,\n",
    "    regressor_col=REGRESSOR_COL,\n",
    "    regressor_sign=[\"+\", '+', '='],\n",
    "    seasonality=52,\n",
    "    seed=1,\n",
    "    regression_penalty=\"auto_ridge\",\n",
    "    auto_ridge_scale=0.5,\n",
    ")\n",
    "lgt_mod.fit(df=df)"
   ]
  },
  {
   "cell_type": "code",
   "execution_count": 12,
   "metadata": {
    "ExecuteTime": {
     "end_time": "2020-10-14T01:16:04.173696Z",
     "start_time": "2020-10-14T01:16:04.159583Z"
    }
   },
   "outputs": [
    {
     "data": {
      "text/html": [
       "<div>\n",
       "<style scoped>\n",
       "    .dataframe tbody tr th:only-of-type {\n",
       "        vertical-align: middle;\n",
       "    }\n",
       "\n",
       "    .dataframe tbody tr th {\n",
       "        vertical-align: top;\n",
       "    }\n",
       "\n",
       "    .dataframe thead th {\n",
       "        text-align: right;\n",
       "    }\n",
       "</style>\n",
       "<table border=\"1\" class=\"dataframe\">\n",
       "  <thead>\n",
       "    <tr style=\"text-align: right;\">\n",
       "      <th></th>\n",
       "      <th>regressor</th>\n",
       "      <th>regressor_sign</th>\n",
       "      <th>coefficient</th>\n",
       "    </tr>\n",
       "  </thead>\n",
       "  <tbody>\n",
       "    <tr>\n",
       "      <th>0</th>\n",
       "      <td>trend.unemploy</td>\n",
       "      <td>Positive</td>\n",
       "      <td>0.044648</td>\n",
       "    </tr>\n",
       "    <tr>\n",
       "      <th>1</th>\n",
       "      <td>trend.filling</td>\n",
       "      <td>Positive</td>\n",
       "      <td>0.052548</td>\n",
       "    </tr>\n",
       "    <tr>\n",
       "      <th>2</th>\n",
       "      <td>trend.job</td>\n",
       "      <td>Regular</td>\n",
       "      <td>-0.050318</td>\n",
       "    </tr>\n",
       "  </tbody>\n",
       "</table>\n",
       "</div>"
      ],
      "text/plain": [
       "        regressor regressor_sign  coefficient\n",
       "0  trend.unemploy       Positive     0.044648\n",
       "1   trend.filling       Positive     0.052548\n",
       "2       trend.job        Regular    -0.050318"
      ]
     },
     "execution_count": 12,
     "metadata": {},
     "output_type": "execute_result"
    }
   ],
   "source": [
    "lgt_mod.get_regression_coefs()"
   ]
  },
  {
   "cell_type": "markdown",
   "metadata": {},
   "source": [
    "## Adjust pirors for regressor beta and regressor standard deviation"
   ]
  },
  {
   "cell_type": "markdown",
   "metadata": {},
   "source": [
    "In the model, it is assumed $$\\beta \\sim Gaussian(\\beta_{prior}, \\sigma_{prior})$$\n",
    "\n",
    "The default values for $\\beta_{prior}$ and $\\sigma_{prior}$ are 0 and 1, respectively.\n",
    "\n",
    "Users could adjust them via arguments `regressor_beta_prior` and `regressor_sigma_prior`. These two lists should be of the same lenght as `regressor_col`."
   ]
  },
  {
   "cell_type": "code",
   "execution_count": 13,
   "metadata": {
    "ExecuteTime": {
     "end_time": "2020-10-14T01:16:04.180212Z",
     "start_time": "2020-10-14T01:16:04.175842Z"
    }
   },
   "outputs": [],
   "source": [
    "lgt_mod = LGTAggregated(\n",
    "    response_col=RESPONSE_COL,\n",
    "    date_col=DATE_COL,\n",
    "    regressor_col=REGRESSOR_COL,\n",
    "    regressor_sign=[\"+\", '+', '='], \n",
    "    regressor_beta_prior=[0.05, 0.05, 0],\n",
    "    regressor_sigma_prior=[0.1, 0.1, 0.1],\n",
    "    seasonality=52,\n",
    "    seed=1,\n",
    ")"
   ]
  },
  {
   "cell_type": "code",
   "execution_count": 14,
   "metadata": {
    "ExecuteTime": {
     "end_time": "2020-10-14T01:16:04.186833Z",
     "start_time": "2020-10-14T01:16:04.183043Z"
    }
   },
   "outputs": [
    {
     "data": {
      "text/plain": [
       "'fixed_ridge'"
      ]
     },
     "execution_count": 14,
     "metadata": {},
     "output_type": "execute_result"
    }
   ],
   "source": [
    "lgt_mod.regression_penalty"
   ]
  },
  {
   "cell_type": "code",
   "execution_count": 15,
   "metadata": {
    "ExecuteTime": {
     "end_time": "2020-10-14T01:16:11.953452Z",
     "start_time": "2020-10-14T01:16:04.189340Z"
    }
   },
   "outputs": [
    {
     "name": "stderr",
     "output_type": "stream",
     "text": [
      "WARNING:pystan:Maximum (flat) parameter count (1000) exceeded: skipping diagnostic tests for n_eff and Rhat.\n",
      "To run all diagnostics call pystan.check_hmc_diagnostics(fit)\n"
     ]
    }
   ],
   "source": [
    "lgt_mod.fit(df=df)"
   ]
  },
  {
   "cell_type": "markdown",
   "metadata": {},
   "source": [
    "One can notice the significant changes in the estimted coefficients by using different priors."
   ]
  }
 ],
 "metadata": {
  "kernelspec": {
   "display_name": "Python 3",
   "language": "python",
   "name": "python3"
  },
  "language_info": {
   "codemirror_mode": {
    "name": "ipython",
    "version": 3
   },
   "file_extension": ".py",
   "mimetype": "text/x-python",
   "name": "python",
   "nbconvert_exporter": "python",
   "pygments_lexer": "ipython3",
   "version": "3.7.7"
  },
  "toc": {
   "base_numbering": 1,
   "nav_menu": {},
   "number_sections": true,
   "sideBar": true,
   "skip_h1_title": true,
   "title_cell": "Table of Contents",
   "title_sidebar": "Contents",
   "toc_cell": false,
   "toc_position": {},
   "toc_section_display": true,
   "toc_window_display": true
  }
 },
 "nbformat": 4,
 "nbformat_minor": 4
}
