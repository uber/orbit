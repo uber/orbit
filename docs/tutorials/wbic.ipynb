{
 "cells": [
  {
   "cell_type": "markdown",
   "metadata": {},
   "source": [
    "# WBIC/BIC"
   ]
  },
  {
   "cell_type": "markdown",
   "metadata": {},
   "source": [

    "This notebook gives a tutorial on how to use Watanabe-Bayesian information criterion (WBIC) and Bayesian information criterion (BIC) for feature selection (Watanabe[2010], McElreath[2015], and Vehtari[2016]). The WBIC or BIC is an information criterion. Similar to other criteria (AIC, DIC), the WBIC/BIC endeavors to find the most parsimonious model, i.e., the model that balances fit with complexity. In other words a model (or set of features) that optimizes WBIC/BIC should neither over nor under fit the available data. \n",
    "\n",
    "In this tutorial a data set is simulated using the damped linear trend (DLT) model. This data set is then used to fit DLT models with varying number of features as well as a global local trend model (GLT), and a Error-Trend-Seasonal (ETS) model. The WBIC/BIC criteria is then show to find the true model. \n",
    "\n",
    "Note that we recommend the use of WBIC for full Bayesian and SVI estimators and BIC for MAP estimator."

   ]
  },
  {
   "cell_type": "code",
   "execution_count": 47,
   "metadata": {
    "ExecuteTime": {
     "end_time": "2022-02-25T18:28:40.575341Z",
     "start_time": "2022-02-25T18:28:38.783088Z"
    }
   },
   "outputs": [],
   "source": [
    "from datetime import timedelta\n",
    "\n",
    "import pandas as pd\n",
    "import numpy as np\n",
    "\n",
    "import matplotlib.pyplot as plt\n",
    "%matplotlib inline\n",
    "\n",
    "import orbit\n",
    "from orbit.models import DLT,ETS, KTRLite, LGT\n",
    "from orbit.utils.simulation import make_trend, make_regression"
   ]
  },
  {
   "cell_type": "code",
   "execution_count": 2,
   "metadata": {},
   "outputs": [],
   "source": [
    "%load_ext autoreload\n",
    "%autoreload 2"
   ]
  },
  {
   "cell_type": "code",
   "execution_count": 3,
   "metadata": {
    "ExecuteTime": {
     "end_time": "2022-02-25T18:28:40.579918Z",
     "start_time": "2022-02-25T18:28:40.577188Z"
    }
   },
   "outputs": [
    {
     "name": "stdout",
     "output_type": "stream",
     "text": [
      "1.1.1dev\n"
     ]
    }
   ],
   "source": [
    "print(orbit.__version__)"
   ]
  },
  {
   "cell_type": "markdown",
   "metadata": {
    "toc-hr-collapsed": false
   },
   "source": [
    "## Data Simulation"
   ]
  },
  {
   "cell_type": "markdown",
   "metadata": {},
   "source": [
    "This block of code creats random data set (365 observations with 10 features) assuming a DLT model. Of the 10 features 5 are effective regressors; i.e., they are used in the true model to create the data.\n",
    "\n",
    "As an exerise left to the user once you have run the code once try changing the NUM_OF_EFFECTIVE_REGRESSORS (line 2), the SERIES_LEN (line 3), and the SEED (line 4) to see how it effects the results. "
   ]
  },
  {
   "cell_type": "code",
   "execution_count": 4,
   "metadata": {
    "ExecuteTime": {
     "end_time": "2022-02-25T18:28:40.593250Z",
     "start_time": "2022-02-25T18:28:40.582305Z"
    }
   },
   "outputs": [],
   "source": [
    "NUM_OF_REGRESSORS = 10\n",
    "NUM_OF_EFFECTIVE_REGRESSORS = 5\n",
    "SERIES_LEN = 365\n",
    "SEED = 1\n",
    "# sample some coefficients\n",
    "COEFS = np.random.default_rng(SEED).uniform(-1, 1, NUM_OF_EFFECTIVE_REGRESSORS)\n",
    "trend = make_trend(SERIES_LEN, rw_loc=0.01, rw_scale=0.1)\n",
    "x, regression, coefs = make_regression(series_len=SERIES_LEN, coefs=COEFS)\n",
    "\n",
    "# combine trend and the regression\n",
    "y = trend + regression\n",
    "y = y - y.min()\n",
    "\n",
    "\n",
    "x_extra = np.random.normal(0, 1, (SERIES_LEN, NUM_OF_REGRESSORS - NUM_OF_EFFECTIVE_REGRESSORS))\n",
    "x = np.concatenate([x, x_extra], axis=-1)\n",
    "\n",
    "x_cols = [f\"x{x}\" for x in range(1, NUM_OF_REGRESSORS + 1)]\n",
    "response_col = \"y\"\n",
    "dt_col = \"date\"\n",
    "obs_matrix = np.concatenate([y.reshape(-1, 1), x], axis=1)\n",
    "# make a data frame for orbit inputs\n",
    "df = pd.DataFrame(obs_matrix, columns=[response_col] + x_cols)\n",
    "# make some dummy date stamp\n",
    "dt = pd.date_range(start='2016-01-04', periods=SERIES_LEN, freq=\"1W\")\n",
    "df['date'] = dt"
   ]
  },
  {
   "cell_type": "code",
   "execution_count": 5,
   "metadata": {
    "ExecuteTime": {
     "end_time": "2022-02-25T18:28:40.805452Z",
     "start_time": "2022-02-25T18:28:40.794241Z"
    }
   },
   "outputs": [
    {
     "name": "stdout",
     "output_type": "stream",
     "text": [
      "(365, 12)\n",
      "          y        x1        x2        x3        x4        x5        x6  \\\n",

      "0  3.192673  0.172792  0.000000  0.165219 -0.000000  0.452678  0.195131   \n",
      "1  3.951436  0.223187 -0.000000  0.290559  0.182286  0.147066  0.299294   \n",
      "2  4.122889  0.014211  0.273356 -0.368227 -0.081455 -0.241060 -1.980099   \n",
      "3  1.669311  0.299423  0.019861 -0.146228 -0.390954 -0.128596 -0.094133   \n",
      "4  3.567194  0.004071 -0.137801  0.647032  0.000000 -0.000000 -0.446126   \n",
      "\n",
      "         x7        x8        x9       x10       date  \n",
      "0 -1.026592  0.171864 -0.085979 -0.487665 2016-01-10  \n",
      "1  1.712307 -1.136756 -1.448400 -0.750610 2016-01-17  \n",
      "2 -0.008690 -0.012774  0.860366 -0.879266 2016-01-24  \n",
      "3 -0.977867 -1.760031 -0.010029 -0.717846 2016-01-31  \n",
      "4  0.427636  1.737823  1.243868  1.178041 2016-02-07  \n"

     ]
    }
   ],
   "source": [
    "print(df.shape)\n",
    "print(df.head())"
   ]
  },
  {
   "cell_type": "markdown",
   "metadata": {},
   "source": [
    "## WBIC"
   ]
  },
  {
   "cell_type": "markdown",
   "metadata": {},
   "source": [
    "In this section, we use DLT model as an example. Different DLT models (the number of features used changes) are fitted and their WBIC values are calculated respectively."
   ]
  },
  {
   "cell_type": "code",
   "execution_count": 27,
   "metadata": {
    "ExecuteTime": {
     "end_time": "2022-02-25T18:25:54.393522Z",
     "start_time": "2022-02-25T18:22:30.039532Z"
    }
   },
   "outputs": [
    {
     "name": "stderr",
     "output_type": "stream",
     "text": [
      "INFO:orbit:Sampling(PyStan) with chains:4, cores:8, temperature:5.8998973535824915, warmups(per chain):1000 and samples(per chain):1000.\n",
      "WARNING:pystan:Maximum (flat) parameter count (1000) exceeded: skipping diagnostic tests for n_eff and Rhat.\n",
      "To run all diagnostics call pystan.check_hmc_diagnostics(fit)\n",
      "INFO:orbit:Sampling(PyStan) with chains:4, cores:8, temperature:5.8998973535824915, warmups(per chain):1000 and samples(per chain):1000.\n"

     ]
    },
    {
     "name": "stdout",
     "output_type": "stream",
     "text": [

      "WBIC value with 0 regressors: 1198.180\n",

      "------------------------------------------------------------------\n"
     ]
    },
    {
     "name": "stderr",
     "output_type": "stream",
     "text": [
      "WARNING:pystan:Maximum (flat) parameter count (1000) exceeded: skipping diagnostic tests for n_eff and Rhat.\n",
      "To run all diagnostics call pystan.check_hmc_diagnostics(fit)\n",
      "INFO:orbit:Sampling(PyStan) with chains:4, cores:8, temperature:5.8998973535824915, warmups(per chain):1000 and samples(per chain):1000.\n"

     ]
    },
    {
     "name": "stdout",
     "output_type": "stream",
     "text": [
      "WBIC value with 1 regressors: 1126.250\n",

      "------------------------------------------------------------------\n"
     ]
    },
    {
     "name": "stderr",
     "output_type": "stream",
     "text": [
      "WARNING:pystan:Maximum (flat) parameter count (1000) exceeded: skipping diagnostic tests for n_eff and Rhat.\n",
      "To run all diagnostics call pystan.check_hmc_diagnostics(fit)\n",

      "INFO:orbit:Sampling(PyStan) with chains:4, cores:8, temperature:5.8998973535824915, warmups(per chain):1000 and samples(per chain):1000.\n"

     ]
    },
    {
     "name": "stdout",
     "output_type": "stream",
     "text": [
      "WBIC value with 2 regressors: 1117.232\n",

      "------------------------------------------------------------------\n"
     ]
    },
    {
     "name": "stderr",
     "output_type": "stream",
     "text": [
      "WARNING:pystan:Maximum (flat) parameter count (1000) exceeded: skipping diagnostic tests for n_eff and Rhat.\n",
      "To run all diagnostics call pystan.check_hmc_diagnostics(fit)\n",
      "INFO:orbit:Sampling(PyStan) with chains:4, cores:8, temperature:5.8998973535824915, warmups(per chain):1000 and samples(per chain):1000.\n"

     ]
    },
    {
     "name": "stdout",
     "output_type": "stream",
     "text": [
      "WBIC value with 3 regressors: 1052.248\n",

      "------------------------------------------------------------------\n"
     ]
    },
    {
     "name": "stderr",
     "output_type": "stream",
     "text": [
      "WARNING:pystan:Maximum (flat) parameter count (1000) exceeded: skipping diagnostic tests for n_eff and Rhat.\n",
      "To run all diagnostics call pystan.check_hmc_diagnostics(fit)\n",
      "INFO:orbit:Sampling(PyStan) with chains:4, cores:8, temperature:5.8998973535824915, warmups(per chain):1000 and samples(per chain):1000.\n"

     ]
    },
    {
     "name": "stdout",
     "output_type": "stream",
     "text": [
      "WBIC value with 4 regressors: 1051.923\n",

      "------------------------------------------------------------------\n"
     ]
    },
    {
     "name": "stderr",
     "output_type": "stream",
     "text": [
      "WARNING:pystan:Maximum (flat) parameter count (1000) exceeded: skipping diagnostic tests for n_eff and Rhat.\n",
      "To run all diagnostics call pystan.check_hmc_diagnostics(fit)\n",
      "INFO:orbit:Sampling(PyStan) with chains:4, cores:8, temperature:5.8998973535824915, warmups(per chain):1000 and samples(per chain):1000.\n"

     ]
    },
    {
     "name": "stdout",
     "output_type": "stream",
     "text": [

      "WBIC value with 5 regressors: 1054.782\n",

      "------------------------------------------------------------------\n"
     ]
    },
    {
     "name": "stderr",
     "output_type": "stream",
     "text": [
      "WARNING:pystan:Maximum (flat) parameter count (1000) exceeded: skipping diagnostic tests for n_eff and Rhat.\n",
      "To run all diagnostics call pystan.check_hmc_diagnostics(fit)\n",

      "INFO:orbit:Sampling(PyStan) with chains:4, cores:8, temperature:5.8998973535824915, warmups(per chain):1000 and samples(per chain):1000.\n"

     ]
    },
    {
     "name": "stdout",
     "output_type": "stream",
     "text": [

      "WBIC value with 6 regressors: 1059.407\n",

      "------------------------------------------------------------------\n"
     ]
    },
    {
     "name": "stderr",
     "output_type": "stream",
     "text": [
      "WARNING:pystan:Maximum (flat) parameter count (1000) exceeded: skipping diagnostic tests for n_eff and Rhat.\n",
      "To run all diagnostics call pystan.check_hmc_diagnostics(fit)\n",

      "INFO:orbit:Sampling(PyStan) with chains:4, cores:8, temperature:5.8998973535824915, warmups(per chain):1000 and samples(per chain):1000.\n"

     ]
    },
    {
     "name": "stdout",
     "output_type": "stream",
     "text": [

      "WBIC value with 7 regressors: 1061.843\n",

      "------------------------------------------------------------------\n"
     ]
    },
    {
     "name": "stderr",
     "output_type": "stream",
     "text": [
      "WARNING:pystan:Maximum (flat) parameter count (1000) exceeded: skipping diagnostic tests for n_eff and Rhat.\n",
      "To run all diagnostics call pystan.check_hmc_diagnostics(fit)\n",
      "INFO:orbit:Sampling(PyStan) with chains:4, cores:8, temperature:5.8998973535824915, warmups(per chain):1000 and samples(per chain):1000.\n"

     ]
    },
    {
     "name": "stdout",
     "output_type": "stream",
     "text": [

      "WBIC value with 8 regressors: 1068.714\n",

      "------------------------------------------------------------------\n"
     ]
    },
    {
     "name": "stderr",
     "output_type": "stream",
     "text": [
      "WARNING:pystan:Maximum (flat) parameter count (1000) exceeded: skipping diagnostic tests for n_eff and Rhat.\n",
      "To run all diagnostics call pystan.check_hmc_diagnostics(fit)\n"
     ]
    },
    {
     "name": "stdout",
     "output_type": "stream",
     "text": [

      "WBIC value with 9 regressors: 1076.496\n",

      "------------------------------------------------------------------\n"
     ]
    }
   ],
   "source": [
    "WBIC_ls = []\n",
    "for k in range(0, NUM_OF_REGRESSORS):\n",
    "    regressor_col = x_cols[:k + 1]\n",
    "    dlt_mod = DLT(\n",
    "        response_col=response_col,\n",
    "        date_col=dt_col,\n",
    "        regressor_col=regressor_col,\n",
    "        seed=2022,\n",
    "        # fixing the smoothing parameters to learn regression coefficients more effectively\n",
    "        level_sm_input=0.01,\n",
    "        slope_sm_input=0.01,\n",
    "        num_warmup=4000,\n",
    "        num_sample=4000,\n",
    "        )\n",
    "    WBIC_temp = dlt_mod.fit_wbic(df=df) \n",
    "    print(\"WBIC value with {:d} regressors: {:.3f}\".format(k, WBIC_temp))\n",
    "    print('------------------------------------------------------------------')\n",
    "    WBIC_ls.append(WBIC_temp)"
   ]
  },
  {
   "cell_type": "markdown",
   "metadata": {},
   "source": [
    "It is also interesting to see if WBIC can distinguish between model types; not just do feature selection for a given type of model. To that end the next block fits an LGT and ETS model to the data; the WBIC values for both models are then calculated.  \n"
   ]
  },
  {
   "cell_type": "code",
<<<<<<< HEAD
   "execution_count": 7,
=======
   "execution_count": 28,
>>>>>>> 036afa8 (cleaning up the tutorial)
   "metadata": {
    "ExecuteTime": {
     "end_time": "2022-02-25T18:25:57.315487Z",
     "start_time": "2022-02-25T18:25:54.395651Z"
    }
   },
   "outputs": [
    {
     "name": "stderr",
     "output_type": "stream",
     "text": [

      "INFO:orbit:Sampling(PyStan) with chains:4, cores:8, temperature:5.8998973535824915, warmups(per chain):225 and samples(per chain):25.\n",
      "WARNING:pystan:Maximum (flat) parameter count (1000) exceeded: skipping diagnostic tests for n_eff and Rhat.\n",
      "To run all diagnostics call pystan.check_hmc_diagnostics(fit)\n",
      "INFO:orbit:Using SVI(Pyro) with steps:301 , samples:100 , learning rate:0.1, learning_rate_total_decay:1.0 and particles:100.\n",
      "INFO:root:Guessed max_plate_nesting = 2\n"

     ]
    },
    {
     "name": "stdout",
     "output_type": "stream",
     "text": [
<<<<<<< HEAD
      "WBIC value for LGT model: 1124.8479650599782\n"
=======
      "WBIC value for LGT model (stan MCMC): 1131.794\n"
>>>>>>> 036afa8 (cleaning up the tutorial)
     ]
    },
    {
     "name": "stderr",
     "output_type": "stream",
     "text": [
<<<<<<< HEAD
      "INFO:orbit:step    0 loss = 354.96, scale = 0.11521\n",
      "INFO:orbit:step  100 loss = 115.84, scale = 0.51356\n",
      "INFO:orbit:step  200 loss = 115.51, scale = 0.49885\n",
      "INFO:orbit:step  300 loss = 115.81, scale = 0.50713\n",
=======
      "INFO:orbit:step    0 loss = 344.93, scale = 0.11532\n",
      "INFO:orbit:step  100 loss = 116.25, scale = 0.51499\n",
      "INFO:orbit:step  200 loss = 116.07, scale = 0.50238\n",
      "INFO:orbit:step  300 loss = 116.23, scale = 0.51712\n",
>>>>>>> 036afa8 (cleaning up the tutorial)
      "INFO:orbit:Sampling(PyStan) with chains:4, cores:8, temperature:5.8998973535824915, warmups(per chain):225 and samples(per chain):25.\n"
     ]
    },
    {
     "name": "stdout",
     "output_type": "stream",
     "text": [
<<<<<<< HEAD
      "WBIC value for LGT model: 1121.6190645693512\n"
=======
      "WBIC value for LGT model (pyro SVI): 1125.229\n"
>>>>>>> 036afa8 (cleaning up the tutorial)
     ]
    },
    {
     "name": "stderr",
     "output_type": "stream",
     "text": [
      "WARNING:pystan:n_eff / iter below 0.001 indicates that the effective sample size has likely been overestimated\n",
      "WARNING:pystan:Rhat above 1.1 or below 0.9 indicates that the chains very likely have not mixed\n"
     ]
    },
    {
     "name": "stdout",
     "output_type": "stream",
     "text": [
      "WBIC value for ETS model: 1192.524\n"
     ]
    }
   ],
   "source": [
    "lgt = LGT(response_col=response_col,\n",
    "          date_col=dt_col,\n",
    "          regressor_col=regressor_col,\n",
    "          seasonality=52,\n",
    "          estimator='stan-mcmc',\n",
    "          seed=8888)\n",
<<<<<<< HEAD
    "WBIC_lgt = lgt.fit_wbic(df=df) \n",
    "print(f\"WBIC value for LGT model (stan MCMC): {WBIC_lgt}\")\n",
=======
    "WBIC_lgt_mcmc = lgt.fit_wbic(df=df) \n",
    "print(\"WBIC value for LGT model (stan MCMC): {:.3f}\".format( WBIC_lgt_mcmc))\n",
    "\n",
>>>>>>> 036afa8 (cleaning up the tutorial)
    "\n",
    "lgt = LGT(response_col=response_col,\n",
    "          date_col=dt_col,\n",
    "          regressor_col=regressor_col,\n",
    "          seasonality=52,\n",
    "          estimator='pyro-svi',\n",
    "          seed=8888)\n",
<<<<<<< HEAD
    "WBIC_lgt = lgt.fit_wbic(df=df) \n",
    "print(f\"WBIC value for LGT model (pyro SVI): {WBIC_lgt}\")\n",
    "\n",
=======
    "WBIC_lgt_pyro = lgt.fit_wbic(df=df) \n",
    "print(\"WBIC value for LGT model (pyro SVI): {:.3f}\".format( WBIC_lgt_pyro))\n",
>>>>>>> 036afa8 (cleaning up the tutorial)
    "\n",
    "\n",
    "ets = ETS(\n",
    "        response_col=response_col,\n",
    "        date_col=dt_col,\n",
    "        seed=2020,\n",
    "        # fixing the smoothing parameters to learn regression coefficients more effectively\n",
    "        level_sm_input=0.01,\n",
    "    )\n",
    "\n",
    "WBIC_ets = ets.fit_wbic(df=df) \n",
    "print(\"WBIC value for ETS model: {:.3f}\".format( WBIC_ets))\n",
    "\n",
    "\n",
    "WBIC_ls.append(WBIC_lgt)\n",
    "WBIC_ls.append(WBIC_ets)"
   ]
  },
  {
   "cell_type": "markdown",
   "metadata": {},
   "source": [
    "The plot below shows the WBIC vs the number of features / model type (blue line). The true model is indicated by the vertical red line. The horizontal gray line shows the minimum (optimal) value. The minimum is at the true value. "
   ]
  },
  {
   "cell_type": "code",
<<<<<<< HEAD
   "execution_count": 8,
=======
   "execution_count": 41,
>>>>>>> 036afa8 (cleaning up the tutorial)
   "metadata": {
    "ExecuteTime": {
     "end_time": "2022-02-25T18:25:57.504829Z",
     "start_time": "2022-02-25T18:25:57.320206Z"
    }
   },
   "outputs": [
    {
     "data": {
      "text/plain": [
       "Text(0.5, 0, '# number of Features / model type')"
      ]
     },
<<<<<<< HEAD
     "execution_count": 8,
=======
     "execution_count": 41,
>>>>>>> 036afa8 (cleaning up the tutorial)
     "metadata": {},
     "output_type": "execute_result"
    },
    {
     "data": {

      "image/png": "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\n",

      "text/plain": [
       "<Figure size 432x288 with 1 Axes>"
      ]
     },
     "metadata": {
      "needs_background": "light"
     },
     "output_type": "display_data"
    }
   ],
   "source": [
<<<<<<< HEAD
    "num_reg_ls = list(range(1, NUM_OF_REGRESSORS+1)) + ['LGT','ETS']\n",
    "plt.plot(num_reg_ls, WBIC_ls, )\n",
=======
    "num_reg_ls = list(range(1, NUM_OF_REGRESSORS+1)) + ['LGT_MCMC', 'LGT_SVI','ETS']\n",
    "plt.figure(figsize=(12, 6), dpi=80)\n",
    "plt.plot(num_reg_ls, WBIC_ls)\n",
>>>>>>> 036afa8 (cleaning up the tutorial)
    "plt.axhline(y=min(WBIC_ls), color='grey', linewidth = 1)\n",
    "plt.axvline(x=NUM_OF_EFFECTIVE_REGRESSORS-1, color='red', linewidth = 3) # because list type is mixed index from 1\n",
    "plt.ylabel(\"WBIC\")\n",
    "plt.xlabel(\"# number of Features / model type\")"
   ]
  },
  {
   "cell_type": "markdown",
   "metadata": {},
   "source": [
    "## BIC"
   ]
  },
  {
   "cell_type": "markdown",
   "metadata": {},
   "source": [
    "In this section, we use DLT model as an example. Different DLT models (the number of features used changes) are fitted and their BIC values are calculated respectively."
   ]
  },
  {

   "cell_type": "code",
<<<<<<< HEAD
   "execution_count": null,
=======
   "execution_count": 48,
>>>>>>> 036afa8 (cleaning up the tutorial)
   "metadata": {
    "ExecuteTime": {
     "end_time": "2022-02-25T18:30:56.077046Z",
     "start_time": "2022-02-25T18:30:55.471181Z"
    }
   },
<<<<<<< HEAD
   "outputs": [],
=======
   "outputs": [
    {
     "name": "stderr",
     "output_type": "stream",
     "text": [
      "INFO:orbit:Optimizing(PyStan) with algorithm:LBFGS .\n",
      "INFO:orbit:Optimizing(PyStan) with algorithm:LBFGS .\n",
      "INFO:orbit:Optimizing(PyStan) with algorithm:LBFGS .\n",
      "INFO:orbit:Optimizing(PyStan) with algorithm:LBFGS .\n",
      "INFO:orbit:Optimizing(PyStan) with algorithm:LBFGS .\n"
     ]
    },
    {
     "name": "stdout",
     "output_type": "stream",
     "text": [
      "BIC value with 1 regressors: 1245.142\n",
      "------------------------------------------------------------------\n",
      "BIC value with 2 regressors: 1173.953\n",
      "------------------------------------------------------------------\n",
      "BIC value with 3 regressors: 1161.461\n",
      "------------------------------------------------------------------\n",
      "BIC value with 4 regressors: 1079.781\n",
      "------------------------------------------------------------------\n"
     ]
    },
    {
     "name": "stderr",
     "output_type": "stream",
     "text": [
      "INFO:orbit:Optimizing(PyStan) with algorithm:LBFGS .\n",
      "INFO:orbit:Optimizing(PyStan) with algorithm:LBFGS .\n",
      "INFO:orbit:Optimizing(PyStan) with algorithm:LBFGS .\n",
      "INFO:orbit:Optimizing(PyStan) with algorithm:LBFGS .\n"
     ]
    },
    {
     "name": "stdout",
     "output_type": "stream",
     "text": [
      "BIC value with 5 regressors: 1075.256\n",
      "------------------------------------------------------------------\n",
      "BIC value with 6 regressors: 1075.248\n",
      "------------------------------------------------------------------\n",
      "BIC value with 7 regressors: 1075.201\n",
      "------------------------------------------------------------------\n",
      "BIC value with 8 regressors: 1133.210\n",
      "------------------------------------------------------------------\n"
     ]
    },
    {
     "name": "stderr",
     "output_type": "stream",
     "text": [
      "INFO:orbit:Optimizing(PyStan) with algorithm:LBFGS .\n"
     ]
    },
    {
     "name": "stdout",
     "output_type": "stream",
     "text": [
      "BIC value with 9 regressors: 1073.560\n",
      "------------------------------------------------------------------\n",
      "BIC value with 10 regressors: 1132.688\n",
      "------------------------------------------------------------------\n"
     ]
    }
   ],
>>>>>>> 036afa8 (cleaning up the tutorial)
   "source": [
    "BIC_ls = []\n",
    "for k in range(0, NUM_OF_REGRESSORS):\n",
    "    regressor_col = x_cols[:k + 1]\n",
    "    dlt_mod = DLT(\n",
    "        estimator='stan-map',\n",
    "        response_col=response_col,\n",
    "        date_col=dt_col,\n",
    "        regressor_col=regressor_col,\n",
    "        seed=2022,\n",
    "        # fixing the smoothing parameters to learn regression coefficients more effectively\n",
    "        level_sm_input=0.01,\n",
    "        slope_sm_input=0.01,\n",
    "        )\n",
    "    dlt_mod.fit(df=df)\n",
    "    BIC_temp = dlt_mod.get_bic_value() \n",
    "    print(\"BIC value with {:d} regressors: {:.3f}\".format(k + 1, BIC_temp))\n",
    "    print('------------------------------------------------------------------')\n",
    "    BIC_ls.append(BIC_temp)"
   ]
  },
  {
   "cell_type": "markdown",
   "metadata": {},
   "source": [
    "The plot below shows the BIC vs the number of features (blue line). The true model is indicated by the vertical red line. The horizontal gray line shows the minimum (optimal) value. The minimum is at the true value. "
   ]
  },
  {
   "cell_type": "code",
   "execution_count": 49,
   "metadata": {
    "ExecuteTime": {
     "end_time": "2022-02-25T18:31:44.159169Z",
     "start_time": "2022-02-25T18:31:43.968530Z"
    }
   },
   "outputs": [
    {
     "data": {
      "text/plain": [
       "Text(0.5, 0, '# number of Features')"
      ]
     },
     "execution_count": 49,
     "metadata": {},
     "output_type": "execute_result"
    },
    {
     "data": {
      "image/png": "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\n",
      "text/plain": [
       "<Figure size 432x288 with 1 Axes>"
      ]
     },
     "metadata": {
      "needs_background": "light"
     },
     "output_type": "display_data"
    }
   ],
   "source": [
    "num_reg_ls = list(range(1, NUM_OF_REGRESSORS + 1)) \n",
    "plt.plot(num_reg_ls, BIC_ls, )\n",
    "plt.axhline(y=min(BIC_ls), color='grey', linewidth = 1)\n",
    "plt.axvline(x=NUM_OF_EFFECTIVE_REGRESSORS, color='red', linewidth = 3) # because list type is mixed index from 1\n",
    "plt.ylabel(\"BIC\")\n",
    "plt.xlabel(\"# number of Features\")"
   ]
  },
  {
   "cell_type": "markdown",
   "metadata": {},
   "source": [
    "## References\n",
    "\n",
    "1. Watanabe Sumio (2010). \"Asymptotic Equivalence of Bayes Cross Validation and Widely Applicable Information Criterion in Singular Learning Theory\". Journal of Machine Learning Research. 11: 3571–3594.\n",
    "2. McElreath Richard (2015). \"Statistical Rethinking: A Bayesian course with examples in R and Stan\" Secound Ed. 193-221.\n",
    "3. Vehtari Aki, Gelman Andrew, Gabry Jonah (2016) \"Practical Bayesian model evaluation using leave-one-out cross-validation and WAIC\"\n"
   ]
  },
  {

   "cell_type": "code",
   "execution_count": 9,
   "metadata": {
    "ExecuteTime": {
     "end_time": "2022-02-25T18:30:56.077046Z",
     "start_time": "2022-02-25T18:30:55.471181Z"
    }
   },
   "outputs": [
    {
     "name": "stderr",
     "output_type": "stream",
     "text": [
      "INFO:orbit:Optimizing(PyStan) with algorithm:LBFGS .\n",
      "INFO:orbit:Optimizing(PyStan) with algorithm:LBFGS .\n",
      "INFO:orbit:Optimizing(PyStan) with algorithm:LBFGS .\n",
      "INFO:orbit:Optimizing(PyStan) with algorithm:LBFGS .\n",
      "INFO:orbit:Optimizing(PyStan) with algorithm:LBFGS .\n"
     ]
    },
    {
     "name": "stdout",
     "output_type": "stream",
     "text": [
      "BIC value with 1 regressors: 1245.144\n",
      "------------------------------------------------------------------\n",
      "BIC value with 2 regressors: 1173.953\n",
      "------------------------------------------------------------------\n",
      "BIC value with 3 regressors: 1161.461\n",
      "------------------------------------------------------------------\n",
      "BIC value with 4 regressors: 1079.793\n",
      "------------------------------------------------------------------\n"
     ]
    },
    {
     "name": "stderr",
     "output_type": "stream",
     "text": [
      "INFO:orbit:Optimizing(PyStan) with algorithm:LBFGS .\n",
      "INFO:orbit:Optimizing(PyStan) with algorithm:LBFGS .\n",
      "INFO:orbit:Optimizing(PyStan) with algorithm:LBFGS .\n"
     ]
    },
    {
     "name": "stdout",
     "output_type": "stream",
     "text": [
      "BIC value with 5 regressors: 1075.251\n",
      "------------------------------------------------------------------\n",
      "BIC value with 6 regressors: 1075.011\n",
      "------------------------------------------------------------------\n",
      "BIC value with 7 regressors: 1132.789\n",
      "------------------------------------------------------------------\n"
     ]
    },
    {
     "name": "stderr",
     "output_type": "stream",
     "text": [
      "INFO:orbit:Optimizing(PyStan) with algorithm:LBFGS .\n",
      "INFO:orbit:Optimizing(PyStan) with algorithm:LBFGS .\n"
     ]
    },
    {
     "name": "stdout",
     "output_type": "stream",
     "text": [
      "BIC value with 8 regressors: 1073.743\n",
      "------------------------------------------------------------------\n",
      "BIC value with 9 regressors: 1072.364\n",
      "------------------------------------------------------------------\n",
      "BIC value with 10 regressors: 1072.030\n",
      "------------------------------------------------------------------\n"
     ]
    }
   ],
   "source": [
    "BIC_ls = []\n",
    "for k in range(0, NUM_OF_REGRESSORS):\n",
    "    regressor_col = x_cols[:k + 1]\n",
    "    dlt_mod = DLT(\n",
    "        estimator='stan-map',\n",
    "        response_col=response_col,\n",
    "        date_col=dt_col,\n",
    "        regressor_col=regressor_col,\n",
    "        seed=2022,\n",
    "        # fixing the smoothing parameters to learn regression coefficients more effectively\n",
    "        level_sm_input=0.01,\n",
    "        slope_sm_input=0.01,\n",
    "        )\n",
    "    dlt_mod.fit(df=df)\n",
    "    BIC_temp = dlt_mod.get_bic_value() \n",
    "    print(\"BIC value with {:d} regressors: {:.3f}\".format(k + 1, BIC_temp))\n",
    "    print('------------------------------------------------------------------')\n",
    "    BIC_ls.append(BIC_temp)"
   ]
  },
  {
   "cell_type": "markdown",
   "metadata": {},
   "source": [
    "The plot below shows the BIC vs the number of features (blue line). The true model is indicated by the vertical red line. The horizontal gray line shows the minimum (optimal) value. The minimum is at the true value. "
   ]
  },
  {
   "cell_type": "code",
   "execution_count": 10,
   "metadata": {
    "ExecuteTime": {
     "end_time": "2022-02-25T18:31:44.159169Z",
     "start_time": "2022-02-25T18:31:43.968530Z"
    }
   },
   "outputs": [
    {
     "data": {
      "text/plain": [
       "Text(0.5, 0, '# number of Features')"
      ]
     },
     "execution_count": 10,
     "metadata": {},
     "output_type": "execute_result"
    },
    {
     "data": {
      "image/png": "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\n",
      "text/plain": [
       "<Figure size 432x288 with 1 Axes>"
      ]
     },
     "metadata": {
      "needs_background": "light"
     },
     "output_type": "display_data"
    }
   ],
   "source": [
    "num_reg_ls = list(range(1, NUM_OF_REGRESSORS + 1)) \n",
    "plt.plot(num_reg_ls, BIC_ls, )\n",
    "plt.axhline(y=min(BIC_ls), color='grey', linewidth = 1)\n",
    "plt.axvline(x=NUM_OF_EFFECTIVE_REGRESSORS, color='red', linewidth = 3) # because list type is mixed index from 1\n",
    "plt.ylabel(\"BIC\")\n",
    "plt.xlabel(\"# number of Features\")"
   ]
  }
 ],
 "metadata": {
  "kernelspec": {
   "display_name": "orbit37",
   "language": "python",
   "name": "orbit37"
  },
  "language_info": {
   "codemirror_mode": {
    "name": "ipython",
    "version": 3
   },
   "file_extension": ".py",
   "mimetype": "text/x-python",
   "name": "python",
   "nbconvert_exporter": "python",
   "pygments_lexer": "ipython3",
   "version": "3.7.9"
  },
  "toc": {
   "base_numbering": 1,
   "nav_menu": {},
   "number_sections": true,
   "sideBar": true,
   "skip_h1_title": true,
   "title_cell": "Table of Contents",
   "title_sidebar": "Contents",
   "toc_cell": false,
   "toc_position": {},
   "toc_section_display": true,
   "toc_window_display": true
  }
 },
 "nbformat": 4,
 "nbformat_minor": 4
}
