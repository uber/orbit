{
 "cells": [
  {
   "cell_type": "markdown",
   "metadata": {},
   "source": [
    "# WBIC/BIC"
   ]
  },
  {
   "cell_type": "markdown",
   "metadata": {},
   "source": [
    "This notebook gives a tutorial on how to use Watanabe-Bayesian information criterion (WBIC) and Bayesian information criterion (BIC) for feature selection (Watanabe[2010], McElreath[2015], and Vehtari[2016]). The WBIC or BIC is an information criterion. Similar to other criteria (AIC, DIC), the WBIC/BIC endeavors to find the most parsimonious model, i.e., the model that balances fit with complexity. In other words a model (or set of features) that optimizes WBIC/BIC should neither over nor under fit the available data. \n",
    "\n",
    "In this tutorial a data set is simulated using the damped linear trend (DLT) model. This data set is then used to fit DLT models with varying number of features as well as a global local trend model (GLT), and a Error-Trend-Seasonal (ETS) model. The WBIC/BIC criteria is then show to find the true model. \n",
    "\n",
    "Note that we recommend the use of WBIC for full Bayesian and SVI estimators and BIC for MAP estimator."
   ]
  },
  {
   "cell_type": "code",
   "execution_count": 1,
   "metadata": {
    "ExecuteTime": {
     "end_time": "2022-04-28T21:49:16.127581Z",
     "start_time": "2022-04-28T21:49:13.501781Z"
    }
   },
   "outputs": [],
   "source": [
    "from datetime import timedelta\n",
    "\n",
    "import pandas as pd\n",
    "import numpy as np\n",
    "\n",
    "import matplotlib.pyplot as plt\n",
    "%matplotlib inline\n",
    "\n",
    "import orbit\n",
    "from orbit.models import DLT,ETS, KTRLite, LGT\n",
    "from orbit.utils.simulation import make_trend, make_regression"
   ]
  },
  {
   "cell_type": "code",
   "execution_count": 2,
   "metadata": {
    "ExecuteTime": {
     "end_time": "2022-04-28T21:49:16.132504Z",
     "start_time": "2022-04-28T21:49:16.129880Z"
    }
   },
   "outputs": [
    {
     "name": "stdout",
     "output_type": "stream",
     "text": [
      "1.1.4dev\n"
     ]
    }
   ],
   "source": [
    "print(orbit.__version__)"
   ]
  },
  {
   "cell_type": "markdown",
   "metadata": {
    "toc-hr-collapsed": false
   },
   "source": [
    "## Data Simulation"
   ]
  },
  {
   "cell_type": "markdown",
   "metadata": {},
   "source": [
    "This block of code creates random data set (365 observations with 10 features) assuming a DLT model. Of the 10 features 5 are effective regressors; i.e., they are used in the true model to create the data.\n",
    "\n",
    "As an exercise left to the user once you have run the code once try changing the `NUM_OF_EFFECTIVE_REGRESSORS` (line 2), the `SERIES_LEN` (line 3), and the `SEED` (line 4) to see how it effects the results. "
   ]
  },
  {
   "cell_type": "code",
   "execution_count": 3,
   "metadata": {
    "ExecuteTime": {
     "end_time": "2022-03-25T01:01:15.716689Z",
     "start_time": "2022-03-25T01:01:15.701163Z"
    }
   },
   "outputs": [],
   "source": [
    "NUM_OF_REGRESSORS = 10\n",
    "NUM_OF_EFFECTIVE_REGRESSORS = 4\n",
    "SERIES_LEN = 365\n",
    "SEED = 1\n",
    "# sample some coefficients\n",
    "COEFS = np.random.default_rng(SEED).uniform(-1, 1, NUM_OF_EFFECTIVE_REGRESSORS)\n",
    "trend = make_trend(SERIES_LEN, rw_loc=0.01, rw_scale=0.1)\n",
    "x, regression, coefs = make_regression(series_len=SERIES_LEN, coefs=COEFS)\n",
    "\n",
    "# combine trend and the regression\n",
    "y = trend + regression\n",
    "y = y - y.min()\n",
    "\n",
    "\n",
    "x_extra = np.random.normal(0, 1, (SERIES_LEN, NUM_OF_REGRESSORS - NUM_OF_EFFECTIVE_REGRESSORS))\n",
    "x = np.concatenate([x, x_extra], axis=-1)\n",
    "\n",
    "x_cols = [f\"x{x}\" for x in range(1, NUM_OF_REGRESSORS + 1)]\n",
    "response_col = \"y\"\n",
    "dt_col = \"date\"\n",
    "obs_matrix = np.concatenate([y.reshape(-1, 1), x], axis=1)\n",
    "# make a data frame for orbit inputs\n",
    "df = pd.DataFrame(obs_matrix, columns=[response_col] + x_cols)\n",
    "# make some dummy date stamp\n",
    "dt = pd.date_range(start='2016-01-04', periods=SERIES_LEN, freq=\"1W\")\n",
    "df['date'] = dt"
   ]
  },
  {
   "cell_type": "code",
   "execution_count": 4,
   "metadata": {
    "ExecuteTime": {
     "end_time": "2022-03-25T01:01:15.730128Z",
     "start_time": "2022-03-25T01:01:15.720117Z"
    }
   },
   "outputs": [
    {
     "name": "stdout",
     "output_type": "stream",
     "text": [
      "(365, 12)\n",
      "          y        x1        x2        x3        x4        x5        x6  \\\n",
      "0  4.426242  0.172792  0.000000  0.165219 -0.000000 -1.956284  1.061930   \n",
      "1  5.580432  0.452678  0.223187 -0.000000  0.290559  0.275263 -0.988209   \n",
      "2  5.031773  0.182286  0.147066  0.014211  0.273356  0.613819 -1.198121   \n",
      "3  3.264027 -0.368227 -0.081455 -0.241060  0.299423 -0.261870 -1.732015   \n",
      "4  5.246511  0.019861 -0.146228 -0.390954 -0.128596 -0.410046 -1.152177   \n",
      "\n",
      "         x7        x8        x9       x10       date  \n",
      "0  0.116918 -0.019865 -0.109844 -2.244550 2016-01-10  \n",
      "1  0.586367 -0.668872  0.558634 -1.211590 2016-01-17  \n",
      "2 -0.170855 -0.115617 -0.217453 -0.217460 2016-01-24  \n",
      "3 -0.142948  0.247400  0.580755  1.639177 2016-01-31  \n",
      "4  0.179797  0.306605 -0.454966  1.033073 2016-02-07  \n"
     ]
    }
   ],
   "source": [
    "print(df.shape)\n",
    "print(df.head())"
   ]
  },
  {
   "cell_type": "markdown",
   "metadata": {},
   "source": [
    "## WBIC"
   ]
  },
  {
   "cell_type": "markdown",
   "metadata": {},
   "source": [
    "In this section, we use DLT model as an example. Different DLT models (the number of features used changes) are fitted and their WBIC values are calculated respectively."
   ]
  },
  {
   "cell_type": "code",
   "execution_count": 5,
   "metadata": {
    "ExecuteTime": {
     "end_time": "2022-03-25T01:05:53.061817Z",
     "start_time": "2022-03-25T01:01:15.732651Z"
    }
   },
   "outputs": [
    {
     "name": "stderr",
     "output_type": "stream",
     "text": [
      "16:48:40 - cmdstanpy - INFO - Requested 8 parallel_chains but only 4 required, will run all chains in parallel.\n",
      "16:48:40 - cmdstanpy - INFO - CmdStan start processing\n"
     ]
    },
    {
     "data": {
      "application/vnd.jupyter.widget-view+json": {
       "model_id": "635763b9b0164529a6a65ff9d347961d",
       "version_major": 2,
       "version_minor": 0
      },
      "text/plain": [
       "chain 1 |          | 00:00 Status"
      ]
     },
     "metadata": {},
     "output_type": "display_data"
    },
    {
     "data": {
      "application/vnd.jupyter.widget-view+json": {
       "model_id": "14ff07efe0c24c1685def028aa5eeede",
       "version_major": 2,
       "version_minor": 0
      },
      "text/plain": [
       "chain 2 |          | 00:00 Status"
      ]
     },
     "metadata": {},
     "output_type": "display_data"
    },
    {
     "data": {
      "application/vnd.jupyter.widget-view+json": {
       "model_id": "cad31b32777f48abb32cde0d498ae73a",
       "version_major": 2,
       "version_minor": 0
      },
      "text/plain": [
       "chain 3 |          | 00:00 Status"
      ]
     },
     "metadata": {},
     "output_type": "display_data"
    },
    {
     "data": {
      "application/vnd.jupyter.widget-view+json": {
       "model_id": "6a39e2b7a2274cf291881c4aac3589b5",
       "version_major": 2,
       "version_minor": 0
      },
      "text/plain": [
       "chain 4 |          | 00:00 Status"
      ]
     },
     "metadata": {},
     "output_type": "display_data"
    },
    {
     "name": "stdout",
     "output_type": "stream",
     "text": [
      "                                                                                                                                                                                                                                                                                                                                "
     ]
    },
    {
     "name": "stderr",
     "output_type": "stream",
     "text": [
      "16:48:49 - cmdstanpy - INFO - CmdStan done processing.\n"
     ]
    },
    {
     "name": "stdout",
     "output_type": "stream",
     "text": [
      "\n"
     ]
    },
    {
     "name": "stderr",
     "output_type": "stream",
     "text": [
      "16:48:51 - cmdstanpy - INFO - Requested 8 parallel_chains but only 4 required, will run all chains in parallel.\n",
      "16:48:51 - cmdstanpy - INFO - CmdStan start processing\n"
     ]
    },
    {
     "name": "stdout",
     "output_type": "stream",
     "text": [
      "WBIC value with 1 regressors: 1201.735\n",
      "------------------------------------------------------------------\n"
     ]
    },
    {
     "data": {
      "application/vnd.jupyter.widget-view+json": {
       "model_id": "a178f6ee9b8e4e93bc6db680dd364db4",
       "version_major": 2,
       "version_minor": 0
      },
      "text/plain": [
       "chain 1 |          | 00:00 Status"
      ]
     },
     "metadata": {},
     "output_type": "display_data"
    },
    {
     "data": {
      "application/vnd.jupyter.widget-view+json": {
       "model_id": "ca14218ea09b457493cf3d5bbd56ec8e",
       "version_major": 2,
       "version_minor": 0
      },
      "text/plain": [
       "chain 2 |          | 00:00 Status"
      ]
     },
     "metadata": {},
     "output_type": "display_data"
    },
    {
     "data": {
      "application/vnd.jupyter.widget-view+json": {
       "model_id": "ebd3c4c8a3b648b0997d4313e645635e",
       "version_major": 2,
       "version_minor": 0
      },
      "text/plain": [
       "chain 3 |          | 00:00 Status"
      ]
     },
     "metadata": {},
     "output_type": "display_data"
    },
    {
     "data": {
      "application/vnd.jupyter.widget-view+json": {
       "model_id": "c2f756c7daaf4fa38cd15d2f72381d75",
       "version_major": 2,
       "version_minor": 0
      },
      "text/plain": [
       "chain 4 |          | 00:00 Status"
      ]
     },
     "metadata": {},
     "output_type": "display_data"
    },
    {
     "name": "stdout",
     "output_type": "stream",
     "text": [
      "                                                                                                                                                                                                                                                                                                                                "
     ]
    },
    {
     "name": "stderr",
     "output_type": "stream",
     "text": [
      "16:49:01 - cmdstanpy - INFO - CmdStan done processing.\n"
     ]
    },
    {
     "name": "stdout",
     "output_type": "stream",
     "text": [
      "\n"
     ]
    },
    {
     "name": "stderr",
     "output_type": "stream",
     "text": [
      "16:49:03 - cmdstanpy - INFO - Requested 8 parallel_chains but only 4 required, will run all chains in parallel.\n",
      "16:49:03 - cmdstanpy - INFO - CmdStan start processing\n"
     ]
    },
    {
     "name": "stdout",
     "output_type": "stream",
     "text": [
      "WBIC value with 2 regressors: 1150.356\n",
      "------------------------------------------------------------------\n"
     ]
    },
    {
     "data": {
      "application/vnd.jupyter.widget-view+json": {
       "model_id": "6cbc0f3c1279414caa2e85a99fc9c35e",
       "version_major": 2,
       "version_minor": 0
      },
      "text/plain": [
       "chain 1 |          | 00:00 Status"
      ]
     },
     "metadata": {},
     "output_type": "display_data"
    },
    {
     "data": {
      "application/vnd.jupyter.widget-view+json": {
       "model_id": "5e8a0de0032c4357b2e3a1b524e56c5a",
       "version_major": 2,
       "version_minor": 0
      },
      "text/plain": [
       "chain 2 |          | 00:00 Status"
      ]
     },
     "metadata": {},
     "output_type": "display_data"
    },
    {
     "data": {
      "application/vnd.jupyter.widget-view+json": {
       "model_id": "67623dd24bcd422382270774a9c72cec",
       "version_major": 2,
       "version_minor": 0
      },
      "text/plain": [
       "chain 3 |          | 00:00 Status"
      ]
     },
     "metadata": {},
     "output_type": "display_data"
    },
    {
     "data": {
      "application/vnd.jupyter.widget-view+json": {
       "model_id": "3d00b231d5cd4813ac433ba904abbc9f",
       "version_major": 2,
       "version_minor": 0
      },
      "text/plain": [
       "chain 4 |          | 00:00 Status"
      ]
     },
     "metadata": {},
     "output_type": "display_data"
    },
    {
     "name": "stdout",
     "output_type": "stream",
     "text": [
      "                                                                                                                                                                                                                                                                                                                                "
     ]
    },
    {
     "name": "stderr",
     "output_type": "stream",
     "text": [
      "16:49:13 - cmdstanpy - INFO - CmdStan done processing.\n"
     ]
    },
    {
     "name": "stdout",
     "output_type": "stream",
     "text": [
      "\n"
     ]
    },
    {
     "name": "stderr",
     "output_type": "stream",
     "text": [
      "16:49:15 - cmdstanpy - INFO - Requested 8 parallel_chains but only 4 required, will run all chains in parallel.\n",
      "16:49:16 - cmdstanpy - INFO - CmdStan start processing\n"
     ]
    },
    {
     "name": "stdout",
     "output_type": "stream",
     "text": [
      "WBIC value with 3 regressors: 1103.973\n",
      "------------------------------------------------------------------\n"
     ]
    },
    {
     "data": {
      "application/vnd.jupyter.widget-view+json": {
       "model_id": "6ed8732eaad24eca9c433fd79e9fce94",
       "version_major": 2,
       "version_minor": 0
      },
      "text/plain": [
       "chain 1 |          | 00:00 Status"
      ]
     },
     "metadata": {},
     "output_type": "display_data"
    },
    {
     "data": {
      "application/vnd.jupyter.widget-view+json": {
       "model_id": "ca055c8bd76e49ec87ea3ceabe5d98f6",
       "version_major": 2,
       "version_minor": 0
      },
      "text/plain": [
       "chain 2 |          | 00:00 Status"
      ]
     },
     "metadata": {},
     "output_type": "display_data"
    },
    {
     "data": {
      "application/vnd.jupyter.widget-view+json": {
       "model_id": "8124e97da87a4929bda34af911f65334",
       "version_major": 2,
       "version_minor": 0
      },
      "text/plain": [
       "chain 3 |          | 00:00 Status"
      ]
     },
     "metadata": {},
     "output_type": "display_data"
    },
    {
     "data": {
      "application/vnd.jupyter.widget-view+json": {
       "model_id": "45bf5f8c261345c49559aa0a3a6bf4da",
       "version_major": 2,
       "version_minor": 0
      },
      "text/plain": [
       "chain 4 |          | 00:00 Status"
      ]
     },
     "metadata": {},
     "output_type": "display_data"
    },
    {
     "name": "stdout",
     "output_type": "stream",
     "text": [
      "                                                                                                                                                                                                                                                                                                                                "
     ]
    },
    {
     "name": "stderr",
     "output_type": "stream",
     "text": [
      "16:49:25 - cmdstanpy - INFO - CmdStan done processing.\n"
     ]
    },
    {
     "name": "stdout",
     "output_type": "stream",
     "text": [
      "\n"
     ]
    },
    {
     "name": "stderr",
     "output_type": "stream",
     "text": [
      "16:49:27 - cmdstanpy - INFO - Requested 8 parallel_chains but only 4 required, will run all chains in parallel.\n",
      "16:49:27 - cmdstanpy - INFO - CmdStan start processing\n"
     ]
    },
    {
     "name": "stdout",
     "output_type": "stream",
     "text": [
      "WBIC value with 4 regressors: 1054.947\n",
      "------------------------------------------------------------------\n"
     ]
    },
    {
     "data": {
      "application/vnd.jupyter.widget-view+json": {
       "model_id": "5b59a7f72de7423c9cb3d00abacf2acc",
       "version_major": 2,
       "version_minor": 0
      },
      "text/plain": [
       "chain 1 |          | 00:00 Status"
      ]
     },
     "metadata": {},
     "output_type": "display_data"
    },
    {
     "data": {
      "application/vnd.jupyter.widget-view+json": {
       "model_id": "b055aeedd23143b0aa84978a240f14b0",
       "version_major": 2,
       "version_minor": 0
      },
      "text/plain": [
       "chain 2 |          | 00:00 Status"
      ]
     },
     "metadata": {},
     "output_type": "display_data"
    },
    {
     "data": {
      "application/vnd.jupyter.widget-view+json": {
       "model_id": "5b25d06b126d47368db88e4fb2f07efa",
       "version_major": 2,
       "version_minor": 0
      },
      "text/plain": [
       "chain 3 |          | 00:00 Status"
      ]
     },
     "metadata": {},
     "output_type": "display_data"
    },
    {
     "data": {
      "application/vnd.jupyter.widget-view+json": {
       "model_id": "5bb8a52dd54b432d871e56b6bf3f093f",
       "version_major": 2,
       "version_minor": 0
      },
      "text/plain": [
       "chain 4 |          | 00:00 Status"
      ]
     },
     "metadata": {},
     "output_type": "display_data"
    },
    {
     "name": "stdout",
     "output_type": "stream",
     "text": [
      "                                                                                                                                                                                                                                                                                                                                "
     ]
    },
    {
     "name": "stderr",
     "output_type": "stream",
     "text": [
      "16:49:37 - cmdstanpy - INFO - CmdStan done processing.\n"
     ]
    },
    {
     "name": "stdout",
     "output_type": "stream",
     "text": [
      "\n"
     ]
    },
    {
     "name": "stderr",
     "output_type": "stream",
     "text": [
      "16:49:39 - cmdstanpy - INFO - Requested 8 parallel_chains but only 4 required, will run all chains in parallel.\n",
      "16:49:39 - cmdstanpy - INFO - CmdStan start processing\n"
     ]
    },
    {
     "name": "stdout",
     "output_type": "stream",
     "text": [
      "WBIC value with 5 regressors: 1061.265\n",
      "------------------------------------------------------------------\n"
     ]
    },
    {
     "data": {
      "application/vnd.jupyter.widget-view+json": {
       "model_id": "5f1cce42df5e46aba0293538ef3445b9",
       "version_major": 2,
       "version_minor": 0
      },
      "text/plain": [
       "chain 1 |          | 00:00 Status"
      ]
     },
     "metadata": {},
     "output_type": "display_data"
    },
    {
     "data": {
      "application/vnd.jupyter.widget-view+json": {
       "model_id": "e58bfb308c594b1daa4ebe7dfb3158a7",
       "version_major": 2,
       "version_minor": 0
      },
      "text/plain": [
       "chain 2 |          | 00:00 Status"
      ]
     },
     "metadata": {},
     "output_type": "display_data"
    },
    {
     "data": {
      "application/vnd.jupyter.widget-view+json": {
       "model_id": "fb47faaba0734e95976ad6d71e87da6a",
       "version_major": 2,
       "version_minor": 0
      },
      "text/plain": [
       "chain 3 |          | 00:00 Status"
      ]
     },
     "metadata": {},
     "output_type": "display_data"
    },
    {
     "data": {
      "application/vnd.jupyter.widget-view+json": {
       "model_id": "d2bff0ac5fc04353a66b0cda78f3af43",
       "version_major": 2,
       "version_minor": 0
      },
      "text/plain": [
       "chain 4 |          | 00:00 Status"
      ]
     },
     "metadata": {},
     "output_type": "display_data"
    },
    {
     "name": "stdout",
     "output_type": "stream",
     "text": [
      "                                                                                                                                                                                                                                                                                                                                "
     ]
    },
    {
     "name": "stderr",
     "output_type": "stream",
     "text": [
      "16:49:49 - cmdstanpy - INFO - CmdStan done processing.\n"
     ]
    },
    {
     "name": "stdout",
     "output_type": "stream",
     "text": [
      "\n"
     ]
    },
    {
     "name": "stderr",
     "output_type": "stream",
     "text": [
      "16:49:51 - cmdstanpy - INFO - Requested 8 parallel_chains but only 4 required, will run all chains in parallel.\n",
      "16:49:51 - cmdstanpy - INFO - CmdStan start processing\n"
     ]
    },
    {
     "name": "stdout",
     "output_type": "stream",
     "text": [
      "WBIC value with 6 regressors: 1066.943\n",
      "------------------------------------------------------------------\n"
     ]
    },
    {
     "data": {
      "application/vnd.jupyter.widget-view+json": {
       "model_id": "fe7911e542564e6686fb936f657d1ec3",
       "version_major": 2,
       "version_minor": 0
      },
      "text/plain": [
       "chain 1 |          | 00:00 Status"
      ]
     },
     "metadata": {},
     "output_type": "display_data"
    },
    {
     "data": {
      "application/vnd.jupyter.widget-view+json": {
       "model_id": "98606b0768de4535a67d5a96bd643d52",
       "version_major": 2,
       "version_minor": 0
      },
      "text/plain": [
       "chain 2 |          | 00:00 Status"
      ]
     },
     "metadata": {},
     "output_type": "display_data"
    },
    {
     "data": {
      "application/vnd.jupyter.widget-view+json": {
       "model_id": "bca48ba64f0546eb89749c60341a1456",
       "version_major": 2,
       "version_minor": 0
      },
      "text/plain": [
       "chain 3 |          | 00:00 Status"
      ]
     },
     "metadata": {},
     "output_type": "display_data"
    },
    {
     "data": {
      "application/vnd.jupyter.widget-view+json": {
       "model_id": "f999d936180146728ddf7290c77cc51c",
       "version_major": 2,
       "version_minor": 0
      },
      "text/plain": [
       "chain 4 |          | 00:00 Status"
      ]
     },
     "metadata": {},
     "output_type": "display_data"
    },
    {
     "name": "stdout",
     "output_type": "stream",
     "text": [
      "                                                                                                                                                                                                                                                                                                                                "
     ]
    },
    {
     "name": "stderr",
     "output_type": "stream",
     "text": [
      "16:50:01 - cmdstanpy - INFO - CmdStan done processing.\n"
     ]
    },
    {
     "name": "stdout",
     "output_type": "stream",
     "text": [
      "\n"
     ]
    },
    {
     "name": "stderr",
     "output_type": "stream",
     "text": [
      "16:50:03 - cmdstanpy - INFO - Requested 8 parallel_chains but only 4 required, will run all chains in parallel.\n",
      "16:50:03 - cmdstanpy - INFO - CmdStan start processing\n"
     ]
    },
    {
     "name": "stdout",
     "output_type": "stream",
     "text": [
      "WBIC value with 7 regressors: 1071.988\n",
      "------------------------------------------------------------------\n"
     ]
    },
    {
     "data": {
      "application/vnd.jupyter.widget-view+json": {
       "model_id": "c989083a46e144d8bc7d376b7503c460",
       "version_major": 2,
       "version_minor": 0
      },
      "text/plain": [
       "chain 1 |          | 00:00 Status"
      ]
     },
     "metadata": {},
     "output_type": "display_data"
    },
    {
     "data": {
      "application/vnd.jupyter.widget-view+json": {
       "model_id": "f2fedd82c83349e3b7d737072f751800",
       "version_major": 2,
       "version_minor": 0
      },
      "text/plain": [
       "chain 2 |          | 00:00 Status"
      ]
     },
     "metadata": {},
     "output_type": "display_data"
    },
    {
     "data": {
      "application/vnd.jupyter.widget-view+json": {
       "model_id": "4b3484ab38924567b1ba17c330296d6a",
       "version_major": 2,
       "version_minor": 0
      },
      "text/plain": [
       "chain 3 |          | 00:00 Status"
      ]
     },
     "metadata": {},
     "output_type": "display_data"
    },
    {
     "data": {
      "application/vnd.jupyter.widget-view+json": {
       "model_id": "95aeb3e848614832b8a5b6dbd7ac3ad7",
       "version_major": 2,
       "version_minor": 0
      },
      "text/plain": [
       "chain 4 |          | 00:00 Status"
      ]
     },
     "metadata": {},
     "output_type": "display_data"
    },
    {
     "name": "stdout",
     "output_type": "stream",
     "text": [
      "                                                                                                                                                                                                                                                                                                                                "
     ]
    },
    {
     "name": "stderr",
     "output_type": "stream",
     "text": [
      "16:50:12 - cmdstanpy - INFO - CmdStan done processing.\n"
     ]
    },
    {
     "name": "stdout",
     "output_type": "stream",
     "text": [
      "\n"
     ]
    },
    {
     "name": "stderr",
     "output_type": "stream",
     "text": [
      "16:50:15 - cmdstanpy - INFO - Requested 8 parallel_chains but only 4 required, will run all chains in parallel.\n",
      "16:50:15 - cmdstanpy - INFO - CmdStan start processing\n"
     ]
    },
    {
     "name": "stdout",
     "output_type": "stream",
     "text": [
      "WBIC value with 8 regressors: 1079.814\n",
      "------------------------------------------------------------------\n"
     ]
    },
    {
     "data": {
      "application/vnd.jupyter.widget-view+json": {
       "model_id": "7a71931dd02b46c8a8be253fe712a695",
       "version_major": 2,
       "version_minor": 0
      },
      "text/plain": [
       "chain 1 |          | 00:00 Status"
      ]
     },
     "metadata": {},
     "output_type": "display_data"
    },
    {
     "data": {
      "application/vnd.jupyter.widget-view+json": {
       "model_id": "d8df41416be2490c826420d0bc74d61f",
       "version_major": 2,
       "version_minor": 0
      },
      "text/plain": [
       "chain 2 |          | 00:00 Status"
      ]
     },
     "metadata": {},
     "output_type": "display_data"
    },
    {
     "data": {
      "application/vnd.jupyter.widget-view+json": {
       "model_id": "19d12103a5d54c4190b544ca57561948",
       "version_major": 2,
       "version_minor": 0
      },
      "text/plain": [
       "chain 3 |          | 00:00 Status"
      ]
     },
     "metadata": {},
     "output_type": "display_data"
    },
    {
     "data": {
      "application/vnd.jupyter.widget-view+json": {
       "model_id": "c4b76355edc0438497864955db59f489",
       "version_major": 2,
       "version_minor": 0
      },
      "text/plain": [
       "chain 4 |          | 00:00 Status"
      ]
     },
     "metadata": {},
     "output_type": "display_data"
    },
    {
     "name": "stdout",
     "output_type": "stream",
     "text": [
      "                                                                                                                                                                                                                                                                                                                                "
     ]
    },
    {
     "name": "stderr",
     "output_type": "stream",
     "text": [
      "16:50:24 - cmdstanpy - INFO - CmdStan done processing.\n"
     ]
    },
    {
     "name": "stdout",
     "output_type": "stream",
     "text": [
      "\n"
     ]
    },
    {
     "name": "stderr",
     "output_type": "stream",
     "text": [
      "16:50:26 - cmdstanpy - INFO - Requested 8 parallel_chains but only 4 required, will run all chains in parallel.\n",
      "16:50:26 - cmdstanpy - INFO - CmdStan start processing\n"
     ]
    },
    {
     "name": "stdout",
     "output_type": "stream",
     "text": [
      "WBIC value with 9 regressors: 1086.051\n",
      "------------------------------------------------------------------\n"
     ]
    },
    {
     "data": {
      "application/vnd.jupyter.widget-view+json": {
       "model_id": "a50b7507ded640c5943fd962742337d9",
       "version_major": 2,
       "version_minor": 0
      },
      "text/plain": [
       "chain 1 |          | 00:00 Status"
      ]
     },
     "metadata": {},
     "output_type": "display_data"
    },
    {
     "data": {
      "application/vnd.jupyter.widget-view+json": {
       "model_id": "e8fbb63261e94024b44f6ca4b48a33c0",
       "version_major": 2,
       "version_minor": 0
      },
      "text/plain": [
       "chain 2 |          | 00:00 Status"
      ]
     },
     "metadata": {},
     "output_type": "display_data"
    },
    {
     "data": {
      "application/vnd.jupyter.widget-view+json": {
       "model_id": "0771607765b8411f9ee2ec15d00c4b3b",
       "version_major": 2,
       "version_minor": 0
      },
      "text/plain": [
       "chain 3 |          | 00:00 Status"
      ]
     },
     "metadata": {},
     "output_type": "display_data"
    },
    {
     "data": {
      "application/vnd.jupyter.widget-view+json": {
       "model_id": "fb177f4c1314449eaa8e7a2d23eb2a38",
       "version_major": 2,
       "version_minor": 0
      },
      "text/plain": [
       "chain 4 |          | 00:00 Status"
      ]
     },
     "metadata": {},
     "output_type": "display_data"
    },
    {
     "name": "stdout",
     "output_type": "stream",
     "text": [
      "                                                                                                                                                                                                                                                                                                                                "
     ]
    },
    {
     "name": "stderr",
     "output_type": "stream",
     "text": [
      "16:50:35 - cmdstanpy - INFO - CmdStan done processing.\n"
     ]
    },
    {
     "name": "stdout",
     "output_type": "stream",
     "text": [
      "\n",
      "WBIC value with 10 regressors: 1092.341\n",
      "------------------------------------------------------------------\n",
      "CPU times: user 23 s, sys: 1.19 s, total: 24.2 s\n",
      "Wall time: 1min 57s\n"
     ]
    }
   ],
   "source": [
    "%%time\n",
    "WBIC_ls = []\n",
    "for k in range(1, NUM_OF_REGRESSORS + 1):\n",
    "    regressor_col = x_cols[:k]\n",
    "    dlt_mod = DLT(\n",
    "        response_col=response_col,\n",
    "        date_col=dt_col,\n",
    "        regressor_col=regressor_col,\n",
    "        seed=2022,\n",
    "        # fixing the smoothing parameters to learn regression coefficients more effectively\n",
    "        level_sm_input=0.01,\n",
    "        slope_sm_input=0.01,\n",
    "        num_warmup=4000,\n",
    "        num_sample=4000,\n",
    "        )\n",
    "    WBIC_temp = dlt_mod.fit_wbic(df=df) \n",
    "    print(\"WBIC value with {:d} regressors: {:.3f}\".format(k, WBIC_temp))\n",
    "    print('------------------------------------------------------------------')\n",
    "    WBIC_ls.append(WBIC_temp)"
   ]
  },
  {
   "cell_type": "markdown",
   "metadata": {},
   "source": [
    "It is also interesting to see if WBIC can distinguish between model types; not just do feature selection for a given type of model. To that end the next block fits an LGT and ETS model to the data; the WBIC values for both models are then calculated.  \n",
    "\n",
    "Note that WBIC is supported for both  the 'stan-mcmc' and 'pyro-svi' estimators. Currently only the LGT model has both. Thus WBIC is calculated for LGT for both estimators. "
   ]
  },
  {
   "cell_type": "code",
   "execution_count": 6,
   "metadata": {
    "ExecuteTime": {
     "end_time": "2022-03-25T01:06:50.978628Z",
     "start_time": "2022-03-25T01:05:53.065054Z"
    }
   },
   "outputs": [
    {
     "name": "stderr",
     "output_type": "stream",
     "text": [
      "16:50:38 - cmdstanpy - INFO - Requested 8 parallel_chains but only 4 required, will run all chains in parallel.\n",
      "16:50:38 - cmdstanpy - INFO - CmdStan start processing\n"
     ]
    },
    {
     "data": {
      "application/vnd.jupyter.widget-view+json": {
       "model_id": "7ed17c56a5f2446c91ee6d1302192c7b",
       "version_major": 2,
       "version_minor": 0
      },
      "text/plain": [
       "chain 1 |          | 00:00 Status"
      ]
     },
     "metadata": {},
     "output_type": "display_data"
    },
    {
     "data": {
      "application/vnd.jupyter.widget-view+json": {
       "model_id": "a9d180ef525d42beb3b84c88802c2491",
       "version_major": 2,
       "version_minor": 0
      },
      "text/plain": [
       "chain 2 |          | 00:00 Status"
      ]
     },
     "metadata": {},
     "output_type": "display_data"
    },
    {
     "data": {
      "application/vnd.jupyter.widget-view+json": {
       "model_id": "be8621fbec754f799b9808a7903eb6ad",
       "version_major": 2,
       "version_minor": 0
      },
      "text/plain": [
       "chain 3 |          | 00:00 Status"
      ]
     },
     "metadata": {},
     "output_type": "display_data"
    },
    {
     "data": {
      "application/vnd.jupyter.widget-view+json": {
       "model_id": "daf84854077b4a05b6a477e54e51c8e2",
       "version_major": 2,
       "version_minor": 0
      },
      "text/plain": [
       "chain 4 |          | 00:00 Status"
      ]
     },
     "metadata": {},
     "output_type": "display_data"
    },
    {
     "name": "stdout",
     "output_type": "stream",
     "text": [
      "                                                                                                                                                                                                                                                                                                                                "
     ]
    },
    {
     "name": "stderr",
     "output_type": "stream",
     "text": [
      "16:50:39 - cmdstanpy - INFO - CmdStan done processing.\n",
      "16:50:39 - cmdstanpy - WARNING - Non-fatal error during sampling:\n",
      "Exception: lgt_model_namespace::log_prob: l[1] is -1.08324, but must be greater than or equal to 0.000000 (in '/Users/towinazure/edwinnglabs/orbit/orbit/stan/lgt.stan', line 130, column 2 to column 32)\n",
      "\tException: lgt_model_namespace::log_prob: l[1] is -9.8205, but must be greater than or equal to 0.000000 (in '/Users/towinazure/edwinnglabs/orbit/orbit/stan/lgt.stan', line 130, column 2 to column 32)\n",
      "\tException: lgt_model_namespace::log_prob: l[1] is -7.17958, but must be greater than or equal to 0.000000 (in '/Users/towinazure/edwinnglabs/orbit/orbit/stan/lgt.stan', line 130, column 2 to column 32)\n",
      "Exception: lgt_model_namespace::log_prob: l[1] is -294.617, but must be greater than or equal to 0.000000 (in '/Users/towinazure/edwinnglabs/orbit/orbit/stan/lgt.stan', line 130, column 2 to column 32)\n",
      "\tException: lgt_model_namespace::log_prob: l[1] is -2.82877, but must be greater than or equal to 0.000000 (in '/Users/towinazure/edwinnglabs/orbit/orbit/stan/lgt.stan', line 130, column 2 to column 32)\n",
      "\tException: lgt_model_namespace::log_prob: l[1] is -0.063334, but must be greater than or equal to 0.000000 (in '/Users/towinazure/edwinnglabs/orbit/orbit/stan/lgt.stan', line 130, column 2 to column 32)\n",
      "Exception: lgt_model_namespace::log_prob: l[1] is -5168.79, but must be greater than or equal to 0.000000 (in '/Users/towinazure/edwinnglabs/orbit/orbit/stan/lgt.stan', line 130, column 2 to column 32)\n",
      "\tException: lgt_model_namespace::log_prob: l[1] is -146.947, but must be greater than or equal to 0.000000 (in '/Users/towinazure/edwinnglabs/orbit/orbit/stan/lgt.stan', line 130, column 2 to column 32)\n",
      "\tException: lgt_model_namespace::log_prob: l[1] is -0.163829, but must be greater than or equal to 0.000000 (in '/Users/towinazure/edwinnglabs/orbit/orbit/stan/lgt.stan', line 130, column 2 to column 32)\n",
      "\tException: lgt_model_namespace::log_prob: l[1] is -0.736744, but must be greater than or equal to 0.000000 (in '/Users/towinazure/edwinnglabs/orbit/orbit/stan/lgt.stan', line 130, column 2 to column 32)\n",
      "\tException: lgt_model_namespace::log_prob: l[1] is -7.27505, but must be greater than or equal to 0.000000 (in '/Users/towinazure/edwinnglabs/orbit/orbit/stan/lgt.stan', line 130, column 2 to column 32)\n",
      "\tException: lgt_model_namespace::log_prob: l[1] is -28.8341, but must be greater than or equal to 0.000000 (in '/Users/towinazure/edwinnglabs/orbit/orbit/stan/lgt.stan', line 130, column 2 to column 32)\n",
      "\tException: lgt_model_namespace::log_prob: l[1] is -12.5022, but must be greater than or equal to 0.000000 (in '/Users/towinazure/edwinnglabs/orbit/orbit/stan/lgt.stan', line 130, column 2 to column 32)\n",
      "Exception: lgt_model_namespace::log_prob: l[1] is -1964.15, but must be greater than or equal to 0.000000 (in '/Users/towinazure/edwinnglabs/orbit/orbit/stan/lgt.stan', line 130, column 2 to column 32)\n",
      "\tException: lgt_model_namespace::log_prob: l[1] is -56.4804, but must be greater than or equal to 0.000000 (in '/Users/towinazure/edwinnglabs/orbit/orbit/stan/lgt.stan', line 130, column 2 to column 32)\n",
      "\tException: lgt_model_namespace::log_prob: l[1] is -0.100831, but must be greater than or equal to 0.000000 (in '/Users/towinazure/edwinnglabs/orbit/orbit/stan/lgt.stan', line 130, column 2 to column 32)\n",
      "\tException: lgt_model_namespace::log_prob: l[1] is -0.466738, but must be greater than or equal to 0.000000 (in '/Users/towinazure/edwinnglabs/orbit/orbit/stan/lgt.stan', line 130, column 2 to column 32)\n",
      "\tException: lgt_model_namespace::log_prob: l[1] is -0.86647, but must be greater than or equal to 0.000000 (in '/Users/towinazure/edwinnglabs/orbit/orbit/stan/lgt.stan', line 130, column 2 to column 32)\n",
      "Consider re-running with show_console=True if the above output is unclear!\n"
     ]
    },
    {
     "name": "stdout",
     "output_type": "stream",
     "text": [
      "\n",
      "WBIC value for LGT model (stan MCMC): 1142.021\n"
     ]
    },
    {
     "name": "stderr",
     "output_type": "stream",
     "text": [
      "DEBUG:cmdstanpy:input tempfile: /var/folders/g0/77v1jc9s455cj14mkqcht0m00000gn/T/tmpkkkhy8l6/3ohdaxjo.json\n",
      "16:51:02 - cmdstanpy - INFO - Requested 8 parallel_chains but only 4 required, will run all chains in parallel.\n",
      "INFO:cmdstanpy:Requested 8 parallel_chains but only 4 required, will run all chains in parallel.\n",
      "DEBUG:cmdstanpy:cmd: /Users/towinazure/edwinnglabs/orbit/orbit/stan/ets info\n",
      "cwd: None\n",
      "16:51:02 - cmdstanpy - INFO - CmdStan start processing\n",
      "INFO:cmdstanpy:CmdStan start processing\n"
     ]
    },
    {
     "name": "stdout",
     "output_type": "stream",
     "text": [
      "WBIC value for LGT model (pyro SVI): 1131.733\n"
     ]
    },
    {
     "data": {
      "application/vnd.jupyter.widget-view+json": {
       "model_id": "b2b10b053b2e4125810a887820f7ae59",
       "version_major": 2,
       "version_minor": 0
      },
      "text/plain": [
       "chain 1 |          | 00:00 Status"
      ]
     },
     "metadata": {},
     "output_type": "display_data"
    },
    {
     "data": {
      "application/vnd.jupyter.widget-view+json": {
       "model_id": "54fb335dcac24554be23ff5b877e19d3",
       "version_major": 2,
       "version_minor": 0
      },
      "text/plain": [
       "chain 2 |          | 00:00 Status"
      ]
     },
     "metadata": {},
     "output_type": "display_data"
    },
    {
     "data": {
      "application/vnd.jupyter.widget-view+json": {
       "model_id": "05120de1744447f787230d5d7aac2a1b",
       "version_major": 2,
       "version_minor": 0
      },
      "text/plain": [
       "chain 3 |          | 00:00 Status"
      ]
     },
     "metadata": {},
     "output_type": "display_data"
    },
    {
     "data": {
      "application/vnd.jupyter.widget-view+json": {
       "model_id": "ea3ba6c52aa642bdb9162678bcdfe297",
       "version_major": 2,
       "version_minor": 0
      },
      "text/plain": [
       "chain 4 |          | 00:00 Status"
      ]
     },
     "metadata": {},
     "output_type": "display_data"
    },
    {
     "name": "stderr",
     "output_type": "stream",
     "text": [
      "DEBUG:cmdstanpy:idx 0\n",
      "DEBUG:cmdstanpy:idx 1\n",
      "DEBUG:cmdstanpy:idx 2\n",
      "DEBUG:cmdstanpy:idx 3\n",
      "DEBUG:cmdstanpy:running CmdStan, num_threads: 1\n",
      "DEBUG:cmdstanpy:running CmdStan, num_threads: 1\n",
      "DEBUG:cmdstanpy:running CmdStan, num_threads: 1\n",
      "DEBUG:cmdstanpy:running CmdStan, num_threads: 1\n",
      "DEBUG:cmdstanpy:CmdStan args: ['/Users/towinazure/edwinnglabs/orbit/orbit/stan/ets', 'id=4', 'random', 'seed=2020', 'data', 'file=/var/folders/g0/77v1jc9s455cj14mkqcht0m00000gn/T/tmpkkkhy8l6/3ohdaxjo.json', 'output', 'file=/var/folders/g0/77v1jc9s455cj14mkqcht0m00000gn/T/tmpkkkhy8l6/etslnf8s2jw/ets-20230106165102_4.csv', 'method=sample', 'num_samples=25', 'num_warmup=225', 'algorithm=hmc', 'adapt', 'engaged=1']\n",
      "DEBUG:cmdstanpy:CmdStan args: ['/Users/towinazure/edwinnglabs/orbit/orbit/stan/ets', 'id=2', 'random', 'seed=2020', 'data', 'file=/var/folders/g0/77v1jc9s455cj14mkqcht0m00000gn/T/tmpkkkhy8l6/3ohdaxjo.json', 'output', 'file=/var/folders/g0/77v1jc9s455cj14mkqcht0m00000gn/T/tmpkkkhy8l6/etslnf8s2jw/ets-20230106165102_2.csv', 'method=sample', 'num_samples=25', 'num_warmup=225', 'algorithm=hmc', 'adapt', 'engaged=1']\n",
      "DEBUG:cmdstanpy:CmdStan args: ['/Users/towinazure/edwinnglabs/orbit/orbit/stan/ets', 'id=3', 'random', 'seed=2020', 'data', 'file=/var/folders/g0/77v1jc9s455cj14mkqcht0m00000gn/T/tmpkkkhy8l6/3ohdaxjo.json', 'output', 'file=/var/folders/g0/77v1jc9s455cj14mkqcht0m00000gn/T/tmpkkkhy8l6/etslnf8s2jw/ets-20230106165102_3.csv', 'method=sample', 'num_samples=25', 'num_warmup=225', 'algorithm=hmc', 'adapt', 'engaged=1']\n",
      "DEBUG:cmdstanpy:CmdStan args: ['/Users/towinazure/edwinnglabs/orbit/orbit/stan/ets', 'id=1', 'random', 'seed=2020', 'data', 'file=/var/folders/g0/77v1jc9s455cj14mkqcht0m00000gn/T/tmpkkkhy8l6/3ohdaxjo.json', 'output', 'file=/var/folders/g0/77v1jc9s455cj14mkqcht0m00000gn/T/tmpkkkhy8l6/etslnf8s2jw/ets-20230106165102_1.csv', 'method=sample', 'num_samples=25', 'num_warmup=225', 'algorithm=hmc', 'adapt', 'engaged=1']\n"
     ]
    },
    {
     "name": "stdout",
     "output_type": "stream",
     "text": [
      "                                                                                                                                                                                                                                                                                                                                "
     ]
    },
    {
     "name": "stderr",
     "output_type": "stream",
     "text": [
      "16:51:02 - cmdstanpy - INFO - CmdStan done processing.\n",
      "INFO:cmdstanpy:CmdStan done processing.\n",
      "DEBUG:cmdstanpy:runset\n",
      "RunSet: chains=4, chain_ids=[1, 2, 3, 4], num_processes=4\n",
      " cmd (chain 1):\n",
      "\t['/Users/towinazure/edwinnglabs/orbit/orbit/stan/ets', 'id=1', 'random', 'seed=2020', 'data', 'file=/var/folders/g0/77v1jc9s455cj14mkqcht0m00000gn/T/tmpkkkhy8l6/3ohdaxjo.json', 'output', 'file=/var/folders/g0/77v1jc9s455cj14mkqcht0m00000gn/T/tmpkkkhy8l6/etslnf8s2jw/ets-20230106165102_1.csv', 'method=sample', 'num_samples=25', 'num_warmup=225', 'algorithm=hmc', 'adapt', 'engaged=1']\n",
      " retcodes=[0, 0, 0, 0]\n",
      " per-chain output files (showing chain 1 only):\n",
      " csv_file:\n",
      "\t/var/folders/g0/77v1jc9s455cj14mkqcht0m00000gn/T/tmpkkkhy8l6/etslnf8s2jw/ets-20230106165102_1.csv\n",
      " console_msgs (if any):\n",
      "\t/var/folders/g0/77v1jc9s455cj14mkqcht0m00000gn/T/tmpkkkhy8l6/etslnf8s2jw/ets-20230106165102_0-stdout.txt\n",
      "DEBUG:cmdstanpy:Chain 1 console:\n",
      "method = sample (Default)\n",
      "  sample\n",
      "    num_samples = 25\n",
      "    num_warmup = 225\n",
      "    save_warmup = 0 (Default)\n",
      "    thin = 1 (Default)\n",
      "    adapt\n",
      "      engaged = 1 (Default)\n",
      "      gamma = 0.050000000000000003 (Default)\n",
      "      delta = 0.80000000000000004 (Default)\n",
      "      kappa = 0.75 (Default)\n",
      "      t0 = 10 (Default)\n",
      "      init_buffer = 75 (Default)\n",
      "      term_buffer = 50 (Default)\n",
      "      window = 25 (Default)\n",
      "    algorithm = hmc (Default)\n",
      "      hmc\n",
      "        engine = nuts (Default)\n",
      "          nuts\n",
      "            max_depth = 10 (Default)\n",
      "        metric = diag_e (Default)\n",
      "        metric_file =  (Default)\n",
      "        stepsize = 1 (Default)\n",
      "        stepsize_jitter = 0 (Default)\n",
      "    num_chains = 1 (Default)\n",
      "id = 1 (Default)\n",
      "data\n",
      "  file = /var/folders/g0/77v1jc9s455cj14mkqcht0m00000gn/T/tmpkkkhy8l6/3ohdaxjo.json\n",
      "init = 2 (Default)\n",
      "random\n",
      "  seed = 2020\n",
      "output\n",
      "  file = /var/folders/g0/77v1jc9s455cj14mkqcht0m00000gn/T/tmpkkkhy8l6/etslnf8s2jw/ets-20230106165102_1.csv\n",
      "  diagnostic_file =  (Default)\n",
      "  refresh = 100 (Default)\n",
      "  sig_figs = -1 (Default)\n",
      "  profile_file = profile.csv (Default)\n",
      "num_threads = 1 (Default)\n",
      "\n",
      "\n",
      "Gradient evaluation took 6.6e-05 seconds\n",
      "1000 transitions using 10 leapfrog steps per transition would take 0.66 seconds.\n",
      "Adjust your expectations accordingly!\n",
      "\n",
      "\n",
      "Iteration:   1 / 250 [  0%]  (Warmup)\n",
      "Iteration: 100 / 250 [ 40%]  (Warmup)\n",
      "Iteration: 200 / 250 [ 80%]  (Warmup)\n",
      "Iteration: 226 / 250 [ 90%]  (Sampling)\n",
      "Iteration: 250 / 250 [100%]  (Sampling)\n",
      "\n",
      " Elapsed Time: 0.032 seconds (Warm-up)\n",
      "               0.009 seconds (Sampling)\n",
      "               0.041 seconds (Total)\n",
      "\n",
      "\n",
      "16:51:02 - cmdstanpy - WARNING - Some chains may have failed to converge.\n",
      "\tChain 3 had 1 divergent transitions (4.0%)\n",
      "\tUse function \"diagnose()\" to see further information.\n",
      "WARNING:cmdstanpy:Some chains may have failed to converge.\n",
      "\tChain 3 had 1 divergent transitions (4.0%)\n",
      "\tUse function \"diagnose()\" to see further information.\n"
     ]
    },
    {
     "name": "stdout",
     "output_type": "stream",
     "text": [
      "\n",
      "WBIC value for ETS model: 1201.702\n",
      "CPU times: user 22 s, sys: 3.33 s, total: 25.4 s\n",
      "Wall time: 24.4 s\n"
     ]
    }
   ],
   "source": [
    "%%time\n",
    "lgt = LGT(response_col=response_col,\n",
    "          date_col=dt_col,\n",
    "          regressor_col=regressor_col,\n",
    "          seasonality=52,\n",
    "          estimator='stan-mcmc',\n",
    "          seed=8888)\n",
    "WBIC_lgt_mcmc = lgt.fit_wbic(df=df) \n",
    "print(\"WBIC value for LGT model (stan MCMC): {:.3f}\".format(WBIC_lgt_mcmc))\n",
    "\n",
    "lgt = LGT(response_col=response_col,\n",
    "          date_col=dt_col,\n",
    "          regressor_col=regressor_col,\n",
    "          seasonality=52,\n",
    "          estimator='pyro-svi',\n",
    "          seed=8888)\n",
    "WBIC_lgt_pyro = lgt.fit_wbic(df=df) \n",
    "print(\"WBIC value for LGT model (pyro SVI): {:.3f}\".format(WBIC_lgt_pyro))\n",
    "\n",
    "ets = ETS(\n",
    "        response_col=response_col,\n",
    "        date_col=dt_col,\n",
    "        seed=2020,\n",
    "        # fixing the smoothing parameters to learn regression coefficients more effectively\n",
    "        level_sm_input=0.01,\n",
    "    )\n",
    "\n",
    "WBIC_ets = ets.fit_wbic(df=df) \n",
    "print(\"WBIC value for ETS model: {:.3f}\".format(WBIC_ets))\n",
    "\n",
    "WBIC_ls.append(WBIC_lgt_mcmc)\n",
    "WBIC_ls.append(WBIC_lgt_pyro)\n",
    "WBIC_ls.append(WBIC_ets)"
   ]
  },
  {
   "cell_type": "markdown",
   "metadata": {},
   "source": [
    "The plot below shows the WBIC vs the number of features / model type (blue line). The true model is indicated by the vertical red line. The horizontal gray line shows the minimum (optimal) value. The minimum is at the true value. "
   ]
  },
  {
   "cell_type": "code",
   "execution_count": 7,
   "metadata": {
    "ExecuteTime": {
     "end_time": "2022-03-25T01:06:51.187435Z",
     "start_time": "2022-03-25T01:06:50.982429Z"
    }
   },
   "outputs": [
    {
     "data": {
      "image/png": "[encoded data removed]",
      "text/plain": [
       "<Figure size 960x480 with 1 Axes>"
      ]
     },
     "metadata": {},
     "output_type": "display_data"
    }
   ],
   "source": [
    "labels = [\"DLT_{}\".format(x) for x in range(1, NUM_OF_REGRESSORS + 1)] + ['LGT_MCMC', 'LGT_SVI','ETS']\n",
    "fig, ax = plt.subplots(1, 1,figsize=(12, 6), dpi=80)\n",
    "markerline, stemlines, baseline = ax.stem(\n",
    "    np.arange(len(labels)), np.array(WBIC_ls), label='WBIC', markerfmt='D')\n",
    "baseline.set_color('none')\n",
    "markerline.set_markersize(12)\n",
    "ax.set_ylim(1020, )\n",
    "ax.set_xticks(np.arange(len(labels)))\n",
    "ax.set_xticklabels(labels)\n",
    "# because list type is mixed index from 1;\n",
    "ax.axvline(x=NUM_OF_EFFECTIVE_REGRESSORS - 1, color='red', linewidth=3, alpha=0.5, linestyle='-', label='truth') \n",
    "ax.set_ylabel(\"WBIC\")\n",
    "ax.set_xlabel(\"# of Features / Model Type\")\n",
    "ax.legend();"
   ]
  },
  {
   "cell_type": "markdown",
   "metadata": {},
   "source": [
    "## BIC"
   ]
  },
  {
   "cell_type": "markdown",
   "metadata": {},
   "source": [
    "In this section, we use DLT model as an example. Different DLT models (the number of features used changes) are fitted and their BIC values are calculated respectively."
   ]
  },
  {
   "cell_type": "code",
   "execution_count": 8,
   "metadata": {
    "ExecuteTime": {
     "end_time": "2022-03-25T01:06:52.190878Z",
     "start_time": "2022-03-25T01:06:51.192123Z"
    }
   },
   "outputs": [
    {
     "name": "stderr",
     "output_type": "stream",
     "text": [
      "DEBUG:cmdstanpy:input tempfile: /var/folders/g0/77v1jc9s455cj14mkqcht0m00000gn/T/tmpkkkhy8l6/8zoxoi16.json\n",
      "DEBUG:cmdstanpy:input tempfile: /var/folders/g0/77v1jc9s455cj14mkqcht0m00000gn/T/tmpkkkhy8l6/6ka6odn5.json\n",
      "DEBUG:cmdstanpy:idx 0\n",
      "DEBUG:cmdstanpy:running CmdStan, num_threads: 1\n",
      "DEBUG:cmdstanpy:CmdStan args: ['/Users/towinazure/edwinnglabs/orbit/orbit/stan/dlt', 'random', 'seed=2022', 'data', 'file=/var/folders/g0/77v1jc9s455cj14mkqcht0m00000gn/T/tmpkkkhy8l6/8zoxoi16.json', 'init=/var/folders/g0/77v1jc9s455cj14mkqcht0m00000gn/T/tmpkkkhy8l6/6ka6odn5.json', 'output', 'file=/var/folders/g0/77v1jc9s455cj14mkqcht0m00000gn/T/tmpkkkhy8l6/dltd0c3brdi/dlt-20230106165102.csv', 'method=optimize']\n",
      "16:51:02 - cmdstanpy - INFO - Chain [1] start processing\n",
      "INFO:cmdstanpy:Chain [1] start processing\n",
      "16:51:02 - cmdstanpy - INFO - Chain [1] done processing\n",
      "INFO:cmdstanpy:Chain [1] done processing\n",
      "DEBUG:cmdstanpy:input tempfile: /var/folders/g0/77v1jc9s455cj14mkqcht0m00000gn/T/tmpkkkhy8l6/f3mw3kwv.json\n",
      "DEBUG:cmdstanpy:input tempfile: /var/folders/g0/77v1jc9s455cj14mkqcht0m00000gn/T/tmpkkkhy8l6/3vjj1y44.json\n",
      "DEBUG:cmdstanpy:idx 0\n",
      "DEBUG:cmdstanpy:running CmdStan, num_threads: 1\n",
      "DEBUG:cmdstanpy:CmdStan args: ['/Users/towinazure/edwinnglabs/orbit/orbit/stan/dlt', 'random', 'seed=2022', 'data', 'file=/var/folders/g0/77v1jc9s455cj14mkqcht0m00000gn/T/tmpkkkhy8l6/f3mw3kwv.json', 'init=/var/folders/g0/77v1jc9s455cj14mkqcht0m00000gn/T/tmpkkkhy8l6/3vjj1y44.json', 'output', 'file=/var/folders/g0/77v1jc9s455cj14mkqcht0m00000gn/T/tmpkkkhy8l6/dlt_ycjui6g/dlt-20230106165102.csv', 'method=optimize']\n",
      "16:51:02 - cmdstanpy - INFO - Chain [1] start processing\n",
      "INFO:cmdstanpy:Chain [1] start processing\n",
      "16:51:02 - cmdstanpy - INFO - Chain [1] done processing\n",
      "INFO:cmdstanpy:Chain [1] done processing\n",
      "DEBUG:cmdstanpy:input tempfile: /var/folders/g0/77v1jc9s455cj14mkqcht0m00000gn/T/tmpkkkhy8l6/f7xn8o_m.json\n",
      "DEBUG:cmdstanpy:input tempfile: /var/folders/g0/77v1jc9s455cj14mkqcht0m00000gn/T/tmpkkkhy8l6/xcan56bq.json\n",
      "DEBUG:cmdstanpy:idx 0\n",
      "DEBUG:cmdstanpy:running CmdStan, num_threads: 1\n",
      "DEBUG:cmdstanpy:CmdStan args: ['/Users/towinazure/edwinnglabs/orbit/orbit/stan/dlt', 'random', 'seed=2022', 'data', 'file=/var/folders/g0/77v1jc9s455cj14mkqcht0m00000gn/T/tmpkkkhy8l6/f7xn8o_m.json', 'init=/var/folders/g0/77v1jc9s455cj14mkqcht0m00000gn/T/tmpkkkhy8l6/xcan56bq.json', 'output', 'file=/var/folders/g0/77v1jc9s455cj14mkqcht0m00000gn/T/tmpkkkhy8l6/dlt44aeasve/dlt-20230106165102.csv', 'method=optimize']\n",
      "16:51:02 - cmdstanpy - INFO - Chain [1] start processing\n",
      "INFO:cmdstanpy:Chain [1] start processing\n",
      "16:51:02 - cmdstanpy - INFO - Chain [1] done processing\n",
      "INFO:cmdstanpy:Chain [1] done processing\n",
      "DEBUG:cmdstanpy:input tempfile: /var/folders/g0/77v1jc9s455cj14mkqcht0m00000gn/T/tmpkkkhy8l6/pmc0_cci.json\n",
      "DEBUG:cmdstanpy:input tempfile: /var/folders/g0/77v1jc9s455cj14mkqcht0m00000gn/T/tmpkkkhy8l6/g7khcwrx.json\n",
      "DEBUG:cmdstanpy:idx 0\n",
      "DEBUG:cmdstanpy:running CmdStan, num_threads: 1\n",
      "DEBUG:cmdstanpy:CmdStan args: ['/Users/towinazure/edwinnglabs/orbit/orbit/stan/dlt', 'random', 'seed=2022', 'data', 'file=/var/folders/g0/77v1jc9s455cj14mkqcht0m00000gn/T/tmpkkkhy8l6/pmc0_cci.json', 'init=/var/folders/g0/77v1jc9s455cj14mkqcht0m00000gn/T/tmpkkkhy8l6/g7khcwrx.json', 'output', 'file=/var/folders/g0/77v1jc9s455cj14mkqcht0m00000gn/T/tmpkkkhy8l6/dltcjtomsbj/dlt-20230106165102.csv', 'method=optimize']\n",
      "16:51:02 - cmdstanpy - INFO - Chain [1] start processing\n",
      "INFO:cmdstanpy:Chain [1] start processing\n",
      "16:51:02 - cmdstanpy - INFO - Chain [1] done processing\n",
      "INFO:cmdstanpy:Chain [1] done processing\n"
     ]
    },
    {
     "name": "stdout",
     "output_type": "stream",
     "text": [
      "BIC value with 1 regressors: 1247.444\n",
      "------------------------------------------------------------------\n",
      "BIC value with 2 regressors: 1191.902\n",
      "------------------------------------------------------------------\n",
      "BIC value with 3 regressors: 1139.408\n",
      "------------------------------------------------------------------\n"
     ]
    },
    {
     "name": "stderr",
     "output_type": "stream",
     "text": [
      "DEBUG:cmdstanpy:input tempfile: /var/folders/g0/77v1jc9s455cj14mkqcht0m00000gn/T/tmpkkkhy8l6/i6j3lijk.json\n",
      "DEBUG:cmdstanpy:input tempfile: /var/folders/g0/77v1jc9s455cj14mkqcht0m00000gn/T/tmpkkkhy8l6/dh61qq3y.json\n",
      "DEBUG:cmdstanpy:idx 0\n",
      "DEBUG:cmdstanpy:running CmdStan, num_threads: 1\n",
      "DEBUG:cmdstanpy:CmdStan args: ['/Users/towinazure/edwinnglabs/orbit/orbit/stan/dlt', 'random', 'seed=2022', 'data', 'file=/var/folders/g0/77v1jc9s455cj14mkqcht0m00000gn/T/tmpkkkhy8l6/i6j3lijk.json', 'init=/var/folders/g0/77v1jc9s455cj14mkqcht0m00000gn/T/tmpkkkhy8l6/dh61qq3y.json', 'output', 'file=/var/folders/g0/77v1jc9s455cj14mkqcht0m00000gn/T/tmpkkkhy8l6/dltzyd3bqbg/dlt-20230106165103.csv', 'method=optimize']\n",
      "16:51:03 - cmdstanpy - INFO - Chain [1] start processing\n",
      "INFO:cmdstanpy:Chain [1] start processing\n",
      "16:51:03 - cmdstanpy - INFO - Chain [1] done processing\n",
      "INFO:cmdstanpy:Chain [1] done processing\n",
      "DEBUG:cmdstanpy:input tempfile: /var/folders/g0/77v1jc9s455cj14mkqcht0m00000gn/T/tmpkkkhy8l6/wtsf3_sv.json\n",
      "DEBUG:cmdstanpy:input tempfile: /var/folders/g0/77v1jc9s455cj14mkqcht0m00000gn/T/tmpkkkhy8l6/of12f3up.json\n",
      "DEBUG:cmdstanpy:idx 0\n",
      "DEBUG:cmdstanpy:running CmdStan, num_threads: 1\n",
      "DEBUG:cmdstanpy:CmdStan args: ['/Users/towinazure/edwinnglabs/orbit/orbit/stan/dlt', 'random', 'seed=2022', 'data', 'file=/var/folders/g0/77v1jc9s455cj14mkqcht0m00000gn/T/tmpkkkhy8l6/wtsf3_sv.json', 'init=/var/folders/g0/77v1jc9s455cj14mkqcht0m00000gn/T/tmpkkkhy8l6/of12f3up.json', 'output', 'file=/var/folders/g0/77v1jc9s455cj14mkqcht0m00000gn/T/tmpkkkhy8l6/dltr5cvp4p0/dlt-20230106165103.csv', 'method=optimize']\n",
      "16:51:03 - cmdstanpy - INFO - Chain [1] start processing\n",
      "INFO:cmdstanpy:Chain [1] start processing\n",
      "16:51:03 - cmdstanpy - INFO - Chain [1] done processing\n",
      "INFO:cmdstanpy:Chain [1] done processing\n",
      "DEBUG:cmdstanpy:input tempfile: /var/folders/g0/77v1jc9s455cj14mkqcht0m00000gn/T/tmpkkkhy8l6/93lq31ug.json\n",
      "DEBUG:cmdstanpy:input tempfile: /var/folders/g0/77v1jc9s455cj14mkqcht0m00000gn/T/tmpkkkhy8l6/6i4c5j9q.json\n",
      "DEBUG:cmdstanpy:idx 0\n",
      "DEBUG:cmdstanpy:running CmdStan, num_threads: 1\n",
      "DEBUG:cmdstanpy:CmdStan args: ['/Users/towinazure/edwinnglabs/orbit/orbit/stan/dlt', 'random', 'seed=2022', 'data', 'file=/var/folders/g0/77v1jc9s455cj14mkqcht0m00000gn/T/tmpkkkhy8l6/93lq31ug.json', 'init=/var/folders/g0/77v1jc9s455cj14mkqcht0m00000gn/T/tmpkkkhy8l6/6i4c5j9q.json', 'output', 'file=/var/folders/g0/77v1jc9s455cj14mkqcht0m00000gn/T/tmpkkkhy8l6/dltou8ln5lo/dlt-20230106165103.csv', 'method=optimize']\n",
      "16:51:03 - cmdstanpy - INFO - Chain [1] start processing\n",
      "INFO:cmdstanpy:Chain [1] start processing\n"
     ]
    },
    {
     "name": "stdout",
     "output_type": "stream",
     "text": [
      "BIC value with 4 regressors: 1079.642\n",
      "------------------------------------------------------------------\n",
      "BIC value with 5 regressors: 1082.418\n",
      "------------------------------------------------------------------\n",
      "BIC value with 6 regressors: 1082.366\n",
      "------------------------------------------------------------------\n"
     ]
    },
    {
     "name": "stderr",
     "output_type": "stream",
     "text": [
      "16:51:03 - cmdstanpy - INFO - Chain [1] done processing\n",
      "INFO:cmdstanpy:Chain [1] done processing\n",
      "DEBUG:cmdstanpy:input tempfile: /var/folders/g0/77v1jc9s455cj14mkqcht0m00000gn/T/tmpkkkhy8l6/kq981gxs.json\n",
      "DEBUG:cmdstanpy:input tempfile: /var/folders/g0/77v1jc9s455cj14mkqcht0m00000gn/T/tmpkkkhy8l6/dj1cgq8b.json\n",
      "DEBUG:cmdstanpy:idx 0\n",
      "DEBUG:cmdstanpy:running CmdStan, num_threads: 1\n",
      "DEBUG:cmdstanpy:CmdStan args: ['/Users/towinazure/edwinnglabs/orbit/orbit/stan/dlt', 'random', 'seed=2022', 'data', 'file=/var/folders/g0/77v1jc9s455cj14mkqcht0m00000gn/T/tmpkkkhy8l6/kq981gxs.json', 'init=/var/folders/g0/77v1jc9s455cj14mkqcht0m00000gn/T/tmpkkkhy8l6/dj1cgq8b.json', 'output', 'file=/var/folders/g0/77v1jc9s455cj14mkqcht0m00000gn/T/tmpkkkhy8l6/dltvfgxu7ku/dlt-20230106165103.csv', 'method=optimize']\n",
      "16:51:03 - cmdstanpy - INFO - Chain [1] start processing\n",
      "INFO:cmdstanpy:Chain [1] start processing\n",
      "16:51:03 - cmdstanpy - INFO - Chain [1] done processing\n",
      "INFO:cmdstanpy:Chain [1] done processing\n",
      "DEBUG:cmdstanpy:input tempfile: /var/folders/g0/77v1jc9s455cj14mkqcht0m00000gn/T/tmpkkkhy8l6/27utkq7k.json\n",
      "DEBUG:cmdstanpy:input tempfile: /var/folders/g0/77v1jc9s455cj14mkqcht0m00000gn/T/tmpkkkhy8l6/vs1dpt8m.json\n",
      "DEBUG:cmdstanpy:idx 0\n",
      "DEBUG:cmdstanpy:running CmdStan, num_threads: 1\n",
      "DEBUG:cmdstanpy:CmdStan args: ['/Users/towinazure/edwinnglabs/orbit/orbit/stan/dlt', 'random', 'seed=2022', 'data', 'file=/var/folders/g0/77v1jc9s455cj14mkqcht0m00000gn/T/tmpkkkhy8l6/27utkq7k.json', 'init=/var/folders/g0/77v1jc9s455cj14mkqcht0m00000gn/T/tmpkkkhy8l6/vs1dpt8m.json', 'output', 'file=/var/folders/g0/77v1jc9s455cj14mkqcht0m00000gn/T/tmpkkkhy8l6/dltkq4kwhwk/dlt-20230106165103.csv', 'method=optimize']\n",
      "16:51:03 - cmdstanpy - INFO - Chain [1] start processing\n",
      "INFO:cmdstanpy:Chain [1] start processing\n",
      "16:51:03 - cmdstanpy - INFO - Chain [1] done processing\n",
      "INFO:cmdstanpy:Chain [1] done processing\n",
      "DEBUG:cmdstanpy:input tempfile: /var/folders/g0/77v1jc9s455cj14mkqcht0m00000gn/T/tmpkkkhy8l6/tb9w9pcq.json\n",
      "DEBUG:cmdstanpy:input tempfile: /var/folders/g0/77v1jc9s455cj14mkqcht0m00000gn/T/tmpkkkhy8l6/rxjb_fhc.json\n",
      "DEBUG:cmdstanpy:idx 0\n",
      "DEBUG:cmdstanpy:running CmdStan, num_threads: 1\n",
      "DEBUG:cmdstanpy:CmdStan args: ['/Users/towinazure/edwinnglabs/orbit/orbit/stan/dlt', 'random', 'seed=2022', 'data', 'file=/var/folders/g0/77v1jc9s455cj14mkqcht0m00000gn/T/tmpkkkhy8l6/tb9w9pcq.json', 'init=/var/folders/g0/77v1jc9s455cj14mkqcht0m00000gn/T/tmpkkkhy8l6/rxjb_fhc.json', 'output', 'file=/var/folders/g0/77v1jc9s455cj14mkqcht0m00000gn/T/tmpkkkhy8l6/dltntwz9gs2/dlt-20230106165103.csv', 'method=optimize']\n",
      "16:51:03 - cmdstanpy - INFO - Chain [1] start processing\n",
      "INFO:cmdstanpy:Chain [1] start processing\n"
     ]
    },
    {
     "name": "stdout",
     "output_type": "stream",
     "text": [
      "BIC value with 7 regressors: 1082.221\n",
      "------------------------------------------------------------------\n",
      "BIC value with 8 regressors: 1081.726\n",
      "------------------------------------------------------------------\n",
      "BIC value with 9 regressors: 1081.526\n",
      "------------------------------------------------------------------\n"
     ]
    },
    {
     "name": "stderr",
     "output_type": "stream",
     "text": [
      "16:51:03 - cmdstanpy - INFO - Chain [1] done processing\n",
      "INFO:cmdstanpy:Chain [1] done processing\n"
     ]
    },
    {
     "name": "stdout",
     "output_type": "stream",
     "text": [
      "BIC value with 10 regressors: 1189.381\n",
      "------------------------------------------------------------------\n",
      "CPU times: user 413 ms, sys: 412 ms, total: 825 ms\n",
      "Wall time: 823 ms\n"
     ]
    }
   ],
   "source": [
    "%%time\n",
    "BIC_ls = []\n",
    "for k in range(0, NUM_OF_REGRESSORS):\n",
    "    regressor_col = x_cols[:k + 1]\n",
    "    dlt_mod = DLT(\n",
    "        estimator='stan-map',\n",
    "        response_col=response_col,\n",
    "        date_col=dt_col,\n",
    "        regressor_col=regressor_col,\n",
    "        seed=2022,\n",
    "        # fixing the smoothing parameters to learn regression coefficients more effectively\n",
    "        level_sm_input=0.01,\n",
    "        slope_sm_input=0.01,\n",
    "        )\n",
    "    dlt_mod.fit(df=df)\n",
    "    BIC_temp = dlt_mod.get_bic() \n",
    "    print(\"BIC value with {:d} regressors: {:.3f}\".format(k + 1, BIC_temp))\n",
    "    print('------------------------------------------------------------------')\n",
    "    BIC_ls.append(BIC_temp)"
   ]
  },
  {
   "cell_type": "markdown",
   "metadata": {},
   "source": [
    "The plot below shows the BIC vs the number of features (blue line). The true model is indicated by the vertical red line. The horizontal gray line shows the minimum (optimal) value. The minimum is at the true value. "
   ]
  },
  {
   "cell_type": "code",
   "execution_count": 9,
   "metadata": {
    "ExecuteTime": {
     "end_time": "2022-03-25T01:06:52.363849Z",
     "start_time": "2022-03-25T01:06:52.193136Z"
    }
   },
   "outputs": [
    {
     "data": {
      "image/png": "[encoded data removed]",
      "text/plain": [
       "<Figure size 960x480 with 1 Axes>"
      ]
     },
     "metadata": {},
     "output_type": "display_data"
    }
   ],
   "source": [
    "labels = [\"DLT_{}\".format(x) for x in range(1, NUM_OF_REGRESSORS + 1)]\n",
    "fig, ax = plt.subplots(1, 1,figsize=(12, 6), dpi=80)\n",
    "markerline, stemlines, baseline = ax.stem(\n",
    "    np.arange(len(labels)), np.array(BIC_ls), label='BIC', markerfmt='D')\n",
    "baseline.set_color('none')\n",
    "markerline.set_markersize(12)\n",
    "ax.set_ylim(1020, )\n",
    "ax.set_xticks(np.arange(len(labels)))\n",
    "ax.set_xticklabels(labels)\n",
    "# because list type is mixed index from 1;\n",
    "ax.axvline(x=NUM_OF_EFFECTIVE_REGRESSORS - 1, color='red', linewidth=3, alpha=0.5, linestyle='-', label='truth') \n",
    "ax.set_ylabel(\"BIC\")\n",
    "ax.set_xlabel(\"# of Features\")\n",
    "ax.legend();"
   ]
  },
  {
   "cell_type": "markdown",
   "metadata": {},
   "source": [
    "## References\n",
    "\n",
    "1. Watanabe Sumio (2010). \"Asymptotic Equivalence of Bayes Cross Validation and Widely Applicable Information Criterion in Singular Learning Theory\". Journal of Machine Learning Research. 11: 3571–3594.\n",
    "2. McElreath Richard (2015). \"Statistical Rethinking: A Bayesian course with examples in R and Stan\" Secound Ed. 193-221.\n",
    "3. Vehtari Aki, Gelman Andrew, Gabry Jonah (2016) \"Practical Bayesian model evaluation using leave-one-out cross-validation and WAIC\"\n"
   ]
  }
 ],
 "metadata": {
  "kernelspec": {
   "display_name": "orbit39-cmdstan",
   "language": "python",
   "name": "orbit39-cmdstan"
  },
  "language_info": {
   "codemirror_mode": {
    "name": "ipython",
    "version": 3
   },
   "file_extension": ".py",
   "mimetype": "text/x-python",
   "name": "python",
   "nbconvert_exporter": "python",
   "pygments_lexer": "ipython3",
   "version": "3.9.15"
  },
  "toc": {
   "base_numbering": 1,
   "nav_menu": {},
   "number_sections": true,
   "sideBar": true,
   "skip_h1_title": true,
   "title_cell": "Table of Contents",
   "title_sidebar": "Contents",
   "toc_cell": false,
   "toc_position": {},
   "toc_section_display": true,
   "toc_window_display": true
  }
 },
 "nbformat": 4,
 "nbformat_minor": 4
}
