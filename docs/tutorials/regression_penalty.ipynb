{
 "cells": [
  {
   "cell_type": "markdown",
   "metadata": {},
   "source": [
    "# Regression Penalties in DLT"
   ]
  },
  {
   "cell_type": "markdown",
   "metadata": {},
   "source": [
    "This notebook continues to discuss regression problems with DLT and covers various penalties:\n",
    "\n",
    "1. `fixed-ridge`\n",
    "2. `auto-ridge`\n",
    "3. `lasso`\n",
    "\n",
    "Generally speaking, regression coefficients are more robust under full Bayesian sampling and estimation.  The default setting `estimator='stan-mcmc'` will be used in this tutorial. Besides, a fixed and small smoothing parameters are used such as `level_sm_input=0.01` and `slope_sm_input=0.01` to facilitate  high dimensional regression."
   ]
  },
  {
   "cell_type": "code",
   "execution_count": 1,
   "metadata": {
    "ExecuteTime": {
     "end_time": "2022-04-28T21:49:43.395926Z",
     "start_time": "2022-04-28T21:49:40.870237Z"
    }
   },
   "outputs": [],
   "source": [
    "%matplotlib inline\n",
    "\n",
    "import matplotlib.pyplot as plt\n",
    "import numpy as np\n",
    "\n",
    "import orbit\n",
    "from orbit.utils.dataset import load_iclaims\n",
    "from orbit.models import DLT\n",
    "from orbit.diagnostics.plot import plot_predicted_data\n",
    "from orbit.constants.palette import OrbitPalette"
   ]
  },
  {
   "cell_type": "code",
   "execution_count": 2,
   "metadata": {
    "ExecuteTime": {
     "end_time": "2022-04-28T21:49:43.400898Z",
     "start_time": "2022-04-28T21:49:43.398300Z"
    }
   },
   "outputs": [
    {
     "name": "stdout",
     "output_type": "stream",
     "text": [
      "1.1.3\n"
     ]
    }
   ],
   "source": [
    "print(orbit.__version__)"
   ]
  },
  {
   "cell_type": "markdown",
   "metadata": {},
   "source": [
    "## Regression on Simulated Dataset\n",
    "\n",
    "A simulated dataset is used to demonstrate sparse regression."
   ]
  },
  {
   "cell_type": "code",
   "execution_count": 3,
   "metadata": {
    "ExecuteTime": {
     "end_time": "2021-08-20T23:41:21.684510Z",
     "start_time": "2021-08-20T23:41:21.664310Z"
    }
   },
   "outputs": [],
   "source": [
    "import pandas as pd\n",
    "from orbit.utils.simulation import make_trend, make_regression\n",
    "from orbit.diagnostics.metrics import mse"
   ]
  },
  {
   "cell_type": "markdown",
   "metadata": {},
   "source": [
    "A few utilities from the package is used to generate simulated data. For details, please refer to the API doc. In brief, the process generates observations $y$ such that\n",
    "\n",
    "$$y_t = l_t + \\sum_p^{P} \\beta_p  x_{t, p}$$  \n",
    "$$\\text{ for } t = 1,2, \\cdots , T$$\n",
    "\n",
    "where\n",
    "\n",
    "$$l_t = l_{t-1} + \\delta_t$$\n",
    "$$\\delta_t \\sim N(0, \\sigma_{\\delta})$$\n",
    "\n"
   ]
  },
  {
   "cell_type": "markdown",
   "metadata": {},
   "source": [
    "### Regular Regression\n",
    "\n",
    "To begin with, the setting $P=10$ and $T=100$ is used."
   ]
  },
  {
   "cell_type": "code",
   "execution_count": 4,
   "metadata": {
    "ExecuteTime": {
     "end_time": "2021-08-20T23:41:21.692493Z",
     "start_time": "2021-08-20T23:41:21.686578Z"
    }
   },
   "outputs": [
    {
     "name": "stdout",
     "output_type": "stream",
     "text": [
      "(50,) (50, 10)\n"
     ]
    }
   ],
   "source": [
    "NUM_OF_REGRESSORS = 10\n",
    "SERIES_LEN = 50\n",
    "SEED = 20210101\n",
    "# sample some coefficients\n",
    "COEFS = np.random.default_rng(SEED).uniform(-1, 1, NUM_OF_REGRESSORS)\n",
    "trend = make_trend(SERIES_LEN, rw_loc=0.01, rw_scale=0.1)\n",
    "x, regression, coefs = make_regression(series_len=SERIES_LEN, coefs=COEFS)\n",
    "print(regression.shape, x.shape)"
   ]
  },
  {
   "cell_type": "code",
   "execution_count": 5,
   "metadata": {
    "ExecuteTime": {
     "end_time": "2021-08-20T23:41:21.698022Z",
     "start_time": "2021-08-20T23:41:21.695046Z"
    }
   },
   "outputs": [],
   "source": [
    "# combine trend and the regression\n",
    "y = trend + regression"
   ]
  },
  {
   "cell_type": "code",
   "execution_count": 6,
   "metadata": {
    "ExecuteTime": {
     "end_time": "2021-08-20T23:41:21.711159Z",
     "start_time": "2021-08-20T23:41:21.700567Z"
    }
   },
   "outputs": [
    {
     "data": {
      "text/plain": [
       "(50, 12)"
      ]
     },
     "execution_count": 6,
     "metadata": {},
     "output_type": "execute_result"
    }
   ],
   "source": [
    "x_cols = [f\"x{x}\" for x in range(1, NUM_OF_REGRESSORS + 1)]\n",
    "response_col = \"y\"\n",
    "dt_col = \"date\"\n",
    "obs_matrix = np.concatenate([y.reshape(-1, 1), x], axis=1)\n",
    "# make a data frame for orbit inputs\n",
    "df = pd.DataFrame(obs_matrix, columns=[response_col] + x_cols)\n",
    "# make some dummy date stamp\n",
    "dt = pd.date_range(start='2016-01-04', periods=SERIES_LEN, freq=\"1W\")\n",
    "df['date'] = dt\n",
    "df.shape"
   ]
  },
  {
   "cell_type": "markdown",
   "metadata": {},
   "source": [
    "Here is a peek on the coefficients."
   ]
  },
  {
   "cell_type": "code",
   "execution_count": 7,
   "metadata": {
    "ExecuteTime": {
     "end_time": "2021-08-20T23:41:21.717168Z",
     "start_time": "2021-08-20T23:41:21.713028Z"
    }
   },
   "outputs": [
    {
     "data": {
      "text/plain": [
       "array([ 0.38372743, -0.21084054,  0.5404565 , -0.21864409,  0.85529298,\n",
       "       -0.83838077, -0.54550632,  0.80367924, -0.74643654, -0.26626975])"
      ]
     },
     "execution_count": 7,
     "metadata": {},
     "output_type": "execute_result"
    }
   ],
   "source": [
    "coefs"
   ]
  },
  {
   "cell_type": "markdown",
   "metadata": {},
   "source": []
  },
  {
   "cell_type": "markdown",
   "metadata": {},
   "source": [
    "By default, `regression_penalty` is set as `fixed-ridge` i.e.\n",
    "\n",
    "$$\\beta_j ~\\sim \\mathcal{N}(\\mu_j, \\sigma_j^2)$$\n",
    "\n",
    "with a default $\\mu_j = 0$ and $\\sigma_j = 1$ "
   ]
  },
  {
   "cell_type": "markdown",
   "metadata": {},
   "source": [
    "#### Fixed Ridge Penalty"
   ]
  },
  {
   "cell_type": "code",
   "execution_count": 8,
   "metadata": {
    "ExecuteTime": {
     "end_time": "2021-08-20T23:41:23.984750Z",
     "start_time": "2021-08-20T23:41:21.719782Z"
    }
   },
   "outputs": [
    {
     "name": "stderr",
     "output_type": "stream",
     "text": [
      "INFO:orbit:Sampling (PyStan) with chains: 4, cores: 8, temperature: 1.000, warmups (per chain): 1000 and samples(per chain): 25.\n",
      "WARNING:pystan:n_eff / iter below 0.001 indicates that the effective sample size has likely been overestimated\n",
      "WARNING:pystan:Rhat above 1.1 or below 0.9 indicates that the chains very likely have not mixed\n"
     ]
    },
    {
     "name": "stdout",
     "output_type": "stream",
     "text": [
      "CPU times: user 46.3 ms, sys: 43 ms, total: 89.3 ms\n",
      "Wall time: 1.4 s\n"
     ]
    },
    {
     "data": {
      "text/plain": [
       "<orbit.forecaster.full_bayes.FullBayesianForecaster at 0x177f1f610>"
      ]
     },
     "execution_count": 8,
     "metadata": {},
     "output_type": "execute_result"
    }
   ],
   "source": [
    "%%time\n",
    "dlt_fridge = DLT(\n",
    "    response_col=response_col,\n",
    "    date_col=dt_col,\n",
    "    regressor_col=x_cols,\n",
    "    seed=SEED,\n",
    "    # this is default\n",
    "    regression_penalty='fixed_ridge',\n",
    "    # fixing the smoothing parameters to learn regression coefficients more effectively\n",
    "    level_sm_input=0.01,\n",
    "    slope_sm_input=0.01,\n",
    "    num_warmup=4000,\n",
    ")\n",
    "dlt_fridge.fit(df=df)"
   ]
  },
  {
   "cell_type": "code",
   "execution_count": 9,
   "metadata": {
    "ExecuteTime": {
     "end_time": "2021-08-20T23:41:24.279682Z",
     "start_time": "2021-08-20T23:41:23.987572Z"
    }
   },
   "outputs": [
    {
     "data": {
      "image/png": "[encoded data removed]",
      "text/plain": [
       "<Figure size 1440x576 with 1 Axes>"
      ]
     },
     "metadata": {
      "needs_background": "light"
     },
     "output_type": "display_data"
    }
   ],
   "source": [
    "coef_fridge = np.quantile(dlt_fridge._posterior_samples['beta'], q=[0.05, 0.5, 0.95], axis=0 )\n",
    "lw=3\n",
    "idx = np.arange(NUM_OF_REGRESSORS)\n",
    "plt.figure(figsize=(20, 8))\n",
    "plt.title(\"Weights of the model\", fontsize=20)\n",
    "plt.plot(idx, coef_fridge[1], color=OrbitPalette.GREEN.value, linewidth=lw,  drawstyle='steps', label='Fixed-Ridge', alpha=0.5, linestyle='--')\n",
    "plt.fill_between(idx, coef_fridge[0], coef_fridge[2], step='pre', alpha=0.3, color=OrbitPalette.GREEN.value)\n",
    "plt.plot(coefs, color=\"black\", linewidth=lw,  drawstyle='steps', label=\"Ground truth\")\n",
    "plt.ylim(1, -1)\n",
    "plt.legend(prop={'size': 20})\n",
    "plt.grid()"
   ]
  },
  {
   "cell_type": "markdown",
   "metadata": {},
   "source": [
    "#### Auto-Ridge Penalty"
   ]
  },
  {
   "cell_type": "markdown",
   "metadata": {},
   "source": [
    "Users can also set the `regression_penalty` to be `auto-ridge` in case users are not sure what to set for the `regressor_sigma_prior`."
   ]
  },
  {
   "cell_type": "markdown",
   "metadata": {},
   "source": [
    "Instead of using fixed scale in the coefficients prior, a prior can be assigned to them, i.e.\n",
    "\n",
    "$$ \\sigma_j \\sim \\text{Cauchy}^{+} {(0, \\alpha)} $$\n",
    "\n",
    "This can be done by setting `regression_penalty=\"auto_ridge\"` with the argument `auto_ridge_scale` (default of `0.5`) set the prior $\\alpha$. A higher `adapt_delta` is recommend to reduce divergence.  Check [here](https://mc-stan.org/rstanarm/reference/adapt_delta.html) for details of `adapt_delta`."
   ]
  },
  {
   "cell_type": "code",
   "execution_count": 10,
   "metadata": {
    "ExecuteTime": {
     "end_time": "2021-08-20T23:41:29.092925Z",
     "start_time": "2021-08-20T23:41:24.281661Z"
    }
   },
   "outputs": [
    {
     "name": "stderr",
     "output_type": "stream",
     "text": [
      "INFO:orbit:Sampling (PyStan) with chains: 4, cores: 8, temperature: 1.000, warmups (per chain): 1000 and samples(per chain): 25.\n",
      "WARNING:pystan:n_eff / iter below 0.001 indicates that the effective sample size has likely been overestimated\n",
      "WARNING:pystan:Rhat above 1.1 or below 0.9 indicates that the chains very likely have not mixed\n"
     ]
    },
    {
     "name": "stdout",
     "output_type": "stream",
     "text": [
      "CPU times: user 210 ms, sys: 84.7 ms, total: 295 ms\n",
      "Wall time: 2.53 s\n"
     ]
    },
    {
     "data": {
      "text/plain": [
       "<orbit.forecaster.full_bayes.FullBayesianForecaster at 0x178041f70>"
      ]
     },
     "execution_count": 10,
     "metadata": {},
     "output_type": "execute_result"
    }
   ],
   "source": [
    "%%time\n",
    "dlt_auto_ridge = DLT(\n",
    "    response_col=response_col,\n",
    "    date_col=dt_col,\n",
    "    regressor_col=x_cols,\n",
    "    seed=SEED,\n",
    "    # this is default\n",
    "    regression_penalty='auto_ridge',\n",
    "    # fixing the smoothing parameters to learn regression coefficients more effectively\n",
    "    level_sm_input=0.01,\n",
    "    slope_sm_input=0.01,\n",
    "    num_warmup=4000,\n",
    "    # reduce divergence \n",
    "    stan_mcmc_control={'adapt_delta':0.9},\n",
    ")\n",
    "dlt_auto_ridge.fit(df=df)"
   ]
  },
  {
   "cell_type": "code",
   "execution_count": 11,
   "metadata": {
    "ExecuteTime": {
     "end_time": "2021-08-20T23:41:29.312900Z",
     "start_time": "2021-08-20T23:41:29.094900Z"
    }
   },
   "outputs": [
    {
     "data": {
      "image/png": "[encoded data removed]",
      "text/plain": [
       "<Figure size 1440x576 with 1 Axes>"
      ]
     },
     "metadata": {
      "needs_background": "light"
     },
     "output_type": "display_data"
    }
   ],
   "source": [
    "coef_auto_ridge = np.quantile(dlt_auto_ridge._posterior_samples['beta'], q=[0.05, 0.5, 0.95], axis=0 )\n",
    "lw=3\n",
    "idx = np.arange(NUM_OF_REGRESSORS)\n",
    "plt.figure(figsize=(20, 8))\n",
    "plt.title(\"Weights of the model\", fontsize=24)\n",
    "plt.plot(idx, coef_auto_ridge[1], color=OrbitPalette.GREEN.value, linewidth=lw,  drawstyle='steps', label='Auto-Ridge', alpha=0.5, linestyle='--')\n",
    "plt.fill_between(idx, coef_auto_ridge[0], coef_auto_ridge[2], step='pre', alpha=0.3, color=OrbitPalette.GREEN.value)\n",
    "plt.plot(coefs, color=\"black\", linewidth=lw,  drawstyle='steps', label=\"Ground truth\")\n",
    "plt.ylim(1, -1)\n",
    "plt.legend(prop={'size': 20})\n",
    "plt.grid();"
   ]
  },
  {
   "cell_type": "code",
   "execution_count": 12,
   "metadata": {
    "ExecuteTime": {
     "end_time": "2021-08-20T23:41:29.317298Z",
     "start_time": "2021-08-20T23:41:29.314547Z"
    }
   },
   "outputs": [
    {
     "name": "stdout",
     "output_type": "stream",
     "text": [
      "Fixed Ridge MSE:0.103\n",
      "Auto Ridge MSE:0.075\n"
     ]
    }
   ],
   "source": [
    "print('Fixed Ridge MSE:{:.3f}\\nAuto Ridge MSE:{:.3f}'.format(\n",
    "    mse(coef_fridge[1], coefs), mse(coef_auto_ridge[1], coefs)\n",
    "))"
   ]
  },
  {
   "cell_type": "markdown",
   "metadata": {},
   "source": [
    "### Sparse Regrssion\n",
    "\n",
    "In reality, users usually faces a more challenging problem with a much higher $P$ to $N$ ratio with a sparsity specified by the parameter `relevance=0.5` under the simulation process."
   ]
  },
  {
   "cell_type": "code",
   "execution_count": 13,
   "metadata": {
    "ExecuteTime": {
     "end_time": "2021-08-20T23:41:29.329485Z",
     "start_time": "2021-08-20T23:41:29.323077Z"
    }
   },
   "outputs": [
    {
     "name": "stdout",
     "output_type": "stream",
     "text": [
      "(50,) (50, 50)\n"
     ]
    }
   ],
   "source": [
    "NUM_OF_REGRESSORS = 50\n",
    "SERIES_LEN = 50\n",
    "SEED = 20210101\n",
    "COEFS = np.random.default_rng(SEED).uniform(0.3, 0.5, NUM_OF_REGRESSORS)\n",
    "SIGNS = np.random.default_rng(SEED).choice([1, -1], NUM_OF_REGRESSORS)\n",
    "# to mimic a either zero or relative observable coefficients\n",
    "COEFS = COEFS * SIGNS\n",
    "trend = make_trend(SERIES_LEN, rw_loc=0.01, rw_scale=0.1)\n",
    "x, regression, coefs = make_regression(series_len=SERIES_LEN, coefs=COEFS, relevance=0.5)\n",
    "print(regression.shape, x.shape)"
   ]
  },
  {
   "cell_type": "code",
   "execution_count": 14,
   "metadata": {
    "ExecuteTime": {
     "end_time": "2021-08-20T23:41:29.336311Z",
     "start_time": "2021-08-20T23:41:29.331801Z"
    }
   },
   "outputs": [
    {
     "data": {
      "text/plain": [
       "array([ 0.        ,  0.        , -0.45404565,  0.37813559,  0.        ,\n",
       "        0.        ,  0.        ,  0.48036792, -0.32535635, -0.37337302,\n",
       "       -0.42474576,  0.        , -0.37000755,  0.44887456,  0.47082836,\n",
       "        0.        ,  0.32678039,  0.37436121,  0.38932392,  0.40216056,\n",
       "        0.        ,  0.        , -0.3076828 , -0.35036047,  0.        ,\n",
       "        0.        ,  0.        ,  0.        ,  0.        ,  0.        ,\n",
       "       -0.45838674,  0.3171478 ,  0.        ,  0.        ,  0.        ,\n",
       "        0.        ,  0.        ,  0.41599814,  0.        , -0.30964341,\n",
       "       -0.42072894,  0.36255583,  0.        , -0.39326337,  0.44455655,\n",
       "        0.        ,  0.        ,  0.30064161, -0.46083203,  0.        ])"
      ]
     },
     "execution_count": 14,
     "metadata": {},
     "output_type": "execute_result"
    }
   ],
   "source": [
    "# generated sparsed coefficients\n",
    "coefs"
   ]
  },
  {
   "cell_type": "code",
   "execution_count": 15,
   "metadata": {
    "ExecuteTime": {
     "end_time": "2021-08-20T23:41:29.341796Z",
     "start_time": "2021-08-20T23:41:29.338956Z"
    }
   },
   "outputs": [],
   "source": [
    "# combine trend and the regression\n",
    "y = trend + regression"
   ]
  },
  {
   "cell_type": "code",
   "execution_count": 16,
   "metadata": {
    "ExecuteTime": {
     "end_time": "2021-08-20T23:41:29.355537Z",
     "start_time": "2021-08-20T23:41:29.344693Z"
    }
   },
   "outputs": [
    {
     "data": {
      "text/plain": [
       "(50, 52)"
      ]
     },
     "execution_count": 16,
     "metadata": {},
     "output_type": "execute_result"
    }
   ],
   "source": [
    "x_cols = [f\"x{x}\" for x in range(1, NUM_OF_REGRESSORS + 1)]\n",
    "response_col = \"y\"\n",
    "dt_col = \"date\"\n",
    "obs_matrix = np.concatenate([y.reshape(-1, 1), x], axis=1)\n",
    "# make a data frame for orbit inputs\n",
    "df = pd.DataFrame(obs_matrix, columns=[response_col] + x_cols)\n",
    "# make some dummy date stamp\n",
    "dt = pd.date_range(start='2016-01-04', periods=SERIES_LEN, freq=\"1W\")\n",
    "df['date'] = dt\n",
    "df.shape"
   ]
  },
  {
   "cell_type": "markdown",
   "metadata": {},
   "source": [
    "### Fixed Ridge Penalty"
   ]
  },
  {
   "cell_type": "code",
   "execution_count": 17,
   "metadata": {
    "ExecuteTime": {
     "end_time": "2021-08-20T23:41:41.014941Z",
     "start_time": "2021-08-20T23:41:29.357833Z"
    }
   },
   "outputs": [
    {
     "name": "stderr",
     "output_type": "stream",
     "text": [
      "INFO:orbit:Sampling (PyStan) with chains: 4, cores: 8, temperature: 1.000, warmups (per chain): 2000 and samples(per chain): 25.\n",
      "WARNING:pystan:n_eff / iter below 0.001 indicates that the effective sample size has likely been overestimated\n",
      "WARNING:pystan:Rhat above 1.1 or below 0.9 indicates that the chains very likely have not mixed\n"
     ]
    },
    {
     "data": {
      "text/plain": [
       "<orbit.forecaster.full_bayes.FullBayesianForecaster at 0x1783c0340>"
      ]
     },
     "execution_count": 17,
     "metadata": {},
     "output_type": "execute_result"
    }
   ],
   "source": [
    "dlt_fridge = DLT(\n",
    "    response_col=response_col,\n",
    "    date_col=dt_col,\n",
    "    regressor_col=x_cols,\n",
    "    seed=SEED,\n",
    "    level_sm_input=0.01,\n",
    "    slope_sm_input=0.01,\n",
    "    num_warmup=8000,\n",
    ")\n",
    "dlt_fridge.fit(df=df)"
   ]
  },
  {
   "cell_type": "code",
   "execution_count": 18,
   "metadata": {
    "ExecuteTime": {
     "end_time": "2021-08-20T23:41:41.275538Z",
     "start_time": "2021-08-20T23:41:41.017543Z"
    }
   },
   "outputs": [
    {
     "data": {
      "image/png": "[encoded data removed]",
      "text/plain": [
       "<Figure size 1440x576 with 1 Axes>"
      ]
     },
     "metadata": {
      "needs_background": "light"
     },
     "output_type": "display_data"
    }
   ],
   "source": [
    "coef_fridge = np.quantile(dlt_fridge._posterior_samples['beta'], q=[0.05, 0.5, 0.95], axis=0 )\n",
    "lw=3\n",
    "idx = np.arange(NUM_OF_REGRESSORS)\n",
    "plt.figure(figsize=(20, 8))\n",
    "plt.title(\"Weights of the model\", fontsize=24)\n",
    "plt.plot(coef_fridge[1], color=OrbitPalette.GREEN.value, linewidth=lw,  drawstyle='steps', label=\"Ridge\", alpha=0.5, linestyle='--')\n",
    "plt.fill_between(idx, coef_fridge[0], coef_fridge[2], step='pre', alpha=0.3, color=OrbitPalette.GREEN.value)\n",
    "plt.plot(coefs, color=\"black\", linewidth=lw,  drawstyle='steps', label=\"Ground truth\")\n",
    "plt.legend(prop={'size': 20})\n",
    "plt.grid();"
   ]
  },
  {
   "cell_type": "markdown",
   "metadata": {},
   "source": [
    "#### LASSO  Penalty\n",
    "\n",
    "In high $P$ to $N$ problems, *LASS0* penalty usually shines compared to *Ridge* penalty."
   ]
  },
  {
   "cell_type": "code",
   "execution_count": 19,
   "metadata": {
    "ExecuteTime": {
     "end_time": "2021-08-20T23:41:48.887761Z",
     "start_time": "2021-08-20T23:41:41.277444Z"
    }
   },
   "outputs": [
    {
     "name": "stderr",
     "output_type": "stream",
     "text": [
      "INFO:orbit:Sampling (PyStan) with chains: 4, cores: 8, temperature: 1.000, warmups (per chain): 2000 and samples(per chain): 25.\n",
      "WARNING:pystan:n_eff / iter below 0.001 indicates that the effective sample size has likely been overestimated\n",
      "WARNING:pystan:Rhat above 1.1 or below 0.9 indicates that the chains very likely have not mixed\n"
     ]
    },
    {
     "data": {
      "text/plain": [
       "<orbit.forecaster.full_bayes.FullBayesianForecaster at 0x17a5489d0>"
      ]
     },
     "execution_count": 19,
     "metadata": {},
     "output_type": "execute_result"
    }
   ],
   "source": [
    "dlt_lasso = DLT(\n",
    "    response_col=response_col,\n",
    "    date_col=dt_col,\n",
    "    regressor_col=x_cols,\n",
    "    seed=SEED,\n",
    "    regression_penalty='lasso',\n",
    "    level_sm_input=0.01,\n",
    "    slope_sm_input=0.01,\n",
    "    num_warmup=8000,\n",
    ")\n",
    "dlt_lasso.fit(df=df)"
   ]
  },
  {
   "cell_type": "code",
   "execution_count": 20,
   "metadata": {
    "ExecuteTime": {
     "end_time": "2021-08-20T23:41:49.105834Z",
     "start_time": "2021-08-20T23:41:48.890031Z"
    }
   },
   "outputs": [
    {
     "data": {
      "image/png": "[encoded data removed]",
      "text/plain": [
       "<Figure size 1440x576 with 1 Axes>"
      ]
     },
     "metadata": {
      "needs_background": "light"
     },
     "output_type": "display_data"
    }
   ],
   "source": [
    "coef_lasso = np.quantile(dlt_lasso._posterior_samples['beta'], q=[0.05, 0.5, 0.95], axis=0 )\n",
    "lw=3\n",
    "idx = np.arange(NUM_OF_REGRESSORS)\n",
    "plt.figure(figsize=(20, 8))\n",
    "plt.title(\"Weights of the model\", fontsize=24)\n",
    "plt.plot(coef_lasso[1], color=OrbitPalette.GREEN.value, linewidth=lw,  drawstyle='steps', label=\"Lasso\", alpha=0.5, linestyle='--')\n",
    "plt.fill_between(idx, coef_lasso[0], coef_lasso[2], step='pre', alpha=0.3, color=OrbitPalette.GREEN.value)\n",
    "plt.plot(coefs, color=\"black\", linewidth=lw,  drawstyle='steps', label=\"Ground truth\")\n",
    "plt.legend(prop={'size': 20})\n",
    "plt.grid();"
   ]
  },
  {
   "cell_type": "code",
   "execution_count": 21,
   "metadata": {
    "ExecuteTime": {
     "end_time": "2021-08-20T23:41:49.110576Z",
     "start_time": "2021-08-20T23:41:49.107468Z"
    }
   },
   "outputs": [
    {
     "name": "stdout",
     "output_type": "stream",
     "text": [
      "Fixed Ridge MSE:0.174\n",
      "LASSO MSE:0.098\n"
     ]
    }
   ],
   "source": [
    "print('Fixed Ridge MSE:{:.3f}\\nLASSO MSE:{:.3f}'.format(\n",
    "    mse(coef_fridge[1], coefs), mse(coef_lasso[1], coefs)\n",
    "))"
   ]
  },
  {
   "cell_type": "markdown",
   "metadata": {},
   "source": [
    "## Summary\n",
    "\n",
    "This notebook covers a few choices of penalty in regression regularization. A `lasso` and `auto-ridge` can be considered in highly sparse data."
   ]
  }
 ],
 "metadata": {
  "kernelspec": {
   "display_name": "orbit38",
   "language": "python",
   "name": "orbit38"
  },
  "language_info": {
   "codemirror_mode": {
    "name": "ipython",
    "version": 3
   },
   "file_extension": ".py",
   "mimetype": "text/x-python",
   "name": "python",
   "nbconvert_exporter": "python",
   "pygments_lexer": "ipython3",
   "version": "3.8.12"
  },
  "toc": {
   "base_numbering": 1,
   "nav_menu": {},
   "number_sections": true,
   "sideBar": true,
   "skip_h1_title": true,
   "title_cell": "Table of Contents",
   "title_sidebar": "Contents",
   "toc_cell": false,
   "toc_position": {},
   "toc_section_display": true,
   "toc_window_display": true
  }
 },
 "nbformat": 4,
 "nbformat_minor": 4
}
