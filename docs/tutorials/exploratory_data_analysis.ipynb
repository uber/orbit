{
 "cells": [
  {
   "cell_type": "markdown",
   "id": "green-navigation",
   "metadata": {},
   "source": [
    "# EDA Utilities\n",
    "\n",
    "In this section, we will introduce a rich set of plotting functions in orbit for the EDA (exploratory data analysis) purpose. The plots include \n",
    "\n",
    "* Time series heatmap\n",
    "* Correlation heatmap\n",
    "* Dual axis time series plot\n",
    "* Wrap plot"
   ]
  },
  {
   "cell_type": "code",
   "execution_count": 1,
   "id": "specified-cuisine",
   "metadata": {
    "ExecuteTime": {
     "end_time": "2022-04-28T21:47:50.184000Z",
     "start_time": "2022-04-28T21:47:49.135670Z"
    }
   },
   "outputs": [],
   "source": [
    "import seaborn as sns \n",
    "from matplotlib import pyplot as plt \n",
    "import pandas as pd\n",
    "import numpy as np\n",
    "\n",
    "import orbit\n",
    "from orbit.utils.dataset import load_iclaims\n",
    "from orbit.eda import eda_plot"
   ]
  },
  {
   "cell_type": "code",
   "execution_count": 2,
   "id": "important-milwaukee",
   "metadata": {
    "ExecuteTime": {
     "end_time": "2022-04-28T21:47:50.188942Z",
     "start_time": "2022-04-28T21:47:50.186155Z"
    }
   },
   "outputs": [
    {
     "name": "stdout",
     "output_type": "stream",
     "text": [
      "1.1.4dev\n"
     ]
    }
   ],
   "source": [
    "print(orbit.__version__)"
   ]
  },
  {
   "cell_type": "code",
   "execution_count": 3,
   "id": "present-format",
   "metadata": {
    "ExecuteTime": {
     "end_time": "2021-08-20T22:56:02.004434Z",
     "start_time": "2021-08-20T22:56:01.826095Z"
    }
   },
   "outputs": [],
   "source": [
    "df = load_iclaims()\n",
    "df['week'] = pd.to_datetime(df['week'])"
   ]
  },
  {
   "cell_type": "code",
   "execution_count": 4,
   "id": "dimensional-insulation",
   "metadata": {
    "ExecuteTime": {
     "end_time": "2021-08-20T22:56:02.019965Z",
     "start_time": "2021-08-20T22:56:02.006258Z"
    }
   },
   "outputs": [
    {
     "data": {
      "text/html": [
       "<div>\n",
       "<style scoped>\n",
       "    .dataframe tbody tr th:only-of-type {\n",
       "        vertical-align: middle;\n",
       "    }\n",
       "\n",
       "    .dataframe tbody tr th {\n",
       "        vertical-align: top;\n",
       "    }\n",
       "\n",
       "    .dataframe thead th {\n",
       "        text-align: right;\n",
       "    }\n",
       "</style>\n",
       "<table border=\"1\" class=\"dataframe\">\n",
       "  <thead>\n",
       "    <tr style=\"text-align: right;\">\n",
       "      <th></th>\n",
       "      <th>week</th>\n",
       "      <th>claims</th>\n",
       "      <th>trend.unemploy</th>\n",
       "      <th>trend.filling</th>\n",
       "      <th>trend.job</th>\n",
       "      <th>sp500</th>\n",
       "      <th>vix</th>\n",
       "    </tr>\n",
       "  </thead>\n",
       "  <tbody>\n",
       "    <tr>\n",
       "      <th>0</th>\n",
       "      <td>2010-01-03</td>\n",
       "      <td>13.386595</td>\n",
       "      <td>0.219882</td>\n",
       "      <td>-0.318452</td>\n",
       "      <td>0.117500</td>\n",
       "      <td>-0.417633</td>\n",
       "      <td>0.122654</td>\n",
       "    </tr>\n",
       "    <tr>\n",
       "      <th>1</th>\n",
       "      <td>2010-01-10</td>\n",
       "      <td>13.624218</td>\n",
       "      <td>0.219882</td>\n",
       "      <td>-0.194838</td>\n",
       "      <td>0.168794</td>\n",
       "      <td>-0.425480</td>\n",
       "      <td>0.110445</td>\n",
       "    </tr>\n",
       "    <tr>\n",
       "      <th>2</th>\n",
       "      <td>2010-01-17</td>\n",
       "      <td>13.398741</td>\n",
       "      <td>0.236143</td>\n",
       "      <td>-0.292477</td>\n",
       "      <td>0.117500</td>\n",
       "      <td>-0.465229</td>\n",
       "      <td>0.532339</td>\n",
       "    </tr>\n",
       "    <tr>\n",
       "      <th>3</th>\n",
       "      <td>2010-01-24</td>\n",
       "      <td>13.137549</td>\n",
       "      <td>0.203353</td>\n",
       "      <td>-0.194838</td>\n",
       "      <td>0.106918</td>\n",
       "      <td>-0.481751</td>\n",
       "      <td>0.428645</td>\n",
       "    </tr>\n",
       "    <tr>\n",
       "      <th>4</th>\n",
       "      <td>2010-01-31</td>\n",
       "      <td>13.196760</td>\n",
       "      <td>0.134360</td>\n",
       "      <td>-0.242466</td>\n",
       "      <td>0.074483</td>\n",
       "      <td>-0.488929</td>\n",
       "      <td>0.487404</td>\n",
       "    </tr>\n",
       "  </tbody>\n",
       "</table>\n",
       "</div>"
      ],
      "text/plain": [
       "        week     claims  trend.unemploy  trend.filling  trend.job     sp500  \\\n",
       "0 2010-01-03  13.386595        0.219882      -0.318452   0.117500 -0.417633   \n",
       "1 2010-01-10  13.624218        0.219882      -0.194838   0.168794 -0.425480   \n",
       "2 2010-01-17  13.398741        0.236143      -0.292477   0.117500 -0.465229   \n",
       "3 2010-01-24  13.137549        0.203353      -0.194838   0.106918 -0.481751   \n",
       "4 2010-01-31  13.196760        0.134360      -0.242466   0.074483 -0.488929   \n",
       "\n",
       "        vix  \n",
       "0  0.122654  \n",
       "1  0.110445  \n",
       "2  0.532339  \n",
       "3  0.428645  \n",
       "4  0.487404  "
      ]
     },
     "execution_count": 4,
     "metadata": {},
     "output_type": "execute_result"
    }
   ],
   "source": [
    "df.head()"
   ]
  },
  {
   "cell_type": "markdown",
   "id": "decreased-indonesia",
   "metadata": {},
   "source": [
    "## Time series heat map"
   ]
  },
  {
   "cell_type": "code",
   "execution_count": 5,
   "id": "organic-qatar",
   "metadata": {
    "ExecuteTime": {
     "end_time": "2021-08-20T22:56:02.337668Z",
     "start_time": "2021-08-20T22:56:02.021846Z"
    }
   },
   "outputs": [
    {
     "data": {
      "image/png": "[encoded data removed]",
      "text/plain": [
       "<Figure size 800x800 with 2 Axes>"
      ]
     },
     "metadata": {},
     "output_type": "display_data"
    }
   ],
   "source": [
    "_ = eda_plot.ts_heatmap(df = df, date_col = 'week', seasonal_interval=52, value_col='claims')"
   ]
  },
  {
   "cell_type": "code",
   "execution_count": 6,
   "id": "least-amsterdam",
   "metadata": {
    "ExecuteTime": {
     "end_time": "2021-08-20T22:56:02.629032Z",
     "start_time": "2021-08-20T22:56:02.339310Z"
    }
   },
   "outputs": [],
   "source": [
    "_ = eda_plot.ts_heatmap(df = df, date_col = 'week',  seasonal_interval=52, value_col='claims', normalization=True)"
   ]
  },
  {
   "cell_type": "markdown",
   "id": "sufficient-commerce",
   "metadata": {},
   "source": [
    "## Correlation heatmap"
   ]
  },
  {
   "cell_type": "code",
   "execution_count": 7,
   "id": "driving-edward",
   "metadata": {
    "ExecuteTime": {
     "end_time": "2021-08-20T22:56:02.957281Z",
     "start_time": "2021-08-20T22:56:02.632141Z"
    }
   },
   "outputs": [],
   "source": [
    "var_list = ['trend.unemploy', 'trend.filling', 'trend.job', 'sp500', 'vix']\n",
    "_ = eda_plot.correlation_heatmap(df, var_list = var_list, \n",
    "                                 fig_width=10, fig_height=6)"
   ]
  },
  {
   "cell_type": "markdown",
   "id": "improved-begin",
   "metadata": {},
   "source": [
    "## Dual axis time series plot "
   ]
  },
  {
   "cell_type": "code",
   "execution_count": 8,
   "id": "moving-version",
   "metadata": {
    "ExecuteTime": {
     "end_time": "2021-08-20T22:56:03.619102Z",
     "start_time": "2021-08-20T22:56:02.960155Z"
    }
   },
   "outputs": [],
   "source": [
    "_ = eda_plot.dual_axis_ts_plot(df=df, var1='trend.unemploy', var2='claims', date_col='week')"
   ]
  },
  {
   "cell_type": "markdown",
   "id": "static-headset",
   "metadata": {},
   "source": [
    "## Wrap plots for quick glance of data patterns"
   ]
  },
  {
   "cell_type": "code",
   "execution_count": 9,
   "id": "intended-veteran",
   "metadata": {
    "ExecuteTime": {
     "end_time": "2021-08-20T22:56:03.635943Z",
     "start_time": "2021-08-20T22:56:03.621153Z"
    }
   },
   "outputs": [
    {
     "data": {
      "text/html": [
       "<div>\n",
       "<style scoped>\n",
       "    .dataframe tbody tr th:only-of-type {\n",
       "        vertical-align: middle;\n",
       "    }\n",
       "\n",
       "    .dataframe tbody tr th {\n",
       "        vertical-align: top;\n",
       "    }\n",
       "\n",
       "    .dataframe thead th {\n",
       "        text-align: right;\n",
       "    }\n",
       "</style>\n",
       "<table border=\"1\" class=\"dataframe\">\n",
       "  <thead>\n",
       "    <tr style=\"text-align: right;\">\n",
       "      <th></th>\n",
       "      <th>week</th>\n",
       "      <th>variable</th>\n",
       "      <th>value</th>\n",
       "    </tr>\n",
       "  </thead>\n",
       "  <tbody>\n",
       "    <tr>\n",
       "      <th>0</th>\n",
       "      <td>2010-01-03</td>\n",
       "      <td>trend.unemploy</td>\n",
       "      <td>0.219882</td>\n",
       "    </tr>\n",
       "    <tr>\n",
       "      <th>1</th>\n",
       "      <td>2010-01-10</td>\n",
       "      <td>trend.unemploy</td>\n",
       "      <td>0.219882</td>\n",
       "    </tr>\n",
       "    <tr>\n",
       "      <th>2</th>\n",
       "      <td>2010-01-17</td>\n",
       "      <td>trend.unemploy</td>\n",
       "      <td>0.236143</td>\n",
       "    </tr>\n",
       "    <tr>\n",
       "      <th>3</th>\n",
       "      <td>2010-01-24</td>\n",
       "      <td>trend.unemploy</td>\n",
       "      <td>0.203353</td>\n",
       "    </tr>\n",
       "    <tr>\n",
       "      <th>4</th>\n",
       "      <td>2010-01-31</td>\n",
       "      <td>trend.unemploy</td>\n",
       "      <td>0.134360</td>\n",
       "    </tr>\n",
       "    <tr>\n",
       "      <th>...</th>\n",
       "      <td>...</td>\n",
       "      <td>...</td>\n",
       "      <td>...</td>\n",
       "    </tr>\n",
       "    <tr>\n",
       "      <th>2210</th>\n",
       "      <td>2018-05-27</td>\n",
       "      <td>vix</td>\n",
       "      <td>-0.175192</td>\n",
       "    </tr>\n",
       "    <tr>\n",
       "      <th>2211</th>\n",
       "      <td>2018-06-03</td>\n",
       "      <td>vix</td>\n",
       "      <td>-0.275119</td>\n",
       "    </tr>\n",
       "    <tr>\n",
       "      <th>2212</th>\n",
       "      <td>2018-06-10</td>\n",
       "      <td>vix</td>\n",
       "      <td>-0.291676</td>\n",
       "    </tr>\n",
       "    <tr>\n",
       "      <th>2213</th>\n",
       "      <td>2018-06-17</td>\n",
       "      <td>vix</td>\n",
       "      <td>-0.152422</td>\n",
       "    </tr>\n",
       "    <tr>\n",
       "      <th>2214</th>\n",
       "      <td>2018-06-24</td>\n",
       "      <td>vix</td>\n",
       "      <td>0.003284</td>\n",
       "    </tr>\n",
       "  </tbody>\n",
       "</table>\n",
       "<p>2215 rows × 3 columns</p>\n",
       "</div>"
      ],
      "text/plain": [
       "           week        variable     value\n",
       "0    2010-01-03  trend.unemploy  0.219882\n",
       "1    2010-01-10  trend.unemploy  0.219882\n",
       "2    2010-01-17  trend.unemploy  0.236143\n",
       "3    2010-01-24  trend.unemploy  0.203353\n",
       "4    2010-01-31  trend.unemploy  0.134360\n",
       "...         ...             ...       ...\n",
       "2210 2018-05-27             vix -0.175192\n",
       "2211 2018-06-03             vix -0.275119\n",
       "2212 2018-06-10             vix -0.291676\n",
       "2213 2018-06-17             vix -0.152422\n",
       "2214 2018-06-24             vix  0.003284\n",
       "\n",
       "[2215 rows x 3 columns]"
      ]
     },
     "execution_count": 9,
     "metadata": {},
     "output_type": "execute_result"
    }
   ],
   "source": [
    "var_list=['week', 'trend.unemploy', 'trend.filling', 'trend.job', 'sp500', 'vix']   \n",
    "df[var_list].melt(id_vars = ['week'])"
   ]
  },
  {
   "cell_type": "code",
   "execution_count": 10,
   "id": "suited-percentage",
   "metadata": {
    "ExecuteTime": {
     "end_time": "2021-08-20T22:56:04.741350Z",
     "start_time": "2021-08-20T22:56:03.638141Z"
    }
   },
   "outputs": [],
   "source": [
    "_ = eda_plot.wrap_plot_ts(df, 'week', var_list)"
   ]
  }
 ],
 "metadata": {
  "kernelspec": {
   "display_name": "orbit39-cmdstan",
   "language": "python",
   "name": "orbit39-cmdstan"
  },
  "language_info": {
   "codemirror_mode": {
    "name": "ipython",
    "version": 3
   },
   "file_extension": ".py",
   "mimetype": "text/x-python",
   "name": "python",
   "nbconvert_exporter": "python",
   "pygments_lexer": "ipython3",
   "version": "3.9.15"
  },
  "toc": {
   "base_numbering": 1,
   "nav_menu": {},
   "number_sections": true,
   "sideBar": true,
   "skip_h1_title": false,
   "title_cell": "Table of Contents",
   "title_sidebar": "Contents",
   "toc_cell": false,
   "toc_position": {},
   "toc_section_display": true,
   "toc_window_display": true
  },
  "toc-autonumbering": true
 },
 "nbformat": 4,
 "nbformat_minor": 5
}
