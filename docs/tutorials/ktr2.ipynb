{
 "cells": [
  {
   "cell_type": "markdown",
   "metadata": {},
   "source": [
    "# Kernel-based Time-varying Regression - Part II\n",
    "\n",
    "In previous tutorial, we learnt basic syntax and structure of **KTR** (or so called **BTVC**). We will shift the focus on creating a model with regressors. Note that the core idea of **KTR** is to create time-varying coefficients. This can also be an advantage of picking this model over other static regression coefficients model. \n",
    "\n",
    "Here in **Part I**, we will cover\n",
    "\n",
    "1. KTR model structure with regression\n",
    "2. Syntax to initialize, fit and predict a model with regressors\n",
    "3. Visualization of regression coefficients\n",
    "4. Advance Inputs and Customizing priors"
   ]
  },
  {
   "cell_type": "code",
   "execution_count": 1,
   "metadata": {
    "ExecuteTime": {
     "end_time": "2021-08-03T17:08:23.342938Z",
     "start_time": "2021-08-03T17:08:20.932839Z"
    }
   },
   "outputs": [
    {
     "data": {
      "text/plain": [
       "<contextlib._GeneratorContextManager at 0x147215dd0>"
      ]
     },
     "execution_count": 1,
     "metadata": {},
     "output_type": "execute_result"
    }
   ],
   "source": [
    "import pandas as pd\n",
    "import numpy as np\n",
    "from math import pi\n",
    "import matplotlib.pyplot as plt\n",
    "\n",
    "import orbit\n",
    "from orbit.models import KTR\n",
    "from orbit.utils.features import make_fourier_series_df, make_fourier_series\n",
    "from orbit.diagnostics.plot import plot_predicted_components\n",
    "from orbit.utils.plot import get_orbit_style\n",
    "\n",
    "%matplotlib inline\n",
    "pd.set_option('display.float_format', lambda x: '%.5f' % x)\n",
    "orbit_style = get_orbit_style()\n",
    "plt.style.context(orbit_style)"
   ]
  },
  {
   "cell_type": "code",
   "execution_count": 2,
   "metadata": {},
   "outputs": [],
   "source": [
    "%load_ext autoreload\n",
    "%autoreload 2"
   ]
  },
  {
   "cell_type": "code",
   "execution_count": 3,
   "metadata": {
    "ExecuteTime": {
     "end_time": "2021-08-03T17:08:23.347872Z",
     "start_time": "2021-08-03T17:08:23.344861Z"
    }
   },
   "outputs": [
    {
     "name": "stdout",
     "output_type": "stream",
     "text": [
      "1.0.16dev\n"
     ]
    }
   ],
   "source": [
    "print(orbit.__version__)"
   ]
  },
  {
   "cell_type": "markdown",
   "metadata": {
    "tags": []
   },
   "source": [
    "## Model Structure"
   ]
  },
  {
   "cell_type": "markdown",
   "metadata": {
    "ExecuteTime": {
     "end_time": "2021-03-11T20:23:30.317731Z",
     "start_time": "2021-03-11T20:23:30.307892Z"
    }
   },
   "source": [
    "Our goal is to derive an additive form such that \n",
    "\n",
    "$$y_t = l_t + s_t + r_t + \\epsilon_t,  ~ t = 1,\\cdots, T,$$\n",
    "\n",
    "where $y_t$ is the response variable, $l_t$ is the trend term,  $s_t$ is the seasonality term and $r_t$ is the regression term.\n",
    "\n",
    "For details of how we we derive $l_t$ and $s_t$, please refer to **Part I**."
   ]
  },
  {
   "cell_type": "markdown",
   "metadata": {},
   "source": [
    "Recall in **KTR**, we express regression coefficients $\\beta$ as such\n",
    "\n",
    "$$\\beta=Kb^T$$\n",
    "\n",
    "where\n",
    "\n",
    "- *knot matrix* $b$ with size $P\\times J$  where each entry is a latent vairable  $b_{p, j}$ can be viewed as the \"knots\" from the perspective of spline regression and\n",
    "$j$ is a time index such that $t_j \\in [1, \\cdots, T]$.\n",
    "- *kernel matrix*  $K$  with size $T\\times J$ where the $i$th row and $j$th element can be viewed as the noramlied weight $k(t_j, t) / \\sum_{j=1}^{J} k(t_j, t)$\n",
    "\n",
    "In regression, we generate the matrix $K$ with Gaussian kernel $k_\\text{reg}$ as such:\n",
    "\n",
    "$k_\\text{reg}(t, t_j;\\rho) = \\exp ( -\\frac{(t-t_j)^2}{2\\rho^2}  ),$\n",
    "\n",
    "where $\\rho$ is the scale hyper-parameter."
   ]
  },
  {
   "cell_type": "markdown",
   "metadata": {},
   "source": [
    "## Data Simulation Module\n",
    "\n",
    "In this example, we will use simulated data in order to have true regression coefficients for comparison.  We propose two set of simulations with three predictors:\n",
    "\n",
    "- random walk\n",
    "- sine-cosine like "
   ]
  },
  {
   "cell_type": "markdown",
   "metadata": {},
   "source": [
    "### Random Walk Simulated Dataset"
   ]
  },
  {
   "cell_type": "code",
   "execution_count": 4,
   "metadata": {
    "ExecuteTime": {
     "end_time": "2021-07-13T22:43:01.086726Z",
     "start_time": "2021-07-13T22:43:01.044630Z"
    }
   },
   "outputs": [],
   "source": [
    "def sim_data_seasonal(n, RS):\n",
    "    \"\"\" coefficients curve are sine-cosine like\n",
    "    \"\"\"\n",
    "    np.random.seed(RS)\n",
    "    # make the time varing coefs  \n",
    "    tau = np.arange(1, n+1)/n\n",
    "    data = pd.DataFrame({\n",
    "        'tau': tau,\n",
    "        'date': pd.date_range(start='1/1/2018', periods=n),\n",
    "        'beta1': 2 * tau,\n",
    "        'beta2': 1.01 + np.sin(2*pi*tau),\n",
    "        'beta3': 1.01 + np.sin(4*pi*(tau-1/8)),\n",
    "        'x1': np.random.normal(0, 10, size=n),\n",
    "        'x2': np.random.normal(0, 10, size=n),\n",
    "        'x3': np.random.normal(0, 10, size=n),\n",
    "        'trend': np.cumsum(np.concatenate((np.array([1]), np.random.normal(0, 0.1, n-1)))),\n",
    "        'error': np.random.normal(0, 1, size=n) #stats.t.rvs(30, size=n),#\n",
    "    })\n",
    "        \n",
    "    data['y'] = data.x1 * data.beta1 + data.x2 * data.beta2 + data.x3 * data.beta3 + data.error\n",
    "    return data"
   ]
  },
  {
   "cell_type": "code",
   "execution_count": null,
   "metadata": {},
   "outputs": [],
   "source": [
    "def sim_data_rw(n, RS, p=3):\n",
    "    \"\"\" coefficients curve are sine-cosine like\n",
    "    \"\"\"\n",
    "    np.random.seed(RS)\n",
    "\n",
    "    # initializing coefficients at zeros, simulate all coefficient values\n",
    "    lev = np.cumsum(np.concatenate((np.array([5.0]), np.random.normal(0, 0.01, n-1))))\n",
    "    beta = np.concatenate(\n",
    "        [np.random.uniform(0.05, 0.12, size=(1,p)),\n",
    "         np.random.normal(0.0, 0.01, size=(n-1,p))], \n",
    "            axis=0)\n",
    "    beta = np.cumsum(beta, 0)\n",
    "\n",
    "    # simulate regressors\n",
    "    covariates = np.random.normal(0, 10, (n, p))\n",
    "\n",
    "    # observation with noise\n",
    "    y = lev + (covariates * beta).sum(-1) + 0.3 * np.random.normal(0, 1, n)\n",
    "\n",
    "    regressor_col = ['x{}'.format(pp) for pp in range(1, p+1)]\n",
    "    data = pd.DataFrame(covariates, columns=regressor_col)\n",
    "    beta_col = ['beta{}'.format(pp) for pp in range(1, p+1)]\n",
    "    beta_data = pd.DataFrame(beta, columns=beta_col)\n",
    "    data = pd.concat([data, beta_data], axis=1)\n",
    "        \n",
    "    data['y'] = y\n",
    "    data['date'] = pd.date_range(start='1/1/2018', periods=len(y))\n",
    "\n",
    "    return data"
   ]
  },
  {
   "cell_type": "code",
   "execution_count": 5,
   "metadata": {
    "ExecuteTime": {
     "end_time": "2021-07-13T22:43:01.205354Z",
     "start_time": "2021-07-13T22:43:01.156204Z"
    }
   },
   "outputs": [
    {
     "data": {
      "text/html": [
       "<div>\n",
       "<style scoped>\n",
       "    .dataframe tbody tr th:only-of-type {\n",
       "        vertical-align: middle;\n",
       "    }\n",
       "\n",
       "    .dataframe tbody tr th {\n",
       "        vertical-align: top;\n",
       "    }\n",
       "\n",
       "    .dataframe thead th {\n",
       "        text-align: right;\n",
       "    }\n",
       "</style>\n",
       "<table border=\"1\" class=\"dataframe\">\n",
       "  <thead>\n",
       "    <tr style=\"text-align: right;\">\n",
       "      <th></th>\n",
       "      <th>x1</th>\n",
       "      <th>x2</th>\n",
       "      <th>x3</th>\n",
       "      <th>beta1</th>\n",
       "      <th>beta2</th>\n",
       "      <th>beta3</th>\n",
       "      <th>y</th>\n",
       "      <th>date</th>\n",
       "    </tr>\n",
       "  </thead>\n",
       "  <tbody>\n",
       "    <tr>\n",
       "      <th>0</th>\n",
       "      <td>1.11869</td>\n",
       "      <td>12.57944</td>\n",
       "      <td>-18.70548</td>\n",
       "      <td>0.08383</td>\n",
       "      <td>0.11804</td>\n",
       "      <td>0.10688</td>\n",
       "      <td>4.23824</td>\n",
       "      <td>2018-01-01</td>\n",
       "    </tr>\n",
       "    <tr>\n",
       "      <th>1</th>\n",
       "      <td>0.25149</td>\n",
       "      <td>5.30067</td>\n",
       "      <td>8.97456</td>\n",
       "      <td>0.08158</td>\n",
       "      <td>0.11665</td>\n",
       "      <td>0.11608</td>\n",
       "      <td>6.76230</td>\n",
       "      <td>2018-01-02</td>\n",
       "    </tr>\n",
       "    <tr>\n",
       "      <th>2</th>\n",
       "      <td>-12.53590</td>\n",
       "      <td>2.13434</td>\n",
       "      <td>4.22410</td>\n",
       "      <td>0.08384</td>\n",
       "      <td>0.11274</td>\n",
       "      <td>0.12169</td>\n",
       "      <td>4.57635</td>\n",
       "      <td>2018-01-03</td>\n",
       "    </tr>\n",
       "    <tr>\n",
       "      <th>3</th>\n",
       "      <td>-6.83038</td>\n",
       "      <td>3.09457</td>\n",
       "      <td>-1.92619</td>\n",
       "      <td>0.06779</td>\n",
       "      <td>0.11135</td>\n",
       "      <td>0.12628</td>\n",
       "      <td>4.49756</td>\n",
       "      <td>2018-01-04</td>\n",
       "    </tr>\n",
       "    <tr>\n",
       "      <th>4</th>\n",
       "      <td>-3.37015</td>\n",
       "      <td>3.89962</td>\n",
       "      <td>-3.08311</td>\n",
       "      <td>0.08633</td>\n",
       "      <td>0.09988</td>\n",
       "      <td>0.13899</td>\n",
       "      <td>5.23037</td>\n",
       "      <td>2018-01-05</td>\n",
       "    </tr>\n",
       "    <tr>\n",
       "      <th>5</th>\n",
       "      <td>-3.36446</td>\n",
       "      <td>-4.18615</td>\n",
       "      <td>13.14925</td>\n",
       "      <td>0.07620</td>\n",
       "      <td>0.10859</td>\n",
       "      <td>0.14255</td>\n",
       "      <td>6.10277</td>\n",
       "      <td>2018-01-06</td>\n",
       "    </tr>\n",
       "    <tr>\n",
       "      <th>6</th>\n",
       "      <td>-3.66356</td>\n",
       "      <td>-14.79541</td>\n",
       "      <td>-1.73128</td>\n",
       "      <td>0.09153</td>\n",
       "      <td>0.09901</td>\n",
       "      <td>0.15621</td>\n",
       "      <td>3.28499</td>\n",
       "      <td>2018-01-07</td>\n",
       "    </tr>\n",
       "    <tr>\n",
       "      <th>7</th>\n",
       "      <td>7.20599</td>\n",
       "      <td>-5.62337</td>\n",
       "      <td>-11.80655</td>\n",
       "      <td>0.10095</td>\n",
       "      <td>0.09951</td>\n",
       "      <td>0.16008</td>\n",
       "      <td>2.52902</td>\n",
       "      <td>2018-01-08</td>\n",
       "    </tr>\n",
       "    <tr>\n",
       "      <th>8</th>\n",
       "      <td>-3.64366</td>\n",
       "      <td>3.79963</td>\n",
       "      <td>-1.39817</td>\n",
       "      <td>0.10064</td>\n",
       "      <td>0.08795</td>\n",
       "      <td>0.16389</td>\n",
       "      <td>4.90898</td>\n",
       "      <td>2018-01-09</td>\n",
       "    </tr>\n",
       "    <tr>\n",
       "      <th>9</th>\n",
       "      <td>9.22233</td>\n",
       "      <td>1.69517</td>\n",
       "      <td>-0.89649</td>\n",
       "      <td>0.09850</td>\n",
       "      <td>0.08597</td>\n",
       "      <td>0.17241</td>\n",
       "      <td>5.52978</td>\n",
       "      <td>2018-01-10</td>\n",
       "    </tr>\n",
       "  </tbody>\n",
       "</table>\n",
       "</div>"
      ],
      "text/plain": [
       "         x1        x2        x3   beta1   beta2   beta3       y       date\n",
       "0   1.11869  12.57944 -18.70548 0.08383 0.11804 0.10688 4.23824 2018-01-01\n",
       "1   0.25149   5.30067   8.97456 0.08158 0.11665 0.11608 6.76230 2018-01-02\n",
       "2 -12.53590   2.13434   4.22410 0.08384 0.11274 0.12169 4.57635 2018-01-03\n",
       "3  -6.83038   3.09457  -1.92619 0.06779 0.11135 0.12628 4.49756 2018-01-04\n",
       "4  -3.37015   3.89962  -3.08311 0.08633 0.09988 0.13899 5.23037 2018-01-05\n",
       "5  -3.36446  -4.18615  13.14925 0.07620 0.10859 0.14255 6.10277 2018-01-06\n",
       "6  -3.66356 -14.79541  -1.73128 0.09153 0.09901 0.15621 3.28499 2018-01-07\n",
       "7   7.20599  -5.62337 -11.80655 0.10095 0.09951 0.16008 2.52902 2018-01-08\n",
       "8  -3.64366   3.79963  -1.39817 0.10064 0.08795 0.16389 4.90898 2018-01-09\n",
       "9   9.22233   1.69517  -0.89649 0.09850 0.08597 0.17241 5.52978 2018-01-10"
      ]
     },
     "execution_count": 5,
     "metadata": {},
     "output_type": "execute_result"
    }
   ],
   "source": [
    "rw_data = sim_data_rw(n=300, RS=8888, p=3)\n",
    "rw_data.head(10)"
   ]
  },
  {
   "cell_type": "markdown",
   "metadata": {},
   "source": [
    "### Sine-Cosine Like Simulated Dataset"
   ]
  },
  {
   "cell_type": "code",
   "execution_count": 17,
   "metadata": {
    "ExecuteTime": {
     "end_time": "2021-07-13T22:43:01.153722Z",
     "start_time": "2021-07-13T22:43:01.089493Z"
    }
   },
   "outputs": [
    {
     "data": {
      "text/html": [
       "<div>\n",
       "<style scoped>\n",
       "    .dataframe tbody tr th:only-of-type {\n",
       "        vertical-align: middle;\n",
       "    }\n",
       "\n",
       "    .dataframe tbody tr th {\n",
       "        vertical-align: top;\n",
       "    }\n",
       "\n",
       "    .dataframe thead th {\n",
       "        text-align: right;\n",
       "    }\n",
       "</style>\n",
       "<table border=\"1\" class=\"dataframe\">\n",
       "  <thead>\n",
       "    <tr style=\"text-align: right;\">\n",
       "      <th></th>\n",
       "      <th>tau</th>\n",
       "      <th>date</th>\n",
       "      <th>beta1</th>\n",
       "      <th>beta2</th>\n",
       "      <th>beta3</th>\n",
       "      <th>x1</th>\n",
       "      <th>x2</th>\n",
       "      <th>x3</th>\n",
       "      <th>trend</th>\n",
       "      <th>error</th>\n",
       "      <th>y</th>\n",
       "    </tr>\n",
       "  </thead>\n",
       "  <tbody>\n",
       "    <tr>\n",
       "      <th>0</th>\n",
       "      <td>0.00100</td>\n",
       "      <td>2018-01-01</td>\n",
       "      <td>0.00200</td>\n",
       "      <td>1.01628</td>\n",
       "      <td>0.01008</td>\n",
       "      <td>14.88609</td>\n",
       "      <td>-18.30869</td>\n",
       "      <td>8.02113</td>\n",
       "      <td>1.00000</td>\n",
       "      <td>-0.42452</td>\n",
       "      <td>-18.92072</td>\n",
       "    </tr>\n",
       "    <tr>\n",
       "      <th>1</th>\n",
       "      <td>0.00200</td>\n",
       "      <td>2018-01-02</td>\n",
       "      <td>0.00400</td>\n",
       "      <td>1.02257</td>\n",
       "      <td>0.01032</td>\n",
       "      <td>6.76011</td>\n",
       "      <td>-12.45446</td>\n",
       "      <td>8.42241</td>\n",
       "      <td>0.99524</td>\n",
       "      <td>-0.17994</td>\n",
       "      <td>-12.80153</td>\n",
       "    </tr>\n",
       "    <tr>\n",
       "      <th>2</th>\n",
       "      <td>0.00300</td>\n",
       "      <td>2018-01-03</td>\n",
       "      <td>0.00600</td>\n",
       "      <td>1.02885</td>\n",
       "      <td>0.01071</td>\n",
       "      <td>-4.18451</td>\n",
       "      <td>6.37632</td>\n",
       "      <td>-2.65741</td>\n",
       "      <td>0.99647</td>\n",
       "      <td>0.56875</td>\n",
       "      <td>7.07545</td>\n",
       "    </tr>\n",
       "    <tr>\n",
       "      <th>3</th>\n",
       "      <td>0.00400</td>\n",
       "      <td>2018-01-04</td>\n",
       "      <td>0.00800</td>\n",
       "      <td>1.03513</td>\n",
       "      <td>0.01126</td>\n",
       "      <td>-8.06521</td>\n",
       "      <td>-5.05428</td>\n",
       "      <td>-14.34493</td>\n",
       "      <td>0.89220</td>\n",
       "      <td>0.18640</td>\n",
       "      <td>-5.27152</td>\n",
       "    </tr>\n",
       "    <tr>\n",
       "      <th>4</th>\n",
       "      <td>0.00500</td>\n",
       "      <td>2018-01-05</td>\n",
       "      <td>0.01000</td>\n",
       "      <td>1.04141</td>\n",
       "      <td>0.01197</td>\n",
       "      <td>5.55876</td>\n",
       "      <td>-5.59333</td>\n",
       "      <td>4.47058</td>\n",
       "      <td>0.67806</td>\n",
       "      <td>-0.46691</td>\n",
       "      <td>-6.18275</td>\n",
       "    </tr>\n",
       "    <tr>\n",
       "      <th>5</th>\n",
       "      <td>0.00600</td>\n",
       "      <td>2018-01-06</td>\n",
       "      <td>0.01200</td>\n",
       "      <td>1.04769</td>\n",
       "      <td>0.01284</td>\n",
       "      <td>-7.05504</td>\n",
       "      <td>2.14293</td>\n",
       "      <td>1.50937</td>\n",
       "      <td>0.50218</td>\n",
       "      <td>1.00234</td>\n",
       "      <td>3.18218</td>\n",
       "    </tr>\n",
       "    <tr>\n",
       "      <th>6</th>\n",
       "      <td>0.00700</td>\n",
       "      <td>2018-01-07</td>\n",
       "      <td>0.01400</td>\n",
       "      <td>1.05397</td>\n",
       "      <td>0.01387</td>\n",
       "      <td>11.30858</td>\n",
       "      <td>-4.28970</td>\n",
       "      <td>0.56315</td>\n",
       "      <td>0.49856</td>\n",
       "      <td>0.90866</td>\n",
       "      <td>-3.44642</td>\n",
       "    </tr>\n",
       "    <tr>\n",
       "      <th>7</th>\n",
       "      <td>0.00800</td>\n",
       "      <td>2018-01-08</td>\n",
       "      <td>0.01600</td>\n",
       "      <td>1.06024</td>\n",
       "      <td>0.01505</td>\n",
       "      <td>6.45002</td>\n",
       "      <td>13.52961</td>\n",
       "      <td>7.73681</td>\n",
       "      <td>0.52584</td>\n",
       "      <td>0.22622</td>\n",
       "      <td>14.79055</td>\n",
       "    </tr>\n",
       "    <tr>\n",
       "      <th>8</th>\n",
       "      <td>0.00900</td>\n",
       "      <td>2018-01-09</td>\n",
       "      <td>0.01800</td>\n",
       "      <td>1.06652</td>\n",
       "      <td>0.01639</td>\n",
       "      <td>1.06414</td>\n",
       "      <td>14.28461</td>\n",
       "      <td>19.57613</td>\n",
       "      <td>0.36653</td>\n",
       "      <td>-1.14237</td>\n",
       "      <td>14.43242</td>\n",
       "    </tr>\n",
       "    <tr>\n",
       "      <th>9</th>\n",
       "      <td>0.01000</td>\n",
       "      <td>2018-01-10</td>\n",
       "      <td>0.02000</td>\n",
       "      <td>1.07279</td>\n",
       "      <td>0.01789</td>\n",
       "      <td>4.22155</td>\n",
       "      <td>-20.16490</td>\n",
       "      <td>-8.78261</td>\n",
       "      <td>0.31014</td>\n",
       "      <td>0.53463</td>\n",
       "      <td>-21.17074</td>\n",
       "    </tr>\n",
       "  </tbody>\n",
       "</table>\n",
       "</div>"
      ],
      "text/plain": [
       "      tau       date   beta1   beta2   beta3       x1        x2        x3  \\\n",
       "0 0.00100 2018-01-01 0.00200 1.01628 0.01008 14.88609 -18.30869   8.02113   \n",
       "1 0.00200 2018-01-02 0.00400 1.02257 0.01032  6.76011 -12.45446   8.42241   \n",
       "2 0.00300 2018-01-03 0.00600 1.02885 0.01071 -4.18451   6.37632  -2.65741   \n",
       "3 0.00400 2018-01-04 0.00800 1.03513 0.01126 -8.06521  -5.05428 -14.34493   \n",
       "4 0.00500 2018-01-05 0.01000 1.04141 0.01197  5.55876  -5.59333   4.47058   \n",
       "5 0.00600 2018-01-06 0.01200 1.04769 0.01284 -7.05504   2.14293   1.50937   \n",
       "6 0.00700 2018-01-07 0.01400 1.05397 0.01387 11.30858  -4.28970   0.56315   \n",
       "7 0.00800 2018-01-08 0.01600 1.06024 0.01505  6.45002  13.52961   7.73681   \n",
       "8 0.00900 2018-01-09 0.01800 1.06652 0.01639  1.06414  14.28461  19.57613   \n",
       "9 0.01000 2018-01-10 0.02000 1.07279 0.01789  4.22155 -20.16490  -8.78261   \n",
       "\n",
       "    trend    error         y  \n",
       "0 1.00000 -0.42452 -18.92072  \n",
       "1 0.99524 -0.17994 -12.80153  \n",
       "2 0.99647  0.56875   7.07545  \n",
       "3 0.89220  0.18640  -5.27152  \n",
       "4 0.67806 -0.46691  -6.18275  \n",
       "5 0.50218  1.00234   3.18218  \n",
       "6 0.49856  0.90866  -3.44642  \n",
       "7 0.52584  0.22622  14.79055  \n",
       "8 0.36653 -1.14237  14.43242  \n",
       "9 0.31014  0.53463 -21.17074  "
      ]
     },
     "execution_count": 17,
     "metadata": {},
     "output_type": "execute_result"
    }
   ],
   "source": [
    "sc_data = sim_data_seasonal(n=1000, RS=2021)\n",
    "sc_data.head(10)"
   ]
  },
  {
   "cell_type": "markdown",
   "metadata": {},
   "source": [
    "## Fitting a Model with Regressors"
   ]
  },
  {
   "cell_type": "markdown",
   "metadata": {},
   "source": [
    "Let's derive some metadata for fitting purpose."
   ]
  },
  {
   "cell_type": "code",
   "execution_count": 6,
   "metadata": {},
   "outputs": [],
   "source": [
    "# num of predictors\n",
    "p = 3\n",
    "regressor_col = ['x{}'.format(pp) for pp in range(1, p + 1)]\n",
    "response_col = 'y'\n",
    "date_col='date'"
   ]
  },
  {
   "cell_type": "markdown",
   "metadata": {},
   "source": [
    "Here, we need to supply additional args to describe the regressors."
   ]
  },
  {
   "cell_type": "code",
   "execution_count": 7,
   "metadata": {},
   "outputs": [],
   "source": [
    "ktr = KTR(\n",
    "    response_col=response_col,\n",
    "    date_col=date_col,\n",
    "    # in this exercise, we don't have time-varying level\n",
    "    level_segments=1,\n",
    "    regressor_col=regressor_col,\n",
    "#     regressor_init_knot_scale=[10.0] * len(regressor_col),\n",
    "#     regressor_knot_scale=[2.0] * len(regressor_col),\n",
    "    regression_segments=5,\n",
    "    prediction_percentiles=[2.5, 97.5],\n",
    "    seed=2020,\n",
    "    estimator='pyro-svi'\n",
    ")"
   ]
  },
  {
   "cell_type": "markdown",
   "metadata": {},
   "source": [
    "After the initialization, the fit-and-predict would be similar to the previous models. And now you should expect a regression component reported in prediction if you specify `decompose=True`."
   ]
  },
  {
   "cell_type": "code",
   "execution_count": 8,
   "metadata": {},
   "outputs": [
    {
     "name": "stderr",
     "output_type": "stream",
     "text": [
      "INFO:root:Guessed max_plate_nesting = 1\n"
     ]
    },
    {
     "data": {
      "text/html": [
       "<div>\n",
       "<style scoped>\n",
       "    .dataframe tbody tr th:only-of-type {\n",
       "        vertical-align: middle;\n",
       "    }\n",
       "\n",
       "    .dataframe tbody tr th {\n",
       "        vertical-align: top;\n",
       "    }\n",
       "\n",
       "    .dataframe thead th {\n",
       "        text-align: right;\n",
       "    }\n",
       "</style>\n",
       "<table border=\"1\" class=\"dataframe\">\n",
       "  <thead>\n",
       "    <tr style=\"text-align: right;\">\n",
       "      <th></th>\n",
       "      <th>date</th>\n",
       "      <th>prediction_2.5</th>\n",
       "      <th>prediction</th>\n",
       "      <th>prediction_97.5</th>\n",
       "      <th>trend_2.5</th>\n",
       "      <th>trend</th>\n",
       "      <th>trend_97.5</th>\n",
       "      <th>seasonality_2.5</th>\n",
       "      <th>seasonality</th>\n",
       "      <th>seasonality_97.5</th>\n",
       "      <th>regression_2.5</th>\n",
       "      <th>regression</th>\n",
       "      <th>regression_97.5</th>\n",
       "    </tr>\n",
       "  </thead>\n",
       "  <tbody>\n",
       "    <tr>\n",
       "      <th>0</th>\n",
       "      <td>2018-01-01</td>\n",
       "      <td>-3.78533</td>\n",
       "      <td>2.23608</td>\n",
       "      <td>7.85089</td>\n",
       "      <td>4.96046</td>\n",
       "      <td>5.09548</td>\n",
       "      <td>5.24118</td>\n",
       "      <td>0.00000</td>\n",
       "      <td>0.00000</td>\n",
       "      <td>0.00000</td>\n",
       "      <td>-5.08214</td>\n",
       "      <td>-3.18622</td>\n",
       "      <td>-1.35146</td>\n",
       "    </tr>\n",
       "    <tr>\n",
       "      <th>1</th>\n",
       "      <td>2018-01-02</td>\n",
       "      <td>1.16197</td>\n",
       "      <td>7.38570</td>\n",
       "      <td>12.73365</td>\n",
       "      <td>4.96046</td>\n",
       "      <td>5.09564</td>\n",
       "      <td>5.24048</td>\n",
       "      <td>0.00000</td>\n",
       "      <td>0.00000</td>\n",
       "      <td>0.00000</td>\n",
       "      <td>0.97636</td>\n",
       "      <td>1.83282</td>\n",
       "      <td>2.72771</td>\n",
       "    </tr>\n",
       "    <tr>\n",
       "      <th>2</th>\n",
       "      <td>2018-01-03</td>\n",
       "      <td>-1.83051</td>\n",
       "      <td>4.61170</td>\n",
       "      <td>10.63958</td>\n",
       "      <td>4.96046</td>\n",
       "      <td>5.09579</td>\n",
       "      <td>5.23978</td>\n",
       "      <td>0.00000</td>\n",
       "      <td>0.00000</td>\n",
       "      <td>0.00000</td>\n",
       "      <td>-1.65653</td>\n",
       "      <td>-0.41614</td>\n",
       "      <td>0.54258</td>\n",
       "    </tr>\n",
       "    <tr>\n",
       "      <th>3</th>\n",
       "      <td>2018-01-04</td>\n",
       "      <td>-2.84021</td>\n",
       "      <td>3.86459</td>\n",
       "      <td>10.58062</td>\n",
       "      <td>4.96046</td>\n",
       "      <td>5.09595</td>\n",
       "      <td>5.23908</td>\n",
       "      <td>0.00000</td>\n",
       "      <td>0.00000</td>\n",
       "      <td>0.00000</td>\n",
       "      <td>-1.61695</td>\n",
       "      <td>-0.99904</td>\n",
       "      <td>-0.48709</td>\n",
       "    </tr>\n",
       "    <tr>\n",
       "      <th>4</th>\n",
       "      <td>2018-01-05</td>\n",
       "      <td>-2.00187</td>\n",
       "      <td>4.61981</td>\n",
       "      <td>10.67584</td>\n",
       "      <td>4.96046</td>\n",
       "      <td>5.09610</td>\n",
       "      <td>5.23849</td>\n",
       "      <td>0.00000</td>\n",
       "      <td>0.00000</td>\n",
       "      <td>0.00000</td>\n",
       "      <td>-1.37355</td>\n",
       "      <td>-0.84436</td>\n",
       "      <td>-0.41621</td>\n",
       "    </tr>\n",
       "  </tbody>\n",
       "</table>\n",
       "</div>"
      ],
      "text/plain": [
       "        date  prediction_2.5  prediction  prediction_97.5  trend_2.5   trend  \\\n",
       "0 2018-01-01        -3.78533     2.23608          7.85089    4.96046 5.09548   \n",
       "1 2018-01-02         1.16197     7.38570         12.73365    4.96046 5.09564   \n",
       "2 2018-01-03        -1.83051     4.61170         10.63958    4.96046 5.09579   \n",
       "3 2018-01-04        -2.84021     3.86459         10.58062    4.96046 5.09595   \n",
       "4 2018-01-05        -2.00187     4.61981         10.67584    4.96046 5.09610   \n",
       "\n",
       "   trend_97.5  seasonality_2.5  seasonality  seasonality_97.5  regression_2.5  \\\n",
       "0     5.24118          0.00000      0.00000           0.00000        -5.08214   \n",
       "1     5.24048          0.00000      0.00000           0.00000         0.97636   \n",
       "2     5.23978          0.00000      0.00000           0.00000        -1.65653   \n",
       "3     5.23908          0.00000      0.00000           0.00000        -1.61695   \n",
       "4     5.23849          0.00000      0.00000           0.00000        -1.37355   \n",
       "\n",
       "   regression  regression_97.5  \n",
       "0    -3.18622         -1.35146  \n",
       "1     1.83282          2.72771  \n",
       "2    -0.41614          0.54258  \n",
       "3    -0.99904         -0.48709  \n",
       "4    -0.84436         -0.41621  "
      ]
     },
     "execution_count": 8,
     "metadata": {},
     "output_type": "execute_result"
    }
   ],
   "source": [
    "ktr.fit(df=rw_data)\n",
    "ktr.predict(df=rw_data, decompose=True).head(5)"
   ]
  },
  {
   "cell_type": "markdown",
   "metadata": {},
   "source": [
    "## Visualization of regression coefficient curves\n",
    "\n",
    "First, we can leverage `get_regression_coefs` to extract coefficients with intervals by supplying argument `include_ci=True`."
   ]
  },
  {
   "cell_type": "code",
   "execution_count": 10,
   "metadata": {},
   "outputs": [],
   "source": [
    "coef_mid, coef_lower, coef_upper  = ktr.get_regression_coefs(include_ci=True)"
   ]
  },
  {
   "cell_type": "code",
   "execution_count": 11,
   "metadata": {},
   "outputs": [
    {
     "data": {
      "text/html": [
       "<div>\n",
       "<style scoped>\n",
       "    .dataframe tbody tr th:only-of-type {\n",
       "        vertical-align: middle;\n",
       "    }\n",
       "\n",
       "    .dataframe tbody tr th {\n",
       "        vertical-align: top;\n",
       "    }\n",
       "\n",
       "    .dataframe thead th {\n",
       "        text-align: right;\n",
       "    }\n",
       "</style>\n",
       "<table border=\"1\" class=\"dataframe\">\n",
       "  <thead>\n",
       "    <tr style=\"text-align: right;\">\n",
       "      <th></th>\n",
       "      <th>date</th>\n",
       "      <th>x1</th>\n",
       "      <th>x2</th>\n",
       "      <th>x3</th>\n",
       "    </tr>\n",
       "  </thead>\n",
       "  <tbody>\n",
       "    <tr>\n",
       "      <th>0</th>\n",
       "      <td>2018-01-01</td>\n",
       "      <td>0.10081</td>\n",
       "      <td>0.01832</td>\n",
       "      <td>0.18763</td>\n",
       "    </tr>\n",
       "    <tr>\n",
       "      <th>1</th>\n",
       "      <td>2018-01-02</td>\n",
       "      <td>0.10124</td>\n",
       "      <td>0.01777</td>\n",
       "      <td>0.18752</td>\n",
       "    </tr>\n",
       "    <tr>\n",
       "      <th>2</th>\n",
       "      <td>2018-01-03</td>\n",
       "      <td>0.10168</td>\n",
       "      <td>0.01721</td>\n",
       "      <td>0.18741</td>\n",
       "    </tr>\n",
       "    <tr>\n",
       "      <th>3</th>\n",
       "      <td>2018-01-04</td>\n",
       "      <td>0.10213</td>\n",
       "      <td>0.01664</td>\n",
       "      <td>0.18729</td>\n",
       "    </tr>\n",
       "    <tr>\n",
       "      <th>4</th>\n",
       "      <td>2018-01-05</td>\n",
       "      <td>0.10259</td>\n",
       "      <td>0.01606</td>\n",
       "      <td>0.18717</td>\n",
       "    </tr>\n",
       "  </tbody>\n",
       "</table>\n",
       "</div>"
      ],
      "text/plain": [
       "        date      x1      x2      x3\n",
       "0 2018-01-01 0.10081 0.01832 0.18763\n",
       "1 2018-01-02 0.10124 0.01777 0.18752\n",
       "2 2018-01-03 0.10168 0.01721 0.18741\n",
       "3 2018-01-04 0.10213 0.01664 0.18729\n",
       "4 2018-01-05 0.10259 0.01606 0.18717"
      ]
     },
     "execution_count": 11,
     "metadata": {},
     "output_type": "execute_result"
    }
   ],
   "source": [
    "coef_mid.head(5)"
   ]
  },
  {
   "cell_type": "markdown",
   "metadata": {},
   "source": [
    "Let's overlay the estimate with the true coefficients."
   ]
  },
  {
   "cell_type": "code",
   "execution_count": 12,
   "metadata": {},
   "outputs": [
    {
     "data": {
      "image/png": "[encoded data removed]",
      "text/plain": [
       "<Figure size 864x864 with 3 Axes>"
      ]
     },
     "metadata": {
      "needs_background": "light"
     },
     "output_type": "display_data"
    }
   ],
   "source": [
    "fig, axes = plt.subplots(p, 1, figsize=(12, 12), sharex=True)\n",
    "\n",
    "x = np.arange(coef_mid.shape[0])\n",
    "for idx in range(p):\n",
    "    axes[idx].plot(x, coef_mid['x{}'.format(idx + 1)], label='est' if idx == 0 else \"\", alpha=0.5)\n",
    "    axes[idx].fill_between(x, coef_lower['x{}'.format(idx + 1)], coef_upper['x{}'.format(idx + 1)], alpha=0.5)\n",
    "    axes[idx].scatter(x, rw_data['beta{}'.format(idx + 1)], label='truth' if idx == 0 else \"\", s=10, alpha=0.5)\n",
    "    axes[idx].set_title('beta{}'.format(idx + 1))\n",
    "\n",
    "fig.legend(bbox_to_anchor = (1,0.5));"
   ]
  },
  {
   "cell_type": "markdown",
   "metadata": {},
   "source": [
    "You can also plot coefficients with the built-in function `plot_regression_coefs` from the class."
   ]
  },
  {
   "cell_type": "code",
   "execution_count": 14,
   "metadata": {},
   "outputs": [
    {
     "data": {
      "image/png": "[encoded data removed]",
      "text/plain": [
       "<Figure size 1000x500 with 4 Axes>"
      ]
     },
     "metadata": {},
     "output_type": "display_data"
    }
   ],
   "source": [
    "ktr.plot_regression_coefs(figsize=(10, 5), include_ci=True);"
   ]
  },
  {
   "cell_type": "markdown",
   "metadata": {},
   "source": [
    "These type of time-varying coefficients detection problems are not new. Bayesian approach such as the  R packages Bayesian Structural Time Series (a.k.a **BSTS**) by Scott and Varian (2014) and **tvReg** Isabel Casas and Ruben Fernandez-Casal (2021). Other frequentist approach such as Wu and Chiang (2000).\n",
    "\n",
    "For further studies on benchmarking coefficients detection, Ng, Wang and Dai (2021) provides details by comparing **KTR** with other popular time-varying coefficients methods where we find that the **KTR** demonstrates superior performance in the random walk data simulation. "
   ]
  },
  {
   "cell_type": "markdown",
   "metadata": {
    "tags": []
   },
   "source": [
    "## Advance Inputs and Customizing priors"
   ]
  },
  {
   "cell_type": "markdown",
   "metadata": {},
   "source": [
    "To demonstrate how priors and ways to specify number of knots, we move onto the sine-cosine like dataset. In this dataset, the fitting is more tricky since there could be some better way to define number and position of the knots as you may see there are obvious \"change points\" within the sine-cosine like curves. Here are a few arguments we can leverage:\n",
    "\n",
    "1. We can use `regressor_init_knot_loc` to define the prior mean of the knot value. e.g. in this case, we don't have too much knowledge so we put zeros.\n",
    "2. Knowing the range is actually much bigger, we use the `regressor_init_knot_scale` and `regressor_knot_scale` to tune the prior sd of the global mean of the knot and the sd of each knot from the global mean respectively.\n",
    "3. To allow more \"change points\" to be detected, we increase the segments (where we put knots in the edges by `regression_segments`."
   ]
  },
  {
   "cell_type": "code",
   "execution_count": null,
   "metadata": {},
   "outputs": [
    {
     "name": "stderr",
     "output_type": "stream",
     "text": [
      "INFO:root:Guessed max_plate_nesting = 1\n"
     ]
    }
   ],
   "source": [
    "ktr = KTR(\n",
    "    response_col=response_col,\n",
    "    date_col=date_col,\n",
    "    \n",
    "    regressor_col=regressor_col,\n",
    "    regressor_init_knot_loc=[0] * len(regressor_col),\n",
    "    regressor_init_knot_scale=[2.0] * len(regressor_col),\n",
    "    regressor_knot_scale=[1.0] * len(regressor_col),\n",
    "    regression_segments=10,\n",
    "\n",
    "    prediction_percentiles=[2.5, 97.5],\n",
    "    seed=2020,\n",
    "    estimator='pyro-svi',\n",
    ")\n",
    "ktr.fit(df=sc_data)"
   ]
  },
  {
   "cell_type": "code",
   "execution_count": null,
   "metadata": {},
   "outputs": [],
   "source": [
    "coef_mid, coef_lower, coef_upper  = ktr.get_regression_coefs(include_ci=True)\n",
    "fig, axes = plt.subplots(p, 1, figsize=(12, 12), sharex=True)\n",
    "\n",
    "x = np.arange(coef_mid.shape[0])\n",
    "for idx in range(p):\n",
    "    axes[idx].plot(x, coef_mid['x{}'.format(idx + 1)], label='est' if idx == 0 else \"\", alpha=0.5)\n",
    "    axes[idx].fill_between(x, coef_lower['x{}'.format(idx + 1)], coef_upper['x{}'.format(idx + 1)], alpha=0.5)\n",
    "    axes[idx].scatter(x, sc_data['beta{}'.format(idx + 1)], label='truth' if idx == 0 else \"\", s=10, alpha=0.5)\n",
    "    axes[idx].set_title('beta{}'.format(idx + 1))\n",
    "\n",
    "fig.legend(bbox_to_anchor = (1, 0.5));"
   ]
  },
  {
   "cell_type": "markdown",
   "metadata": {},
   "source": [
    "You can also visualize the knots again by the `plot_regression_coefs` function with `with_knot=True` this time."
   ]
  },
  {
   "cell_type": "code",
   "execution_count": null,
   "metadata": {},
   "outputs": [],
   "source": [
    "ktr.plot_regression_coefs(with_knot=True, figsize=(10, 5), include_ci=True);"
   ]
  }
 ],
 "metadata": {
  "kernelspec": {
   "display_name": "orbit37",
   "language": "python",
   "name": "orbit37"
  },
  "language_info": {
   "codemirror_mode": {
    "name": "ipython",
    "version": 3
   },
   "file_extension": ".py",
   "mimetype": "text/x-python",
   "name": "python",
   "nbconvert_exporter": "python",
   "pygments_lexer": "ipython3",
   "version": "3.7.8"
  },
  "toc": {
   "base_numbering": 1,
   "nav_menu": {},
   "number_sections": true,
   "sideBar": true,
   "skip_h1_title": true,
   "title_cell": "Table of Contents",
   "title_sidebar": "Contents",
   "toc_cell": false,
   "toc_position": {},
   "toc_section_display": true,
   "toc_window_display": true
  }
 },
 "nbformat": 4,
 "nbformat_minor": 4
}
