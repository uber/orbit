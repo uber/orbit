{
 "cells": [
  {
   "cell_type": "markdown",
   "metadata": {},
   "source": [
    "# Kernel-based Time-varying Regression - Part II\n",
    "\n",
    "In previous tutorial, we learnt basic syntax and structure of **KTR** (or so called **BTVC**). We will shift the discussion to a regression problem.  \n",
    "\n",
    "Here in **Part I**, we will cover\n",
    "\n",
    "1. KTR model structure with regression\n",
    "2. Syntax to initialize, fit and predict a model\n",
    "3. Fit a model with regression component\n",
    "4. Visualization of knots and regression coefficients"
   ]
  },
  {
   "cell_type": "code",
   "execution_count": 9,
   "metadata": {
    "ExecuteTime": {
     "end_time": "2021-08-03T17:08:23.342938Z",
     "start_time": "2021-08-03T17:08:20.932839Z"
    }
   },
   "outputs": [],
   "source": [
    "import pandas as pd\n",
    "import numpy as np\n",
    "from math import pi\n",
    "import matplotlib.pyplot as plt\n",
    "\n",
    "import orbit\n",
    "from orbit.models import KTR\n",
    "from orbit.utils.features import make_fourier_series_df, make_fourier_series\n",
    "from orbit.diagnostics.plot import plot_predicted_components\n",
    "\n",
    "%matplotlib inline\n",
    "pd.set_option('display.float_format', lambda x: '%.5f' % x)"
   ]
  },
  {
   "cell_type": "code",
   "execution_count": 2,
   "metadata": {},
   "outputs": [],
   "source": [
    "%load_ext autoreload\n",
    "%autoreload 2"
   ]
  },
  {
   "cell_type": "code",
   "execution_count": 3,
   "metadata": {
    "ExecuteTime": {
     "end_time": "2021-08-03T17:08:23.347872Z",
     "start_time": "2021-08-03T17:08:23.344861Z"
    }
   },
   "outputs": [
    {
     "name": "stdout",
     "output_type": "stream",
     "text": [
      "1.0.16dev\n"
     ]
    }
   ],
   "source": [
    "print(orbit.__version__)"
   ]
  },
  {
   "cell_type": "markdown",
   "metadata": {
    "tags": []
   },
   "source": [
    "## Model Structure"
   ]
  },
  {
   "cell_type": "markdown",
   "metadata": {
    "ExecuteTime": {
     "end_time": "2021-03-11T20:23:30.317731Z",
     "start_time": "2021-03-11T20:23:30.307892Z"
    }
   },
   "source": [
    "Our goal is to derive an additive form such that \n",
    "\n",
    "$$y_t = l_t + s_t + r_t + \\epsilon_t,  ~ t = 1,\\cdots, T,$$\n",
    "\n",
    "where $y_t$ is the response variable, $l_t$ is the trend term,  $s_t$ is the seasonality term and $r_t$ is the regression term.\n",
    "\n",
    "For details of how we we derive $l_t$ and $s_t$, please refer to **Part I**."
   ]
  },
  {
   "cell_type": "markdown",
   "metadata": {},
   "source": [
    "Recall in **KTR**, we express regression coefficients $\\beta$ as such\n",
    "\n",
    "$$\\beta=Kb^T$$\n",
    "\n",
    "where\n",
    "\n",
    "- *knot matrix* $b$ with size $P\\times J$  where each entry is a latent vairable  $b_{p, j}$ can be viewed as the \"knots\" from the perspective of spline regression and\n",
    "$j$ is a time index such that $t_j \\in [1, \\cdots, T]$.\n",
    "- *kernel matrix*  $K$  with size $T\\times J$ where the $i$th row and $j$th element can be viewed as the noramlied weight $k(t_j, t) / \\sum_{j=1}^{J} k(t_j, t)$\n",
    "\n",
    "In regression, we generate the matrix $K$ with Gaussian kernel $k_\\text{reg}$ as such:\n",
    "\n",
    "$k_\\text{reg}(t, t_j;\\rho) = \\exp ( -\\frac{(t-t_j)^2}{2\\rho^2}  ),$\n",
    "\n",
    "where $\\rho$ is the scale hyper-parameter."
   ]
  },
  {
   "cell_type": "markdown",
   "metadata": {},
   "source": [
    "## Data Simulation Module\n",
    "\n",
    "In this example, we will use simulated data in order to have true regression coefficients for comparison.  We propose two set of simulations with three predictors:\n",
    "\n",
    "- random walk\n",
    "- sine-cosine like "
   ]
  },
  {
   "cell_type": "code",
   "execution_count": 10,
   "metadata": {
    "ExecuteTime": {
     "end_time": "2021-07-13T22:43:01.086726Z",
     "start_time": "2021-07-13T22:43:01.044630Z"
    }
   },
   "outputs": [],
   "source": [
    "def sim_data_seasonal(n, RS):\n",
    "    \"\"\" coefficients curve are sine-cosine like\n",
    "    \"\"\"\n",
    "    np.random.seed(RS)\n",
    "    # make the time varing coefs  \n",
    "    tau = np.arange(1, n+1)/n\n",
    "    data = pd.DataFrame({\n",
    "        'tau': tau,\n",
    "        'date': pd.date_range(start='1/1/2018', periods=n),\n",
    "        'beta1': 2 * tau,\n",
    "        'beta2': 1.01 + np.sin(2*pi*tau),\n",
    "        'beta3': 1.01 + np.sin(4*pi*(tau-1/8)),\n",
    "        'x1': np.random.normal(0, 10, size=n),\n",
    "        'x2': np.random.normal(0, 10, size=n),\n",
    "        'x3': np.random.normal(0, 10, size=n),\n",
    "        'trend': np.cumsum(np.concatenate((np.array([1]), np.random.normal(0, 0.1, n-1)))),\n",
    "        'error': np.random.normal(0, 1, size=n) #stats.t.rvs(30, size=n),#\n",
    "    })\n",
    "        \n",
    "    data['y'] = data.x1 * data.beta1 + data.x2 * data.beta2 + data.x3 * data.beta3 + data.error\n",
    "    return data\n",
    "\n",
    "def sim_data_rw(n, RS, p=3):\n",
    "    \"\"\" coefficients curve are sine-cosine like\n",
    "    \"\"\"\n",
    "    np.random.seed(RS)\n",
    "\n",
    "    # initializing coefficients at zeros, simulate all coefficient values\n",
    "    lev = np.cumsum(np.concatenate((np.array([5.0]), np.random.normal(0, 0.01, n-1))))\n",
    "    beta = np.concatenate(\n",
    "        [np.random.uniform(0.05, 0.12, size=(1,p)),\n",
    "         np.random.normal(0.0, 0.01, size=(n-1,p))], \n",
    "            axis=0)\n",
    "    beta = np.cumsum(beta, 0)\n",
    "\n",
    "    # simulate regressors\n",
    "    covariates = np.random.normal(0, 10, (n, p))\n",
    "\n",
    "    # observation with noise\n",
    "    y = lev + (covariates * beta).sum(-1) + 0.3 * np.random.normal(0, 1, n)\n",
    "\n",
    "    regressor_col = ['x{}'.format(pp) for pp in range(1, p+1)]\n",
    "    data = pd.DataFrame(covariates, columns=regressor_col)\n",
    "    beta_col = ['beta{}'.format(pp) for pp in range(1, p+1)]\n",
    "    beta_data = pd.DataFrame(beta, columns=beta_col)\n",
    "    data = pd.concat([data, beta_data], axis=1)\n",
    "        \n",
    "    data['y'] = y\n",
    "    data['date'] = pd.date_range(start='1/1/2018', periods=len(y))\n",
    "\n",
    "    return data"
   ]
  },
  {
   "cell_type": "markdown",
   "metadata": {},
   "source": [
    "### Random Walk Dataset"
   ]
  },
  {
   "cell_type": "code",
   "execution_count": 12,
   "metadata": {
    "ExecuteTime": {
     "end_time": "2021-07-13T22:43:01.205354Z",
     "start_time": "2021-07-13T22:43:01.156204Z"
    }
   },
   "outputs": [
    {
     "data": {
      "text/html": [
       "<div>\n",
       "<style scoped>\n",
       "    .dataframe tbody tr th:only-of-type {\n",
       "        vertical-align: middle;\n",
       "    }\n",
       "\n",
       "    .dataframe tbody tr th {\n",
       "        vertical-align: top;\n",
       "    }\n",
       "\n",
       "    .dataframe thead th {\n",
       "        text-align: right;\n",
       "    }\n",
       "</style>\n",
       "<table border=\"1\" class=\"dataframe\">\n",
       "  <thead>\n",
       "    <tr style=\"text-align: right;\">\n",
       "      <th></th>\n",
       "      <th>x1</th>\n",
       "      <th>x2</th>\n",
       "      <th>x3</th>\n",
       "      <th>beta1</th>\n",
       "      <th>beta2</th>\n",
       "      <th>beta3</th>\n",
       "      <th>y</th>\n",
       "      <th>date</th>\n",
       "    </tr>\n",
       "  </thead>\n",
       "  <tbody>\n",
       "    <tr>\n",
       "      <th>0</th>\n",
       "      <td>1.11869</td>\n",
       "      <td>12.57944</td>\n",
       "      <td>-18.70548</td>\n",
       "      <td>0.08383</td>\n",
       "      <td>0.11804</td>\n",
       "      <td>0.10688</td>\n",
       "      <td>4.23824</td>\n",
       "      <td>2018-01-01</td>\n",
       "    </tr>\n",
       "    <tr>\n",
       "      <th>1</th>\n",
       "      <td>0.25149</td>\n",
       "      <td>5.30067</td>\n",
       "      <td>8.97456</td>\n",
       "      <td>0.08158</td>\n",
       "      <td>0.11665</td>\n",
       "      <td>0.11608</td>\n",
       "      <td>6.76230</td>\n",
       "      <td>2018-01-02</td>\n",
       "    </tr>\n",
       "    <tr>\n",
       "      <th>2</th>\n",
       "      <td>-12.53590</td>\n",
       "      <td>2.13434</td>\n",
       "      <td>4.22410</td>\n",
       "      <td>0.08384</td>\n",
       "      <td>0.11274</td>\n",
       "      <td>0.12169</td>\n",
       "      <td>4.57635</td>\n",
       "      <td>2018-01-03</td>\n",
       "    </tr>\n",
       "    <tr>\n",
       "      <th>3</th>\n",
       "      <td>-6.83038</td>\n",
       "      <td>3.09457</td>\n",
       "      <td>-1.92619</td>\n",
       "      <td>0.06779</td>\n",
       "      <td>0.11135</td>\n",
       "      <td>0.12628</td>\n",
       "      <td>4.49756</td>\n",
       "      <td>2018-01-04</td>\n",
       "    </tr>\n",
       "    <tr>\n",
       "      <th>4</th>\n",
       "      <td>-3.37015</td>\n",
       "      <td>3.89962</td>\n",
       "      <td>-3.08311</td>\n",
       "      <td>0.08633</td>\n",
       "      <td>0.09988</td>\n",
       "      <td>0.13899</td>\n",
       "      <td>5.23037</td>\n",
       "      <td>2018-01-05</td>\n",
       "    </tr>\n",
       "    <tr>\n",
       "      <th>5</th>\n",
       "      <td>-3.36446</td>\n",
       "      <td>-4.18615</td>\n",
       "      <td>13.14925</td>\n",
       "      <td>0.07620</td>\n",
       "      <td>0.10859</td>\n",
       "      <td>0.14255</td>\n",
       "      <td>6.10277</td>\n",
       "      <td>2018-01-06</td>\n",
       "    </tr>\n",
       "    <tr>\n",
       "      <th>6</th>\n",
       "      <td>-3.66356</td>\n",
       "      <td>-14.79541</td>\n",
       "      <td>-1.73128</td>\n",
       "      <td>0.09153</td>\n",
       "      <td>0.09901</td>\n",
       "      <td>0.15621</td>\n",
       "      <td>3.28499</td>\n",
       "      <td>2018-01-07</td>\n",
       "    </tr>\n",
       "    <tr>\n",
       "      <th>7</th>\n",
       "      <td>7.20599</td>\n",
       "      <td>-5.62337</td>\n",
       "      <td>-11.80655</td>\n",
       "      <td>0.10095</td>\n",
       "      <td>0.09951</td>\n",
       "      <td>0.16008</td>\n",
       "      <td>2.52902</td>\n",
       "      <td>2018-01-08</td>\n",
       "    </tr>\n",
       "    <tr>\n",
       "      <th>8</th>\n",
       "      <td>-3.64366</td>\n",
       "      <td>3.79963</td>\n",
       "      <td>-1.39817</td>\n",
       "      <td>0.10064</td>\n",
       "      <td>0.08795</td>\n",
       "      <td>0.16389</td>\n",
       "      <td>4.90898</td>\n",
       "      <td>2018-01-09</td>\n",
       "    </tr>\n",
       "    <tr>\n",
       "      <th>9</th>\n",
       "      <td>9.22233</td>\n",
       "      <td>1.69517</td>\n",
       "      <td>-0.89649</td>\n",
       "      <td>0.09850</td>\n",
       "      <td>0.08597</td>\n",
       "      <td>0.17241</td>\n",
       "      <td>5.52978</td>\n",
       "      <td>2018-01-10</td>\n",
       "    </tr>\n",
       "  </tbody>\n",
       "</table>\n",
       "</div>"
      ],
      "text/plain": [
       "         x1        x2        x3   beta1   beta2   beta3       y       date\n",
       "0   1.11869  12.57944 -18.70548 0.08383 0.11804 0.10688 4.23824 2018-01-01\n",
       "1   0.25149   5.30067   8.97456 0.08158 0.11665 0.11608 6.76230 2018-01-02\n",
       "2 -12.53590   2.13434   4.22410 0.08384 0.11274 0.12169 4.57635 2018-01-03\n",
       "3  -6.83038   3.09457  -1.92619 0.06779 0.11135 0.12628 4.49756 2018-01-04\n",
       "4  -3.37015   3.89962  -3.08311 0.08633 0.09988 0.13899 5.23037 2018-01-05\n",
       "5  -3.36446  -4.18615  13.14925 0.07620 0.10859 0.14255 6.10277 2018-01-06\n",
       "6  -3.66356 -14.79541  -1.73128 0.09153 0.09901 0.15621 3.28499 2018-01-07\n",
       "7   7.20599  -5.62337 -11.80655 0.10095 0.09951 0.16008 2.52902 2018-01-08\n",
       "8  -3.64366   3.79963  -1.39817 0.10064 0.08795 0.16389 4.90898 2018-01-09\n",
       "9   9.22233   1.69517  -0.89649 0.09850 0.08597 0.17241 5.52978 2018-01-10"
      ]
     },
     "execution_count": 12,
     "metadata": {},
     "output_type": "execute_result"
    }
   ],
   "source": [
    "rw_data = sim_data_rw(n=300, RS=8888, p=3)\n",
    "rw_data.head(10)"
   ]
  },
  {
   "cell_type": "markdown",
   "metadata": {},
   "source": [
    "Let's derive some metadata for fitting purpose."
   ]
  },
  {
   "cell_type": "code",
   "execution_count": 30,
   "metadata": {},
   "outputs": [],
   "source": [
    "# num of predictors\n",
    "p = 3\n",
    "regressor_col = ['x{}'.format(pp) for pp in range(1, p + 1)]\n",
    "response_col = 'y'\n",
    "date_col='date'"
   ]
  },
  {
   "cell_type": "markdown",
   "metadata": {},
   "source": [
    "Unlike fitting a model without regressors, we need to supply additional args to describe the priors for regression. After the initialization, the fit-and-predict would be similar to models without regressors."
   ]
  },
  {
   "cell_type": "code",
   "execution_count": 26,
   "metadata": {},
   "outputs": [],
   "source": [
    "ktr = KTR(\n",
    "    response_col=response_col,\n",
    "    date_col=date_col,\n",
    "    \n",
    "    level_knot_scale=0.1,\n",
    "    regressor_col=regressor_col,\n",
    "    regressor_init_knot_loc=[0] * len(regressor_col),\n",
    "    regressor_init_knot_scale=[1.0] * len(regressor_col),\n",
    "    regressor_knot_scale=[0.5] * len(regressor_col),\n",
    "    regression_segments=5,\n",
    "\n",
    "    prediction_percentiles=[2.5, 97.5],\n",
    "    seed=2020,\n",
    "\n",
    "    estimator='pyro-svi'\n",
    ")"
   ]
  },
  {
   "cell_type": "code",
   "execution_count": 27,
   "metadata": {},
   "outputs": [
    {
     "name": "stderr",
     "output_type": "stream",
     "text": [
      "INFO:root:Guessed max_plate_nesting = 1\n"
     ]
    }
   ],
   "source": [
    "ktr.fit(df=rw_data)"
   ]
  },
  {
   "cell_type": "code",
   "execution_count": 29,
   "metadata": {},
   "outputs": [
    {
     "data": {
      "image/png": "[encoded data removed]",
      "text/plain": [
       "<Figure size 1000x500 with 4 Axes>"
      ]
     },
     "metadata": {},
     "output_type": "display_data"
    }
   ],
   "source": [
    "ktr.plot_regression_coefs(with_knot=True, figsize=(10, 5), include_ci=True);"
   ]
  },
  {
   "cell_type": "code",
   "execution_count": 31,
   "metadata": {},
   "outputs": [],
   "source": [
    "coef_mid, coef_lower, coef_upper  = ktr.get_regression_coefs(include_ci=True, coefficient_method='empirical')"
   ]
  },
  {
   "cell_type": "code",
   "execution_count": 32,
   "metadata": {},
   "outputs": [
    {
     "data": {
      "image/png": "[encoded data removed]",
      "text/plain": [
       "<Figure size 432x288 with 1 Axes>"
      ]
     },
     "metadata": {
      "needs_background": "light"
     },
     "output_type": "display_data"
    }
   ],
   "source": [
    "idx = 3\n",
    "\n",
    "x = np.arange(coef_mid.shape[0])\n",
    "\n",
    "plt.plot(x, coef_mid['x{}'.format(idx)], label='est', alpha=0.5)\n",
    "plt.fill_between(x, coef_lower['x{}'.format(idx)], coef_upper['x{}'.format(idx)], label='est', alpha=0.5)\n",
    "plt.scatter(x, rw_data['beta{}'.format(idx)], label='truth', s=10, alpha=0.5)\n",
    "plt.legend();"
   ]
  },
  {
   "cell_type": "code",
   "execution_count": 11,
   "metadata": {
    "ExecuteTime": {
     "end_time": "2021-07-13T22:43:01.153722Z",
     "start_time": "2021-07-13T22:43:01.089493Z"
    }
   },
   "outputs": [
    {
     "data": {
      "text/html": [
       "<div>\n",
       "<style scoped>\n",
       "    .dataframe tbody tr th:only-of-type {\n",
       "        vertical-align: middle;\n",
       "    }\n",
       "\n",
       "    .dataframe tbody tr th {\n",
       "        vertical-align: top;\n",
       "    }\n",
       "\n",
       "    .dataframe thead th {\n",
       "        text-align: right;\n",
       "    }\n",
       "</style>\n",
       "<table border=\"1\" class=\"dataframe\">\n",
       "  <thead>\n",
       "    <tr style=\"text-align: right;\">\n",
       "      <th></th>\n",
       "      <th>tau</th>\n",
       "      <th>date</th>\n",
       "      <th>beta1</th>\n",
       "      <th>beta2</th>\n",
       "      <th>beta3</th>\n",
       "      <th>x1</th>\n",
       "      <th>x2</th>\n",
       "      <th>x3</th>\n",
       "      <th>trend</th>\n",
       "      <th>error</th>\n",
       "      <th>y</th>\n",
       "    </tr>\n",
       "  </thead>\n",
       "  <tbody>\n",
       "    <tr>\n",
       "      <th>0</th>\n",
       "      <td>0.00100</td>\n",
       "      <td>2018-01-01</td>\n",
       "      <td>0.00200</td>\n",
       "      <td>1.01628</td>\n",
       "      <td>0.01008</td>\n",
       "      <td>-4.11220</td>\n",
       "      <td>6.23525</td>\n",
       "      <td>8.31807</td>\n",
       "      <td>1.00000</td>\n",
       "      <td>-0.77202</td>\n",
       "      <td>5.64037</td>\n",
       "    </tr>\n",
       "    <tr>\n",
       "      <th>1</th>\n",
       "      <td>0.00200</td>\n",
       "      <td>2018-01-02</td>\n",
       "      <td>0.00400</td>\n",
       "      <td>1.02257</td>\n",
       "      <td>0.01032</td>\n",
       "      <td>-0.49928</td>\n",
       "      <td>-14.81601</td>\n",
       "      <td>3.64103</td>\n",
       "      <td>1.07515</td>\n",
       "      <td>1.24357</td>\n",
       "      <td>-13.87121</td>\n",
       "    </tr>\n",
       "    <tr>\n",
       "      <th>2</th>\n",
       "      <td>0.00300</td>\n",
       "      <td>2018-01-03</td>\n",
       "      <td>0.00600</td>\n",
       "      <td>1.02885</td>\n",
       "      <td>0.01071</td>\n",
       "      <td>1.82603</td>\n",
       "      <td>-2.89778</td>\n",
       "      <td>-17.14413</td>\n",
       "      <td>1.27849</td>\n",
       "      <td>-0.35215</td>\n",
       "      <td>-3.50620</td>\n",
       "    </tr>\n",
       "    <tr>\n",
       "      <th>3</th>\n",
       "      <td>0.00400</td>\n",
       "      <td>2018-01-04</td>\n",
       "      <td>0.00800</td>\n",
       "      <td>1.03513</td>\n",
       "      <td>0.01126</td>\n",
       "      <td>24.87474</td>\n",
       "      <td>5.43950</td>\n",
       "      <td>6.05519</td>\n",
       "      <td>1.10474</td>\n",
       "      <td>-0.57194</td>\n",
       "      <td>5.32585</td>\n",
       "    </tr>\n",
       "    <tr>\n",
       "      <th>4</th>\n",
       "      <td>0.00500</td>\n",
       "      <td>2018-01-05</td>\n",
       "      <td>0.01000</td>\n",
       "      <td>1.04141</td>\n",
       "      <td>0.01197</td>\n",
       "      <td>1.73458</td>\n",
       "      <td>-16.38398</td>\n",
       "      <td>9.07501</td>\n",
       "      <td>1.05908</td>\n",
       "      <td>-0.21802</td>\n",
       "      <td>-17.15447</td>\n",
       "    </tr>\n",
       "    <tr>\n",
       "      <th>5</th>\n",
       "      <td>0.00600</td>\n",
       "      <td>2018-01-06</td>\n",
       "      <td>0.01200</td>\n",
       "      <td>1.04769</td>\n",
       "      <td>0.01284</td>\n",
       "      <td>-11.05969</td>\n",
       "      <td>12.49470</td>\n",
       "      <td>2.57794</td>\n",
       "      <td>1.08820</td>\n",
       "      <td>0.54140</td>\n",
       "      <td>13.53236</td>\n",
       "    </tr>\n",
       "    <tr>\n",
       "      <th>6</th>\n",
       "      <td>0.00700</td>\n",
       "      <td>2018-01-07</td>\n",
       "      <td>0.01400</td>\n",
       "      <td>1.05397</td>\n",
       "      <td>0.01387</td>\n",
       "      <td>-6.06592</td>\n",
       "      <td>4.60646</td>\n",
       "      <td>-9.18224</td>\n",
       "      <td>1.15337</td>\n",
       "      <td>0.47460</td>\n",
       "      <td>5.11741</td>\n",
       "    </tr>\n",
       "    <tr>\n",
       "      <th>7</th>\n",
       "      <td>0.00800</td>\n",
       "      <td>2018-01-08</td>\n",
       "      <td>0.01600</td>\n",
       "      <td>1.06024</td>\n",
       "      <td>0.01505</td>\n",
       "      <td>0.94524</td>\n",
       "      <td>3.45029</td>\n",
       "      <td>13.37669</td>\n",
       "      <td>1.24468</td>\n",
       "      <td>2.12243</td>\n",
       "      <td>5.99701</td>\n",
       "    </tr>\n",
       "    <tr>\n",
       "      <th>8</th>\n",
       "      <td>0.00900</td>\n",
       "      <td>2018-01-09</td>\n",
       "      <td>0.01800</td>\n",
       "      <td>1.06652</td>\n",
       "      <td>0.01639</td>\n",
       "      <td>11.62823</td>\n",
       "      <td>11.26265</td>\n",
       "      <td>16.72255</td>\n",
       "      <td>1.16751</td>\n",
       "      <td>0.43905</td>\n",
       "      <td>12.93424</td>\n",
       "    </tr>\n",
       "    <tr>\n",
       "      <th>9</th>\n",
       "      <td>0.01000</td>\n",
       "      <td>2018-01-10</td>\n",
       "      <td>0.02000</td>\n",
       "      <td>1.07279</td>\n",
       "      <td>0.01789</td>\n",
       "      <td>2.74087</td>\n",
       "      <td>2.27104</td>\n",
       "      <td>-17.40526</td>\n",
       "      <td>1.35274</td>\n",
       "      <td>0.49626</td>\n",
       "      <td>2.67613</td>\n",
       "    </tr>\n",
       "  </tbody>\n",
       "</table>\n",
       "</div>"
      ],
      "text/plain": [
       "      tau       date   beta1   beta2   beta3        x1        x2        x3  \\\n",
       "0 0.00100 2018-01-01 0.00200 1.01628 0.01008  -4.11220   6.23525   8.31807   \n",
       "1 0.00200 2018-01-02 0.00400 1.02257 0.01032  -0.49928 -14.81601   3.64103   \n",
       "2 0.00300 2018-01-03 0.00600 1.02885 0.01071   1.82603  -2.89778 -17.14413   \n",
       "3 0.00400 2018-01-04 0.00800 1.03513 0.01126  24.87474   5.43950   6.05519   \n",
       "4 0.00500 2018-01-05 0.01000 1.04141 0.01197   1.73458 -16.38398   9.07501   \n",
       "5 0.00600 2018-01-06 0.01200 1.04769 0.01284 -11.05969  12.49470   2.57794   \n",
       "6 0.00700 2018-01-07 0.01400 1.05397 0.01387  -6.06592   4.60646  -9.18224   \n",
       "7 0.00800 2018-01-08 0.01600 1.06024 0.01505   0.94524   3.45029  13.37669   \n",
       "8 0.00900 2018-01-09 0.01800 1.06652 0.01639  11.62823  11.26265  16.72255   \n",
       "9 0.01000 2018-01-10 0.02000 1.07279 0.01789   2.74087   2.27104 -17.40526   \n",
       "\n",
       "    trend    error         y  \n",
       "0 1.00000 -0.77202   5.64037  \n",
       "1 1.07515  1.24357 -13.87121  \n",
       "2 1.27849 -0.35215  -3.50620  \n",
       "3 1.10474 -0.57194   5.32585  \n",
       "4 1.05908 -0.21802 -17.15447  \n",
       "5 1.08820  0.54140  13.53236  \n",
       "6 1.15337  0.47460   5.11741  \n",
       "7 1.24468  2.12243   5.99701  \n",
       "8 1.16751  0.43905  12.93424  \n",
       "9 1.35274  0.49626   2.67613  "
      ]
     },
     "execution_count": 11,
     "metadata": {},
     "output_type": "execute_result"
    }
   ],
   "source": [
    "seas_data = sim_data_seasonal(n=1000, RS=8888)\n",
    "seas_data.head(10)"
   ]
  }
 ],
 "metadata": {
  "kernelspec": {
   "display_name": "Python 3",
   "language": "python",
   "name": "python3"
  },
  "language_info": {
   "codemirror_mode": {
    "name": "ipython",
    "version": 3
   },
   "file_extension": ".py",
   "mimetype": "text/x-python",
   "name": "python",
   "nbconvert_exporter": "python",
   "pygments_lexer": "ipython3",
   "version": "3.7.8"
  },
  "toc": {
   "base_numbering": 1,
   "nav_menu": {},
   "number_sections": true,
   "sideBar": true,
   "skip_h1_title": true,
   "title_cell": "Table of Contents",
   "title_sidebar": "Contents",
   "toc_cell": false,
   "toc_position": {},
   "toc_section_display": true,
   "toc_window_display": true
  }
 },
 "nbformat": 4,
 "nbformat_minor": 4
}
