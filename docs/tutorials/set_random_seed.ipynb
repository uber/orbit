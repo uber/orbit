{
 "cells": [
  {
   "cell_type": "markdown",
   "id": "a06dbe8d",
   "metadata": {},
   "source": [
    "# Control Randomness in Fit and Predict "
   ]
  },
  {
   "cell_type": "markdown",
   "id": "f6f65512",
   "metadata": {},
   "source": [
    "There are randomness involved in the random initialization, sampling and bootstrapping process. Some of them with sufficient condition such as converging status and large amount of samples, can be fixed even without a fixed seed.  However, they are not guaranteed. Two settings needed to allow fully reproducible results and will be demoed from this session:\n",
    "\n",
    "1. fix the seed on fitting\n",
    "2. fix the seed on prediction"
   ]
  },
  {
   "cell_type": "markdown",
   "id": "c328c996",
   "metadata": {},
   "source": [
    "## Data and Libraries"
   ]
  },
  {
   "cell_type": "code",
   "execution_count": 20,
   "id": "586e54eb",
   "metadata": {},
   "outputs": [],
   "source": [
    "import numpy as np\n",
    "\n",
    "import orbit\n",
    "from orbit.models import DLT\n",
    "from orbit.utils.dataset import load_iclaims"
   ]
  },
  {
   "cell_type": "code",
   "execution_count": 6,
   "id": "8a1bef5c",
   "metadata": {},
   "outputs": [
    {
     "name": "stdout",
     "output_type": "stream",
     "text": [
      "1.1.1dev\n"
     ]
    }
   ],
   "source": [
    "print(orbit.__version__)"
   ]
  },
  {
   "cell_type": "code",
   "execution_count": 7,
   "id": "ed861a8c",
   "metadata": {},
   "outputs": [],
   "source": [
    "df = load_iclaims()\n",
    "df.head(5)"
   ]
  },
  {
   "cell_type": "markdown",
   "id": "9d3b0067",
   "metadata": {},
   "source": [
    "## Fixing Seed in Fitting"
   ]
  },
  {
   "cell_type": "markdown",
   "id": "ee429b0c",
   "metadata": {},
   "source": [
    "By default, the seed supplied during the **initialization** step is fixed. This allows fully reproducible posteriors samples by default. For other purpose, users can randomize the seed. Nonetheless, this process usually assumes stable result with or without a fixed seed. Otherwise, convergence alert should be raised."
   ]
  },
  {
   "cell_type": "markdown",
   "id": "42115ebd",
   "metadata": {},
   "source": [
    "With different seeds, results should be closed but not identical:"
   ]
  },
  {
   "cell_type": "code",
   "execution_count": 71,
   "id": "04d590e2",
   "metadata": {},
   "outputs": [
    {
     "name": "stderr",
     "output_type": "stream",
     "text": [
      "INFO:orbit:Optimizing (PyStan) with algorithm: LBFGS.\n",
      "INFO:orbit:Optimizing (PyStan) with algorithm: LBFGS.\n"
     ]
    }
   ],
   "source": [
    "dlt1 = DLT(response_col='claims', date_col='week', seed=2021, estimator='stan-map', n_bootstrap_draws=1e3)\n",
    "dlt2 = DLT(response_col='claims', date_col='week', seed=2020, estimator='stan-map', n_bootstrap_draws=1e3)\n",
    "\n",
    "dlt1.fit(df);\n",
    "dlt2.fit(df);\n",
    "\n",
    "lev1 = dlt1.get_point_posteriors()['map']['l']\n",
    "lev2 = dlt2.get_point_posteriors()['map']['l']"
   ]
  },
  {
   "cell_type": "code",
   "execution_count": 72,
   "id": "4580c9e8",
   "metadata": {},
   "outputs": [
    {
     "data": {
      "text/plain": [
       "False"
      ]
     },
     "execution_count": 72,
     "metadata": {},
     "output_type": "execute_result"
    }
   ],
   "source": [
    "np.all(lev1 == lev2)"
   ]
  },
  {
   "cell_type": "code",
   "execution_count": 73,
   "id": "983de8e0",
   "metadata": {},
   "outputs": [
    {
     "data": {
      "text/plain": [
       "True"
      ]
     },
     "execution_count": 73,
     "metadata": {},
     "output_type": "execute_result"
    }
   ],
   "source": [
    "np.allclose(lev1, lev2, rtol=1e-3)"
   ]
  },
  {
   "cell_type": "markdown",
   "id": "08e2474f",
   "metadata": {},
   "source": [
    "With fixed seeds, results should be identical:"
   ]
  },
  {
   "cell_type": "code",
   "execution_count": 74,
   "id": "f55cdbb6",
   "metadata": {},
   "outputs": [
    {
     "name": "stderr",
     "output_type": "stream",
     "text": [
      "INFO:orbit:Optimizing (PyStan) with algorithm: LBFGS.\n",
      "INFO:orbit:Optimizing (PyStan) with algorithm: LBFGS.\n"
     ]
    }
   ],
   "source": [
    "dlt1 = DLT(response_col='claims', date_col='week', seed=2020, estimator='stan-map', n_bootstrap_draws=1e3)\n",
    "dlt2 = DLT(response_col='claims', date_col='week', seed=2020, estimator='stan-map', n_bootstrap_draws=1e3)\n",
    "\n",
    "dlt1.fit(df);\n",
    "dlt2.fit(df);\n",
    "\n",
    "lev1 = dlt1.get_point_posteriors()['map']['l']\n",
    "lev2 = dlt2.get_point_posteriors()['map']['l']"
   ]
  },
  {
   "cell_type": "code",
   "execution_count": 76,
   "id": "5846e2da",
   "metadata": {},
   "outputs": [
    {
     "data": {
      "text/plain": [
       "True"
      ]
     },
     "execution_count": 76,
     "metadata": {},
     "output_type": "execute_result"
    }
   ],
   "source": [
    "np.all(lev1 == lev2)"
   ]
  },
  {
   "cell_type": "markdown",
   "id": "a4dbb6a8",
   "metadata": {},
   "source": [
    "In sampling algorithm, users should expect identical posteriors with fixed seed:"
   ]
  },
  {
   "cell_type": "code",
   "execution_count": 77,
   "id": "95a9cb20",
   "metadata": {},
   "outputs": [
    {
     "name": "stderr",
     "output_type": "stream",
     "text": [
      "INFO:orbit:Sampling (PyStan) with chains: 4, cores: 8, temperature: 1.000, warmups (per chain): 225 and samples(per chain): 25.\n",
      "WARNING:pystan:Maximum (flat) parameter count (1000) exceeded: skipping diagnostic tests for n_eff and Rhat.\n",
      "To run all diagnostics call pystan.check_hmc_diagnostics(fit)\n",
      "INFO:orbit:Sampling (PyStan) with chains: 4, cores: 8, temperature: 1.000, warmups (per chain): 225 and samples(per chain): 25.\n",
      "WARNING:pystan:Maximum (flat) parameter count (1000) exceeded: skipping diagnostic tests for n_eff and Rhat.\n",
      "To run all diagnostics call pystan.check_hmc_diagnostics(fit)\n"
     ]
    }
   ],
   "source": [
    "dlt_mcmc1 = DLT(response_col='claims', date_col='week', seed=2020, estimator='stan-mcmc')\n",
    "dlt_mcmc2 = DLT(response_col='claims', date_col='week', seed=2020, estimator='stan-mcmc')\n",
    "\n",
    "dlt_mcmc1.fit(df);\n",
    "dlt_mcmc2.fit(df);\n",
    "\n",
    "lev_mcmc1 = dlt_mcmc1.get_posterior_samples()['l']\n",
    "lev_mcmc2 = dlt_mcmc2.get_posterior_samples()['l']"
   ]
  },
  {
   "cell_type": "code",
   "execution_count": 78,
   "id": "8086093a",
   "metadata": {},
   "outputs": [
    {
     "name": "stdout",
     "output_type": "stream",
     "text": [
      "(100, 443)\n",
      "(100, 443)\n"
     ]
    },
    {
     "data": {
      "text/plain": [
       "True"
      ]
     },
     "execution_count": 78,
     "metadata": {},
     "output_type": "execute_result"
    }
   ],
   "source": [
    "print(lev_mcmc1.shape)\n",
    "print(lev_mcmc2.shape)\n",
    "np.all(lev1 == lev2)"
   ]
  },
  {
   "cell_type": "markdown",
   "id": "fdc989ad",
   "metadata": {},
   "source": [
    "## Fixing Seed in Prediction"
   ]
  },
  {
   "cell_type": "markdown",
   "id": "2b7c8ace",
   "metadata": {},
   "source": [
    "Unlike the fitting process, the seed in prediction is set to be random by default unless users provided a fixed seed. Once a fixed seed provided through the args in `.predict()`. Users should expect identical result."
   ]
  },
  {
   "cell_type": "code",
   "execution_count": 79,
   "id": "e73c9f63",
   "metadata": {},
   "outputs": [],
   "source": [
    "# check with MAP estimator\n",
    "pred1 = dlt1.predict(df, seed=2020)['prediction'].values\n",
    "pred2 = dlt2.predict(df, seed=2020)['prediction'].values\n",
    "np.all(pred1 == pred2)"
   ]
  },
  {
   "cell_type": "code",
   "execution_count": 82,
   "id": "91d77d0d",
   "metadata": {},
   "outputs": [
    {
     "data": {
      "text/plain": [
       "True"
      ]
     },
     "execution_count": 82,
     "metadata": {},
     "output_type": "execute_result"
    }
   ],
   "source": [
    "# check with MCMC estimator\n",
    "pred1 = dlt_mcmc1.predict(df, seed=2020)['prediction'].values\n",
    "pred2 = dlt_mcmc2.predict(df, seed=2020)['prediction'].values\n",
    "np.all(pred1 == pred2)"
   ]
  }
 ],
 "metadata": {
  "kernelspec": {
   "display_name": "Python 3 (ipykernel)",
   "language": "python",
   "name": "python3"
  },
  "language_info": {
   "codemirror_mode": {
    "name": "ipython",
    "version": 3
   },
   "file_extension": ".py",
   "mimetype": "text/x-python",
   "name": "python",
   "nbconvert_exporter": "python",
   "pygments_lexer": "ipython3",
   "version": "3.7.9"
  },
  "toc": {
   "base_numbering": 1,
   "nav_menu": {},
   "number_sections": true,
   "sideBar": true,
   "skip_h1_title": false,
   "title_cell": "Table of Contents",
   "title_sidebar": "Contents",
   "toc_cell": false,
   "toc_position": {},
   "toc_section_display": true,
   "toc_window_display": false
  }
 },
 "nbformat": 4,
 "nbformat_minor": 5
}
