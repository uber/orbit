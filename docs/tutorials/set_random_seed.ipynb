{
 "cells": [
  {
   "cell_type": "markdown",
   "id": "776d6662",
   "metadata": {},
   "source": [
    "# Randomness Control and Reproducible Results "
   ]
  },
  {
   "cell_type": "markdown",
   "id": "cd44c160",
   "metadata": {},
   "source": [
    "There are randomness involved in the random initialization, sampling and bootstrapping process. Some of them with sufficient condition such as converging status and large amount of samples, can be fixed even without a fixed seed.  However, they are not guaranteed. Two settings needed to allow fully reproducible results and will be demoed from this session:\n",
    "\n",
    "1. fix the seed on fitting\n",
    "2. fix the seed on prediction"
   ]
  },
  {
   "cell_type": "markdown",
   "id": "2a1a7f08",
   "metadata": {},
   "source": [
    "## Data and Libraries"
   ]
  },
  {
   "cell_type": "code",
   "execution_count": 1,
   "id": "e7e8222a",
   "metadata": {
    "ExecuteTime": {
     "end_time": "2022-04-28T21:49:30.585320Z",
     "start_time": "2022-04-28T21:49:28.217223Z"
    }
   },
   "outputs": [],
   "source": [
    "import numpy as np\n",
    "\n",
    "import orbit\n",
    "from orbit.models import DLT\n",
    "from orbit.utils.dataset import load_iclaims"
   ]
  },
  {
   "cell_type": "code",
   "execution_count": 2,
   "id": "80293b6e",
   "metadata": {
    "ExecuteTime": {
     "end_time": "2022-04-28T21:49:30.590635Z",
     "start_time": "2022-04-28T21:49:30.587176Z"
    }
   },
   "outputs": [
    {
     "name": "stdout",
     "output_type": "stream",
     "text": [
      "1.1.3\n"
     ]
    }
   ],
   "source": [
    "print(orbit.__version__)"
   ]
  },
  {
   "cell_type": "code",
   "execution_count": 3,
   "id": "02708d49",
   "metadata": {},
   "outputs": [
    {
     "data": {
      "text/html": [
       "<div>\n",
       "<style scoped>\n",
       "    .dataframe tbody tr th:only-of-type {\n",
       "        vertical-align: middle;\n",
       "    }\n",
       "\n",
       "    .dataframe tbody tr th {\n",
       "        vertical-align: top;\n",
       "    }\n",
       "\n",
       "    .dataframe thead th {\n",
       "        text-align: right;\n",
       "    }\n",
       "</style>\n",
       "<table border=\"1\" class=\"dataframe\">\n",
       "  <thead>\n",
       "    <tr style=\"text-align: right;\">\n",
       "      <th></th>\n",
       "      <th>week</th>\n",
       "      <th>claims</th>\n",
       "      <th>trend.unemploy</th>\n",
       "      <th>trend.filling</th>\n",
       "      <th>trend.job</th>\n",
       "      <th>sp500</th>\n",
       "      <th>vix</th>\n",
       "    </tr>\n",
       "  </thead>\n",
       "  <tbody>\n",
       "    <tr>\n",
       "      <th>0</th>\n",
       "      <td>2010-01-03</td>\n",
       "      <td>13.386595</td>\n",
       "      <td>0.219882</td>\n",
       "      <td>-0.318452</td>\n",
       "      <td>0.117500</td>\n",
       "      <td>-0.417633</td>\n",
       "      <td>0.122654</td>\n",
       "    </tr>\n",
       "    <tr>\n",
       "      <th>1</th>\n",
       "      <td>2010-01-10</td>\n",
       "      <td>13.624218</td>\n",
       "      <td>0.219882</td>\n",
       "      <td>-0.194838</td>\n",
       "      <td>0.168794</td>\n",
       "      <td>-0.425480</td>\n",
       "      <td>0.110445</td>\n",
       "    </tr>\n",
       "    <tr>\n",
       "      <th>2</th>\n",
       "      <td>2010-01-17</td>\n",
       "      <td>13.398741</td>\n",
       "      <td>0.236143</td>\n",
       "      <td>-0.292477</td>\n",
       "      <td>0.117500</td>\n",
       "      <td>-0.465229</td>\n",
       "      <td>0.532339</td>\n",
       "    </tr>\n",
       "    <tr>\n",
       "      <th>3</th>\n",
       "      <td>2010-01-24</td>\n",
       "      <td>13.137549</td>\n",
       "      <td>0.203353</td>\n",
       "      <td>-0.194838</td>\n",
       "      <td>0.106918</td>\n",
       "      <td>-0.481751</td>\n",
       "      <td>0.428645</td>\n",
       "    </tr>\n",
       "    <tr>\n",
       "      <th>4</th>\n",
       "      <td>2010-01-31</td>\n",
       "      <td>13.196760</td>\n",
       "      <td>0.134360</td>\n",
       "      <td>-0.242466</td>\n",
       "      <td>0.074483</td>\n",
       "      <td>-0.488929</td>\n",
       "      <td>0.487404</td>\n",
       "    </tr>\n",
       "  </tbody>\n",
       "</table>\n",
       "</div>"
      ],
      "text/plain": [
       "        week     claims  trend.unemploy  trend.filling  trend.job     sp500  \\\n",
       "0 2010-01-03  13.386595        0.219882      -0.318452   0.117500 -0.417633   \n",
       "1 2010-01-10  13.624218        0.219882      -0.194838   0.168794 -0.425480   \n",
       "2 2010-01-17  13.398741        0.236143      -0.292477   0.117500 -0.465229   \n",
       "3 2010-01-24  13.137549        0.203353      -0.194838   0.106918 -0.481751   \n",
       "4 2010-01-31  13.196760        0.134360      -0.242466   0.074483 -0.488929   \n",
       "\n",
       "        vix  \n",
       "0  0.122654  \n",
       "1  0.110445  \n",
       "2  0.532339  \n",
       "3  0.428645  \n",
       "4  0.487404  "
      ]
     },
     "execution_count": 3,
     "metadata": {},
     "output_type": "execute_result"
    }
   ],
   "source": [
    "df = load_iclaims()\n",
    "df.head(5)"
   ]
  },
  {
   "cell_type": "markdown",
   "id": "a377ba4f",
   "metadata": {},
   "source": [
    "## Fixing Seed in Fitting"
   ]
  },
  {
   "cell_type": "markdown",
   "id": "1eb157a3",
   "metadata": {},
   "source": [
    "By default, the seed supplied during the **initialization** step is fixed. This allows fully reproducible posteriors samples by default. For other purpose, users can randomize the seed. Nonetheless, this process usually assumes stable result with or without a fixed seed. Otherwise, convergence alert should be raised."
   ]
  },
  {
   "cell_type": "markdown",
   "id": "cc54994c",
   "metadata": {},
   "source": [
    "With different seeds, results should be closed but not identical:"
   ]
  },
  {
   "cell_type": "code",
   "execution_count": 4,
   "id": "6e3dff86",
   "metadata": {},
   "outputs": [
    {
     "name": "stderr",
     "output_type": "stream",
     "text": [
      "INFO:orbit:Optimizing (PyStan) with algorithm: LBFGS.\n",
      "INFO:orbit:Optimizing (PyStan) with algorithm: LBFGS.\n"
     ]
    }
   ],
   "source": [
    "dlt1 = DLT(response_col='claims', date_col='week', seed=2021, estimator='stan-map', n_bootstrap_draws=1e3)\n",
    "dlt2 = DLT(response_col='claims', date_col='week', seed=2020, estimator='stan-map', n_bootstrap_draws=1e3)\n",
    "\n",
    "dlt1.fit(df);\n",
    "dlt2.fit(df);\n",
    "\n",
    "lev1 = dlt1.get_point_posteriors()['map']['l']\n",
    "lev2 = dlt2.get_point_posteriors()['map']['l']"
   ]
  },
  {
   "cell_type": "code",
   "execution_count": 5,
   "id": "5db4f75b",
   "metadata": {},
   "outputs": [
    {
     "data": {
      "text/plain": [
       "False"
      ]
     },
     "execution_count": 5,
     "metadata": {},
     "output_type": "execute_result"
    }
   ],
   "source": [
    "np.all(lev1 == lev2)"
   ]
  },
  {
   "cell_type": "code",
   "execution_count": 6,
   "id": "2c7519a1",
   "metadata": {},
   "outputs": [
    {
     "data": {
      "text/plain": [
       "True"
      ]
     },
     "execution_count": 6,
     "metadata": {},
     "output_type": "execute_result"
    }
   ],
   "source": [
    "np.allclose(lev1, lev2, rtol=1e-3)"
   ]
  },
  {
   "cell_type": "markdown",
   "id": "21a7b9ec",
   "metadata": {},
   "source": [
    "With fixed seeds, results should be identical:"
   ]
  },
  {
   "cell_type": "code",
   "execution_count": 7,
   "id": "52628866",
   "metadata": {},
   "outputs": [
    {
     "name": "stderr",
     "output_type": "stream",
     "text": [
      "INFO:orbit:Optimizing (PyStan) with algorithm: LBFGS.\n",
      "INFO:orbit:Optimizing (PyStan) with algorithm: LBFGS.\n"
     ]
    }
   ],
   "source": [
    "dlt1 = DLT(response_col='claims', date_col='week', seed=2020, estimator='stan-map', n_bootstrap_draws=1e3)\n",
    "dlt2 = DLT(response_col='claims', date_col='week', seed=2020, estimator='stan-map', n_bootstrap_draws=1e3)\n",
    "\n",
    "dlt1.fit(df);\n",
    "dlt2.fit(df);\n",
    "\n",
    "lev1 = dlt1.get_point_posteriors()['map']['l']\n",
    "lev2 = dlt2.get_point_posteriors()['map']['l']"
   ]
  },
  {
   "cell_type": "code",
   "execution_count": 8,
   "id": "051faba0",
   "metadata": {},
   "outputs": [
    {
     "data": {
      "text/plain": [
       "True"
      ]
     },
     "execution_count": 8,
     "metadata": {},
     "output_type": "execute_result"
    }
   ],
   "source": [
    "np.all(lev1 == lev2)"
   ]
  },
  {
   "cell_type": "markdown",
   "id": "331c6ebf",
   "metadata": {},
   "source": [
    "In sampling algorithm, users should expect identical posteriors with fixed seed:"
   ]
  },
  {
   "cell_type": "code",
   "execution_count": 9,
   "id": "6fb32e17",
   "metadata": {},
   "outputs": [
    {
     "name": "stderr",
     "output_type": "stream",
     "text": [
      "INFO:orbit:Sampling (PyStan) with chains: 4, cores: 8, temperature: 1.000, warmups (per chain): 225 and samples(per chain): 25.\n",
      "WARNING:pystan:Maximum (flat) parameter count (1000) exceeded: skipping diagnostic tests for n_eff and Rhat.\n",
      "To run all diagnostics call pystan.check_hmc_diagnostics(fit)\n",
      "INFO:orbit:Sampling (PyStan) with chains: 4, cores: 8, temperature: 1.000, warmups (per chain): 225 and samples(per chain): 25.\n",
      "WARNING:pystan:Maximum (flat) parameter count (1000) exceeded: skipping diagnostic tests for n_eff and Rhat.\n",
      "To run all diagnostics call pystan.check_hmc_diagnostics(fit)\n"
     ]
    }
   ],
   "source": [
    "dlt_mcmc1 = DLT(response_col='claims', date_col='week', seed=2020, estimator='stan-mcmc')\n",
    "dlt_mcmc2 = DLT(response_col='claims', date_col='week', seed=2020, estimator='stan-mcmc')\n",
    "\n",
    "dlt_mcmc1.fit(df);\n",
    "dlt_mcmc2.fit(df);\n",
    "\n",
    "lev_mcmc1 = dlt_mcmc1.get_posterior_samples()['l']\n",
    "lev_mcmc2 = dlt_mcmc2.get_posterior_samples()['l']"
   ]
  },
  {
   "cell_type": "code",
   "execution_count": 10,
   "id": "1ed37f68",
   "metadata": {},
   "outputs": [
    {
     "name": "stdout",
     "output_type": "stream",
     "text": [
      "(100, 443)\n",
      "(100, 443)\n"
     ]
    },
    {
     "data": {
      "text/plain": [
       "True"
      ]
     },
     "execution_count": 10,
     "metadata": {},
     "output_type": "execute_result"
    }
   ],
   "source": [
    "print(lev_mcmc1.shape)\n",
    "print(lev_mcmc2.shape)\n",
    "np.all(lev1 == lev2)"
   ]
  },
  {
   "cell_type": "markdown",
   "id": "039a3f79",
   "metadata": {},
   "source": [
    "## Fixing Seed in Prediction"
   ]
  },
  {
   "cell_type": "markdown",
   "id": "caa173cc",
   "metadata": {},
   "source": [
    "Unlike the fitting process, the seed in prediction is set to be random by default unless users provided a fixed seed. Once a fixed seed provided through the args in `.predict()`. Users should expect identical result."
   ]
  },
  {
   "cell_type": "code",
   "execution_count": 11,
   "id": "66c523cc",
   "metadata": {},
   "outputs": [
    {
     "data": {
      "text/plain": [
       "True"
      ]
     },
     "execution_count": 11,
     "metadata": {},
     "output_type": "execute_result"
    }
   ],
   "source": [
    "# check with MAP estimator\n",
    "pred1 = dlt1.predict(df, seed=2020)['prediction'].values\n",
    "pred2 = dlt2.predict(df, seed=2020)['prediction'].values\n",
    "np.all(pred1 == pred2)"
   ]
  },
  {
   "cell_type": "code",
   "execution_count": 12,
   "id": "81caab67",
   "metadata": {},
   "outputs": [
    {
     "data": {
      "text/plain": [
       "True"
      ]
     },
     "execution_count": 12,
     "metadata": {},
     "output_type": "execute_result"
    }
   ],
   "source": [
    "# check with MCMC estimator\n",
    "pred1 = dlt_mcmc1.predict(df, seed=2020)['prediction'].values\n",
    "pred2 = dlt_mcmc2.predict(df, seed=2020)['prediction'].values\n",
    "np.all(pred1 == pred2)"
   ]
  }
 ],
 "metadata": {
  "kernelspec": {
   "display_name": "orbit38",
   "language": "python",
   "name": "orbit38"
  },
  "language_info": {
   "codemirror_mode": {
    "name": "ipython",
    "version": 3
   },
   "file_extension": ".py",
   "mimetype": "text/x-python",
   "name": "python",
   "nbconvert_exporter": "python",
   "pygments_lexer": "ipython3",
   "version": "3.8.12"
  },
  "toc": {
   "base_numbering": 1,
   "nav_menu": {},
   "number_sections": true,
   "sideBar": true,
   "skip_h1_title": false,
   "title_cell": "Table of Contents",
   "title_sidebar": "Contents",
   "toc_cell": false,
   "toc_position": {},
   "toc_section_display": true,
   "toc_window_display": false
  }
 },
 "nbformat": 4,
 "nbformat_minor": 5
}
