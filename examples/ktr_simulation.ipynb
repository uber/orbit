{
 "cells": [
  {
   "cell_type": "markdown",
   "id": "a0f82260-b821-4f08-83d9-80a57f7c3d32",
   "metadata": {},
   "source": [
    "# A Simulation Study for Time-varying coefficients"
   ]
  },
  {
   "cell_type": "code",
   "execution_count": 1,
   "id": "speaking-david",
   "metadata": {
    "ExecuteTime": {
     "end_time": "2021-07-13T22:43:01.042279Z",
     "start_time": "2021-07-13T22:42:58.809567Z"
    }
   },
   "outputs": [],
   "source": [
    "import math\n",
    "from math import pi\n",
    "import time\n",
    "\n",
    "import pandas as pd\n",
    "import numpy as np\n",
    "import matplotlib.pyplot as plt\n",
    "from scipy import stats\n",
    "from scipy.spatial.distance import cdist\n",
    "\n",
    "from orbit.estimators.pyro_estimator import PyroEstimatorVI\n",
    "from orbit.estimators.stan_estimator import StanEstimatorMAP\n",
    "from orbit.diagnostics.metrics import smape\n",
    "from orbit.utils.features import make_fourier_series_df, make_fourier_series\n",
    "from orbit.diagnostics.plot import plot_predicted_data\n",
    "\n",
    "plt.style.use('fivethirtyeight')\n",
    "\n",
    "%load_ext autoreload\n",
    "%autoreload 2"
   ]
  },
  {
   "cell_type": "markdown",
   "id": "coordinated-flour",
   "metadata": {
    "tags": []
   },
   "source": [
    "# Data Simulation Modules"
   ]
  },
  {
   "cell_type": "code",
   "execution_count": 2,
   "id": "completed-marriage",
   "metadata": {
    "ExecuteTime": {
     "end_time": "2021-07-13T22:43:01.086726Z",
     "start_time": "2021-07-13T22:43:01.044630Z"
    }
   },
   "outputs": [],
   "source": [
    "def sim_data_seasonal(n, RS):\n",
    "    \"\"\" coefficients curve are sine-cosine like\n",
    "    \"\"\"\n",
    "    np.random.seed(RS)\n",
    "    # make the time varing coefs  \n",
    "    tau = np.arange(1, n+1)/n\n",
    "    data = pd.DataFrame({\n",
    "        'tau': tau,\n",
    "        'date': pd.date_range(start='1/1/2018', periods=n),\n",
    "        'beta1': 2 * tau,\n",
    "        'beta2': 1.01 + np.sin(2*pi*tau),\n",
    "        'beta3': 1.01 + np.sin(4*pi*(tau-1/8)),\n",
    "#         'x1': stats.chi2.rvs(4, size=n),\n",
    "#         'x2': stats.t.rvs(2, size=n),\n",
    "#         'x3': stats.t.rvs(2, size=n),\n",
    "        'x1': np.random.normal(0, 10, size=n),\n",
    "        'x2': np.random.normal(0, 10, size=n),\n",
    "        'x3': np.random.normal(0, 10, size=n),\n",
    "        'trend': np.cumsum(np.concatenate((np.array([1]), np.random.normal(0, 0.1, n-1)))),\n",
    "        'error': np.random.normal(0, 1, size=n) #stats.t.rvs(30, size=n),#\n",
    "    })\n",
    "    \n",
    "    # add error to the data \n",
    "    #err_cov = np.exp(-cdist(data.tau.values.reshape(n, -1), data.tau.values.reshape(n, -1), 'euclid')/10)\n",
    "    #L = np.linalg.cholesky(err_cov).T\n",
    "    #data['error2'] = L.dot(stats.chi2.rvs(100, size=n))\n",
    "    \n",
    "    data['y'] = data.x1 * data.beta1 + data.x2 * data.beta2 + data.x3 * data.beta3 + data.error\n",
    "    #data['y2'] = data.x1 * data.beta1 + data.x2 * data.beta2 + data.x3 * data.beta3 + data.error2\n",
    "    #data['y3'] = data.trend + data.x1 * data.beta1 + data.x2 * data.beta2 + data.x3 * data.beta3 + data.error\n",
    "    return data\n",
    "\n",
    "def sim_data_rw(n, RS, p=3):\n",
    "    \"\"\" coefficients curve are sine-cosine like\n",
    "    \"\"\"\n",
    "    np.random.seed(RS)\n",
    "\n",
    "    # initializing coefficients at zeros, simulate all coefficient values\n",
    "    lev = np.cumsum(np.concatenate((np.array([5.0]), np.random.normal(0, 0.01, n-1))))\n",
    "    beta = np.concatenate(\n",
    "        [np.random.uniform(0.05, 0.12, size=(1,p)),\n",
    "         np.random.normal(0.0, 0.01, size=(n-1,p))], \n",
    "            axis=0)\n",
    "    beta = np.cumsum(beta, 0)\n",
    "\n",
    "    # simulate regressors\n",
    "    covariates = np.random.normal(0, 10, (n, p))\n",
    "\n",
    "    # observation with noise\n",
    "    y = lev + (covariates * beta).sum(-1) + 0.3 * np.random.normal(0, 1, n)\n",
    "\n",
    "    regressor_col = ['x{}'.format(pp) for pp in range(1, p+1)]\n",
    "    data = pd.DataFrame(covariates, columns=regressor_col)\n",
    "    beta_col = ['beta{}'.format(pp) for pp in range(1, p+1)]\n",
    "    beta_data = pd.DataFrame(beta, columns=beta_col)\n",
    "    data = pd.concat([data, beta_data], axis=1)\n",
    "        \n",
    "    data['y'] = y\n",
    "    data['date'] = pd.date_range(start='1/1/2018', periods=len(y))\n",
    "\n",
    "    return data"
   ]
  },
  {
   "cell_type": "code",
   "execution_count": 3,
   "id": "bacterial-genre",
   "metadata": {
    "ExecuteTime": {
     "end_time": "2021-07-13T22:43:01.153722Z",
     "start_time": "2021-07-13T22:43:01.089493Z"
    }
   },
   "outputs": [
    {
     "data": {
      "text/html": [
       "<div>\n",
       "<style scoped>\n",
       "    .dataframe tbody tr th:only-of-type {\n",
       "        vertical-align: middle;\n",
       "    }\n",
       "\n",
       "    .dataframe tbody tr th {\n",
       "        vertical-align: top;\n",
       "    }\n",
       "\n",
       "    .dataframe thead th {\n",
       "        text-align: right;\n",
       "    }\n",
       "</style>\n",
       "<table border=\"1\" class=\"dataframe\">\n",
       "  <thead>\n",
       "    <tr style=\"text-align: right;\">\n",
       "      <th></th>\n",
       "      <th>tau</th>\n",
       "      <th>date</th>\n",
       "      <th>beta1</th>\n",
       "      <th>beta2</th>\n",
       "      <th>beta3</th>\n",
       "      <th>x1</th>\n",
       "      <th>x2</th>\n",
       "      <th>x3</th>\n",
       "      <th>trend</th>\n",
       "      <th>error</th>\n",
       "      <th>y</th>\n",
       "    </tr>\n",
       "  </thead>\n",
       "  <tbody>\n",
       "    <tr>\n",
       "      <th>0</th>\n",
       "      <td>0.001</td>\n",
       "      <td>2018-01-01</td>\n",
       "      <td>0.002</td>\n",
       "      <td>1.016283</td>\n",
       "      <td>0.010079</td>\n",
       "      <td>-4.112205</td>\n",
       "      <td>6.235252</td>\n",
       "      <td>8.318071</td>\n",
       "      <td>1.000000</td>\n",
       "      <td>-0.772024</td>\n",
       "      <td>5.640371</td>\n",
       "    </tr>\n",
       "    <tr>\n",
       "      <th>1</th>\n",
       "      <td>0.002</td>\n",
       "      <td>2018-01-02</td>\n",
       "      <td>0.004</td>\n",
       "      <td>1.022566</td>\n",
       "      <td>0.010316</td>\n",
       "      <td>-0.499279</td>\n",
       "      <td>-14.816010</td>\n",
       "      <td>3.641032</td>\n",
       "      <td>1.075149</td>\n",
       "      <td>1.243571</td>\n",
       "      <td>-13.871215</td>\n",
       "    </tr>\n",
       "    <tr>\n",
       "      <th>2</th>\n",
       "      <td>0.003</td>\n",
       "      <td>2018-01-03</td>\n",
       "      <td>0.006</td>\n",
       "      <td>1.028848</td>\n",
       "      <td>0.010711</td>\n",
       "      <td>1.826034</td>\n",
       "      <td>-2.897783</td>\n",
       "      <td>-17.144133</td>\n",
       "      <td>1.278494</td>\n",
       "      <td>-0.352154</td>\n",
       "      <td>-3.506200</td>\n",
       "    </tr>\n",
       "    <tr>\n",
       "      <th>3</th>\n",
       "      <td>0.004</td>\n",
       "      <td>2018-01-04</td>\n",
       "      <td>0.008</td>\n",
       "      <td>1.035130</td>\n",
       "      <td>0.011263</td>\n",
       "      <td>24.874740</td>\n",
       "      <td>5.439502</td>\n",
       "      <td>6.055187</td>\n",
       "      <td>1.104741</td>\n",
       "      <td>-0.571943</td>\n",
       "      <td>5.325848</td>\n",
       "    </tr>\n",
       "    <tr>\n",
       "      <th>4</th>\n",
       "      <td>0.005</td>\n",
       "      <td>2018-01-05</td>\n",
       "      <td>0.010</td>\n",
       "      <td>1.041411</td>\n",
       "      <td>0.011973</td>\n",
       "      <td>1.734577</td>\n",
       "      <td>-16.383980</td>\n",
       "      <td>9.075009</td>\n",
       "      <td>1.059079</td>\n",
       "      <td>-0.218024</td>\n",
       "      <td>-17.154473</td>\n",
       "    </tr>\n",
       "    <tr>\n",
       "      <th>5</th>\n",
       "      <td>0.006</td>\n",
       "      <td>2018-01-06</td>\n",
       "      <td>0.012</td>\n",
       "      <td>1.047690</td>\n",
       "      <td>0.012841</td>\n",
       "      <td>-11.059695</td>\n",
       "      <td>12.494699</td>\n",
       "      <td>2.577940</td>\n",
       "      <td>1.088198</td>\n",
       "      <td>0.541397</td>\n",
       "      <td>13.532358</td>\n",
       "    </tr>\n",
       "    <tr>\n",
       "      <th>6</th>\n",
       "      <td>0.007</td>\n",
       "      <td>2018-01-07</td>\n",
       "      <td>0.014</td>\n",
       "      <td>1.053968</td>\n",
       "      <td>0.013866</td>\n",
       "      <td>-6.065916</td>\n",
       "      <td>4.606459</td>\n",
       "      <td>-9.182241</td>\n",
       "      <td>1.153368</td>\n",
       "      <td>0.474600</td>\n",
       "      <td>5.117413</td>\n",
       "    </tr>\n",
       "    <tr>\n",
       "      <th>7</th>\n",
       "      <td>0.008</td>\n",
       "      <td>2018-01-08</td>\n",
       "      <td>0.016</td>\n",
       "      <td>1.060244</td>\n",
       "      <td>0.015049</td>\n",
       "      <td>0.945238</td>\n",
       "      <td>3.450288</td>\n",
       "      <td>13.376691</td>\n",
       "      <td>1.244678</td>\n",
       "      <td>2.122431</td>\n",
       "      <td>5.997009</td>\n",
       "    </tr>\n",
       "    <tr>\n",
       "      <th>8</th>\n",
       "      <td>0.009</td>\n",
       "      <td>2018-01-09</td>\n",
       "      <td>0.018</td>\n",
       "      <td>1.066519</td>\n",
       "      <td>0.016389</td>\n",
       "      <td>11.628231</td>\n",
       "      <td>11.262647</td>\n",
       "      <td>16.722551</td>\n",
       "      <td>1.167512</td>\n",
       "      <td>0.439053</td>\n",
       "      <td>12.934243</td>\n",
       "    </tr>\n",
       "    <tr>\n",
       "      <th>9</th>\n",
       "      <td>0.010</td>\n",
       "      <td>2018-01-10</td>\n",
       "      <td>0.020</td>\n",
       "      <td>1.072791</td>\n",
       "      <td>0.017885</td>\n",
       "      <td>2.740874</td>\n",
       "      <td>2.271040</td>\n",
       "      <td>-17.405263</td>\n",
       "      <td>1.352738</td>\n",
       "      <td>0.496264</td>\n",
       "      <td>2.676133</td>\n",
       "    </tr>\n",
       "  </tbody>\n",
       "</table>\n",
       "</div>"
      ],
      "text/plain": [
       "     tau       date  beta1     beta2     beta3         x1         x2  \\\n",
       "0  0.001 2018-01-01  0.002  1.016283  0.010079  -4.112205   6.235252   \n",
       "1  0.002 2018-01-02  0.004  1.022566  0.010316  -0.499279 -14.816010   \n",
       "2  0.003 2018-01-03  0.006  1.028848  0.010711   1.826034  -2.897783   \n",
       "3  0.004 2018-01-04  0.008  1.035130  0.011263  24.874740   5.439502   \n",
       "4  0.005 2018-01-05  0.010  1.041411  0.011973   1.734577 -16.383980   \n",
       "5  0.006 2018-01-06  0.012  1.047690  0.012841 -11.059695  12.494699   \n",
       "6  0.007 2018-01-07  0.014  1.053968  0.013866  -6.065916   4.606459   \n",
       "7  0.008 2018-01-08  0.016  1.060244  0.015049   0.945238   3.450288   \n",
       "8  0.009 2018-01-09  0.018  1.066519  0.016389  11.628231  11.262647   \n",
       "9  0.010 2018-01-10  0.020  1.072791  0.017885   2.740874   2.271040   \n",
       "\n",
       "          x3     trend     error          y  \n",
       "0   8.318071  1.000000 -0.772024   5.640371  \n",
       "1   3.641032  1.075149  1.243571 -13.871215  \n",
       "2 -17.144133  1.278494 -0.352154  -3.506200  \n",
       "3   6.055187  1.104741 -0.571943   5.325848  \n",
       "4   9.075009  1.059079 -0.218024 -17.154473  \n",
       "5   2.577940  1.088198  0.541397  13.532358  \n",
       "6  -9.182241  1.153368  0.474600   5.117413  \n",
       "7  13.376691  1.244678  2.122431   5.997009  \n",
       "8  16.722551  1.167512  0.439053  12.934243  \n",
       "9 -17.405263  1.352738  0.496264   2.676133  "
      ]
     },
     "execution_count": 3,
     "metadata": {},
     "output_type": "execute_result"
    }
   ],
   "source": [
    "seas_data = sim_data_seasonal(n=1000, RS=8888)\n",
    "seas_data.head(10)"
   ]
  },
  {
   "cell_type": "code",
   "execution_count": 4,
   "id": "abef99fc-5ddb-45ed-a9d5-30c14fc87f48",
   "metadata": {
    "ExecuteTime": {
     "end_time": "2021-07-13T22:43:01.205354Z",
     "start_time": "2021-07-13T22:43:01.156204Z"
    }
   },
   "outputs": [
    {
     "data": {
      "text/html": [
       "<div>\n",
       "<style scoped>\n",
       "    .dataframe tbody tr th:only-of-type {\n",
       "        vertical-align: middle;\n",
       "    }\n",
       "\n",
       "    .dataframe tbody tr th {\n",
       "        vertical-align: top;\n",
       "    }\n",
       "\n",
       "    .dataframe thead th {\n",
       "        text-align: right;\n",
       "    }\n",
       "</style>\n",
       "<table border=\"1\" class=\"dataframe\">\n",
       "  <thead>\n",
       "    <tr style=\"text-align: right;\">\n",
       "      <th></th>\n",
       "      <th>x1</th>\n",
       "      <th>x2</th>\n",
       "      <th>x3</th>\n",
       "      <th>beta1</th>\n",
       "      <th>beta2</th>\n",
       "      <th>beta3</th>\n",
       "      <th>y</th>\n",
       "      <th>date</th>\n",
       "    </tr>\n",
       "  </thead>\n",
       "  <tbody>\n",
       "    <tr>\n",
       "      <th>0</th>\n",
       "      <td>1.118687</td>\n",
       "      <td>12.579436</td>\n",
       "      <td>-18.705481</td>\n",
       "      <td>0.083833</td>\n",
       "      <td>0.118039</td>\n",
       "      <td>0.106882</td>\n",
       "      <td>4.238243</td>\n",
       "      <td>2018-01-01</td>\n",
       "    </tr>\n",
       "    <tr>\n",
       "      <th>1</th>\n",
       "      <td>0.251493</td>\n",
       "      <td>5.300673</td>\n",
       "      <td>8.974563</td>\n",
       "      <td>0.081579</td>\n",
       "      <td>0.116649</td>\n",
       "      <td>0.116075</td>\n",
       "      <td>6.762299</td>\n",
       "      <td>2018-01-02</td>\n",
       "    </tr>\n",
       "    <tr>\n",
       "      <th>2</th>\n",
       "      <td>-12.535904</td>\n",
       "      <td>2.134341</td>\n",
       "      <td>4.224095</td>\n",
       "      <td>0.083838</td>\n",
       "      <td>0.112736</td>\n",
       "      <td>0.121694</td>\n",
       "      <td>4.576347</td>\n",
       "      <td>2018-01-03</td>\n",
       "    </tr>\n",
       "    <tr>\n",
       "      <th>3</th>\n",
       "      <td>-6.830381</td>\n",
       "      <td>3.094571</td>\n",
       "      <td>-1.926185</td>\n",
       "      <td>0.067788</td>\n",
       "      <td>0.111347</td>\n",
       "      <td>0.126284</td>\n",
       "      <td>4.497561</td>\n",
       "      <td>2018-01-04</td>\n",
       "    </tr>\n",
       "    <tr>\n",
       "      <th>4</th>\n",
       "      <td>-3.370150</td>\n",
       "      <td>3.899625</td>\n",
       "      <td>-3.083105</td>\n",
       "      <td>0.086333</td>\n",
       "      <td>0.099882</td>\n",
       "      <td>0.138985</td>\n",
       "      <td>5.230371</td>\n",
       "      <td>2018-01-05</td>\n",
       "    </tr>\n",
       "    <tr>\n",
       "      <th>5</th>\n",
       "      <td>-3.364463</td>\n",
       "      <td>-4.186151</td>\n",
       "      <td>13.149254</td>\n",
       "      <td>0.076195</td>\n",
       "      <td>0.108590</td>\n",
       "      <td>0.142555</td>\n",
       "      <td>6.102766</td>\n",
       "      <td>2018-01-06</td>\n",
       "    </tr>\n",
       "    <tr>\n",
       "      <th>6</th>\n",
       "      <td>-3.663559</td>\n",
       "      <td>-14.795409</td>\n",
       "      <td>-1.731279</td>\n",
       "      <td>0.091534</td>\n",
       "      <td>0.099006</td>\n",
       "      <td>0.156208</td>\n",
       "      <td>3.284992</td>\n",
       "      <td>2018-01-07</td>\n",
       "    </tr>\n",
       "    <tr>\n",
       "      <th>7</th>\n",
       "      <td>7.205991</td>\n",
       "      <td>-5.623366</td>\n",
       "      <td>-11.806551</td>\n",
       "      <td>0.100954</td>\n",
       "      <td>0.099507</td>\n",
       "      <td>0.160083</td>\n",
       "      <td>2.529016</td>\n",
       "      <td>2018-01-08</td>\n",
       "    </tr>\n",
       "    <tr>\n",
       "      <th>8</th>\n",
       "      <td>-3.643661</td>\n",
       "      <td>3.799626</td>\n",
       "      <td>-1.398166</td>\n",
       "      <td>0.100640</td>\n",
       "      <td>0.087954</td>\n",
       "      <td>0.163894</td>\n",
       "      <td>4.908982</td>\n",
       "      <td>2018-01-09</td>\n",
       "    </tr>\n",
       "    <tr>\n",
       "      <th>9</th>\n",
       "      <td>9.222329</td>\n",
       "      <td>1.695171</td>\n",
       "      <td>-0.896493</td>\n",
       "      <td>0.098496</td>\n",
       "      <td>0.085971</td>\n",
       "      <td>0.172410</td>\n",
       "      <td>5.529784</td>\n",
       "      <td>2018-01-10</td>\n",
       "    </tr>\n",
       "  </tbody>\n",
       "</table>\n",
       "</div>"
      ],
      "text/plain": [
       "          x1         x2         x3     beta1     beta2     beta3         y  \\\n",
       "0   1.118687  12.579436 -18.705481  0.083833  0.118039  0.106882  4.238243   \n",
       "1   0.251493   5.300673   8.974563  0.081579  0.116649  0.116075  6.762299   \n",
       "2 -12.535904   2.134341   4.224095  0.083838  0.112736  0.121694  4.576347   \n",
       "3  -6.830381   3.094571  -1.926185  0.067788  0.111347  0.126284  4.497561   \n",
       "4  -3.370150   3.899625  -3.083105  0.086333  0.099882  0.138985  5.230371   \n",
       "5  -3.364463  -4.186151  13.149254  0.076195  0.108590  0.142555  6.102766   \n",
       "6  -3.663559 -14.795409  -1.731279  0.091534  0.099006  0.156208  3.284992   \n",
       "7   7.205991  -5.623366 -11.806551  0.100954  0.099507  0.160083  2.529016   \n",
       "8  -3.643661   3.799626  -1.398166  0.100640  0.087954  0.163894  4.908982   \n",
       "9   9.222329   1.695171  -0.896493  0.098496  0.085971  0.172410  5.529784   \n",
       "\n",
       "        date  \n",
       "0 2018-01-01  \n",
       "1 2018-01-02  \n",
       "2 2018-01-03  \n",
       "3 2018-01-04  \n",
       "4 2018-01-05  \n",
       "5 2018-01-06  \n",
       "6 2018-01-07  \n",
       "7 2018-01-08  \n",
       "8 2018-01-09  \n",
       "9 2018-01-10  "
      ]
     },
     "execution_count": 4,
     "metadata": {},
     "output_type": "execute_result"
    }
   ],
   "source": [
    "rw_data = sim_data_rw(n=300, RS=8888, p=3)\n",
    "rw_data.head(10)"
   ]
  },
  {
   "cell_type": "markdown",
   "id": "2659cc38-f459-4e04-916c-dffa71c3ce7b",
   "metadata": {},
   "source": [
    "In following section, let's start with random walk type of simulation."
   ]
  },
  {
   "cell_type": "markdown",
   "id": "5887ed1e",
   "metadata": {},
   "source": [
    "## Test on how knots and segements interact"
   ]
  },
  {
   "cell_type": "code",
   "execution_count": 82,
   "id": "1e6d38f6",
   "metadata": {},
   "outputs": [],
   "source": [
    "from orbit.utils.knots import get_knot_idx_by_dist, get_knot_idx, get_knot_dates"
   ]
  },
  {
   "cell_type": "code",
   "execution_count": 60,
   "id": "ca59f92c",
   "metadata": {},
   "outputs": [
    {
     "data": {
      "text/plain": [
       "array([ -1,  39,  79, 119, 159, 199, 239, 279, 319, 359, 399])"
      ]
     },
     "execution_count": 60,
     "metadata": {},
     "output_type": "execute_result"
    }
   ],
   "source": [
    "knot_idx = get_knot_idx(num_of_obs=400, num_of_segments=10)\n",
    "knot_idx"
   ]
  },
  {
   "cell_type": "code",
   "execution_count": 61,
   "id": "d86bd460",
   "metadata": {},
   "outputs": [
    {
     "data": {
      "text/plain": [
       "array([ -1,   9,  19,  29,  39,  49,  59,  69,  79,  89,  99, 109, 119,\n",
       "       129, 139, 149, 159, 169, 179, 189, 199, 209, 219, 229, 239, 249])"
      ]
     },
     "execution_count": 61,
     "metadata": {},
     "output_type": "execute_result"
    }
   ],
   "source": [
    "knot_idx = get_knot_idx(num_of_obs=250, knot_distance=10)\n",
    "knot_idx"
   ]
  },
  {
   "cell_type": "code",
   "execution_count": 62,
   "id": "f053fe8e",
   "metadata": {},
   "outputs": [
    {
     "data": {
      "text/plain": [
       "dtype('<M8[ns]')"
      ]
     },
     "execution_count": 62,
     "metadata": {},
     "output_type": "execute_result"
    }
   ],
   "source": [
    "date_array = rw_data['date'].values\n",
    "date_array.dtype"
   ]
  },
  {
   "cell_type": "code",
   "execution_count": 63,
   "id": "d533c6d5",
   "metadata": {},
   "outputs": [
    {
     "data": {
      "text/plain": [
       "array(['2018-01-01T00:00:00.000000000', '2018-01-02T00:00:00.000000000',\n",
       "       '2018-01-03T00:00:00.000000000', '2018-01-04T00:00:00.000000000',\n",
       "       '2018-01-05T00:00:00.000000000'], dtype='datetime64[ns]')"
      ]
     },
     "execution_count": 63,
     "metadata": {},
     "output_type": "execute_result"
    }
   ],
   "source": [
    "date_array[:5]"
   ]
  },
  {
   "cell_type": "code",
   "execution_count": 64,
   "id": "196bccb6",
   "metadata": {
    "scrolled": true
   },
   "outputs": [
    {
     "data": {
      "text/plain": [
       "array(['2018-01-01', '2018-07-01', '2018-09-09'], dtype='datetime64[D]')"
      ]
     },
     "execution_count": 64,
     "metadata": {},
     "output_type": "execute_result"
    }
   ],
   "source": [
    "knot_dates=['2018-01-01','2018-07-01','2018-09-09']\n",
    "knot_dates = np.array(knot_dates, dtype='datetime64')\n",
    "knot_dates[:5]"
   ]
  },
  {
   "cell_type": "code",
   "execution_count": 65,
   "id": "a1d4840c",
   "metadata": {},
   "outputs": [
    {
     "data": {
      "text/plain": [
       "array([  0, 181, 251])"
      ]
     },
     "execution_count": 65,
     "metadata": {},
     "output_type": "execute_result"
    }
   ],
   "source": [
    "knot_idx = get_knot_idx(date_array=date_array, knot_dates=knot_dates)\n",
    "knot_idx"
   ]
  },
  {
   "cell_type": "code",
   "execution_count": 66,
   "id": "c2443482",
   "metadata": {},
   "outputs": [],
   "source": [
    "infer_freq = pd.infer_freq(date_array)"
   ]
  },
  {
   "cell_type": "code",
   "execution_count": 79,
   "id": "4046478c",
   "metadata": {},
   "outputs": [
    {
     "data": {
      "text/plain": [
       "array(['2018-01-01T00:00:00.000000000', '2018-07-01T00:00:00.000000000',\n",
       "       '2018-09-09T00:00:00.000000000'], dtype='datetime64[ns]')"
      ]
     },
     "execution_count": 79,
     "metadata": {},
     "output_type": "execute_result"
    }
   ],
   "source": [
    "knot_idx * np.timedelta64(1, infer_freq)  + date_array[0]"
   ]
  },
  {
   "cell_type": "code",
   "execution_count": 83,
   "id": "388d84e1",
   "metadata": {},
   "outputs": [
    {
     "data": {
      "text/plain": [
       "array(['2018-01-01T00:00:00.000000000', '2018-07-01T00:00:00.000000000',\n",
       "       '2018-09-09T00:00:00.000000000'], dtype='datetime64[ns]')"
      ]
     },
     "execution_count": 83,
     "metadata": {},
     "output_type": "execute_result"
    }
   ],
   "source": [
    "get_knot_dates(date_array[0], knot_idx, infer_freq)"
   ]
  },
  {
   "cell_type": "markdown",
   "id": "0b58e6e6-262e-4679-a58a-7ed96b57d107",
   "metadata": {},
   "source": [
    "## KTRLite\n",
    "\n",
    "**KTRLite** is used to learn the trend.  We will use a default to do that."
   ]
  },
  {
   "cell_type": "code",
   "execution_count": 84,
   "id": "1ec5776b",
   "metadata": {},
   "outputs": [],
   "source": [
    "from orbit.models import KTRLite"
   ]
  },
  {
   "cell_type": "code",
   "execution_count": 85,
   "id": "a7688580-2498-418c-a1c0-48d06df460b6",
   "metadata": {
    "ExecuteTime": {
     "end_time": "2021-07-13T22:43:01.245445Z",
     "start_time": "2021-07-13T22:43:01.207700Z"
    }
   },
   "outputs": [],
   "source": [
    "p = 3"
   ]
  },
  {
   "cell_type": "code",
   "execution_count": 89,
   "id": "naughty-advertising",
   "metadata": {
    "ExecuteTime": {
     "end_time": "2021-07-13T22:43:01.551369Z",
     "start_time": "2021-07-13T22:43:01.247752Z"
    }
   },
   "outputs": [
    {
     "name": "stdout",
     "output_type": "stream",
     "text": [
      "Initial log joint probability = -679.991\n",
      "    Iter      log prob        ||dx||      ||grad||       alpha      alpha0  # evals  Notes \n",
      "      19      -508.305    0.00796006       6.52894       0.187       0.187       27   \n",
      "    Iter      log prob        ||dx||      ||grad||       alpha      alpha0  # evals  Notes \n",
      "      35      -508.218   0.000288255       5.66264   5.147e-05       0.001       90  LS failed, Hessian reset \n",
      "      39      -508.215   0.000311543       5.41597           1           1       95   \n",
      "    Iter      log prob        ||dx||      ||grad||       alpha      alpha0  # evals  Notes \n",
      "      59      -508.214   4.68231e-07       6.24471     0.06139           1      125   \n",
      "    Iter      log prob        ||dx||      ||grad||       alpha      alpha0  # evals  Notes \n",
      "      66      -508.214   3.90368e-07       6.00677           1           1      140   \n",
      "Optimization terminated normally: \n",
      "  Convergence detected: relative gradient magnitude is below tolerance\n"
     ]
    }
   ],
   "source": [
    "# define independent and response variabel\n",
    "regressor_col = ['x{}'.format(pp) for pp in range(1, p + 1)]\n",
    "response_col = 'y'\n",
    "\n",
    "# run the model \n",
    "# run lite first \n",
    "ktr_lite = KTRLite(response_col=response_col,\n",
    "                      date_col='date',\n",
    "                      seed=2020,\n",
    "                      estimator='stan-map')\n",
    "\n",
    "ktr_lite.fit(df=rw_data)\n",
    "\n",
    "level_knot_scale = ktr_lite._model.level_knot_scale\n",
    "level_knot_dates = ktr_lite._model._level_knot_dates\n",
    "# just because we know the intercept is zero\n",
    "# level_knots_stan = np.squeeze(\n",
    "#     ktr_lite.get_point_posteriors()['lev_knot'], 0)\n",
    "level_knots_stan = np.array([0] * len(level_knot_dates))"
   ]
  },
  {
   "cell_type": "code",
   "execution_count": 8,
   "id": "ccd8f102",
   "metadata": {},
   "outputs": [
    {
     "data": {
      "text/plain": [
       "array([[5.10183113, 5.10179934, 5.10172334, 5.10172314, 5.10172331,\n",
       "        5.10170916, 5.10170911, 5.21477709, 5.2147771 , 5.21477273]])"
      ]
     },
     "execution_count": 8,
     "metadata": {},
     "output_type": "execute_result"
    }
   ],
   "source": [
    "ktr_lite.get_point_posteriors()['lev_knot']"
   ]
  },
  {
   "cell_type": "markdown",
   "id": "04f3850d-c728-4870-bf44-88314fb4adc9",
   "metadata": {},
   "source": [
    "## Hierarchical structure with neutral sign assumption\n",
    "\n",
    "Each coefficient follow Normal dist. with a latent mean which also follows a Normal dist."
   ]
  },
  {
   "cell_type": "code",
   "execution_count": 93,
   "id": "b671b470",
   "metadata": {},
   "outputs": [],
   "source": [
    "from orbit.template.ktrx import KTRXModel\n",
    "from orbit.models import KTRX\n",
    "from orbit.template.ktr import KTRModel"
   ]
  },
  {
   "cell_type": "code",
   "execution_count": 94,
   "id": "5384d166",
   "metadata": {},
   "outputs": [],
   "source": [
    "from orbit.forecaster import SVIForecaster"
   ]
  },
  {
   "cell_type": "code",
   "execution_count": 95,
   "id": "06b6e75b",
   "metadata": {},
   "outputs": [],
   "source": [
    "ktr_template = KTRModel(\n",
    "\n",
    "    level_knot_scale=0.1,\n",
    "    regressor_col=regressor_col,\n",
    "    regressor_init_knot_loc=[0] * len(regressor_col),\n",
    "    regressor_init_knot_scale=[1.0] * len(regressor_col),\n",
    "    regressor_knot_scale=[0.5] * len(regressor_col),\n",
    "    regression_segments=5,\n",
    "\n",
    "    span_coefficients=0.1,\n",
    "    rho_coefficients=0.05,\n",
    "    prediction_percentiles=[2.5, 97.5],\n",
    "    seed=2020,\n",
    "    num_steps=501,\n",
    "    num_sample=1000,\n",
    "    learning_rate=0.2,\n",
    "    learning_rate_total_decay=0.05,\n",
    "    verbose=True,\n",
    "    message=50,\n",
    "\n",
    "    flat_multiplier=True,\n",
    "    min_residuals_sd=1.0\n",
    ")\n",
    "ktr = SVIForecaster(\n",
    "    response_col=response_col,\n",
    "    date_col='date',\n",
    "    model=ktr_template,\n",
    "    verbose=True,\n",
    "    n_bootstrap_draws=-1,\n",
    "    estimator_type=PyroEstimatorVI,\n",
    ")"
   ]
  },
  {
   "cell_type": "code",
   "execution_count": 96,
   "id": "93b6e994",
   "metadata": {},
   "outputs": [
    {
     "name": "stderr",
     "output_type": "stream",
     "text": [
      "INFO:root:Guessed max_plate_nesting = 1\n"
     ]
    },
    {
     "name": "stdout",
     "output_type": "stream",
     "text": [
      "Initial log joint probability = -1753.98\n",
      "    Iter      log prob        ||dx||      ||grad||       alpha      alpha0  # evals  Notes \n",
      "      19      -508.435     0.0198358       6.54518      0.5129      0.5129       29   \n",
      "    Iter      log prob        ||dx||      ||grad||       alpha      alpha0  # evals  Notes \n",
      "      32      -508.385    0.00109752       5.93291   0.0001911       0.001       79  LS failed, Hessian reset \n",
      "      39       -508.38   6.75609e-05       6.20416      0.3187      0.3187       90   \n",
      "    Iter      log prob        ||dx||      ||grad||       alpha      alpha0  # evals  Notes \n",
      "      59      -508.379   3.77296e-06       5.89604           1           1      119   \n",
      "    Iter      log prob        ||dx||      ||grad||       alpha      alpha0  # evals  Notes \n",
      "      68      -508.379    2.6496e-07       6.35696      0.1381      0.7526      133   \n",
      "Optimization terminated normally: \n",
      "  Convergence detected: relative gradient magnitude is below tolerance\n",
      "step    0 loss = 815.03, scale = 0.090072\n",
      "step  100 loss = 672.81, scale = 0.32916\n",
      "step  200 loss = 672.9, scale = 0.33899\n",
      "step  300 loss = 673.32, scale = 0.33138\n",
      "step  400 loss = 672.95, scale = 0.33438\n",
      "step  500 loss = 672.81, scale = 0.33237\n",
      "step  600 loss = 672.83, scale = 0.33236\n",
      "step  700 loss = 674.41, scale = 0.33976\n",
      "step  800 loss = 673.05, scale = 0.3297\n",
      "step  900 loss = 673.65, scale = 0.34162\n",
      "step 1000 loss = 672.96, scale = 0.35245\n"
     ]
    }
   ],
   "source": [
    "ktr.fit(df=rw_data)  "
   ]
  },
  {
   "cell_type": "code",
   "execution_count": 18,
   "id": "973fd2a3",
   "metadata": {},
   "outputs": [],
   "source": [
    "# ktr = KTRX(\n",
    "    \n",
    "#     response_col=response_col,\n",
    "#     date_col='date',\n",
    "#     n_bootstrap_draws=-1,\n",
    "#     estimator='pyro-svi',\n",
    "    \n",
    "#     level_knot_scale=level_knot_scale,\n",
    "#     level_knot_dates=level_knot_dates,\n",
    "#     level_knots=level_knots_stan,\n",
    "\n",
    "#     regressor_col=regressor_col,\n",
    "#     regressor_init_knot_loc=[0] * len(regressor_col),\n",
    "#     regressor_init_knot_scale=[1.0] * len(regressor_col),\n",
    "#     regressor_knot_scale=[0.5] * len(regressor_col),\n",
    "\n",
    "#     span_coefficients=0.1,\n",
    "#     rho_coefficients=0.05,\n",
    "#     prediction_percentiles=[2.5, 97.5],\n",
    "#     seed=2020,\n",
    "#     num_steps=501,\n",
    "#     num_sample=1000,\n",
    "#     learning_rate=0.2,\n",
    "#     learning_rate_total_decay=0.05,\n",
    "#     verbose=True,\n",
    "#     message=50,\n",
    "\n",
    "#     # new setting we want to test\n",
    "#     mvn=0,\n",
    "#     flat_multiplier=True,\n",
    "#     geometric_walk=False,\n",
    "#     min_residuals_sd=1.0\n",
    "# )"
   ]
  },
  {
   "cell_type": "code",
   "execution_count": 46,
   "id": "547805d9-9a53-4291-becc-60dd0880b24b",
   "metadata": {
    "ExecuteTime": {
     "end_time": "2021-07-13T22:43:06.707252Z",
     "start_time": "2021-07-13T22:43:06.676990Z"
    }
   },
   "outputs": [],
   "source": [
    "idx = 3"
   ]
  },
  {
   "cell_type": "code",
   "execution_count": 47,
   "id": "32a2ebae-23e0-48f3-94e1-5b58120e543c",
   "metadata": {
    "ExecuteTime": {
     "end_time": "2021-07-13T22:43:07.049257Z",
     "start_time": "2021-07-13T22:43:06.710888Z"
    },
    "scrolled": true
   },
   "outputs": [
    {
     "ename": "ValueError",
     "evalue": "matmul: Input operand 1 has a mismatch in its core dimension 0, with gufunc signature (n?,k),(k,m?)->(n?,m?) (size 1 is different from 3)",
     "output_type": "error",
     "traceback": [
      "\u001b[0;31m---------------------------------------------------------------------------\u001b[0m",
      "\u001b[0;31mValueError\u001b[0m                                Traceback (most recent call last)",
      "\u001b[0;32m/var/folders/9f/m35pbwgx13n2j29rjhpkcyg40000gn/T/ipykernel_14330/1344162696.py\u001b[0m in \u001b[0;36m<module>\u001b[0;34m\u001b[0m\n\u001b[1;32m      1\u001b[0m \u001b[0;31m# coef_mid, coef_lower, coef_upper  = ktrx_neutral.get_regression_coefs(include_ci=True, coefficient_method='empirical')\u001b[0m\u001b[0;34m\u001b[0m\u001b[0;34m\u001b[0m\u001b[0;34m\u001b[0m\u001b[0m\n\u001b[0;32m----> 2\u001b[0;31m \u001b[0mcoef_mid\u001b[0m  \u001b[0;34m=\u001b[0m \u001b[0mktr\u001b[0m\u001b[0;34m.\u001b[0m\u001b[0mget_regression_coefs\u001b[0m\u001b[0;34m(\u001b[0m\u001b[0;34m)\u001b[0m\u001b[0;34m\u001b[0m\u001b[0;34m\u001b[0m\u001b[0m\n\u001b[0m\u001b[1;32m      3\u001b[0m \u001b[0;34m\u001b[0m\u001b[0m\n\u001b[1;32m      4\u001b[0m \u001b[0mx\u001b[0m \u001b[0;34m=\u001b[0m \u001b[0mnp\u001b[0m\u001b[0;34m.\u001b[0m\u001b[0marange\u001b[0m\u001b[0;34m(\u001b[0m\u001b[0mcoef_mid\u001b[0m\u001b[0;34m.\u001b[0m\u001b[0mshape\u001b[0m\u001b[0;34m[\u001b[0m\u001b[0;36m0\u001b[0m\u001b[0;34m]\u001b[0m\u001b[0;34m)\u001b[0m\u001b[0;34m\u001b[0m\u001b[0;34m\u001b[0m\u001b[0m\n\u001b[1;32m      5\u001b[0m \u001b[0;34m\u001b[0m\u001b[0m\n",
      "\u001b[0;32m~/work/orbit-super/orbit/orbit/template/ktr.py\u001b[0m in \u001b[0;36mget_regression_coefs\u001b[0;34m(self, training_meta, point_method, point_posteriors, date_array)\u001b[0m\n\u001b[1;32m   1103\u001b[0m             \u001b[0mpoint_posteriors\u001b[0m\u001b[0;34m=\u001b[0m\u001b[0mpoint_posteriors\u001b[0m\u001b[0;34m,\u001b[0m\u001b[0;34m\u001b[0m\u001b[0;34m\u001b[0m\u001b[0m\n\u001b[1;32m   1104\u001b[0m             \u001b[0;31m# coefficient_method=coefficient_method,\u001b[0m\u001b[0;34m\u001b[0m\u001b[0;34m\u001b[0m\u001b[0;34m\u001b[0m\u001b[0m\n\u001b[0;32m-> 1105\u001b[0;31m             \u001b[0mdate_array\u001b[0m\u001b[0;34m=\u001b[0m\u001b[0mdate_array\u001b[0m\u001b[0;34m,\u001b[0m\u001b[0;34m\u001b[0m\u001b[0;34m\u001b[0m\u001b[0m\n\u001b[0m\u001b[1;32m   1106\u001b[0m             \u001b[0;31m# include_ci=include_ci,\u001b[0m\u001b[0;34m\u001b[0m\u001b[0;34m\u001b[0m\u001b[0;34m\u001b[0m\u001b[0m\n\u001b[1;32m   1107\u001b[0m             \u001b[0;31m# lower=lower, upper=upper\u001b[0m\u001b[0;34m\u001b[0m\u001b[0;34m\u001b[0m\u001b[0;34m\u001b[0m\u001b[0m\n",
      "\u001b[0;32m~/work/orbit-super/orbit/orbit/template/ktr.py\u001b[0m in \u001b[0;36m_get_regression_coefs\u001b[0;34m(self, training_meta, point_method, point_posteriors, date_array)\u001b[0m\n\u001b[1;32m   1033\u001b[0m             \u001b[0;31m# TODO: recover this later\u001b[0m\u001b[0;34m\u001b[0m\u001b[0;34m\u001b[0m\u001b[0;34m\u001b[0m\u001b[0m\n\u001b[1;32m   1034\u001b[0m             \u001b[0;31m# coefficient_method=coefficient_method,\u001b[0m\u001b[0;34m\u001b[0m\u001b[0;34m\u001b[0m\u001b[0;34m\u001b[0m\u001b[0m\n\u001b[0;32m-> 1035\u001b[0;31m             date_array=date_array)\n\u001b[0m\u001b[1;32m   1036\u001b[0m         )\n\u001b[1;32m   1037\u001b[0m         \u001b[0;32mif\u001b[0m \u001b[0mlen\u001b[0m\u001b[0;34m(\u001b[0m\u001b[0mcoefs\u001b[0m\u001b[0;34m.\u001b[0m\u001b[0mshape\u001b[0m\u001b[0;34m)\u001b[0m \u001b[0;34m==\u001b[0m \u001b[0;36m1\u001b[0m\u001b[0;34m:\u001b[0m\u001b[0;34m\u001b[0m\u001b[0;34m\u001b[0m\u001b[0m\n",
      "\u001b[0;32m~/work/orbit-super/orbit/orbit/template/ktr.py\u001b[0m in \u001b[0;36m_get_regression_coefs_matrix\u001b[0;34m(self, training_meta, posteriors, date_array)\u001b[0m\n\u001b[1;32m    963\u001b[0m             \u001b[0;31m# if date_array not specified, dynamic coefficients in the training perior will be retrieved\u001b[0m\u001b[0;34m\u001b[0m\u001b[0;34m\u001b[0m\u001b[0;34m\u001b[0m\u001b[0m\n\u001b[1;32m    964\u001b[0m             \u001b[0mcoef_knots\u001b[0m \u001b[0;34m=\u001b[0m \u001b[0mposteriors\u001b[0m\u001b[0;34m.\u001b[0m\u001b[0mget\u001b[0m\u001b[0;34m(\u001b[0m\u001b[0mRegressionSamplingParameters\u001b[0m\u001b[0;34m.\u001b[0m\u001b[0mCOEFFICIENTS_KNOT\u001b[0m\u001b[0;34m.\u001b[0m\u001b[0mvalue\u001b[0m\u001b[0;34m)\u001b[0m\u001b[0;34m\u001b[0m\u001b[0;34m\u001b[0m\u001b[0m\n\u001b[0;32m--> 965\u001b[0;31m             \u001b[0mregressor_betas\u001b[0m \u001b[0;34m=\u001b[0m \u001b[0mnp\u001b[0m\u001b[0;34m.\u001b[0m\u001b[0mmatmul\u001b[0m\u001b[0;34m(\u001b[0m\u001b[0mcoef_knots\u001b[0m\u001b[0;34m,\u001b[0m \u001b[0mself\u001b[0m\u001b[0;34m.\u001b[0m\u001b[0m_kernel_coefficients\u001b[0m\u001b[0;34m.\u001b[0m\u001b[0mtranspose\u001b[0m\u001b[0;34m(\u001b[0m\u001b[0;34m(\u001b[0m\u001b[0;36m1\u001b[0m\u001b[0;34m,\u001b[0m \u001b[0;36m0\u001b[0m\u001b[0;34m)\u001b[0m\u001b[0;34m)\u001b[0m\u001b[0;34m)\u001b[0m\u001b[0;34m\u001b[0m\u001b[0;34m\u001b[0m\u001b[0m\n\u001b[0m\u001b[1;32m    966\u001b[0m             \u001b[0;31m# back to batch x time step x regressor columns shape\u001b[0m\u001b[0;34m\u001b[0m\u001b[0;34m\u001b[0m\u001b[0;34m\u001b[0m\u001b[0m\n\u001b[1;32m    967\u001b[0m             \u001b[0mregressor_betas\u001b[0m \u001b[0;34m=\u001b[0m \u001b[0mregressor_betas\u001b[0m\u001b[0;34m.\u001b[0m\u001b[0mtranspose\u001b[0m\u001b[0;34m(\u001b[0m\u001b[0;34m(\u001b[0m\u001b[0;36m0\u001b[0m\u001b[0;34m,\u001b[0m \u001b[0;36m2\u001b[0m\u001b[0;34m,\u001b[0m \u001b[0;36m1\u001b[0m\u001b[0;34m)\u001b[0m\u001b[0;34m)\u001b[0m\u001b[0;34m\u001b[0m\u001b[0;34m\u001b[0m\u001b[0m\n",
      "\u001b[0;31mValueError\u001b[0m: matmul: Input operand 1 has a mismatch in its core dimension 0, with gufunc signature (n?,k),(k,m?)->(n?,m?) (size 1 is different from 3)"
     ]
    }
   ],
   "source": [
    "# coef_mid, coef_lower, coef_upper  = ktrx_neutral.get_regression_coefs(include_ci=True, coefficient_method='empirical')\n",
    "coef_mid  = ktr.get_regression_coefs()\n",
    "\n",
    "x = np.arange(coef_mid.shape[0])\n",
    "\n",
    "plt.plot(x, coef_mid['x{}'.format(idx)], label='est', alpha=0.5)\n",
    "# plt.fill_between(x, coef_lower['x{}'.format(idx)], coef_upper['x{}'.format(idx)], label='est', alpha=0.5)\n",
    "plt.scatter(x, rw_data['beta{}'.format(idx)], label='truth', s=10, alpha=0.5)\n",
    "plt.legend();"
   ]
  },
  {
   "cell_type": "code",
   "execution_count": 27,
   "id": "72170d1c",
   "metadata": {},
   "outputs": [
    {
     "data": {
      "text/html": [
       "<div>\n",
       "<style scoped>\n",
       "    .dataframe tbody tr th:only-of-type {\n",
       "        vertical-align: middle;\n",
       "    }\n",
       "\n",
       "    .dataframe tbody tr th {\n",
       "        vertical-align: top;\n",
       "    }\n",
       "\n",
       "    .dataframe thead th {\n",
       "        text-align: right;\n",
       "    }\n",
       "</style>\n",
       "<table border=\"1\" class=\"dataframe\">\n",
       "  <thead>\n",
       "    <tr style=\"text-align: right;\">\n",
       "      <th></th>\n",
       "      <th>date</th>\n",
       "      <th>x1</th>\n",
       "      <th>x2</th>\n",
       "      <th>x3</th>\n",
       "    </tr>\n",
       "  </thead>\n",
       "  <tbody>\n",
       "    <tr>\n",
       "      <th>0</th>\n",
       "      <td>2018-01-01</td>\n",
       "      <td>0.142030</td>\n",
       "      <td>0.176172</td>\n",
       "      <td>0.125388</td>\n",
       "    </tr>\n",
       "    <tr>\n",
       "      <th>1</th>\n",
       "      <td>2018-01-02</td>\n",
       "      <td>0.141898</td>\n",
       "      <td>0.175481</td>\n",
       "      <td>0.125978</td>\n",
       "    </tr>\n",
       "    <tr>\n",
       "      <th>2</th>\n",
       "      <td>2018-01-03</td>\n",
       "      <td>0.141748</td>\n",
       "      <td>0.174695</td>\n",
       "      <td>0.126648</td>\n",
       "    </tr>\n",
       "    <tr>\n",
       "      <th>3</th>\n",
       "      <td>2018-01-04</td>\n",
       "      <td>0.141578</td>\n",
       "      <td>0.173802</td>\n",
       "      <td>0.127409</td>\n",
       "    </tr>\n",
       "    <tr>\n",
       "      <th>4</th>\n",
       "      <td>2018-01-05</td>\n",
       "      <td>0.141385</td>\n",
       "      <td>0.172789</td>\n",
       "      <td>0.128273</td>\n",
       "    </tr>\n",
       "    <tr>\n",
       "      <th>...</th>\n",
       "      <td>...</td>\n",
       "      <td>...</td>\n",
       "      <td>...</td>\n",
       "      <td>...</td>\n",
       "    </tr>\n",
       "    <tr>\n",
       "      <th>295</th>\n",
       "      <td>2018-10-23</td>\n",
       "      <td>0.382932</td>\n",
       "      <td>0.068329</td>\n",
       "      <td>0.146698</td>\n",
       "    </tr>\n",
       "    <tr>\n",
       "      <th>296</th>\n",
       "      <td>2018-10-24</td>\n",
       "      <td>0.383032</td>\n",
       "      <td>0.068792</td>\n",
       "      <td>0.145926</td>\n",
       "    </tr>\n",
       "    <tr>\n",
       "      <th>297</th>\n",
       "      <td>2018-10-25</td>\n",
       "      <td>0.383121</td>\n",
       "      <td>0.069201</td>\n",
       "      <td>0.145245</td>\n",
       "    </tr>\n",
       "    <tr>\n",
       "      <th>298</th>\n",
       "      <td>2018-10-26</td>\n",
       "      <td>0.383199</td>\n",
       "      <td>0.069561</td>\n",
       "      <td>0.144644</td>\n",
       "    </tr>\n",
       "    <tr>\n",
       "      <th>299</th>\n",
       "      <td>2018-10-27</td>\n",
       "      <td>0.383268</td>\n",
       "      <td>0.069878</td>\n",
       "      <td>0.144116</td>\n",
       "    </tr>\n",
       "  </tbody>\n",
       "</table>\n",
       "<p>300 rows × 4 columns</p>\n",
       "</div>"
      ],
      "text/plain": [
       "          date        x1        x2        x3\n",
       "0   2018-01-01  0.142030  0.176172  0.125388\n",
       "1   2018-01-02  0.141898  0.175481  0.125978\n",
       "2   2018-01-03  0.141748  0.174695  0.126648\n",
       "3   2018-01-04  0.141578  0.173802  0.127409\n",
       "4   2018-01-05  0.141385  0.172789  0.128273\n",
       "..         ...       ...       ...       ...\n",
       "295 2018-10-23  0.382932  0.068329  0.146698\n",
       "296 2018-10-24  0.383032  0.068792  0.145926\n",
       "297 2018-10-25  0.383121  0.069201  0.145245\n",
       "298 2018-10-26  0.383199  0.069561  0.144644\n",
       "299 2018-10-27  0.383268  0.069878  0.144116\n",
       "\n",
       "[300 rows x 4 columns]"
      ]
     },
     "execution_count": 27,
     "metadata": {},
     "output_type": "execute_result"
    }
   ],
   "source": [
    "coef_mid"
   ]
  },
  {
   "cell_type": "code",
   "execution_count": 28,
   "id": "b71dd77e-49a4-4cca-9720-6eed9e4f1ea0",
   "metadata": {
    "ExecuteTime": {
     "end_time": "2021-07-13T22:43:07.652011Z",
     "start_time": "2021-07-13T22:43:07.050649Z"
    }
   },
   "outputs": [
    {
     "ename": "NameError",
     "evalue": "name 'ktrx_neutral' is not defined",
     "output_type": "error",
     "traceback": [
      "\u001b[0;31m---------------------------------------------------------------------------\u001b[0m",
      "\u001b[0;31mNameError\u001b[0m                                 Traceback (most recent call last)",
      "\u001b[0;32m/var/folders/9f/m35pbwgx13n2j29rjhpkcyg40000gn/T/ipykernel_96816/123765082.py\u001b[0m in \u001b[0;36m<module>\u001b[0;34m\u001b[0m\n\u001b[0;32m----> 1\u001b[0;31m \u001b[0m_\u001b[0m \u001b[0;34m=\u001b[0m \u001b[0mktrx_neutral\u001b[0m\u001b[0;34m.\u001b[0m\u001b[0mplot_regression_coefs\u001b[0m\u001b[0;34m(\u001b[0m\u001b[0mwith_knot\u001b[0m\u001b[0;34m=\u001b[0m\u001b[0;32mTrue\u001b[0m\u001b[0;34m,\u001b[0m \u001b[0mfigsize\u001b[0m\u001b[0;34m=\u001b[0m\u001b[0;34m(\u001b[0m\u001b[0;36m16\u001b[0m\u001b[0;34m,\u001b[0m \u001b[0;36m8\u001b[0m\u001b[0;34m)\u001b[0m\u001b[0;34m)\u001b[0m\u001b[0;34m\u001b[0m\u001b[0;34m\u001b[0m\u001b[0m\n\u001b[0m",
      "\u001b[0;31mNameError\u001b[0m: name 'ktrx_neutral' is not defined"
     ]
    }
   ],
   "source": [
    "_ = ktrx_neutral.plot_regression_coefs(with_knot=True, figsize=(16, 8))"
   ]
  },
  {
   "cell_type": "markdown",
   "id": "1a40cc8e-c8c5-47b3-a552-9ab351695570",
   "metadata": {},
   "source": [
    "## Hierarchical structure with positive sign assumption\n",
    "\n",
    "Most of setting are similar to previous setting.  However, this time we turn on sign as positive which implies all coefficient distribution are replaced by folded normal."
   ]
  },
  {
   "cell_type": "code",
   "execution_count": null,
   "id": "941ce180-94d0-43d3-a654-207983fd71d5",
   "metadata": {
    "ExecuteTime": {
     "end_time": "2021-07-13T22:43:13.225735Z",
     "start_time": "2021-07-13T22:43:07.653406Z"
    }
   },
   "outputs": [],
   "source": [
    "%%time\n",
    "ktrx_pos = KTRXFull(response_col=response_col,\n",
    "                    date_col='date',\n",
    "                    level_knot_scale=level_knot_scale,\n",
    "                    level_knot_dates=level_knot_dates,\n",
    "                    level_knots=level_knots_stan,\n",
    "\n",
    "                    regressor_col=regressor_col,\n",
    "                    regressor_init_knot_loc=[0] * len(regressor_col),\n",
    "                    regressor_init_knot_scale=[1.0] * len(regressor_col),\n",
    "                    regressor_knot_scale=[0.5] * len(regressor_col),\n",
    "                    # this is the only change fromp previous setting\n",
    "                    regressor_sign=['+'] * len(regressor_col),\n",
    "\n",
    "                    span_coefficients=0.1,\n",
    "                    rho_coefficients=0.05, \n",
    "                    prediction_percentiles=[2.5, 97.5],\n",
    "                    seed=2020,\n",
    "                    num_steps=501,\n",
    "                    num_sample=1000,\n",
    "                    learning_rate=0.2,\n",
    "                    learning_rate_total_decay=0.05,\n",
    "                    verbose=True,\n",
    "                    message=50,\n",
    "                    n_bootstrap_draws=-1,\n",
    "                    estimator_type=PyroEstimatorVI, \n",
    "    \n",
    "                    # new setting we want to test\n",
    "                    mvn=0,\n",
    "                    flat_multiplier=True,\n",
    "                    geometric_walk=False,\n",
    "                    min_residuals_sd=1.0)\n",
    "\n",
    "ktrx_pos.fit(df=rw_data)                                  "
   ]
  },
  {
   "cell_type": "code",
   "execution_count": null,
   "id": "434c702d-df65-4a22-928e-45757097d138",
   "metadata": {
    "ExecuteTime": {
     "end_time": "2021-07-13T22:43:13.259345Z",
     "start_time": "2021-07-13T22:43:13.227303Z"
    }
   },
   "outputs": [],
   "source": [
    "idx = 3"
   ]
  },
  {
   "cell_type": "code",
   "execution_count": null,
   "id": "09addef4-b5cd-4acf-bace-985ce4045bef",
   "metadata": {
    "ExecuteTime": {
     "end_time": "2021-07-13T22:43:13.569138Z",
     "start_time": "2021-07-13T22:43:13.261096Z"
    }
   },
   "outputs": [],
   "source": [
    "coef_mid, coef_lower, coef_upper  = ktrx_pos.get_regression_coefs(include_ci=True, coefficient_method='empirical')\n",
    "\n",
    "x = np.arange(coef_mid.shape[0])\n",
    "\n",
    "plt.plot(x, coef_mid['x{}'.format(idx)], label='est', alpha=0.5)\n",
    "plt.fill_between(x, coef_lower['x{}'.format(idx)], coef_upper['x{}'.format(idx)], label='est', alpha=0.5)\n",
    "plt.scatter(x, rw_data['beta{}'.format(idx)], label='truth', s=10, alpha=0.5)\n",
    "plt.legend();"
   ]
  },
  {
   "cell_type": "code",
   "execution_count": null,
   "id": "60661136-8f8b-445c-8c41-0a4124abddf9",
   "metadata": {
    "ExecuteTime": {
     "end_time": "2021-07-13T22:43:14.150033Z",
     "start_time": "2021-07-13T22:43:13.570520Z"
    }
   },
   "outputs": [],
   "source": [
    "_ = ktrx_pos.plot_regression_coefs(with_knot=True, figsize=(16, 8))"
   ]
  },
  {
   "cell_type": "markdown",
   "id": "47927935-b2d3-47cd-ac9a-f84de8ad9f7a",
   "metadata": {},
   "source": [
    "## Gemetric random walk structure with positive sign assumption and \n",
    "\n",
    "Most of setting are similar to previous setting.  However, this time we turn on sign as positive which implies all coefficient distribution are replaced by folded normal."
   ]
  },
  {
   "cell_type": "code",
   "execution_count": null,
   "id": "327bcb9e-fb59-48d5-ba11-0497c36f2307",
   "metadata": {
    "ExecuteTime": {
     "end_time": "2021-07-13T22:43:19.995908Z",
     "start_time": "2021-07-13T22:43:14.151705Z"
    }
   },
   "outputs": [],
   "source": [
    "%%time\n",
    "ktrx_grw = KTRXFull(response_col=response_col,\n",
    "                    date_col='date',\n",
    "                    level_knot_scale=level_knot_scale,\n",
    "                    level_knot_dates=level_knot_dates,\n",
    "                    level_knots=level_knots_stan,\n",
    "\n",
    "                    regressor_col=regressor_col,\n",
    "                    regressor_init_knot_loc=[0] * len(regressor_col),\n",
    "    \n",
    "                    # since we turn geometric_walk to true, this setting also need to be changed from previous\n",
    "                    # i.e. scale parameter is interpreted differently\n",
    "                    regressor_init_knot_scale=[1.0] * len(regressor_col),\n",
    "                    regressor_knot_scale=[0.5] * len(regressor_col),\n",
    "                    regressor_sign=['+'] * len(regressor_col),\n",
    "\n",
    "                    span_coefficients=0.1,\n",
    "                    rho_coefficients=0.05, \n",
    "                    prediction_percentiles=[2.5, 97.5],\n",
    "                    seed=2020,\n",
    "                    num_steps=501,\n",
    "                    num_sample=1000,\n",
    "                    learning_rate=0.2,\n",
    "                    learning_rate_total_decay=0.05,\n",
    "                    verbose=True,\n",
    "                    message=50,\n",
    "                    n_bootstrap_draws=-1,\n",
    "                    estimator_type=PyroEstimatorVI, \n",
    "    \n",
    "                    # new setting we want to test\n",
    "                    mvn=0,\n",
    "                    flat_multiplier=True,\n",
    "                    geometric_walk=True,\n",
    "                    min_residuals_sd=1.0)\n",
    "\n",
    "ktrx_grw.fit(df=rw_data)                                  "
   ]
  },
  {
   "cell_type": "code",
   "execution_count": null,
   "id": "ed2f6d46-afcb-4e53-9c28-29308d8e6c29",
   "metadata": {
    "ExecuteTime": {
     "end_time": "2021-07-13T22:43:20.029786Z",
     "start_time": "2021-07-13T22:43:19.997628Z"
    }
   },
   "outputs": [],
   "source": [
    "idx = 3"
   ]
  },
  {
   "cell_type": "code",
   "execution_count": null,
   "id": "dab4aa76-f734-40fb-a2bd-bb8b4a03184b",
   "metadata": {
    "ExecuteTime": {
     "end_time": "2021-07-13T22:43:20.372463Z",
     "start_time": "2021-07-13T22:43:20.031821Z"
    }
   },
   "outputs": [],
   "source": [
    "coef_mid, coef_lower, coef_upper  = ktrx_grw.get_regression_coefs(include_ci=True, coefficient_method='empirical')\n",
    "\n",
    "x = np.arange(coef_mid.shape[0])\n",
    "\n",
    "plt.plot(x, coef_mid['x{}'.format(idx)], label='est', alpha=0.5)\n",
    "plt.fill_between(x, coef_lower['x{}'.format(idx)], coef_upper['x{}'.format(idx)], label='est', alpha=0.5)\n",
    "plt.scatter(x, rw_data['beta{}'.format(idx)], label='truth', s=10, alpha=0.5)\n",
    "plt.legend();"
   ]
  },
  {
   "cell_type": "code",
   "execution_count": null,
   "id": "inclusive-replication",
   "metadata": {
    "ExecuteTime": {
     "end_time": "2021-07-13T22:43:21.003286Z",
     "start_time": "2021-07-13T22:43:20.373983Z"
    }
   },
   "outputs": [],
   "source": [
    "_ = ktrx_grw.plot_regression_coefs(with_knot=True, figsize=(16, 8))"
   ]
  },
  {
   "cell_type": "markdown",
   "id": "3d8ca5a0-5c85-4a58-be87-d3a393e15718",
   "metadata": {},
   "source": [
    "# Sine-cosine coefficients Simulation Study"
   ]
  },
  {
   "cell_type": "markdown",
   "id": "e6d14b0c-eeef-422e-8a47-fc6a855511c6",
   "metadata": {},
   "source": [
    "## KTRLite\n",
    "\n",
    "**KTRLite** is used to learn the trend.  We will use a default to do that."
   ]
  },
  {
   "cell_type": "code",
   "execution_count": null,
   "id": "9b4efe19-4e2d-45fa-a866-b7be98c4421e",
   "metadata": {
    "ExecuteTime": {
     "end_time": "2021-07-13T22:43:21.070068Z",
     "start_time": "2021-07-13T22:43:21.004923Z"
    }
   },
   "outputs": [],
   "source": [
    "p = 3\n",
    "# define independent and response variables\n",
    "regressor_col = ['x{}'.format(pp) for pp in range(1, p+1)]\n",
    "response_col = 'y'\n",
    "\n",
    "\n",
    "# run the model \n",
    "# run lite first \n",
    "ktr_lite = KTRLiteMAP(response_col=response_col,\n",
    "                      date_col='date',\n",
    "                      seed=2020,\n",
    "                      estimator_type=StanEstimatorMAP)\n",
    "\n",
    "ktr_lite.fit(df=seas_data)\n",
    "\n",
    "level_knot_scale = ktr_lite.level_knot_scale\n",
    "level_knots_stan = ktr_lite._aggregate_posteriors['map']['lev_knot'][0]\n",
    "level_knot_dates = ktr_lite._level_knot_dates\n",
    "level_knots_stan = np.array([0] * len(level_knot_dates))"
   ]
  },
  {
   "cell_type": "markdown",
   "id": "c3917d97-b049-482f-b311-93c06f25c60d",
   "metadata": {},
   "source": [
    "## Hierarchical structure with neutral sign assumption\n",
    "\n",
    "Each coefficient follow Normal dist. with a latent mean which also follows a Normal dist."
   ]
  },
  {
   "cell_type": "code",
   "execution_count": null,
   "id": "fc4d7ee4-0ce8-4e83-a7c0-05aaf08016cc",
   "metadata": {
    "ExecuteTime": {
     "end_time": "2021-07-13T22:43:31.748852Z",
     "start_time": "2021-07-13T22:43:21.072460Z"
    }
   },
   "outputs": [],
   "source": [
    "%%time\n",
    "ktrx_neutral = KTRXFull(response_col=response_col,\n",
    "                        date_col='date',\n",
    "                        level_knot_scale=level_knot_scale,\n",
    "                        level_knot_dates=level_knot_dates,\n",
    "                        level_knots=level_knots_stan,\n",
    "\n",
    "                        regressor_col=regressor_col,\n",
    "                        regressor_init_knot_loc=[0] * len(regressor_col),\n",
    "                        regressor_init_knot_scale=[10.0] * len(regressor_col),\n",
    "                        regressor_knot_scale=[2.0] * len(regressor_col),\n",
    "\n",
    "                        span_coefficients=0.1,\n",
    "                        rho_coefficients=0.05, \n",
    "                        prediction_percentiles=[2.5, 97.5],\n",
    "                        seed=2020,\n",
    "                        num_steps=501,\n",
    "                        num_sample=1000,\n",
    "                        learning_rate=0.2,\n",
    "                        learning_rate_total_decay=0.05,\n",
    "                        verbose=True,\n",
    "                        message=50,\n",
    "                        n_bootstrap_draws=-1,\n",
    "                        estimator_type=PyroEstimatorVI, \n",
    "    \n",
    "                        # new setting we want to test\n",
    "                        mvn=0,\n",
    "                        flat_multiplier=True,\n",
    "                        geometric_walk=False,\n",
    "                        min_residuals_sd=1.0)\n",
    "\n",
    "ktrx_neutral.fit(df=seas_data)                                  "
   ]
  },
  {
   "cell_type": "code",
   "execution_count": null,
   "id": "02faea11-6721-440a-b3d5-185863b6e3a9",
   "metadata": {
    "ExecuteTime": {
     "end_time": "2021-07-13T22:43:31.785969Z",
     "start_time": "2021-07-13T22:43:31.750745Z"
    }
   },
   "outputs": [],
   "source": [
    "idx = 3"
   ]
  },
  {
   "cell_type": "code",
   "execution_count": null,
   "id": "e5430ac2-6752-41f5-8dc1-96ff764661e6",
   "metadata": {
    "ExecuteTime": {
     "end_time": "2021-07-13T22:43:32.277405Z",
     "start_time": "2021-07-13T22:43:31.788261Z"
    }
   },
   "outputs": [],
   "source": [
    "coef_mid, coef_lower, coef_upper  = ktrx_neutral.get_regression_coefs(include_ci=True, coefficient_method='empirical')\n",
    "\n",
    "x = np.arange(coef_mid.shape[0])\n",
    "\n",
    "plt.plot(x, coef_mid['x{}'.format(idx)], label='est', alpha=0.5)\n",
    "plt.fill_between(x, coef_lower['x{}'.format(idx)], coef_upper['x{}'.format(idx)], label='est', alpha=0.5)\n",
    "plt.scatter(x, seas_data['beta{}'.format(idx)], label='truth', s=10, alpha=0.5)\n",
    "plt.legend();"
   ]
  },
  {
   "cell_type": "code",
   "execution_count": null,
   "id": "2b71431a-b79a-4718-94b3-ef294974ff48",
   "metadata": {
    "ExecuteTime": {
     "end_time": "2021-07-13T22:43:33.076168Z",
     "start_time": "2021-07-13T22:43:32.282806Z"
    }
   },
   "outputs": [],
   "source": [
    "_ = ktrx_neutral.plot_regression_coefs(with_knot=True, figsize=(16, 8))"
   ]
  },
  {
   "cell_type": "markdown",
   "id": "8b9917cf-17f5-45c0-adf4-4e9b3ea152b1",
   "metadata": {},
   "source": [
    "## Hierarchical structure with positive sign assumption\n",
    "\n",
    "Most of setting are similar to previous setting.  However, this time we turn on sign as positive which implies all coefficient distribution are replaced by folded normal."
   ]
  },
  {
   "cell_type": "code",
   "execution_count": null,
   "id": "9d2b4e7e-b269-4c69-8843-74a3d2ca27f0",
   "metadata": {
    "ExecuteTime": {
     "end_time": "2021-07-13T22:43:44.331287Z",
     "start_time": "2021-07-13T22:43:33.078617Z"
    }
   },
   "outputs": [],
   "source": [
    "%%time\n",
    "ktrx_pos = KTRXFull(response_col=response_col,\n",
    "                    date_col='date',\n",
    "                    level_knot_scale=level_knot_scale,\n",
    "                    level_knot_dates=level_knot_dates,\n",
    "                    level_knots=level_knots_stan,\n",
    "\n",
    "                    regressor_col=regressor_col,\n",
    "                    regressor_init_knot_loc=[0] * len(regressor_col),\n",
    "                    regressor_init_knot_scale=[10.0] * len(regressor_col),\n",
    "                    regressor_knot_scale=[2.0] * len(regressor_col),\n",
    "                    # this is the only change fromp previous setting\n",
    "                    regressor_sign=['+'] * len(regressor_col),\n",
    "\n",
    "                    span_coefficients=0.1,\n",
    "                    rho_coefficients=0.05, \n",
    "                    prediction_percentiles=[2.5, 97.5],\n",
    "                    seed=2020,\n",
    "                    num_steps=501,\n",
    "                    num_sample=1000,\n",
    "                    learning_rate=0.2,\n",
    "                    learning_rate_total_decay=0.05,\n",
    "                    verbose=True,\n",
    "                    message=50,\n",
    "                    n_bootstrap_draws=-1,\n",
    "                    estimator_type=PyroEstimatorVI, \n",
    "    \n",
    "                    # new setting we want to test\n",
    "                    mvn=0,\n",
    "                    flat_multiplier=True,\n",
    "                    geometric_walk=False,\n",
    "                    min_residuals_sd=1.0)\n",
    "\n",
    "ktrx_pos.fit(df=seas_data)                                  "
   ]
  },
  {
   "cell_type": "code",
   "execution_count": null,
   "id": "4f3d0153-751e-4ab4-943b-15676aa3dc4b",
   "metadata": {
    "ExecuteTime": {
     "end_time": "2021-07-13T22:43:44.368186Z",
     "start_time": "2021-07-13T22:43:44.333240Z"
    }
   },
   "outputs": [],
   "source": [
    "idx = 3"
   ]
  },
  {
   "cell_type": "code",
   "execution_count": null,
   "id": "00c06923-4296-4fde-9589-1aa2f11e9a6f",
   "metadata": {
    "ExecuteTime": {
     "end_time": "2021-07-13T22:43:44.804620Z",
     "start_time": "2021-07-13T22:43:44.370258Z"
    }
   },
   "outputs": [],
   "source": [
    "coef_mid, coef_lower, coef_upper  = ktrx_pos.get_regression_coefs(include_ci=True, coefficient_method='empirical')\n",
    "\n",
    "x = np.arange(coef_mid.shape[0])\n",
    "\n",
    "plt.plot(x, coef_mid['x{}'.format(idx)], label='est', alpha=0.5)\n",
    "plt.fill_between(x, coef_lower['x{}'.format(idx)], coef_upper['x{}'.format(idx)], label='est', alpha=0.5)\n",
    "plt.scatter(x, seas_data['beta{}'.format(idx)], label='truth', s=10, alpha=0.5)\n",
    "plt.legend();"
   ]
  },
  {
   "cell_type": "code",
   "execution_count": null,
   "id": "2745e014-3687-4e07-a134-b82152cf3bfc",
   "metadata": {
    "ExecuteTime": {
     "end_time": "2021-07-13T22:43:45.503004Z",
     "start_time": "2021-07-13T22:43:44.806021Z"
    }
   },
   "outputs": [],
   "source": [
    "_ = ktrx_pos.plot_regression_coefs(with_knot=True, figsize=(16, 8))"
   ]
  },
  {
   "cell_type": "code",
   "execution_count": null,
   "id": "73e40bf2-071e-4cda-a28c-addc82183a7d",
   "metadata": {
    "ExecuteTime": {
     "end_time": "2021-07-13T22:43:55.427654Z",
     "start_time": "2021-07-13T22:43:45.504455Z"
    }
   },
   "outputs": [],
   "source": [
    "%%time\n",
    "ktrx_grw = KTRXFull(response_col=response_col,\n",
    "                    date_col='date',\n",
    "                    level_knot_scale=level_knot_scale,\n",
    "                    level_knot_dates=level_knot_dates,\n",
    "                    level_knots=level_knots_stan,\n",
    "\n",
    "                    regressor_col=regressor_col,\n",
    "                    regressor_init_knot_loc=[0] * len(regressor_col),\n",
    "    \n",
    "                    # since we turn geometric_walk to true, this setting also need to be changed from previous\n",
    "                    # i.e. scale parameter is interpreted differently\n",
    "                    regressor_init_knot_scale=[10.0] * len(regressor_col),\n",
    "                    regressor_knot_scale=[0.2] * len(regressor_col),\n",
    "                    regressor_sign=['+'] * len(regressor_col),\n",
    "    \n",
    "                    span_coefficients=0.1,\n",
    "                    rho_coefficients=0.05, \n",
    "                    prediction_percentiles=[2.5, 97.5],\n",
    "                    seed=2020,\n",
    "                    num_steps=501,\n",
    "                    num_sample=1000,\n",
    "                    learning_rate=0.2,\n",
    "                    learning_rate_total_decay=0.05,\n",
    "                    verbose=True,\n",
    "                    message=50,\n",
    "                    n_bootstrap_draws=-1,\n",
    "                    estimator_type=PyroEstimatorVI, \n",
    "    \n",
    "                    # new setting we want to test\n",
    "                    mvn=0,\n",
    "                    flat_multiplier=True,\n",
    "                    geometric_walk=True,\n",
    "                    min_residuals_sd=1.0)\n",
    "\n",
    "ktrx_grw.fit(df=seas_data)                                  "
   ]
  },
  {
   "cell_type": "code",
   "execution_count": null,
   "id": "ca56660c-89f7-4526-9ceb-d1f0c8f81306",
   "metadata": {
    "ExecuteTime": {
     "end_time": "2021-07-13T22:43:55.465383Z",
     "start_time": "2021-07-13T22:43:55.429774Z"
    }
   },
   "outputs": [],
   "source": [
    "idx = 3"
   ]
  },
  {
   "cell_type": "code",
   "execution_count": null,
   "id": "823109b2-1c8d-4d3b-886f-55babf78578a",
   "metadata": {
    "ExecuteTime": {
     "end_time": "2021-07-13T22:43:55.956264Z",
     "start_time": "2021-07-13T22:43:55.467422Z"
    }
   },
   "outputs": [],
   "source": [
    "coef_mid, coef_lower, coef_upper  = ktrx_grw.get_regression_coefs(include_ci=True, coefficient_method='empirical')\n",
    "\n",
    "x = np.arange(coef_mid.shape[0])\n",
    "\n",
    "plt.plot(x, coef_mid['x{}'.format(idx)], label='est', alpha=0.5)\n",
    "plt.fill_between(x, coef_lower['x{}'.format(idx)], coef_upper['x{}'.format(idx)], label='est', alpha=0.5)\n",
    "plt.scatter(x, seas_data['beta{}'.format(idx)], label='truth', s=10, alpha=0.5)\n",
    "plt.legend();"
   ]
  },
  {
   "cell_type": "code",
   "execution_count": null,
   "id": "6403dd5d-049b-4ad9-8ef0-060dc60338ae",
   "metadata": {
    "ExecuteTime": {
     "end_time": "2021-07-13T22:43:56.727443Z",
     "start_time": "2021-07-13T22:43:55.958001Z"
    }
   },
   "outputs": [],
   "source": [
    "_ = ktrx_grw.plot_regression_coefs(with_knot=True, figsize=(16, 8))"
   ]
  }
 ],
 "metadata": {
  "kernelspec": {
   "display_name": "orbit37",
   "language": "python",
   "name": "orbit37"
  },
  "language_info": {
   "codemirror_mode": {
    "name": "ipython",
    "version": 3
   },
   "file_extension": ".py",
   "mimetype": "text/x-python",
   "name": "python",
   "nbconvert_exporter": "python",
   "pygments_lexer": "ipython3",
   "version": "3.7.8"
  },
  "toc": {
   "base_numbering": 1,
   "nav_menu": {},
   "number_sections": true,
   "sideBar": true,
   "skip_h1_title": false,
   "title_cell": "Table of Contents",
   "title_sidebar": "Contents",
   "toc_cell": false,
   "toc_position": {},
   "toc_section_display": true,
   "toc_window_display": true
  }
 },
 "nbformat": 4,
 "nbformat_minor": 5
}
