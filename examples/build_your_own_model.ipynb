{
 "cells": [
  {
   "cell_type": "markdown",
   "id": "korean-programmer",
   "metadata": {},
   "source": [
    "# Build your Own Model"
   ]
  },
  {
   "cell_type": "code",
   "execution_count": 1,
   "id": "another-publicity",
   "metadata": {
    "ExecuteTime": {
     "end_time": "2021-03-19T23:22:39.749259Z",
     "start_time": "2021-03-19T23:22:37.892432Z"
    }
   },
   "outputs": [],
   "source": [
    "import pandas as pd\n",
    "import numpy as np\n",
    "import torch\n",
    "import pyro\n",
    "import pyro.distributions as dist\n",
    "\n",
    "import orbit\n",
    "from orbit.models.template import BaseTemplate\n",
    "from orbit.models.template import FullBayesianTemplate\n",
    "from orbit.estimators.pyro_estimator import PyroEstimatorVI\n",
    "\n",
    "from orbit.utils.simulation import make_regression\n",
    "\n",
    "%matplotlib inline"
   ]
  },
  {
   "cell_type": "code",
   "execution_count": 2,
   "id": "consecutive-wayne",
   "metadata": {
    "ExecuteTime": {
     "end_time": "2021-03-19T23:22:39.753808Z",
     "start_time": "2021-03-19T23:22:39.751195Z"
    }
   },
   "outputs": [],
   "source": [
    "assert orbit.__version__ == '1.0.13dev'"
   ]
  },
  {
   "cell_type": "code",
   "execution_count": 3,
   "id": "coupled-alliance",
   "metadata": {},
   "outputs": [],
   "source": [
    "class Fitter:\n",
    "    max_plate_nesting = 1  # max number of plates nested in model\n",
    "\n",
    "    def __init__(self, data):\n",
    "        for key, value in data.items():\n",
    "            key = key.lower()\n",
    "            if isinstance(value, (list, np.ndarray)):\n",
    "                value = torch.tensor(value, dtype=torch.float)\n",
    "            self.__dict__[key] = value\n",
    "\n",
    "    def __call__(self):\n",
    "        extra_out = {}\n",
    "        \n",
    "        p = self.regressor.shape[1]\n",
    "        bias = pyro.sample(\"bias\", dist.Normal(0, 1))\n",
    "        weight = pyro.sample(\"weight\", dist.Normal(0, 1).expand([p]).to_event(1))\n",
    "        yhat = bias + weight @ self.regressor.transpose(-1, -2)\n",
    "        obs_sigma = pyro.sample(\"obs_sigma\", dist.HalfCauchy(self.response_sd))\n",
    "        \n",
    "        with pyro.plate(\"response_plate\", self.num_of_obs):\n",
    "            pyro.sample(\"response\", dist.Normal(yhat, obs_sigma), obs=self.response)\n",
    "        return extra_out"
   ]
  },
  {
   "cell_type": "code",
   "execution_count": 12,
   "id": "aggressive-contractor",
   "metadata": {},
   "outputs": [],
   "source": [
    "from enum import Enum\n",
    "\n",
    "class MyDataMapper(Enum):\n",
    "    NUM_OF_OBSERVATIONS = 'NUM_OF_OBS'\n",
    "    RESPONSE = 'RESPONSE'\n",
    "    RESPONSE_SD = 'RESPONSE_SD'\n",
    "    REGRESSOR = 'REGRESSOR'"
   ]
  },
  {
   "cell_type": "code",
   "execution_count": 13,
   "id": "cleared-dodge",
   "metadata": {},
   "outputs": [],
   "source": [
    "class BaseRegression(BaseTemplate):\n",
    "    _fitter = Fitter\n",
    "    _data_input_mapper = MyDataMapper\n",
    "    def __init__(self, regressor_col, **kwargs):\n",
    "        super().__init__(**kwargs)  # create estimator in base class\n",
    "        self.regressor_col = regressor_col\n",
    "        self.regressor = None\n",
    "\n",
    "    def _set_model_param_names(self):\n",
    "        self._model_param_names = ['bias', 'weight', 'obs_sigma']\n",
    "        \n",
    "    def _set_dynamic_attributes(self, df):\n",
    "        super()._validate_training_df(df)\n",
    "        super()._set_training_df_meta(df)\n",
    "        \n",
    "        self.regressor = df[self.regressor_col].values\n",
    "\n",
    "        super()._set_model_data_input()\n",
    "        self._set_init_values()\n",
    "        \n",
    "\n",
    "class PyroVIRegression(FullBayesianTemplate, BaseRegression):\n",
    "    \n",
    "    _supported_estimator_types = [PyroEstimatorVI]\n",
    "    \n",
    "    def __init__(self, estimator_type=PyroEstimatorVI, **kwargs):\n",
    "        super().__init__(estimator_type=estimator_type, **kwargs)"
   ]
  },
  {
   "cell_type": "code",
   "execution_count": 22,
   "id": "informative-foundation",
   "metadata": {},
   "outputs": [],
   "source": [
    "x, y, coefs = make_regression(100, [3.0, -1.0], bias=1.0)"
   ]
  },
  {
   "cell_type": "code",
   "execution_count": 23,
   "id": "plain-thing",
   "metadata": {},
   "outputs": [],
   "source": [
    "df = pd.DataFrame(\n",
    "    np.concatenate([y.reshape(-1, 1), x], axis=1), columns=['y', 'x1', 'x2']\n",
    ")\n",
    "df['week'] = pd.date_range(start='2016-01-04', periods=len(y), freq='7D')"
   ]
  },
  {
   "cell_type": "code",
   "execution_count": 24,
   "id": "cooked-press",
   "metadata": {},
   "outputs": [
    {
     "data": {
      "text/html": [
       "<div>\n",
       "<style scoped>\n",
       "    .dataframe tbody tr th:only-of-type {\n",
       "        vertical-align: middle;\n",
       "    }\n",
       "\n",
       "    .dataframe tbody tr th {\n",
       "        vertical-align: top;\n",
       "    }\n",
       "\n",
       "    .dataframe thead th {\n",
       "        text-align: right;\n",
       "    }\n",
       "</style>\n",
       "<table border=\"1\" class=\"dataframe\">\n",
       "  <thead>\n",
       "    <tr style=\"text-align: right;\">\n",
       "      <th></th>\n",
       "      <th>y</th>\n",
       "      <th>x1</th>\n",
       "      <th>x2</th>\n",
       "      <th>week</th>\n",
       "    </tr>\n",
       "  </thead>\n",
       "  <tbody>\n",
       "    <tr>\n",
       "      <th>0</th>\n",
       "      <td>1.863960</td>\n",
       "      <td>0.172792</td>\n",
       "      <td>0.000000</td>\n",
       "      <td>2016-01-04</td>\n",
       "    </tr>\n",
       "    <tr>\n",
       "      <th>1</th>\n",
       "      <td>2.317274</td>\n",
       "      <td>0.165219</td>\n",
       "      <td>-0.000000</td>\n",
       "      <td>2016-01-11</td>\n",
       "    </tr>\n",
       "    <tr>\n",
       "      <th>2</th>\n",
       "      <td>2.465284</td>\n",
       "      <td>0.452678</td>\n",
       "      <td>0.223187</td>\n",
       "      <td>2016-01-18</td>\n",
       "    </tr>\n",
       "    <tr>\n",
       "      <th>3</th>\n",
       "      <td>-0.593716</td>\n",
       "      <td>-0.000000</td>\n",
       "      <td>0.290559</td>\n",
       "      <td>2016-01-25</td>\n",
       "    </tr>\n",
       "    <tr>\n",
       "      <th>4</th>\n",
       "      <td>2.305148</td>\n",
       "      <td>0.182286</td>\n",
       "      <td>0.147066</td>\n",
       "      <td>2016-02-01</td>\n",
       "    </tr>\n",
       "  </tbody>\n",
       "</table>\n",
       "</div>"
      ],
      "text/plain": [
       "          y        x1        x2       week\n",
       "0  1.863960  0.172792  0.000000 2016-01-04\n",
       "1  2.317274  0.165219 -0.000000 2016-01-11\n",
       "2  2.465284  0.452678  0.223187 2016-01-18\n",
       "3 -0.593716 -0.000000  0.290559 2016-01-25\n",
       "4  2.305148  0.182286  0.147066 2016-02-01"
      ]
     },
     "execution_count": 24,
     "metadata": {},
     "output_type": "execute_result"
    }
   ],
   "source": [
    "df.head(5)"
   ]
  },
  {
   "cell_type": "code",
   "execution_count": 25,
   "id": "golden-legislation",
   "metadata": {},
   "outputs": [],
   "source": [
    "mod = PyroVIRegression(\n",
    "    response_col='y', \n",
    "    date_col='week',\n",
    "    regressor_col=['x1','x2'], \n",
    "    verbose=True,\n",
    "    num_steps=501)"
   ]
  },
  {
   "cell_type": "code",
   "execution_count": 26,
   "id": "secure-watch",
   "metadata": {},
   "outputs": [
    {
     "name": "stderr",
     "output_type": "stream",
     "text": [
      "INFO:root:Guessed max_plate_nesting = 2\n"
     ]
    },
    {
     "name": "stdout",
     "output_type": "stream",
     "text": [
      "step    0 loss = 23912, scale = 0.090377\n",
      "step  100 loss = 12587, scale = 0.016337\n",
      "step  200 loss = 12596, scale = 0.0164\n",
      "step  300 loss = 12588, scale = 0.016334\n",
      "step  400 loss = 12591, scale = 0.015944\n",
      "step  500 loss = 12588, scale = 0.016318\n"
     ]
    }
   ],
   "source": [
    "mod.fit(df)"
   ]
  },
  {
   "cell_type": "code",
   "execution_count": 27,
   "id": "satisfied-bishop",
   "metadata": {},
   "outputs": [
    {
     "data": {
      "text/plain": [
       "1.5622762644474886"
      ]
     },
     "execution_count": 27,
     "metadata": {},
     "output_type": "execute_result"
    }
   ],
   "source": [
    "mod.response_sd"
   ]
  },
  {
   "cell_type": "code",
   "execution_count": 28,
   "id": "hungry-panel",
   "metadata": {},
   "outputs": [],
   "source": [
    "estimated_weights = mod._posterior_samples['weight']"
   ]
  },
  {
   "cell_type": "code",
   "execution_count": 29,
   "id": "joined-waters",
   "metadata": {},
   "outputs": [
    {
     "data": {
      "text/plain": [
       "array([ 2.9027781, -0.9494698], dtype=float32)"
      ]
     },
     "execution_count": 29,
     "metadata": {},
     "output_type": "execute_result"
    }
   ],
   "source": [
    "np.median(estimated_weights, axis=0)"
   ]
  }
 ],
 "metadata": {
  "kernelspec": {
   "display_name": "Python 3",
   "language": "python",
   "name": "python3"
  },
  "language_info": {
   "codemirror_mode": {
    "name": "ipython",
    "version": 3
   },
   "file_extension": ".py",
   "mimetype": "text/x-python",
   "name": "python",
   "nbconvert_exporter": "python",
   "pygments_lexer": "ipython3",
   "version": "3.7.8"
  }
 },
 "nbformat": 4,
 "nbformat_minor": 5
}