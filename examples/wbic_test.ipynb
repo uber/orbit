{
 "cells": [
  {
   "cell_type": "markdown",
   "id": "b1a5b7d5",
   "metadata": {},
   "source": [
    "# Model Selection with WBIC"
   ]
  },
  {
   "cell_type": "code",
   "execution_count": 1,
   "id": "95d5a002",
   "metadata": {
    "ExecuteTime": {
     "end_time": "2022-01-05T23:10:37.517767Z",
     "start_time": "2022-01-05T23:10:35.644854Z"
    }
   },
   "outputs": [
    {
     "name": "stdout",
     "output_type": "stream",
     "text": [
      "1.1.0dev\n"
     ]
    }
   ],
   "source": [
    "from datetime import timedelta\n",
    "\n",
    "import pandas as pd\n",
    "import numpy as np\n",
    "\n",
    "import matplotlib.pyplot as plt\n",
    "%matplotlib inline\n",
    "\n",
    "import orbit\n",
    "print(orbit.__version__)\n",
    "from orbit.models import DLT, ETS, KTRLite, KTR, LGT\n",
    "from orbit.utils.simulation import make_trend, make_regression"
   ]
  },
  {
   "cell_type": "code",
   "execution_count": 2,
   "id": "adjacent-farmer",
   "metadata": {
    "ExecuteTime": {
     "end_time": "2022-01-05T23:10:37.550942Z",
     "start_time": "2022-01-05T23:10:37.519559Z"
    }
   },
   "outputs": [],
   "source": [
    "%load_ext autoreload\n",
    "%autoreload 2"
   ]
  },
  {
   "cell_type": "markdown",
   "id": "ff376c50",
   "metadata": {},
   "source": [
    "Generate a regression problem with trend with `8` number of regressors where only `3` of them are effective. First, generate the `3` effective regressors."
   ]
  },
  {
   "cell_type": "code",
   "execution_count": 3,
   "id": "af05537e",
   "metadata": {
    "ExecuteTime": {
     "end_time": "2022-01-05T23:10:38.198195Z",
     "start_time": "2022-01-05T23:10:38.163270Z"
    }
   },
   "outputs": [
    {
     "name": "stdout",
     "output_type": "stream",
     "text": [
      "(100,) (100, 3)\n",
      "[ 0.36470373 -0.89235796 -0.55928025]\n"
     ]
    }
   ],
   "source": [
    "NUM_OF_REGRESSORS = 8\n",
    "NUM_OF_EFFECTIVE_REGRESSORS = 3\n",
    "SERIES_LEN = 100\n",
    "SEED = 123\n",
    "# sample some coefficients\n",
    "COEFS = np.random.default_rng(SEED).uniform(-1, 1, NUM_OF_EFFECTIVE_REGRESSORS)\n",
    "trend = make_trend(SERIES_LEN, rw_loc=0.01, rw_scale=0.1)\n",
    "x, regression, coefs = make_regression(series_len=SERIES_LEN, coefs=COEFS)\n",
    "print(regression.shape, x.shape)\n",
    "\n",
    "# combine trend and the regression\n",
    "y = trend + regression\n",
    "y = y - y.min()\n",
    "\n",
    "print(COEFS)"
   ]
  },
  {
   "cell_type": "code",
   "execution_count": 4,
   "id": "consolidated-judges",
   "metadata": {
    "ExecuteTime": {
     "end_time": "2022-01-05T23:10:38.782469Z",
     "start_time": "2022-01-05T23:10:38.750035Z"
    }
   },
   "outputs": [],
   "source": [
    "# add missing data \n",
    "missing_idx = np.array([10, 20, 30, 40, 41, 42, 43, 44, 100 - 1])\n",
    "y[missing_idx] = np.nan\n"
   ]
  },
  {
   "cell_type": "markdown",
   "id": "c248509c",
   "metadata": {},
   "source": [
    "We can add `5` irrelevant regressors into the dataset to add challenge in selecting the best model."
   ]
  },
  {
   "cell_type": "code",
   "execution_count": 5,
   "id": "ac863f4c",
   "metadata": {
    "ExecuteTime": {
     "end_time": "2022-01-05T23:10:40.536799Z",
     "start_time": "2022-01-05T23:10:40.499059Z"
    }
   },
   "outputs": [
    {
     "name": "stdout",
     "output_type": "stream",
     "text": [
      "(100, 8)\n"
     ]
    }
   ],
   "source": [
    "x_extra = np.random.normal(0, 1, (SERIES_LEN, NUM_OF_REGRESSORS - NUM_OF_EFFECTIVE_REGRESSORS))\n",
    "x = np.concatenate([x, x_extra], axis=-1)\n",
    "print(x.shape)"
   ]
  },
  {
   "cell_type": "code",
   "execution_count": 6,
   "id": "ba0c5bf1",
   "metadata": {
    "ExecuteTime": {
     "end_time": "2022-01-05T23:10:40.767119Z",
     "start_time": "2022-01-05T23:10:40.721738Z"
    }
   },
   "outputs": [
    {
     "name": "stdout",
     "output_type": "stream",
     "text": [
      "(100, 10)\n",
      "          y        x1        x2        x3        x4        x5        x6  \\\n",
      "0  3.221238  0.172792  0.000000  0.165219 -1.249982  0.220238  0.394186   \n",
      "1  3.290044 -0.000000  0.452678  0.223187 -0.370027  0.577354  0.387158   \n",
      "2  3.009450 -0.000000  0.290559  0.182286 -0.913229 -0.613670 -1.221476   \n",
      "3  1.504843  0.147066  0.014211  0.273356 -1.641729  2.372297  1.304026   \n",
      "4  3.999033 -0.368227 -0.081455 -0.241060 -0.020899 -0.169839 -1.446373   \n",
      "\n",
      "         x7        x8       date  \n",
      "0  1.955462 -1.353903 2016-01-10  \n",
      "1 -1.389893 -0.797867 2016-01-17  \n",
      "2  1.077190 -0.436931 2016-01-24  \n",
      "3  1.410996 -1.014307 2016-01-31  \n",
      "4 -0.388509 -2.319550 2016-02-07  \n"
     ]
    }
   ],
   "source": [
    "x_cols = [f\"x{x}\" for x in range(1, NUM_OF_REGRESSORS + 1)]\n",
    "response_col = \"y\"\n",
    "dt_col = \"date\"\n",
    "obs_matrix = np.concatenate([y.reshape(-1, 1), x], axis=1)\n",
    "# make a data frame for orbit inputs\n",
    "df = pd.DataFrame(obs_matrix, columns=[response_col] + x_cols)\n",
    "# make some dummy date stamp\n",
    "dt = pd.date_range(start='2016-01-04', periods=SERIES_LEN, freq=\"1W\")\n",
    "df['date'] = dt\n",
    "print(df.shape)\n",
    "print(df.head())"
   ]
  },
  {
   "cell_type": "code",
   "execution_count": 7,
   "id": "registered-level",
   "metadata": {
    "ExecuteTime": {
     "end_time": "2022-01-05T23:10:43.522954Z",
     "start_time": "2022-01-05T23:10:43.488511Z"
    }
   },
   "outputs": [
    {
     "data": {
      "text/plain": [
       "['x1', 'x2', 'x3', 'x4', 'x5', 'x6', 'x7', 'x8']"
      ]
     },
     "execution_count": 7,
     "metadata": {},
     "output_type": "execute_result"
    }
   ],
   "source": [
    "x_cols"
   ]
  },
  {
   "cell_type": "markdown",
   "id": "august-substitute",
   "metadata": {},
   "source": [
    "## DLT"
   ]
  },
  {
   "cell_type": "code",
   "execution_count": 8,
   "id": "distinct-laundry",
   "metadata": {
    "ExecuteTime": {
     "end_time": "2022-01-05T23:12:11.917551Z",
     "start_time": "2022-01-05T23:11:31.913827Z"
    }
   },
   "outputs": [
    {
     "name": "stdout",
     "output_type": "stream",
     "text": [
      "['x1']\n"
     ]
    },
    {
     "name": "stderr",
     "output_type": "stream",
     "text": [
      "WARNING:pystan:n_eff / iter below 0.001 indicates that the effective sample size has likely been overestimated\n",
      "WARNING:pystan:Rhat above 1.1 or below 0.9 indicates that the chains very likely have not mixed\n"
     ]
    },
    {
     "name": "stdout",
     "output_type": "stream",
     "text": [
      "['x1', 'x2']\n"
     ]
    },
    {
     "name": "stderr",
     "output_type": "stream",
     "text": [
      "WARNING:pystan:n_eff / iter below 0.001 indicates that the effective sample size has likely been overestimated\n",
      "WARNING:pystan:Rhat above 1.1 or below 0.9 indicates that the chains very likely have not mixed\n"
     ]
    },
    {
     "name": "stdout",
     "output_type": "stream",
     "text": [
      "['x1', 'x2', 'x3']\n"
     ]
    },
    {
     "name": "stderr",
     "output_type": "stream",
     "text": [
      "WARNING:pystan:n_eff / iter below 0.001 indicates that the effective sample size has likely been overestimated\n",
      "WARNING:pystan:Rhat above 1.1 or below 0.9 indicates that the chains very likely have not mixed\n"
     ]
    },
    {
     "name": "stdout",
     "output_type": "stream",
     "text": [
      "['x1', 'x2', 'x3', 'x4']\n"
     ]
    },
    {
     "name": "stderr",
     "output_type": "stream",
     "text": [
      "WARNING:pystan:n_eff / iter below 0.001 indicates that the effective sample size has likely been overestimated\n",
      "WARNING:pystan:Rhat above 1.1 or below 0.9 indicates that the chains very likely have not mixed\n"
     ]
    },
    {
     "name": "stdout",
     "output_type": "stream",
     "text": [
      "['x1', 'x2', 'x3', 'x4', 'x5']\n"
     ]
    },
    {
     "name": "stderr",
     "output_type": "stream",
     "text": [
      "WARNING:pystan:n_eff / iter below 0.001 indicates that the effective sample size has likely been overestimated\n",
      "WARNING:pystan:Rhat above 1.1 or below 0.9 indicates that the chains very likely have not mixed\n"
     ]
    },
    {
     "name": "stdout",
     "output_type": "stream",
     "text": [
      "['x1', 'x2', 'x3', 'x4', 'x5', 'x6']\n"
     ]
    },
    {
     "name": "stderr",
     "output_type": "stream",
     "text": [
      "WARNING:pystan:n_eff / iter below 0.001 indicates that the effective sample size has likely been overestimated\n",
      "WARNING:pystan:Rhat above 1.1 or below 0.9 indicates that the chains very likely have not mixed\n"
     ]
    },
    {
     "name": "stdout",
     "output_type": "stream",
     "text": [
      "['x1', 'x2', 'x3', 'x4', 'x5', 'x6', 'x7']\n"
     ]
    },
    {
     "name": "stderr",
     "output_type": "stream",
     "text": [
      "WARNING:pystan:n_eff / iter below 0.001 indicates that the effective sample size has likely been overestimated\n",
      "WARNING:pystan:Rhat above 1.1 or below 0.9 indicates that the chains very likely have not mixed\n"
     ]
    },
    {
     "name": "stdout",
     "output_type": "stream",
     "text": [
      "['x1', 'x2', 'x3', 'x4', 'x5', 'x6', 'x7', 'x8']\n"
     ]
    },
    {
     "name": "stderr",
     "output_type": "stream",
     "text": [
      "WARNING:pystan:n_eff / iter below 0.001 indicates that the effective sample size has likely been overestimated\n",
      "WARNING:pystan:Rhat above 1.1 or below 0.9 indicates that the chains very likely have not mixed\n"
     ]
    }
   ],
   "source": [
    "wbic_val_list = []\n",
    "for p in range(1, 9):\n",
    "    regressor_col = x_cols[:p]\n",
    "    print(regressor_col)\n",
    "    dlt_mod = DLT(\n",
    "            response_col=response_col,\n",
    "            date_col=dt_col,\n",
    "            regressor_col=regressor_col,\n",
    "            seed=2020,\n",
    "            # fixing the smoothing parameters to learn regression coefficients more effectively\n",
    "            level_sm_input=0.01,\n",
    "            slope_sm_input=0.01,\n",
    "            num_warmup=4000,\n",
    "            num_sample=4000,\n",
    "\n",
    "        )\n",
    "    wbic_val = dlt_mod.fit_wbic(df=df) #, , sampling_temperature = np.log(100.0)\n",
    "    wbic_val_list.append(wbic_val)"
   ]
  },
  {
   "cell_type": "code",
   "execution_count": 9,
   "id": "demonstrated-wrapping",
   "metadata": {
    "ExecuteTime": {
     "end_time": "2022-01-05T23:12:12.143090Z",
     "start_time": "2022-01-05T23:12:11.920040Z"
    }
   },
   "outputs": [
    {
     "data": {
      "text/plain": [
       "[<matplotlib.lines.Line2D at 0x14b777a90>]"
      ]
     },
     "execution_count": 9,
     "metadata": {},
     "output_type": "execute_result"
    },
    {
     "data": {
      "image/png": "[encoded data removed]",
      "text/plain": [
       "<Figure size 432x288 with 1 Axes>"
      ]
     },
     "metadata": {
      "needs_background": "light"
     },
     "output_type": "display_data"
    }
   ],
   "source": [
    "plt.plot(wbic_val_list)"
   ]
  },
  {
   "cell_type": "code",
   "execution_count": 10,
   "id": "warming-lending",
   "metadata": {
    "ExecuteTime": {
     "end_time": "2022-01-05T23:12:12.175124Z",
     "start_time": "2022-01-05T23:12:12.145656Z"
    }
   },
   "outputs": [
    {
     "data": {
      "text/plain": [
       "[271.4062068539263,\n",
       " 260.6106482392274,\n",
       " 255.45957927978858,\n",
       " 258.2645729189687,\n",
       " 258.7966882344825,\n",
       " 259.8072042101491,\n",
       " 263.49069853103964,\n",
       " 267.86200704543]"
      ]
     },
     "execution_count": 10,
     "metadata": {},
     "output_type": "execute_result"
    }
   ],
   "source": [
    "wbic_val_list"
   ]
  },
  {
   "cell_type": "markdown",
   "id": "perceived-rhythm",
   "metadata": {},
   "source": [
    "## ETS/LGT/KTR"
   ]
  },
  {
   "cell_type": "code",
   "execution_count": 11,
   "id": "threatened-thanks",
   "metadata": {
    "ExecuteTime": {
     "end_time": "2022-01-05T22:10:49.735069Z",
     "start_time": "2022-01-05T22:10:05.285051Z"
    }
   },
   "outputs": [
    {
     "name": "stderr",
     "output_type": "stream",
     "text": [
      "INFO:pystan:COMPILING THE C++ CODE FOR MODEL anon_model_16851b025139395720e90c0218ba9f1d NOW.\n",
      "WARNING:pystan:n_eff / iter below 0.001 indicates that the effective sample size has likely been overestimated\n",
      "WARNING:pystan:Rhat above 1.1 or below 0.9 indicates that the chains very likely have not mixed\n",
      "WARNING:pystan:10 of 4000 iterations ended with a divergence (0.25 %).\n",
      "WARNING:pystan:Try running with adapt_delta larger than 0.8 to remove the divergences.\n"
     ]
    },
    {
     "data": {
      "text/plain": [
       "-129.120959492217"
      ]
     },
     "execution_count": 11,
     "metadata": {},
     "output_type": "execute_result"
    }
   ],
   "source": [
    "ets_mod = ETS(\n",
    "        response_col=response_col,\n",
    "        date_col=dt_col,\n",
    "        seed=2020,\n",
    "        # fixing the smoothing parameters to learn regression coefficients more effectively\n",
    "        level_sm_input=0.01,\n",
    "        num_warmup=4000,\n",
    "        num_sample=4000,\n",
    "\n",
    "    )\n",
    "\n",
    "ets_mod.fit_wbic(df)"
   ]
  },
  {
   "cell_type": "code",
   "execution_count": 17,
   "id": "empirical-composer",
   "metadata": {
    "ExecuteTime": {
     "end_time": "2022-01-05T22:19:21.198282Z",
     "start_time": "2022-01-05T22:19:21.166167Z"
    }
   },
   "outputs": [],
   "source": [
    "# KTRLite_mod = KTRLite(\n",
    "#         response_col=response_col,\n",
    "#         date_col=dt_col,\n",
    "#         seed=2020,\n",
    "#         # fixing the smoothing parameters to learn regression coefficients more effectively\n",
    "#         #level_sm_input=0.01,\n",
    "#         estimator='stan-map',\n",
    "#         #num_warmup=4000,\n",
    "#         #num_sample=4000,\n",
    "\n",
    "#     )\n",
    "\n",
    "# KTRLite_mod.fit_wbic(df)"
   ]
  },
  {
   "cell_type": "code",
   "execution_count": 13,
   "id": "regulated-committee",
   "metadata": {
    "ExecuteTime": {
     "end_time": "2022-01-05T22:14:10.588397Z",
     "start_time": "2022-01-05T22:13:15.464602Z"
    }
   },
   "outputs": [
    {
     "name": "stderr",
     "output_type": "stream",
     "text": [
      "INFO:pystan:COMPILING THE C++ CODE FOR MODEL anon_model_d372bb7bc77e1df83218127fc9dd707d NOW.\n",
      "WARNING:pystan:n_eff / iter below 0.001 indicates that the effective sample size has likely been overestimated\n",
      "WARNING:pystan:Rhat above 1.1 or below 0.9 indicates that the chains very likely have not mixed\n"
     ]
    },
    {
     "data": {
      "text/plain": [
       "-131.0152082056959"
      ]
     },
     "execution_count": 13,
     "metadata": {},
     "output_type": "execute_result"
    }
   ],
   "source": [
    "LGT_mod = LGT(\n",
    "        response_col=response_col,\n",
    "        date_col=dt_col,\n",
    "        seed=2020,\n",
    "        # fixing the smoothing parameters to learn regression coefficients more effectively\n",
    "        #level_sm_input=0.01,\n",
    "        estimator='stan-mcmc',\n",
    "        num_warmup=4000,\n",
    "        num_sample=4000,\n",
    "\n",
    "    )\n",
    "\n",
    "LGT_mod.fit_wbic(df)"
   ]
  },
  {
   "cell_type": "code",
   "execution_count": null,
   "id": "alike-moldova",
   "metadata": {},
   "outputs": [],
   "source": []
  }
 ],
 "metadata": {
  "kernelspec": {
   "display_name": "Python 3",
   "language": "python",
   "name": "python3"
  },
  "language_info": {
   "codemirror_mode": {
    "name": "ipython",
    "version": 3
   },
   "file_extension": ".py",
   "mimetype": "text/x-python",
   "name": "python",
   "nbconvert_exporter": "python",
   "pygments_lexer": "ipython3",
   "version": "3.7.8"
  },
  "toc": {
   "base_numbering": 1,
   "nav_menu": {},
   "number_sections": true,
   "sideBar": true,
   "skip_h1_title": false,
   "title_cell": "Table of Contents",
   "title_sidebar": "Contents",
   "toc_cell": false,
   "toc_position": {},
   "toc_section_display": true,
   "toc_window_display": true
  }
 },
 "nbformat": 4,
 "nbformat_minor": 5
}
