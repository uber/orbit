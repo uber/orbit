{
 "cells": [
  {
   "cell_type": "code",
   "execution_count": 1,
   "id": "8aaab855",
   "metadata": {},
   "outputs": [],
   "source": [
    "import pandas as pd\n",
    "import numpy as np\n",
    "import matplotlib.pyplot as plt\n",
    "import os\n",
    "%matplotlib inline\n",
    "\n",
    "\n",
    "from orbit.models import DLT\n",
    "from orbit.diagnostics.metrics import smape, wmape\n",
    "from orbit.diagnostics.plot import plot_predicted_data\n",
    "from orbit.utils.simulation import make_trend, make_seasonality, make_regression"
   ]
  },
  {
   "cell_type": "code",
   "execution_count": 2,
   "id": "c596a161",
   "metadata": {},
   "outputs": [],
   "source": [
    "SERIES_LEN = 720\n",
    "SEED = 2022\n",
    "rw = make_trend(SERIES_LEN, rw_loc=0.05, rw_scale=0.5, seed=SEED)\n",
    "# add obs noise\n",
    "rw = (rw + np.random.normal(0, 1, rw.shape)).reshape(-1, 1)\n",
    "df = pd.DataFrame(rw, columns=['y'])\n",
    "dt = pd.date_range(start='2016-01-04', periods=SERIES_LEN, freq=\"1W\")\n",
    "df['ds'] = dt\n",
    "# plt.plot(rw, 'o')"
   ]
  },
  {
   "cell_type": "code",
   "execution_count": 3,
   "id": "1dd4341a",
   "metadata": {},
   "outputs": [],
   "source": [
    "smooth_inputs = np.array([0.01, 0.05, 0.1, 0.2, 0.3, 0.5])"
   ]
  },
  {
   "cell_type": "code",
   "execution_count": 7,
   "id": "ab7ebe42",
   "metadata": {},
   "outputs": [],
   "source": [
    "# create a new directory because it does not exist \n",
    "fig_dir = './temp'\n",
    "\n",
    "is_exist = os.path.exists(fig_dir)\n",
    "if not is_exist:\n",
    "\n",
    "    os.makedirs(fig_dir)"
   ]
  },
  {
   "cell_type": "code",
   "execution_count": 17,
   "id": "3ff299b9",
   "metadata": {},
   "outputs": [],
   "source": [
    "fig_paths = list()\n",
    "for idx, smooth_input in enumerate(smooth_inputs):\n",
    "    dlt = DLT(\n",
    "        # default\n",
    "        response_col='y',\n",
    "        date_col='ds',\n",
    "        estimator='stan-map',\n",
    "        level_sm_input=smooth_input,\n",
    "        slope_sm_input=smooth_input,\n",
    "        verbose=False,\n",
    "    )\n",
    "    dlt.fit(df)\n",
    "    fig_path = '{}/fig{}.jpg'.format(fig_dir, idx)\n",
    "    fig_paths.append(fig_path)\n",
    "    pred = dlt.predict(df)\n",
    "    plot_predicted_data(\n",
    "        training_actual_df=df,\n",
    "        predicted_df=pred,\n",
    "        date_col='ds',\n",
    "        actual_col='y',\n",
    "        lw='3',\n",
    "        path=fig_path,\n",
    "        is_visible=False,\n",
    "        title='smooth param = {}'.format(smooth_input),\n",
    "        fontsize=24,\n",
    "    )"
   ]
  },
  {
   "cell_type": "code",
   "execution_count": 18,
   "id": "483c571a",
   "metadata": {},
   "outputs": [
    {
     "name": "stdout",
     "output_type": "stream",
     "text": [
      "2.16.2\n"
     ]
    }
   ],
   "source": [
    "import imageio\n",
    "print(imageio.__version__)\n",
    "with imageio.get_writer(\"{}/varying_smooth_inputs.gif\".format(fig_dir), mode=\"I\", duration=0.5) as writer:\n",
    "    for fig_path in fig_paths:\n",
    "        image = imageio.imread(fig_path)\n",
    "        writer.append_data(image)"
   ]
  }
 ],
 "metadata": {
  "kernelspec": {
   "display_name": "Python 3 (ipykernel)",
   "language": "python",
   "name": "python3"
  },
  "language_info": {
   "codemirror_mode": {
    "name": "ipython",
    "version": 3
   },
   "file_extension": ".py",
   "mimetype": "text/x-python",
   "name": "python",
   "nbconvert_exporter": "python",
   "pygments_lexer": "ipython3",
   "version": "3.7.9"
  },
  "toc": {
   "base_numbering": 1,
   "nav_menu": {},
   "number_sections": true,
   "sideBar": true,
   "skip_h1_title": false,
   "title_cell": "Table of Contents",
   "title_sidebar": "Contents",
   "toc_cell": false,
   "toc_position": {},
   "toc_section_display": true,
   "toc_window_display": false
  }
 },
 "nbformat": 4,
 "nbformat_minor": 5
}
