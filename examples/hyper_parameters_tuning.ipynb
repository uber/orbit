{
 "cells": [
  {
   "cell_type": "code",
   "execution_count": 1,
   "metadata": {
    "ExecuteTime": {
     "end_time": "2021-05-22T00:25:09.286075Z",
     "start_time": "2021-05-22T00:25:06.873625Z"
    }
   },
   "outputs": [],
   "source": [
    "import pandas as pd\n",
    "import numpy as np\n",
    "import matplotlib.pyplot as plt\n",
    "\n",
    "from orbit.models.lgt import LGTMAP, LGTAggregated, LGTFull\n",
    "from orbit.models.dlt import DLTMAP, DLTAggregated, DLTFull\n",
    "from orbit.utils.dataset import load_iclaims\n",
    "\n",
    "from orbit.diagnostics.backtest import grid_search_orbit\n",
    "from orbit.diagnostics.metrics import smape, mape, wmape"
   ]
  },
  {
   "cell_type": "markdown",
   "metadata": {},
   "source": [
    "## Load Data"
   ]
  },
  {
   "cell_type": "code",
   "execution_count": 2,
   "metadata": {
    "ExecuteTime": {
     "end_time": "2021-05-22T00:25:11.060006Z",
     "start_time": "2021-05-22T00:25:10.655436Z"
    }
   },
   "outputs": [
    {
     "name": "stdout",
     "output_type": "stream",
     "text": [
      "(443, 7)\n"
     ]
    },
    {
     "data": {
      "text/html": [
       "<div>\n",
       "<style scoped>\n",
       "    .dataframe tbody tr th:only-of-type {\n",
       "        vertical-align: middle;\n",
       "    }\n",
       "\n",
       "    .dataframe tbody tr th {\n",
       "        vertical-align: top;\n",
       "    }\n",
       "\n",
       "    .dataframe thead th {\n",
       "        text-align: right;\n",
       "    }\n",
       "</style>\n",
       "<table border=\"1\" class=\"dataframe\">\n",
       "  <thead>\n",
       "    <tr style=\"text-align: right;\">\n",
       "      <th></th>\n",
       "      <th>week</th>\n",
       "      <th>claims</th>\n",
       "      <th>trend.unemploy</th>\n",
       "      <th>trend.filling</th>\n",
       "      <th>trend.job</th>\n",
       "      <th>sp500</th>\n",
       "      <th>vix</th>\n",
       "    </tr>\n",
       "  </thead>\n",
       "  <tbody>\n",
       "    <tr>\n",
       "      <th>0</th>\n",
       "      <td>2010-01-03</td>\n",
       "      <td>13.386595</td>\n",
       "      <td>0.219882</td>\n",
       "      <td>-0.318452</td>\n",
       "      <td>0.117500</td>\n",
       "      <td>-0.417633</td>\n",
       "      <td>0.122654</td>\n",
       "    </tr>\n",
       "    <tr>\n",
       "      <th>1</th>\n",
       "      <td>2010-01-10</td>\n",
       "      <td>13.624218</td>\n",
       "      <td>0.219882</td>\n",
       "      <td>-0.194838</td>\n",
       "      <td>0.168794</td>\n",
       "      <td>-0.425480</td>\n",
       "      <td>0.110445</td>\n",
       "    </tr>\n",
       "    <tr>\n",
       "      <th>2</th>\n",
       "      <td>2010-01-17</td>\n",
       "      <td>13.398741</td>\n",
       "      <td>0.236143</td>\n",
       "      <td>-0.292477</td>\n",
       "      <td>0.117500</td>\n",
       "      <td>-0.465229</td>\n",
       "      <td>0.532339</td>\n",
       "    </tr>\n",
       "    <tr>\n",
       "      <th>3</th>\n",
       "      <td>2010-01-24</td>\n",
       "      <td>13.137549</td>\n",
       "      <td>0.203353</td>\n",
       "      <td>-0.194838</td>\n",
       "      <td>0.106918</td>\n",
       "      <td>-0.481751</td>\n",
       "      <td>0.428645</td>\n",
       "    </tr>\n",
       "    <tr>\n",
       "      <th>4</th>\n",
       "      <td>2010-01-31</td>\n",
       "      <td>13.196760</td>\n",
       "      <td>0.134360</td>\n",
       "      <td>-0.242466</td>\n",
       "      <td>0.074483</td>\n",
       "      <td>-0.488929</td>\n",
       "      <td>0.487404</td>\n",
       "    </tr>\n",
       "  </tbody>\n",
       "</table>\n",
       "</div>"
      ],
      "text/plain": [
       "        week     claims  trend.unemploy  trend.filling  trend.job     sp500  \\\n",
       "0 2010-01-03  13.386595        0.219882      -0.318452   0.117500 -0.417633   \n",
       "1 2010-01-10  13.624218        0.219882      -0.194838   0.168794 -0.425480   \n",
       "2 2010-01-17  13.398741        0.236143      -0.292477   0.117500 -0.465229   \n",
       "3 2010-01-24  13.137549        0.203353      -0.194838   0.106918 -0.481751   \n",
       "4 2010-01-31  13.196760        0.134360      -0.242466   0.074483 -0.488929   \n",
       "\n",
       "        vix  \n",
       "0  0.122654  \n",
       "1  0.110445  \n",
       "2  0.532339  \n",
       "3  0.428645  \n",
       "4  0.487404  "
      ]
     },
     "execution_count": 2,
     "metadata": {},
     "output_type": "execute_result"
    }
   ],
   "source": [
    "raw_data = load_iclaims()\n",
    "data = raw_data.copy()\n",
    "\n",
    "print(data.shape)\n",
    "data.head(5)"
   ]
  },
  {
   "cell_type": "markdown",
   "metadata": {},
   "source": [
    "## LGT Tuning Exampe"
   ]
  },
  {
   "cell_type": "code",
   "execution_count": 3,
   "metadata": {
    "ExecuteTime": {
     "end_time": "2021-05-22T00:25:39.253684Z",
     "start_time": "2021-05-22T00:25:39.250811Z"
    }
   },
   "outputs": [],
   "source": [
    "lgt = LGTMAP(\n",
    "    date_col='week',\n",
    "    response_col='claims',\n",
    "    seasonality=52,\n",
    ")"
   ]
  },
  {
   "cell_type": "code",
   "execution_count": 4,
   "metadata": {
    "ExecuteTime": {
     "end_time": "2021-05-22T00:26:16.544047Z",
     "start_time": "2021-05-22T00:26:16.541315Z"
    }
   },
   "outputs": [],
   "source": [
    "param_grid = {\n",
    "    'level_sm_input': [0.3, 0.5, 0.8],  \n",
    "    'seasonality_sm_input': [0.3, 0.5, 0.8],\n",
    "}"
   ]
  },
  {
   "cell_type": "code",
   "execution_count": 5,
   "metadata": {
    "ExecuteTime": {
     "end_time": "2021-05-22T00:27:49.647159Z",
     "start_time": "2021-05-22T00:26:18.179437Z"
    }
   },
   "outputs": [
    {
     "name": "stderr",
     "output_type": "stream",
     "text": [
      "\r",
      "  0%|          | 0/9 [00:00<?, ?it/s]"
     ]
    },
    {
     "name": "stdout",
     "output_type": "stream",
     "text": [
      "tuning hyper-params {'level_sm_input': 0.3, 'seasonality_sm_input': 0.3}\n"
     ]
    },
    {
     "name": "stderr",
     "output_type": "stream",
     "text": [
      "INFO:pystan:COMPILING THE C++ CODE FOR MODEL anon_model_2af9ff5e07f97061bbe4badb0f8a2e36 NOW.\n",
      " 11%|█         | 1/9 [01:00<08:03, 60.48s/it]"
     ]
    },
    {
     "name": "stdout",
     "output_type": "stream",
     "text": [
      "tuning metric:0.0066442\n",
      "tuning hyper-params {'level_sm_input': 0.3, 'seasonality_sm_input': 0.5}\n"
     ]
    },
    {
     "name": "stderr",
     "output_type": "stream",
     "text": [
      "\r",
      " 22%|██▏       | 2/9 [01:04<03:10, 27.20s/it]"
     ]
    },
    {
     "name": "stdout",
     "output_type": "stream",
     "text": [
      "tuning metric:0.0060391\n",
      "tuning hyper-params {'level_sm_input': 0.3, 'seasonality_sm_input': 0.8}\n"
     ]
    },
    {
     "name": "stderr",
     "output_type": "stream",
     "text": [
      "\r",
      " 33%|███▎      | 3/9 [01:08<01:39, 16.59s/it]"
     ]
    },
    {
     "name": "stdout",
     "output_type": "stream",
     "text": [
      "tuning metric:0.0056527\n",
      "tuning hyper-params {'level_sm_input': 0.5, 'seasonality_sm_input': 0.3}\n"
     ]
    },
    {
     "name": "stderr",
     "output_type": "stream",
     "text": [
      "\r",
      " 44%|████▍     | 4/9 [01:12<00:57, 11.57s/it]"
     ]
    },
    {
     "name": "stdout",
     "output_type": "stream",
     "text": [
      "tuning metric:0.0076822\n",
      "tuning hyper-params {'level_sm_input': 0.5, 'seasonality_sm_input': 0.5}\n"
     ]
    },
    {
     "name": "stderr",
     "output_type": "stream",
     "text": [
      "\r",
      " 56%|█████▌    | 5/9 [01:16<00:35,  8.78s/it]"
     ]
    },
    {
     "name": "stdout",
     "output_type": "stream",
     "text": [
      "tuning metric:0.0069226\n",
      "tuning hyper-params {'level_sm_input': 0.5, 'seasonality_sm_input': 0.8}\n"
     ]
    },
    {
     "name": "stderr",
     "output_type": "stream",
     "text": [
      "\r",
      " 67%|██████▋   | 6/9 [01:19<00:21,  7.04s/it]"
     ]
    },
    {
     "name": "stdout",
     "output_type": "stream",
     "text": [
      "tuning metric:0.0062861\n",
      "tuning hyper-params {'level_sm_input': 0.8, 'seasonality_sm_input': 0.3}\n"
     ]
    },
    {
     "name": "stderr",
     "output_type": "stream",
     "text": [
      "\r",
      " 78%|███████▊  | 7/9 [01:23<00:11,  5.97s/it]"
     ]
    },
    {
     "name": "stdout",
     "output_type": "stream",
     "text": [
      "tuning metric:0.0093521\n",
      "tuning hyper-params {'level_sm_input': 0.8, 'seasonality_sm_input': 0.5}\n"
     ]
    },
    {
     "name": "stderr",
     "output_type": "stream",
     "text": [
      "\r",
      " 89%|████████▉ | 8/9 [01:27<00:05,  5.39s/it]"
     ]
    },
    {
     "name": "stdout",
     "output_type": "stream",
     "text": [
      "tuning metric:0.0093154\n",
      "tuning hyper-params {'level_sm_input': 0.8, 'seasonality_sm_input': 0.8}\n"
     ]
    },
    {
     "name": "stderr",
     "output_type": "stream",
     "text": [
      "100%|██████████| 9/9 [01:31<00:00, 10.16s/it]"
     ]
    },
    {
     "name": "stdout",
     "output_type": "stream",
     "text": [
      "tuning metric:0.0079935\n"
     ]
    },
    {
     "name": "stderr",
     "output_type": "stream",
     "text": [
      "\n"
     ]
    }
   ],
   "source": [
    "best_params, tuned_df = grid_search_orbit(param_grid, \n",
    "                                        model=lgt, \n",
    "                                        df=data,\n",
    "                                        min_train_len=100, incremental_len=100, forecast_len=20, \n",
    "                                        metrics=None, criteria=None, verbose=True)"
   ]
  },
  {
   "cell_type": "code",
   "execution_count": 6,
   "metadata": {
    "ExecuteTime": {
     "end_time": "2021-05-22T00:27:49.659420Z",
     "start_time": "2021-05-22T00:27:49.649729Z"
    }
   },
   "outputs": [
    {
     "data": {
      "text/html": [
       "<div>\n",
       "<style scoped>\n",
       "    .dataframe tbody tr th:only-of-type {\n",
       "        vertical-align: middle;\n",
       "    }\n",
       "\n",
       "    .dataframe tbody tr th {\n",
       "        vertical-align: top;\n",
       "    }\n",
       "\n",
       "    .dataframe thead th {\n",
       "        text-align: right;\n",
       "    }\n",
       "</style>\n",
       "<table border=\"1\" class=\"dataframe\">\n",
       "  <thead>\n",
       "    <tr style=\"text-align: right;\">\n",
       "      <th></th>\n",
       "      <th>level_sm_input</th>\n",
       "      <th>seasonality_sm_input</th>\n",
       "      <th>metrics</th>\n",
       "    </tr>\n",
       "  </thead>\n",
       "  <tbody>\n",
       "    <tr>\n",
       "      <th>0</th>\n",
       "      <td>0.3</td>\n",
       "      <td>0.3</td>\n",
       "      <td>0.006644</td>\n",
       "    </tr>\n",
       "    <tr>\n",
       "      <th>1</th>\n",
       "      <td>0.3</td>\n",
       "      <td>0.5</td>\n",
       "      <td>0.006039</td>\n",
       "    </tr>\n",
       "    <tr>\n",
       "      <th>2</th>\n",
       "      <td>0.3</td>\n",
       "      <td>0.8</td>\n",
       "      <td>0.005653</td>\n",
       "    </tr>\n",
       "    <tr>\n",
       "      <th>3</th>\n",
       "      <td>0.5</td>\n",
       "      <td>0.3</td>\n",
       "      <td>0.007682</td>\n",
       "    </tr>\n",
       "    <tr>\n",
       "      <th>4</th>\n",
       "      <td>0.5</td>\n",
       "      <td>0.5</td>\n",
       "      <td>0.006923</td>\n",
       "    </tr>\n",
       "  </tbody>\n",
       "</table>\n",
       "</div>"
      ],
      "text/plain": [
       "   level_sm_input  seasonality_sm_input   metrics\n",
       "0             0.3                   0.3  0.006644\n",
       "1             0.3                   0.5  0.006039\n",
       "2             0.3                   0.8  0.005653\n",
       "3             0.5                   0.3  0.007682\n",
       "4             0.5                   0.5  0.006923"
      ]
     },
     "execution_count": 6,
     "metadata": {},
     "output_type": "execute_result"
    }
   ],
   "source": [
    "tuned_df.head()"
   ]
  },
  {
   "cell_type": "code",
   "execution_count": 7,
   "metadata": {
    "ExecuteTime": {
     "end_time": "2021-05-22T00:27:49.665429Z",
     "start_time": "2021-05-22T00:27:49.662264Z"
    }
   },
   "outputs": [
    {
     "data": {
      "text/plain": [
       "[{'level_sm_input': 0.3, 'seasonality_sm_input': 0.8}]"
      ]
     },
     "execution_count": 7,
     "metadata": {},
     "output_type": "execute_result"
    }
   ],
   "source": [
    "best_params"
   ]
  },
  {
   "cell_type": "markdown",
   "metadata": {},
   "source": [
    "## DLT Tuning Example"
   ]
  },
  {
   "cell_type": "code",
   "execution_count": 8,
   "metadata": {
    "ExecuteTime": {
     "end_time": "2021-05-22T00:29:00.725065Z",
     "start_time": "2021-05-22T00:29:00.721899Z"
    }
   },
   "outputs": [],
   "source": [
    "dlt = DLTMAP(\n",
    "    date_col='week',\n",
    "    response_col='claims',\n",
    "    regressor_col=['trend.unemploy', 'trend.filling', 'trend.job'],\n",
    "    seasonality=52,\n",
    ")"
   ]
  },
  {
   "cell_type": "code",
   "execution_count": 9,
   "metadata": {
    "ExecuteTime": {
     "end_time": "2021-05-22T00:29:02.023946Z",
     "start_time": "2021-05-22T00:29:02.020966Z"
    }
   },
   "outputs": [],
   "source": [
    "param_grid = {\n",
    "    'regressor_beta_prior': [[0] * 3, [0.05] * 3, [0.1] * 3],  \n",
    "    'regressor_sigma_prior': [[0.3] * 3, [0.5] * 3, [1] * 3],\n",
    "}"
   ]
  },
  {
   "cell_type": "code",
   "execution_count": 10,
   "metadata": {
    "ExecuteTime": {
     "end_time": "2021-05-22T00:29:40.813833Z",
     "start_time": "2021-05-22T00:29:03.797559Z"
    }
   },
   "outputs": [
    {
     "name": "stderr",
     "output_type": "stream",
     "text": [
      "\r",
      "  0%|          | 0/9 [00:00<?, ?it/s]"
     ]
    },
    {
     "name": "stdout",
     "output_type": "stream",
     "text": [
      "tuning hyper-params {'regressor_beta_prior': [0, 0, 0], 'regressor_sigma_prior': [0.3, 0.3, 0.3]}\n"
     ]
    },
    {
     "name": "stderr",
     "output_type": "stream",
     "text": [
      "\r",
      " 11%|█         | 1/9 [00:04<00:33,  4.21s/it]"
     ]
    },
    {
     "name": "stdout",
     "output_type": "stream",
     "text": [
      "tuning metric:0.0063926\n",
      "tuning hyper-params {'regressor_beta_prior': [0, 0, 0], 'regressor_sigma_prior': [0.5, 0.5, 0.5]}\n"
     ]
    },
    {
     "name": "stderr",
     "output_type": "stream",
     "text": [
      "\r",
      " 22%|██▏       | 2/9 [00:08<00:30,  4.35s/it]"
     ]
    },
    {
     "name": "stdout",
     "output_type": "stream",
     "text": [
      "tuning metric:0.00619\n",
      "tuning hyper-params {'regressor_beta_prior': [0, 0, 0], 'regressor_sigma_prior': [1, 1, 1]}\n"
     ]
    },
    {
     "name": "stderr",
     "output_type": "stream",
     "text": [
      "\r",
      " 33%|███▎      | 3/9 [00:13<00:26,  4.44s/it]"
     ]
    },
    {
     "name": "stdout",
     "output_type": "stream",
     "text": [
      "tuning metric:0.0066174\n",
      "tuning hyper-params {'regressor_beta_prior': [0.05, 0.05, 0.05], 'regressor_sigma_prior': [0.3, 0.3, 0.3]}\n"
     ]
    },
    {
     "name": "stderr",
     "output_type": "stream",
     "text": [
      "\r",
      " 44%|████▍     | 4/9 [00:17<00:21,  4.25s/it]"
     ]
    },
    {
     "name": "stdout",
     "output_type": "stream",
     "text": [
      "tuning metric:0.0063671\n",
      "tuning hyper-params {'regressor_beta_prior': [0.05, 0.05, 0.05], 'regressor_sigma_prior': [0.5, 0.5, 0.5]}\n"
     ]
    },
    {
     "name": "stderr",
     "output_type": "stream",
     "text": [
      "\r",
      " 56%|█████▌    | 5/9 [00:21<00:16,  4.12s/it]"
     ]
    },
    {
     "name": "stdout",
     "output_type": "stream",
     "text": [
      "tuning metric:0.0067371\n",
      "tuning hyper-params {'regressor_beta_prior': [0.05, 0.05, 0.05], 'regressor_sigma_prior': [1, 1, 1]}\n"
     ]
    },
    {
     "name": "stderr",
     "output_type": "stream",
     "text": [
      "\r",
      " 67%|██████▋   | 6/9 [00:25<00:12,  4.16s/it]"
     ]
    },
    {
     "name": "stdout",
     "output_type": "stream",
     "text": [
      "tuning metric:0.0062238\n",
      "tuning hyper-params {'regressor_beta_prior': [0.1, 0.1, 0.1], 'regressor_sigma_prior': [0.3, 0.3, 0.3]}\n"
     ]
    },
    {
     "name": "stderr",
     "output_type": "stream",
     "text": [
      "\r",
      " 78%|███████▊  | 7/9 [00:29<00:08,  4.16s/it]"
     ]
    },
    {
     "name": "stdout",
     "output_type": "stream",
     "text": [
      "tuning metric:0.0064326\n",
      "tuning hyper-params {'regressor_beta_prior': [0.1, 0.1, 0.1], 'regressor_sigma_prior': [0.5, 0.5, 0.5]}\n"
     ]
    },
    {
     "name": "stderr",
     "output_type": "stream",
     "text": [
      "\r",
      " 89%|████████▉ | 8/9 [00:33<00:04,  4.04s/it]"
     ]
    },
    {
     "name": "stdout",
     "output_type": "stream",
     "text": [
      "tuning metric:0.0061949\n",
      "tuning hyper-params {'regressor_beta_prior': [0.1, 0.1, 0.1], 'regressor_sigma_prior': [1, 1, 1]}\n"
     ]
    },
    {
     "name": "stderr",
     "output_type": "stream",
     "text": [
      "100%|██████████| 9/9 [00:37<00:00,  4.11s/it]"
     ]
    },
    {
     "name": "stdout",
     "output_type": "stream",
     "text": [
      "tuning metric:0.0062322\n"
     ]
    },
    {
     "name": "stderr",
     "output_type": "stream",
     "text": [
      "\n"
     ]
    }
   ],
   "source": [
    "best_params, tuned_df = grid_search_orbit(param_grid, \n",
    "                                        model=dlt, \n",
    "                                        df=data,\n",
    "                                        min_train_len=100, incremental_len=100, forecast_len=20, \n",
    "                                        metrics=None, criteria=None, verbose=True)"
   ]
  },
  {
   "cell_type": "code",
   "execution_count": 11,
   "metadata": {
    "ExecuteTime": {
     "end_time": "2021-05-22T00:29:40.831325Z",
     "start_time": "2021-05-22T00:29:40.816044Z"
    }
   },
   "outputs": [
    {
     "data": {
      "text/html": [
       "<div>\n",
       "<style scoped>\n",
       "    .dataframe tbody tr th:only-of-type {\n",
       "        vertical-align: middle;\n",
       "    }\n",
       "\n",
       "    .dataframe tbody tr th {\n",
       "        vertical-align: top;\n",
       "    }\n",
       "\n",
       "    .dataframe thead th {\n",
       "        text-align: right;\n",
       "    }\n",
       "</style>\n",
       "<table border=\"1\" class=\"dataframe\">\n",
       "  <thead>\n",
       "    <tr style=\"text-align: right;\">\n",
       "      <th></th>\n",
       "      <th>regressor_beta_prior</th>\n",
       "      <th>regressor_sigma_prior</th>\n",
       "      <th>metrics</th>\n",
       "    </tr>\n",
       "  </thead>\n",
       "  <tbody>\n",
       "    <tr>\n",
       "      <th>0</th>\n",
       "      <td>[0, 0, 0]</td>\n",
       "      <td>[0.3, 0.3, 0.3]</td>\n",
       "      <td>0.006393</td>\n",
       "    </tr>\n",
       "    <tr>\n",
       "      <th>1</th>\n",
       "      <td>[0, 0, 0]</td>\n",
       "      <td>[0.5, 0.5, 0.5]</td>\n",
       "      <td>0.006190</td>\n",
       "    </tr>\n",
       "    <tr>\n",
       "      <th>2</th>\n",
       "      <td>[0, 0, 0]</td>\n",
       "      <td>[1, 1, 1]</td>\n",
       "      <td>0.006617</td>\n",
       "    </tr>\n",
       "    <tr>\n",
       "      <th>3</th>\n",
       "      <td>[0.05, 0.05, 0.05]</td>\n",
       "      <td>[0.3, 0.3, 0.3]</td>\n",
       "      <td>0.006367</td>\n",
       "    </tr>\n",
       "    <tr>\n",
       "      <th>4</th>\n",
       "      <td>[0.05, 0.05, 0.05]</td>\n",
       "      <td>[0.5, 0.5, 0.5]</td>\n",
       "      <td>0.006737</td>\n",
       "    </tr>\n",
       "  </tbody>\n",
       "</table>\n",
       "</div>"
      ],
      "text/plain": [
       "  regressor_beta_prior regressor_sigma_prior   metrics\n",
       "0            [0, 0, 0]       [0.3, 0.3, 0.3]  0.006393\n",
       "1            [0, 0, 0]       [0.5, 0.5, 0.5]  0.006190\n",
       "2            [0, 0, 0]             [1, 1, 1]  0.006617\n",
       "3   [0.05, 0.05, 0.05]       [0.3, 0.3, 0.3]  0.006367\n",
       "4   [0.05, 0.05, 0.05]       [0.5, 0.5, 0.5]  0.006737"
      ]
     },
     "execution_count": 11,
     "metadata": {},
     "output_type": "execute_result"
    }
   ],
   "source": [
    "tuned_df.head()"
   ]
  },
  {
   "cell_type": "code",
   "execution_count": 12,
   "metadata": {
    "ExecuteTime": {
     "end_time": "2021-05-22T00:29:40.837257Z",
     "start_time": "2021-05-22T00:29:40.834005Z"
    }
   },
   "outputs": [
    {
     "data": {
      "text/plain": [
       "[{'regressor_beta_prior': [0, 0, 0], 'regressor_sigma_prior': [0.5, 0.5, 0.5]}]"
      ]
     },
     "execution_count": 12,
     "metadata": {},
     "output_type": "execute_result"
    }
   ],
   "source": [
    "best_params"
   ]
  }
 ],
 "metadata": {
  "kernelspec": {
   "display_name": "Python 3",
   "language": "python",
   "name": "python3"
  },
  "language_info": {
   "codemirror_mode": {
    "name": "ipython",
    "version": 3
   },
   "file_extension": ".py",
   "mimetype": "text/x-python",
   "name": "python",
   "nbconvert_exporter": "python",
   "pygments_lexer": "ipython3",
   "version": "3.7.8"
  },
  "toc": {
   "base_numbering": 1,
   "nav_menu": {},
   "number_sections": true,
   "sideBar": true,
   "skip_h1_title": false,
   "title_cell": "Table of Contents",
   "title_sidebar": "Contents",
   "toc_cell": false,
   "toc_position": {},
   "toc_section_display": true,
   "toc_window_display": false
  }
 },
 "nbformat": 4,
 "nbformat_minor": 4
}
