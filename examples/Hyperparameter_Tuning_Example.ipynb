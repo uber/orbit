{
 "cells": [
  {
   "cell_type": "code",
   "execution_count": 1,
   "metadata": {
    "ExecuteTime": {
     "end_time": "2020-12-23T20:04:48.118170Z",
     "start_time": "2020-12-23T20:04:46.419810Z"
    }
   },
   "outputs": [],
   "source": [
    "import pandas as pd\n",
    "import numpy as np\n",
    "import matplotlib.pyplot as plt\n",
    "\n",
    "from orbit.models.lgt import LGTMAP, LGTAggregated, LGTFull\n",
    "from orbit.models.dlt import DLTMAP, DLTAggregated, DLTFull\n",
    "from orbit.utils.dataset import load_iclaims\n",
    "\n",
    "from orbit.diagnostics.backtest import grid_search_orbit\n",
    "from orbit.diagnostics.metrics import smape, mape, wmape"
   ]
  },
  {
   "cell_type": "markdown",
   "metadata": {},
   "source": [
    "## Load Data"
   ]
  },
  {
   "cell_type": "code",
   "execution_count": 2,
   "metadata": {
    "ExecuteTime": {
     "end_time": "2020-12-23T20:04:49.300382Z",
     "start_time": "2020-12-23T20:04:49.092331Z"
    }
   },
   "outputs": [
    {
     "name": "stdout",
     "output_type": "stream",
     "text": [
      "(443, 5)\n"
     ]
    },
    {
     "data": {
      "text/html": [
       "<div>\n",
       "<style scoped>\n",
       "    .dataframe tbody tr th:only-of-type {\n",
       "        vertical-align: middle;\n",
       "    }\n",
       "\n",
       "    .dataframe tbody tr th {\n",
       "        vertical-align: top;\n",
       "    }\n",
       "\n",
       "    .dataframe thead th {\n",
       "        text-align: right;\n",
       "    }\n",
       "</style>\n",
       "<table border=\"1\" class=\"dataframe\">\n",
       "  <thead>\n",
       "    <tr style=\"text-align: right;\">\n",
       "      <th></th>\n",
       "      <th>week</th>\n",
       "      <th>claims</th>\n",
       "      <th>trend.unemploy</th>\n",
       "      <th>trend.filling</th>\n",
       "      <th>trend.job</th>\n",
       "    </tr>\n",
       "  </thead>\n",
       "  <tbody>\n",
       "    <tr>\n",
       "      <th>0</th>\n",
       "      <td>2010-01-03</td>\n",
       "      <td>13.386595</td>\n",
       "      <td>0.168876</td>\n",
       "      <td>-0.328309</td>\n",
       "      <td>0.113033</td>\n",
       "    </tr>\n",
       "    <tr>\n",
       "      <th>1</th>\n",
       "      <td>2010-01-10</td>\n",
       "      <td>13.624218</td>\n",
       "      <td>0.168876</td>\n",
       "      <td>-0.204695</td>\n",
       "      <td>0.164326</td>\n",
       "    </tr>\n",
       "    <tr>\n",
       "      <th>2</th>\n",
       "      <td>2010-01-17</td>\n",
       "      <td>13.398741</td>\n",
       "      <td>0.185136</td>\n",
       "      <td>-0.302334</td>\n",
       "      <td>0.113033</td>\n",
       "    </tr>\n",
       "    <tr>\n",
       "      <th>3</th>\n",
       "      <td>2010-01-24</td>\n",
       "      <td>13.137549</td>\n",
       "      <td>0.152346</td>\n",
       "      <td>-0.204695</td>\n",
       "      <td>0.102451</td>\n",
       "    </tr>\n",
       "    <tr>\n",
       "      <th>4</th>\n",
       "      <td>2010-01-31</td>\n",
       "      <td>13.196760</td>\n",
       "      <td>0.083354</td>\n",
       "      <td>-0.252323</td>\n",
       "      <td>0.070016</td>\n",
       "    </tr>\n",
       "  </tbody>\n",
       "</table>\n",
       "</div>"
      ],
      "text/plain": [
       "        week     claims  trend.unemploy  trend.filling  trend.job\n",
       "0 2010-01-03  13.386595        0.168876      -0.328309   0.113033\n",
       "1 2010-01-10  13.624218        0.168876      -0.204695   0.164326\n",
       "2 2010-01-17  13.398741        0.185136      -0.302334   0.113033\n",
       "3 2010-01-24  13.137549        0.152346      -0.204695   0.102451\n",
       "4 2010-01-31  13.196760        0.083354      -0.252323   0.070016"
      ]
     },
     "execution_count": 2,
     "metadata": {},
     "output_type": "execute_result"
    }
   ],
   "source": [
    "raw_data = load_iclaims()\n",
    "data = raw_data.copy()\n",
    "\n",
    "print(data.shape)\n",
    "data.head(5)"
   ]
  },
  {
   "cell_type": "markdown",
   "metadata": {},
   "source": [
    "## LGT Tuning Exampe"
   ]
  },
  {
   "cell_type": "code",
   "execution_count": 3,
   "metadata": {
    "ExecuteTime": {
     "end_time": "2020-12-23T20:04:50.689513Z",
     "start_time": "2020-12-23T20:04:50.686298Z"
    }
   },
   "outputs": [],
   "source": [
    "lgt = LGTMAP(\n",
    "    date_col='week',\n",
    "    response_col='claims',\n",
    "    seasonality=52,\n",
    ")"
   ]
  },
  {
   "cell_type": "code",
   "execution_count": 4,
   "metadata": {
    "ExecuteTime": {
     "end_time": "2020-12-23T20:04:52.138146Z",
     "start_time": "2020-12-23T20:04:52.134811Z"
    }
   },
   "outputs": [],
   "source": [
    "param_grid = {\n",
    "    'level_sm_input': [0.3, 0.5, 0.8],  \n",
    "    'seasonality_sm_input': [0.3, 0.5, 0.8],\n",
    "}"
   ]
  },
  {
   "cell_type": "code",
   "execution_count": 5,
   "metadata": {
    "ExecuteTime": {
     "end_time": "2020-12-23T20:05:07.196747Z",
     "start_time": "2020-12-23T20:05:03.252233Z"
    }
   },
   "outputs": [
    {
     "name": "stderr",
     "output_type": "stream",
     "text": [
      "\r",
      "  0%|          | 0/9 [00:00<?, ?it/s]"
     ]
    },
    {
     "name": "stdout",
     "output_type": "stream",
     "text": [
      "tuning hyper-params {'level_sm_input': 0.3, 'seasonality_sm_input': 0.3}\n"
     ]
    },
    {
     "name": "stderr",
     "output_type": "stream",
     "text": [
      "\r",
      " 11%|█         | 1/9 [00:00<00:03,  2.23it/s]"
     ]
    },
    {
     "name": "stdout",
     "output_type": "stream",
     "text": [
      "tuning metric:0.0066448\n",
      "tuning hyper-params {'level_sm_input': 0.3, 'seasonality_sm_input': 0.5}\n"
     ]
    },
    {
     "name": "stderr",
     "output_type": "stream",
     "text": [
      "\r",
      " 22%|██▏       | 2/9 [00:00<00:02,  2.43it/s]"
     ]
    },
    {
     "name": "stdout",
     "output_type": "stream",
     "text": [
      "tuning metric:0.0060385\n",
      "tuning hyper-params {'level_sm_input': 0.3, 'seasonality_sm_input': 0.8}\n"
     ]
    },
    {
     "name": "stderr",
     "output_type": "stream",
     "text": [
      "\r",
      " 33%|███▎      | 3/9 [00:01<00:02,  2.64it/s]"
     ]
    },
    {
     "name": "stdout",
     "output_type": "stream",
     "text": [
      "tuning metric:0.0056511\n",
      "tuning hyper-params {'level_sm_input': 0.5, 'seasonality_sm_input': 0.3}\n"
     ]
    },
    {
     "name": "stderr",
     "output_type": "stream",
     "text": [
      "\r",
      " 44%|████▍     | 4/9 [00:01<00:02,  2.45it/s]"
     ]
    },
    {
     "name": "stdout",
     "output_type": "stream",
     "text": [
      "tuning metric:0.0076942\n",
      "tuning hyper-params {'level_sm_input': 0.5, 'seasonality_sm_input': 0.5}\n"
     ]
    },
    {
     "name": "stderr",
     "output_type": "stream",
     "text": [
      "\r",
      " 56%|█████▌    | 5/9 [00:01<00:01,  2.50it/s]"
     ]
    },
    {
     "name": "stdout",
     "output_type": "stream",
     "text": [
      "tuning metric:0.0069194\n",
      "tuning hyper-params {'level_sm_input': 0.5, 'seasonality_sm_input': 0.8}\n"
     ]
    },
    {
     "name": "stderr",
     "output_type": "stream",
     "text": [
      "\r",
      " 67%|██████▋   | 6/9 [00:02<00:01,  2.57it/s]"
     ]
    },
    {
     "name": "stdout",
     "output_type": "stream",
     "text": [
      "tuning metric:0.0062807\n",
      "tuning hyper-params {'level_sm_input': 0.8, 'seasonality_sm_input': 0.3}\n"
     ]
    },
    {
     "name": "stderr",
     "output_type": "stream",
     "text": [
      "\r",
      " 78%|███████▊  | 7/9 [00:02<00:00,  2.37it/s]"
     ]
    },
    {
     "name": "stdout",
     "output_type": "stream",
     "text": [
      "tuning metric:0.0093422\n",
      "tuning hyper-params {'level_sm_input': 0.8, 'seasonality_sm_input': 0.5}\n"
     ]
    },
    {
     "name": "stderr",
     "output_type": "stream",
     "text": [
      "\r",
      " 89%|████████▉ | 8/9 [00:03<00:00,  2.11it/s]"
     ]
    },
    {
     "name": "stdout",
     "output_type": "stream",
     "text": [
      "tuning metric:0.0093191\n",
      "tuning hyper-params {'level_sm_input': 0.8, 'seasonality_sm_input': 0.8}\n"
     ]
    },
    {
     "name": "stderr",
     "output_type": "stream",
     "text": [
      "100%|██████████| 9/9 [00:03<00:00,  2.29it/s]"
     ]
    },
    {
     "name": "stdout",
     "output_type": "stream",
     "text": [
      "tuning metric:0.008009\n"
     ]
    },
    {
     "name": "stderr",
     "output_type": "stream",
     "text": [
      "\n"
     ]
    }
   ],
   "source": [
    "best_params, tuned_df = grid_search_orbit(param_grid, \n",
    "                                        model=lgt, \n",
    "                                        df=data,\n",
    "                                        min_train_len=100, incremental_len=100, forecast_len=20, \n",
    "                                        metrics=None, criteria=None, verbose=True)"
   ]
  },
  {
   "cell_type": "code",
   "execution_count": 6,
   "metadata": {
    "ExecuteTime": {
     "end_time": "2020-12-23T20:05:07.206534Z",
     "start_time": "2020-12-23T20:05:07.198995Z"
    }
   },
   "outputs": [
    {
     "data": {
      "text/html": [
       "<div>\n",
       "<style scoped>\n",
       "    .dataframe tbody tr th:only-of-type {\n",
       "        vertical-align: middle;\n",
       "    }\n",
       "\n",
       "    .dataframe tbody tr th {\n",
       "        vertical-align: top;\n",
       "    }\n",
       "\n",
       "    .dataframe thead th {\n",
       "        text-align: right;\n",
       "    }\n",
       "</style>\n",
       "<table border=\"1\" class=\"dataframe\">\n",
       "  <thead>\n",
       "    <tr style=\"text-align: right;\">\n",
       "      <th></th>\n",
       "      <th>level_sm_input</th>\n",
       "      <th>seasonality_sm_input</th>\n",
       "      <th>metrics</th>\n",
       "    </tr>\n",
       "  </thead>\n",
       "  <tbody>\n",
       "    <tr>\n",
       "      <th>0</th>\n",
       "      <td>0.3</td>\n",
       "      <td>0.3</td>\n",
       "      <td>0.006645</td>\n",
       "    </tr>\n",
       "    <tr>\n",
       "      <th>1</th>\n",
       "      <td>0.3</td>\n",
       "      <td>0.5</td>\n",
       "      <td>0.006039</td>\n",
       "    </tr>\n",
       "    <tr>\n",
       "      <th>2</th>\n",
       "      <td>0.3</td>\n",
       "      <td>0.8</td>\n",
       "      <td>0.005651</td>\n",
       "    </tr>\n",
       "    <tr>\n",
       "      <th>3</th>\n",
       "      <td>0.5</td>\n",
       "      <td>0.3</td>\n",
       "      <td>0.007694</td>\n",
       "    </tr>\n",
       "    <tr>\n",
       "      <th>4</th>\n",
       "      <td>0.5</td>\n",
       "      <td>0.5</td>\n",
       "      <td>0.006919</td>\n",
       "    </tr>\n",
       "  </tbody>\n",
       "</table>\n",
       "</div>"
      ],
      "text/plain": [
       "   level_sm_input  seasonality_sm_input   metrics\n",
       "0             0.3                   0.3  0.006645\n",
       "1             0.3                   0.5  0.006039\n",
       "2             0.3                   0.8  0.005651\n",
       "3             0.5                   0.3  0.007694\n",
       "4             0.5                   0.5  0.006919"
      ]
     },
     "execution_count": 6,
     "metadata": {},
     "output_type": "execute_result"
    }
   ],
   "source": [
    "tuned_df.head()"
   ]
  },
  {
   "cell_type": "code",
   "execution_count": 7,
   "metadata": {
    "ExecuteTime": {
     "end_time": "2020-12-23T20:05:07.212532Z",
     "start_time": "2020-12-23T20:05:07.208611Z"
    }
   },
   "outputs": [
    {
     "data": {
      "text/plain": [
       "[{'level_sm_input': 0.3, 'seasonality_sm_input': 0.8}]"
      ]
     },
     "execution_count": 7,
     "metadata": {},
     "output_type": "execute_result"
    }
   ],
   "source": [
    "best_params"
   ]
  },
  {
   "cell_type": "markdown",
   "metadata": {},
   "source": [
    "## DLT Tuning Example"
   ]
  },
  {
   "cell_type": "code",
   "execution_count": 8,
   "metadata": {
    "ExecuteTime": {
     "end_time": "2020-12-23T20:05:14.868755Z",
     "start_time": "2020-12-23T20:05:14.865317Z"
    }
   },
   "outputs": [],
   "source": [
    "dlt = DLTMAP(\n",
    "    date_col='week',\n",
    "    response_col='claims',\n",
    "    regressor_col=['trend.unemploy', 'trend.filling', 'trend.job'],\n",
    "    seasonality=52,\n",
    ")"
   ]
  },
  {
   "cell_type": "code",
   "execution_count": 9,
   "metadata": {
    "ExecuteTime": {
     "end_time": "2020-12-23T20:05:16.204716Z",
     "start_time": "2020-12-23T20:05:16.200922Z"
    }
   },
   "outputs": [],
   "source": [
    "param_grid = {\n",
    "    'regressor_beta_prior': [[0] * 3, [0.05] * 3, [0.1] * 3],  \n",
    "    'regressor_sigma_prior': [[0.3] * 3, [0.5] * 3, [1] * 3],\n",
    "}"
   ]
  },
  {
   "cell_type": "code",
   "execution_count": 10,
   "metadata": {
    "ExecuteTime": {
     "end_time": "2020-12-23T20:05:22.405302Z",
     "start_time": "2020-12-23T20:05:18.232700Z"
    }
   },
   "outputs": [
    {
     "name": "stderr",
     "output_type": "stream",
     "text": [
      "\r",
      "  0%|          | 0/9 [00:00<?, ?it/s]"
     ]
    },
    {
     "name": "stdout",
     "output_type": "stream",
     "text": [
      "tuning hyper-params {'regressor_beta_prior': [0, 0, 0], 'regressor_sigma_prior': [0.3, 0.3, 0.3]}\n"
     ]
    },
    {
     "name": "stderr",
     "output_type": "stream",
     "text": [
      "\r",
      " 11%|█         | 1/9 [00:00<00:04,  1.63it/s]"
     ]
    },
    {
     "name": "stdout",
     "output_type": "stream",
     "text": [
      "tuning metric:0.0066081\n",
      "tuning hyper-params {'regressor_beta_prior': [0, 0, 0], 'regressor_sigma_prior': [0.5, 0.5, 0.5]}\n"
     ]
    },
    {
     "name": "stderr",
     "output_type": "stream",
     "text": [
      "\r",
      " 22%|██▏       | 2/9 [00:01<00:03,  1.77it/s]"
     ]
    },
    {
     "name": "stdout",
     "output_type": "stream",
     "text": [
      "tuning metric:0.0066091\n",
      "tuning hyper-params {'regressor_beta_prior': [0, 0, 0], 'regressor_sigma_prior': [1, 1, 1]}\n"
     ]
    },
    {
     "name": "stderr",
     "output_type": "stream",
     "text": [
      "\r",
      " 33%|███▎      | 3/9 [00:01<00:03,  1.88it/s]"
     ]
    },
    {
     "name": "stdout",
     "output_type": "stream",
     "text": [
      "tuning metric:0.0067435\n",
      "tuning hyper-params {'regressor_beta_prior': [0.05, 0.05, 0.05], 'regressor_sigma_prior': [0.3, 0.3, 0.3]}\n"
     ]
    },
    {
     "name": "stderr",
     "output_type": "stream",
     "text": [
      "\r",
      " 44%|████▍     | 4/9 [00:01<00:02,  1.96it/s]"
     ]
    },
    {
     "name": "stdout",
     "output_type": "stream",
     "text": [
      "tuning metric:0.0067103\n",
      "tuning hyper-params {'regressor_beta_prior': [0.05, 0.05, 0.05], 'regressor_sigma_prior': [0.5, 0.5, 0.5]}\n"
     ]
    },
    {
     "name": "stderr",
     "output_type": "stream",
     "text": [
      "\r",
      " 56%|█████▌    | 5/9 [00:02<00:01,  2.04it/s]"
     ]
    },
    {
     "name": "stdout",
     "output_type": "stream",
     "text": [
      "tuning metric:0.006442\n",
      "tuning hyper-params {'regressor_beta_prior': [0.05, 0.05, 0.05], 'regressor_sigma_prior': [1, 1, 1]}\n"
     ]
    },
    {
     "name": "stderr",
     "output_type": "stream",
     "text": [
      "\r",
      " 67%|██████▋   | 6/9 [00:02<00:01,  2.10it/s]"
     ]
    },
    {
     "name": "stdout",
     "output_type": "stream",
     "text": [
      "tuning metric:0.0064486\n",
      "tuning hyper-params {'regressor_beta_prior': [0.1, 0.1, 0.1], 'regressor_sigma_prior': [0.3, 0.3, 0.3]}\n"
     ]
    },
    {
     "name": "stderr",
     "output_type": "stream",
     "text": [
      "\r",
      " 78%|███████▊  | 7/9 [00:03<00:00,  2.14it/s]"
     ]
    },
    {
     "name": "stdout",
     "output_type": "stream",
     "text": [
      "tuning metric:0.0064333\n",
      "tuning hyper-params {'regressor_beta_prior': [0.1, 0.1, 0.1], 'regressor_sigma_prior': [0.5, 0.5, 0.5]}\n"
     ]
    },
    {
     "name": "stderr",
     "output_type": "stream",
     "text": [
      "\r",
      " 89%|████████▉ | 8/9 [00:03<00:00,  2.17it/s]"
     ]
    },
    {
     "name": "stdout",
     "output_type": "stream",
     "text": [
      "tuning metric:0.006599\n",
      "tuning hyper-params {'regressor_beta_prior': [0.1, 0.1, 0.1], 'regressor_sigma_prior': [1, 1, 1]}\n"
     ]
    },
    {
     "name": "stderr",
     "output_type": "stream",
     "text": [
      "100%|██████████| 9/9 [00:04<00:00,  2.16it/s]"
     ]
    },
    {
     "name": "stdout",
     "output_type": "stream",
     "text": [
      "tuning metric:0.0066221\n"
     ]
    },
    {
     "name": "stderr",
     "output_type": "stream",
     "text": [
      "\n"
     ]
    }
   ],
   "source": [
    "best_params, tuned_df = grid_search_orbit(param_grid, \n",
    "                                        model=dlt, \n",
    "                                        df=data,\n",
    "                                        min_train_len=100, incremental_len=100, forecast_len=20, \n",
    "                                        metrics=None, criteria=None, verbose=True)"
   ]
  },
  {
   "cell_type": "code",
   "execution_count": 11,
   "metadata": {
    "ExecuteTime": {
     "end_time": "2020-12-23T20:05:22.418518Z",
     "start_time": "2020-12-23T20:05:22.408360Z"
    }
   },
   "outputs": [
    {
     "data": {
      "text/html": [
       "<div>\n",
       "<style scoped>\n",
       "    .dataframe tbody tr th:only-of-type {\n",
       "        vertical-align: middle;\n",
       "    }\n",
       "\n",
       "    .dataframe tbody tr th {\n",
       "        vertical-align: top;\n",
       "    }\n",
       "\n",
       "    .dataframe thead th {\n",
       "        text-align: right;\n",
       "    }\n",
       "</style>\n",
       "<table border=\"1\" class=\"dataframe\">\n",
       "  <thead>\n",
       "    <tr style=\"text-align: right;\">\n",
       "      <th></th>\n",
       "      <th>regressor_beta_prior</th>\n",
       "      <th>regressor_sigma_prior</th>\n",
       "      <th>metrics</th>\n",
       "    </tr>\n",
       "  </thead>\n",
       "  <tbody>\n",
       "    <tr>\n",
       "      <th>0</th>\n",
       "      <td>[0, 0, 0]</td>\n",
       "      <td>[0.3, 0.3, 0.3]</td>\n",
       "      <td>0.006608</td>\n",
       "    </tr>\n",
       "    <tr>\n",
       "      <th>1</th>\n",
       "      <td>[0, 0, 0]</td>\n",
       "      <td>[0.5, 0.5, 0.5]</td>\n",
       "      <td>0.006609</td>\n",
       "    </tr>\n",
       "    <tr>\n",
       "      <th>2</th>\n",
       "      <td>[0, 0, 0]</td>\n",
       "      <td>[1, 1, 1]</td>\n",
       "      <td>0.006744</td>\n",
       "    </tr>\n",
       "    <tr>\n",
       "      <th>3</th>\n",
       "      <td>[0.05, 0.05, 0.05]</td>\n",
       "      <td>[0.3, 0.3, 0.3]</td>\n",
       "      <td>0.006710</td>\n",
       "    </tr>\n",
       "    <tr>\n",
       "      <th>4</th>\n",
       "      <td>[0.05, 0.05, 0.05]</td>\n",
       "      <td>[0.5, 0.5, 0.5]</td>\n",
       "      <td>0.006442</td>\n",
       "    </tr>\n",
       "  </tbody>\n",
       "</table>\n",
       "</div>"
      ],
      "text/plain": [
       "  regressor_beta_prior regressor_sigma_prior   metrics\n",
       "0            [0, 0, 0]       [0.3, 0.3, 0.3]  0.006608\n",
       "1            [0, 0, 0]       [0.5, 0.5, 0.5]  0.006609\n",
       "2            [0, 0, 0]             [1, 1, 1]  0.006744\n",
       "3   [0.05, 0.05, 0.05]       [0.3, 0.3, 0.3]  0.006710\n",
       "4   [0.05, 0.05, 0.05]       [0.5, 0.5, 0.5]  0.006442"
      ]
     },
     "execution_count": 11,
     "metadata": {},
     "output_type": "execute_result"
    }
   ],
   "source": [
    "tuned_df.head()"
   ]
  },
  {
   "cell_type": "code",
   "execution_count": 12,
   "metadata": {
    "ExecuteTime": {
     "end_time": "2020-12-23T20:05:22.424492Z",
     "start_time": "2020-12-23T20:05:22.420542Z"
    }
   },
   "outputs": [
    {
     "data": {
      "text/plain": [
       "[{'regressor_beta_prior': [0.1, 0.1, 0.1],\n",
       "  'regressor_sigma_prior': [0.3, 0.3, 0.3]}]"
      ]
     },
     "execution_count": 12,
     "metadata": {},
     "output_type": "execute_result"
    }
   ],
   "source": [
    "best_params"
   ]
  },
  {
   "cell_type": "code",
   "execution_count": null,
   "metadata": {},
   "outputs": [],
   "source": []
  }
 ],
 "metadata": {
  "kernelspec": {
   "display_name": "Python 3",
   "language": "python",
   "name": "python3"
  },
  "language_info": {
   "codemirror_mode": {
    "name": "ipython",
    "version": 3
   },
   "file_extension": ".py",
   "mimetype": "text/x-python",
   "name": "python",
   "nbconvert_exporter": "python",
   "pygments_lexer": "ipython3",
   "version": "3.7.7"
  },
  "toc": {
   "base_numbering": 1,
   "nav_menu": {},
   "number_sections": true,
   "sideBar": true,
   "skip_h1_title": false,
   "title_cell": "Table of Contents",
   "title_sidebar": "Contents",
   "toc_cell": false,
   "toc_position": {},
   "toc_section_display": true,
   "toc_window_display": false
  }
 },
 "nbformat": 4,
 "nbformat_minor": 4
}
