{
 "cells": [
  {
   "cell_type": "code",
   "execution_count": 1,
   "metadata": {
    "ExecuteTime": {
     "end_time": "2021-12-09T04:05:34.127318Z",
     "start_time": "2021-12-09T04:05:32.179125Z"
    }
   },
   "outputs": [],
   "source": [
    "import pandas as pd\n",
    "import numpy as np\n",
    "import orbit\n",
    "import matplotlib.pyplot as plt\n",
    "\n",
    "from orbit.utils.dataset import load_iclaims\n",
    "from orbit.diagnostics.plot import plot_predicted_data, plot_predicted_components\n",
    "from orbit.utils.plot import get_orbit_style\n",
    "plt.style.use(get_orbit_style())\n",
    "from orbit.models import ETS, LGT, DLT\n",
    "\n",
    "from orbit.diagnostics.metrics import smape"
   ]
  },
  {
   "cell_type": "code",
   "execution_count": 2,
   "metadata": {
    "ExecuteTime": {
     "end_time": "2021-12-09T04:05:34.663471Z",
     "start_time": "2021-12-09T04:05:34.657439Z"
    }
   },
   "outputs": [
    {
     "data": {
      "text/plain": [
       "'1.1.0dev'"
      ]
     },
     "execution_count": 2,
     "metadata": {},
     "output_type": "execute_result"
    }
   ],
   "source": [
    "orbit.__version__"
   ]
  },
  {
   "cell_type": "code",
   "execution_count": 3,
   "metadata": {
    "ExecuteTime": {
     "end_time": "2021-12-09T04:05:34.950482Z",
     "start_time": "2021-12-09T04:05:34.913533Z"
    }
   },
   "outputs": [],
   "source": [
    "%load_ext autoreload\n",
    "%autoreload 2"
   ]
  },
  {
   "cell_type": "markdown",
   "metadata": {},
   "source": [
    "## Data"
   ]
  },
  {
   "cell_type": "code",
   "execution_count": 4,
   "metadata": {
    "ExecuteTime": {
     "end_time": "2021-12-09T04:05:35.809668Z",
     "start_time": "2021-12-09T04:05:35.400585Z"
    }
   },
   "outputs": [
    {
     "data": {
      "text/plain": [
       "week              datetime64[ns]\n",
       "claims                   float64\n",
       "trend.unemploy           float64\n",
       "trend.filling            float64\n",
       "trend.job                float64\n",
       "sp500                    float64\n",
       "vix                      float64\n",
       "dtype: object"
      ]
     },
     "execution_count": 4,
     "metadata": {},
     "output_type": "execute_result"
    }
   ],
   "source": [
    "# can also consider transform=False\n",
    "raw_df = load_iclaims(transform=True)\n",
    "raw_df.dtypes"
   ]
  },
  {
   "cell_type": "code",
   "execution_count": 5,
   "metadata": {
    "ExecuteTime": {
     "end_time": "2021-12-09T04:05:35.841422Z",
     "start_time": "2021-12-09T04:05:35.811780Z"
    }
   },
   "outputs": [],
   "source": [
    "df = raw_df.copy()"
   ]
  },
  {
   "cell_type": "code",
   "execution_count": 6,
   "metadata": {
    "ExecuteTime": {
     "end_time": "2021-12-09T04:05:35.887037Z",
     "start_time": "2021-12-09T04:05:35.843750Z"
    },
    "scrolled": true
   },
   "outputs": [
    {
     "data": {
      "text/html": [
       "<div>\n",
       "<style scoped>\n",
       "    .dataframe tbody tr th:only-of-type {\n",
       "        vertical-align: middle;\n",
       "    }\n",
       "\n",
       "    .dataframe tbody tr th {\n",
       "        vertical-align: top;\n",
       "    }\n",
       "\n",
       "    .dataframe thead th {\n",
       "        text-align: right;\n",
       "    }\n",
       "</style>\n",
       "<table border=\"1\" class=\"dataframe\">\n",
       "  <thead>\n",
       "    <tr style=\"text-align: right;\">\n",
       "      <th></th>\n",
       "      <th>week</th>\n",
       "      <th>claims</th>\n",
       "      <th>trend.unemploy</th>\n",
       "      <th>trend.filling</th>\n",
       "      <th>trend.job</th>\n",
       "      <th>sp500</th>\n",
       "      <th>vix</th>\n",
       "    </tr>\n",
       "  </thead>\n",
       "  <tbody>\n",
       "    <tr>\n",
       "      <th>0</th>\n",
       "      <td>2010-01-03</td>\n",
       "      <td>13.386595</td>\n",
       "      <td>0.219882</td>\n",
       "      <td>-0.318452</td>\n",
       "      <td>0.117500</td>\n",
       "      <td>-0.417633</td>\n",
       "      <td>0.122654</td>\n",
       "    </tr>\n",
       "    <tr>\n",
       "      <th>1</th>\n",
       "      <td>2010-01-10</td>\n",
       "      <td>13.624218</td>\n",
       "      <td>0.219882</td>\n",
       "      <td>-0.194838</td>\n",
       "      <td>0.168794</td>\n",
       "      <td>-0.425480</td>\n",
       "      <td>0.110445</td>\n",
       "    </tr>\n",
       "    <tr>\n",
       "      <th>2</th>\n",
       "      <td>2010-01-17</td>\n",
       "      <td>13.398741</td>\n",
       "      <td>0.236143</td>\n",
       "      <td>-0.292477</td>\n",
       "      <td>0.117500</td>\n",
       "      <td>-0.465229</td>\n",
       "      <td>0.532339</td>\n",
       "    </tr>\n",
       "    <tr>\n",
       "      <th>3</th>\n",
       "      <td>2010-01-24</td>\n",
       "      <td>13.137549</td>\n",
       "      <td>0.203353</td>\n",
       "      <td>-0.194838</td>\n",
       "      <td>0.106918</td>\n",
       "      <td>-0.481751</td>\n",
       "      <td>0.428645</td>\n",
       "    </tr>\n",
       "    <tr>\n",
       "      <th>4</th>\n",
       "      <td>2010-01-31</td>\n",
       "      <td>13.196760</td>\n",
       "      <td>0.134360</td>\n",
       "      <td>-0.242466</td>\n",
       "      <td>0.074483</td>\n",
       "      <td>-0.488929</td>\n",
       "      <td>0.487404</td>\n",
       "    </tr>\n",
       "  </tbody>\n",
       "</table>\n",
       "</div>"
      ],
      "text/plain": [
       "        week     claims  trend.unemploy  trend.filling  trend.job     sp500  \\\n",
       "0 2010-01-03  13.386595        0.219882      -0.318452   0.117500 -0.417633   \n",
       "1 2010-01-10  13.624218        0.219882      -0.194838   0.168794 -0.425480   \n",
       "2 2010-01-17  13.398741        0.236143      -0.292477   0.117500 -0.465229   \n",
       "3 2010-01-24  13.137549        0.203353      -0.194838   0.106918 -0.481751   \n",
       "4 2010-01-31  13.196760        0.134360      -0.242466   0.074483 -0.488929   \n",
       "\n",
       "        vix  \n",
       "0  0.122654  \n",
       "1  0.110445  \n",
       "2  0.532339  \n",
       "3  0.428645  \n",
       "4  0.487404  "
      ]
     },
     "execution_count": 6,
     "metadata": {},
     "output_type": "execute_result"
    }
   ],
   "source": [
    "df.head()"
   ]
  },
  {
   "cell_type": "code",
   "execution_count": 7,
   "metadata": {
    "ExecuteTime": {
     "end_time": "2021-12-09T04:05:36.000733Z",
     "start_time": "2021-12-09T04:05:35.967163Z"
    }
   },
   "outputs": [],
   "source": [
    "test_size=52\n",
    "\n",
    "train_df=df[:-test_size]\n",
    "test_df=df[-test_size:]"
   ]
  },
  {
   "cell_type": "markdown",
   "metadata": {},
   "source": [
    "Now we manually created a dataset with a few missing values in the response variable."
   ]
  },
  {
   "cell_type": "code",
   "execution_count": 8,
   "metadata": {
    "ExecuteTime": {
     "end_time": "2021-12-09T04:05:36.495582Z",
     "start_time": "2021-12-09T04:05:36.461282Z"
    }
   },
   "outputs": [
    {
     "data": {
      "text/plain": [
       "array([ 33, 134, 147, 220, 226, 245, 263, 266, 327, 381])"
      ]
     },
     "execution_count": 8,
     "metadata": {},
     "output_type": "execute_result"
    }
   ],
   "source": [
    "np.random.seed(123)\n",
    "na_idx = np.sort(np.random.choice(np.arange(train_df.shape[0]), 10, replace=False))\n",
    "na_idx"
   ]
  },
  {
   "cell_type": "code",
   "execution_count": 9,
   "metadata": {
    "ExecuteTime": {
     "end_time": "2021-12-09T04:05:36.720111Z",
     "start_time": "2021-12-09T04:05:36.687123Z"
    }
   },
   "outputs": [],
   "source": [
    "train_df_na = train_df.copy()\n",
    "train_df_na.iloc[na_idx, 1] = np.nan"
   ]
  },
  {
   "cell_type": "markdown",
   "metadata": {},
   "source": [
    "## ETS"
   ]
  },
  {
   "cell_type": "code",
   "execution_count": 10,
   "metadata": {
    "ExecuteTime": {
     "end_time": "2021-12-09T04:05:37.058237Z",
     "start_time": "2021-12-09T04:05:37.025045Z"
    }
   },
   "outputs": [],
   "source": [
    "ets = ETS(response_col='claims',\n",
    "          date_col='week',\n",
    "          seasonality=52,\n",
    "          seed=2020,\n",
    "          estimator='stan-mcmc',\n",
    ")"
   ]
  },
  {
   "cell_type": "code",
   "execution_count": 11,
   "metadata": {
    "ExecuteTime": {
     "end_time": "2021-12-09T04:05:38.611154Z",
     "start_time": "2021-12-09T04:05:37.340416Z"
    },
    "jupyter": {
     "outputs_hidden": true
    },
    "tags": []
   },
   "outputs": [
    {
     "name": "stderr",
     "output_type": "stream",
     "text": [
      "WARNING:pystan:n_eff / iter below 0.001 indicates that the effective sample size has likely been overestimated\n"
     ]
    },
    {
     "data": {
      "text/plain": [
       "<orbit.forecaster.full_bayes.FullBayesianForecaster at 0x140d37090>"
      ]
     },
     "execution_count": 11,
     "metadata": {},
     "output_type": "execute_result"
    }
   ],
   "source": [
    "ets.fit(train_df_na)"
   ]
  },
  {
   "cell_type": "code",
   "execution_count": 12,
   "metadata": {
    "ExecuteTime": {
     "end_time": "2021-12-09T04:05:38.664065Z",
     "start_time": "2021-12-09T04:05:38.613278Z"
    }
   },
   "outputs": [
    {
     "data": {
      "text/html": [
       "<div>\n",
       "<style scoped>\n",
       "    .dataframe tbody tr th:only-of-type {\n",
       "        vertical-align: middle;\n",
       "    }\n",
       "\n",
       "    .dataframe tbody tr th {\n",
       "        vertical-align: top;\n",
       "    }\n",
       "\n",
       "    .dataframe thead th {\n",
       "        text-align: right;\n",
       "    }\n",
       "</style>\n",
       "<table border=\"1\" class=\"dataframe\">\n",
       "  <thead>\n",
       "    <tr style=\"text-align: right;\">\n",
       "      <th></th>\n",
       "      <th>week</th>\n",
       "      <th>prediction_5</th>\n",
       "      <th>prediction</th>\n",
       "      <th>prediction_95</th>\n",
       "    </tr>\n",
       "  </thead>\n",
       "  <tbody>\n",
       "    <tr>\n",
       "      <th>33</th>\n",
       "      <td>2010-08-22</td>\n",
       "      <td>12.684338</td>\n",
       "      <td>12.856700</td>\n",
       "      <td>13.052488</td>\n",
       "    </tr>\n",
       "    <tr>\n",
       "      <th>134</th>\n",
       "      <td>2012-07-29</td>\n",
       "      <td>12.572014</td>\n",
       "      <td>12.679722</td>\n",
       "      <td>12.790795</td>\n",
       "    </tr>\n",
       "    <tr>\n",
       "      <th>147</th>\n",
       "      <td>2012-10-28</td>\n",
       "      <td>12.672589</td>\n",
       "      <td>12.770397</td>\n",
       "      <td>12.877641</td>\n",
       "    </tr>\n",
       "    <tr>\n",
       "      <th>220</th>\n",
       "      <td>2014-03-23</td>\n",
       "      <td>12.516778</td>\n",
       "      <td>12.617131</td>\n",
       "      <td>12.728789</td>\n",
       "    </tr>\n",
       "    <tr>\n",
       "      <th>226</th>\n",
       "      <td>2014-05-04</td>\n",
       "      <td>12.481102</td>\n",
       "      <td>12.605834</td>\n",
       "      <td>12.731010</td>\n",
       "    </tr>\n",
       "    <tr>\n",
       "      <th>245</th>\n",
       "      <td>2014-09-14</td>\n",
       "      <td>12.366648</td>\n",
       "      <td>12.495904</td>\n",
       "      <td>12.610347</td>\n",
       "    </tr>\n",
       "    <tr>\n",
       "      <th>263</th>\n",
       "      <td>2015-01-18</td>\n",
       "      <td>12.671526</td>\n",
       "      <td>12.797576</td>\n",
       "      <td>12.924648</td>\n",
       "    </tr>\n",
       "    <tr>\n",
       "      <th>266</th>\n",
       "      <td>2015-02-08</td>\n",
       "      <td>12.502506</td>\n",
       "      <td>12.614119</td>\n",
       "      <td>12.747006</td>\n",
       "    </tr>\n",
       "    <tr>\n",
       "      <th>327</th>\n",
       "      <td>2016-04-10</td>\n",
       "      <td>12.447682</td>\n",
       "      <td>12.553162</td>\n",
       "      <td>12.675651</td>\n",
       "    </tr>\n",
       "    <tr>\n",
       "      <th>381</th>\n",
       "      <td>2017-04-23</td>\n",
       "      <td>12.215289</td>\n",
       "      <td>12.320035</td>\n",
       "      <td>12.400624</td>\n",
       "    </tr>\n",
       "  </tbody>\n",
       "</table>\n",
       "</div>"
      ],
      "text/plain": [
       "          week  prediction_5  prediction  prediction_95\n",
       "33  2010-08-22     12.684338   12.856700      13.052488\n",
       "134 2012-07-29     12.572014   12.679722      12.790795\n",
       "147 2012-10-28     12.672589   12.770397      12.877641\n",
       "220 2014-03-23     12.516778   12.617131      12.728789\n",
       "226 2014-05-04     12.481102   12.605834      12.731010\n",
       "245 2014-09-14     12.366648   12.495904      12.610347\n",
       "263 2015-01-18     12.671526   12.797576      12.924648\n",
       "266 2015-02-08     12.502506   12.614119      12.747006\n",
       "327 2016-04-10     12.447682   12.553162      12.675651\n",
       "381 2017-04-23     12.215289   12.320035      12.400624"
      ]
     },
     "execution_count": 12,
     "metadata": {},
     "output_type": "execute_result"
    }
   ],
   "source": [
    "predicted_df = ets.predict(df=train_df_na)\n",
    "predicted_df.iloc[na_idx, :]"
   ]
  },
  {
   "cell_type": "code",
   "execution_count": 13,
   "metadata": {
    "ExecuteTime": {
     "end_time": "2021-12-09T04:05:38.698016Z",
     "start_time": "2021-12-09T04:05:38.666677Z"
    }
   },
   "outputs": [
    {
     "data": {
      "text/plain": [
       "0.002865783307036313"
      ]
     },
     "execution_count": 13,
     "metadata": {},
     "output_type": "execute_result"
    }
   ],
   "source": [
    "smape(train_df_na['claims'].values, predicted_df['prediction'].values)"
   ]
  },
  {
   "cell_type": "markdown",
   "metadata": {},
   "source": [
    "It is worth pointing out that the very first value of the response variable cannot be missing, since this is the starting point of the time series fitting."
   ]
  },
  {
   "cell_type": "code",
   "execution_count": 14,
   "metadata": {
    "ExecuteTime": {
     "end_time": "2021-12-09T04:05:38.802598Z",
     "start_time": "2021-12-09T04:05:38.714737Z"
    }
   },
   "outputs": [
    {
     "name": "stderr",
     "output_type": "stream",
     "text": [
      "/Users/zhishiw/Desktop/uTS-py/orbit/orbit/template/ets.py:140: RuntimeWarning: Mean of empty slice\n",
      "  ss[idx] = np.nanmean(adjusted_response[idx::self._seasonality])\n"
     ]
    },
    {
     "ename": "DataInputException",
     "evalue": "The first value of response column claims cannot be missing..",
     "output_type": "error",
     "traceback": [
      "\u001b[0;31m---------------------------------------------------------------------------\u001b[0m",
      "\u001b[0;31mDataInputException\u001b[0m                        Traceback (most recent call last)",
      "\u001b[0;32m<ipython-input-14-2dbfe269e00e>\u001b[0m in \u001b[0;36m<module>\u001b[0;34m\u001b[0m\n\u001b[1;32m      2\u001b[0m \u001b[0mtrain_df_na2\u001b[0m \u001b[0;34m=\u001b[0m \u001b[0mtrain_df\u001b[0m\u001b[0;34m.\u001b[0m\u001b[0mcopy\u001b[0m\u001b[0;34m(\u001b[0m\u001b[0;34m)\u001b[0m\u001b[0;34m\u001b[0m\u001b[0;34m\u001b[0m\u001b[0m\n\u001b[1;32m      3\u001b[0m \u001b[0mtrain_df_na2\u001b[0m\u001b[0;34m.\u001b[0m\u001b[0miloc\u001b[0m\u001b[0;34m[\u001b[0m\u001b[0mna_idx2\u001b[0m\u001b[0;34m,\u001b[0m \u001b[0;36m1\u001b[0m\u001b[0;34m]\u001b[0m \u001b[0;34m=\u001b[0m \u001b[0mnp\u001b[0m\u001b[0;34m.\u001b[0m\u001b[0mnan\u001b[0m\u001b[0;34m\u001b[0m\u001b[0;34m\u001b[0m\u001b[0m\n\u001b[0;32m----> 4\u001b[0;31m \u001b[0mets\u001b[0m\u001b[0;34m.\u001b[0m\u001b[0mfit\u001b[0m\u001b[0;34m(\u001b[0m\u001b[0mtrain_df_na2\u001b[0m\u001b[0;34m)\u001b[0m\u001b[0;34m\u001b[0m\u001b[0;34m\u001b[0m\u001b[0m\n\u001b[0m",
      "\u001b[0;32m~/Desktop/uTS-py/orbit/orbit/forecaster/full_bayes.py\u001b[0m in \u001b[0;36mfit\u001b[0;34m(self, df, point_method, keep_samples)\u001b[0m\n\u001b[1;32m     22\u001b[0m \u001b[0;34m\u001b[0m\u001b[0m\n\u001b[1;32m     23\u001b[0m     \u001b[0;32mdef\u001b[0m \u001b[0mfit\u001b[0m\u001b[0;34m(\u001b[0m\u001b[0mself\u001b[0m\u001b[0;34m,\u001b[0m \u001b[0mdf\u001b[0m\u001b[0;34m,\u001b[0m \u001b[0mpoint_method\u001b[0m\u001b[0;34m=\u001b[0m\u001b[0;32mNone\u001b[0m\u001b[0;34m,\u001b[0m \u001b[0mkeep_samples\u001b[0m\u001b[0;34m=\u001b[0m\u001b[0;32mTrue\u001b[0m\u001b[0;34m)\u001b[0m\u001b[0;34m:\u001b[0m\u001b[0;34m\u001b[0m\u001b[0;34m\u001b[0m\u001b[0m\n\u001b[0;32m---> 24\u001b[0;31m         \u001b[0msuper\u001b[0m\u001b[0;34m(\u001b[0m\u001b[0;34m)\u001b[0m\u001b[0;34m.\u001b[0m\u001b[0mfit\u001b[0m\u001b[0;34m(\u001b[0m\u001b[0mdf\u001b[0m\u001b[0;34m)\u001b[0m\u001b[0;34m\u001b[0m\u001b[0;34m\u001b[0m\u001b[0m\n\u001b[0m\u001b[1;32m     25\u001b[0m         \u001b[0mself\u001b[0m\u001b[0;34m.\u001b[0m\u001b[0m_point_method\u001b[0m \u001b[0;34m=\u001b[0m \u001b[0mpoint_method\u001b[0m\u001b[0;34m\u001b[0m\u001b[0;34m\u001b[0m\u001b[0m\n\u001b[1;32m     26\u001b[0m \u001b[0;34m\u001b[0m\u001b[0m\n",
      "\u001b[0;32m~/Desktop/uTS-py/orbit/orbit/forecaster/forecaster.py\u001b[0m in \u001b[0;36mfit\u001b[0;34m(self, df)\u001b[0m\n\u001b[1;32m    128\u001b[0m         \u001b[0mself\u001b[0m\u001b[0;34m.\u001b[0m\u001b[0m_set_training_meta\u001b[0m\u001b[0;34m(\u001b[0m\u001b[0mdf\u001b[0m\u001b[0;34m)\u001b[0m\u001b[0;34m\u001b[0m\u001b[0;34m\u001b[0m\u001b[0m\n\u001b[1;32m    129\u001b[0m         \u001b[0;31m# customize module\u001b[0m\u001b[0;34m\u001b[0m\u001b[0;34m\u001b[0m\u001b[0;34m\u001b[0m\u001b[0m\n\u001b[0;32m--> 130\u001b[0;31m         \u001b[0mself\u001b[0m\u001b[0;34m.\u001b[0m\u001b[0m_model\u001b[0m\u001b[0;34m.\u001b[0m\u001b[0mset_dynamic_attributes\u001b[0m\u001b[0;34m(\u001b[0m\u001b[0mdf\u001b[0m\u001b[0;34m=\u001b[0m\u001b[0mdf\u001b[0m\u001b[0;34m,\u001b[0m \u001b[0mtraining_meta\u001b[0m\u001b[0;34m=\u001b[0m\u001b[0mself\u001b[0m\u001b[0;34m.\u001b[0m\u001b[0mget_training_meta\u001b[0m\u001b[0;34m(\u001b[0m\u001b[0;34m)\u001b[0m\u001b[0;34m)\u001b[0m\u001b[0;34m\u001b[0m\u001b[0;34m\u001b[0m\u001b[0m\n\u001b[0m\u001b[1;32m    131\u001b[0m         \u001b[0;31m# based on the model and df, set training input\u001b[0m\u001b[0;34m\u001b[0m\u001b[0;34m\u001b[0m\u001b[0;34m\u001b[0m\u001b[0m\n\u001b[1;32m    132\u001b[0m         \u001b[0mself\u001b[0m\u001b[0;34m.\u001b[0m\u001b[0mset_training_data_input\u001b[0m\u001b[0;34m(\u001b[0m\u001b[0;34m)\u001b[0m\u001b[0;34m\u001b[0m\u001b[0;34m\u001b[0m\u001b[0m\n",
      "\u001b[0;32m~/Desktop/uTS-py/orbit/orbit/template/ets.py\u001b[0m in \u001b[0;36mset_dynamic_attributes\u001b[0;34m(self, df, training_meta)\u001b[0m\n\u001b[1;32m    144\u001b[0m             \u001b[0mself\u001b[0m\u001b[0;34m.\u001b[0m\u001b[0mseasonality_sd\u001b[0m \u001b[0;34m=\u001b[0m \u001b[0mtraining_meta\u001b[0m\u001b[0;34m[\u001b[0m\u001b[0mTrainingMetaKeys\u001b[0m\u001b[0;34m.\u001b[0m\u001b[0mRESPONSE_SD\u001b[0m\u001b[0;34m.\u001b[0m\u001b[0mvalue\u001b[0m\u001b[0;34m]\u001b[0m\u001b[0;34m\u001b[0m\u001b[0;34m\u001b[0m\u001b[0m\n\u001b[1;32m    145\u001b[0m \u001b[0;34m\u001b[0m\u001b[0m\n\u001b[0;32m--> 146\u001b[0;31m         \u001b[0mself\u001b[0m\u001b[0;34m.\u001b[0m\u001b[0m_set_valid_response\u001b[0m\u001b[0;34m(\u001b[0m\u001b[0mtraining_meta\u001b[0m\u001b[0;34m)\u001b[0m\u001b[0;34m\u001b[0m\u001b[0;34m\u001b[0m\u001b[0m\n\u001b[0m\u001b[1;32m    147\u001b[0m \u001b[0;34m\u001b[0m\u001b[0m\n\u001b[1;32m    148\u001b[0m     \u001b[0;32mdef\u001b[0m \u001b[0m_set_valid_response\u001b[0m\u001b[0;34m(\u001b[0m\u001b[0mself\u001b[0m\u001b[0;34m,\u001b[0m \u001b[0mtraining_meta\u001b[0m\u001b[0;34m)\u001b[0m\u001b[0;34m:\u001b[0m\u001b[0;34m\u001b[0m\u001b[0;34m\u001b[0m\u001b[0m\n",
      "\u001b[0;32m~/Desktop/uTS-py/orbit/orbit/template/ets.py\u001b[0m in \u001b[0;36m_set_valid_response\u001b[0;34m(self, training_meta)\u001b[0m\n\u001b[1;32m    152\u001b[0m         \u001b[0;32mif\u001b[0m \u001b[0mself\u001b[0m\u001b[0;34m.\u001b[0m\u001b[0mis_valid_response\u001b[0m\u001b[0;34m[\u001b[0m\u001b[0;36m0\u001b[0m\u001b[0;34m]\u001b[0m \u001b[0;34m==\u001b[0m \u001b[0;36m0\u001b[0m\u001b[0;34m:\u001b[0m\u001b[0;34m\u001b[0m\u001b[0;34m\u001b[0m\u001b[0m\n\u001b[1;32m    153\u001b[0m             raise DataInputException('The first value of response column {} cannot be missing..'.\\\n\u001b[0;32m--> 154\u001b[0;31m                 format(training_meta[TrainingMetaKeys.RESPONSE_COL.value]))\n\u001b[0m\u001b[1;32m    155\u001b[0m \u001b[0;34m\u001b[0m\u001b[0m\n\u001b[1;32m    156\u001b[0m     \u001b[0;31m# TODO: this could be static function by accepting a callable object?\u001b[0m\u001b[0;34m\u001b[0m\u001b[0;34m\u001b[0m\u001b[0;34m\u001b[0m\u001b[0m\n",
      "\u001b[0;31mDataInputException\u001b[0m: The first value of response column claims cannot be missing.."
     ]
    }
   ],
   "source": [
    "na_idx2 = list(na_idx) + [0]\n",
    "train_df_na2 = train_df.copy()\n",
    "train_df_na2.iloc[na_idx2, 1] = np.nan\n",
    "ets.fit(train_df_na2)"
   ]
  },
  {
   "cell_type": "markdown",
   "metadata": {},
   "source": [
    "## LGT"
   ]
  },
  {
   "cell_type": "code",
   "execution_count": 15,
   "metadata": {
    "ExecuteTime": {
     "end_time": "2021-12-09T04:05:39.647959Z",
     "start_time": "2021-12-09T04:05:39.614946Z"
    }
   },
   "outputs": [],
   "source": [
    "lgt = LGT(response_col='claims',\n",
    "          date_col='week',\n",
    "          estimator='stan-mcmc',\n",
    "          seasonality=52,\n",
    "          seed=8888)"
   ]
  },
  {
   "cell_type": "code",
   "execution_count": 16,
   "metadata": {
    "ExecuteTime": {
     "end_time": "2021-12-09T04:05:49.673815Z",
     "start_time": "2021-12-09T04:05:39.996250Z"
    }
   },
   "outputs": [
    {
     "name": "stderr",
     "output_type": "stream",
     "text": [
      "WARNING:pystan:Maximum (flat) parameter count (1000) exceeded: skipping diagnostic tests for n_eff and Rhat.\n",
      "To run all diagnostics call pystan.check_hmc_diagnostics(fit)\n"
     ]
    },
    {
     "data": {
      "text/plain": [
       "<orbit.forecaster.full_bayes.FullBayesianForecaster at 0x141078dd0>"
      ]
     },
     "execution_count": 16,
     "metadata": {},
     "output_type": "execute_result"
    }
   ],
   "source": [
    "lgt.fit(df=train_df_na)"
   ]
  },
  {
   "cell_type": "code",
   "execution_count": 17,
   "metadata": {
    "ExecuteTime": {
     "end_time": "2021-12-09T04:05:49.737569Z",
     "start_time": "2021-12-09T04:05:49.676437Z"
    }
   },
   "outputs": [
    {
     "data": {
      "text/html": [
       "<div>\n",
       "<style scoped>\n",
       "    .dataframe tbody tr th:only-of-type {\n",
       "        vertical-align: middle;\n",
       "    }\n",
       "\n",
       "    .dataframe tbody tr th {\n",
       "        vertical-align: top;\n",
       "    }\n",
       "\n",
       "    .dataframe thead th {\n",
       "        text-align: right;\n",
       "    }\n",
       "</style>\n",
       "<table border=\"1\" class=\"dataframe\">\n",
       "  <thead>\n",
       "    <tr style=\"text-align: right;\">\n",
       "      <th></th>\n",
       "      <th>week</th>\n",
       "      <th>prediction_5</th>\n",
       "      <th>prediction</th>\n",
       "      <th>prediction_95</th>\n",
       "    </tr>\n",
       "  </thead>\n",
       "  <tbody>\n",
       "    <tr>\n",
       "      <th>33</th>\n",
       "      <td>2010-08-22</td>\n",
       "      <td>12.750985</td>\n",
       "      <td>12.871307</td>\n",
       "      <td>12.981723</td>\n",
       "    </tr>\n",
       "    <tr>\n",
       "      <th>134</th>\n",
       "      <td>2012-07-29</td>\n",
       "      <td>12.534918</td>\n",
       "      <td>12.646589</td>\n",
       "      <td>12.767774</td>\n",
       "    </tr>\n",
       "    <tr>\n",
       "      <th>147</th>\n",
       "      <td>2012-10-28</td>\n",
       "      <td>12.621442</td>\n",
       "      <td>12.734111</td>\n",
       "      <td>12.870138</td>\n",
       "    </tr>\n",
       "    <tr>\n",
       "      <th>220</th>\n",
       "      <td>2014-03-23</td>\n",
       "      <td>12.482266</td>\n",
       "      <td>12.571192</td>\n",
       "      <td>12.696406</td>\n",
       "    </tr>\n",
       "    <tr>\n",
       "      <th>226</th>\n",
       "      <td>2014-05-04</td>\n",
       "      <td>12.468498</td>\n",
       "      <td>12.572705</td>\n",
       "      <td>12.685813</td>\n",
       "    </tr>\n",
       "    <tr>\n",
       "      <th>245</th>\n",
       "      <td>2014-09-14</td>\n",
       "      <td>12.353079</td>\n",
       "      <td>12.479061</td>\n",
       "      <td>12.553327</td>\n",
       "    </tr>\n",
       "    <tr>\n",
       "      <th>263</th>\n",
       "      <td>2015-01-18</td>\n",
       "      <td>12.682670</td>\n",
       "      <td>12.769886</td>\n",
       "      <td>12.876856</td>\n",
       "    </tr>\n",
       "    <tr>\n",
       "      <th>266</th>\n",
       "      <td>2015-02-08</td>\n",
       "      <td>12.497793</td>\n",
       "      <td>12.612280</td>\n",
       "      <td>12.718102</td>\n",
       "    </tr>\n",
       "    <tr>\n",
       "      <th>327</th>\n",
       "      <td>2016-04-10</td>\n",
       "      <td>12.456949</td>\n",
       "      <td>12.535072</td>\n",
       "      <td>12.658977</td>\n",
       "    </tr>\n",
       "    <tr>\n",
       "      <th>381</th>\n",
       "      <td>2017-04-23</td>\n",
       "      <td>12.223128</td>\n",
       "      <td>12.313617</td>\n",
       "      <td>12.405959</td>\n",
       "    </tr>\n",
       "  </tbody>\n",
       "</table>\n",
       "</div>"
      ],
      "text/plain": [
       "          week  prediction_5  prediction  prediction_95\n",
       "33  2010-08-22     12.750985   12.871307      12.981723\n",
       "134 2012-07-29     12.534918   12.646589      12.767774\n",
       "147 2012-10-28     12.621442   12.734111      12.870138\n",
       "220 2014-03-23     12.482266   12.571192      12.696406\n",
       "226 2014-05-04     12.468498   12.572705      12.685813\n",
       "245 2014-09-14     12.353079   12.479061      12.553327\n",
       "263 2015-01-18     12.682670   12.769886      12.876856\n",
       "266 2015-02-08     12.497793   12.612280      12.718102\n",
       "327 2016-04-10     12.456949   12.535072      12.658977\n",
       "381 2017-04-23     12.223128   12.313617      12.405959"
      ]
     },
     "execution_count": 17,
     "metadata": {},
     "output_type": "execute_result"
    }
   ],
   "source": [
    "predicted_df = lgt.predict(df=train_df_na)\n",
    "predicted_df.iloc[na_idx, :]"
   ]
  },
  {
   "cell_type": "markdown",
   "metadata": {},
   "source": [
    "## DLT"
   ]
  },
  {
   "cell_type": "code",
   "execution_count": 18,
   "metadata": {
    "ExecuteTime": {
     "end_time": "2021-12-09T03:20:05.314795Z",
     "start_time": "2021-12-09T03:20:05.282752Z"
    }
   },
   "outputs": [],
   "source": [
    "dlt = DLT(response_col='claims',\n",
    "          date_col='week',\n",
    "          estimator='stan-mcmc',\n",
    "          seasonality=52,\n",
    "          seed=8888)"
   ]
  },
  {
   "cell_type": "code",
   "execution_count": 19,
   "metadata": {
    "ExecuteTime": {
     "end_time": "2021-12-09T03:20:09.684071Z",
     "start_time": "2021-12-09T03:20:05.317564Z"
    }
   },
   "outputs": [
    {
     "name": "stderr",
     "output_type": "stream",
     "text": [
      "WARNING:pystan:Maximum (flat) parameter count (1000) exceeded: skipping diagnostic tests for n_eff and Rhat.\n",
      "To run all diagnostics call pystan.check_hmc_diagnostics(fit)\n"
     ]
    },
    {
     "data": {
      "text/plain": [
       "<orbit.forecaster.full_bayes.FullBayesianForecaster at 0x1427d4490>"
      ]
     },
     "execution_count": 19,
     "metadata": {},
     "output_type": "execute_result"
    }
   ],
   "source": [
    "dlt.fit(df=train_df_na)"
   ]
  },
  {
   "cell_type": "code",
   "execution_count": 20,
   "metadata": {
    "ExecuteTime": {
     "end_time": "2021-12-09T03:20:09.750106Z",
     "start_time": "2021-12-09T03:20:09.686524Z"
    }
   },
   "outputs": [
    {
     "data": {
      "text/html": [
       "<div>\n",
       "<style scoped>\n",
       "    .dataframe tbody tr th:only-of-type {\n",
       "        vertical-align: middle;\n",
       "    }\n",
       "\n",
       "    .dataframe tbody tr th {\n",
       "        vertical-align: top;\n",
       "    }\n",
       "\n",
       "    .dataframe thead th {\n",
       "        text-align: right;\n",
       "    }\n",
       "</style>\n",
       "<table border=\"1\" class=\"dataframe\">\n",
       "  <thead>\n",
       "    <tr style=\"text-align: right;\">\n",
       "      <th></th>\n",
       "      <th>week</th>\n",
       "      <th>prediction_5</th>\n",
       "      <th>prediction</th>\n",
       "      <th>prediction_95</th>\n",
       "    </tr>\n",
       "  </thead>\n",
       "  <tbody>\n",
       "    <tr>\n",
       "      <th>33</th>\n",
       "      <td>2010-08-22</td>\n",
       "      <td>12.750169</td>\n",
       "      <td>12.858053</td>\n",
       "      <td>13.007971</td>\n",
       "    </tr>\n",
       "    <tr>\n",
       "      <th>134</th>\n",
       "      <td>2012-07-29</td>\n",
       "      <td>12.530594</td>\n",
       "      <td>12.645414</td>\n",
       "      <td>12.764947</td>\n",
       "    </tr>\n",
       "    <tr>\n",
       "      <th>147</th>\n",
       "      <td>2012-10-28</td>\n",
       "      <td>12.635962</td>\n",
       "      <td>12.737997</td>\n",
       "      <td>12.854073</td>\n",
       "    </tr>\n",
       "    <tr>\n",
       "      <th>220</th>\n",
       "      <td>2014-03-23</td>\n",
       "      <td>12.478771</td>\n",
       "      <td>12.571726</td>\n",
       "      <td>12.696811</td>\n",
       "    </tr>\n",
       "    <tr>\n",
       "      <th>226</th>\n",
       "      <td>2014-05-04</td>\n",
       "      <td>12.478803</td>\n",
       "      <td>12.568907</td>\n",
       "      <td>12.704323</td>\n",
       "    </tr>\n",
       "    <tr>\n",
       "      <th>245</th>\n",
       "      <td>2014-09-14</td>\n",
       "      <td>12.370480</td>\n",
       "      <td>12.478977</td>\n",
       "      <td>12.551105</td>\n",
       "    </tr>\n",
       "    <tr>\n",
       "      <th>263</th>\n",
       "      <td>2015-01-18</td>\n",
       "      <td>12.676262</td>\n",
       "      <td>12.753837</td>\n",
       "      <td>12.860741</td>\n",
       "    </tr>\n",
       "    <tr>\n",
       "      <th>266</th>\n",
       "      <td>2015-02-08</td>\n",
       "      <td>12.482016</td>\n",
       "      <td>12.602319</td>\n",
       "      <td>12.710764</td>\n",
       "    </tr>\n",
       "    <tr>\n",
       "      <th>327</th>\n",
       "      <td>2016-04-10</td>\n",
       "      <td>12.448289</td>\n",
       "      <td>12.528239</td>\n",
       "      <td>12.653225</td>\n",
       "    </tr>\n",
       "    <tr>\n",
       "      <th>381</th>\n",
       "      <td>2017-04-23</td>\n",
       "      <td>12.228236</td>\n",
       "      <td>12.315597</td>\n",
       "      <td>12.405317</td>\n",
       "    </tr>\n",
       "  </tbody>\n",
       "</table>\n",
       "</div>"
      ],
      "text/plain": [
       "          week  prediction_5  prediction  prediction_95\n",
       "33  2010-08-22     12.750169   12.858053      13.007971\n",
       "134 2012-07-29     12.530594   12.645414      12.764947\n",
       "147 2012-10-28     12.635962   12.737997      12.854073\n",
       "220 2014-03-23     12.478771   12.571726      12.696811\n",
       "226 2014-05-04     12.478803   12.568907      12.704323\n",
       "245 2014-09-14     12.370480   12.478977      12.551105\n",
       "263 2015-01-18     12.676262   12.753837      12.860741\n",
       "266 2015-02-08     12.482016   12.602319      12.710764\n",
       "327 2016-04-10     12.448289   12.528239      12.653225\n",
       "381 2017-04-23     12.228236   12.315597      12.405317"
      ]
     },
     "execution_count": 20,
     "metadata": {},
     "output_type": "execute_result"
    }
   ],
   "source": [
    "predicted_df = dlt.predict(df=train_df_na)\n",
    "predicted_df.iloc[na_idx, :]"
   ]
  },
  {
   "cell_type": "code",
   "execution_count": null,
   "metadata": {},
   "outputs": [],
   "source": []
  }
 ],
 "metadata": {
  "kernelspec": {
   "display_name": "Python 3",
   "language": "python",
   "name": "python3"
  },
  "language_info": {
   "codemirror_mode": {
    "name": "ipython",
    "version": 3
   },
   "file_extension": ".py",
   "mimetype": "text/x-python",
   "name": "python",
   "nbconvert_exporter": "python",
   "pygments_lexer": "ipython3",
   "version": "3.7.8"
  },
  "toc": {
   "base_numbering": 1,
   "nav_menu": {},
   "number_sections": true,
   "sideBar": true,
   "skip_h1_title": true,
   "title_cell": "Table of Contents",
   "title_sidebar": "Contents",
   "toc_cell": false,
   "toc_position": {},
   "toc_section_display": true,
   "toc_window_display": true
  }
 },
 "nbformat": 4,
 "nbformat_minor": 4
}
