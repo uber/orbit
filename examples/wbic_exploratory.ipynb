{
 "cells": [
  {
   "cell_type": "markdown",
   "id": "wicked-application",
   "metadata": {},
   "source": [
    "This notebook gives some examples of the Widely Applicable Bayesian Information Criterion (WBIC) and its use with STAN.\n",
    "\n",
    "\n",
    "The three cases considered are:\n",
    "<ol>\n",
    "<li>Linear Model vs Generalized Linear Model</li>\n",
    "<li>Linear model feature selection </li>\n",
    "<li>AR order determination </li>\n",
    "</ol>"
   ]
  },
  {
   "cell_type": "code",
   "execution_count": 1,
   "id": "accessible-carter",
   "metadata": {},
   "outputs": [],
   "source": [
    "# this section imports stuff \n",
    "import pandas as pd\n",
    "import numpy as np\n",
    "import pystan\n",
    "import matplotlib.pyplot as plt\n",
    "import seaborn as sns\n",
    "from pystan import StanModel\n",
    "import arviz as az\n",
    "from platform import python_version\n",
    "import matplotlib.pyplot as plt\n",
    "from orbit.utils.simulation import make_regression"
   ]
  },
  {
   "cell_type": "code",
   "execution_count": 2,
   "id": "surrounded-alloy",
   "metadata": {},
   "outputs": [],
   "source": [
    "%matplotlib inline"
   ]
  },
  {
   "cell_type": "code",
   "execution_count": 3,
   "id": "simple-thirty",
   "metadata": {},
   "outputs": [
    {
     "name": "stdout",
     "output_type": "stream",
     "text": [
      "pandas: 1.3.1\n",
      "numpy: 1.21.1\n",
      "pystan: 2.19.1.1\n",
      "3.7.8\n"
     ]
    }
   ],
   "source": [
    "# check the things!\n",
    "print('pandas: {}'.format(pd.__version__))\n",
    "print('numpy: {}'.format(np.__version__))\n",
    "print('pystan: {}'.format(pystan.__version__))\n",
    "print(python_version())"
   ]
  },
  {
   "cell_type": "markdown",
   "id": "humanitarian-shanghai",
   "metadata": {},
   "source": [
    "This section gives the WAIC function. For it to work the models must have a log probability of each observation for each sample. \n",
    "\n",
    "Note that the penalty term (k) is currently left as an argument to the user. In \"Understanding predictive information criteria for Bayesian models” and \"Practical Bayesian model evaluation using leave-one-out cross-validation and WAIC\" k=2 is assumed. As is discussed here k = log(n) mighte be another choice. Note this is not WBIC which is its own thing. \n",
    "\n"
   ]
  },
  {
   "cell_type": "code",
   "execution_count": 4,
   "id": "starting-involvement",
   "metadata": {},
   "outputs": [],
   "source": [
    "#WAIC\n",
    "def WAIC(log_p, k = 2 ):\n",
    "    P_WAIC2 = np.nansum(log_p.var(axis=0)) # the effective number of paramters \n",
    "    lppd = np.nansum(np.log(np.exp(log_p).mean(axis=0))) # the sum of log pointwise predictive density\n",
    "    WAIC = -2*lppd +k* P_WAIC2 \n",
    "    return WAIC, lppd, P_WAIC2\n",
    "\n",
    "\n",
    "def WBIC(log_p): # note that log P must he sampled at temp log(n)\n",
    "    return -2*np.nanmean(log_p)\n"
   ]
  },
  {
   "cell_type": "markdown",
   "id": "photographic-pakistan",
   "metadata": {},
   "source": [
    "## First example:\n",
    "This example considers the fitting of linear model with both a normal and a  Generalized normal distribution "
   ]
  },
  {
   "cell_type": "code",
   "execution_count": 5,
   "id": "efficient-trinidad",
   "metadata": {},
   "outputs": [
    {
     "name": "stdout",
     "output_type": "stream",
     "text": [
      "(10000, 3)\n",
      "(10000,)\n",
      "[2.6 0.2 0.1]\n"
     ]
    }
   ],
   "source": [
    "# make data \n",
    "n = 10000\n",
    "x0 = np.ones(n)\n",
    "x1 = np.random.normal(0, 10, n)\n",
    "x2 = np.random.normal(0, 0.5, n)\n",
    "\n",
    "X = np.vstack([x0, x1, x2]).transpose()\n",
    "\n",
    "\n",
    "coefs = np.array([2.6, 0.2, 0.1])\n",
    "yhat = np.matmul(X, coefs)\n",
    "y = np.random.normal(yhat, 1)\n",
    "print(X.shape)\n",
    "print(y.shape)\n",
    "print(coefs)"
   ]
  },
  {
   "cell_type": "markdown",
   "id": "dutch-specification",
   "metadata": {},
   "source": [
    "Four parts to a STAN process. Data, Model, Fitting, and outputs"
   ]
  },
  {
   "cell_type": "code",
   "execution_count": 6,
   "id": "micro-miami",
   "metadata": {},
   "outputs": [],
   "source": [
    "# data\n",
    "data = {\n",
    "    'n_obs': len(y),\n",
    "    'n_features': X.shape[1],\n",
    "    'y': y,\n",
    "    'X': X,\n",
    "}"
   ]
  },
  {
   "cell_type": "code",
   "execution_count": 7,
   "id": "descending-mainstream",
   "metadata": {},
   "outputs": [
    {
     "name": "stderr",
     "output_type": "stream",
     "text": [
      "INFO:pystan:COMPILING THE C++ CODE FOR MODEL anon_model_6ae105309d20e0781eff0ae7263bdd21 NOW.\n"
     ]
    }
   ],
   "source": [
    "# make model 1 \n",
    "model_code = \"\"\"\n",
    "\n",
    "    data {\n",
    "      int<lower=0> n_obs;\n",
    "      int<lower=0> n_features;\n",
    "      vector[n_obs] y;\n",
    "      // real y[n_obs];\n",
    "      matrix[n_obs, n_features] X;\n",
    "    }\n",
    "    \n",
    "    parameters{\n",
    "      vector[n_features] m;\n",
    "      real<lower=0,upper=10> sigma;\n",
    "    }\n",
    "    \n",
    "    transformed parameters {\n",
    "      vector[n_obs] yhat;\n",
    "      vector[n_obs] log_p;\n",
    "      real watanabe_beta;\n",
    "      watanabe_beta = 1.0/log(n_obs); // the sampling temp  \n",
    "      \n",
    "      yhat = X * m;\n",
    "      for (i in 1:n_obs)\n",
    "        log_p[i] = normal_lpdf(y[i]|yhat[i], sigma);\n",
    "    }\n",
    "    \n",
    "    model {\n",
    "\n",
    "      for (i in 1:n_obs)\n",
    "        target += watanabe_beta*log_p[i];\n",
    "    }\n",
    "    \n",
    "\"\"\"\n",
    "sm_simple = StanModel(model_code=model_code)"
   ]
  },
  {
   "cell_type": "code",
   "execution_count": 8,
   "id": "passing-texture",
   "metadata": {},
   "outputs": [
    {
     "name": "stderr",
     "output_type": "stream",
     "text": [
      "INFO:pystan:COMPILING THE C++ CODE FOR MODEL anon_model_1d8f24b83a2d491827d4e5301a729307 NOW.\n"
     ]
    }
   ],
   "source": [
    "# make model 2 \n",
    "model_code = \"\"\"\n",
    "    functions{\n",
    "    real gen_norm_lpdf(real x, real alpha, real beta, real mu){\n",
    "        return(log(beta) - log(2*alpha)- lgamma(1/beta) - pow(fabs(x-mu)/alpha, beta) );        \n",
    "        }\n",
    "    }\n",
    "\n",
    "\n",
    "    data {\n",
    "      int<lower=0> n_obs;\n",
    "      int<lower=0> n_features;\n",
    "      vector[n_obs] y;\n",
    "      // real y[n_obs];\n",
    "      matrix[n_obs, n_features] X;\n",
    "    }\n",
    "    \n",
    "\n",
    "    \n",
    "    parameters{\n",
    "      vector[n_features] m;\n",
    "      real<lower=0> alpha;\n",
    "      real<lower=0,upper=5> beta;\n",
    "    }\n",
    "    \n",
    "    transformed parameters {\n",
    "      vector[n_obs] yhat;\n",
    "      vector[n_obs] log_p;\n",
    "      real watanabe_beta;\n",
    "      watanabe_beta = 1.0/log(n_obs); // the sampling temp  \n",
    "      yhat = X * m;\n",
    "      for (i in 1:n_obs)\n",
    "          log_p[i] = log(beta) - log(2*alpha)- lgamma(1/beta) - pow(fabs(y[i]-yhat[i])/alpha, beta);\n",
    "    }\n",
    "    \n",
    "    model {\n",
    "      //vector[n_obs] yhat;\n",
    "      //yhat = X * m;\n",
    "      alpha ~ uniform(0, 10);\n",
    "      beta ~ uniform(0, 5);\n",
    "      \n",
    "      for (i in 1:n_obs)\n",
    "          target += watanabe_beta*log_p[i];\n",
    "    }\n",
    "    \n",
    "\"\"\"\n",
    "sm_complex = StanModel(model_code=model_code)"
   ]
  },
  {
   "cell_type": "code",
   "execution_count": 9,
   "id": "relevant-metadata",
   "metadata": {},
   "outputs": [
    {
     "name": "stderr",
     "output_type": "stream",
     "text": [
      "WARNING:pystan:Maximum (flat) parameter count (1000) exceeded: skipping diagnostic tests for n_eff and Rhat.\n",
      "To run all diagnostics call pystan.check_hmc_diagnostics(fit)\n",
      "WARNING:pystan:Maximum (flat) parameter count (1000) exceeded: skipping diagnostic tests for n_eff and Rhat.\n",
      "To run all diagnostics call pystan.check_hmc_diagnostics(fit)\n"
     ]
    }
   ],
   "source": [
    "%%time\n",
    "# fit the models \n",
    "fit_simple = sm_simple.sampling(data=data, iter=10000, chains=4, verbose =True)\n",
    "fit_complex = sm_complex.sampling(data=data, iter=10000, chains=4, verbose =True)"
   ]
  },
  {
   "cell_type": "code",
   "execution_count": 10,
   "id": "earned-functionality",
   "metadata": {},
   "outputs": [
    {
     "name": "stdout",
     "output_type": "stream",
     "text": [
      "odict_keys(['m', 'sigma', 'yhat', 'log_p', 'watanabe_beta', 'lp__'])\n",
      "odict_keys(['m', 'alpha', 'beta', 'yhat', 'log_p', 'watanabe_beta', 'lp__'])\n"
     ]
    }
   ],
   "source": [
    "# extract the posteriors\n",
    "posteriors_simple = fit_simple.extract(permuted=True)  # return a dictionary of arrays\n",
    "print(posteriors_simple.keys())\n",
    "\n",
    "posteriors_complex = fit_complex.extract(permuted=True)  # return a dictionary of arrays\n",
    "print(posteriors_complex.keys())"
   ]
  },
  {
   "cell_type": "code",
   "execution_count": 11,
   "id": "executive-dependence",
   "metadata": {},
   "outputs": [
    {
     "name": "stdout",
     "output_type": "stream",
     "text": [
      "2.847699801079601\n",
      "2.8484211202879623\n"
     ]
    }
   ],
   "source": [
    "WBIC_s = WBIC(log_p = posteriors_simple['log_p'])\n",
    "WBIC_c = WBIC(log_p = posteriors_complex['log_p'])\n",
    "\n",
    "print(WBIC_s)\n",
    "print(WBIC_c)"
   ]
  },
  {
   "cell_type": "markdown",
   "id": "acoustic-republican",
   "metadata": {},
   "source": [
    "## Example 2\n",
    "Feature selection for linear models with WBIC."
   ]
  },
  {
   "cell_type": "code",
   "execution_count": 12,
   "id": "quantitative-hearts",
   "metadata": {},
   "outputs": [
    {
     "name": "stdout",
     "output_type": "stream",
     "text": [
      "(1000, 3)\n",
      "(1000,)\n",
      "[2.6 0.2 0.1]\n"
     ]
    }
   ],
   "source": [
    "# make data \n",
    "n = 1000\n",
    "x0 = np.ones(n)\n",
    "x1 = np.random.normal(0, 1, n)\n",
    "x2 = np.random.normal(0, 1, n)\n",
    "x3 = np.random.normal(0, 1, n)\n",
    "x4 = np.random.normal(0, 1, n)\n",
    "x5 = np.random.normal(0, 1, n)\n",
    "x6 = np.random.normal(0, 1, n)\n",
    "x7 = np.random.normal(0, 1, n)\n",
    "x8 = np.random.normal(0, 1, n)\n",
    "x9 = np.random.normal(0, 1, n)\n",
    "\n",
    "X9 = np.vstack([x0, x1, x2, x3, x4, x5, x6, x7, x8, x9]).transpose()\n",
    "X = np.vstack([x0, x1, x2]).transpose()\n",
    "coefs = np.array([2.6, 0.2, 0.1])\n",
    "yhat = np.matmul(X, coefs)\n",
    "y = np.random.normal(yhat, 1)\n",
    "print(X.shape)\n",
    "print(y.shape)\n",
    "print(coefs)"
   ]
  },
  {
   "cell_type": "code",
   "execution_count": 13,
   "id": "educational-november",
   "metadata": {},
   "outputs": [],
   "source": [
    "data = {\n",
    "    'n_obs': len(y),\n",
    "    'n_features': X.shape[1],\n",
    "    'y': y,\n",
    "    'X': X,\n",
    "}"
   ]
  },
  {
   "cell_type": "code",
   "execution_count": 14,
   "id": "curious-platinum",
   "metadata": {},
   "outputs": [
    {
     "name": "stderr",
     "output_type": "stream",
     "text": [
      "INFO:pystan:COMPILING THE C++ CODE FOR MODEL anon_model_fe3ecba4592c3e5dbe590abdc55b0ed2 NOW.\n"
     ]
    }
   ],
   "source": [
    "model_code = \"\"\"\n",
    "\n",
    "    data {\n",
    "      int<lower=0> n_obs;\n",
    "      int<lower=0> n_features;\n",
    "      vector[n_obs] y;\n",
    "      // real y[n_obs];\n",
    "      matrix[n_obs, n_features] X;\n",
    "    }\n",
    "    \n",
    "    parameters{\n",
    "      vector[n_features] m;\n",
    "      real<lower=0> sigma;\n",
    "    }\n",
    "    \n",
    "    transformed parameters {\n",
    "      vector[n_obs] yhat;\n",
    "      vector[n_obs] log_p;\n",
    "      real watanabe_beta;\n",
    "      watanabe_beta = 1.0/log(n_obs); // the sampling temp  \n",
    "      \n",
    "      yhat = X * m;\n",
    "      for (i in 1:n_obs)\n",
    "        log_p[i] = normal_lpdf(y[i]|yhat[i], sigma);\n",
    "    }\n",
    "    \n",
    "    model {\n",
    "\n",
    "      for (i in 1:n_obs)\n",
    "        target += watanabe_beta*log_p[i];\n",
    "    }\n",
    "    \n",
    "\"\"\"\n",
    "sm_temp = StanModel(model_code=model_code)"
   ]
  },
  {
   "cell_type": "code",
   "execution_count": 15,
   "id": "acute-postcard",
   "metadata": {},
   "outputs": [
    {
     "name": "stdout",
     "output_type": "stream",
     "text": [
      "1\n"
     ]
    },
    {
     "name": "stderr",
     "output_type": "stream",
     "text": [
      "WARNING:pystan:Maximum (flat) parameter count (1000) exceeded: skipping diagnostic tests for n_eff and Rhat.\n",
      "To run all diagnostics call pystan.check_hmc_diagnostics(fit)\n"
     ]
    },
    {
     "name": "stdout",
     "output_type": "stream",
     "text": [
      "-------------------------------------------------------------------------------\n",
      "1\n",
      "2.9063037007630568\n",
      "-------------------------------------------------------------------------------\n",
      "2\n"
     ]
    },
    {
     "name": "stderr",
     "output_type": "stream",
     "text": [
      "WARNING:pystan:Maximum (flat) parameter count (1000) exceeded: skipping diagnostic tests for n_eff and Rhat.\n",
      "To run all diagnostics call pystan.check_hmc_diagnostics(fit)\n"
     ]
    },
    {
     "name": "stdout",
     "output_type": "stream",
     "text": [
      "-------------------------------------------------------------------------------\n",
      "2\n",
      "2.8721671190442772\n",
      "-------------------------------------------------------------------------------\n",
      "3\n"
     ]
    },
    {
     "name": "stderr",
     "output_type": "stream",
     "text": [
      "WARNING:pystan:Maximum (flat) parameter count (1000) exceeded: skipping diagnostic tests for n_eff and Rhat.\n",
      "To run all diagnostics call pystan.check_hmc_diagnostics(fit)\n",
      "WARNING:pystan:1 of 4000 iterations saturated the maximum tree depth of 10 (0.025 %)\n",
      "WARNING:pystan:Run again with max_treedepth larger than 10 to avoid saturation\n"
     ]
    },
    {
     "name": "stdout",
     "output_type": "stream",
     "text": [
      "-------------------------------------------------------------------------------\n",
      "3\n",
      "2.865806831433381\n",
      "-------------------------------------------------------------------------------\n",
      "4\n"
     ]
    },
    {
     "name": "stderr",
     "output_type": "stream",
     "text": [
      "WARNING:pystan:Maximum (flat) parameter count (1000) exceeded: skipping diagnostic tests for n_eff and Rhat.\n",
      "To run all diagnostics call pystan.check_hmc_diagnostics(fit)\n"
     ]
    },
    {
     "name": "stdout",
     "output_type": "stream",
     "text": [
      "-------------------------------------------------------------------------------\n",
      "4\n",
      "2.871647645932829\n",
      "-------------------------------------------------------------------------------\n",
      "5\n"
     ]
    },
    {
     "name": "stderr",
     "output_type": "stream",
     "text": [
      "WARNING:pystan:Maximum (flat) parameter count (1000) exceeded: skipping diagnostic tests for n_eff and Rhat.\n",
      "To run all diagnostics call pystan.check_hmc_diagnostics(fit)\n"
     ]
    },
    {
     "name": "stdout",
     "output_type": "stream",
     "text": [
      "-------------------------------------------------------------------------------\n",
      "5\n",
      "2.878986643195287\n",
      "-------------------------------------------------------------------------------\n",
      "6\n"
     ]
    },
    {
     "name": "stderr",
     "output_type": "stream",
     "text": [
      "WARNING:pystan:Maximum (flat) parameter count (1000) exceeded: skipping diagnostic tests for n_eff and Rhat.\n",
      "To run all diagnostics call pystan.check_hmc_diagnostics(fit)\n"
     ]
    },
    {
     "name": "stdout",
     "output_type": "stream",
     "text": [
      "-------------------------------------------------------------------------------\n",
      "6\n",
      "2.884619893243235\n",
      "-------------------------------------------------------------------------------\n",
      "7\n"
     ]
    },
    {
     "name": "stderr",
     "output_type": "stream",
     "text": [
      "WARNING:pystan:Maximum (flat) parameter count (1000) exceeded: skipping diagnostic tests for n_eff and Rhat.\n",
      "To run all diagnostics call pystan.check_hmc_diagnostics(fit)\n"
     ]
    },
    {
     "name": "stdout",
     "output_type": "stream",
     "text": [
      "-------------------------------------------------------------------------------\n",
      "7\n",
      "2.8892100631740107\n",
      "-------------------------------------------------------------------------------\n",
      "8\n"
     ]
    },
    {
     "name": "stderr",
     "output_type": "stream",
     "text": [
      "WARNING:pystan:Maximum (flat) parameter count (1000) exceeded: skipping diagnostic tests for n_eff and Rhat.\n",
      "To run all diagnostics call pystan.check_hmc_diagnostics(fit)\n"
     ]
    },
    {
     "name": "stdout",
     "output_type": "stream",
     "text": [
      "-------------------------------------------------------------------------------\n",
      "8\n",
      "2.8965192785828835\n",
      "-------------------------------------------------------------------------------\n",
      "9\n"
     ]
    },
    {
     "name": "stderr",
     "output_type": "stream",
     "text": [
      "WARNING:pystan:Maximum (flat) parameter count (1000) exceeded: skipping diagnostic tests for n_eff and Rhat.\n",
      "To run all diagnostics call pystan.check_hmc_diagnostics(fit)\n"
     ]
    },
    {
     "name": "stdout",
     "output_type": "stream",
     "text": [
      "-------------------------------------------------------------------------------\n",
      "9\n",
      "2.9027013856931365\n",
      "-------------------------------------------------------------------------------\n"
     ]
    }
   ],
   "source": [
    "%%time\n",
    "# this cell loops through models with different number of features\n",
    "WBIC_list = np.zeros((10))\n",
    "\n",
    "for i in range(1, 10):\n",
    "    X = X9.copy()\n",
    "    X = X[:,:i]\n",
    "    print(X.shape[1])\n",
    "    data = {\n",
    "        'n_obs': len(y),\n",
    "        'n_features': X.shape[1],\n",
    "        'y': y,\n",
    "        'X': X,\n",
    "    }\n",
    "    \n",
    "    fit_temp = sm_temp.sampling(data=data, iter=2000, chains=4, verbose =False)\n",
    "    posteriors_temp = fit_temp.extract(permuted=True)\n",
    "    WBIC_v = WBIC(log_p = posteriors_temp['log_p'])\n",
    "    WBIC_list[i-1] = WBIC_v\n",
    "\n",
    "    \n",
    "    print(\"-------------------------------------------------------------------------------\")\n",
    "    print(i)\n",
    "    print(WBIC_v)\n",
    "    print(\"-------------------------------------------------------------------------------\")    "
   ]
  },
  {
   "cell_type": "code",
   "execution_count": 16,
   "id": "alien-austria",
   "metadata": {},
   "outputs": [
    {
     "name": "stdout",
     "output_type": "stream",
     "text": [
      "[2.9063037  2.87216712 2.86580683 2.87164765 2.87898664 2.88461989\n",
      " 2.88921006 2.89651928 2.90270139 0.        ]\n"
     ]
    },
    {
     "data": {
      "text/plain": [
       "[<matplotlib.lines.Line2D at 0x13715f8d0>]"
      ]
     },
     "execution_count": 16,
     "metadata": {},
     "output_type": "execute_result"
    },
    {
     "data": {
      "image/png": "[encoded data removed]",
      "text/plain": [
       "<Figure size 432x288 with 1 Axes>"
      ]
     },
     "metadata": {
      "needs_background": "light"
     },
     "output_type": "display_data"
    }
   ],
   "source": [
    "print(WBIC_list)\n",
    "\n",
    "plt.plot(WBIC_list[0:9])"
   ]
  },
  {
   "cell_type": "markdown",
   "id": "friendly-track",
   "metadata": {},
   "source": [
    "The min WAIC should be for the 3rd itteration"
   ]
  },
  {
   "cell_type": "markdown",
   "id": "magnetic-karen",
   "metadata": {},
   "source": [
    "## Example 3\n",
    "AR order selections"
   ]
  },
  {
   "cell_type": "code",
   "execution_count": 17,
   "id": "recognized-delhi",
   "metadata": {},
   "outputs": [
    {
     "data": {
      "text/plain": [
       "[<matplotlib.lines.Line2D at 0x131fac4d0>]"
      ]
     },
     "execution_count": 17,
     "metadata": {},
     "output_type": "execute_result"
    },
    {
     "data": {
      "image/png": "[encoded data removed]",
      "text/plain": [
       "<Figure size 432x288 with 1 Axes>"
      ]
     },
     "metadata": {
      "needs_background": "light"
     },
     "output_type": "display_data"
    }
   ],
   "source": [
    "# make the data\n",
    "n = 1000\n",
    "eta = np.random.normal(0, 1, n)\n",
    "rho = [0.85, -0.25]\n",
    "y = eta.copy()\n",
    "for i in range(2, n):\n",
    "    y[i] = rho[0]*y[i-1] + rho[1]*y[i-2] + eta[i]\n",
    "\n",
    "#plt.plot(y)\n",
    "plt.plot(y[2:150])"
   ]
  },
  {
   "cell_type": "code",
   "execution_count": 18,
   "id": "theoretical-destruction",
   "metadata": {},
   "outputs": [],
   "source": [
    "data = {\n",
    "    'N': len(y),\n",
    "    'K': 3,\n",
    "    'y': y,\n",
    "}"
   ]
  },
  {
   "cell_type": "code",
   "execution_count": 19,
   "id": "numerical-queens",
   "metadata": {},
   "outputs": [
    {
     "name": "stderr",
     "output_type": "stream",
     "text": [
      "INFO:pystan:COMPILING THE C++ CODE FOR MODEL anon_model_8d13ae140c2fc8f2ef2c5e7dfec0b4b6 NOW.\n"
     ]
    }
   ],
   "source": [
    "model_code = \"\"\"\n",
    "    data {\n",
    "      int<lower=0> K;\n",
    "      int<lower=0> N;\n",
    "      real y[N];\n",
    "    }\n",
    "    parameters {\n",
    "      real<lower=-1,upper=1> rho[K];\n",
    "      real sigma;\n",
    "    }\n",
    "    \n",
    "    \n",
    "    transformed parameters {\n",
    "        vector[N] yhat;\n",
    "        vector[N] log_p;\n",
    "        real watanabe_beta;\n",
    "        watanabe_beta = 1.0/log(N); // the sampling temp  \n",
    "      \n",
    "        for (i in (K+1):N) {\n",
    "            yhat[i] = 0;\n",
    "            for (k in 1:K)\n",
    "              yhat[i] += rho[k] * y[i-k];\n",
    "            log_p[i] = normal_lpdf(y[i]|yhat[i], sigma);\n",
    "            }\n",
    "    }\n",
    "    \n",
    "    \n",
    "    model {\n",
    "      \n",
    "      for (i in (K+1):N) \n",
    "        target += watanabe_beta*log_p[i];\n",
    "      \n",
    "    }\"\"\"\n",
    "AR_K = StanModel(model_code=model_code)"
   ]
  },
  {
   "cell_type": "code",
   "execution_count": 22,
   "id": "consolidated-pricing",
   "metadata": {},
   "outputs": [
    {
     "name": "stderr",
     "output_type": "stream",
     "text": [
      "WARNING:pystan:Maximum (flat) parameter count (1000) exceeded: skipping diagnostic tests for n_eff and Rhat.\n",
      "To run all diagnostics call pystan.check_hmc_diagnostics(fit)\n"
     ]
    },
    {
     "name": "stdout",
     "output_type": "stream",
     "text": [
      "-------------------------------------------------------------------------------\n",
      "1\n",
      "2.8371129975406033\n",
      "-------------------------------------------------------------------------------\n"
     ]
    },
    {
     "name": "stderr",
     "output_type": "stream",
     "text": [
      "WARNING:pystan:Maximum (flat) parameter count (1000) exceeded: skipping diagnostic tests for n_eff and Rhat.\n",
      "To run all diagnostics call pystan.check_hmc_diagnostics(fit)\n"
     ]
    },
    {
     "name": "stdout",
     "output_type": "stream",
     "text": [
      "-------------------------------------------------------------------------------\n",
      "2\n",
      "2.811160989901694\n",
      "-------------------------------------------------------------------------------\n"
     ]
    },
    {
     "name": "stderr",
     "output_type": "stream",
     "text": [
      "WARNING:pystan:Maximum (flat) parameter count (1000) exceeded: skipping diagnostic tests for n_eff and Rhat.\n",
      "To run all diagnostics call pystan.check_hmc_diagnostics(fit)\n"
     ]
    },
    {
     "name": "stdout",
     "output_type": "stream",
     "text": [
      "-------------------------------------------------------------------------------\n",
      "3\n",
      "2.818048357305861\n",
      "-------------------------------------------------------------------------------\n"
     ]
    },
    {
     "name": "stderr",
     "output_type": "stream",
     "text": [
      "WARNING:pystan:Maximum (flat) parameter count (1000) exceeded: skipping diagnostic tests for n_eff and Rhat.\n",
      "To run all diagnostics call pystan.check_hmc_diagnostics(fit)\n"
     ]
    },
    {
     "name": "stdout",
     "output_type": "stream",
     "text": [
      "-------------------------------------------------------------------------------\n",
      "4\n",
      "2.818011002681719\n",
      "-------------------------------------------------------------------------------\n"
     ]
    },
    {
     "name": "stderr",
     "output_type": "stream",
     "text": [
      "WARNING:pystan:Maximum (flat) parameter count (1000) exceeded: skipping diagnostic tests for n_eff and Rhat.\n",
      "To run all diagnostics call pystan.check_hmc_diagnostics(fit)\n"
     ]
    },
    {
     "name": "stdout",
     "output_type": "stream",
     "text": [
      "-------------------------------------------------------------------------------\n",
      "5\n",
      "2.826191345078364\n",
      "-------------------------------------------------------------------------------\n"
     ]
    },
    {
     "name": "stderr",
     "output_type": "stream",
     "text": [
      "WARNING:pystan:Maximum (flat) parameter count (1000) exceeded: skipping diagnostic tests for n_eff and Rhat.\n",
      "To run all diagnostics call pystan.check_hmc_diagnostics(fit)\n"
     ]
    },
    {
     "name": "stdout",
     "output_type": "stream",
     "text": [
      "-------------------------------------------------------------------------------\n",
      "6\n",
      "2.8335337543775094\n",
      "-------------------------------------------------------------------------------\n"
     ]
    },
    {
     "name": "stderr",
     "output_type": "stream",
     "text": [
      "WARNING:pystan:Maximum (flat) parameter count (1000) exceeded: skipping diagnostic tests for n_eff and Rhat.\n",
      "To run all diagnostics call pystan.check_hmc_diagnostics(fit)\n"
     ]
    },
    {
     "name": "stdout",
     "output_type": "stream",
     "text": [
      "-------------------------------------------------------------------------------\n",
      "7\n",
      "2.837301286045876\n",
      "-------------------------------------------------------------------------------\n"
     ]
    },
    {
     "name": "stderr",
     "output_type": "stream",
     "text": [
      "WARNING:pystan:Maximum (flat) parameter count (1000) exceeded: skipping diagnostic tests for n_eff and Rhat.\n",
      "To run all diagnostics call pystan.check_hmc_diagnostics(fit)\n"
     ]
    },
    {
     "name": "stdout",
     "output_type": "stream",
     "text": [
      "-------------------------------------------------------------------------------\n",
      "8\n",
      "2.8422264880424373\n",
      "-------------------------------------------------------------------------------\n"
     ]
    },
    {
     "name": "stderr",
     "output_type": "stream",
     "text": [
      "WARNING:pystan:Maximum (flat) parameter count (1000) exceeded: skipping diagnostic tests for n_eff and Rhat.\n",
      "To run all diagnostics call pystan.check_hmc_diagnostics(fit)\n"
     ]
    },
    {
     "name": "stdout",
     "output_type": "stream",
     "text": [
      "-------------------------------------------------------------------------------\n",
      "9\n",
      "2.8516396717136554\n",
      "-------------------------------------------------------------------------------\n"
     ]
    },
    {
     "name": "stderr",
     "output_type": "stream",
     "text": [
      "WARNING:pystan:Maximum (flat) parameter count (1000) exceeded: skipping diagnostic tests for n_eff and Rhat.\n",
      "To run all diagnostics call pystan.check_hmc_diagnostics(fit)\n"
     ]
    },
    {
     "name": "stdout",
     "output_type": "stream",
     "text": [
      "-------------------------------------------------------------------------------\n",
      "10\n",
      "2.8572050065759296\n",
      "-------------------------------------------------------------------------------\n",
      "CPU times: user 2.48 s, sys: 3.9 s, total: 6.38 s\n",
      "Wall time: 1min 14s\n"
     ]
    }
   ],
   "source": [
    "%%time\n",
    "WBIC_list = np.zeros((10))\n",
    "\n",
    "for k in range(1, 11):\n",
    "    data = {\n",
    "    'N': len(y),\n",
    "    'K': k,\n",
    "    'y': y,\n",
    "    }\n",
    "    fit_AR_K = AR_K.sampling(data=data, iter=2000, chains=4, verbose =False)\n",
    "    posteriors_AR_K = fit_AR_K.extract(permuted=True) \n",
    "    WBIC_v = WBIC(log_p = posteriors_AR_K['log_p'])\n",
    "    WBIC_list[k-1] = WBIC_v\n",
    "\n",
    "    \n",
    "    print(\"-------------------------------------------------------------------------------\")\n",
    "    print(k)\n",
    "    print(WBIC_v)\n",
    "    print(\"-------------------------------------------------------------------------------\")    \n",
    "    "
   ]
  },
  {
   "cell_type": "code",
   "execution_count": 21,
   "id": "raised-palestine",
   "metadata": {},
   "outputs": [
    {
     "name": "stdout",
     "output_type": "stream",
     "text": [
      "[2.83709801 2.81210601 2.81696354 2.81769396 2.82681417 2.83353885\n",
      " 2.83802627 2.84309132 2.84895906 2.85853395]\n"
     ]
    },
    {
     "data": {
      "text/plain": [
       "[<matplotlib.lines.Line2D at 0x131fb88d0>]"
      ]
     },
     "execution_count": 21,
     "metadata": {},
     "output_type": "execute_result"
    },
    {
     "data": {
      "image/png": "[encoded data removed]",
      "text/plain": [
       "<Figure size 432x288 with 1 Axes>"
      ]
     },
     "metadata": {
      "needs_background": "light"
     },
     "output_type": "display_data"
    }
   ],
   "source": [
    "print(WBIC_list)\n",
    "\n",
    "plt.plot(WBIC_list)"
   ]
  },
  {
   "cell_type": "markdown",
   "id": "fancy-edward",
   "metadata": {},
   "source": [
    "The above should show that the 2nd iteration is best "
   ]
  }
 ],
 "metadata": {
  "kernelspec": {
   "display_name": "Python 3",
   "language": "python",
   "name": "python3"
  },
  "language_info": {
   "codemirror_mode": {
    "name": "ipython",
    "version": 3
   },
   "file_extension": ".py",
   "mimetype": "text/x-python",
   "name": "python",
   "nbconvert_exporter": "python",
   "pygments_lexer": "ipython3",
   "version": "3.7.8"
  },
  "toc": {
   "base_numbering": 1,
   "nav_menu": {},
   "number_sections": true,
   "sideBar": true,
   "skip_h1_title": false,
   "title_cell": "Table of Contents",
   "title_sidebar": "Contents",
   "toc_cell": false,
   "toc_position": {},
   "toc_section_display": true,
   "toc_window_display": false
  }
 },
 "nbformat": 4,
 "nbformat_minor": 5
}
