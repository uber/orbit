{
 "cells": [
  {
   "cell_type": "code",
   "execution_count": 1,
   "id": "settled-halloween",
   "metadata": {
    "ExecuteTime": {
     "end_time": "2021-04-09T23:39:46.961857Z",
     "start_time": "2021-04-09T23:39:44.952060Z"
    }
   },
   "outputs": [],
   "source": [
    "import matplotlib.pyplot as plt\n",
    "import pandas as pd\n",
    "import numpy as np\n",
    "import math\n",
    "from scipy import stats\n",
    "from math import pi\n",
    "from scipy.spatial.distance import cdist\n",
    "import time\n",
    "\n",
    "from orbit.models.ktrx import KTRXFull, KTRXAggregated\n",
    "from orbit.models.ktrlite import KTRLiteMAP\n",
    "from orbit.estimators.pyro_estimator import PyroEstimatorVI, PyroEstimatorMAP\n",
    "from orbit.estimators.stan_estimator import StanEstimatorMAP\n",
    "from orbit.diagnostics.metrics import smape\n",
    "from orbit.utils.features import make_fourier_series_df, make_fourier_series\n",
    "from orbit.diagnostics.plot import plot_predicted_data\n",
    "\n",
    "\n",
    "plt.style.use('fivethirtyeight')\n",
    "\n",
    "%load_ext autoreload\n",
    "%autoreload 2"
   ]
  },
  {
   "cell_type": "markdown",
   "id": "veterinary-louis",
   "metadata": {},
   "source": [
    "## DGP"
   ]
  },
  {
   "cell_type": "code",
   "execution_count": 2,
   "id": "executed-label",
   "metadata": {
    "ExecuteTime": {
     "end_time": "2021-04-09T23:39:46.993382Z",
     "start_time": "2021-04-09T23:39:46.964140Z"
    }
   },
   "outputs": [],
   "source": [
    "def sim_data_seasonal(n, RS):\n",
    "    np.random.seed(RS)\n",
    "    # make the time varing coefs  \n",
    "    tau = np.arange(1, n+1)/n\n",
    "    data = pd.DataFrame({\n",
    "        'tau': tau,\n",
    "        'date': pd.date_range(start='1/1/2018', periods=n),\n",
    "        'beta1': 2 * tau,\n",
    "        'beta2': np.sin(2*pi*tau),\n",
    "        'beta3': np.sin(4*pi*(tau-1/8)),\n",
    "        'x1': stats.chi2.rvs(4, size=n),\n",
    "        'x2': stats.t.rvs(2, size=n),\n",
    "        'x3': stats.t.rvs(2, size=n),\n",
    "        'trend': np.cumsum(np.concatenate((np.array([1]), np.random.normal(0, 0.1, n-1)))),\n",
    "        'error': np.random.normal(0, 1, size=n) #0.35 #stats.t.rvs(30, size=n)\n",
    "    })\n",
    "    \n",
    "    # add error to the data \n",
    "    #err_cov = np.exp(-cdist(data.tau.values.reshape(n, -1), data.tau.values.reshape(n, -1), 'euclid')/10)\n",
    "    #L = np.linalg.cholesky(err_cov).T\n",
    "    #data['error2'] = L.dot(stats.chi2.rvs(100, size=n))\n",
    "    \n",
    "    data['y'] = data.x1 * data.beta1 + data.x2 * data.beta2 + data.x3 * data.beta3 + data.error\n",
    "    #data['y2'] = data.x1 * data.beta1 + data.x2 * data.beta2 + data.x3 * data.beta3 + data.error2\n",
    "    #data['y3'] = data.trend + data.x1 * data.beta1 + data.x2 * data.beta2 + data.x3 * data.beta3 + data.error\n",
    "    \n",
    "    return data"
   ]
  },
  {
   "cell_type": "code",
   "execution_count": 3,
   "id": "editorial-positive",
   "metadata": {
    "ExecuteTime": {
     "end_time": "2021-04-09T23:39:47.025352Z",
     "start_time": "2021-04-09T23:39:46.995426Z"
    }
   },
   "outputs": [],
   "source": [
    "def sim_data_rw(n, RS, p=3):\n",
    "    np.random.seed(RS)\n",
    "\n",
    "    # initializing coefficients at zeros, simulate all coefficient values\n",
    "    lev = np.cumsum(np.concatenate((np.array([5.0]), np.random.normal(0, 0.01, n-1))))\n",
    "    beta = np.concatenate(\n",
    "        [np.random.uniform(0.05, 0.12, size=(1,p)),\n",
    "         np.random.normal(0.0, 0.01, size=(n-1,p))], \n",
    "            axis=0)\n",
    "    beta = np.cumsum(beta, 0)\n",
    "\n",
    "    # simulate regressors\n",
    "    covariates = np.random.normal(0, 1, (n, p))\n",
    "\n",
    "    # observation with noise\n",
    "    y = lev + (covariates * beta).sum(-1) + 0.3 * np.random.normal(0, 1, n)\n",
    "\n",
    "    regressor_col = ['x{}'.format(pp) for pp in range(1, p+1)]\n",
    "    data = pd.DataFrame(covariates, columns=regressor_col)\n",
    "    data['y'] = y\n",
    "    data['date'] = pd.date_range(start='1/1/2018', periods=len(y))\n",
    "    \n",
    "    # hack for p = 3 \n",
    "    data['beta1'] = beta[:,0]\n",
    "    data['beta2'] = beta[:,1]\n",
    "    data['beta3'] = beta[:,2]    \n",
    "    \n",
    "    return data"
   ]
  },
  {
   "cell_type": "code",
   "execution_count": 4,
   "id": "fitting-surname",
   "metadata": {
    "ExecuteTime": {
     "end_time": "2021-04-09T23:39:47.072769Z",
     "start_time": "2021-04-09T23:39:47.027065Z"
    }
   },
   "outputs": [
    {
     "data": {
      "text/html": [
       "<div>\n",
       "<style scoped>\n",
       "    .dataframe tbody tr th:only-of-type {\n",
       "        vertical-align: middle;\n",
       "    }\n",
       "\n",
       "    .dataframe tbody tr th {\n",
       "        vertical-align: top;\n",
       "    }\n",
       "\n",
       "    .dataframe thead th {\n",
       "        text-align: right;\n",
       "    }\n",
       "</style>\n",
       "<table border=\"1\" class=\"dataframe\">\n",
       "  <thead>\n",
       "    <tr style=\"text-align: right;\">\n",
       "      <th></th>\n",
       "      <th>tau</th>\n",
       "      <th>date</th>\n",
       "      <th>beta1</th>\n",
       "      <th>beta2</th>\n",
       "      <th>beta3</th>\n",
       "      <th>x1</th>\n",
       "      <th>x2</th>\n",
       "      <th>x3</th>\n",
       "      <th>trend</th>\n",
       "      <th>error</th>\n",
       "      <th>y</th>\n",
       "    </tr>\n",
       "  </thead>\n",
       "  <tbody>\n",
       "    <tr>\n",
       "      <th>0</th>\n",
       "      <td>0.003333</td>\n",
       "      <td>2018-01-01</td>\n",
       "      <td>0.006667</td>\n",
       "      <td>0.020942</td>\n",
       "      <td>-0.999123</td>\n",
       "      <td>2.380312</td>\n",
       "      <td>-0.724116</td>\n",
       "      <td>-2.805017</td>\n",
       "      <td>1.000000</td>\n",
       "      <td>0.884191</td>\n",
       "      <td>3.687451</td>\n",
       "    </tr>\n",
       "    <tr>\n",
       "      <th>1</th>\n",
       "      <td>0.006667</td>\n",
       "      <td>2018-01-02</td>\n",
       "      <td>0.013333</td>\n",
       "      <td>0.041876</td>\n",
       "      <td>-0.996493</td>\n",
       "      <td>3.206075</td>\n",
       "      <td>-0.469831</td>\n",
       "      <td>0.724651</td>\n",
       "      <td>1.057633</td>\n",
       "      <td>0.009109</td>\n",
       "      <td>-0.689927</td>\n",
       "    </tr>\n",
       "    <tr>\n",
       "      <th>2</th>\n",
       "      <td>0.010000</td>\n",
       "      <td>2018-01-03</td>\n",
       "      <td>0.020000</td>\n",
       "      <td>0.062791</td>\n",
       "      <td>-0.992115</td>\n",
       "      <td>3.827392</td>\n",
       "      <td>0.151335</td>\n",
       "      <td>1.925227</td>\n",
       "      <td>0.891878</td>\n",
       "      <td>1.768186</td>\n",
       "      <td>-0.055809</td>\n",
       "    </tr>\n",
       "    <tr>\n",
       "      <th>3</th>\n",
       "      <td>0.013333</td>\n",
       "      <td>2018-01-04</td>\n",
       "      <td>0.026667</td>\n",
       "      <td>0.083678</td>\n",
       "      <td>-0.985996</td>\n",
       "      <td>14.764097</td>\n",
       "      <td>-0.271283</td>\n",
       "      <td>1.550322</td>\n",
       "      <td>0.967232</td>\n",
       "      <td>-1.507611</td>\n",
       "      <td>-2.665214</td>\n",
       "    </tr>\n",
       "    <tr>\n",
       "      <th>4</th>\n",
       "      <td>0.016667</td>\n",
       "      <td>2018-01-05</td>\n",
       "      <td>0.033333</td>\n",
       "      <td>0.104528</td>\n",
       "      <td>-0.978148</td>\n",
       "      <td>1.999616</td>\n",
       "      <td>-0.024061</td>\n",
       "      <td>0.113366</td>\n",
       "      <td>0.869799</td>\n",
       "      <td>-0.181936</td>\n",
       "      <td>-0.228686</td>\n",
       "    </tr>\n",
       "    <tr>\n",
       "      <th>5</th>\n",
       "      <td>0.020000</td>\n",
       "      <td>2018-01-06</td>\n",
       "      <td>0.040000</td>\n",
       "      <td>0.125333</td>\n",
       "      <td>-0.968583</td>\n",
       "      <td>3.583398</td>\n",
       "      <td>-0.559756</td>\n",
       "      <td>-1.477073</td>\n",
       "      <td>0.914509</td>\n",
       "      <td>-0.625022</td>\n",
       "      <td>0.878826</td>\n",
       "    </tr>\n",
       "    <tr>\n",
       "      <th>6</th>\n",
       "      <td>0.023333</td>\n",
       "      <td>2018-01-07</td>\n",
       "      <td>0.046667</td>\n",
       "      <td>0.146083</td>\n",
       "      <td>-0.957319</td>\n",
       "      <td>8.219563</td>\n",
       "      <td>-0.622302</td>\n",
       "      <td>-0.219984</td>\n",
       "      <td>0.818403</td>\n",
       "      <td>0.296977</td>\n",
       "      <td>0.800244</td>\n",
       "    </tr>\n",
       "    <tr>\n",
       "      <th>7</th>\n",
       "      <td>0.026667</td>\n",
       "      <td>2018-01-08</td>\n",
       "      <td>0.053333</td>\n",
       "      <td>0.166769</td>\n",
       "      <td>-0.944376</td>\n",
       "      <td>5.693641</td>\n",
       "      <td>-1.022237</td>\n",
       "      <td>-0.928416</td>\n",
       "      <td>0.764198</td>\n",
       "      <td>0.573434</td>\n",
       "      <td>1.583391</td>\n",
       "    </tr>\n",
       "    <tr>\n",
       "      <th>8</th>\n",
       "      <td>0.030000</td>\n",
       "      <td>2018-01-09</td>\n",
       "      <td>0.060000</td>\n",
       "      <td>0.187381</td>\n",
       "      <td>-0.929776</td>\n",
       "      <td>6.801100</td>\n",
       "      <td>1.463764</td>\n",
       "      <td>-1.764239</td>\n",
       "      <td>1.014435</td>\n",
       "      <td>0.805590</td>\n",
       "      <td>3.128286</td>\n",
       "    </tr>\n",
       "    <tr>\n",
       "      <th>9</th>\n",
       "      <td>0.033333</td>\n",
       "      <td>2018-01-10</td>\n",
       "      <td>0.066667</td>\n",
       "      <td>0.207912</td>\n",
       "      <td>-0.913545</td>\n",
       "      <td>5.710725</td>\n",
       "      <td>0.202612</td>\n",
       "      <td>-0.738096</td>\n",
       "      <td>1.043174</td>\n",
       "      <td>-0.971990</td>\n",
       "      <td>0.125135</td>\n",
       "    </tr>\n",
       "  </tbody>\n",
       "</table>\n",
       "</div>"
      ],
      "text/plain": [
       "        tau       date     beta1     beta2     beta3         x1        x2  \\\n",
       "0  0.003333 2018-01-01  0.006667  0.020942 -0.999123   2.380312 -0.724116   \n",
       "1  0.006667 2018-01-02  0.013333  0.041876 -0.996493   3.206075 -0.469831   \n",
       "2  0.010000 2018-01-03  0.020000  0.062791 -0.992115   3.827392  0.151335   \n",
       "3  0.013333 2018-01-04  0.026667  0.083678 -0.985996  14.764097 -0.271283   \n",
       "4  0.016667 2018-01-05  0.033333  0.104528 -0.978148   1.999616 -0.024061   \n",
       "5  0.020000 2018-01-06  0.040000  0.125333 -0.968583   3.583398 -0.559756   \n",
       "6  0.023333 2018-01-07  0.046667  0.146083 -0.957319   8.219563 -0.622302   \n",
       "7  0.026667 2018-01-08  0.053333  0.166769 -0.944376   5.693641 -1.022237   \n",
       "8  0.030000 2018-01-09  0.060000  0.187381 -0.929776   6.801100  1.463764   \n",
       "9  0.033333 2018-01-10  0.066667  0.207912 -0.913545   5.710725  0.202612   \n",
       "\n",
       "         x3     trend     error         y  \n",
       "0 -2.805017  1.000000  0.884191  3.687451  \n",
       "1  0.724651  1.057633  0.009109 -0.689927  \n",
       "2  1.925227  0.891878  1.768186 -0.055809  \n",
       "3  1.550322  0.967232 -1.507611 -2.665214  \n",
       "4  0.113366  0.869799 -0.181936 -0.228686  \n",
       "5 -1.477073  0.914509 -0.625022  0.878826  \n",
       "6 -0.219984  0.818403  0.296977  0.800244  \n",
       "7 -0.928416  0.764198  0.573434  1.583391  \n",
       "8 -1.764239  1.014435  0.805590  3.128286  \n",
       "9 -0.738096  1.043174 -0.971990  0.125135  "
      ]
     },
     "execution_count": 4,
     "metadata": {},
     "output_type": "execute_result"
    }
   ],
   "source": [
    "data = sim_data_seasonal(n=300, RS=8888) #n=500, 1000\n",
    "# data = sim_data_rw(n=300, RS=8888, p=3)\n",
    "data.head(10)"
   ]
  },
  {
   "cell_type": "markdown",
   "id": "interim-arlington",
   "metadata": {},
   "source": [
    "## KTRX"
   ]
  },
  {
   "cell_type": "code",
   "execution_count": 5,
   "id": "presidential-difficulty",
   "metadata": {
    "ExecuteTime": {
     "end_time": "2021-04-09T23:39:47.381457Z",
     "start_time": "2021-04-09T23:39:47.074457Z"
    }
   },
   "outputs": [],
   "source": [
    "# define stuff \n",
    "regressor_col=['x1', 'x2', 'x3']\n",
    "response_col = 'y'\n",
    "# run the model \n",
    "# run lite first \n",
    "ktr_lite = KTRLiteMAP(\n",
    "    response_col=response_col,\n",
    "    date_col='date',\n",
    "    level_knot_scale=1,\n",
    "    seed=2020,\n",
    "    span_level= .1, \n",
    "    estimator_type=StanEstimatorMAP,\n",
    ")\n",
    "ktr_lite.fit(df=data)\n",
    "\n",
    "level_knot_scale = ktr_lite.level_knot_scale\n",
    "level_knots_stan = ktr_lite._aggregate_posteriors['map']['lev_knot'][0]\n",
    "level_knot_dates = ktr_lite._level_knot_dates\n",
    "level_knots_stan = np.array([0] * len(level_knot_dates))"
   ]
  },
  {
   "cell_type": "code",
   "execution_count": 6,
   "id": "regional-diversity",
   "metadata": {
    "ExecuteTime": {
     "end_time": "2021-04-09T23:40:01.531323Z",
     "start_time": "2021-04-09T23:39:51.176693Z"
    }
   },
   "outputs": [
    {
     "name": "stderr",
     "output_type": "stream",
     "text": [
      "INFO:root:Guessed max_plate_nesting = 1\n"
     ]
    },
    {
     "name": "stdout",
     "output_type": "stream",
     "text": [
      "step    0 loss = 1079, scale = 0.10098\n",
      "step  100 loss = 720.83, scale = 0.35636\n",
      "step  200 loss = 541.38, scale = 0.31131\n",
      "step  300 loss = 531.96, scale = 0.29335\n",
      "step  400 loss = 530.25, scale = 0.30579\n",
      "step  500 loss = 529.35, scale = 0.31704\n",
      "step  600 loss = 527.75, scale = 0.3247\n",
      "step  700 loss = 528.53, scale = 0.33027\n",
      "step  800 loss = 528.89, scale = 0.33231\n",
      "step  900 loss = 528.49, scale = 0.33389\n",
      "CPU times: user 12 s, sys: 545 ms, total: 12.6 s\n",
      "Wall time: 10.3 s\n"
     ]
    }
   ],
   "source": [
    "%%time\n",
    "ktrx1 = KTRXFull(\n",
    "    response_col=response_col,\n",
    "    date_col='date',\n",
    "    level_knot_scale=level_knot_scale,\n",
    "    level_knot_dates=level_knot_dates,\n",
    "    level_knots=level_knots_stan,\n",
    "\n",
    "    regressor_col=regressor_col,\n",
    "    regressor_knot_pooling_loc=[0] * len(regressor_col),\n",
    "    regressor_knot_pooling_scale=[1] * len(regressor_col),\n",
    "    regressor_knot_scale=[.2] * len(regressor_col),\n",
    "\n",
    "    span_coefficients=0.1,\n",
    "    rho_coefficients=0.1, \n",
    "    prediction_percentiles=[2.5, 97.5],\n",
    "    seed=2020,\n",
    "    num_steps=1000,\n",
    "    num_sample=1000,\n",
    "    learning_rate=0.01,\n",
    "    learning_rate_total_decay=1.,\n",
    "    verbose=True,\n",
    "    message=100,\n",
    "    n_bootstrap_draws=-1,\n",
    "    estimator_type=PyroEstimatorVI,\n",
    "    mvn=1\n",
    ")\n",
    "\n",
    "ktrx1.fit(df=data)"
   ]
  },
  {
   "cell_type": "code",
   "execution_count": 7,
   "id": "patent-illinois",
   "metadata": {
    "ExecuteTime": {
     "end_time": "2021-04-09T23:40:11.896816Z",
     "start_time": "2021-04-09T23:40:01.533461Z"
    }
   },
   "outputs": [
    {
     "name": "stderr",
     "output_type": "stream",
     "text": [
      "INFO:root:Guessed max_plate_nesting = 1\n"
     ]
    },
    {
     "name": "stdout",
     "output_type": "stream",
     "text": [
      "step    0 loss = 1051.6, scale = 0.10203\n",
      "step  100 loss = 704.59, scale = 0.36487\n",
      "step  200 loss = 534.43, scale = 0.32178\n",
      "step  300 loss = 528.26, scale = 0.30144\n",
      "step  400 loss = 527.19, scale = 0.31445\n",
      "step  500 loss = 526.82, scale = 0.32225\n",
      "step  600 loss = 526.55, scale = 0.32754\n",
      "step  700 loss = 527.18, scale = 0.33358\n",
      "step  800 loss = 525.6, scale = 0.33617\n",
      "step  900 loss = 524.87, scale = 0.33879\n",
      "CPU times: user 12.1 s, sys: 535 ms, total: 12.7 s\n",
      "Wall time: 10.3 s\n"
     ]
    }
   ],
   "source": [
    "%%time\n",
    "ktrx2 = KTRXFull(\n",
    "    response_col=response_col,\n",
    "    date_col='date',\n",
    "    level_knot_scale=level_knot_scale,\n",
    "    level_knot_dates=level_knot_dates,\n",
    "    level_knots=level_knots_stan,\n",
    "\n",
    "    regressor_col=regressor_col,\n",
    "    regressor_knot_pooling_loc=[0] * len(regressor_col),\n",
    "    regressor_knot_pooling_scale=[1.0] * len(regressor_col),\n",
    "    regressor_knot_scale=[1.0] * len(regressor_col),\n",
    "\n",
    "    span_coefficients=0.1,\n",
    "    rho_coefficients=0.1, \n",
    "    prediction_percentiles=[2.5, 97.5],\n",
    "    seed=2020,\n",
    "    num_steps=1000,\n",
    "    num_sample=1000,\n",
    "    learning_rate=0.01,\n",
    "    learning_rate_total_decay=1.,\n",
    "    verbose=True,\n",
    "    message=100,\n",
    "    n_bootstrap_draws=-1,\n",
    "    estimator_type=PyroEstimatorVI,\n",
    ")\n",
    "\n",
    "ktrx2.fit(df=data)"
   ]
  },
  {
   "cell_type": "code",
   "execution_count": 8,
   "id": "respected-kitchen",
   "metadata": {
    "ExecuteTime": {
     "end_time": "2021-04-09T23:40:11.927395Z",
     "start_time": "2021-04-09T23:40:11.899235Z"
    }
   },
   "outputs": [],
   "source": [
    "idx = 3"
   ]
  },
  {
   "cell_type": "code",
   "execution_count": 9,
   "id": "activated-biography",
   "metadata": {
    "ExecuteTime": {
     "end_time": "2021-04-09T23:40:12.189465Z",
     "start_time": "2021-04-09T23:40:11.929909Z"
    }
   },
   "outputs": [
    {
     "data": {
      "text/plain": [
       "<matplotlib.legend.Legend at 0x140e90e90>"
      ]
     },
     "execution_count": 9,
     "metadata": {},
     "output_type": "execute_result"
    },
    {
     "data": {
      "image/png": "[encoded data removed]",
      "text/plain": [
       "<Figure size 720x216 with 1 Axes>"
      ]
     },
     "metadata": {},
     "output_type": "display_data"
    }
   ],
   "source": [
    "coef_mid, coef_lower, coef_upper  = ktrx1.get_regression_coefs(include_ci=True)\n",
    "x = np.arange(coef_mid.shape[0])\n",
    "plt.figure(figsize=(10, 3))\n",
    "plt.plot(x, coef_mid['x{}'.format(idx)], label='mvn')\n",
    "plt.fill_between(x, coef_lower['x{}'.format(idx)], coef_upper['x{}'.format(idx)], label='mvn', alpha=0.5)\n",
    "plt.plot(data['beta{}'.format(idx)], label='truth')\n",
    "plt.legend()"
   ]
  },
  {
   "cell_type": "code",
   "execution_count": 10,
   "id": "tested-creation",
   "metadata": {
    "ExecuteTime": {
     "end_time": "2021-04-09T23:40:12.453822Z",
     "start_time": "2021-04-09T23:40:12.191184Z"
    }
   },
   "outputs": [
    {
     "data": {
      "text/plain": [
       "<matplotlib.legend.Legend at 0x140fc3fd0>"
      ]
     },
     "execution_count": 10,
     "metadata": {},
     "output_type": "execute_result"
    },
    {
     "data": {
      "image/png": "[encoded data removed]",
      "text/plain": [
       "<Figure size 720x216 with 1 Axes>"
      ]
     },
     "metadata": {},
     "output_type": "display_data"
    }
   ],
   "source": [
    "coef_mid, coef_lower, coef_upper  = ktrx2.get_regression_coefs(include_ci=True)\n",
    "x = np.arange(coef_mid.shape[0])\n",
    "plt.figure(figsize=(10, 3))\n",
    "plt.plot(x, coef_mid['x{}'.format(idx)], label='original')\n",
    "plt.fill_between(x, coef_lower['x{}'.format(idx)], coef_upper['x{}'.format(idx)], label='original', alpha=0.5)\n",
    "plt.plot(data['beta{}'.format(idx)], label='truth')\n",
    "plt.legend()"
   ]
  },
  {
   "cell_type": "markdown",
   "id": "original-omaha",
   "metadata": {},
   "source": [
    "## Multiple test"
   ]
  },
  {
   "cell_type": "code",
   "execution_count": 11,
   "id": "effective-arkansas",
   "metadata": {
    "ExecuteTime": {
     "end_time": "2021-04-09T23:40:44.518318Z",
     "start_time": "2021-04-09T23:40:44.470379Z"
    }
   },
   "outputs": [],
   "source": [
    "def multiple_test(N, n, sim_type):\n",
    "    out = pd.DataFrame()\n",
    "    out['index'] = range(0, N)\n",
    "    # for hte model fit \n",
    "    out['time_1'] = 0.0\n",
    "    out['time_2'] = 0.0\n",
    "    \n",
    "    out['SSE_1'] = 0.0\n",
    "    out['SSE_2'] = 0.0\n",
    "    out['RMSE_1'] = 0.0\n",
    "    out['RMSE_2'] = 0.0\n",
    "    out['max_error_1'] = 0.0\n",
    "    out['max_error_2'] = 0.0\n",
    "    \n",
    "    # for the true values \n",
    "    out['SSE_beta1_1'] = 0.0\n",
    "    out['SSE_beta1_2'] = 0.0 \n",
    "    out['SSE_beta2_1'] = 0.0   \n",
    "    out['SSE_beta2_2'] = 0.0\n",
    "    out['SSE_beta3_1'] = 0.0\n",
    "    out['SSE_beta3_2'] = 0.0\n",
    "\n",
    "    \n",
    "    for i in range(0, N):\n",
    "        # simulate the data \n",
    "        if sim_type == 'sea':\n",
    "            data = sim_data_seasonal(n = n, RS = 1000+i)\n",
    "       \n",
    "        if sim_type == 'rw':\n",
    "            data = sim_data_rw(n = n, RS = 1000+i, p=3)    \n",
    "    \n",
    "        #print(data.head())\n",
    "    \n",
    "        # define stuff \n",
    "        regressor_col=['x1', 'x2', 'x3']\n",
    "        response_col = 'y'\n",
    "        # run the model \n",
    "        # run lite first \n",
    "        ktr_lite = KTRLiteMAP(\n",
    "            response_col=response_col,\n",
    "            date_col='date',\n",
    "            level_knot_scale=1,\n",
    "            seed=2000+i,\n",
    "            span_level= .1, \n",
    "            estimator_type=StanEstimatorMAP,\n",
    "        )\n",
    "        ktr_lite.fit(df=data)\n",
    "        level_knot_scale = ktr_lite.level_knot_scale\n",
    "        level_knots_stan = ktr_lite._aggregate_posteriors['map']['lev_knot'][0]\n",
    "        level_knot_dates = ktr_lite._level_knot_dates\n",
    "        level_knots_stan = np.array([0] * len(level_knot_dates))\n",
    "        \n",
    "        ktrx1 = KTRXFull(\n",
    "            response_col=response_col,\n",
    "            date_col='date',\n",
    "\n",
    "            degree_of_freedom=30,\n",
    "            level_knot_scale=level_knot_scale,\n",
    "            level_knot_dates=level_knot_dates,\n",
    "            level_knots=level_knots_stan,\n",
    "\n",
    "            regressor_col=regressor_col,\n",
    "            regressor_knot_pooling_loc=[0] * len(regressor_col),\n",
    "            regressor_knot_pooling_scale=[1] * len(regressor_col),\n",
    "#             regressor_knot_scale=[1.0] * len(regressor_col),\n",
    "\n",
    "            span_coefficients=0.1,\n",
    "            rho_coefficients=0.1, \n",
    "            prediction_percentiles=[2.5, 97.5],\n",
    "            seed=2000+i,\n",
    "            num_steps=1000,\n",
    "            num_sample=3000,\n",
    "            verbose=False,\n",
    "            message=100,\n",
    "            n_bootstrap_draws=-1,\n",
    "            estimator_type=PyroEstimatorVI,\n",
    "            mvn=1\n",
    "        )\n",
    "\n",
    "        ktrx2 = KTRXFull(\n",
    "            response_col=response_col,\n",
    "            date_col='date',\n",
    "\n",
    "            degree_of_freedom=30,\n",
    "            level_knot_scale=level_knot_scale,\n",
    "            level_knot_dates=level_knot_dates,\n",
    "            level_knots=level_knots_stan,\n",
    "\n",
    "            regressor_col=regressor_col,\n",
    "            regressor_knot_pooling_loc=[0] * len(regressor_col),\n",
    "            regressor_knot_pooling_scale=[1] * len(regressor_col),\n",
    "            regressor_knot_scale=[1.0] * len(regressor_col),\n",
    "\n",
    "            span_coefficients=0.1,\n",
    "            rho_coefficients=0.1, \n",
    "            prediction_percentiles=[2.5, 97.5],\n",
    "            seed=2000+i,\n",
    "            num_steps=1000,\n",
    "            num_sample=3000,\n",
    "            verbose=False,\n",
    "            message=100,\n",
    "            n_bootstrap_draws=-1,\n",
    "            estimator_type=PyroEstimatorVI,\n",
    "        )\n",
    "        \n",
    "        # fit the models and recod the times\n",
    "        start_time = time.time()\n",
    "        ktrx1.fit(df=data)\n",
    "        time_1 = time.time() - start_time\n",
    "        \n",
    "        start_time = time.time()\n",
    "        ktrx2.fit(df=data)\n",
    "        time_2 = time.time() - start_time\n",
    "        \n",
    "        # get the predictions \n",
    "        predicted_df_1 = ktrx1.predict(df=data)\n",
    "        predicted_df_2 = ktrx2.predict(df=data)\n",
    "            \n",
    "        # compare to observations  \n",
    "        SSE_1 = sum((predicted_df_1['prediction'] - data['y'])**2.0 )\n",
    "        SSE_2 = sum((predicted_df_2['prediction'] - data['y'])**2.0 )\n",
    "        \n",
    "        max_misfit_1 = max(abs(predicted_df_1['prediction'] - data['y']) )\n",
    "        max_misfit_2 = max(abs(predicted_df_2['prediction'] - data['y']) )\n",
    "    \n",
    "        out.at[i, 'time_1'] = time_1 \n",
    "        out.at[i, 'time_2'] = time_2 \n",
    "    \n",
    "        out.at[i, 'SSE_1'] = SSE_1 \n",
    "        out.at[i, 'SSE_2'] = SSE_2 \n",
    "        \n",
    "        out.at[i, 'RMSE_1'] = (SSE_1/n)**(0.5) \n",
    "        out.at[i, 'RMSE_2'] = (SSE_2/n)**(0.5) \n",
    "        \n",
    "        \n",
    "        out.at[i, 'max_error_1'] = max_misfit_1\n",
    "        out.at[i, 'max_error_2'] = max_misfit_2\n",
    "        \n",
    "        #compare to true values \n",
    "        coef_df_1= ktrx1.get_regression_coefs(\n",
    "        aggregate_method='median',\n",
    "        include_ci=False)\n",
    "        \n",
    "        coef_df_2= ktrx2.get_regression_coefs(\n",
    "        aggregate_method='median',\n",
    "        include_ci=False)\n",
    "        \n",
    "        SSE_beta1_1 = sum((coef_df_1['x1']-data['beta1'])**2.0)\n",
    "        SSE_beta2_1 = sum((coef_df_1['x2']-data['beta2'])**2.0)\n",
    "        SSE_beta3_1 = sum((coef_df_1['x3']-data['beta3'])**2.0)\n",
    "        SSE_beta1_2 = sum((coef_df_2['x1']-data['beta1'])**2.0)\n",
    "        SSE_beta2_2 = sum((coef_df_2['x2']-data['beta2'])**2.0)\n",
    "        SSE_beta3_2 = sum((coef_df_2['x3']-data['beta3'])**2.0)    \n",
    "        \n",
    "        out.at[i,'SSE_beta1_1'] = SSE_beta1_1\n",
    "        out.at[i,'SSE_beta2_1'] = SSE_beta2_1\n",
    "        out.at[i,'SSE_beta3_1'] = SSE_beta3_1\n",
    "        out.at[i,'SSE_beta1_2'] = SSE_beta1_2\n",
    "        out.at[i,'SSE_beta2_2'] = SSE_beta2_2\n",
    "        out.at[i,'SSE_beta3_2'] = SSE_beta3_2\n",
    "        \n",
    "    return out\n"
   ]
  },
  {
   "cell_type": "code",
   "execution_count": 12,
   "id": "attached-prompt",
   "metadata": {
    "ExecuteTime": {
     "end_time": "2021-04-09T23:41:27.318267Z",
     "start_time": "2021-04-09T23:40:45.484490Z"
    }
   },
   "outputs": [
    {
     "name": "stderr",
     "output_type": "stream",
     "text": [
      "INFO:root:Guessed max_plate_nesting = 1\n",
      "INFO:root:Guessed max_plate_nesting = 1\n",
      "INFO:root:Guessed max_plate_nesting = 1\n",
      "INFO:root:Guessed max_plate_nesting = 1\n"
     ]
    }
   ],
   "source": [
    "out = multiple_test(N=2, n=300, sim_type='sea')"
   ]
  },
  {
   "cell_type": "code",
   "execution_count": 13,
   "id": "continent-margin",
   "metadata": {
    "ExecuteTime": {
     "end_time": "2021-04-09T23:41:37.437133Z",
     "start_time": "2021-04-09T23:41:37.399501Z"
    }
   },
   "outputs": [
    {
     "data": {
      "text/html": [
       "<div>\n",
       "<style scoped>\n",
       "    .dataframe tbody tr th:only-of-type {\n",
       "        vertical-align: middle;\n",
       "    }\n",
       "\n",
       "    .dataframe tbody tr th {\n",
       "        vertical-align: top;\n",
       "    }\n",
       "\n",
       "    .dataframe thead th {\n",
       "        text-align: right;\n",
       "    }\n",
       "</style>\n",
       "<table border=\"1\" class=\"dataframe\">\n",
       "  <thead>\n",
       "    <tr style=\"text-align: right;\">\n",
       "      <th></th>\n",
       "      <th>index</th>\n",
       "      <th>time_1</th>\n",
       "      <th>time_2</th>\n",
       "      <th>SSE_1</th>\n",
       "      <th>SSE_2</th>\n",
       "      <th>RMSE_1</th>\n",
       "      <th>RMSE_2</th>\n",
       "      <th>max_error_1</th>\n",
       "      <th>max_error_2</th>\n",
       "      <th>SSE_beta1_1</th>\n",
       "      <th>SSE_beta1_2</th>\n",
       "      <th>SSE_beta2_1</th>\n",
       "      <th>SSE_beta2_2</th>\n",
       "      <th>SSE_beta3_1</th>\n",
       "      <th>SSE_beta3_2</th>\n",
       "    </tr>\n",
       "  </thead>\n",
       "  <tbody>\n",
       "    <tr>\n",
       "      <th>0</th>\n",
       "      <td>0</td>\n",
       "      <td>10.203903</td>\n",
       "      <td>10.784278</td>\n",
       "      <td>263.983829</td>\n",
       "      <td>264.119228</td>\n",
       "      <td>0.938054</td>\n",
       "      <td>0.938295</td>\n",
       "      <td>2.688281</td>\n",
       "      <td>2.683877</td>\n",
       "      <td>1.585703</td>\n",
       "      <td>1.649598</td>\n",
       "      <td>1.637195</td>\n",
       "      <td>1.699545</td>\n",
       "      <td>1.107970</td>\n",
       "      <td>1.206316</td>\n",
       "    </tr>\n",
       "    <tr>\n",
       "      <th>1</th>\n",
       "      <td>1</td>\n",
       "      <td>9.699779</td>\n",
       "      <td>9.865068</td>\n",
       "      <td>282.864312</td>\n",
       "      <td>305.500343</td>\n",
       "      <td>0.971021</td>\n",
       "      <td>1.009126</td>\n",
       "      <td>2.398460</td>\n",
       "      <td>5.124818</td>\n",
       "      <td>0.733615</td>\n",
       "      <td>0.723862</td>\n",
       "      <td>3.669535</td>\n",
       "      <td>4.097814</td>\n",
       "      <td>2.944355</td>\n",
       "      <td>2.109413</td>\n",
       "    </tr>\n",
       "  </tbody>\n",
       "</table>\n",
       "</div>"
      ],
      "text/plain": [
       "   index     time_1     time_2       SSE_1       SSE_2    RMSE_1    RMSE_2  \\\n",
       "0      0  10.203903  10.784278  263.983829  264.119228  0.938054  0.938295   \n",
       "1      1   9.699779   9.865068  282.864312  305.500343  0.971021  1.009126   \n",
       "\n",
       "   max_error_1  max_error_2  SSE_beta1_1  SSE_beta1_2  SSE_beta2_1  \\\n",
       "0     2.688281     2.683877     1.585703     1.649598     1.637195   \n",
       "1     2.398460     5.124818     0.733615     0.723862     3.669535   \n",
       "\n",
       "   SSE_beta2_2  SSE_beta3_1  SSE_beta3_2  \n",
       "0     1.699545     1.107970     1.206316  \n",
       "1     4.097814     2.944355     2.109413  "
      ]
     },
     "execution_count": 13,
     "metadata": {},
     "output_type": "execute_result"
    }
   ],
   "source": [
    "out"
   ]
  },
  {
   "cell_type": "code",
   "execution_count": null,
   "id": "subjective-childhood",
   "metadata": {},
   "outputs": [],
   "source": [
    "multiple_test(N=3, n=300, sim_type='rw')"
   ]
  }
 ],
 "metadata": {
  "kernelspec": {
   "display_name": "Python 3",
   "language": "python",
   "name": "python3"
  },
  "language_info": {
   "codemirror_mode": {
    "name": "ipython",
    "version": 3
   },
   "file_extension": ".py",
   "mimetype": "text/x-python",
   "name": "python",
   "nbconvert_exporter": "python",
   "pygments_lexer": "ipython3",
   "version": "3.7.8"
  },
  "toc": {
   "base_numbering": 1,
   "nav_menu": {},
   "number_sections": true,
   "sideBar": true,
   "skip_h1_title": false,
   "title_cell": "Table of Contents",
   "title_sidebar": "Contents",
   "toc_cell": false,
   "toc_position": {},
   "toc_section_display": true,
   "toc_window_display": true
  }
 },
 "nbformat": 4,
 "nbformat_minor": 5
}
