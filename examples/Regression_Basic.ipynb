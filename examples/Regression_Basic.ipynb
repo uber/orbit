{
 "cells": [
  {
   "cell_type": "markdown",
   "metadata": {},
   "source": [
    "# Regression with Orbit - Basic"
   ]
  },
  {
   "cell_type": "markdown",
   "metadata": {},
   "source": [
    "In this demo, we want to demonstartate how to use the different arguments in the model classes (LGT or DLT) to realize different setups for the regressors. Those could be very useful in practice when tuning the models."
   ]
  },
  {
   "cell_type": "code",
   "execution_count": 1,
   "metadata": {
    "ExecuteTime": {
     "end_time": "2020-11-04T22:09:15.265599Z",
     "start_time": "2020-11-04T22:09:13.494962Z"
    }
   },
   "outputs": [],
   "source": [
    "import pandas as pd\n",
    "import numpy as np\n",
    "from orbit.models.lgt import LGTMAP, LGTAggregated, LGTFull\n",
    "from orbit.models.dlt import DLTMAP, DLTAggregated, DLTFull\n",
    "from orbit.diagnostics.plot import plot_predicted_data\n",
    "from orbit.diagnostics.plot import plot_predicted_components\n",
    "from orbit.utils.dataset import load_iclaims"
   ]
  },
  {
   "cell_type": "markdown",
   "metadata": {},
   "source": [
    "## load data"
   ]
  },
  {
   "cell_type": "code",
   "execution_count": 2,
   "metadata": {
    "ExecuteTime": {
     "end_time": "2020-11-04T22:09:26.309833Z",
     "start_time": "2020-11-04T22:09:26.138883Z"
    }
   },
   "outputs": [
    {
     "data": {
      "text/plain": [
       "week              datetime64[ns]\n",
       "claims                     int64\n",
       "trend.unemploy           float64\n",
       "trend.filling            float64\n",
       "trend.job                float64\n",
       "dtype: object"
      ]
     },
     "execution_count": 2,
     "metadata": {},
     "output_type": "execute_result"
    }
   ],
   "source": [
    "raw_df = load_iclaims()\n",
    "raw_df.dtypes"
   ]
  },
  {
   "cell_type": "code",
   "execution_count": 3,
   "metadata": {
    "ExecuteTime": {
     "end_time": "2020-11-04T22:09:27.647881Z",
     "start_time": "2020-11-04T22:09:27.636685Z"
    }
   },
   "outputs": [
    {
     "data": {
      "text/html": [
       "<div>\n",
       "<style scoped>\n",
       "    .dataframe tbody tr th:only-of-type {\n",
       "        vertical-align: middle;\n",
       "    }\n",
       "\n",
       "    .dataframe tbody tr th {\n",
       "        vertical-align: top;\n",
       "    }\n",
       "\n",
       "    .dataframe thead th {\n",
       "        text-align: right;\n",
       "    }\n",
       "</style>\n",
       "<table border=\"1\" class=\"dataframe\">\n",
       "  <thead>\n",
       "    <tr style=\"text-align: right;\">\n",
       "      <th></th>\n",
       "      <th>week</th>\n",
       "      <th>claims</th>\n",
       "      <th>trend.unemploy</th>\n",
       "      <th>trend.filling</th>\n",
       "      <th>trend.job</th>\n",
       "    </tr>\n",
       "  </thead>\n",
       "  <tbody>\n",
       "    <tr>\n",
       "      <th>0</th>\n",
       "      <td>2010-01-03</td>\n",
       "      <td>651215</td>\n",
       "      <td>1.183973</td>\n",
       "      <td>0.720140</td>\n",
       "      <td>1.119669</td>\n",
       "    </tr>\n",
       "    <tr>\n",
       "      <th>1</th>\n",
       "      <td>2010-01-10</td>\n",
       "      <td>825891</td>\n",
       "      <td>1.183973</td>\n",
       "      <td>0.814896</td>\n",
       "      <td>1.178599</td>\n",
       "    </tr>\n",
       "    <tr>\n",
       "      <th>2</th>\n",
       "      <td>2010-01-17</td>\n",
       "      <td>659173</td>\n",
       "      <td>1.203382</td>\n",
       "      <td>0.739091</td>\n",
       "      <td>1.119669</td>\n",
       "    </tr>\n",
       "    <tr>\n",
       "      <th>3</th>\n",
       "      <td>2010-01-24</td>\n",
       "      <td>507651</td>\n",
       "      <td>1.164564</td>\n",
       "      <td>0.814896</td>\n",
       "      <td>1.107883</td>\n",
       "    </tr>\n",
       "    <tr>\n",
       "      <th>4</th>\n",
       "      <td>2010-01-31</td>\n",
       "      <td>538617</td>\n",
       "      <td>1.086926</td>\n",
       "      <td>0.776993</td>\n",
       "      <td>1.072525</td>\n",
       "    </tr>\n",
       "  </tbody>\n",
       "</table>\n",
       "</div>"
      ],
      "text/plain": [
       "        week  claims  trend.unemploy  trend.filling  trend.job\n",
       "0 2010-01-03  651215        1.183973       0.720140   1.119669\n",
       "1 2010-01-10  825891        1.183973       0.814896   1.178599\n",
       "2 2010-01-17  659173        1.203382       0.739091   1.119669\n",
       "3 2010-01-24  507651        1.164564       0.814896   1.107883\n",
       "4 2010-01-31  538617        1.086926       0.776993   1.072525"
      ]
     },
     "execution_count": 3,
     "metadata": {},
     "output_type": "execute_result"
    }
   ],
   "source": [
    "raw_df.head(5)"
   ]
  },
  {
   "cell_type": "code",
   "execution_count": 4,
   "metadata": {
    "ExecuteTime": {
     "end_time": "2020-11-04T22:09:28.778256Z",
     "start_time": "2020-11-04T22:09:28.771024Z"
    }
   },
   "outputs": [],
   "source": [
    "df=raw_df.copy()"
   ]
  },
  {
   "cell_type": "markdown",
   "metadata": {},
   "source": [
    "## Use regressors and specify their signs"
   ]
  },
  {
   "cell_type": "markdown",
   "metadata": {},
   "source": [
    "The regressor columns can be supplied via argument `regressor_col`. Their signs can be specified via `regressor_sign`, with values either '=' (regular, no restriction) or '+' (positive). These two lists should be of the same lenght. The default values of `regressor_sign` is all '='."
   ]
  },
  {
   "cell_type": "markdown",
   "metadata": {},
   "source": [
    "Also, note that in general, a better performance can be acheived in regressions with `infer_method=mcmc` due to potential high dimensional distributions of parameters. We will use `mcmc` as sample method in following examples."
   ]
  },
  {
   "cell_type": "code",
   "execution_count": 6,
   "metadata": {
    "ExecuteTime": {
     "end_time": "2020-10-16T01:23:11.312147Z",
     "start_time": "2020-10-16T01:23:11.309118Z"
    }
   },
   "outputs": [],
   "source": [
    "DATE_COL=\"week\"\n",
    "RESPONSE_COL=\"claims\"\n",
    "REGRESSOR_COL=['trend.unemploy', 'trend.filling', 'trend.job']"
   ]
  },
  {
   "cell_type": "code",
   "execution_count": 7,
   "metadata": {
    "ExecuteTime": {
     "end_time": "2020-10-16T01:23:20.538380Z",
     "start_time": "2020-10-16T01:23:11.689658Z"
    }
   },
   "outputs": [
    {
     "name": "stderr",
     "output_type": "stream",
     "text": [
      "WARNING:pystan:Maximum (flat) parameter count (1000) exceeded: skipping diagnostic tests for n_eff and Rhat.\n",
      "To run all diagnostics call pystan.check_hmc_diagnostics(fit)\n",
      "WARNING:pystan:4 of 100 iterations ended with a divergence (4 %).\n",
      "WARNING:pystan:Try running with adapt_delta larger than 0.8 to remove the divergences.\n"
     ]
    }
   ],
   "source": [
    "lgt_mod=LGTAggregated(\n",
    "    response_col=RESPONSE_COL,\n",
    "    date_col=DATE_COL,\n",
    "    regressor_col=REGRESSOR_COL,\n",
    "    regressor_sign=[\"+\", '+', '='], \n",
    "    seasonality=52,\n",
    "    seed=1,\n",
    ")\n",
    "lgt_mod.fit(df=df)"
   ]
  },
  {
   "cell_type": "markdown",
   "metadata": {},
   "source": [
    "The estimated regressor coefficients can be retrieved via `.aggregated_posteriors`."
   ]
  },
  {
   "cell_type": "code",
   "execution_count": 8,
   "metadata": {
    "ExecuteTime": {
     "end_time": "2020-10-16T01:23:20.754218Z",
     "start_time": "2020-10-16T01:23:20.740325Z"
    }
   },
   "outputs": [
    {
     "data": {
      "text/html": [
       "<div>\n",
       "<style scoped>\n",
       "    .dataframe tbody tr th:only-of-type {\n",
       "        vertical-align: middle;\n",
       "    }\n",
       "\n",
       "    .dataframe tbody tr th {\n",
       "        vertical-align: top;\n",
       "    }\n",
       "\n",
       "    .dataframe thead th {\n",
       "        text-align: right;\n",
       "    }\n",
       "</style>\n",
       "<table border=\"1\" class=\"dataframe\">\n",
       "  <thead>\n",
       "    <tr style=\"text-align: right;\">\n",
       "      <th></th>\n",
       "      <th>regressor</th>\n",
       "      <th>regressor_sign</th>\n",
       "      <th>coefficient</th>\n",
       "    </tr>\n",
       "  </thead>\n",
       "  <tbody>\n",
       "    <tr>\n",
       "      <th>0</th>\n",
       "      <td>trend.unemploy</td>\n",
       "      <td>Positive</td>\n",
       "      <td>0.053995</td>\n",
       "    </tr>\n",
       "    <tr>\n",
       "      <th>1</th>\n",
       "      <td>trend.filling</td>\n",
       "      <td>Positive</td>\n",
       "      <td>0.076244</td>\n",
       "    </tr>\n",
       "    <tr>\n",
       "      <th>2</th>\n",
       "      <td>trend.job</td>\n",
       "      <td>Regular</td>\n",
       "      <td>-0.070255</td>\n",
       "    </tr>\n",
       "  </tbody>\n",
       "</table>\n",
       "</div>"
      ],
      "text/plain": [
       "        regressor regressor_sign  coefficient\n",
       "0  trend.unemploy       Positive     0.053995\n",
       "1   trend.filling       Positive     0.076244\n",
       "2       trend.job        Regular    -0.070255"
      ]
     },
     "execution_count": 8,
     "metadata": {},
     "output_type": "execute_result"
    }
   ],
   "source": [
    "lgt_mod.get_regression_coefs()"
   ]
  },
  {
   "cell_type": "markdown",
   "metadata": {},
   "source": [
    "## Adjust pirors for regressor beta and regressor standard deviation"
   ]
  },
  {
   "cell_type": "markdown",
   "metadata": {},
   "source": [
    "In the model, it is assumed $$\\beta \\sim Gaussian(\\beta_{prior}, \\sigma_{prior})$$\n",
    "\n",
    "The default values for $\\beta_{prior}$ and $\\sigma_{prior}$ are 0 and 1, respectively.\n",
    "\n",
    "Users could adjust them via arguments `regressor_beta_prior` and `regressor_sigma_prior`. These two lists should be of the same lenght as `regressor_col`."
   ]
  },
  {
   "cell_type": "code",
   "execution_count": 10,
   "metadata": {
    "ExecuteTime": {
     "end_time": "2020-10-16T01:23:29.509328Z",
     "start_time": "2020-10-16T01:23:29.505092Z"
    }
   },
   "outputs": [],
   "source": [
    "lgt_mod=LGTAggregated(\n",
    "    response_col=RESPONSE_COL,\n",
    "    date_col=DATE_COL,\n",
    "    regressor_col=REGRESSOR_COL,\n",
    "    regressor_sign=[\"+\", '+', '='], \n",
    "    regressor_beta_prior=[0.05, 0.05, 0],\n",
    "    regressor_sigma_prior=[0.1, 0.1, 0.1],\n",
    "    seasonality=52,\n",
    "    seed=1,\n",
    ")"
   ]
  },
  {
   "cell_type": "code",
   "execution_count": 11,
   "metadata": {
    "ExecuteTime": {
     "end_time": "2020-10-16T01:23:37.659250Z",
     "start_time": "2020-10-16T01:23:30.673927Z"
    }
   },
   "outputs": [
    {
     "name": "stderr",
     "output_type": "stream",
     "text": [
      "WARNING:pystan:Maximum (flat) parameter count (1000) exceeded: skipping diagnostic tests for n_eff and Rhat.\n",
      "To run all diagnostics call pystan.check_hmc_diagnostics(fit)\n"
     ]
    }
   ],
   "source": [
    "lgt_mod.fit(df=df)"
   ]
  },
  {
   "cell_type": "markdown",
   "metadata": {},
   "source": [
    "One can notice the significant changes in the estimted coefficients by using different priors."
   ]
  },
  {
   "cell_type": "code",
   "execution_count": 12,
   "metadata": {
    "ExecuteTime": {
     "end_time": "2020-10-16T01:23:37.675232Z",
     "start_time": "2020-10-16T01:23:37.661802Z"
    }
   },
   "outputs": [
    {
     "data": {
      "text/html": [
       "<div>\n",
       "<style scoped>\n",
       "    .dataframe tbody tr th:only-of-type {\n",
       "        vertical-align: middle;\n",
       "    }\n",
       "\n",
       "    .dataframe tbody tr th {\n",
       "        vertical-align: top;\n",
       "    }\n",
       "\n",
       "    .dataframe thead th {\n",
       "        text-align: right;\n",
       "    }\n",
       "</style>\n",
       "<table border=\"1\" class=\"dataframe\">\n",
       "  <thead>\n",
       "    <tr style=\"text-align: right;\">\n",
       "      <th></th>\n",
       "      <th>regressor</th>\n",
       "      <th>regressor_sign</th>\n",
       "      <th>coefficient</th>\n",
       "    </tr>\n",
       "  </thead>\n",
       "  <tbody>\n",
       "    <tr>\n",
       "      <th>0</th>\n",
       "      <td>trend.unemploy</td>\n",
       "      <td>Positive</td>\n",
       "      <td>0.047974</td>\n",
       "    </tr>\n",
       "    <tr>\n",
       "      <th>1</th>\n",
       "      <td>trend.filling</td>\n",
       "      <td>Positive</td>\n",
       "      <td>0.058503</td>\n",
       "    </tr>\n",
       "    <tr>\n",
       "      <th>2</th>\n",
       "      <td>trend.job</td>\n",
       "      <td>Regular</td>\n",
       "      <td>-0.044079</td>\n",
       "    </tr>\n",
       "  </tbody>\n",
       "</table>\n",
       "</div>"
      ],
      "text/plain": [
       "        regressor regressor_sign  coefficient\n",
       "0  trend.unemploy       Positive     0.047974\n",
       "1   trend.filling       Positive     0.058503\n",
       "2       trend.job        Regular    -0.044079"
      ]
     },
     "execution_count": 12,
     "metadata": {},
     "output_type": "execute_result"
    }
   ],
   "source": [
    "lgt_mod.get_regression_coefs()"
   ]
  },
  {
   "cell_type": "markdown",
   "metadata": {},
   "source": [
    "## Use data-driven sigma for each coefficients"
   ]
  },
  {
   "cell_type": "markdown",
   "metadata": {},
   "source": [
    "Instead of using fixed standard deviations for regressors, a hyperprior can be assigned to them, i.e.\n",
    "$$\\sigma_\\beta \\sim \\text{Half-Cauchy}(0, \\text{ridge_scale})$$\n",
    "\n",
    "This can be done by setting `regression_penalty=\"auto_ridge\"`.  Notice there is hyperprior `auto_ridge_scale` for tuning with a default of `0.5`."
   ]
  },
  {
   "cell_type": "code",
   "execution_count": 13,
   "metadata": {
    "ExecuteTime": {
     "end_time": "2020-10-16T01:23:55.107874Z",
     "start_time": "2020-10-16T01:23:44.748845Z"
    }
   },
   "outputs": [
    {
     "name": "stderr",
     "output_type": "stream",
     "text": [
      "WARNING:pystan:Maximum (flat) parameter count (1000) exceeded: skipping diagnostic tests for n_eff and Rhat.\n",
      "To run all diagnostics call pystan.check_hmc_diagnostics(fit)\n",
      "WARNING:pystan:3 of 100 iterations ended with a divergence (3 %).\n",
      "WARNING:pystan:Try running with adapt_delta larger than 0.8 to remove the divergences.\n"
     ]
    }
   ],
   "source": [
    "lgt_mod=LGTAggregated(\n",
    "    response_col=RESPONSE_COL,\n",
    "    date_col=DATE_COL,\n",
    "    regressor_col=REGRESSOR_COL,\n",
    "    regressor_sign=[\"+\", '+', '='],\n",
    "    seasonality=52,\n",
    "    seed=1,\n",
    "    regression_penalty=\"auto_ridge\",\n",
    "    auto_ridge_scale=0.5,\n",
    ")\n",
    "lgt_mod.fit(df=df)"
   ]
  },
  {
   "cell_type": "code",
   "execution_count": 14,
   "metadata": {
    "ExecuteTime": {
     "end_time": "2020-10-16T01:23:55.127986Z",
     "start_time": "2020-10-16T01:23:55.111179Z"
    }
   },
   "outputs": [
    {
     "data": {
      "text/html": [
       "<div>\n",
       "<style scoped>\n",
       "    .dataframe tbody tr th:only-of-type {\n",
       "        vertical-align: middle;\n",
       "    }\n",
       "\n",
       "    .dataframe tbody tr th {\n",
       "        vertical-align: top;\n",
       "    }\n",
       "\n",
       "    .dataframe thead th {\n",
       "        text-align: right;\n",
       "    }\n",
       "</style>\n",
       "<table border=\"1\" class=\"dataframe\">\n",
       "  <thead>\n",
       "    <tr style=\"text-align: right;\">\n",
       "      <th></th>\n",
       "      <th>regressor</th>\n",
       "      <th>regressor_sign</th>\n",
       "      <th>coefficient</th>\n",
       "    </tr>\n",
       "  </thead>\n",
       "  <tbody>\n",
       "    <tr>\n",
       "      <th>0</th>\n",
       "      <td>trend.unemploy</td>\n",
       "      <td>Positive</td>\n",
       "      <td>0.044648</td>\n",
       "    </tr>\n",
       "    <tr>\n",
       "      <th>1</th>\n",
       "      <td>trend.filling</td>\n",
       "      <td>Positive</td>\n",
       "      <td>0.052548</td>\n",
       "    </tr>\n",
       "    <tr>\n",
       "      <th>2</th>\n",
       "      <td>trend.job</td>\n",
       "      <td>Regular</td>\n",
       "      <td>-0.050318</td>\n",
       "    </tr>\n",
       "  </tbody>\n",
       "</table>\n",
       "</div>"
      ],
      "text/plain": [
       "        regressor regressor_sign  coefficient\n",
       "0  trend.unemploy       Positive     0.044648\n",
       "1   trend.filling       Positive     0.052548\n",
       "2       trend.job        Regular    -0.050318"
      ]
     },
     "execution_count": 14,
     "metadata": {},
     "output_type": "execute_result"
    }
   ],
   "source": [
    "lgt_mod.get_regression_coefs()"
   ]
  },
  {
   "cell_type": "code",
   "execution_count": null,
   "metadata": {},
   "outputs": [],
   "source": []
  }
 ],
 "metadata": {
  "kernelspec": {
   "display_name": "Python 3",
   "language": "python",
   "name": "python3"
  },
  "language_info": {
   "codemirror_mode": {
    "name": "ipython",
    "version": 3
   },
   "file_extension": ".py",
   "mimetype": "text/x-python",
   "name": "python",
   "nbconvert_exporter": "python",
   "pygments_lexer": "ipython3",
   "version": "3.7.7"
  },
  "toc": {
   "base_numbering": 1,
   "nav_menu": {},
   "number_sections": true,
   "sideBar": true,
   "skip_h1_title": true,
   "title_cell": "Table of Contents",
   "title_sidebar": "Contents",
   "toc_cell": false,
   "toc_position": {},
   "toc_section_display": true,
   "toc_window_display": true
  }
 },
 "nbformat": 4,
 "nbformat_minor": 4
}
