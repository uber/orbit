{
 "cells": [
  {
   "cell_type": "markdown",
   "metadata": {},
   "source": [
    "# Fitting DLT with Complex Seasonality - Daily Forecast Example\n",
    "\n",
    "There are some challenges to fit complex seasonality with LGT/DLT. Although one should usually look into some models such as **Kernel-based Time-varying Regression(KTR)** from other section, we demonstrate a work around if one wants explore complex seasonality model with DLT."
   ]
  },
  {
   "cell_type": "markdown",
   "metadata": {},
   "source": [
    "## the data\n",
    "\n",
    "Daily forecast is one of most popular use cases in time-series modeling. In this example, it aims to introduce a way to perform a daily forecast by modeling yearly and weekly seasonality together in **DLT**. We will use the aggregated number of sales from the [M5 competition](https://www.kaggle.com/c/m5-forecasting-accuracy/overview) and Turkish daily electricity demand data from Rob Hyndman's [post](https://robjhyndman.com/publications/complex-seasonality/)"
   ]
  },
  {
   "cell_type": "code",
   "execution_count": 1,
   "metadata": {},
   "outputs": [],
   "source": [
    "import pandas as pd\n",
    "import numpy as np\n",
    "import ssl \n",
    "\n",
    "from orbit.models import DLT\n",
    "from orbit.diagnostics.plot import plot_predicted_data\n",
    "# to make fourier series for annual seasonality\n",
    "from orbit.utils.features import make_fourier_series_df\n",
    "from orbit.utils.dataset import load_electricity_demand, load_m5daily\n",
    "from orbit.utils.params_tuning import generate_param_args_list\n",
    "\n",
    "%load_ext autoreload\n",
    "%autoreload 2"
   ]
  },
  {
   "cell_type": "markdown",
   "metadata": {},
   "source": [
    "## the methodology\n",
    "\n",
    "Here user can leverage Fourier terms as regressors to handle extra layers of seasonality while using **DLT** seasonality argument for the first layer (the one with the shortest cycle). This type of regression is also referred to **harmonic regression** by Young, Pedregal & Tych(1999)."
   ]
  },
  {
   "cell_type": "markdown",
   "metadata": {},
   "source": [
    "## Example I - M5 Aggregated Sales"
   ]
  },
  {
   "cell_type": "markdown",
   "metadata": {},
   "source": [
    "For demo purpose, we just use a subset of regressors and perform log transformation on response to construct a multiplicative model."
   ]
  },
  {
   "cell_type": "code",
   "execution_count": 2,
   "metadata": {},
   "outputs": [],
   "source": [
    "df = load_m5daily()\n",
    "# get a subset of regressor for demo purpose\n",
    "regressor_col = [\"Christmas\",\"Halloween\",\"LaborDay\",\"Thanksgiving\",\"Mother's day\",\"PresidentsDay\",\"NewYear\"]"
   ]
  },
  {
   "cell_type": "markdown",
   "metadata": {},
   "source": [
    "Users can use the `make_fourier_series_df` to create Fourier terms. A `log` and division by first observation also used as pre-processing to make a better fit."
   ]
  },
  {
   "cell_type": "code",
   "execution_count": 3,
   "metadata": {},
   "outputs": [],
   "source": [
    "df, fs_cols = make_fourier_series_df(df, period=365.25, order=3)\n",
    "# trim data with useful columns only\n",
    "df = df[[\"date\", \"sales\"] + fs_cols + regressor_col]\n",
    "m = df['sales'][0]\n",
    "df['y'] = np.log(df['sales']/m)"
   ]
  },
  {
   "cell_type": "code",
   "execution_count": 4,
   "metadata": {},
   "outputs": [],
   "source": [
    "test_size = 28\n",
    "train_df = df[:-test_size]\n",
    "test_df = df[-test_size:]"
   ]
  },
  {
   "cell_type": "code",
   "execution_count": 5,
   "metadata": {},
   "outputs": [
    {
     "data": {
      "text/html": [
       "<div>\n",
       "<style scoped>\n",
       "    .dataframe tbody tr th:only-of-type {\n",
       "        vertical-align: middle;\n",
       "    }\n",
       "\n",
       "    .dataframe tbody tr th {\n",
       "        vertical-align: top;\n",
       "    }\n",
       "\n",
       "    .dataframe thead th {\n",
       "        text-align: right;\n",
       "    }\n",
       "</style>\n",
       "<table border=\"1\" class=\"dataframe\">\n",
       "  <thead>\n",
       "    <tr style=\"text-align: right;\">\n",
       "      <th></th>\n",
       "      <th>date</th>\n",
       "      <th>sales</th>\n",
       "      <th>fs_cos1</th>\n",
       "      <th>fs_sin1</th>\n",
       "      <th>fs_cos2</th>\n",
       "      <th>fs_sin2</th>\n",
       "      <th>fs_cos3</th>\n",
       "      <th>fs_sin3</th>\n",
       "      <th>Christmas</th>\n",
       "      <th>Halloween</th>\n",
       "      <th>LaborDay</th>\n",
       "      <th>Thanksgiving</th>\n",
       "      <th>Mother's day</th>\n",
       "      <th>PresidentsDay</th>\n",
       "      <th>NewYear</th>\n",
       "      <th>y</th>\n",
       "    </tr>\n",
       "  </thead>\n",
       "  <tbody>\n",
       "    <tr>\n",
       "      <th>0</th>\n",
       "      <td>2011-01-29</td>\n",
       "      <td>32631</td>\n",
       "      <td>0.999852</td>\n",
       "      <td>0.017202</td>\n",
       "      <td>0.999408</td>\n",
       "      <td>0.034398</td>\n",
       "      <td>0.998669</td>\n",
       "      <td>0.051584</td>\n",
       "      <td>0</td>\n",
       "      <td>0</td>\n",
       "      <td>0</td>\n",
       "      <td>0</td>\n",
       "      <td>0</td>\n",
       "      <td>0</td>\n",
       "      <td>0</td>\n",
       "      <td>0.000000</td>\n",
       "    </tr>\n",
       "    <tr>\n",
       "      <th>1</th>\n",
       "      <td>2011-01-30</td>\n",
       "      <td>31749</td>\n",
       "      <td>0.999408</td>\n",
       "      <td>0.034398</td>\n",
       "      <td>0.997634</td>\n",
       "      <td>0.068755</td>\n",
       "      <td>0.994678</td>\n",
       "      <td>0.103031</td>\n",
       "      <td>0</td>\n",
       "      <td>0</td>\n",
       "      <td>0</td>\n",
       "      <td>0</td>\n",
       "      <td>0</td>\n",
       "      <td>0</td>\n",
       "      <td>0</td>\n",
       "      <td>-0.027402</td>\n",
       "    </tr>\n",
       "    <tr>\n",
       "      <th>2</th>\n",
       "      <td>2011-01-31</td>\n",
       "      <td>23783</td>\n",
       "      <td>0.998669</td>\n",
       "      <td>0.051584</td>\n",
       "      <td>0.994678</td>\n",
       "      <td>0.103031</td>\n",
       "      <td>0.988039</td>\n",
       "      <td>0.154204</td>\n",
       "      <td>0</td>\n",
       "      <td>0</td>\n",
       "      <td>0</td>\n",
       "      <td>0</td>\n",
       "      <td>0</td>\n",
       "      <td>0</td>\n",
       "      <td>0</td>\n",
       "      <td>-0.316292</td>\n",
       "    </tr>\n",
       "    <tr>\n",
       "      <th>3</th>\n",
       "      <td>2011-02-01</td>\n",
       "      <td>25412</td>\n",
       "      <td>0.997634</td>\n",
       "      <td>0.068755</td>\n",
       "      <td>0.990545</td>\n",
       "      <td>0.137185</td>\n",
       "      <td>0.978769</td>\n",
       "      <td>0.204966</td>\n",
       "      <td>0</td>\n",
       "      <td>0</td>\n",
       "      <td>0</td>\n",
       "      <td>0</td>\n",
       "      <td>0</td>\n",
       "      <td>0</td>\n",
       "      <td>0</td>\n",
       "      <td>-0.250041</td>\n",
       "    </tr>\n",
       "    <tr>\n",
       "      <th>4</th>\n",
       "      <td>2011-02-02</td>\n",
       "      <td>19146</td>\n",
       "      <td>0.996303</td>\n",
       "      <td>0.085906</td>\n",
       "      <td>0.985240</td>\n",
       "      <td>0.171177</td>\n",
       "      <td>0.966893</td>\n",
       "      <td>0.255182</td>\n",
       "      <td>0</td>\n",
       "      <td>0</td>\n",
       "      <td>0</td>\n",
       "      <td>0</td>\n",
       "      <td>0</td>\n",
       "      <td>0</td>\n",
       "      <td>0</td>\n",
       "      <td>-0.533169</td>\n",
       "    </tr>\n",
       "  </tbody>\n",
       "</table>\n",
       "</div>"
      ],
      "text/plain": [
       "        date  sales   fs_cos1   fs_sin1   fs_cos2   fs_sin2   fs_cos3  \\\n",
       "0 2011-01-29  32631  0.999852  0.017202  0.999408  0.034398  0.998669   \n",
       "1 2011-01-30  31749  0.999408  0.034398  0.997634  0.068755  0.994678   \n",
       "2 2011-01-31  23783  0.998669  0.051584  0.994678  0.103031  0.988039   \n",
       "3 2011-02-01  25412  0.997634  0.068755  0.990545  0.137185  0.978769   \n",
       "4 2011-02-02  19146  0.996303  0.085906  0.985240  0.171177  0.966893   \n",
       "\n",
       "    fs_sin3  Christmas  Halloween  LaborDay  Thanksgiving  Mother's day  \\\n",
       "0  0.051584          0          0         0             0             0   \n",
       "1  0.103031          0          0         0             0             0   \n",
       "2  0.154204          0          0         0             0             0   \n",
       "3  0.204966          0          0         0             0             0   \n",
       "4  0.255182          0          0         0             0             0   \n",
       "\n",
       "   PresidentsDay  NewYear         y  \n",
       "0              0        0  0.000000  \n",
       "1              0        0 -0.027402  \n",
       "2              0        0 -0.316292  \n",
       "3              0        0 -0.250041  \n",
       "4              0        0 -0.533169  "
      ]
     },
     "execution_count": 5,
     "metadata": {},
     "output_type": "execute_result"
    }
   ],
   "source": [
    "train_df.head(5)"
   ]
  },
  {
   "cell_type": "markdown",
   "metadata": {},
   "source": [
    "initialize and train the model."
   ]
  },
  {
   "cell_type": "code",
   "execution_count": 9,
   "metadata": {},
   "outputs": [
    {
     "name": "stderr",
     "output_type": "stream",
     "text": [
      "INFO:orbit:Sampling (PyStan) with chains: 4, cores: 8, temperature: 1.000, warmups (per chain): 225 and samples(per chain): 25.\n",
      "WARNING:pystan:Maximum (flat) parameter count (1000) exceeded: skipping diagnostic tests for n_eff and Rhat.\n",
      "To run all diagnostics call pystan.check_hmc_diagnostics(fit)\n"
     ]
    },
    {
     "name": "stdout",
     "output_type": "stream",
     "text": [
      "CPU times: user 337 ms, sys: 225 ms, total: 563 ms\n",
      "Wall time: 57 s\n"
     ]
    },
    {
     "data": {
      "text/plain": [
       "<orbit.forecaster.full_bayes.FullBayesianForecaster at 0x1338e3bd0>"
      ]
     },
     "execution_count": 9,
     "metadata": {},
     "output_type": "execute_result"
    }
   ],
   "source": [
    "%%time\n",
    "dlt = DLT(\n",
    "    response_col='y',\n",
    "    date_col='date',\n",
    "    seasonality=7,\n",
    "    seed=2020,\n",
    "    regressor_col=fs_cols + regressor_col,\n",
    "    estimator='stan-mcmc',\n",
    ")\n",
    "dlt.fit(train_df)"
   ]
  },
  {
   "cell_type": "markdown",
   "metadata": {},
   "source": [
    "predict and plot the result."
   ]
  },
  {
   "cell_type": "code",
   "execution_count": 7,
   "metadata": {},
   "outputs": [
    {
     "ename": "ForecasterException",
     "evalue": "Model is not fitted yet.",
     "output_type": "error",
     "traceback": [
      "\u001b[0;31m---------------------------------------------------------------------------\u001b[0m",
      "\u001b[0;31mForecasterException\u001b[0m                       Traceback (most recent call last)",
      "\u001b[0;32m/var/folders/9f/m35pbwgx13n2j29rjhpkcyg40000gn/T/ipykernel_25122/2647884328.py\u001b[0m in \u001b[0;36m<module>\u001b[0;34m\u001b[0m\n\u001b[0;32m----> 1\u001b[0;31m \u001b[0mpred_df\u001b[0m \u001b[0;34m=\u001b[0m \u001b[0mdlt\u001b[0m\u001b[0;34m.\u001b[0m\u001b[0mpredict\u001b[0m\u001b[0;34m(\u001b[0m\u001b[0mtest_df\u001b[0m\u001b[0;34m)\u001b[0m\u001b[0;34m\u001b[0m\u001b[0;34m\u001b[0m\u001b[0m\n\u001b[0m\u001b[1;32m      2\u001b[0m \u001b[0;31m# reverse transformation for prediction\u001b[0m\u001b[0;34m\u001b[0m\u001b[0;34m\u001b[0m\u001b[0;34m\u001b[0m\u001b[0m\n\u001b[1;32m      3\u001b[0m \u001b[0mpred_df\u001b[0m\u001b[0;34m[\u001b[0m\u001b[0;34m[\u001b[0m\u001b[0;34m'prediction_5'\u001b[0m\u001b[0;34m,\u001b[0m \u001b[0;34m'prediction'\u001b[0m\u001b[0;34m,\u001b[0m \u001b[0;34m'prediction_95'\u001b[0m\u001b[0;34m]\u001b[0m\u001b[0;34m]\u001b[0m \u001b[0;34m=\u001b[0m\u001b[0;31m \u001b[0m\u001b[0;31m\\\u001b[0m\u001b[0;34m\u001b[0m\u001b[0;34m\u001b[0m\u001b[0m\n\u001b[1;32m      4\u001b[0m   \u001b[0mpred_df\u001b[0m\u001b[0;34m[\u001b[0m\u001b[0;34m[\u001b[0m\u001b[0;34m'prediction_5'\u001b[0m\u001b[0;34m,\u001b[0m \u001b[0;34m'prediction'\u001b[0m\u001b[0;34m,\u001b[0m \u001b[0;34m'prediction_95'\u001b[0m\u001b[0;34m]\u001b[0m\u001b[0;34m]\u001b[0m\u001b[0;34m.\u001b[0m\u001b[0mapply\u001b[0m\u001b[0;34m(\u001b[0m\u001b[0mnp\u001b[0m\u001b[0;34m.\u001b[0m\u001b[0mexp\u001b[0m\u001b[0;34m)\u001b[0m \u001b[0;34m*\u001b[0m \u001b[0mm\u001b[0m\u001b[0;34m\u001b[0m\u001b[0;34m\u001b[0m\u001b[0m\n\u001b[1;32m      5\u001b[0m \u001b[0;31m# plot last 300 observations from train only\u001b[0m\u001b[0;34m\u001b[0m\u001b[0;34m\u001b[0m\u001b[0;34m\u001b[0m\u001b[0m\n",
      "\u001b[0;32m~/work/orbit-super/orbit/orbit/forecaster/full_bayes.py\u001b[0m in \u001b[0;36mpredict\u001b[0;34m(self, df, decompose, store_prediction_array, seed, **kwargs)\u001b[0m\n\u001b[1;32m     80\u001b[0m         \u001b[0;31m# raise if model is not fitted\u001b[0m\u001b[0;34m\u001b[0m\u001b[0;34m\u001b[0m\u001b[0;34m\u001b[0m\u001b[0m\n\u001b[1;32m     81\u001b[0m         \u001b[0;32mif\u001b[0m \u001b[0;32mnot\u001b[0m \u001b[0mself\u001b[0m\u001b[0;34m.\u001b[0m\u001b[0mis_fitted\u001b[0m\u001b[0;34m(\u001b[0m\u001b[0;34m)\u001b[0m\u001b[0;34m:\u001b[0m\u001b[0;34m\u001b[0m\u001b[0;34m\u001b[0m\u001b[0m\n\u001b[0;32m---> 82\u001b[0;31m             \u001b[0;32mraise\u001b[0m \u001b[0mForecasterException\u001b[0m\u001b[0;34m(\u001b[0m\u001b[0;34m\"Model is not fitted yet.\"\u001b[0m\u001b[0;34m)\u001b[0m\u001b[0;34m\u001b[0m\u001b[0;34m\u001b[0m\u001b[0m\n\u001b[0m\u001b[1;32m     83\u001b[0m         \u001b[0;31m# obtain basic meta data from input df\u001b[0m\u001b[0;34m\u001b[0m\u001b[0;34m\u001b[0m\u001b[0;34m\u001b[0m\u001b[0m\n\u001b[1;32m     84\u001b[0m         \u001b[0mself\u001b[0m\u001b[0;34m.\u001b[0m\u001b[0m_set_prediction_meta\u001b[0m\u001b[0;34m(\u001b[0m\u001b[0mdf\u001b[0m\u001b[0;34m)\u001b[0m\u001b[0;34m\u001b[0m\u001b[0;34m\u001b[0m\u001b[0m\n",
      "\u001b[0;31mForecasterException\u001b[0m: Model is not fitted yet."
     ]
    }
   ],
   "source": [
    "pred_df = dlt.predict(test_df)\n",
    "# reverse transformation for prediction\n",
    "pred_df[['prediction_5', 'prediction', 'prediction_95']] = \\\n",
    "  pred_df[['prediction_5', 'prediction', 'prediction_95']].apply(np.exp) * m\n",
    "# plot last 300 observations from train only\n",
    "plot_predicted_data(train_df[-300:], pred_df, 'date', 'sales', 'prediction', test_actual_df=test_df);"
   ]
  },
  {
   "cell_type": "markdown",
   "metadata": {},
   "source": [
    "## Example II - Turkish Daily Electricity\n",
    "\n",
    "Another example is the Turkish daily electricity demand data posted by Rob Hyndman. In this case, the seasonality is relatively smooth compared to the previous dataset."
   ]
  },
  {
   "cell_type": "code",
   "execution_count": 10,
   "metadata": {},
   "outputs": [
    {
     "name": "stdout",
     "output_type": "stream",
     "text": [
      "(3288, 2)\n"
     ]
    },
    {
     "data": {
      "text/html": [
       "<div>\n",
       "<style scoped>\n",
       "    .dataframe tbody tr th:only-of-type {\n",
       "        vertical-align: middle;\n",
       "    }\n",
       "\n",
       "    .dataframe tbody tr th {\n",
       "        vertical-align: top;\n",
       "    }\n",
       "\n",
       "    .dataframe thead th {\n",
       "        text-align: right;\n",
       "    }\n",
       "</style>\n",
       "<table border=\"1\" class=\"dataframe\">\n",
       "  <thead>\n",
       "    <tr style=\"text-align: right;\">\n",
       "      <th></th>\n",
       "      <th>date</th>\n",
       "      <th>electricity</th>\n",
       "    </tr>\n",
       "  </thead>\n",
       "  <tbody>\n",
       "    <tr>\n",
       "      <th>0</th>\n",
       "      <td>2000-01-01</td>\n",
       "      <td>0.000000</td>\n",
       "    </tr>\n",
       "    <tr>\n",
       "      <th>1</th>\n",
       "      <td>2000-01-02</td>\n",
       "      <td>0.063700</td>\n",
       "    </tr>\n",
       "    <tr>\n",
       "      <th>2</th>\n",
       "      <td>2000-01-03</td>\n",
       "      <td>0.198053</td>\n",
       "    </tr>\n",
       "    <tr>\n",
       "      <th>3</th>\n",
       "      <td>2000-01-04</td>\n",
       "      <td>0.216324</td>\n",
       "    </tr>\n",
       "    <tr>\n",
       "      <th>4</th>\n",
       "      <td>2000-01-05</td>\n",
       "      <td>0.223295</td>\n",
       "    </tr>\n",
       "  </tbody>\n",
       "</table>\n",
       "</div>"
      ],
      "text/plain": [
       "        date  electricity\n",
       "0 2000-01-01     0.000000\n",
       "1 2000-01-02     0.063700\n",
       "2 2000-01-03     0.198053\n",
       "3 2000-01-04     0.216324\n",
       "4 2000-01-05     0.223295"
      ]
     },
     "execution_count": 10,
     "metadata": {},
     "output_type": "execute_result"
    }
   ],
   "source": [
    "# from 2000-01-01 to 2008-12-31\n",
    "df = load_electricity_demand()\n",
    "date_col = 'date'\n",
    "response_col = 'electricity'\n",
    "m = df['electricity'][0]\n",
    "df[response_col] = np.log(df[response_col] / m)\n",
    "print(df.shape)\n",
    "df.head()"
   ]
  },
  {
   "cell_type": "code",
   "execution_count": 11,
   "metadata": {},
   "outputs": [],
   "source": [
    "df, fs_cols = make_fourier_series_df(df, 365.25, order=3)"
   ]
  },
  {
   "cell_type": "code",
   "execution_count": 12,
   "metadata": {},
   "outputs": [],
   "source": [
    "test_size = 365\n",
    "train_df = df[:-test_size]\n",
    "test_df = df[-test_size:]"
   ]
  },
  {
   "cell_type": "markdown",
   "metadata": {},
   "source": [
    "Note that due to the smoothness of the true seasonality (and with a long duration of a cycle), this hits the limit of **DLT** where it uses 1-step-ahead loss to guide the fitness. In breif, the smoothness nature of the seasonality  introduces some [degeneracy](https://en.wikipedia.org/wiki/Degeneracy_(mathematics)) issues where the model finds making a relatively memoryless trend can mimic a \"good\" 1-step ahead forecast.  \n",
    "\n",
    "To resolve this issue, one can leverage the arg `forecast_horizon` to generate useful **Bayesian Information Criteria (BIC)** statistics to guide a better long-term forecast model. One can simply match the usage of the model with an appropriate value of `forecast_horizon`. For example, a `90` value is reasonable if we use it for quarterly forecast. The plan is to compute BIC on different setting of the smoothing parameters input by using args such as `level_sm_input`, `slope_sm_input` and `seasonality_sm_input`.\n",
    "\n",
    "Another way to solve the problem is to leverage the hyper-parameters tuning function provided by the package (see the section discussing `Backtester` and `grid_search`)."
   ]
  },
  {
   "cell_type": "markdown",
   "metadata": {},
   "source": [
    "First, users can propose a few choices as a grid."
   ]
  },
  {
   "cell_type": "code",
   "execution_count": 13,
   "metadata": {},
   "outputs": [
    {
     "data": {
      "text/plain": [
       "8"
      ]
     },
     "execution_count": 13,
     "metadata": {},
     "output_type": "execute_result"
    }
   ],
   "source": [
    "param_grid = {\n",
    "    'level_sm_input': [1e-3, 1e-2, 1e-1, 0.5],\n",
    "    'slope_sm_input': [1e-3, 1e-2, 1e-1, 0.5],\n",
    "    'seasonality_sm_input': [1e-3, 0.3],\n",
    "}\n",
    "\n",
    "param_args_list = generate_param_args_list(param_grid)\n",
    "# this saves time for demo purpose only\n",
    "param_args_list = [x for x in param_args_list if x['level_sm_input'] == x['slope_sm_input']]\n",
    "len(param_args_list)"
   ]
  },
  {
   "cell_type": "markdown",
   "metadata": {},
   "source": [
    "After that, create a data frame to store the BIC of each setting."
   ]
  },
  {
   "cell_type": "code",
   "execution_count": 14,
   "metadata": {},
   "outputs": [
    {
     "data": {
      "text/html": [
       "<div>\n",
       "<style scoped>\n",
       "    .dataframe tbody tr th:only-of-type {\n",
       "        vertical-align: middle;\n",
       "    }\n",
       "\n",
       "    .dataframe tbody tr th {\n",
       "        vertical-align: top;\n",
       "    }\n",
       "\n",
       "    .dataframe thead th {\n",
       "        text-align: right;\n",
       "    }\n",
       "</style>\n",
       "<table border=\"1\" class=\"dataframe\">\n",
       "  <thead>\n",
       "    <tr style=\"text-align: right;\">\n",
       "      <th></th>\n",
       "      <th>level_sm_input</th>\n",
       "      <th>seasonality_sm_input</th>\n",
       "      <th>slope_sm_input</th>\n",
       "      <th>bic</th>\n",
       "    </tr>\n",
       "  </thead>\n",
       "  <tbody>\n",
       "    <tr>\n",
       "      <th>0</th>\n",
       "      <td>0.001</td>\n",
       "      <td>0.001</td>\n",
       "      <td>0.001</td>\n",
       "      <td>NaN</td>\n",
       "    </tr>\n",
       "    <tr>\n",
       "      <th>1</th>\n",
       "      <td>0.001</td>\n",
       "      <td>0.300</td>\n",
       "      <td>0.001</td>\n",
       "      <td>NaN</td>\n",
       "    </tr>\n",
       "    <tr>\n",
       "      <th>2</th>\n",
       "      <td>0.010</td>\n",
       "      <td>0.001</td>\n",
       "      <td>0.010</td>\n",
       "      <td>NaN</td>\n",
       "    </tr>\n",
       "    <tr>\n",
       "      <th>3</th>\n",
       "      <td>0.010</td>\n",
       "      <td>0.300</td>\n",
       "      <td>0.010</td>\n",
       "      <td>NaN</td>\n",
       "    </tr>\n",
       "    <tr>\n",
       "      <th>4</th>\n",
       "      <td>0.100</td>\n",
       "      <td>0.001</td>\n",
       "      <td>0.100</td>\n",
       "      <td>NaN</td>\n",
       "    </tr>\n",
       "    <tr>\n",
       "      <th>5</th>\n",
       "      <td>0.100</td>\n",
       "      <td>0.300</td>\n",
       "      <td>0.100</td>\n",
       "      <td>NaN</td>\n",
       "    </tr>\n",
       "    <tr>\n",
       "      <th>6</th>\n",
       "      <td>0.500</td>\n",
       "      <td>0.001</td>\n",
       "      <td>0.500</td>\n",
       "      <td>NaN</td>\n",
       "    </tr>\n",
       "    <tr>\n",
       "      <th>7</th>\n",
       "      <td>0.500</td>\n",
       "      <td>0.300</td>\n",
       "      <td>0.500</td>\n",
       "      <td>NaN</td>\n",
       "    </tr>\n",
       "  </tbody>\n",
       "</table>\n",
       "</div>"
      ],
      "text/plain": [
       "   level_sm_input  seasonality_sm_input  slope_sm_input  bic\n",
       "0           0.001                 0.001           0.001  NaN\n",
       "1           0.001                 0.300           0.001  NaN\n",
       "2           0.010                 0.001           0.010  NaN\n",
       "3           0.010                 0.300           0.010  NaN\n",
       "4           0.100                 0.001           0.100  NaN\n",
       "5           0.100                 0.300           0.100  NaN\n",
       "6           0.500                 0.001           0.500  NaN\n",
       "7           0.500                 0.300           0.500  NaN"
      ]
     },
     "execution_count": 14,
     "metadata": {},
     "output_type": "execute_result"
    }
   ],
   "source": [
    "res = pd.DataFrame(param_args_list)\n",
    "# placeholder\n",
    "res['bic'] = np.nan\n",
    "res"
   ]
  },
  {
   "cell_type": "markdown",
   "metadata": {},
   "source": [
    "A simple grid search can be implemented as below. Note: the development is considering a end-to-end util to wrap this process."
   ]
  },
  {
   "cell_type": "code",
   "execution_count": 15,
   "metadata": {},
   "outputs": [],
   "source": [
    "from tqdm import tqdm"
   ]
  },
  {
   "cell_type": "code",
   "execution_count": 16,
   "metadata": {
    "scrolled": false
   },
   "outputs": [
    {
     "name": "stderr",
     "output_type": "stream",
     "text": [
      "  0%|                                                                        | 0/8 [00:00<?, ?it/s]INFO:orbit:Optimizing (PyStan) with algorithm: LBFGS.\n",
      " 12%|████████                                                        | 1/8 [00:23<02:43, 23.36s/it]INFO:orbit:Optimizing (PyStan) with algorithm: LBFGS.\n",
      " 25%|████████████████                                                | 2/8 [00:41<02:00, 20.05s/it]INFO:orbit:Optimizing (PyStan) with algorithm: LBFGS.\n",
      " 38%|████████████████████████                                        | 3/8 [01:02<01:44, 20.81s/it]INFO:orbit:Optimizing (PyStan) with algorithm: LBFGS.\n",
      " 50%|████████████████████████████████                                | 4/8 [01:18<01:14, 18.61s/it]INFO:orbit:Optimizing (PyStan) with algorithm: LBFGS.\n",
      " 62%|████████████████████████████████████████                        | 5/8 [01:39<00:59, 19.70s/it]INFO:orbit:Optimizing (PyStan) with algorithm: LBFGS.\n",
      " 75%|████████████████████████████████████████████████                | 6/8 [02:35<01:03, 31.97s/it]INFO:orbit:Optimizing (PyStan) with algorithm: LBFGS.\n",
      " 88%|████████████████████████████████████████████████████████        | 7/8 [03:37<00:41, 41.75s/it]INFO:orbit:Optimizing (PyStan) with algorithm: LBFGS.\n",
      "100%|████████████████████████████████████████████████████████████████| 8/8 [03:50<00:00, 28.87s/it]"
     ]
    },
    {
     "name": "stdout",
     "output_type": "stream",
     "text": [
      "CPU times: user 3min 43s, sys: 7.79 s, total: 3min 51s\n",
      "Wall time: 3min 50s\n"
     ]
    },
    {
     "name": "stderr",
     "output_type": "stream",
     "text": [
      "\n"
     ]
    }
   ],
   "source": [
    "%%time\n",
    "for idx in tqdm(range(len(param_args_list))):\n",
    "    param_args = param_args_list[idx]\n",
    "    dlt = DLT(\n",
    "        date_col='date',\n",
    "        response_col=response_col,\n",
    "        regressor_col=fs_cols,\n",
    "        regressor_sigma_prior=[10] * len(fs_cols),\n",
    "        seasonality=7,\n",
    "        seed=2022,\n",
    "        forecast_horizon=365,\n",
    "        estimator='stan-map',\n",
    "        **param_args,\n",
    "    )\n",
    "    dlt.fit(train_df)\n",
    "    res.loc[idx, 'bic'] = dlt.get_bic()"
   ]
  },
  {
   "cell_type": "code",
   "execution_count": 17,
   "metadata": {},
   "outputs": [
    {
     "data": {
      "text/plain": [
       "{'level_sm_input': 0.001,\n",
       " 'seasonality_sm_input': 0.001,\n",
       " 'slope_sm_input': 0.001}"
      ]
     },
     "execution_count": 17,
     "metadata": {},
     "output_type": "execute_result"
    }
   ],
   "source": [
    "res = res.sort_values(by='bic')\n",
    "best_param_args = dict(res.loc[0, ['level_sm_input', 'seasonality_sm_input', 'slope_sm_input']])\n",
    "best_param_args"
   ]
  },
  {
   "cell_type": "markdown",
   "metadata": {},
   "source": [
    "Refit the model with the best (lowest) leave-future out BIC. This time the model is fitted by MCMC to fully inform the uncertainties."
   ]
  },
  {
   "cell_type": "code",
   "execution_count": null,
   "metadata": {
    "scrolled": true
   },
   "outputs": [
    {
     "name": "stderr",
     "output_type": "stream",
     "text": [
      "INFO:orbit:Sampling (PyStan) with chains: 4, cores: 8, temperature: 1.000, warmups (per chain): 1000 and samples(per chain): 250.\n"
     ]
    }
   ],
   "source": [
    "%%time\n",
    "dlt = DLT(\n",
    "    date_col='date',\n",
    "    response_col=response_col,\n",
    "    regressor_col=fs_cols,\n",
    "    regressor_sigma_prior=[10] * len(fs_cols),\n",
    "    seasonality=7,\n",
    "    seed=2022,\n",
    "    estimator='stan-mcmc',\n",
    "    **best_param_args,\n",
    "    num_warmup=4000,\n",
    "    num_sample=1000,\n",
    ")\n",
    "dlt.fit(train_df);"
   ]
  },
  {
   "cell_type": "markdown",
   "metadata": {},
   "source": [
    "predict and plot the result."
   ]
  },
  {
   "cell_type": "code",
   "execution_count": null,
   "metadata": {
    "scrolled": false
   },
   "outputs": [],
   "source": [
    "pred_df = dlt.predict(test_df)\n",
    "plot_predicted_data(train_df, pred_df, 'date', 'electricity', 'prediction', test_actual_df=test_df, lw=0.5);"
   ]
  },
  {
   "cell_type": "markdown",
   "metadata": {},
   "source": [
    "## Conclusion\n",
    "\n",
    "In this article, we provide a work around solution to use **DLT** to model data with complex seasonality. One can combine the usage of hyper-parameters tuning to further optimize the smoothing parameters by either backtest or the leave-future-out BICs.  Alternatively, users can consider solution such as **dynamic harmonic regression** or the **KTR(check out other tuturial section in Orbit for details)**."
   ]
  },
  {
   "cell_type": "markdown",
   "metadata": {},
   "source": [
    "## References"
   ]
  },
  {
   "cell_type": "markdown",
   "metadata": {},
   "source": [
    "1. Young, P. C., Pedregal, D. J., & Tych, W. (1999). Dynamic harmonic regression. Journal of Forecasting, 18, 369–394.\\[[DOI](https://doi.org/10.1002/(SICI)1099-131X(199911)18:6%3C369::AID-FOR748%3E3.0.CO;2-K)\\]"
   ]
  }
 ],
 "metadata": {
  "kernelspec": {
   "display_name": "orbit37",
   "language": "python",
   "name": "orbit37"
  },
  "language_info": {
   "codemirror_mode": {
    "name": "ipython",
    "version": 3
   },
   "file_extension": ".py",
   "mimetype": "text/x-python",
   "name": "python",
   "nbconvert_exporter": "python",
   "pygments_lexer": "ipython3",
   "version": "3.7.9"
  },
  "toc": {
   "base_numbering": 1,
   "nav_menu": {},
   "number_sections": true,
   "sideBar": true,
   "skip_h1_title": false,
   "title_cell": "Table of Contents",
   "title_sidebar": "Contents",
   "toc_cell": false,
   "toc_position": {},
   "toc_section_display": true,
   "toc_window_display": true
  }
 },
 "nbformat": 4,
 "nbformat_minor": 4
}
