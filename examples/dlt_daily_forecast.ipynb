{
 "cells": [
  {
   "cell_type": "markdown",
   "metadata": {},
   "source": [
    "# Fitting DLT with Complex Seasonality - Daily Forecast Example\n",
    "\n",
    "There are some challenges to fit complex seasonality with LGT/DLT. Although one should usually look into some models such as **Kernel-based Time-varying Regression(KTR)** from other section, we demonstrate a work around if one wants explore complex seasonality model with DLT."
   ]
  },
  {
   "cell_type": "markdown",
   "metadata": {},
   "source": [
    "## the data\n",
    "\n",
    "Daily forecast is one of most popular use cases in time-series modeling. In this example, it aims to introduce a way to perform a daily forecast by modeling yearly and weekly seasonality together in **DLT**. We will use the aggregated number of sales from the [M5 competition](https://www.kaggle.com/c/m5-forecasting-accuracy/overview) and Turkish daily electricity demand data from Rob Hyndman's [post](https://robjhyndman.com/publications/complex-seasonality/)"
   ]
  },
  {
   "cell_type": "code",
   "execution_count": 1,
   "metadata": {
    "ExecuteTime": {
     "end_time": "2022-04-27T18:03:03.014232Z",
     "start_time": "2022-04-27T18:03:00.749912Z"
    }
   },
   "outputs": [],
   "source": [
    "import pandas as pd\n",
    "import numpy as np\n",
    "import ssl \n",
    "\n",
    "from orbit.models import DLT\n",
    "from orbit.diagnostics.plot import plot_predicted_data\n",
    "# to make fourier series for annual seasonality\n",
    "from orbit.utils.features import make_fourier_series_df\n",
    "from orbit.utils.dataset import load_electricity_demand, load_m5daily\n",
    "from orbit.utils.params_tuning import generate_param_args_list\n",
    "\n",
    "%load_ext autoreload\n",
    "%autoreload 2"
   ]
  },
  {
   "cell_type": "markdown",
   "metadata": {},
   "source": [
    "## the methodology\n",
    "\n",
    "Here user can leverage Fourier terms as regressors to handle extra layers of seasonality while using **DLT** seasonality argument for the first layer (the one with the shortest cycle). This type of regression is also referred to **harmonic regression** by Young, Pedregal & Tych(1999)."
   ]
  },
  {
   "cell_type": "markdown",
   "metadata": {},
   "source": [
    "## Example I - M5 Aggregated Sales"
   ]
  },
  {
   "cell_type": "markdown",
   "metadata": {},
   "source": [
    "For demo purpose, we just use a subset of regressors and perform log transformation on response to construct a multiplicative model."
   ]
  },
  {
   "cell_type": "code",
   "execution_count": 2,
   "metadata": {
    "ExecuteTime": {
     "end_time": "2022-04-27T18:03:04.967411Z",
     "start_time": "2022-04-27T18:03:04.600332Z"
    }
   },
   "outputs": [],
   "source": [
    "df = load_m5daily()\n",
    "# get a subset of regressor for demo purpose\n",
    "regressor_col = [\"Christmas\",\"Halloween\",\"LaborDay\",\"Thanksgiving\",\"Mother's day\",\"PresidentsDay\",\"NewYear\"]"
   ]
  },
  {
   "cell_type": "markdown",
   "metadata": {},
   "source": [
    "Users can use the `make_fourier_series_df` to create Fourier terms. A `log` and division by first observation also used as pre-processing to make a better fit."
   ]
  },
  {
   "cell_type": "code",
   "execution_count": 3,
   "metadata": {
    "ExecuteTime": {
     "end_time": "2022-04-27T18:03:05.180455Z",
     "start_time": "2022-04-27T18:03:05.144847Z"
    }
   },
   "outputs": [],
   "source": [
    "df, fs_cols = make_fourier_series_df(df, period=365.25, order=3)\n",
    "# trim data with useful columns only\n",
    "df = df[[\"date\", \"sales\"] + fs_cols + regressor_col]\n",
    "m = df['sales'][0]\n",
    "df['y'] = np.log(df['sales']/m)"
   ]
  },
  {
   "cell_type": "code",
   "execution_count": 4,
   "metadata": {
    "ExecuteTime": {
     "end_time": "2022-04-27T18:03:05.438171Z",
     "start_time": "2022-04-27T18:03:05.407759Z"
    }
   },
   "outputs": [],
   "source": [
    "test_size = 28\n",
    "train_df = df[:-test_size]\n",
    "test_df = df[-test_size:]"
   ]
  },
  {
   "cell_type": "code",
   "execution_count": 5,
   "metadata": {
    "ExecuteTime": {
     "end_time": "2022-04-27T18:03:05.704508Z",
     "start_time": "2022-04-27T18:03:05.656914Z"
    }
   },
   "outputs": [
    {
     "data": {
      "text/html": [
       "<div>\n",
       "<style scoped>\n",
       "    .dataframe tbody tr th:only-of-type {\n",
       "        vertical-align: middle;\n",
       "    }\n",
       "\n",
       "    .dataframe tbody tr th {\n",
       "        vertical-align: top;\n",
       "    }\n",
       "\n",
       "    .dataframe thead th {\n",
       "        text-align: right;\n",
       "    }\n",
       "</style>\n",
       "<table border=\"1\" class=\"dataframe\">\n",
       "  <thead>\n",
       "    <tr style=\"text-align: right;\">\n",
       "      <th></th>\n",
       "      <th>date</th>\n",
       "      <th>sales</th>\n",
       "      <th>fs_cos1</th>\n",
       "      <th>fs_sin1</th>\n",
       "      <th>fs_cos2</th>\n",
       "      <th>fs_sin2</th>\n",
       "      <th>fs_cos3</th>\n",
       "      <th>fs_sin3</th>\n",
       "      <th>Christmas</th>\n",
       "      <th>Halloween</th>\n",
       "      <th>LaborDay</th>\n",
       "      <th>Thanksgiving</th>\n",
       "      <th>Mother's day</th>\n",
       "      <th>PresidentsDay</th>\n",
       "      <th>NewYear</th>\n",
       "      <th>y</th>\n",
       "    </tr>\n",
       "  </thead>\n",
       "  <tbody>\n",
       "    <tr>\n",
       "      <th>0</th>\n",
       "      <td>2011-01-29</td>\n",
       "      <td>32631</td>\n",
       "      <td>0.999852</td>\n",
       "      <td>0.017202</td>\n",
       "      <td>0.999408</td>\n",
       "      <td>0.034398</td>\n",
       "      <td>0.998669</td>\n",
       "      <td>0.051584</td>\n",
       "      <td>0</td>\n",
       "      <td>0</td>\n",
       "      <td>0</td>\n",
       "      <td>0</td>\n",
       "      <td>0</td>\n",
       "      <td>0</td>\n",
       "      <td>0</td>\n",
       "      <td>0.000000</td>\n",
       "    </tr>\n",
       "    <tr>\n",
       "      <th>1</th>\n",
       "      <td>2011-01-30</td>\n",
       "      <td>31749</td>\n",
       "      <td>0.999408</td>\n",
       "      <td>0.034398</td>\n",
       "      <td>0.997634</td>\n",
       "      <td>0.068755</td>\n",
       "      <td>0.994678</td>\n",
       "      <td>0.103031</td>\n",
       "      <td>0</td>\n",
       "      <td>0</td>\n",
       "      <td>0</td>\n",
       "      <td>0</td>\n",
       "      <td>0</td>\n",
       "      <td>0</td>\n",
       "      <td>0</td>\n",
       "      <td>-0.027402</td>\n",
       "    </tr>\n",
       "    <tr>\n",
       "      <th>2</th>\n",
       "      <td>2011-01-31</td>\n",
       "      <td>23783</td>\n",
       "      <td>0.998669</td>\n",
       "      <td>0.051584</td>\n",
       "      <td>0.994678</td>\n",
       "      <td>0.103031</td>\n",
       "      <td>0.988039</td>\n",
       "      <td>0.154204</td>\n",
       "      <td>0</td>\n",
       "      <td>0</td>\n",
       "      <td>0</td>\n",
       "      <td>0</td>\n",
       "      <td>0</td>\n",
       "      <td>0</td>\n",
       "      <td>0</td>\n",
       "      <td>-0.316292</td>\n",
       "    </tr>\n",
       "    <tr>\n",
       "      <th>3</th>\n",
       "      <td>2011-02-01</td>\n",
       "      <td>25412</td>\n",
       "      <td>0.997634</td>\n",
       "      <td>0.068755</td>\n",
       "      <td>0.990545</td>\n",
       "      <td>0.137185</td>\n",
       "      <td>0.978769</td>\n",
       "      <td>0.204966</td>\n",
       "      <td>0</td>\n",
       "      <td>0</td>\n",
       "      <td>0</td>\n",
       "      <td>0</td>\n",
       "      <td>0</td>\n",
       "      <td>0</td>\n",
       "      <td>0</td>\n",
       "      <td>-0.250041</td>\n",
       "    </tr>\n",
       "    <tr>\n",
       "      <th>4</th>\n",
       "      <td>2011-02-02</td>\n",
       "      <td>19146</td>\n",
       "      <td>0.996303</td>\n",
       "      <td>0.085906</td>\n",
       "      <td>0.985240</td>\n",
       "      <td>0.171177</td>\n",
       "      <td>0.966893</td>\n",
       "      <td>0.255182</td>\n",
       "      <td>0</td>\n",
       "      <td>0</td>\n",
       "      <td>0</td>\n",
       "      <td>0</td>\n",
       "      <td>0</td>\n",
       "      <td>0</td>\n",
       "      <td>0</td>\n",
       "      <td>-0.533169</td>\n",
       "    </tr>\n",
       "  </tbody>\n",
       "</table>\n",
       "</div>"
      ],
      "text/plain": [
       "        date  sales   fs_cos1   fs_sin1   fs_cos2   fs_sin2   fs_cos3  \\\n",
       "0 2011-01-29  32631  0.999852  0.017202  0.999408  0.034398  0.998669   \n",
       "1 2011-01-30  31749  0.999408  0.034398  0.997634  0.068755  0.994678   \n",
       "2 2011-01-31  23783  0.998669  0.051584  0.994678  0.103031  0.988039   \n",
       "3 2011-02-01  25412  0.997634  0.068755  0.990545  0.137185  0.978769   \n",
       "4 2011-02-02  19146  0.996303  0.085906  0.985240  0.171177  0.966893   \n",
       "\n",
       "    fs_sin3  Christmas  Halloween  LaborDay  Thanksgiving  Mother's day  \\\n",
       "0  0.051584          0          0         0             0             0   \n",
       "1  0.103031          0          0         0             0             0   \n",
       "2  0.154204          0          0         0             0             0   \n",
       "3  0.204966          0          0         0             0             0   \n",
       "4  0.255182          0          0         0             0             0   \n",
       "\n",
       "   PresidentsDay  NewYear         y  \n",
       "0              0        0  0.000000  \n",
       "1              0        0 -0.027402  \n",
       "2              0        0 -0.316292  \n",
       "3              0        0 -0.250041  \n",
       "4              0        0 -0.533169  "
      ]
     },
     "execution_count": 5,
     "metadata": {},
     "output_type": "execute_result"
    }
   ],
   "source": [
    "train_df.head(5)"
   ]
  },
  {
   "cell_type": "markdown",
   "metadata": {},
   "source": [
    "initialize and train the model."
   ]
  },
  {
   "cell_type": "code",
   "execution_count": null,
   "metadata": {
    "ExecuteTime": {
     "end_time": "2022-04-27T18:04:05.077887Z",
     "start_time": "2022-04-27T18:03:06.288273Z"
    }
   },
   "outputs": [
    {
     "name": "stderr",
     "output_type": "stream",
     "text": [
      "INFO:orbit:Sampling (PyStan) with chains: 4, cores: 8, temperature: 1.000, warmups (per chain): 225 and samples(per chain): 25.\n"
     ]
    }
   ],
   "source": [
    "%%time\n",
    "dlt = DLT(\n",
    "    response_col='y',\n",
    "    date_col='date',\n",
    "    seasonality=7,\n",
    "    seed=2020,\n",
    "    regressor_col=fs_cols + regressor_col,\n",
    "    estimator='stan-mcmc',\n",
    ")\n",
    "dlt.fit(train_df)"
   ]
  },
  {
   "cell_type": "markdown",
   "metadata": {},
   "source": [
    "predict and plot the result."
   ]
  },
  {
   "cell_type": "code",
   "execution_count": null,
   "metadata": {
    "ExecuteTime": {
     "end_time": "2022-04-27T18:04:05.483850Z",
     "start_time": "2022-04-27T18:04:05.080462Z"
    }
   },
   "outputs": [],
   "source": [
    "pred_df = dlt.predict(test_df)\n",
    "# reverse transformation for prediction\n",
    "pred_df[['prediction_5', 'prediction', 'prediction_95']] = \\\n",
    "  pred_df[['prediction_5', 'prediction', 'prediction_95']].apply(np.exp) * m\n",
    "# plot last 300 observations from train only\n",
    "plot_predicted_data(train_df[-300:], pred_df, 'date', 'sales', 'prediction', test_actual_df=test_df);"
   ]
  },
  {
   "cell_type": "markdown",
   "metadata": {},
   "source": [
    "## Example II - Turkish Daily Electricity\n",
    "\n",
    "Another example is the Turkish daily electricity demand data posted by Rob Hyndman. In this case, the seasonality is relatively smooth compared to the previous dataset."
   ]
  },
  {
   "cell_type": "code",
   "execution_count": null,
   "metadata": {
    "ExecuteTime": {
     "end_time": "2022-04-27T18:04:06.074787Z",
     "start_time": "2022-04-27T18:04:05.486144Z"
    }
   },
   "outputs": [],
   "source": [
    "# from 2000-01-01 to 2008-12-31\n",
    "df = load_electricity_demand()\n",
    "date_col = 'date'\n",
    "response_col = 'electricity'\n",
    "\n",
    "# trim data to speed up for demo\n",
    "# df = df[df[date_col] >= '2005-01-01'].reset_index(drop=True)\n",
    "# simple pre-process to anchor start at zero\n",
    "m = df[response_col][0]\n",
    "df[response_col] = np.log(df[response_col]/m)\n",
    "print(df.shape)\n",
    "df.head()"
   ]
  },
  {
   "cell_type": "code",
   "execution_count": null,
   "metadata": {
    "ExecuteTime": {
     "end_time": "2022-04-27T18:04:06.110527Z",
     "start_time": "2022-04-27T18:04:06.077389Z"
    }
   },
   "outputs": [],
   "source": [
    "df, fs_cols = make_fourier_series_df(df, 365.25, order=5)"
   ]
  },
  {
   "cell_type": "code",
   "execution_count": null,
   "metadata": {
    "ExecuteTime": {
     "end_time": "2022-04-27T18:04:06.143838Z",
     "start_time": "2022-04-27T18:04:06.112553Z"
    }
   },
   "outputs": [],
   "source": [
    "test_size = 365\n",
    "train_df = df[:-test_size]\n",
    "test_df = df[-test_size:]"
   ]
  },
  {
   "cell_type": "markdown",
   "metadata": {},
   "source": [
    "Note that due to the smoothness of the true seasonality (and with a long duration of a cycle), this hits the limit of **DLT** where it uses 1-step-ahead loss to guide the fitness. In breif, the smoothness nature of the seasonality  introduces some [degeneracy](https://en.wikipedia.org/wiki/Degeneracy_(mathematics)) issues where the model finds making a relatively memoryless trend can mimic a \"good\" 1-step ahead forecast.  \n",
    "\n",
    "To resolve this issue, one can leverage the arg `forecast_horizon` to generate useful **Bayesian Information Criteria (BIC)** statistics to guide a better long-term forecast model. One can simply match the usage of the model with an appropriate value of `forecast_horizon`. For example, a `90` value is reasonable if we use it for quarterly forecast. The plan is to compute BIC on different setting of the smoothing parameters input by using args such as `level_sm_input`, `slope_sm_input` and `seasonality_sm_input`.\n",
    "\n",
    "Another way to solve the problem is to leverage the hyper-parameters tuning function provided by the package (see the section discussing `Backtester` and `grid_search`)."
   ]
  },
  {
   "cell_type": "markdown",
   "metadata": {},
   "source": [
    "First, users can propose a few choices as a grid."
   ]
  },
  {
   "cell_type": "code",
   "execution_count": null,
   "metadata": {
    "ExecuteTime": {
     "end_time": "2022-04-27T18:04:06.176476Z",
     "start_time": "2022-04-27T18:04:06.146110Z"
    }
   },
   "outputs": [],
   "source": [
    "param_grid = {\n",
    "    'level_sm_input': np.exp(np.linspace(-5, -2, 4)),\n",
    "    'slope_sm_input': np.exp(np.linspace(-5, -2, 4)),\n",
    "}"
   ]
  },
  {
   "cell_type": "code",
   "execution_count": null,
   "metadata": {
    "ExecuteTime": {
     "end_time": "2022-04-27T18:04:06.208745Z",
     "start_time": "2022-04-27T18:04:06.178902Z"
    }
   },
   "outputs": [],
   "source": [
    "dlt = DLT(\n",
    "    date_col=date_col,\n",
    "    response_col=response_col,\n",
    "    regressor_col=fs_cols,\n",
    "    seed=2022,\n",
    "    forecast_horizon=90,\n",
    "    estimator='stan-map',\n",
    "    verbose=False,\n",
    ")"
   ]
  },
  {
   "cell_type": "code",
   "execution_count": null,
   "metadata": {
    "ExecuteTime": {
     "end_time": "2022-04-27T18:04:06.241249Z",
     "start_time": "2022-04-27T18:04:06.212939Z"
    }
   },
   "outputs": [],
   "source": [
    "from orbit.utils.params_tuning import grid_search_orbit"
   ]
  },
  {
   "cell_type": "code",
   "execution_count": null,
   "metadata": {
    "ExecuteTime": {
     "end_time": "2022-04-27T18:04:39.691389Z",
     "start_time": "2022-04-27T18:04:06.243950Z"
    }
   },
   "outputs": [],
   "source": [
    "best_params, tuned_df = grid_search_orbit(param_grid,\n",
    "                                          model=dlt,\n",
    "                                          df=train_df,\n",
    "                                          n_splits=4,\n",
    "                                          incremental_len=365,\n",
    "                                          forecast_len=365,\n",
    "                                          eval_method='bic',\n",
    "                                          verbose=True)"
   ]
  },
  {
   "cell_type": "code",
   "execution_count": null,
   "metadata": {
    "ExecuteTime": {
     "end_time": "2022-04-27T18:04:39.737192Z",
     "start_time": "2022-04-27T18:04:39.693447Z"
    }
   },
   "outputs": [],
   "source": [
    "tuned_df.head()"
   ]
  },
  {
   "cell_type": "code",
   "execution_count": null,
   "metadata": {
    "ExecuteTime": {
     "end_time": "2022-04-27T18:04:39.779752Z",
     "start_time": "2022-04-27T18:04:39.744905Z"
    }
   },
   "outputs": [],
   "source": [
    "best_params"
   ]
  },
  {
   "cell_type": "markdown",
   "metadata": {},
   "source": [
    "Refit the model with the best (lowest) leave-future out BIC. This time the model is fitted by MCMC to fully inform the uncertainties."
   ]
  },
  {
   "cell_type": "code",
   "execution_count": null,
   "metadata": {
    "ExecuteTime": {
     "end_time": "2022-04-27T18:12:40.667845Z",
     "start_time": "2022-04-27T18:05:06.829516Z"
    },
    "scrolled": true
   },
   "outputs": [],
   "source": [
    "%%time\n",
    "dlt = DLT(\n",
    "    date_col=date_col,\n",
    "    response_col=response_col,\n",
    "    regressor_col=fs_cols,\n",
    "    seasonality=7,\n",
    "    seed=2022,\n",
    "    estimator='stan-mcmc',\n",
    "    **best_params[0],\n",
    "    num_warmup=500,\n",
    "    num_sample=500,\n",
    ")\n",
    "dlt.fit(train_df);"
   ]
  },
  {
   "cell_type": "markdown",
   "metadata": {},
   "source": [
    "predict and plot the result."
   ]
  },
  {
   "cell_type": "code",
   "execution_count": null,
   "metadata": {
    "ExecuteTime": {
     "end_time": "2022-04-27T18:12:41.462555Z",
     "start_time": "2022-04-27T18:12:40.669942Z"
    }
   },
   "outputs": [],
   "source": [
    "pred_df = dlt.predict(df)\n",
    "plot_predicted_data(train_df, pred_df, 'date', 'electricity', 'prediction', test_actual_df=test_df, lw=0.5);"
   ]
  },
  {
   "cell_type": "markdown",
   "metadata": {},
   "source": [
    "## Conclusion\n",
    "\n",
    "In this article, we provide a work around solution to use **DLT** to model data with complex seasonality. One can combine the usage of hyper-parameters tuning to further optimize the smoothing parameters by either backtest or the leave-future-out BICs.  Alternatively, users can consider solution such as **dynamic harmonic regression** or the **KTR(check out other tuturial section in Orbit for details)**."
   ]
  },
  {
   "cell_type": "markdown",
   "metadata": {},
   "source": [
    "## References"
   ]
  },
  {
   "cell_type": "markdown",
   "metadata": {},
   "source": [
    "1. Young, P. C., Pedregal, D. J., & Tych, W. (1999). Dynamic harmonic regression. Journal of Forecasting, 18, 369–394.\\[[DOI](https://doi.org/10.1002/(SICI)1099-131X(199911)18:6%3C369::AID-FOR748%3E3.0.CO;2-K)\\]"
   ]
  }
 ],
 "metadata": {
  "kernelspec": {
   "display_name": "orbit38",
   "language": "python",
   "name": "orbit38"
  },
  "language_info": {
   "codemirror_mode": {
    "name": "ipython",
    "version": 3
   },
   "file_extension": ".py",
   "mimetype": "text/x-python",
   "name": "python",
   "nbconvert_exporter": "python",
   "pygments_lexer": "ipython3",
   "version": "3.8.12"
  },
  "toc": {
   "base_numbering": 1,
   "nav_menu": {},
   "number_sections": true,
   "sideBar": true,
   "skip_h1_title": false,
   "title_cell": "Table of Contents",
   "title_sidebar": "Contents",
   "toc_cell": false,
   "toc_position": {},
   "toc_section_display": true,
   "toc_window_display": true
  }
 },
 "nbformat": 4,
 "nbformat_minor": 4
}
