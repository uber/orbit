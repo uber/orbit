{
 "cells": [
  {
   "cell_type": "code",
   "execution_count": 1,
   "metadata": {
    "ExecuteTime": {
     "end_time": "2020-11-04T22:04:51.302745Z",
     "start_time": "2020-11-04T22:04:48.914742Z"
    }
   },
   "outputs": [],
   "source": [
    "import pandas as pd\n",
    "import numpy as np\n",
    "import matplotlib.pyplot as plt\n",
    "%matplotlib inline\n",
    "plt.style.use('ggplot')\n",
    "\n",
    "from orbit.models.ktrlite import KTRLiteMAP \n",
    "from orbit.diagnostics.backtest import BackTester, TimeSeriesSplitter\n",
    "from orbit.utils.dataset import load_iclaims\n",
    "from orbit.utils.simulation import make_trend, make_seasonality, make_regression"
   ]
  },
  {
   "cell_type": "markdown",
   "metadata": {},
   "source": [
    "## make data"
   ]
  },
  {
   "cell_type": "code",
   "execution_count": 2,
   "metadata": {
    "ExecuteTime": {
     "end_time": "2020-11-04T22:05:12.674242Z",
     "start_time": "2020-11-04T22:05:12.317989Z"
    }
   },
   "outputs": [],
   "source": [
    "n_obs = 365 * 3\n",
    "seed = 2020\n",
    "rw = make_trend(n_obs, rw_loc=0.01, rw_scale=0.1, seed=seed)\n",
    "fs = make_seasonality(n_obs, seasonality=7, method='fourier', order=5, seed=seed)\n",
    "# coef = [0.2, 0.1, 0.3]\n",
    "# x, y, coef = make_regression(n_obs, coef, scale=2.0, seed=seed)\n",
    "\n",
    "df = pd.DataFrame((rw + fs), columns=['response'])\n",
    "df['date'] = pd.date_range(start='2016-01-01', periods=n_obs)"
   ]
  },
  {
   "cell_type": "code",
   "execution_count": 3,
   "metadata": {},
   "outputs": [
    {
     "data": {
      "text/html": [
       "<div>\n",
       "<style scoped>\n",
       "    .dataframe tbody tr th:only-of-type {\n",
       "        vertical-align: middle;\n",
       "    }\n",
       "\n",
       "    .dataframe tbody tr th {\n",
       "        vertical-align: top;\n",
       "    }\n",
       "\n",
       "    .dataframe thead th {\n",
       "        text-align: right;\n",
       "    }\n",
       "</style>\n",
       "<table border=\"1\" class=\"dataframe\">\n",
       "  <thead>\n",
       "    <tr style=\"text-align: right;\">\n",
       "      <th></th>\n",
       "      <th>response</th>\n",
       "      <th>date</th>\n",
       "    </tr>\n",
       "  </thead>\n",
       "  <tbody>\n",
       "    <tr>\n",
       "      <th>1090</th>\n",
       "      <td>9.544337</td>\n",
       "      <td>2018-12-26</td>\n",
       "    </tr>\n",
       "    <tr>\n",
       "      <th>1091</th>\n",
       "      <td>9.207669</td>\n",
       "      <td>2018-12-27</td>\n",
       "    </tr>\n",
       "    <tr>\n",
       "      <th>1092</th>\n",
       "      <td>9.376404</td>\n",
       "      <td>2018-12-28</td>\n",
       "    </tr>\n",
       "    <tr>\n",
       "      <th>1093</th>\n",
       "      <td>9.541682</td>\n",
       "      <td>2018-12-29</td>\n",
       "    </tr>\n",
       "    <tr>\n",
       "      <th>1094</th>\n",
       "      <td>9.484031</td>\n",
       "      <td>2018-12-30</td>\n",
       "    </tr>\n",
       "  </tbody>\n",
       "</table>\n",
       "</div>"
      ],
      "text/plain": [
       "      response       date\n",
       "1090  9.544337 2018-12-26\n",
       "1091  9.207669 2018-12-27\n",
       "1092  9.376404 2018-12-28\n",
       "1093  9.541682 2018-12-29\n",
       "1094  9.484031 2018-12-30"
      ]
     },
     "execution_count": 3,
     "metadata": {},
     "output_type": "execute_result"
    }
   ],
   "source": [
    "df.tail(5)"
   ]
  },
  {
   "cell_type": "code",
   "execution_count": 4,
   "metadata": {},
   "outputs": [
    {
     "data": {
      "text/plain": [
       "<AxesSubplot:>"
      ]
     },
     "execution_count": 4,
     "metadata": {},
     "output_type": "execute_result"
    },
    {
     "data": {
      "image/png": "[encoded data removed]",
      "text/plain": [
       "<Figure size 432x288 with 1 Axes>"
      ]
     },
     "metadata": {},
     "output_type": "display_data"
    }
   ],
   "source": [
    "df['response'].plot()"
   ]
  },
  {
   "cell_type": "code",
   "execution_count": 5,
   "metadata": {},
   "outputs": [],
   "source": [
    "# create a missing value in testing\n",
    "df.loc[df.shape[0] - 3, 'response'] = np.nan\n",
    "# create a missing value in training\n",
    "df.loc[10, 'response'] = np.nan"
   ]
  },
  {
   "cell_type": "markdown",
   "metadata": {},
   "source": [
    "## Create a BackTester"
   ]
  },
  {
   "cell_type": "code",
   "execution_count": 6,
   "metadata": {
    "ExecuteTime": {
     "end_time": "2020-10-16T00:54:25.336608Z",
     "start_time": "2020-10-16T00:54:25.333188Z"
    }
   },
   "outputs": [],
   "source": [
    "# instantiate a model\n",
    "ktr = KTRLiteMAP(\n",
    "    date_col='date',\n",
    "    response_col='response',\n",
    "    seasonality=[7],\n",
    ")"
   ]
  },
  {
   "cell_type": "code",
   "execution_count": 7,
   "metadata": {
    "ExecuteTime": {
     "end_time": "2020-10-16T00:54:25.935604Z",
     "start_time": "2020-10-16T00:54:25.926024Z"
    }
   },
   "outputs": [],
   "source": [
    "bt = BackTester(\n",
    "    model=ktr,\n",
    "    df=df,\n",
    "    n_splits=3,\n",
    "    incremental_len=100,\n",
    "    forecast_len=20,\n",
    ")"
   ]
  },
  {
   "cell_type": "code",
   "execution_count": 8,
   "metadata": {
    "ExecuteTime": {
     "end_time": "2020-10-16T00:54:28.715505Z",
     "start_time": "2020-10-16T00:54:27.826566Z"
    }
   },
   "outputs": [],
   "source": [
    "bt.fit_predict()"
   ]
  },
  {
   "cell_type": "code",
   "execution_count": 9,
   "metadata": {
    "ExecuteTime": {
     "end_time": "2020-10-16T00:55:03.186691Z",
     "start_time": "2020-10-16T00:55:03.176535Z"
    }
   },
   "outputs": [
    {
     "data": {
      "text/html": [
       "<div>\n",
       "<style scoped>\n",
       "    .dataframe tbody tr th:only-of-type {\n",
       "        vertical-align: middle;\n",
       "    }\n",
       "\n",
       "    .dataframe tbody tr th {\n",
       "        vertical-align: top;\n",
       "    }\n",
       "\n",
       "    .dataframe thead th {\n",
       "        text-align: right;\n",
       "    }\n",
       "</style>\n",
       "<table border=\"1\" class=\"dataframe\">\n",
       "  <thead>\n",
       "    <tr style=\"text-align: right;\">\n",
       "      <th></th>\n",
       "      <th>date</th>\n",
       "      <th>split_key</th>\n",
       "      <th>training_data</th>\n",
       "      <th>actuals</th>\n",
       "      <th>prediction</th>\n",
       "    </tr>\n",
       "  </thead>\n",
       "  <tbody>\n",
       "    <tr>\n",
       "      <th>0</th>\n",
       "      <td>2016-01-01</td>\n",
       "      <td>0</td>\n",
       "      <td>True</td>\n",
       "      <td>0.147641</td>\n",
       "      <td>0.183670</td>\n",
       "    </tr>\n",
       "    <tr>\n",
       "      <th>1</th>\n",
       "      <td>2016-01-02</td>\n",
       "      <td>0</td>\n",
       "      <td>True</td>\n",
       "      <td>0.352353</td>\n",
       "      <td>0.419051</td>\n",
       "    </tr>\n",
       "    <tr>\n",
       "      <th>2</th>\n",
       "      <td>2016-01-03</td>\n",
       "      <td>0</td>\n",
       "      <td>True</td>\n",
       "      <td>0.349375</td>\n",
       "      <td>0.205608</td>\n",
       "    </tr>\n",
       "    <tr>\n",
       "      <th>3</th>\n",
       "      <td>2016-01-04</td>\n",
       "      <td>0</td>\n",
       "      <td>True</td>\n",
       "      <td>0.036540</td>\n",
       "      <td>0.051833</td>\n",
       "    </tr>\n",
       "    <tr>\n",
       "      <th>4</th>\n",
       "      <td>2016-01-05</td>\n",
       "      <td>0</td>\n",
       "      <td>True</td>\n",
       "      <td>0.257475</td>\n",
       "      <td>0.247028</td>\n",
       "    </tr>\n",
       "  </tbody>\n",
       "</table>\n",
       "</div>"
      ],
      "text/plain": [
       "        date  split_key  training_data   actuals  prediction\n",
       "0 2016-01-01          0           True  0.147641    0.183670\n",
       "1 2016-01-02          0           True  0.352353    0.419051\n",
       "2 2016-01-03          0           True  0.349375    0.205608\n",
       "3 2016-01-04          0           True  0.036540    0.051833\n",
       "4 2016-01-05          0           True  0.257475    0.247028"
      ]
     },
     "execution_count": 9,
     "metadata": {},
     "output_type": "execute_result"
    }
   ],
   "source": [
    "predicted_df = bt.get_predicted_df()\n",
    "predicted_df.head()"
   ]
  },
  {
   "cell_type": "code",
   "execution_count": 10,
   "metadata": {},
   "outputs": [
    {
     "data": {
      "text/plain": [
       "date             datetime64[ns]\n",
       "split_key                 int16\n",
       "training_data              bool\n",
       "actuals                 float64\n",
       "prediction              float64\n",
       "dtype: object"
      ]
     },
     "execution_count": 10,
     "metadata": {},
     "output_type": "execute_result"
    }
   ],
   "source": [
    "predicted_df.dtypes"
   ]
  },
  {
   "cell_type": "code",
   "execution_count": 11,
   "metadata": {
    "ExecuteTime": {
     "end_time": "2020-10-16T00:55:46.678297Z",
     "start_time": "2020-10-16T00:55:46.664482Z"
    }
   },
   "outputs": [],
   "source": [
    "bt_score_df = bt.score(include_training_metrics=True)"
   ]
  },
  {
   "cell_type": "code",
   "execution_count": 12,
   "metadata": {},
   "outputs": [
    {
     "data": {
      "text/plain": [
       "metric_name            object\n",
       "metric_values         float64\n",
       "is_training_metric       bool\n",
       "dtype: object"
      ]
     },
     "execution_count": 12,
     "metadata": {},
     "output_type": "execute_result"
    }
   ],
   "source": [
    "bt_score_df.dtypes"
   ]
  },
  {
   "cell_type": "code",
   "execution_count": 13,
   "metadata": {},
   "outputs": [
    {
     "data": {
      "text/html": [
       "<div>\n",
       "<style scoped>\n",
       "    .dataframe tbody tr th:only-of-type {\n",
       "        vertical-align: middle;\n",
       "    }\n",
       "\n",
       "    .dataframe tbody tr th {\n",
       "        vertical-align: top;\n",
       "    }\n",
       "\n",
       "    .dataframe thead th {\n",
       "        text-align: right;\n",
       "    }\n",
       "</style>\n",
       "<table border=\"1\" class=\"dataframe\">\n",
       "  <thead>\n",
       "    <tr style=\"text-align: right;\">\n",
       "      <th></th>\n",
       "      <th>metric_name</th>\n",
       "      <th>metric_values</th>\n",
       "      <th>is_training_metric</th>\n",
       "    </tr>\n",
       "  </thead>\n",
       "  <tbody>\n",
       "    <tr>\n",
       "      <th>0</th>\n",
       "      <td>smape</td>\n",
       "      <td>0.063866</td>\n",
       "      <td>False</td>\n",
       "    </tr>\n",
       "    <tr>\n",
       "      <th>1</th>\n",
       "      <td>wmape</td>\n",
       "      <td>0.065644</td>\n",
       "      <td>False</td>\n",
       "    </tr>\n",
       "    <tr>\n",
       "      <th>2</th>\n",
       "      <td>mape</td>\n",
       "      <td>0.061711</td>\n",
       "      <td>False</td>\n",
       "    </tr>\n",
       "    <tr>\n",
       "      <th>3</th>\n",
       "      <td>mse</td>\n",
       "      <td>0.392491</td>\n",
       "      <td>False</td>\n",
       "    </tr>\n",
       "    <tr>\n",
       "      <th>4</th>\n",
       "      <td>mae</td>\n",
       "      <td>0.517911</td>\n",
       "      <td>False</td>\n",
       "    </tr>\n",
       "    <tr>\n",
       "      <th>5</th>\n",
       "      <td>rmsse</td>\n",
       "      <td>NaN</td>\n",
       "      <td>False</td>\n",
       "    </tr>\n",
       "    <tr>\n",
       "      <th>6</th>\n",
       "      <td>smape</td>\n",
       "      <td>0.138849</td>\n",
       "      <td>True</td>\n",
       "    </tr>\n",
       "    <tr>\n",
       "      <th>7</th>\n",
       "      <td>wmape</td>\n",
       "      <td>0.065737</td>\n",
       "      <td>True</td>\n",
       "    </tr>\n",
       "    <tr>\n",
       "      <th>8</th>\n",
       "      <td>mape</td>\n",
       "      <td>0.402845</td>\n",
       "      <td>True</td>\n",
       "    </tr>\n",
       "    <tr>\n",
       "      <th>9</th>\n",
       "      <td>mse</td>\n",
       "      <td>0.101928</td>\n",
       "      <td>True</td>\n",
       "    </tr>\n",
       "    <tr>\n",
       "      <th>10</th>\n",
       "      <td>mae</td>\n",
       "      <td>0.254099</td>\n",
       "      <td>True</td>\n",
       "    </tr>\n",
       "  </tbody>\n",
       "</table>\n",
       "</div>"
      ],
      "text/plain": [
       "   metric_name  metric_values  is_training_metric\n",
       "0        smape       0.063866               False\n",
       "1        wmape       0.065644               False\n",
       "2         mape       0.061711               False\n",
       "3          mse       0.392491               False\n",
       "4          mae       0.517911               False\n",
       "5        rmsse            NaN               False\n",
       "6        smape       0.138849                True\n",
       "7        wmape       0.065737                True\n",
       "8         mape       0.402845                True\n",
       "9          mse       0.101928                True\n",
       "10         mae       0.254099                True"
      ]
     },
     "execution_count": 13,
     "metadata": {},
     "output_type": "execute_result"
    }
   ],
   "source": [
    "bt_score_df"
   ]
  },
  {
   "cell_type": "code",
   "execution_count": 19,
   "metadata": {},
   "outputs": [
    {
     "data": {
      "text/plain": [
       "array([0.06386552, 0.06564403, 0.06171118, 0.39249146, 0.5179107 ,\n",
       "       0.13884908, 0.06573734, 0.40284464, 0.10192776, 0.25409892])"
      ]
     },
     "execution_count": 19,
     "metadata": {},
     "output_type": "execute_result"
    }
   ],
   "source": [
    "metric_vals"
   ]
  },
  {
   "cell_type": "markdown",
   "metadata": {},
   "source": [
    "## Backtest Get Models\n",
    "\n",
    "In cases where `BackTester` doesn't cut it or for more custom use-cases, there's an interface to export the `TimeSeriesSplitter` and predicted data, as shown earlier. It's also possible to get each of the fitted models for deeper diving"
   ]
  },
  {
   "cell_type": "code",
   "execution_count": 37,
   "metadata": {
    "ExecuteTime": {
     "end_time": "2020-10-16T00:55:49.519528Z",
     "start_time": "2020-10-16T00:55:49.516944Z"
    }
   },
   "outputs": [],
   "source": [
    "fitted_models = bt.get_fitted_models()"
   ]
  },
  {
   "cell_type": "code",
   "execution_count": 14,
   "metadata": {
    "ExecuteTime": {
     "end_time": "2020-10-16T00:55:50.125303Z",
     "start_time": "2020-10-16T00:55:50.113908Z"
    }
   },
   "outputs": [
    {
     "data": {
      "text/html": [
       "<div>\n",
       "<style scoped>\n",
       "    .dataframe tbody tr th:only-of-type {\n",
       "        vertical-align: middle;\n",
       "    }\n",
       "\n",
       "    .dataframe tbody tr th {\n",
       "        vertical-align: top;\n",
       "    }\n",
       "\n",
       "    .dataframe thead th {\n",
       "        text-align: right;\n",
       "    }\n",
       "</style>\n",
       "<table border=\"1\" class=\"dataframe\">\n",
       "  <thead>\n",
       "    <tr style=\"text-align: right;\">\n",
       "      <th></th>\n",
       "      <th>regressor</th>\n",
       "      <th>regressor_sign</th>\n",
       "      <th>coefficient</th>\n",
       "    </tr>\n",
       "  </thead>\n",
       "  <tbody>\n",
       "    <tr>\n",
       "      <th>0</th>\n",
       "      <td>trend.unemploy</td>\n",
       "      <td>Regular</td>\n",
       "      <td>-0.048042</td>\n",
       "    </tr>\n",
       "    <tr>\n",
       "      <th>1</th>\n",
       "      <td>trend.filling</td>\n",
       "      <td>Regular</td>\n",
       "      <td>-0.154309</td>\n",
       "    </tr>\n",
       "    <tr>\n",
       "      <th>2</th>\n",
       "      <td>trend.job</td>\n",
       "      <td>Regular</td>\n",
       "      <td>-0.014131</td>\n",
       "    </tr>\n",
       "  </tbody>\n",
       "</table>\n",
       "</div>"
      ],
      "text/plain": [
       "        regressor regressor_sign  coefficient\n",
       "0  trend.unemploy        Regular    -0.048042\n",
       "1   trend.filling        Regular    -0.154309\n",
       "2       trend.job        Regular    -0.014131"
      ]
     },
     "execution_count": 14,
     "metadata": {},
     "output_type": "execute_result"
    }
   ],
   "source": [
    "model_1 = fitted_models[0]\n",
    "model_1.get_regression_coefs()"
   ]
  },
  {
   "cell_type": "markdown",
   "metadata": {},
   "source": [
    "### Get TimeSeriesSplitter\n",
    "\n",
    "BackTester composes a TimeSeriesSplitter within it, but TimeSeriesSplitter can also be created on its own as a standalone object. See section below on TimeSeriesSplitter for more details on how to use the splitter.\n",
    "\n",
    "All of the additional TimeSeriesSplitter args can also be passed into BackTester on instantiation"
   ]
  },
  {
   "cell_type": "code",
   "execution_count": 15,
   "metadata": {
    "ExecuteTime": {
     "end_time": "2020-10-16T00:55:51.717393Z",
     "start_time": "2020-10-16T00:55:51.542107Z"
    }
   },
   "outputs": [
    {
     "data": {
      "text/plain": [
       "<matplotlib.axes._subplots.AxesSubplot at 0x10f75ccd0>"
      ]
     },
     "execution_count": 15,
     "metadata": {},
     "output_type": "execute_result"
    },
    {
     "data": {
      "image/png": "[encoded data removed]",
      "text/plain": [
       "<Figure size 1440x288 with 1 Axes>"
      ]
     },
     "metadata": {},
     "output_type": "display_data"
    }
   ],
   "source": [
    "ts_splitter = bt.get_splitter()\n",
    "ts_splitter.plot()"
   ]
  },
  {
   "cell_type": "markdown",
   "metadata": {},
   "source": [
    "## Appendix"
   ]
  },
  {
   "cell_type": "markdown",
   "metadata": {},
   "source": [
    "### Create a TimeSeriesSplitter"
   ]
  },
  {
   "cell_type": "markdown",
   "metadata": {},
   "source": [
    "####  Expanding window"
   ]
  },
  {
   "cell_type": "code",
   "execution_count": 16,
   "metadata": {
    "ExecuteTime": {
     "end_time": "2020-10-16T00:55:52.865009Z",
     "start_time": "2020-10-16T00:55:52.862329Z"
    }
   },
   "outputs": [],
   "source": [
    "min_train_len = 380\n",
    "forecast_len = 20\n",
    "incremental_len = 20"
   ]
  },
  {
   "cell_type": "code",
   "execution_count": 17,
   "metadata": {
    "ExecuteTime": {
     "end_time": "2020-10-16T00:55:53.118048Z",
     "start_time": "2020-10-16T00:55:53.114955Z"
    }
   },
   "outputs": [],
   "source": [
    "ex_splitter = TimeSeriesSplitter(data, min_train_len, incremental_len, forecast_len, \n",
    "                                 window_type='expanding', date_col='week')"
   ]
  },
  {
   "cell_type": "code",
   "execution_count": 18,
   "metadata": {
    "ExecuteTime": {
     "end_time": "2020-10-16T00:55:53.367555Z",
     "start_time": "2020-10-16T00:55:53.364123Z"
    }
   },
   "outputs": [
    {
     "name": "stdout",
     "output_type": "stream",
     "text": [
      "\n",
      "------------ Fold: (1 / 3)------------\n",
      "Train start index: 0 Train end index: 379\n",
      "Test start index: 380 Test end index: 399\n",
      "Train start date: 2010-01-03 00:00:00 Train end date: 2017-04-09 00:00:00\n",
      "Test start date: 2017-04-16 00:00:00 Test end date: 2017-08-27 00:00:00\n",
      "\n",
      "------------ Fold: (2 / 3)------------\n",
      "Train start index: 0 Train end index: 399\n",
      "Test start index: 400 Test end index: 419\n",
      "Train start date: 2010-01-03 00:00:00 Train end date: 2017-08-27 00:00:00\n",
      "Test start date: 2017-09-03 00:00:00 Test end date: 2018-01-14 00:00:00\n",
      "\n",
      "------------ Fold: (3 / 3)------------\n",
      "Train start index: 0 Train end index: 419\n",
      "Test start index: 420 Test end index: 439\n",
      "Train start date: 2010-01-03 00:00:00 Train end date: 2018-01-14 00:00:00\n",
      "Test start date: 2018-01-21 00:00:00 Test end date: 2018-06-03 00:00:00\n",
      "\n"
     ]
    }
   ],
   "source": [
    "print(ex_splitter)"
   ]
  },
  {
   "cell_type": "code",
   "execution_count": 19,
   "metadata": {
    "ExecuteTime": {
     "end_time": "2020-10-16T00:55:54.076022Z",
     "start_time": "2020-10-16T00:55:53.927110Z"
    }
   },
   "outputs": [
    {
     "data": {
      "text/plain": [
       "<matplotlib.axes._subplots.AxesSubplot at 0x14563ded0>"
      ]
     },
     "execution_count": 19,
     "metadata": {},
     "output_type": "execute_result"
    },
    {
     "data": {
      "image/png": "[encoded data removed]",
      "text/plain": [
       "<Figure size 1440x216 with 1 Axes>"
      ]
     },
     "metadata": {},
     "output_type": "display_data"
    }
   ],
   "source": [
    "ex_splitter.plot()"
   ]
  },
  {
   "cell_type": "markdown",
   "metadata": {},
   "source": [
    "#### Rolling window"
   ]
  },
  {
   "cell_type": "code",
   "execution_count": 20,
   "metadata": {
    "ExecuteTime": {
     "end_time": "2020-10-16T00:55:54.613846Z",
     "start_time": "2020-10-16T00:55:54.610515Z"
    }
   },
   "outputs": [],
   "source": [
    "roll_splitter = TimeSeriesSplitter(data, min_train_len, incremental_len, forecast_len, \n",
    "                                   window_type='rolling', date_col='week')"
   ]
  },
  {
   "cell_type": "code",
   "execution_count": 21,
   "metadata": {
    "ExecuteTime": {
     "end_time": "2020-10-16T00:55:55.077752Z",
     "start_time": "2020-10-16T00:55:54.923415Z"
    }
   },
   "outputs": [
    {
     "data": {
      "text/plain": [
       "<matplotlib.axes._subplots.AxesSubplot at 0x14578d610>"
      ]
     },
     "execution_count": 21,
     "metadata": {},
     "output_type": "execute_result"
    },
    {
     "data": {
      "image/png": "[encoded data removed]",
      "text/plain": [
       "<Figure size 1440x216 with 1 Axes>"
      ]
     },
     "metadata": {},
     "output_type": "display_data"
    }
   ],
   "source": [
    "roll_splitter.plot()"
   ]
  },
  {
   "cell_type": "markdown",
   "metadata": {},
   "source": [
    "#### Specifying number of splits"
   ]
  },
  {
   "cell_type": "markdown",
   "metadata": {},
   "source": [
    "User can also define number of splits using `n_splits` instead of specifying minimum training length.  That way, minimum training length will be automatically calculated."
   ]
  },
  {
   "cell_type": "code",
   "execution_count": 22,
   "metadata": {
    "ExecuteTime": {
     "end_time": "2020-10-16T00:55:55.796835Z",
     "start_time": "2020-10-16T00:55:55.792574Z"
    }
   },
   "outputs": [],
   "source": [
    "ex_splitter2 = TimeSeriesSplitter(data, min_train_len, incremental_len, forecast_len, \n",
    "                                  n_splits=5, window_type='expanding', date_col='week')"
   ]
  },
  {
   "cell_type": "code",
   "execution_count": 23,
   "metadata": {
    "ExecuteTime": {
     "end_time": "2020-10-16T00:55:56.331666Z",
     "start_time": "2020-10-16T00:55:56.147782Z"
    }
   },
   "outputs": [
    {
     "data": {
      "text/plain": [
       "<matplotlib.axes._subplots.AxesSubplot at 0x1457dcd50>"
      ]
     },
     "execution_count": 23,
     "metadata": {},
     "output_type": "execute_result"
    },
    {
     "data": {
      "image/png": "[encoded data removed]",
      "text/plain": [
       "<Figure size 1440x360 with 1 Axes>"
      ]
     },
     "metadata": {},
     "output_type": "display_data"
    }
   ],
   "source": [
    "ex_splitter2.plot()"
   ]
  }
 ],
 "metadata": {
  "kernelspec": {
   "display_name": "py39_orbit",
   "language": "python",
   "name": "py39_orbit"
  },
  "language_info": {
   "codemirror_mode": {
    "name": "ipython",
    "version": 3
   },
   "file_extension": ".py",
   "mimetype": "text/x-python",
   "name": "python",
   "nbconvert_exporter": "python",
   "pygments_lexer": "ipython3",
   "version": "3.9.5"
  },
  "toc": {
   "base_numbering": 1,
   "nav_menu": {},
   "number_sections": true,
   "sideBar": true,
   "skip_h1_title": false,
   "title_cell": "Table of Contents",
   "title_sidebar": "Contents",
   "toc_cell": false,
   "toc_position": {
    "height": "calc(100% - 180px)",
    "left": "10px",
    "top": "150px",
    "width": "306.391px"
   },
   "toc_section_display": true,
   "toc_window_display": true
  },
  "toc-autonumbering": false,
  "toc-showcode": false
 },
 "nbformat": 4,
 "nbformat_minor": 4
}
