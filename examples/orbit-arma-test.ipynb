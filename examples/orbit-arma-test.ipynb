{
 "cells": [
  {
   "cell_type": "markdown",
   "id": "billion-disposal",
   "metadata": {},
   "source": [
    "This notebook gives an example of a multi seasonal AR model in orbit.\n",
    "There are three parts: Data is simulated, Orbit ARMA and statsmodel ARMA are fit, and results are plotted / compared. "
   ]
  },
  {
   "cell_type": "markdown",
   "id": "0f0b6a42",
   "metadata": {},
   "source": [
    "# Preliminary Test on Orbit ARMA Model"
   ]
  },
  {
   "cell_type": "code",
   "execution_count": null,
   "id": "european-region",
   "metadata": {},
   "outputs": [],
   "source": [
    "from datetime import datetime, timedelta\n",
    "import datetime as dt \n",
    "\n",
    "import pandas as pd\n",
    "import numpy as np\n",
    "import torch\n",
    "\n",
    "import matplotlib.pyplot as plt\n",
    "%matplotlib inline\n",
    "\n",
    "from statsmodels.tsa.arima.model import ARIMA\n",
    "from statsmodels.graphics.tsaplots import plot_predict\n",
    "\n",
    "import orbit\n",
    "from orbit.models import DLT,ETS, KTRLite, LGT, ARMA\n",
    "from orbit.utils.simulation import make_trend, make_regression\n",
    "from orbit.diagnostics.plot import plot_predicted_data, plot_predicted_components\n",
    "from orbit.diagnostics.metrics import smape"
   ]
  },
  {
   "cell_type": "code",
   "execution_count": null,
   "id": "exposed-spring",
   "metadata": {},
   "outputs": [],
   "source": [
    "%load_ext autoreload\n",
    "%autoreload 2"
   ]
  },
  {
   "cell_type": "markdown",
   "id": "6d5a029d",
   "metadata": {},
   "source": [
    "## Data Simulation\n",
    "AR 1,24"
   ]
  },
  {
   "cell_type": "code",
   "execution_count": null,
   "id": "cubic-aggregate",
   "metadata": {},
   "outputs": [],
   "source": [
    "# make the data\n",
    "n = 744 # hourly for 1 month \n",
    "\n",
    "\n",
    "eta = np.random.normal(0, 1.0, n)\n",
    "\n",
    "rho = [0.60, -0.15]\n",
    "y = eta.copy()\n",
    "for i in range(2, n):\n",
    "    y[i] = rho[0]*y[i-1] + rho[1]*y[i-24] +eta[i]\n",
    "     \n",
    "\n",
    "plt.plot(y)\n"
   ]
  },
  {
   "cell_type": "code",
   "execution_count": null,
   "id": "elementary-command",
   "metadata": {},
   "outputs": [],
   "source": [
    "def daterange(start_date, end_date):\n",
    "    delta = timedelta(hours=1)\n",
    "    while start_date < end_date:\n",
    "        yield start_date\n",
    "        start_date += delta\n",
    "        \n",
    "hours = [datetime(2013, 1, 1, 14, 00)]        \n",
    "\n",
    "start_date = datetime(2021, 1, 1, 00, 00)\n",
    "end_date = datetime(2022, 1, 1, 00, 00)\n",
    "i = 0\n",
    "for single_date in daterange(start_date, end_date):\n",
    "    hours[i]=hours.append(single_date.strftime(\"%Y-%m-%d %H:%M\"))       \n",
    "    i += i\n",
    "hours = hours[1:(n+1)]\n",
    "hours = [dt.datetime.strptime(hour, \"%Y-%m-%d %H:%M\") for hour in hours]"
   ]
  },
  {
   "cell_type": "code",
   "execution_count": null,
   "id": "gothic-tracker",
   "metadata": {},
   "outputs": [],
   "source": [
    "df = pd.DataFrame()\n",
    "df['hours'] = hours\n",
    "df['y'] = y"
   ]
  },
  {
   "cell_type": "code",
   "execution_count": null,
   "id": "single-easter",
   "metadata": {},
   "outputs": [],
   "source": [
    "df_train = df[0:372]\n",
    "df_test = df[372:n]"
   ]
  },
  {
   "cell_type": "code",
   "execution_count": null,
   "id": "diagnostic-sponsorship",
   "metadata": {},
   "outputs": [],
   "source": []
  },
  {
   "cell_type": "markdown",
   "id": "8aca5445",
   "metadata": {},
   "source": [
    "## Prediction Comparison orbit-ml vs. statsmodels"
   ]
  },
  {
   "cell_type": "markdown",
   "id": "6e8dab63",
   "metadata": {},
   "source": [
    "### AR 1, 24"
   ]
  },
  {
   "cell_type": "code",
   "execution_count": null,
   "id": "bright-camping",
   "metadata": {},
   "outputs": [],
   "source": [
    "# orbit model and prediction \n",
    "mod = ARMA(\n",
    "        level_first=0,\n",
    "        estimator='stan-mcmc',\n",
    "        date_col='hours',\n",
    "        response_col='y',\n",
    "        #ma_lags = [1] ,\n",
    "        ar_lags = [1,24],\n",
    "    num_warmup=10000,\n",
    "    num_sample=50000,\n",
    ")\n",
    "mod.fit(df_train)\n",
    "pred = mod.predict(df)\n",
    "pred = pred.rename(columns={\n",
    "    'prediction': 'prediction_orbit',\n",
    "    'prediction_5': 'prediction_5_orbit',\n",
    "    'prediction_95': 'prediction_95_orbit',\n",
    "})"
   ]
  },
  {
   "cell_type": "code",
   "execution_count": null,
   "id": "changed-coordinate",
   "metadata": {},
   "outputs": [],
   "source": [
    "# stats model and prediction \n",
    "y = pd.Series(df_train['y'])\n",
    "arma_mod = ARIMA(y, order=(1, 0, 0), seasonal_order= (1,0,0,24))\n",
    "arma_res = arma_mod.fit()\n",
    "forecast = arma_res.get_forecast(372)\n",
    "yhat = forecast.predicted_mean\n",
    "yhat_conf_int = forecast.conf_int(alpha=0.10)\n",
    "pred['prediction_5_statsmodel'] = yhat_conf_int['lower y']\n",
    "pred['prediction_statsmodel'] = yhat\n",
    "pred['prediction_95_statsmodel'] = yhat_conf_int['upper y']"
   ]
  },
  {
   "cell_type": "markdown",
   "id": "fuzzy-vegetation",
   "metadata": {},
   "source": [
    "# Compare Orbit and Statsmodel"
   ]
  },
  {
   "cell_type": "code",
   "execution_count": null,
   "id": "1e923b5d",
   "metadata": {},
   "outputs": [],
   "source": [
    "#plot the two predictions \n",
    "fig, ax = plt.subplots(1, 1, figsize=(16, 8))\n",
    "#plt.xlim(['2021-01-16 12:00:00', '2021-01-31 12:00:00'])\n",
    "ax.set_xlim([dt.datetime(2021, 1, 16, 12,0,0), dt.datetime(2021, 1, 31, 0,0,0)])\n",
    "ax.plot(pred['hours'], pred['prediction_orbit'], label='orbit', color = \"blue\")\n",
    "ax.plot(pred['hours'], pred['prediction_statsmodel'], label='statsmodel', color = \"red\")\n",
    "ax.plot(pred['hours'], pred['prediction_5_orbit'], label='orbit 5',  color = \"blue\")\n",
    "ax.plot(pred['hours'], pred['prediction_5_statsmodel'], label='statsmodel 5', color = \"red\")\n",
    "ax.plot(pred['hours'], pred['prediction_95_orbit'], label='orbit 95', color = \"blue\")\n",
    "ax.plot(pred['hours'], pred['prediction_95_statsmodel'], label='statsmodel 95', color = \"red\")\n",
    "ax.legend()\n",
    "\n",
    "\n",
    "fig, ax = plt.subplots(1, 1, figsize=(16, 8))\n",
    "#plt.xlim(['2021-01-16 12:00:00', '2021-01-31 12:00:00'])\n",
    "ax.set_xlim([dt.datetime(2021, 1, 16, 12,0,0), dt.datetime(2021, 1, 18, 0,0,0)])\n",
    "ax.plot(pred['hours'], pred['prediction_orbit'], label='orbit', color = \"blue\")\n",
    "ax.plot(pred['hours'], pred['prediction_statsmodel'], label='statsmodel', color = \"red\")\n",
    "ax.plot(pred['hours'], pred['prediction_5_orbit'], label='orbit 5',  color = \"blue\")\n",
    "ax.plot(pred['hours'], pred['prediction_5_statsmodel'], label='statsmodel 5', color = \"red\")\n",
    "ax.plot(pred['hours'], pred['prediction_95_orbit'], label='orbit 95', color = \"blue\")\n",
    "ax.plot(pred['hours'], pred['prediction_95_statsmodel'], label='statsmodel 95', color = \"red\")\n",
    "ax.legend()\n"
   ]
  },
  {
   "cell_type": "code",
   "execution_count": null,
   "id": "greater-winning",
   "metadata": {},
   "outputs": [],
   "source": [
    "# orbit \n",
    "A = mod.get_posterior_samples()\n",
    "print('mu'+' '+ str(np.percentile(A['mu'], (2.5, 50, 97.5)) ))\n",
    "print('rho_1'+' '+str(np.percentile(A['rho'][:,0], (2.5, 50, 97.5))))\n",
    "print('rho_24'+' '+str(np.percentile(A['rho'][:,1], (2.5, 50, 97.5))))\n",
    "print('sigma'+' '+str(np.percentile(A['obs_sigma'], (2.5, 50, 97.5))))"
   ]
  },
  {
   "cell_type": "code",
   "execution_count": null,
   "id": "conventional-armor",
   "metadata": {},
   "outputs": [],
   "source": [
    "# statsmodel\n",
    "arma_res.summary()"
   ]
  },
  {
   "cell_type": "code",
   "execution_count": null,
   "id": "minor-homeless",
   "metadata": {},
   "outputs": [],
   "source": []
  },
  {
   "cell_type": "code",
   "execution_count": null,
   "id": "configured-quebec",
   "metadata": {},
   "outputs": [],
   "source": []
  }
 ],
 "metadata": {
  "kernelspec": {
   "display_name": "p37_2022",
   "language": "python",
   "name": "dev"
  },
  "language_info": {
   "codemirror_mode": {
    "name": "ipython",
    "version": 3
   },
   "file_extension": ".py",
   "mimetype": "text/x-python",
   "name": "python",
   "nbconvert_exporter": "python",
   "pygments_lexer": "ipython3",
   "version": "3.7.12"
  },
  "toc": {
   "base_numbering": 1,
   "nav_menu": {},
   "number_sections": true,
   "sideBar": true,
   "skip_h1_title": true,
   "title_cell": "Table of Contents",
   "title_sidebar": "Contents",
   "toc_cell": false,
   "toc_position": {},
   "toc_section_display": true,
   "toc_window_display": true
  }
 },
 "nbformat": 4,
 "nbformat_minor": 5
}
