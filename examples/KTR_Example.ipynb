{
 "cells": [
  {
   "cell_type": "markdown",
   "metadata": {},
   "source": [
    "# KTR Examples"
   ]
  },
  {
   "cell_type": "code",
   "execution_count": 1,
   "metadata": {
    "ExecuteTime": {
     "end_time": "2021-02-05T00:04:46.526306Z",
     "start_time": "2021-02-05T00:04:46.507576Z"
    }
   },
   "outputs": [],
   "source": [
    "%load_ext autoreload\n",
    "%autoreload 2"
   ]
  },
  {
   "cell_type": "code",
   "execution_count": 2,
   "metadata": {
    "ExecuteTime": {
     "end_time": "2021-02-05T00:04:49.034879Z",
     "start_time": "2021-02-05T00:04:47.169594Z"
    }
   },
   "outputs": [],
   "source": [
    "import pandas as pd\n",
    "import numpy as np\n",
    "from orbit.models.ktrlite import KTRLiteMAP\n",
    "from orbit.models.ktrx import KTRXAggregated\n",
    "\n",
    "from orbit.estimators.pyro_estimator import PyroEstimatorVI, PyroEstimatorMAP\n",
    "from orbit.estimators.stan_estimator import StanEstimatorMCMC, StanEstimatorMAP\n",
    "\n",
    "from orbit.utils.features import make_fourier_series_df, make_fourier_series\n",
    "from orbit.diagnostics.plot import plot_predicted_data\n",
    "from orbit.diagnostics.metrics import smape\n",
    "\n",
    "import matplotlib.pyplot as plt\n",
    "plt.style.use(\"fivethirtyeight\")"
   ]
  },
  {
   "cell_type": "code",
   "execution_count": 3,
   "metadata": {
    "ExecuteTime": {
     "end_time": "2021-02-05T00:04:49.064720Z",
     "start_time": "2021-02-05T00:04:49.037502Z"
    }
   },
   "outputs": [],
   "source": [
    "pd.set_option('display.float_format', lambda x: '%.5f' % x)"
   ]
  },
  {
   "cell_type": "markdown",
   "metadata": {},
   "source": [
    "## Data"
   ]
  },
  {
   "cell_type": "code",
   "execution_count": 4,
   "metadata": {
    "ExecuteTime": {
     "end_time": "2021-02-05T00:04:49.844463Z",
     "start_time": "2021-02-05T00:04:49.805090Z"
    }
   },
   "outputs": [
    {
     "data": {
      "text/plain": [
       "week              datetime64[ns]\n",
       "claims                     int64\n",
       "trend.unemploy           float64\n",
       "trend.filling            float64\n",
       "trend.job                float64\n",
       "dtype: object"
      ]
     },
     "execution_count": 4,
     "metadata": {},
     "output_type": "execute_result"
    }
   ],
   "source": [
    "DATA_FILE = \"./data/iclaims_example.csv\"\n",
    "date_col = 'week'\n",
    "response_col = 'claims'\n",
    "df = pd.read_csv(DATA_FILE, parse_dates=[date_col])\n",
    "df.dtypes"
   ]
  },
  {
   "cell_type": "code",
   "execution_count": 5,
   "metadata": {
    "ExecuteTime": {
     "end_time": "2021-02-05T00:04:50.193040Z",
     "start_time": "2021-02-05T00:04:50.158505Z"
    }
   },
   "outputs": [],
   "source": [
    "df[['claims', 'trend.unemploy', 'trend.filling', 'trend.job']] =\\\n",
    "    df[['claims', 'trend.unemploy', 'trend.filling', 'trend.job']].apply(np.log)"
   ]
  },
  {
   "cell_type": "code",
   "execution_count": 6,
   "metadata": {
    "ExecuteTime": {
     "end_time": "2021-02-05T00:04:51.546660Z",
     "start_time": "2021-02-05T00:04:51.507586Z"
    }
   },
   "outputs": [
    {
     "data": {
      "text/html": [
       "<div>\n",
       "<style scoped>\n",
       "    .dataframe tbody tr th:only-of-type {\n",
       "        vertical-align: middle;\n",
       "    }\n",
       "\n",
       "    .dataframe tbody tr th {\n",
       "        vertical-align: top;\n",
       "    }\n",
       "\n",
       "    .dataframe thead th {\n",
       "        text-align: right;\n",
       "    }\n",
       "</style>\n",
       "<table border=\"1\" class=\"dataframe\">\n",
       "  <thead>\n",
       "    <tr style=\"text-align: right;\">\n",
       "      <th></th>\n",
       "      <th>week</th>\n",
       "      <th>claims</th>\n",
       "      <th>trend.unemploy</th>\n",
       "      <th>trend.filling</th>\n",
       "      <th>trend.job</th>\n",
       "    </tr>\n",
       "  </thead>\n",
       "  <tbody>\n",
       "    <tr>\n",
       "      <th>0</th>\n",
       "      <td>2010-01-03</td>\n",
       "      <td>13.38660</td>\n",
       "      <td>0.16888</td>\n",
       "      <td>-0.32831</td>\n",
       "      <td>0.11303</td>\n",
       "    </tr>\n",
       "    <tr>\n",
       "      <th>1</th>\n",
       "      <td>2010-01-10</td>\n",
       "      <td>13.62422</td>\n",
       "      <td>0.16888</td>\n",
       "      <td>-0.20470</td>\n",
       "      <td>0.16433</td>\n",
       "    </tr>\n",
       "    <tr>\n",
       "      <th>2</th>\n",
       "      <td>2010-01-17</td>\n",
       "      <td>13.39874</td>\n",
       "      <td>0.18514</td>\n",
       "      <td>-0.30233</td>\n",
       "      <td>0.11303</td>\n",
       "    </tr>\n",
       "    <tr>\n",
       "      <th>3</th>\n",
       "      <td>2010-01-24</td>\n",
       "      <td>13.13755</td>\n",
       "      <td>0.15235</td>\n",
       "      <td>-0.20470</td>\n",
       "      <td>0.10245</td>\n",
       "    </tr>\n",
       "    <tr>\n",
       "      <th>4</th>\n",
       "      <td>2010-01-31</td>\n",
       "      <td>13.19676</td>\n",
       "      <td>0.08335</td>\n",
       "      <td>-0.25232</td>\n",
       "      <td>0.07002</td>\n",
       "    </tr>\n",
       "  </tbody>\n",
       "</table>\n",
       "</div>"
      ],
      "text/plain": [
       "        week   claims  trend.unemploy  trend.filling  trend.job\n",
       "0 2010-01-03 13.38660         0.16888       -0.32831    0.11303\n",
       "1 2010-01-10 13.62422         0.16888       -0.20470    0.16433\n",
       "2 2010-01-17 13.39874         0.18514       -0.30233    0.11303\n",
       "3 2010-01-24 13.13755         0.15235       -0.20470    0.10245\n",
       "4 2010-01-31 13.19676         0.08335       -0.25232    0.07002"
      ]
     },
     "execution_count": 6,
     "metadata": {},
     "output_type": "execute_result"
    }
   ],
   "source": [
    "df.head()"
   ]
  },
  {
   "cell_type": "markdown",
   "metadata": {},
   "source": [
    "### Train / Test Split"
   ]
  },
  {
   "cell_type": "code",
   "execution_count": 7,
   "metadata": {
    "ExecuteTime": {
     "end_time": "2021-02-05T00:04:53.292491Z",
     "start_time": "2021-02-05T00:04:53.259796Z"
    }
   },
   "outputs": [],
   "source": [
    "test_size=52\n",
    "train_df=df[:-test_size]\n",
    "test_df=df[-test_size:]"
   ]
  },
  {
   "cell_type": "markdown",
   "metadata": {},
   "source": [
    "## KTRLite"
   ]
  },
  {
   "cell_type": "code",
   "execution_count": 13,
   "metadata": {
    "ExecuteTime": {
     "end_time": "2021-02-05T00:06:53.743731Z",
     "start_time": "2021-02-05T00:06:53.709175Z"
    }
   },
   "outputs": [],
   "source": [
    "ktr_stan = KTRLiteMAP(\n",
    "    response_col='claims',\n",
    "    date_col='week',\n",
    "    # seasonality\n",
    "    seasonality=52,\n",
    "    seasonality_fs_order=5,\n",
    "    level_knot_scale=.5,\n",
    "    span_level=.1,\n",
    "    span_coefficients=.3,\n",
    "    rho_coefficients=.15,\n",
    "    estimator_type=StanEstimatorMAP,\n",
    ")"
   ]
  },
  {
   "cell_type": "code",
   "execution_count": 14,
   "metadata": {
    "ExecuteTime": {
     "end_time": "2021-02-05T00:06:54.350361Z",
     "start_time": "2021-02-05T00:06:54.250355Z"
    }
   },
   "outputs": [],
   "source": [
    "ktr_stan.fit(train_df)"
   ]
  },
  {
   "cell_type": "code",
   "execution_count": 15,
   "metadata": {
    "ExecuteTime": {
     "end_time": "2021-02-05T00:06:55.277809Z",
     "start_time": "2021-02-05T00:06:55.230249Z"
    }
   },
   "outputs": [
    {
     "data": {
      "text/html": [
       "<div>\n",
       "<style scoped>\n",
       "    .dataframe tbody tr th:only-of-type {\n",
       "        vertical-align: middle;\n",
       "    }\n",
       "\n",
       "    .dataframe tbody tr th {\n",
       "        vertical-align: top;\n",
       "    }\n",
       "\n",
       "    .dataframe thead th {\n",
       "        text-align: right;\n",
       "    }\n",
       "</style>\n",
       "<table border=\"1\" class=\"dataframe\">\n",
       "  <thead>\n",
       "    <tr style=\"text-align: right;\">\n",
       "      <th></th>\n",
       "      <th>week</th>\n",
       "      <th>prediction</th>\n",
       "      <th>trend</th>\n",
       "      <th>seasonality_52</th>\n",
       "    </tr>\n",
       "  </thead>\n",
       "  <tbody>\n",
       "    <tr>\n",
       "      <th>0</th>\n",
       "      <td>2017-07-02</td>\n",
       "      <td>12.40007</td>\n",
       "      <td>12.37371</td>\n",
       "      <td>0.02636</td>\n",
       "    </tr>\n",
       "    <tr>\n",
       "      <th>1</th>\n",
       "      <td>2017-07-09</td>\n",
       "      <td>12.39214</td>\n",
       "      <td>12.37371</td>\n",
       "      <td>0.01843</td>\n",
       "    </tr>\n",
       "    <tr>\n",
       "      <th>2</th>\n",
       "      <td>2017-07-16</td>\n",
       "      <td>12.37149</td>\n",
       "      <td>12.37371</td>\n",
       "      <td>-0.00222</td>\n",
       "    </tr>\n",
       "    <tr>\n",
       "      <th>3</th>\n",
       "      <td>2017-07-23</td>\n",
       "      <td>12.34031</td>\n",
       "      <td>12.37371</td>\n",
       "      <td>-0.03341</td>\n",
       "    </tr>\n",
       "    <tr>\n",
       "      <th>4</th>\n",
       "      <td>2017-07-30</td>\n",
       "      <td>12.30210</td>\n",
       "      <td>12.37371</td>\n",
       "      <td>-0.07161</td>\n",
       "    </tr>\n",
       "  </tbody>\n",
       "</table>\n",
       "</div>"
      ],
      "text/plain": [
       "        week  prediction    trend  seasonality_52\n",
       "0 2017-07-02    12.40007 12.37371         0.02636\n",
       "1 2017-07-09    12.39214 12.37371         0.01843\n",
       "2 2017-07-16    12.37149 12.37371        -0.00222\n",
       "3 2017-07-23    12.34031 12.37371        -0.03341\n",
       "4 2017-07-30    12.30210 12.37371        -0.07161"
      ]
     },
     "execution_count": 15,
     "metadata": {},
     "output_type": "execute_result"
    }
   ],
   "source": [
    "predicted_df = ktr_stan.predict(df=test_df, decompose=True)\n",
    "predicted_df.head()"
   ]
  },
  {
   "cell_type": "code",
   "execution_count": 16,
   "metadata": {
    "ExecuteTime": {
     "end_time": "2021-02-05T00:06:58.441865Z",
     "start_time": "2021-02-05T00:06:58.182295Z"
    }
   },
   "outputs": [
    {
     "data": {
      "image/png": "[encoded data removed]",
      "text/plain": [
       "<Figure size 1152x576 with 1 Axes>"
      ]
     },
     "metadata": {},
     "output_type": "display_data"
    }
   ],
   "source": [
    "_ = plot_predicted_data(training_actual_df=train_df, predicted_df=predicted_df, \n",
    "                    date_col='week', actual_col='claims', \n",
    "                    test_actual_df=test_df)"
   ]
  },
  {
   "cell_type": "markdown",
   "metadata": {},
   "source": [
    "## KTRX"
   ]
  },
  {
   "cell_type": "code",
   "execution_count": 17,
   "metadata": {
    "ExecuteTime": {
     "end_time": "2021-02-05T00:07:01.962971Z",
     "start_time": "2021-02-05T00:07:01.930381Z"
    }
   },
   "outputs": [],
   "source": [
    "level_knot_dates = ktr_stan._level_knot_dates\n",
    "level_knots = ktr_stan._aggregate_posteriors['map']['lev_knot'][0]\n",
    "seasonal_knots_input = {\n",
    "    '_seas_coef_knot_dates': ktr_stan._coef_knot_dates,\n",
    "    '_sea_coef_knot': ktr_stan._aggregate_posteriors['map']['coef_knot'],\n",
    "    '_sea_rho': ktr_stan.rho_coefficients,\n",
    "    '_seasonality': ktr_stan._seasonality,\n",
    "    '_seasonality_fs_order': ktr_stan._seasonality_fs_order,\n",
    "} "
   ]
  },
  {
   "cell_type": "code",
   "execution_count": 18,
   "metadata": {
    "ExecuteTime": {
     "end_time": "2021-02-05T00:07:02.352863Z",
     "start_time": "2021-02-05T00:07:02.318895Z"
    }
   },
   "outputs": [],
   "source": [
    "ktr_pyro = KTRXAggregated(\n",
    "    response_col='claims',\n",
    "    date_col='week',\n",
    "    regressor_col=['trend.unemploy', 'trend.filling', 'trend.job'],\n",
    "    level_knot_dates=level_knot_dates,\n",
    "    level_knots=level_knots,\n",
    "    seasonal_knots_input=seasonal_knots_input,\n",
    "    level_knot_scale=.1, #.01\n",
    "    span_coefficients=0.3,\n",
    "    rho_coefficients=0.15,\n",
    "    # pyro optimization parameters\n",
    "    seed=8888,\n",
    "    num_steps=1000,\n",
    "    num_sample=1000,\n",
    "    learning_rate=0.1,\n",
    "    #learning_rate_total_decay=0.05,\n",
    "    verbose=False,\n",
    "    message=100,\n",
    "    aggregate_method=\"median\",\n",
    "    estimator_type=PyroEstimatorVI,\n",
    ")"
   ]
  },
  {
   "cell_type": "code",
   "execution_count": 19,
   "metadata": {
    "ExecuteTime": {
     "end_time": "2021-02-05T00:07:16.747986Z",
     "start_time": "2021-02-05T00:07:03.530907Z"
    }
   },
   "outputs": [
    {
     "name": "stderr",
     "output_type": "stream",
     "text": [
      "INFO:root:Guessed max_plate_nesting = 1\n"
     ]
    }
   ],
   "source": [
    "ktr_pyro.fit(train_df)"
   ]
  },
  {
   "cell_type": "code",
   "execution_count": 20,
   "metadata": {
    "ExecuteTime": {
     "end_time": "2021-02-05T00:07:16.797800Z",
     "start_time": "2021-02-05T00:07:16.750521Z"
    }
   },
   "outputs": [
    {
     "data": {
      "text/html": [
       "<div>\n",
       "<style scoped>\n",
       "    .dataframe tbody tr th:only-of-type {\n",
       "        vertical-align: middle;\n",
       "    }\n",
       "\n",
       "    .dataframe tbody tr th {\n",
       "        vertical-align: top;\n",
       "    }\n",
       "\n",
       "    .dataframe thead th {\n",
       "        text-align: right;\n",
       "    }\n",
       "</style>\n",
       "<table border=\"1\" class=\"dataframe\">\n",
       "  <thead>\n",
       "    <tr style=\"text-align: right;\">\n",
       "      <th></th>\n",
       "      <th>week</th>\n",
       "      <th>prediction</th>\n",
       "      <th>trend</th>\n",
       "      <th>seasonality_input</th>\n",
       "      <th>regression</th>\n",
       "    </tr>\n",
       "  </thead>\n",
       "  <tbody>\n",
       "    <tr>\n",
       "      <th>0</th>\n",
       "      <td>2017-07-02</td>\n",
       "      <td>12.37039</td>\n",
       "      <td>12.36388</td>\n",
       "      <td>0.02636</td>\n",
       "      <td>-0.01985</td>\n",
       "    </tr>\n",
       "    <tr>\n",
       "      <th>1</th>\n",
       "      <td>2017-07-09</td>\n",
       "      <td>12.38165</td>\n",
       "      <td>12.36388</td>\n",
       "      <td>0.01843</td>\n",
       "      <td>-0.00065</td>\n",
       "    </tr>\n",
       "    <tr>\n",
       "      <th>2</th>\n",
       "      <td>2017-07-16</td>\n",
       "      <td>12.35637</td>\n",
       "      <td>12.36388</td>\n",
       "      <td>-0.00222</td>\n",
       "      <td>-0.00528</td>\n",
       "    </tr>\n",
       "    <tr>\n",
       "      <th>3</th>\n",
       "      <td>2017-07-23</td>\n",
       "      <td>12.33205</td>\n",
       "      <td>12.36388</td>\n",
       "      <td>-0.03341</td>\n",
       "      <td>0.00157</td>\n",
       "    </tr>\n",
       "    <tr>\n",
       "      <th>4</th>\n",
       "      <td>2017-07-30</td>\n",
       "      <td>12.29769</td>\n",
       "      <td>12.36388</td>\n",
       "      <td>-0.07161</td>\n",
       "      <td>0.00542</td>\n",
       "    </tr>\n",
       "  </tbody>\n",
       "</table>\n",
       "</div>"
      ],
      "text/plain": [
       "        week  prediction    trend  seasonality_input  regression\n",
       "0 2017-07-02    12.37039 12.36388            0.02636    -0.01985\n",
       "1 2017-07-09    12.38165 12.36388            0.01843    -0.00065\n",
       "2 2017-07-16    12.35637 12.36388           -0.00222    -0.00528\n",
       "3 2017-07-23    12.33205 12.36388           -0.03341     0.00157\n",
       "4 2017-07-30    12.29769 12.36388           -0.07161     0.00542"
      ]
     },
     "execution_count": 20,
     "metadata": {},
     "output_type": "execute_result"
    }
   ],
   "source": [
    "predicted_df = ktr_pyro.predict(df=test_df, decompose=True)\n",
    "predicted_df.head()"
   ]
  },
  {
   "cell_type": "code",
   "execution_count": 22,
   "metadata": {
    "ExecuteTime": {
     "end_time": "2021-02-05T00:07:31.093112Z",
     "start_time": "2021-02-05T00:07:30.847509Z"
    }
   },
   "outputs": [
    {
     "data": {
      "image/png": "[encoded data removed]",
      "text/plain": [
       "<Figure size 1152x576 with 1 Axes>"
      ]
     },
     "metadata": {},
     "output_type": "display_data"
    }
   ],
   "source": [
    "_ = plot_predicted_data(training_actual_df=train_df, predicted_df=predicted_df, \n",
    "                    date_col='week', actual_col='claims', \n",
    "                    test_actual_df=test_df)"
   ]
  },
  {
   "cell_type": "code",
   "execution_count": null,
   "metadata": {},
   "outputs": [],
   "source": []
  }
 ],
 "metadata": {
  "kernelspec": {
   "display_name": "Python 3",
   "language": "python",
   "name": "python3"
  },
  "language_info": {
   "codemirror_mode": {
    "name": "ipython",
    "version": 3
   },
   "file_extension": ".py",
   "mimetype": "text/x-python",
   "name": "python",
   "nbconvert_exporter": "python",
   "pygments_lexer": "ipython3",
   "version": "3.7.7"
  },
  "toc": {
   "base_numbering": 1,
   "nav_menu": {},
   "number_sections": true,
   "sideBar": true,
   "skip_h1_title": true,
   "title_cell": "Table of Contents",
   "title_sidebar": "Contents",
   "toc_cell": false,
   "toc_position": {},
   "toc_section_display": true,
   "toc_window_display": true
  }
 },
 "nbformat": 4,
 "nbformat_minor": 4
}
