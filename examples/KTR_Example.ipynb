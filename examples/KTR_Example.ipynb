{
 "cells": [
  {
   "cell_type": "markdown",
   "metadata": {},
   "source": [
    "# KTR Examples"
   ]
  },
  {
   "cell_type": "code",
   "execution_count": 1,
   "metadata": {
    "ExecuteTime": {
     "end_time": "2021-02-04T22:43:38.095153Z",
     "start_time": "2021-02-04T22:43:38.077815Z"
    }
   },
   "outputs": [],
   "source": [
    "%load_ext autoreload\n",
    "%autoreload 2"
   ]
  },
  {
   "cell_type": "code",
   "execution_count": 2,
   "metadata": {
    "ExecuteTime": {
     "end_time": "2021-02-04T22:43:40.482523Z",
     "start_time": "2021-02-04T22:43:38.289984Z"
    }
   },
   "outputs": [],
   "source": [
    "import pandas as pd\n",
    "import numpy as np\n",
    "from orbit.models.ktrlite import KTRLiteMAP\n",
    "from orbit.models.ktrx import KTRXAggregated\n",
    "\n",
    "from orbit.estimators.pyro_estimator import PyroEstimatorVI, PyroEstimatorMAP\n",
    "from orbit.estimators.stan_estimator import StanEstimatorMCMC, StanEstimatorMAP\n",
    "\n",
    "from orbit.utils.features import make_fourier_series_df, make_fourier_series\n",
    "from orbit.diagnostics.plot import plot_predicted_data\n",
    "from orbit.diagnostics.metrics import smape\n",
    "\n",
    "import matplotlib.pyplot as plt\n",
    "plt.style.use(\"fivethirtyeight\")"
   ]
  },
  {
   "cell_type": "code",
   "execution_count": 3,
   "metadata": {
    "ExecuteTime": {
     "end_time": "2021-02-04T22:43:40.512464Z",
     "start_time": "2021-02-04T22:43:40.484810Z"
    }
   },
   "outputs": [],
   "source": [
    "pd.set_option('display.float_format', lambda x: '%.5f' % x)"
   ]
  },
  {
   "cell_type": "markdown",
   "metadata": {},
   "source": [
    "## Data"
   ]
  },
  {
   "cell_type": "code",
   "execution_count": 4,
   "metadata": {
    "ExecuteTime": {
     "end_time": "2021-02-04T22:43:40.553304Z",
     "start_time": "2021-02-04T22:43:40.514756Z"
    }
   },
   "outputs": [
    {
     "data": {
      "text/plain": [
       "week              datetime64[ns]\n",
       "claims                     int64\n",
       "trend.unemploy           float64\n",
       "trend.filling            float64\n",
       "trend.job                float64\n",
       "dtype: object"
      ]
     },
     "execution_count": 4,
     "metadata": {},
     "output_type": "execute_result"
    }
   ],
   "source": [
    "DATA_FILE = \"./data/iclaims_example.csv\"\n",
    "date_col = 'week'\n",
    "response_col = 'claims'\n",
    "df = pd.read_csv(DATA_FILE, parse_dates=[date_col])\n",
    "df.dtypes"
   ]
  },
  {
   "cell_type": "code",
   "execution_count": 5,
   "metadata": {
    "ExecuteTime": {
     "end_time": "2021-02-04T22:43:40.589092Z",
     "start_time": "2021-02-04T22:43:40.555389Z"
    }
   },
   "outputs": [],
   "source": [
    "df[['claims', 'trend.unemploy', 'trend.filling', 'trend.job']] =\\\n",
    "    df[['claims', 'trend.unemploy', 'trend.filling', 'trend.job']].apply(np.log)"
   ]
  },
  {
   "cell_type": "code",
   "execution_count": 30,
   "metadata": {
    "ExecuteTime": {
     "end_time": "2021-02-04T22:57:01.497783Z",
     "start_time": "2021-02-04T22:57:01.460393Z"
    }
   },
   "outputs": [
    {
     "data": {
      "text/html": [
       "<div>\n",
       "<style scoped>\n",
       "    .dataframe tbody tr th:only-of-type {\n",
       "        vertical-align: middle;\n",
       "    }\n",
       "\n",
       "    .dataframe tbody tr th {\n",
       "        vertical-align: top;\n",
       "    }\n",
       "\n",
       "    .dataframe thead th {\n",
       "        text-align: right;\n",
       "    }\n",
       "</style>\n",
       "<table border=\"1\" class=\"dataframe\">\n",
       "  <thead>\n",
       "    <tr style=\"text-align: right;\">\n",
       "      <th></th>\n",
       "      <th>week</th>\n",
       "      <th>claims</th>\n",
       "      <th>trend.unemploy</th>\n",
       "      <th>trend.filling</th>\n",
       "      <th>trend.job</th>\n",
       "    </tr>\n",
       "  </thead>\n",
       "  <tbody>\n",
       "    <tr>\n",
       "      <th>0</th>\n",
       "      <td>2010-01-03</td>\n",
       "      <td>13.38660</td>\n",
       "      <td>0.16888</td>\n",
       "      <td>-0.32831</td>\n",
       "      <td>0.11303</td>\n",
       "    </tr>\n",
       "    <tr>\n",
       "      <th>1</th>\n",
       "      <td>2010-01-10</td>\n",
       "      <td>13.62422</td>\n",
       "      <td>0.16888</td>\n",
       "      <td>-0.20470</td>\n",
       "      <td>0.16433</td>\n",
       "    </tr>\n",
       "    <tr>\n",
       "      <th>2</th>\n",
       "      <td>2010-01-17</td>\n",
       "      <td>13.39874</td>\n",
       "      <td>0.18514</td>\n",
       "      <td>-0.30233</td>\n",
       "      <td>0.11303</td>\n",
       "    </tr>\n",
       "    <tr>\n",
       "      <th>3</th>\n",
       "      <td>2010-01-24</td>\n",
       "      <td>13.13755</td>\n",
       "      <td>0.15235</td>\n",
       "      <td>-0.20470</td>\n",
       "      <td>0.10245</td>\n",
       "    </tr>\n",
       "    <tr>\n",
       "      <th>4</th>\n",
       "      <td>2010-01-31</td>\n",
       "      <td>13.19676</td>\n",
       "      <td>0.08335</td>\n",
       "      <td>-0.25232</td>\n",
       "      <td>0.07002</td>\n",
       "    </tr>\n",
       "  </tbody>\n",
       "</table>\n",
       "</div>"
      ],
      "text/plain": [
       "        week   claims  trend.unemploy  trend.filling  trend.job\n",
       "0 2010-01-03 13.38660         0.16888       -0.32831    0.11303\n",
       "1 2010-01-10 13.62422         0.16888       -0.20470    0.16433\n",
       "2 2010-01-17 13.39874         0.18514       -0.30233    0.11303\n",
       "3 2010-01-24 13.13755         0.15235       -0.20470    0.10245\n",
       "4 2010-01-31 13.19676         0.08335       -0.25232    0.07002"
      ]
     },
     "execution_count": 30,
     "metadata": {},
     "output_type": "execute_result"
    }
   ],
   "source": [
    "df.head()"
   ]
  },
  {
   "cell_type": "markdown",
   "metadata": {},
   "source": [
    "### Train / Test Split"
   ]
  },
  {
   "cell_type": "code",
   "execution_count": 6,
   "metadata": {
    "ExecuteTime": {
     "end_time": "2021-02-04T22:43:40.626986Z",
     "start_time": "2021-02-04T22:43:40.593035Z"
    }
   },
   "outputs": [],
   "source": [
    "test_size=52\n",
    "train_df=df[:-test_size]\n",
    "test_df=df[-test_size:]"
   ]
  },
  {
   "cell_type": "markdown",
   "metadata": {},
   "source": [
    "## KTRLiteMAP"
   ]
  },
  {
   "cell_type": "code",
   "execution_count": 90,
   "metadata": {
    "ExecuteTime": {
     "end_time": "2021-02-04T23:44:26.851980Z",
     "start_time": "2021-02-04T23:44:26.667058Z"
    }
   },
   "outputs": [],
   "source": [
    "ktr_stan = KTRLiteMAP(\n",
    "    response_col='claims',\n",
    "    date_col='week',\n",
    "    # seasonality\n",
    "    #seasonality=52,\n",
    "   # seasonality_fs_order=5,\n",
    "    level_knot_scale=.5,\n",
    "    span_level=.1,\n",
    "    span_coefficients=.3,\n",
    "    rho_coefficients=.15,\n",
    "    estimator_type=StanEstimatorMAP,\n",
    ")"
   ]
  },
  {
   "cell_type": "code",
   "execution_count": 91,
   "metadata": {
    "ExecuteTime": {
     "end_time": "2021-02-04T23:44:26.972761Z",
     "start_time": "2021-02-04T23:44:26.915924Z"
    }
   },
   "outputs": [],
   "source": [
    "ktr_stan.fit(train_df)"
   ]
  },
  {
   "cell_type": "code",
   "execution_count": 94,
   "metadata": {
    "ExecuteTime": {
     "end_time": "2021-02-04T23:48:29.805235Z",
     "start_time": "2021-02-04T23:48:29.766391Z"
    }
   },
   "outputs": [],
   "source": [
    "def sandwich_kernel(x, x_i):\n",
    "    \"\"\"\n",
    "    x: points required to compute kernel weight\n",
    "    x_i: reference points location used to compute correspondent distance of each entry points\n",
    "    rho: smoothing parameter known as \"length-scale\" in gaussian process\n",
    "    alpha: marginal standard deviation parameter in gaussian process; one should ignore in kernel regression (keep it = 1.0)\n",
    "    b[deprecated]: radius or sometime named as (2*rho) that controls strength of covariance; the smaller the shorter raidus (dist. to negihbour)\n",
    "    will take into effect\n",
    "    return:\n",
    "        a matrix with N x M such that\n",
    "        N as the number of entry points\n",
    "        M as the number of reference points\n",
    "        matrix entries hold the value of weight of each element\n",
    "    see also:\n",
    "      1. https://mc-stan.org/docs/2_24/stan-users-guide/gaussian-process-regression.html\n",
    "      2. https://en.wikipedia.org/wiki/Local_regression\n",
    "    \"\"\"\n",
    "    N = len(x)\n",
    "    M = len(x_i)\n",
    "    k = np.zeros((N, M), dtype=np.double)\n",
    "\n",
    "    np_idx = np.where(x < x_i[0])\n",
    "    k[np_idx, 0] = 1\n",
    "\n",
    "    for m in range(M - 1):\n",
    "        np_idx = np.where(np.logical_and(x >= x_i[m], x < x_i[m + 1]))\n",
    "        total_dist = x_i[m + 1] - x_i[m]\n",
    "        backward_dist = x[np_idx] - x_i[m]\n",
    "        forward_dist = x_i[m + 1] - x[np_idx]\n",
    "        k[np_idx, m] = forward_dist / total_dist\n",
    "        k[np_idx, m + 1] = backward_dist / total_dist\n",
    "\n",
    "    np_idx = np.where(x >= x_i[M - 1])\n",
    "    k[np_idx, M - 1] = 1\n",
    "\n",
    "    # TODO: it is probably not needed\n",
    "    k = k / np.sum(k, axis=1, keepdims=True)\n",
    "\n",
    "    return k"
   ]
  },
  {
   "cell_type": "code",
   "execution_count": 97,
   "metadata": {
    "ExecuteTime": {
     "end_time": "2021-02-04T23:49:43.194935Z",
     "start_time": "2021-02-04T23:49:43.161092Z"
    }
   },
   "outputs": [
    {
     "data": {
      "text/plain": [
       "array([[1. , 0. ],\n",
       "       [0.5, 0.5]])"
      ]
     },
     "execution_count": 97,
     "metadata": {},
     "output_type": "execute_result"
    }
   ],
   "source": [
    "sandwich_kernel(np.array([0.2,0.4]), np.array([0.3,0.5]))"
   ]
  },
  {
   "cell_type": "code",
   "execution_count": 93,
   "metadata": {
    "ExecuteTime": {
     "end_time": "2021-02-04T23:45:38.623335Z",
     "start_time": "2021-02-04T23:45:38.360275Z"
    }
   },
   "outputs": [
    {
     "name": "stdout",
     "output_type": "stream",
     "text": [
      "[1.00255754 1.00511509 1.00767263 1.01023018 1.01278772 1.01534527\n",
      " 1.01790281 1.02046036 1.0230179  1.02557545 1.02813299 1.03069054\n",
      " 1.03324808 1.03580563 1.03836317 1.04092072 1.04347826 1.04603581\n",
      " 1.04859335 1.0511509  1.05370844 1.05626598 1.05882353 1.06138107\n",
      " 1.06393862 1.06649616 1.06905371 1.07161125 1.0741688  1.07672634\n",
      " 1.07928389 1.08184143 1.08439898 1.08695652 1.08951407 1.09207161\n",
      " 1.09462916 1.0971867  1.09974425 1.10230179 1.10485934 1.10741688\n",
      " 1.10997442 1.11253197 1.11508951 1.11764706 1.1202046  1.12276215\n",
      " 1.12531969 1.12787724 1.13043478 1.13299233]\n",
      "[0.05370844 0.15601023 0.25831202 0.36061381 0.4629156  0.56521739\n",
      " 0.66751918 0.76982097 0.87212276 0.97442455]\n",
      "(1, 52)\n",
      "[[12.38557094 12.38557094 12.38557094 12.38557094 12.38557094 12.38557094\n",
      "  12.38557094 12.38557094 12.38557094 12.38557094 12.38557094 12.38557094\n",
      "  12.38557094 12.38557094 12.38557094 12.38557094 12.38557094 12.38557094\n",
      "  12.38557094 12.38557094 12.38557094 12.38557094 12.38557094 12.38557094\n",
      "  12.38557094 12.38557094 12.38557094 12.38557094 12.38557094 12.38557094\n",
      "  12.38557094 12.38557094 12.38557094 12.38557094 12.38557094 12.38557094\n",
      "  12.38557094 12.38557094 12.38557094 12.38557094 12.38557094 12.38557094\n",
      "  12.38557094 12.38557094 12.38557094 12.38557094 12.38557094 12.38557094\n",
      "  12.38557094 12.38557094 12.38557094 12.38557094]]\n",
      "[[13.0380925  12.92284189 12.86513206 12.78733568 12.72597613 12.65330015\n",
      "  12.57407385 12.46516087 12.45206347 12.38557094]]\n",
      "[[0. 0. 0. 0. 0. 0. 0. 0. 0. 1.]\n",
      " [0. 0. 0. 0. 0. 0. 0. 0. 0. 1.]\n",
      " [0. 0. 0. 0. 0. 0. 0. 0. 0. 1.]\n",
      " [0. 0. 0. 0. 0. 0. 0. 0. 0. 1.]\n",
      " [0. 0. 0. 0. 0. 0. 0. 0. 0. 1.]\n",
      " [0. 0. 0. 0. 0. 0. 0. 0. 0. 1.]\n",
      " [0. 0. 0. 0. 0. 0. 0. 0. 0. 1.]\n",
      " [0. 0. 0. 0. 0. 0. 0. 0. 0. 1.]\n",
      " [0. 0. 0. 0. 0. 0. 0. 0. 0. 1.]\n",
      " [0. 0. 0. 0. 0. 0. 0. 0. 0. 1.]\n",
      " [0. 0. 0. 0. 0. 0. 0. 0. 0. 1.]\n",
      " [0. 0. 0. 0. 0. 0. 0. 0. 0. 1.]\n",
      " [0. 0. 0. 0. 0. 0. 0. 0. 0. 1.]\n",
      " [0. 0. 0. 0. 0. 0. 0. 0. 0. 1.]\n",
      " [0. 0. 0. 0. 0. 0. 0. 0. 0. 1.]\n",
      " [0. 0. 0. 0. 0. 0. 0. 0. 0. 1.]\n",
      " [0. 0. 0. 0. 0. 0. 0. 0. 0. 1.]\n",
      " [0. 0. 0. 0. 0. 0. 0. 0. 0. 1.]\n",
      " [0. 0. 0. 0. 0. 0. 0. 0. 0. 1.]\n",
      " [0. 0. 0. 0. 0. 0. 0. 0. 0. 1.]\n",
      " [0. 0. 0. 0. 0. 0. 0. 0. 0. 1.]\n",
      " [0. 0. 0. 0. 0. 0. 0. 0. 0. 1.]\n",
      " [0. 0. 0. 0. 0. 0. 0. 0. 0. 1.]\n",
      " [0. 0. 0. 0. 0. 0. 0. 0. 0. 1.]\n",
      " [0. 0. 0. 0. 0. 0. 0. 0. 0. 1.]\n",
      " [0. 0. 0. 0. 0. 0. 0. 0. 0. 1.]\n",
      " [0. 0. 0. 0. 0. 0. 0. 0. 0. 1.]\n",
      " [0. 0. 0. 0. 0. 0. 0. 0. 0. 1.]\n",
      " [0. 0. 0. 0. 0. 0. 0. 0. 0. 1.]\n",
      " [0. 0. 0. 0. 0. 0. 0. 0. 0. 1.]\n",
      " [0. 0. 0. 0. 0. 0. 0. 0. 0. 1.]\n",
      " [0. 0. 0. 0. 0. 0. 0. 0. 0. 1.]\n",
      " [0. 0. 0. 0. 0. 0. 0. 0. 0. 1.]\n",
      " [0. 0. 0. 0. 0. 0. 0. 0. 0. 1.]\n",
      " [0. 0. 0. 0. 0. 0. 0. 0. 0. 1.]\n",
      " [0. 0. 0. 0. 0. 0. 0. 0. 0. 1.]\n",
      " [0. 0. 0. 0. 0. 0. 0. 0. 0. 1.]\n",
      " [0. 0. 0. 0. 0. 0. 0. 0. 0. 1.]\n",
      " [0. 0. 0. 0. 0. 0. 0. 0. 0. 1.]\n",
      " [0. 0. 0. 0. 0. 0. 0. 0. 0. 1.]\n",
      " [0. 0. 0. 0. 0. 0. 0. 0. 0. 1.]\n",
      " [0. 0. 0. 0. 0. 0. 0. 0. 0. 1.]\n",
      " [0. 0. 0. 0. 0. 0. 0. 0. 0. 1.]\n",
      " [0. 0. 0. 0. 0. 0. 0. 0. 0. 1.]\n",
      " [0. 0. 0. 0. 0. 0. 0. 0. 0. 1.]\n",
      " [0. 0. 0. 0. 0. 0. 0. 0. 0. 1.]\n",
      " [0. 0. 0. 0. 0. 0. 0. 0. 0. 1.]\n",
      " [0. 0. 0. 0. 0. 0. 0. 0. 0. 1.]\n",
      " [0. 0. 0. 0. 0. 0. 0. 0. 0. 1.]\n",
      " [0. 0. 0. 0. 0. 0. 0. 0. 0. 1.]\n",
      " [0. 0. 0. 0. 0. 0. 0. 0. 0. 1.]\n",
      " [0. 0. 0. 0. 0. 0. 0. 0. 0. 1.]]\n"
     ]
    },
    {
     "data": {
      "text/html": [
       "<div>\n",
       "<style scoped>\n",
       "    .dataframe tbody tr th:only-of-type {\n",
       "        vertical-align: middle;\n",
       "    }\n",
       "\n",
       "    .dataframe tbody tr th {\n",
       "        vertical-align: top;\n",
       "    }\n",
       "\n",
       "    .dataframe thead th {\n",
       "        text-align: right;\n",
       "    }\n",
       "</style>\n",
       "<table border=\"1\" class=\"dataframe\">\n",
       "  <thead>\n",
       "    <tr style=\"text-align: right;\">\n",
       "      <th></th>\n",
       "      <th>week</th>\n",
       "      <th>prediction</th>\n",
       "      <th>trend</th>\n",
       "    </tr>\n",
       "  </thead>\n",
       "  <tbody>\n",
       "    <tr>\n",
       "      <th>0</th>\n",
       "      <td>2017-07-02</td>\n",
       "      <td>12.38557</td>\n",
       "      <td>12.38557</td>\n",
       "    </tr>\n",
       "    <tr>\n",
       "      <th>1</th>\n",
       "      <td>2017-07-09</td>\n",
       "      <td>12.38557</td>\n",
       "      <td>12.38557</td>\n",
       "    </tr>\n",
       "    <tr>\n",
       "      <th>2</th>\n",
       "      <td>2017-07-16</td>\n",
       "      <td>12.38557</td>\n",
       "      <td>12.38557</td>\n",
       "    </tr>\n",
       "    <tr>\n",
       "      <th>3</th>\n",
       "      <td>2017-07-23</td>\n",
       "      <td>12.38557</td>\n",
       "      <td>12.38557</td>\n",
       "    </tr>\n",
       "    <tr>\n",
       "      <th>4</th>\n",
       "      <td>2017-07-30</td>\n",
       "      <td>12.38557</td>\n",
       "      <td>12.38557</td>\n",
       "    </tr>\n",
       "  </tbody>\n",
       "</table>\n",
       "</div>"
      ],
      "text/plain": [
       "        week  prediction    trend\n",
       "0 2017-07-02    12.38557 12.38557\n",
       "1 2017-07-09    12.38557 12.38557\n",
       "2 2017-07-16    12.38557 12.38557\n",
       "3 2017-07-23    12.38557 12.38557\n",
       "4 2017-07-30    12.38557 12.38557"
      ]
     },
     "execution_count": 93,
     "metadata": {},
     "output_type": "execute_result"
    }
   ],
   "source": [
    "predicted_df = ktr_stan.predict(test_df, decompose=True)\n",
    "predicted_df.head()"
   ]
  },
  {
   "cell_type": "code",
   "execution_count": 86,
   "metadata": {
    "ExecuteTime": {
     "end_time": "2021-02-04T23:41:31.042602Z",
     "start_time": "2021-02-04T23:41:30.724479Z"
    }
   },
   "outputs": [
    {
     "data": {
      "image/png": "[encoded data removed]",
      "text/plain": [
       "<Figure size 1152x576 with 1 Axes>"
      ]
     },
     "metadata": {},
     "output_type": "display_data"
    }
   ],
   "source": [
    "_ = plot_predicted_data(training_actual_df=train_df, predicted_df=predicted_df, \n",
    "                    date_col='week', actual_col='claims', \n",
    "                    test_actual_df=test_df)"
   ]
  },
  {
   "cell_type": "markdown",
   "metadata": {},
   "source": [
    "## KTRXAggregated"
   ]
  },
  {
   "cell_type": "code",
   "execution_count": 58,
   "metadata": {
    "ExecuteTime": {
     "end_time": "2021-02-04T23:25:00.069028Z",
     "start_time": "2021-02-04T23:25:00.002423Z"
    }
   },
   "outputs": [],
   "source": [
    "level_knot_dates = ktr_stan._level_knot_dates\n",
    "level_knots = ktr_stan._aggregate_posteriors['map']['lev_knot'][0]\n",
    "seasonal_knots_input = {\n",
    "    '_seas_coef_knot_dates': ktr_stan._coef_knot_dates,\n",
    "    '_sea_coef_knot': ktr_stan._aggregate_posteriors['map']['coef_knot'],\n",
    "    '_sea_rho': ktr_stan.rho_coefficients,\n",
    "    '_seasonality': ktr_stan._seasonality,\n",
    "    '_seasonality_fs_order': ktr_stan._seasonality_fs_order,\n",
    "} "
   ]
  },
  {
   "cell_type": "code",
   "execution_count": 65,
   "metadata": {
    "ExecuteTime": {
     "end_time": "2021-02-04T23:27:17.199863Z",
     "start_time": "2021-02-04T23:27:17.163414Z"
    }
   },
   "outputs": [],
   "source": [
    "ktr_pyro = KTRXAggregated(\n",
    "    response_col='claims',\n",
    "    date_col='week',\n",
    "    #regressor_col=['trend.unemploy', 'trend.filling', 'trend.job'],\n",
    "    level_knot_dates=level_knot_dates,\n",
    "    level_knots=level_knots,\n",
    "    seasonal_knots_input=seasonal_knots_input,\n",
    "    level_knot_scale=.1, #.01\n",
    "    span_coefficients=0.3,\n",
    "    rho_coefficients=0.15,\n",
    "    # pyro optimization parameters\n",
    "    seed=8888,\n",
    "    num_steps=1000,\n",
    "    num_sample=1000,\n",
    "    learning_rate=0.1,\n",
    "    #learning_rate_total_decay=0.05,\n",
    "    verbose=False,\n",
    "    message=100,\n",
    "    aggregate_method=\"median\",\n",
    "    estimator_type=PyroEstimatorVI,\n",
    ")"
   ]
  },
  {
   "cell_type": "code",
   "execution_count": 66,
   "metadata": {
    "ExecuteTime": {
     "end_time": "2021-02-04T23:27:28.239992Z",
     "start_time": "2021-02-04T23:27:17.807666Z"
    }
   },
   "outputs": [
    {
     "name": "stderr",
     "output_type": "stream",
     "text": [
      "INFO:root:Guessed max_plate_nesting = 1\n"
     ]
    }
   ],
   "source": [
    "ktr_pyro.fit(train_df)"
   ]
  },
  {
   "cell_type": "code",
   "execution_count": 67,
   "metadata": {
    "ExecuteTime": {
     "end_time": "2021-02-04T23:27:28.287190Z",
     "start_time": "2021-02-04T23:27:28.242890Z"
    }
   },
   "outputs": [
    {
     "data": {
      "text/html": [
       "<div>\n",
       "<style scoped>\n",
       "    .dataframe tbody tr th:only-of-type {\n",
       "        vertical-align: middle;\n",
       "    }\n",
       "\n",
       "    .dataframe tbody tr th {\n",
       "        vertical-align: top;\n",
       "    }\n",
       "\n",
       "    .dataframe thead th {\n",
       "        text-align: right;\n",
       "    }\n",
       "</style>\n",
       "<table border=\"1\" class=\"dataframe\">\n",
       "  <thead>\n",
       "    <tr style=\"text-align: right;\">\n",
       "      <th></th>\n",
       "      <th>week</th>\n",
       "      <th>prediction</th>\n",
       "      <th>trend</th>\n",
       "      <th>seasonality_input</th>\n",
       "      <th>regression</th>\n",
       "    </tr>\n",
       "  </thead>\n",
       "  <tbody>\n",
       "    <tr>\n",
       "      <th>0</th>\n",
       "      <td>2017-07-02</td>\n",
       "      <td>12.39230</td>\n",
       "      <td>12.36594</td>\n",
       "      <td>0.02636</td>\n",
       "      <td>0.00000</td>\n",
       "    </tr>\n",
       "    <tr>\n",
       "      <th>1</th>\n",
       "      <td>2017-07-09</td>\n",
       "      <td>12.38437</td>\n",
       "      <td>12.36594</td>\n",
       "      <td>0.01843</td>\n",
       "      <td>0.00000</td>\n",
       "    </tr>\n",
       "    <tr>\n",
       "      <th>2</th>\n",
       "      <td>2017-07-16</td>\n",
       "      <td>12.36372</td>\n",
       "      <td>12.36594</td>\n",
       "      <td>-0.00222</td>\n",
       "      <td>0.00000</td>\n",
       "    </tr>\n",
       "    <tr>\n",
       "      <th>3</th>\n",
       "      <td>2017-07-23</td>\n",
       "      <td>12.33253</td>\n",
       "      <td>12.36594</td>\n",
       "      <td>-0.03341</td>\n",
       "      <td>0.00000</td>\n",
       "    </tr>\n",
       "    <tr>\n",
       "      <th>4</th>\n",
       "      <td>2017-07-30</td>\n",
       "      <td>12.29433</td>\n",
       "      <td>12.36594</td>\n",
       "      <td>-0.07161</td>\n",
       "      <td>0.00000</td>\n",
       "    </tr>\n",
       "  </tbody>\n",
       "</table>\n",
       "</div>"
      ],
      "text/plain": [
       "        week  prediction    trend  seasonality_input  regression\n",
       "0 2017-07-02    12.39230 12.36594            0.02636     0.00000\n",
       "1 2017-07-09    12.38437 12.36594            0.01843     0.00000\n",
       "2 2017-07-16    12.36372 12.36594           -0.00222     0.00000\n",
       "3 2017-07-23    12.33253 12.36594           -0.03341     0.00000\n",
       "4 2017-07-30    12.29433 12.36594           -0.07161     0.00000"
      ]
     },
     "execution_count": 67,
     "metadata": {},
     "output_type": "execute_result"
    }
   ],
   "source": [
    "predicted_df = ktr_pyro.predict(df=test_df, decompose=True)\n",
    "predicted_df.head()"
   ]
  },
  {
   "cell_type": "code",
   "execution_count": 68,
   "metadata": {
    "ExecuteTime": {
     "end_time": "2021-02-04T23:27:28.325376Z",
     "start_time": "2021-02-04T23:27:28.289432Z"
    }
   },
   "outputs": [
    {
     "data": {
      "text/plain": [
       "0    12.36594\n",
       "1    12.36594\n",
       "2    12.36594\n",
       "3    12.36594\n",
       "4    12.36594\n",
       "5    12.36594\n",
       "6    12.36594\n",
       "7    12.36594\n",
       "8    12.36594\n",
       "9    12.36594\n",
       "10   12.36594\n",
       "11   12.36594\n",
       "12   12.36594\n",
       "13   12.36594\n",
       "14   12.36594\n",
       "15   12.36594\n",
       "16   12.36594\n",
       "17   12.36594\n",
       "18   12.36594\n",
       "19   12.36594\n",
       "20   12.36594\n",
       "21   12.36594\n",
       "22   12.36594\n",
       "23   12.36594\n",
       "24   12.36594\n",
       "25   12.36594\n",
       "26   12.36594\n",
       "27   12.36594\n",
       "28   12.36594\n",
       "29   12.36594\n",
       "30   12.36594\n",
       "31   12.36594\n",
       "32   12.36594\n",
       "33   12.36594\n",
       "34   12.36594\n",
       "35   12.36594\n",
       "36   12.36594\n",
       "37   12.36594\n",
       "38   12.36594\n",
       "39   12.36594\n",
       "40   12.36594\n",
       "41   12.36594\n",
       "42   12.36594\n",
       "43   12.36594\n",
       "44   12.36594\n",
       "45   12.36594\n",
       "46   12.36594\n",
       "47   12.36594\n",
       "48   12.36594\n",
       "49   12.36594\n",
       "50   12.36594\n",
       "51   12.36594\n",
       "Name: trend, dtype: float64"
      ]
     },
     "execution_count": 68,
     "metadata": {},
     "output_type": "execute_result"
    }
   ],
   "source": [
    "predicted_df.trend"
   ]
  },
  {
   "cell_type": "code",
   "execution_count": 69,
   "metadata": {
    "ExecuteTime": {
     "end_time": "2021-02-04T23:27:28.602989Z",
     "start_time": "2021-02-04T23:27:28.327478Z"
    }
   },
   "outputs": [
    {
     "data": {
      "image/png": "[encoded data removed]",
      "text/plain": [
       "<Figure size 1152x576 with 1 Axes>"
      ]
     },
     "metadata": {},
     "output_type": "display_data"
    },
    {
     "data": {
      "text/plain": [
       "<matplotlib.axes._subplots.AxesSubplot at 0x13e851fd0>"
      ]
     },
     "execution_count": 69,
     "metadata": {},
     "output_type": "execute_result"
    }
   ],
   "source": [
    "plot_predicted_data(training_actual_df=train_df, predicted_df=predicted_df, \n",
    "                    date_col='week', actual_col='claims', \n",
    "                    test_actual_df=test_df)"
   ]
  },
  {
   "cell_type": "code",
   "execution_count": null,
   "metadata": {},
   "outputs": [],
   "source": []
  },
  {
   "cell_type": "markdown",
   "metadata": {},
   "source": [
    "## hyper-parameter tuning [TO Check]"
   ]
  },
  {
   "cell_type": "code",
   "execution_count": 37,
   "metadata": {
    "ExecuteTime": {
     "end_time": "2020-12-04T19:02:32.247652Z",
     "start_time": "2020-12-04T19:02:32.217129Z"
    }
   },
   "outputs": [],
   "source": [
    "from orbit.diagnostics.backtest import grid_search_orbit\n",
    "from orbit.diagnostics.metrics import smape, mape, wmape"
   ]
  },
  {
   "cell_type": "code",
   "execution_count": 38,
   "metadata": {
    "ExecuteTime": {
     "end_time": "2020-12-04T19:02:33.038185Z",
     "start_time": "2020-12-04T19:02:33.007379Z"
    }
   },
   "outputs": [],
   "source": [
    "# param_grid = {'num_steps': [100, 1000]}\n",
    "\n",
    "param_grid = {'span_level': [0.1, 0.2], 'span_coefficients': [0.2, 0.3],\n",
    "              'rho_level': [0.05, 0.1], 'rho_coefficients': [0.15, 0.2]}"
   ]
  },
  {
   "cell_type": "code",
   "execution_count": 40,
   "metadata": {
    "ExecuteTime": {
     "end_time": "2020-12-04T19:06:38.493105Z",
     "start_time": "2020-12-04T19:02:42.691602Z"
    },
    "scrolled": true
   },
   "outputs": [
    {
     "name": "stderr",
     "output_type": "stream",
     "text": [
      "\r",
      "  0%|          | 0/16 [00:00<?, ?it/s]"
     ]
    },
    {
     "name": "stdout",
     "output_type": "stream",
     "text": [
      "tuning hyper-params {'rho_coefficients': 0.15, 'rho_level': 0.05, 'span_coefficients': 0.2, 'span_level': 0.1}\n"
     ]
    },
    {
     "name": "stderr",
     "output_type": "stream",
     "text": [
      "\r",
      "  6%|▋         | 1/16 [00:15<03:48, 15.21s/it]"
     ]
    },
    {
     "name": "stdout",
     "output_type": "stream",
     "text": [
      "tuning metric:0.065393\n",
      "tuning hyper-params {'rho_coefficients': 0.15, 'rho_level': 0.05, 'span_coefficients': 0.2, 'span_level': 0.2}\n"
     ]
    },
    {
     "name": "stderr",
     "output_type": "stream",
     "text": [
      "\r",
      " 12%|█▎        | 2/16 [00:30<03:33, 15.26s/it]"
     ]
    },
    {
     "name": "stdout",
     "output_type": "stream",
     "text": [
      "tuning metric:0.012355\n",
      "tuning hyper-params {'rho_coefficients': 0.15, 'rho_level': 0.05, 'span_coefficients': 0.3, 'span_level': 0.1}\n"
     ]
    },
    {
     "name": "stderr",
     "output_type": "stream",
     "text": [
      "\r",
      " 19%|█▉        | 3/16 [00:45<03:18, 15.30s/it]"
     ]
    },
    {
     "name": "stdout",
     "output_type": "stream",
     "text": [
      "tuning metric:0.090586\n",
      "tuning hyper-params {'rho_coefficients': 0.15, 'rho_level': 0.05, 'span_coefficients': 0.3, 'span_level': 0.2}\n"
     ]
    },
    {
     "name": "stderr",
     "output_type": "stream",
     "text": [
      "\r",
      " 25%|██▌       | 4/16 [01:00<03:00, 15.05s/it]"
     ]
    },
    {
     "name": "stdout",
     "output_type": "stream",
     "text": [
      "tuning metric:0.081442\n",
      "tuning hyper-params {'rho_coefficients': 0.15, 'rho_level': 0.1, 'span_coefficients': 0.2, 'span_level': 0.1}\n"
     ]
    },
    {
     "name": "stderr",
     "output_type": "stream",
     "text": [
      "\r",
      " 31%|███▏      | 5/16 [01:14<02:43, 14.89s/it]"
     ]
    },
    {
     "name": "stdout",
     "output_type": "stream",
     "text": [
      "tuning metric:0.068079\n",
      "tuning hyper-params {'rho_coefficients': 0.15, 'rho_level': 0.1, 'span_coefficients': 0.2, 'span_level': 0.2}\n"
     ]
    },
    {
     "name": "stderr",
     "output_type": "stream",
     "text": [
      "\r",
      " 38%|███▊      | 6/16 [01:29<02:28, 14.84s/it]"
     ]
    },
    {
     "name": "stdout",
     "output_type": "stream",
     "text": [
      "tuning metric:0.15421\n",
      "tuning hyper-params {'rho_coefficients': 0.15, 'rho_level': 0.1, 'span_coefficients': 0.3, 'span_level': 0.1}\n"
     ]
    },
    {
     "name": "stderr",
     "output_type": "stream",
     "text": [
      "\r",
      " 44%|████▍     | 7/16 [01:44<02:13, 14.85s/it]"
     ]
    },
    {
     "name": "stdout",
     "output_type": "stream",
     "text": [
      "tuning metric:0.012057\n",
      "tuning hyper-params {'rho_coefficients': 0.15, 'rho_level': 0.1, 'span_coefficients': 0.3, 'span_level': 0.2}\n"
     ]
    },
    {
     "name": "stderr",
     "output_type": "stream",
     "text": [
      "\r",
      " 50%|█████     | 8/16 [01:59<01:58, 14.75s/it]"
     ]
    },
    {
     "name": "stdout",
     "output_type": "stream",
     "text": [
      "tuning metric:0.16231\n",
      "tuning hyper-params {'rho_coefficients': 0.2, 'rho_level': 0.05, 'span_coefficients': 0.2, 'span_level': 0.1}\n"
     ]
    },
    {
     "name": "stderr",
     "output_type": "stream",
     "text": [
      "\r",
      " 56%|█████▋    | 9/16 [02:13<01:42, 14.70s/it]"
     ]
    },
    {
     "name": "stdout",
     "output_type": "stream",
     "text": [
      "tuning metric:0.068675\n",
      "tuning hyper-params {'rho_coefficients': 0.2, 'rho_level': 0.05, 'span_coefficients': 0.2, 'span_level': 0.2}\n"
     ]
    },
    {
     "name": "stderr",
     "output_type": "stream",
     "text": [
      "\r",
      " 62%|██████▎   | 10/16 [02:28<01:28, 14.68s/it]"
     ]
    },
    {
     "name": "stdout",
     "output_type": "stream",
     "text": [
      "tuning metric:0.15767\n",
      "tuning hyper-params {'rho_coefficients': 0.2, 'rho_level': 0.05, 'span_coefficients': 0.3, 'span_level': 0.1}\n"
     ]
    },
    {
     "name": "stderr",
     "output_type": "stream",
     "text": [
      "\r",
      " 69%|██████▉   | 11/16 [02:42<01:13, 14.62s/it]"
     ]
    },
    {
     "name": "stdout",
     "output_type": "stream",
     "text": [
      "tuning metric:0.072529\n",
      "tuning hyper-params {'rho_coefficients': 0.2, 'rho_level': 0.05, 'span_coefficients': 0.3, 'span_level': 0.2}\n"
     ]
    },
    {
     "name": "stderr",
     "output_type": "stream",
     "text": [
      "\r",
      " 75%|███████▌  | 12/16 [02:57<00:58, 14.59s/it]"
     ]
    },
    {
     "name": "stdout",
     "output_type": "stream",
     "text": [
      "tuning metric:0.085704\n",
      "tuning hyper-params {'rho_coefficients': 0.2, 'rho_level': 0.1, 'span_coefficients': 0.2, 'span_level': 0.1}\n"
     ]
    },
    {
     "name": "stderr",
     "output_type": "stream",
     "text": [
      "\r",
      " 81%|████████▏ | 13/16 [03:11<00:43, 14.56s/it]"
     ]
    },
    {
     "name": "stdout",
     "output_type": "stream",
     "text": [
      "tuning metric:0.086096\n",
      "tuning hyper-params {'rho_coefficients': 0.2, 'rho_level': 0.1, 'span_coefficients': 0.2, 'span_level': 0.2}\n"
     ]
    },
    {
     "name": "stderr",
     "output_type": "stream",
     "text": [
      "\r",
      " 88%|████████▊ | 14/16 [03:26<00:29, 14.62s/it]"
     ]
    },
    {
     "name": "stdout",
     "output_type": "stream",
     "text": [
      "tuning metric:0.13729\n",
      "tuning hyper-params {'rho_coefficients': 0.2, 'rho_level': 0.1, 'span_coefficients': 0.3, 'span_level': 0.1}\n"
     ]
    },
    {
     "name": "stderr",
     "output_type": "stream",
     "text": [
      "\r",
      " 94%|█████████▍| 15/16 [03:41<00:14, 14.62s/it]"
     ]
    },
    {
     "name": "stdout",
     "output_type": "stream",
     "text": [
      "tuning metric:0.08159\n",
      "tuning hyper-params {'rho_coefficients': 0.2, 'rho_level': 0.1, 'span_coefficients': 0.3, 'span_level': 0.2}\n"
     ]
    },
    {
     "name": "stderr",
     "output_type": "stream",
     "text": [
      "100%|██████████| 16/16 [03:55<00:00, 14.74s/it]"
     ]
    },
    {
     "name": "stdout",
     "output_type": "stream",
     "text": [
      "tuning metric:0.1716\n"
     ]
    },
    {
     "name": "stderr",
     "output_type": "stream",
     "text": [
      "\n"
     ]
    }
   ],
   "source": [
    "best_params, tuned_df = grid_search_orbit(param_grid, \n",
    "                                        model=ktr_map, \n",
    "                                        df=df,\n",
    "                                        min_train_len=100, incremental_len=100, forecast_len=20, \n",
    "                                        metrics=None, criteria=None, verbose=True)"
   ]
  },
  {
   "cell_type": "code",
   "execution_count": 43,
   "metadata": {
    "ExecuteTime": {
     "end_time": "2020-12-04T19:08:32.911189Z",
     "start_time": "2020-12-04T19:08:32.875347Z"
    }
   },
   "outputs": [
    {
     "data": {
      "text/html": [
       "<div>\n",
       "<style scoped>\n",
       "    .dataframe tbody tr th:only-of-type {\n",
       "        vertical-align: middle;\n",
       "    }\n",
       "\n",
       "    .dataframe tbody tr th {\n",
       "        vertical-align: top;\n",
       "    }\n",
       "\n",
       "    .dataframe thead th {\n",
       "        text-align: right;\n",
       "    }\n",
       "</style>\n",
       "<table border=\"1\" class=\"dataframe\">\n",
       "  <thead>\n",
       "    <tr style=\"text-align: right;\">\n",
       "      <th></th>\n",
       "      <th>rho_coefficients</th>\n",
       "      <th>rho_level</th>\n",
       "      <th>span_coefficients</th>\n",
       "      <th>span_level</th>\n",
       "      <th>metrics</th>\n",
       "    </tr>\n",
       "  </thead>\n",
       "  <tbody>\n",
       "    <tr>\n",
       "      <th>0</th>\n",
       "      <td>0.15000</td>\n",
       "      <td>0.05000</td>\n",
       "      <td>0.20000</td>\n",
       "      <td>0.10000</td>\n",
       "      <td>0.06539</td>\n",
       "    </tr>\n",
       "    <tr>\n",
       "      <th>1</th>\n",
       "      <td>0.15000</td>\n",
       "      <td>0.05000</td>\n",
       "      <td>0.20000</td>\n",
       "      <td>0.20000</td>\n",
       "      <td>0.01235</td>\n",
       "    </tr>\n",
       "    <tr>\n",
       "      <th>2</th>\n",
       "      <td>0.15000</td>\n",
       "      <td>0.05000</td>\n",
       "      <td>0.30000</td>\n",
       "      <td>0.10000</td>\n",
       "      <td>0.09059</td>\n",
       "    </tr>\n",
       "    <tr>\n",
       "      <th>3</th>\n",
       "      <td>0.15000</td>\n",
       "      <td>0.05000</td>\n",
       "      <td>0.30000</td>\n",
       "      <td>0.20000</td>\n",
       "      <td>0.08144</td>\n",
       "    </tr>\n",
       "    <tr>\n",
       "      <th>4</th>\n",
       "      <td>0.15000</td>\n",
       "      <td>0.10000</td>\n",
       "      <td>0.20000</td>\n",
       "      <td>0.10000</td>\n",
       "      <td>0.06808</td>\n",
       "    </tr>\n",
       "  </tbody>\n",
       "</table>\n",
       "</div>"
      ],
      "text/plain": [
       "   rho_coefficients  rho_level  span_coefficients  span_level  metrics\n",
       "0           0.15000    0.05000            0.20000     0.10000  0.06539\n",
       "1           0.15000    0.05000            0.20000     0.20000  0.01235\n",
       "2           0.15000    0.05000            0.30000     0.10000  0.09059\n",
       "3           0.15000    0.05000            0.30000     0.20000  0.08144\n",
       "4           0.15000    0.10000            0.20000     0.10000  0.06808"
      ]
     },
     "execution_count": 43,
     "metadata": {},
     "output_type": "execute_result"
    }
   ],
   "source": [
    "tuned_df.head()"
   ]
  },
  {
   "cell_type": "code",
   "execution_count": 42,
   "metadata": {
    "ExecuteTime": {
     "end_time": "2020-12-04T19:06:38.563688Z",
     "start_time": "2020-12-04T19:06:38.534141Z"
    }
   },
   "outputs": [
    {
     "data": {
      "text/plain": [
       "[{'rho_coefficients': 0.15,\n",
       "  'rho_level': 0.1,\n",
       "  'span_coefficients': 0.3,\n",
       "  'span_level': 0.1}]"
      ]
     },
     "execution_count": 42,
     "metadata": {},
     "output_type": "execute_result"
    }
   ],
   "source": [
    "best_params"
   ]
  },
  {
   "cell_type": "code",
   "execution_count": null,
   "metadata": {},
   "outputs": [],
   "source": []
  }
 ],
 "metadata": {
  "kernelspec": {
   "display_name": "Python 3",
   "language": "python",
   "name": "python3"
  },
  "language_info": {
   "codemirror_mode": {
    "name": "ipython",
    "version": 3
   },
   "file_extension": ".py",
   "mimetype": "text/x-python",
   "name": "python",
   "nbconvert_exporter": "python",
   "pygments_lexer": "ipython3",
   "version": "3.7.7"
  },
  "toc": {
   "base_numbering": 1,
   "nav_menu": {},
   "number_sections": true,
   "sideBar": true,
   "skip_h1_title": true,
   "title_cell": "Table of Contents",
   "title_sidebar": "Contents",
   "toc_cell": false,
   "toc_position": {},
   "toc_section_display": true,
   "toc_window_display": true
  }
 },
 "nbformat": 4,
 "nbformat_minor": 4
}
