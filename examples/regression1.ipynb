{
 "cells": [
  {
   "cell_type": "markdown",
   "metadata": {},
   "source": [
    "# Regression with Orbit - Basic"
   ]
  },
  {
   "cell_type": "markdown",
   "metadata": {},
   "source": [
    "In this demo, we want to demonstartate how to use the different arguments in the model classes (LGT or DLT) to realize different setups for the regressors. Those could be very useful in practice when tuning the models."
   ]
  },
  {
   "cell_type": "code",
   "execution_count": 1,
   "metadata": {
    "ExecuteTime": {
     "end_time": "2020-11-04T22:09:15.265599Z",
     "start_time": "2020-11-04T22:09:13.494962Z"
    }
   },
   "outputs": [],
   "source": [
    "import pandas as pd\n",
    "import numpy as np\n",
    "\n",
    "from orbit.models.lgt import LGTMAP, LGTAggregated, LGTFull\n",
    "from orbit.models.dlt import DLTMAP, DLTAggregated, DLTFull\n",
    "from orbit.diagnostics.plot import plot_predicted_data, plot_predicted_components\n",
    "from orbit.utils.dataset import load_iclaims"
   ]
  },
  {
   "cell_type": "markdown",
   "metadata": {},
   "source": [
    "## load data"
   ]
  },
  {
   "cell_type": "code",
   "execution_count": 2,
   "metadata": {
    "ExecuteTime": {
     "end_time": "2020-11-04T22:09:26.309833Z",
     "start_time": "2020-11-04T22:09:26.138883Z"
    }
   },
   "outputs": [
    {
     "data": {
      "text/plain": [
       "week              datetime64[ns]\n",
       "claims                   float64\n",
       "trend.unemploy           float64\n",
       "trend.filling            float64\n",
       "trend.job                float64\n",
       "sp500                    float64\n",
       "vix                      float64\n",
       "dtype: object"
      ]
     },
     "execution_count": 2,
     "metadata": {},
     "output_type": "execute_result"
    }
   ],
   "source": [
    "raw_df = load_iclaims()\n",
    "raw_df.dtypes"
   ]
  },
  {
   "cell_type": "code",
   "execution_count": 3,
   "metadata": {
    "ExecuteTime": {
     "end_time": "2020-11-04T22:09:27.647881Z",
     "start_time": "2020-11-04T22:09:27.636685Z"
    }
   },
   "outputs": [
    {
     "data": {
      "text/html": [
       "<div>\n",
       "<style scoped>\n",
       "    .dataframe tbody tr th:only-of-type {\n",
       "        vertical-align: middle;\n",
       "    }\n",
       "\n",
       "    .dataframe tbody tr th {\n",
       "        vertical-align: top;\n",
       "    }\n",
       "\n",
       "    .dataframe thead th {\n",
       "        text-align: right;\n",
       "    }\n",
       "</style>\n",
       "<table border=\"1\" class=\"dataframe\">\n",
       "  <thead>\n",
       "    <tr style=\"text-align: right;\">\n",
       "      <th></th>\n",
       "      <th>week</th>\n",
       "      <th>claims</th>\n",
       "      <th>trend.unemploy</th>\n",
       "      <th>trend.filling</th>\n",
       "      <th>trend.job</th>\n",
       "      <th>sp500</th>\n",
       "      <th>vix</th>\n",
       "    </tr>\n",
       "  </thead>\n",
       "  <tbody>\n",
       "    <tr>\n",
       "      <th>0</th>\n",
       "      <td>2010-01-03</td>\n",
       "      <td>13.386595</td>\n",
       "      <td>0.219882</td>\n",
       "      <td>-0.318452</td>\n",
       "      <td>0.117500</td>\n",
       "      <td>-0.417633</td>\n",
       "      <td>0.122654</td>\n",
       "    </tr>\n",
       "    <tr>\n",
       "      <th>1</th>\n",
       "      <td>2010-01-10</td>\n",
       "      <td>13.624218</td>\n",
       "      <td>0.219882</td>\n",
       "      <td>-0.194838</td>\n",
       "      <td>0.168794</td>\n",
       "      <td>-0.425480</td>\n",
       "      <td>0.110445</td>\n",
       "    </tr>\n",
       "    <tr>\n",
       "      <th>2</th>\n",
       "      <td>2010-01-17</td>\n",
       "      <td>13.398741</td>\n",
       "      <td>0.236143</td>\n",
       "      <td>-0.292477</td>\n",
       "      <td>0.117500</td>\n",
       "      <td>-0.465229</td>\n",
       "      <td>0.532339</td>\n",
       "    </tr>\n",
       "    <tr>\n",
       "      <th>3</th>\n",
       "      <td>2010-01-24</td>\n",
       "      <td>13.137549</td>\n",
       "      <td>0.203353</td>\n",
       "      <td>-0.194838</td>\n",
       "      <td>0.106918</td>\n",
       "      <td>-0.481751</td>\n",
       "      <td>0.428645</td>\n",
       "    </tr>\n",
       "    <tr>\n",
       "      <th>4</th>\n",
       "      <td>2010-01-31</td>\n",
       "      <td>13.196760</td>\n",
       "      <td>0.134360</td>\n",
       "      <td>-0.242466</td>\n",
       "      <td>0.074483</td>\n",
       "      <td>-0.488929</td>\n",
       "      <td>0.487404</td>\n",
       "    </tr>\n",
       "  </tbody>\n",
       "</table>\n",
       "</div>"
      ],
      "text/plain": [
       "        week     claims  trend.unemploy  trend.filling  trend.job     sp500  \\\n",
       "0 2010-01-03  13.386595        0.219882      -0.318452   0.117500 -0.417633   \n",
       "1 2010-01-10  13.624218        0.219882      -0.194838   0.168794 -0.425480   \n",
       "2 2010-01-17  13.398741        0.236143      -0.292477   0.117500 -0.465229   \n",
       "3 2010-01-24  13.137549        0.203353      -0.194838   0.106918 -0.481751   \n",
       "4 2010-01-31  13.196760        0.134360      -0.242466   0.074483 -0.488929   \n",
       "\n",
       "        vix  \n",
       "0  0.122654  \n",
       "1  0.110445  \n",
       "2  0.532339  \n",
       "3  0.428645  \n",
       "4  0.487404  "
      ]
     },
     "execution_count": 3,
     "metadata": {},
     "output_type": "execute_result"
    }
   ],
   "source": [
    "raw_df.head()"
   ]
  },
  {
   "cell_type": "code",
   "execution_count": 4,
   "metadata": {
    "ExecuteTime": {
     "end_time": "2020-11-04T22:09:28.778256Z",
     "start_time": "2020-11-04T22:09:28.771024Z"
    }
   },
   "outputs": [],
   "source": [
    "df=raw_df.copy()"
   ]
  },
  {
   "cell_type": "markdown",
   "metadata": {},
   "source": [
    "## Use regressors and specify their signs"
   ]
  },
  {
   "cell_type": "markdown",
   "metadata": {},
   "source": [
    "The regressor columns can be supplied via argument `regressor_col`. Their signs can be specified via `regressor_sign`, with values either '=' (regular, no restriction) or '+' (positive). These two lists should be of the same lenght. The default values of `regressor_sign` is all '='."
   ]
  },
  {
   "cell_type": "markdown",
   "metadata": {},
   "source": [
    "Also, note that in general, a better performance can be acheived in regressions with `infer_method=mcmc` due to potential high dimensional distributions of parameters. We will use `mcmc` as sample method in following examples."
   ]
  },
  {
   "cell_type": "code",
   "execution_count": 5,
   "metadata": {
    "ExecuteTime": {
     "end_time": "2020-10-16T01:23:11.312147Z",
     "start_time": "2020-10-16T01:23:11.309118Z"
    }
   },
   "outputs": [],
   "source": [
    "DATE_COL=\"week\"\n",
    "RESPONSE_COL=\"claims\"\n",
    "REGRESSOR_COL=['trend.unemploy', 'trend.filling', 'trend.job']"
   ]
  },
  {
   "cell_type": "code",
   "execution_count": 6,
   "metadata": {
    "ExecuteTime": {
     "end_time": "2020-10-16T01:23:20.538380Z",
     "start_time": "2020-10-16T01:23:11.689658Z"
    },
    "scrolled": true,
    "tags": []
   },
   "outputs": [
    {
     "name": "stdout",
     "output_type": "stream",
     "text": [
      "\n",
      "\n",
      "Gradient evaluation took 0.00037 seconds\n",
      "Gradient evaluation took 0.000361 seconds\n",
      "1000 transitions using 10 leapfrog steps per transition would take 3.7 seconds.\n",
      "Adjust your expectations accordingly!\n",
      "\n",
      "\n",
      "1000 transitions using 10 leapfrog steps per transition would take 3.61 seconds.\n",
      "Adjust your expectations accordingly!\n",
      "\n",
      "\n",
      "Iteration:   1 / 250 [  0%]  (Warmup)\n",
      "Iteration:   1 / 250 [  0%]  (Warmup)\n",
      "\n",
      "Gradient evaluation took 0.000544 seconds\n",
      "1000 transitions using 10 leapfrog steps per transition would take 5.44 seconds.\n",
      "Adjust your expectations accordingly!\n",
      "\n",
      "\n",
      "\n",
      "Gradient evaluation took 0.000514 seconds\n",
      "1000 transitions using 10 leapfrog steps per transition would take 5.14 seconds.\n",
      "Adjust your expectations accordingly!\n",
      "\n",
      "\n",
      "Iteration:   1 / 250 [  0%]  (Warmup)\n",
      "Iteration:   1 / 250 [  0%]  (Warmup)\n",
      "Iteration:  25 / 250 [ 10%]  (Warmup)\n",
      "Iteration:  25 / 250 [ 10%]  (Warmup)\n",
      "Iteration:  25 / 250 [ 10%]  (Warmup)\n",
      "Iteration:  25 / 250 [ 10%]  (Warmup)\n",
      "Iteration:  50 / 250 [ 20%]  (Warmup)\n",
      "Iteration:  50 / 250 [ 20%]  (Warmup)\n",
      "Iteration:  50 / 250 [ 20%]  (Warmup)\n",
      "Iteration:  50 / 250 [ 20%]  (Warmup)\n",
      "Iteration:  75 / 250 [ 30%]  (Warmup)\n",
      "Iteration:  75 / 250 [ 30%]  (Warmup)\n",
      "Iteration:  75 / 250 [ 30%]  (Warmup)\n",
      "Iteration: 100 / 250 [ 40%]  (Warmup)\n",
      "Iteration: 100 / 250 [ 40%]  (Warmup)\n",
      "Iteration: 125 / 250 [ 50%]  (Warmup)\n",
      "Iteration: 100 / 250 [ 40%]  (Warmup)\n",
      "Iteration:  75 / 250 [ 30%]  (Warmup)\n",
      "Iteration: 125 / 250 [ 50%]  (Warmup)\n",
      "Iteration: 125 / 250 [ 50%]  (Warmup)\n",
      "Iteration: 150 / 250 [ 60%]  (Warmup)\n",
      "Iteration: 150 / 250 [ 60%]  (Warmup)\n",
      "Iteration: 150 / 250 [ 60%]  (Warmup)\n",
      "Iteration: 175 / 250 [ 70%]  (Warmup)\n",
      "Iteration: 175 / 250 [ 70%]  (Warmup)\n",
      "Iteration: 175 / 250 [ 70%]  (Warmup)\n",
      "Iteration: 200 / 250 [ 80%]  (Warmup)\n",
      "Iteration: 200 / 250 [ 80%]  (Warmup)\n",
      "Iteration: 200 / 250 [ 80%]  (Warmup)\n",
      "Iteration: 100 / 250 [ 40%]  (Warmup)\n",
      "Iteration: 225 / 250 [ 90%]  (Warmup)\n",
      "Iteration: 226 / 250 [ 90%]  (Sampling)\n",
      "Iteration: 225 / 250 [ 90%]  (Warmup)\n",
      "Iteration: 225 / 250 [ 90%]  (Warmup)\n",
      "Iteration: 226 / 250 [ 90%]  (Sampling)\n",
      "Iteration: 226 / 250 [ 90%]  (Sampling)\n",
      "Iteration: 250 / 250 [100%]  (Sampling)\n",
      "\n",
      " Elapsed Time: 5.89856 seconds (Warm-up)\n",
      "               0.334782 seconds (Sampling)\n",
      "               6.23334 seconds (Total)\n",
      "\n",
      "Iteration: 250 / 250 [100%]  (Sampling)\n",
      "Iteration: 250 / 250 [100%]  (Sampling)\n",
      "\n",
      " Elapsed Time: 6.00819 seconds (Warm-up)\n",
      "               0.339205 seconds (Sampling)\n",
      "               6.34739 seconds (Total)\n",
      "\n",
      "\n",
      " Elapsed Time: 5.94826 seconds (Warm-up)\n",
      "               0.349809 seconds (Sampling)\n",
      "               6.29807 seconds (Total)\n",
      "\n",
      "Iteration: 125 / 250 [ 50%]  (Warmup)\n",
      "Iteration: 150 / 250 [ 60%]  (Warmup)\n",
      "Iteration: 175 / 250 [ 70%]  (Warmup)\n",
      "Iteration: 200 / 250 [ 80%]  (Warmup)\n",
      "Iteration: 225 / 250 [ 90%]  (Warmup)\n",
      "Iteration: 226 / 250 [ 90%]  (Sampling)\n"
     ]
    },
    {
     "name": "stderr",
     "output_type": "stream",
     "text": [
      "WARNING:pystan:Maximum (flat) parameter count (1000) exceeded: skipping diagnostic tests for n_eff and Rhat.\n",
      "To run all diagnostics call pystan.check_hmc_diagnostics(fit)\n"
     ]
    },
    {
     "name": "stdout",
     "output_type": "stream",
     "text": [
      "Iteration: 250 / 250 [100%]  (Sampling)\n",
      "\n",
      " Elapsed Time: 8.14911 seconds (Warm-up)\n",
      "               0.20557 seconds (Sampling)\n",
      "               8.35468 seconds (Total)\n",
      "\n"
     ]
    }
   ],
   "source": [
    "dlt_mod=DLTAggregated(response_col=RESPONSE_COL,\n",
    "                      date_col=DATE_COL,\n",
    "                      regressor_col=REGRESSOR_COL,\n",
    "                      regressor_sign=[\"+\", '+', '='], \n",
    "                      seasonality=52,\n",
    "                      seed=1)\n",
    "\n",
    "dlt_mod.fit(df=df)"
   ]
  },
  {
   "cell_type": "markdown",
   "metadata": {},
   "source": [
    "The estimated regressor coefficients can be retrieved via `.aggregated_posteriors`."
   ]
  },
  {
   "cell_type": "code",
   "execution_count": 7,
   "metadata": {
    "ExecuteTime": {
     "end_time": "2020-10-16T01:23:20.754218Z",
     "start_time": "2020-10-16T01:23:20.740325Z"
    }
   },
   "outputs": [
    {
     "data": {
      "text/html": [
       "<div>\n",
       "<style scoped>\n",
       "    .dataframe tbody tr th:only-of-type {\n",
       "        vertical-align: middle;\n",
       "    }\n",
       "\n",
       "    .dataframe tbody tr th {\n",
       "        vertical-align: top;\n",
       "    }\n",
       "\n",
       "    .dataframe thead th {\n",
       "        text-align: right;\n",
       "    }\n",
       "</style>\n",
       "<table border=\"1\" class=\"dataframe\">\n",
       "  <thead>\n",
       "    <tr style=\"text-align: right;\">\n",
       "      <th></th>\n",
       "      <th>regressor</th>\n",
       "      <th>regressor_sign</th>\n",
       "      <th>coefficient</th>\n",
       "    </tr>\n",
       "  </thead>\n",
       "  <tbody>\n",
       "    <tr>\n",
       "      <th>0</th>\n",
       "      <td>trend.unemploy</td>\n",
       "      <td>Positive</td>\n",
       "      <td>0.054019</td>\n",
       "    </tr>\n",
       "    <tr>\n",
       "      <th>1</th>\n",
       "      <td>trend.filling</td>\n",
       "      <td>Positive</td>\n",
       "      <td>0.075139</td>\n",
       "    </tr>\n",
       "    <tr>\n",
       "      <th>2</th>\n",
       "      <td>trend.job</td>\n",
       "      <td>Regular</td>\n",
       "      <td>-0.058975</td>\n",
       "    </tr>\n",
       "  </tbody>\n",
       "</table>\n",
       "</div>"
      ],
      "text/plain": [
       "        regressor regressor_sign  coefficient\n",
       "0  trend.unemploy       Positive     0.054019\n",
       "1   trend.filling       Positive     0.075139\n",
       "2       trend.job        Regular    -0.058975"
      ]
     },
     "execution_count": 7,
     "metadata": {},
     "output_type": "execute_result"
    }
   ],
   "source": [
    "dlt_mod.get_regression_coefs()"
   ]
  },
  {
   "cell_type": "markdown",
   "metadata": {},
   "source": [
    "## Adjust pirors for regressor beta and regressor standard deviation"
   ]
  },
  {
   "cell_type": "markdown",
   "metadata": {},
   "source": [
    "In the model, it is assumed $$\\beta \\sim Gaussian(\\beta_{prior}, \\sigma_{prior})$$\n",
    "\n",
    "The default values for $\\beta_{prior}$ and $\\sigma_{prior}$ are 0 and 1, respectively.\n",
    "\n",
    "Users could adjust them via arguments `regressor_beta_prior` and `regressor_sigma_prior`. These two lists should be of the same lenght as `regressor_col`."
   ]
  },
  {
   "cell_type": "code",
   "execution_count": 8,
   "metadata": {
    "ExecuteTime": {
     "end_time": "2020-10-16T01:23:29.509328Z",
     "start_time": "2020-10-16T01:23:29.505092Z"
    }
   },
   "outputs": [],
   "source": [
    "dlt_mod=DLTAggregated(response_col=RESPONSE_COL,\n",
    "                      date_col=DATE_COL,\n",
    "                      regressor_col=REGRESSOR_COL,\n",
    "                      regressor_sign=[\"+\", '+', '='], \n",
    "                      regressor_beta_prior=[0.05, 0.05, 0],\n",
    "                      regressor_sigma_prior=[0.1, 0.1, 0.1],\n",
    "                      seasonality=52,\n",
    "                      seed=1)"
   ]
  },
  {
   "cell_type": "code",
   "execution_count": 9,
   "metadata": {
    "ExecuteTime": {
     "end_time": "2020-10-16T01:23:37.659250Z",
     "start_time": "2020-10-16T01:23:30.673927Z"
    },
    "scrolled": true,
    "tags": []
   },
   "outputs": [
    {
     "name": "stdout",
     "output_type": "stream",
     "text": [
      "\n",
      "\n",
      "Gradient evaluation took 0.000368 seconds\n",
      "Gradient evaluation took 0.000388 seconds\n",
      "1000 transitions using 10 leapfrog steps per transition would take 3.88 seconds.\n",
      "1000 transitions using 10 leapfrog steps per transition would take 3.68 seconds.\n",
      "Adjust your expectations accordingly!\n",
      "Adjust your expectations accordingly!\n",
      "\n",
      "\n",
      "\n",
      "\n",
      "Iteration:   1 / 250 [  0%]  (Warmup)\n",
      "Iteration:   1 / 250 [  0%]  (Warmup)\n",
      "\n",
      "Gradient evaluation took 0.000531 seconds\n",
      "1000 transitions using 10 leapfrog steps per transition would take 5.31 seconds.\n",
      "Adjust your expectations accordingly!\n",
      "\n",
      "\n",
      "\n",
      "Gradient evaluation took 0.000529 seconds\n",
      "1000 transitions using 10 leapfrog steps per transition would take 5.29 seconds.\n",
      "Adjust your expectations accordingly!\n",
      "\n",
      "\n",
      "Iteration:   1 / 250 [  0%]  (Warmup)\n",
      "Iteration:   1 / 250 [  0%]  (Warmup)\n",
      "Iteration:  25 / 250 [ 10%]  (Warmup)\n",
      "Iteration:  25 / 250 [ 10%]  (Warmup)\n",
      "Iteration:  25 / 250 [ 10%]  (Warmup)\n",
      "Iteration:  25 / 250 [ 10%]  (Warmup)\n",
      "Iteration:  50 / 250 [ 20%]  (Warmup)\n",
      "Iteration:  50 / 250 [ 20%]  (Warmup)\n",
      "Iteration:  50 / 250 [ 20%]  (Warmup)\n",
      "Iteration:  50 / 250 [ 20%]  (Warmup)\n",
      "Iteration:  75 / 250 [ 30%]  (Warmup)\n",
      "Iteration:  75 / 250 [ 30%]  (Warmup)\n",
      "Iteration:  75 / 250 [ 30%]  (Warmup)\n",
      "Iteration:  75 / 250 [ 30%]  (Warmup)\n",
      "Iteration: 100 / 250 [ 40%]  (Warmup)\n",
      "Iteration: 100 / 250 [ 40%]  (Warmup)\n",
      "Iteration: 100 / 250 [ 40%]  (Warmup)\n",
      "Iteration: 100 / 250 [ 40%]  (Warmup)\n",
      "Iteration: 125 / 250 [ 50%]  (Warmup)\n",
      "Iteration: 125 / 250 [ 50%]  (Warmup)\n",
      "Iteration: 125 / 250 [ 50%]  (Warmup)\n",
      "Iteration: 150 / 250 [ 60%]  (Warmup)\n",
      "Iteration: 150 / 250 [ 60%]  (Warmup)\n",
      "Iteration: 175 / 250 [ 70%]  (Warmup)\n",
      "Iteration: 150 / 250 [ 60%]  (Warmup)\n",
      "Iteration: 125 / 250 [ 50%]  (Warmup)\n",
      "Iteration: 175 / 250 [ 70%]  (Warmup)\n",
      "Iteration: 200 / 250 [ 80%]  (Warmup)\n",
      "Iteration: 175 / 250 [ 70%]  (Warmup)\n",
      "Iteration: 150 / 250 [ 60%]  (Warmup)\n",
      "Iteration: 200 / 250 [ 80%]  (Warmup)\n",
      "Iteration: 225 / 250 [ 90%]  (Warmup)\n",
      "Iteration: 226 / 250 [ 90%]  (Sampling)\n",
      "Iteration: 200 / 250 [ 80%]  (Warmup)\n",
      "Iteration: 250 / 250 [100%]  (Sampling)\n",
      "\n",
      " Elapsed Time: 4.99606 seconds (Warm-up)\n",
      "               0.248104 seconds (Sampling)\n",
      "               5.24416 seconds (Total)\n",
      "\n",
      "Iteration: 225 / 250 [ 90%]  (Warmup)\n",
      "Iteration: 175 / 250 [ 70%]  (Warmup)\n",
      "Iteration: 226 / 250 [ 90%]  (Sampling)\n",
      "Iteration: 225 / 250 [ 90%]  (Warmup)\n",
      "Iteration: 226 / 250 [ 90%]  (Sampling)\n",
      "Iteration: 250 / 250 [100%]  (Sampling)\n",
      "\n",
      " Elapsed Time: 5.28982 seconds (Warm-up)\n",
      "               0.231121 seconds (Sampling)\n",
      "               5.52094 seconds (Total)\n",
      "\n",
      "Iteration: 250 / 250 [100%]  (Sampling)\n",
      "\n",
      " Elapsed Time: 5.42636 seconds (Warm-up)\n",
      "               0.225888 seconds (Sampling)\n",
      "               5.65225 seconds (Total)\n",
      "\n",
      "Iteration: 200 / 250 [ 80%]  (Warmup)\n",
      "Iteration: 225 / 250 [ 90%]  (Warmup)\n",
      "Iteration: 226 / 250 [ 90%]  (Sampling)\n"
     ]
    },
    {
     "name": "stderr",
     "output_type": "stream",
     "text": [
      "WARNING:pystan:Maximum (flat) parameter count (1000) exceeded: skipping diagnostic tests for n_eff and Rhat.\n",
      "To run all diagnostics call pystan.check_hmc_diagnostics(fit)\n"
     ]
    },
    {
     "name": "stdout",
     "output_type": "stream",
     "text": [
      "Iteration: 250 / 250 [100%]  (Sampling)\n",
      "\n",
      " Elapsed Time: 5.98603 seconds (Warm-up)\n",
      "               0.20397 seconds (Sampling)\n",
      "               6.19 seconds (Total)\n",
      "\n"
     ]
    }
   ],
   "source": [
    "dlt_mod.fit(df=df)"
   ]
  },
  {
   "cell_type": "markdown",
   "metadata": {},
   "source": [
    "One can notice the significant changes in the estimted coefficients by using different priors."
   ]
  },
  {
   "cell_type": "code",
   "execution_count": 10,
   "metadata": {
    "ExecuteTime": {
     "end_time": "2020-10-16T01:23:37.675232Z",
     "start_time": "2020-10-16T01:23:37.661802Z"
    }
   },
   "outputs": [
    {
     "data": {
      "text/html": [
       "<div>\n",
       "<style scoped>\n",
       "    .dataframe tbody tr th:only-of-type {\n",
       "        vertical-align: middle;\n",
       "    }\n",
       "\n",
       "    .dataframe tbody tr th {\n",
       "        vertical-align: top;\n",
       "    }\n",
       "\n",
       "    .dataframe thead th {\n",
       "        text-align: right;\n",
       "    }\n",
       "</style>\n",
       "<table border=\"1\" class=\"dataframe\">\n",
       "  <thead>\n",
       "    <tr style=\"text-align: right;\">\n",
       "      <th></th>\n",
       "      <th>regressor</th>\n",
       "      <th>regressor_sign</th>\n",
       "      <th>coefficient</th>\n",
       "    </tr>\n",
       "  </thead>\n",
       "  <tbody>\n",
       "    <tr>\n",
       "      <th>0</th>\n",
       "      <td>trend.unemploy</td>\n",
       "      <td>Positive</td>\n",
       "      <td>0.052978</td>\n",
       "    </tr>\n",
       "    <tr>\n",
       "      <th>1</th>\n",
       "      <td>trend.filling</td>\n",
       "      <td>Positive</td>\n",
       "      <td>0.071330</td>\n",
       "    </tr>\n",
       "    <tr>\n",
       "      <th>2</th>\n",
       "      <td>trend.job</td>\n",
       "      <td>Regular</td>\n",
       "      <td>-0.040119</td>\n",
       "    </tr>\n",
       "  </tbody>\n",
       "</table>\n",
       "</div>"
      ],
      "text/plain": [
       "        regressor regressor_sign  coefficient\n",
       "0  trend.unemploy       Positive     0.052978\n",
       "1   trend.filling       Positive     0.071330\n",
       "2       trend.job        Regular    -0.040119"
      ]
     },
     "execution_count": 10,
     "metadata": {},
     "output_type": "execute_result"
    }
   ],
   "source": [
    "dlt_mod.get_regression_coefs()"
   ]
  },
  {
   "cell_type": "markdown",
   "metadata": {},
   "source": [
    "## Use data-driven sigma for each coefficients"
   ]
  },
  {
   "cell_type": "markdown",
   "metadata": {},
   "source": [
    "Instead of using fixed standard deviations for regressors, a hyperprior can be assigned to them, i.e.\n",
    "$$\\sigma_\\beta \\sim \\text{Half-Cauchy}(0, \\text{ridge_scale})$$\n",
    "\n",
    "This can be done by setting `regression_penalty=\"auto_ridge\"`.  Notice there is hyperprior `auto_ridge_scale` for tuning with a default of `0.5`."
   ]
  },
  {
   "cell_type": "code",
   "execution_count": 11,
   "metadata": {
    "ExecuteTime": {
     "end_time": "2020-10-16T01:23:55.107874Z",
     "start_time": "2020-10-16T01:23:44.748845Z"
    },
    "scrolled": true,
    "tags": []
   },
   "outputs": [
    {
     "name": "stdout",
     "output_type": "stream",
     "text": [
      "\n",
      "\n",
      "Gradient evaluation took 0.000382 seconds\n",
      "1000 transitions using 10 leapfrog steps per transition would take 3.82 seconds.\n",
      "Adjust your expectations accordingly!\n",
      "\n",
      "\n",
      "Gradient evaluation took 0.000375 seconds\n",
      "1000 transitions using 10 leapfrog steps per transition would take 3.75 seconds.\n",
      "Adjust your expectations accordingly!\n",
      "\n",
      "\n",
      "Iteration:   1 / 250 [  0%]  (Warmup)\n",
      "Iteration:   1 / 250 [  0%]  (Warmup)\n",
      "\n",
      "Gradient evaluation took 0.000634 seconds\n",
      "1000 transitions using 10 leapfrog steps per transition would take 6.34 seconds.\n",
      "Adjust your expectations accordingly!\n",
      "\n",
      "\n",
      "\n",
      "Gradient evaluation took 0.000568 seconds\n",
      "1000 transitions using 10 leapfrog steps per transition would take 5.68 seconds.\n",
      "Adjust your expectations accordingly!\n",
      "\n",
      "\n",
      "Iteration:   1 / 250 [  0%]  (Warmup)\n",
      "Iteration:   1 / 250 [  0%]  (Warmup)\n",
      "Iteration:  25 / 250 [ 10%]  (Warmup)\n",
      "Iteration:  25 / 250 [ 10%]  (Warmup)\n",
      "Iteration:  25 / 250 [ 10%]  (Warmup)\n",
      "Iteration:  25 / 250 [ 10%]  (Warmup)\n",
      "Iteration:  50 / 250 [ 20%]  (Warmup)\n",
      "Iteration:  50 / 250 [ 20%]  (Warmup)\n",
      "Iteration:  50 / 250 [ 20%]  (Warmup)\n",
      "Iteration:  75 / 250 [ 30%]  (Warmup)\n",
      "Iteration:  75 / 250 [ 30%]  (Warmup)\n",
      "Iteration:  50 / 250 [ 20%]  (Warmup)\n",
      "Iteration:  75 / 250 [ 30%]  (Warmup)\n",
      "Iteration: 100 / 250 [ 40%]  (Warmup)\n",
      "Iteration: 100 / 250 [ 40%]  (Warmup)\n",
      "Iteration: 100 / 250 [ 40%]  (Warmup)\n",
      "Iteration: 125 / 250 [ 50%]  (Warmup)\n",
      "Iteration: 125 / 250 [ 50%]  (Warmup)\n",
      "Iteration:  75 / 250 [ 30%]  (Warmup)\n",
      "Iteration: 125 / 250 [ 50%]  (Warmup)\n",
      "Iteration: 150 / 250 [ 60%]  (Warmup)\n",
      "Iteration: 150 / 250 [ 60%]  (Warmup)\n",
      "Iteration: 175 / 250 [ 70%]  (Warmup)\n",
      "Iteration: 175 / 250 [ 70%]  (Warmup)\n",
      "Iteration: 150 / 250 [ 60%]  (Warmup)\n",
      "Iteration: 100 / 250 [ 40%]  (Warmup)\n",
      "Iteration: 200 / 250 [ 80%]  (Warmup)\n",
      "Iteration: 200 / 250 [ 80%]  (Warmup)\n",
      "Iteration: 225 / 250 [ 90%]  (Warmup)\n",
      "Iteration: 226 / 250 [ 90%]  (Sampling)\n",
      "Iteration: 175 / 250 [ 70%]  (Warmup)\n",
      "Iteration: 125 / 250 [ 50%]  (Warmup)\n",
      "Iteration: 250 / 250 [100%]  (Sampling)\n",
      "Iteration: 225 / 250 [ 90%]  (Warmup)\n",
      "\n",
      " Elapsed Time: 8.13791 seconds (Warm-up)\n",
      "               0.264255 seconds (Sampling)\n",
      "               8.40217 seconds (Total)\n",
      "\n",
      "Iteration: 226 / 250 [ 90%]  (Sampling)\n",
      "Iteration: 200 / 250 [ 80%]  (Warmup)\n",
      "Iteration: 150 / 250 [ 60%]  (Warmup)\n",
      "Iteration: 225 / 250 [ 90%]  (Warmup)\n",
      "Iteration: 226 / 250 [ 90%]  (Sampling)\n",
      "Iteration: 250 / 250 [100%]  (Sampling)\n",
      "\n",
      " Elapsed Time: 8.44384 seconds (Warm-up)\n",
      "               0.48243 seconds (Sampling)\n",
      "               8.92627 seconds (Total)\n",
      "\n",
      "Iteration: 175 / 250 [ 70%]  (Warmup)\n",
      "Iteration: 250 / 250 [100%]  (Sampling)\n",
      "\n",
      " Elapsed Time: 8.83111 seconds (Warm-up)\n",
      "               0.25339 seconds (Sampling)\n",
      "               9.0845 seconds (Total)\n",
      "\n",
      "Iteration: 200 / 250 [ 80%]  (Warmup)\n",
      "Iteration: 225 / 250 [ 90%]  (Warmup)\n",
      "Iteration: 226 / 250 [ 90%]  (Sampling)\n"
     ]
    },
    {
     "name": "stderr",
     "output_type": "stream",
     "text": [
      "WARNING:pystan:Maximum (flat) parameter count (1000) exceeded: skipping diagnostic tests for n_eff and Rhat.\n",
      "To run all diagnostics call pystan.check_hmc_diagnostics(fit)\n",
      "WARNING:pystan:1 of 100 iterations ended with a divergence (1 %).\n",
      "WARNING:pystan:Try running with adapt_delta larger than 0.8 to remove the divergences.\n"
     ]
    },
    {
     "name": "stdout",
     "output_type": "stream",
     "text": [
      "Iteration: 250 / 250 [100%]  (Sampling)\n",
      "\n",
      " Elapsed Time: 9.62643 seconds (Warm-up)\n",
      "               0.214623 seconds (Sampling)\n",
      "               9.84105 seconds (Total)\n",
      "\n"
     ]
    }
   ],
   "source": [
    "dlt_mod=DLTAggregated(response_col=RESPONSE_COL,\n",
    "                      date_col=DATE_COL,\n",
    "                      regressor_col=REGRESSOR_COL,\n",
    "                      regressor_sign=[\"+\", '+', '='],\n",
    "                      seasonality=52,\n",
    "                      seed=1,\n",
    "                      regression_penalty=\"auto_ridge\",\n",
    "                      auto_ridge_scale=0.5)\n",
    "\n",
    "\n",
    "dlt_mod.fit(df=df)"
   ]
  },
  {
   "cell_type": "code",
   "execution_count": 12,
   "metadata": {
    "ExecuteTime": {
     "end_time": "2020-10-16T01:23:55.127986Z",
     "start_time": "2020-10-16T01:23:55.111179Z"
    }
   },
   "outputs": [
    {
     "data": {
      "text/html": [
       "<div>\n",
       "<style scoped>\n",
       "    .dataframe tbody tr th:only-of-type {\n",
       "        vertical-align: middle;\n",
       "    }\n",
       "\n",
       "    .dataframe tbody tr th {\n",
       "        vertical-align: top;\n",
       "    }\n",
       "\n",
       "    .dataframe thead th {\n",
       "        text-align: right;\n",
       "    }\n",
       "</style>\n",
       "<table border=\"1\" class=\"dataframe\">\n",
       "  <thead>\n",
       "    <tr style=\"text-align: right;\">\n",
       "      <th></th>\n",
       "      <th>regressor</th>\n",
       "      <th>regressor_sign</th>\n",
       "      <th>coefficient</th>\n",
       "    </tr>\n",
       "  </thead>\n",
       "  <tbody>\n",
       "    <tr>\n",
       "      <th>0</th>\n",
       "      <td>trend.unemploy</td>\n",
       "      <td>Positive</td>\n",
       "      <td>0.048211</td>\n",
       "    </tr>\n",
       "    <tr>\n",
       "      <th>1</th>\n",
       "      <td>trend.filling</td>\n",
       "      <td>Positive</td>\n",
       "      <td>0.057213</td>\n",
       "    </tr>\n",
       "    <tr>\n",
       "      <th>2</th>\n",
       "      <td>trend.job</td>\n",
       "      <td>Regular</td>\n",
       "      <td>-0.048793</td>\n",
       "    </tr>\n",
       "  </tbody>\n",
       "</table>\n",
       "</div>"
      ],
      "text/plain": [
       "        regressor regressor_sign  coefficient\n",
       "0  trend.unemploy       Positive     0.048211\n",
       "1   trend.filling       Positive     0.057213\n",
       "2       trend.job        Regular    -0.048793"
      ]
     },
     "execution_count": 12,
     "metadata": {},
     "output_type": "execute_result"
    }
   ],
   "source": [
    "dlt_mod.get_regression_coefs()"
   ]
  }
 ],
 "metadata": {
  "kernelspec": {
   "display_name": "Python 3 (ipykernel)",
   "language": "python",
   "name": "python3"
  },
  "language_info": {
   "codemirror_mode": {
    "name": "ipython",
    "version": 3
   },
   "file_extension": ".py",
   "mimetype": "text/x-python",
   "name": "python",
   "nbconvert_exporter": "python",
   "pygments_lexer": "ipython3",
   "version": "3.8.10"
  },
  "toc": {
   "base_numbering": 1,
   "nav_menu": {},
   "number_sections": true,
   "sideBar": true,
   "skip_h1_title": true,
   "title_cell": "Table of Contents",
   "title_sidebar": "Contents",
   "toc_cell": false,
   "toc_position": {},
   "toc_section_display": true,
   "toc_window_display": true
  }
 },
 "nbformat": 4,
 "nbformat_minor": 4
}
