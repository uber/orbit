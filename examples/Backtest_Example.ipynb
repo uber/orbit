{
 "cells": [
  {
   "cell_type": "markdown",
   "metadata": {},
   "source": [
    "## Backtest Example Notebook\n",
    "\n",
    "The purpose of this notebook is to illustrate how to use the `Backtest` class to do the back-testing. To have the greatest flexibility, this engine is designed to work for any model objects which have a `fit` method and a `predict` method, by writing some call back functions. The default settings work for **Orbit** model object automatically. Currently, there are two schemes supported for the back-testing engine: expanding window and rolling window.\n",
    "\n",
    "* expanding window: for each back-testing model training, the train start date is fixed, while the train end date is extended forward.\n",
    "* rolling window: for each back-testing model training, the training window length is fixed but the window is moving forward."
   ]
  },
  {
   "cell_type": "code",
   "execution_count": 1,
   "metadata": {
    "ExecuteTime": {
     "end_time": "2020-01-28T01:06:55.527569Z",
     "start_time": "2020-01-28T01:06:53.394273Z"
    }
   },
   "outputs": [],
   "source": [
    "import pandas as pd\n",
    "import numpy as np\n",
    "\n",
    "import matplotlib.pyplot as plt\n",
    "import seaborn as sns\n",
    "\n",
    "%matplotlib inline\n",
    "plt.style.use('ggplot')\n",
    "\n",
    "# import sys\n",
    "\n",
    "# sys.path.append(\"../../orbit\")\n",
    "from orbit.lgt import LGT\n",
    "from orbit.dlt import DLT\n",
    "# from orbit.backtest import BacktestEngine\n",
    "from orbit.backtest.backtest import Backtest\n",
    "from orbit.utils.metrics import mape, smape, wmape\n",
    "# from orbit.backtest import run_group_backtest, get_scores"
   ]
  },
  {
   "cell_type": "markdown",
   "metadata": {},
   "source": [
    "## Load data"
   ]
  },
  {
   "cell_type": "code",
   "execution_count": 2,
   "metadata": {
    "ExecuteTime": {
     "end_time": "2020-01-28T01:06:55.553262Z",
     "start_time": "2020-01-28T01:06:55.528978Z"
    }
   },
   "outputs": [
    {
     "name": "stdout",
     "output_type": "stream",
     "text": [
      "(443, 5)\n"
     ]
    },
    {
     "data": {
      "text/html": [
       "<div>\n",
       "<style scoped>\n",
       "    .dataframe tbody tr th:only-of-type {\n",
       "        vertical-align: middle;\n",
       "    }\n",
       "\n",
       "    .dataframe tbody tr th {\n",
       "        vertical-align: top;\n",
       "    }\n",
       "\n",
       "    .dataframe thead th {\n",
       "        text-align: right;\n",
       "    }\n",
       "</style>\n",
       "<table border=\"1\" class=\"dataframe\">\n",
       "  <thead>\n",
       "    <tr style=\"text-align: right;\">\n",
       "      <th></th>\n",
       "      <th>week</th>\n",
       "      <th>claims</th>\n",
       "      <th>trend.unemploy</th>\n",
       "      <th>trend.filling</th>\n",
       "      <th>trend.job</th>\n",
       "    </tr>\n",
       "  </thead>\n",
       "  <tbody>\n",
       "    <tr>\n",
       "      <th>0</th>\n",
       "      <td>2010-01-03</td>\n",
       "      <td>651215</td>\n",
       "      <td>1.183973</td>\n",
       "      <td>0.720140</td>\n",
       "      <td>1.119669</td>\n",
       "    </tr>\n",
       "    <tr>\n",
       "      <th>1</th>\n",
       "      <td>2010-01-10</td>\n",
       "      <td>825891</td>\n",
       "      <td>1.183973</td>\n",
       "      <td>0.814896</td>\n",
       "      <td>1.178599</td>\n",
       "    </tr>\n",
       "    <tr>\n",
       "      <th>2</th>\n",
       "      <td>2010-01-17</td>\n",
       "      <td>659173</td>\n",
       "      <td>1.203382</td>\n",
       "      <td>0.739091</td>\n",
       "      <td>1.119669</td>\n",
       "    </tr>\n",
       "    <tr>\n",
       "      <th>3</th>\n",
       "      <td>2010-01-24</td>\n",
       "      <td>507651</td>\n",
       "      <td>1.164564</td>\n",
       "      <td>0.814896</td>\n",
       "      <td>1.107883</td>\n",
       "    </tr>\n",
       "    <tr>\n",
       "      <th>4</th>\n",
       "      <td>2010-01-31</td>\n",
       "      <td>538617</td>\n",
       "      <td>1.086926</td>\n",
       "      <td>0.776993</td>\n",
       "      <td>1.072525</td>\n",
       "    </tr>\n",
       "  </tbody>\n",
       "</table>\n",
       "</div>"
      ],
      "text/plain": [
       "        week  claims  trend.unemploy  trend.filling  trend.job\n",
       "0 2010-01-03  651215        1.183973       0.720140   1.119669\n",
       "1 2010-01-10  825891        1.183973       0.814896   1.178599\n",
       "2 2010-01-17  659173        1.203382       0.739091   1.119669\n",
       "3 2010-01-24  507651        1.164564       0.814896   1.107883\n",
       "4 2010-01-31  538617        1.086926       0.776993   1.072525"
      ]
     },
     "execution_count": 2,
     "metadata": {},
     "output_type": "execute_result"
    }
   ],
   "source": [
    "data_path = \"../examples/data/iclaims.example.csv\"\n",
    "raw_data = pd.read_csv(data_path, parse_dates=['week'])\n",
    "\n",
    "## log transformation\n",
    "data = raw_data.copy()\n",
    "# data[['claims', 'trend.unemploy', 'trend.filling', 'trend.job']] = \\\n",
    "#     data[['claims', 'trend.unemploy', 'trend.filling', 'trend.job']].apply(np.log, axis=1)\n",
    "\n",
    "print(data.shape)\n",
    "data.head(5)"
   ]
  },
  {
   "cell_type": "markdown",
   "metadata": {},
   "source": [
    "## Orbit model object"
   ]
  },
  {
   "cell_type": "markdown",
   "metadata": {},
   "source": [
    "###  expanding window"
   ]
  },
  {
   "cell_type": "markdown",
   "metadata": {},
   "source": [
    "Below we create a `Backtest` instance with expanding window"
   ]
  },
  {
   "cell_type": "code",
   "execution_count": 3,
   "metadata": {
    "ExecuteTime": {
     "end_time": "2020-01-28T01:06:55.560760Z",
     "start_time": "2020-01-28T01:06:55.555306Z"
    }
   },
   "outputs": [],
   "source": [
    "date_col = 'week'\n",
    "response_col = 'claims'\n",
    "regressor_col = ['trend.unemploy', 'trend.filling', 'trend.job']\n",
    "\n",
    "min_train_len = 300\n",
    "forecast_len = 20\n",
    "incremental_len = 20\n",
    "\n",
    "# bt_expand = BacktestEngine(mod, data)\n",
    "bt_expand = Backtest(\n",
    "    data,\n",
    "    min_train_len=min_train_len,\n",
    "    incremental_len=incremental_len,\n",
    "    forecast_len=forecast_len\n",
    ")"
   ]
  },
  {
   "cell_type": "markdown",
   "metadata": {
    "ExecuteTime": {
     "end_time": "2020-01-23T21:50:17.759953Z",
     "start_time": "2020-01-23T21:50:17.755383Z"
    }
   },
   "source": [
    "Then, instantiate a model that we want to backtest"
   ]
  },
  {
   "cell_type": "code",
   "execution_count": 9,
   "metadata": {
    "ExecuteTime": {
     "end_time": "2020-01-28T01:01:02.190591Z",
     "start_time": "2020-01-28T01:01:02.187195Z"
    }
   },
   "outputs": [],
   "source": [
    "mod = LGT(date_col = date_col,\n",
    "    response_col = response_col,\n",
    "    regressor_col = regressor_col,\n",
    "    seasonality = 52,\n",
    "    seed = 8888,\n",
    "    predict_method = 'map',\n",
    "    auto_scale=True\n",
    ")"
   ]
  },
  {
   "cell_type": "markdown",
   "metadata": {},
   "source": [
    "This function will fit the model and computed the desired metrics"
   ]
  },
  {
   "cell_type": "code",
   "execution_count": 10,
   "metadata": {
    "ExecuteTime": {
     "end_time": "2020-01-28T01:01:04.866145Z",
     "start_time": "2020-01-28T01:01:03.151534Z"
    }
   },
   "outputs": [
    {
     "name": "stderr",
     "output_type": "stream",
     "text": [
      "INFO:pystan:COMPILING THE C++ CODE FOR MODEL anon_model_084901310495613f9d9442fb54aa98b8 NOW.\n"
     ]
    }
   ],
   "source": [
    "bt_expand.fit_score(mod, response_col='claims', predicted_col='prediction')"
   ]
  },
  {
   "cell_type": "markdown",
   "metadata": {},
   "source": [
    "Retrieve raw predictions for every split"
   ]
  },
  {
   "cell_type": "code",
   "execution_count": 11,
   "metadata": {
    "ExecuteTime": {
     "end_time": "2020-01-28T01:01:06.113174Z",
     "start_time": "2020-01-28T01:01:06.098463Z"
    }
   },
   "outputs": [
    {
     "data": {
      "text/html": [
       "<div>\n",
       "<style scoped>\n",
       "    .dataframe tbody tr th:only-of-type {\n",
       "        vertical-align: middle;\n",
       "    }\n",
       "\n",
       "    .dataframe tbody tr th {\n",
       "        vertical-align: top;\n",
       "    }\n",
       "\n",
       "    .dataframe thead th {\n",
       "        text-align: right;\n",
       "    }\n",
       "</style>\n",
       "<table border=\"1\" class=\"dataframe\">\n",
       "  <thead>\n",
       "    <tr style=\"text-align: right;\">\n",
       "      <th></th>\n",
       "      <th>steps</th>\n",
       "      <th>week</th>\n",
       "      <th>claims</th>\n",
       "      <th>trend.unemploy</th>\n",
       "      <th>trend.filling</th>\n",
       "      <th>trend.job</th>\n",
       "      <th>prediction</th>\n",
       "      <th>split_key</th>\n",
       "    </tr>\n",
       "  </thead>\n",
       "  <tbody>\n",
       "    <tr>\n",
       "      <th>0</th>\n",
       "      <td>1</td>\n",
       "      <td>2015-10-04</td>\n",
       "      <td>227176</td>\n",
       "      <td>1.261611</td>\n",
       "      <td>0.966504</td>\n",
       "      <td>1.072525</td>\n",
       "      <td>246891.905818</td>\n",
       "      <td>0</td>\n",
       "    </tr>\n",
       "    <tr>\n",
       "      <th>1</th>\n",
       "      <td>2</td>\n",
       "      <td>2015-10-11</td>\n",
       "      <td>256522</td>\n",
       "      <td>1.319839</td>\n",
       "      <td>1.042308</td>\n",
       "      <td>1.025381</td>\n",
       "      <td>265551.882467</td>\n",
       "      <td>0</td>\n",
       "    </tr>\n",
       "    <tr>\n",
       "      <th>2</th>\n",
       "      <td>3</td>\n",
       "      <td>2015-10-18</td>\n",
       "      <td>232860</td>\n",
       "      <td>1.261611</td>\n",
       "      <td>1.042308</td>\n",
       "      <td>1.037167</td>\n",
       "      <td>246232.873646</td>\n",
       "      <td>0</td>\n",
       "    </tr>\n",
       "    <tr>\n",
       "      <th>3</th>\n",
       "      <td>4</td>\n",
       "      <td>2015-10-25</td>\n",
       "      <td>245365</td>\n",
       "      <td>1.261611</td>\n",
       "      <td>0.985455</td>\n",
       "      <td>1.025381</td>\n",
       "      <td>257076.419476</td>\n",
       "      <td>0</td>\n",
       "    </tr>\n",
       "    <tr>\n",
       "      <th>4</th>\n",
       "      <td>5</td>\n",
       "      <td>2015-11-01</td>\n",
       "      <td>258440</td>\n",
       "      <td>1.281020</td>\n",
       "      <td>0.966504</td>\n",
       "      <td>1.060739</td>\n",
       "      <td>256647.479963</td>\n",
       "      <td>0</td>\n",
       "    </tr>\n",
       "  </tbody>\n",
       "</table>\n",
       "</div>"
      ],
      "text/plain": [
       "   steps       week  claims  trend.unemploy  trend.filling  trend.job  \\\n",
       "0      1 2015-10-04  227176        1.261611       0.966504   1.072525   \n",
       "1      2 2015-10-11  256522        1.319839       1.042308   1.025381   \n",
       "2      3 2015-10-18  232860        1.261611       1.042308   1.037167   \n",
       "3      4 2015-10-25  245365        1.261611       0.985455   1.025381   \n",
       "4      5 2015-11-01  258440        1.281020       0.966504   1.060739   \n",
       "\n",
       "      prediction  split_key  \n",
       "0  246891.905818          0  \n",
       "1  265551.882467          0  \n",
       "2  246232.873646          0  \n",
       "3  257076.419476          0  \n",
       "4  256647.479963          0  "
      ]
     },
     "execution_count": 11,
     "metadata": {},
     "output_type": "execute_result"
    }
   ],
   "source": [
    "bt_expand.get_predictions().head()"
   ]
  },
  {
   "cell_type": "markdown",
   "metadata": {},
   "source": [
    "Retrieve scores. For a single model, the scores are scalars in a dict"
   ]
  },
  {
   "cell_type": "code",
   "execution_count": 12,
   "metadata": {
    "ExecuteTime": {
     "end_time": "2020-01-28T01:01:10.896491Z",
     "start_time": "2020-01-28T01:01:10.886319Z"
    },
    "scrolled": true
   },
   "outputs": [
    {
     "data": {
      "text/html": [
       "<div>\n",
       "<style scoped>\n",
       "    .dataframe tbody tr th:only-of-type {\n",
       "        vertical-align: middle;\n",
       "    }\n",
       "\n",
       "    .dataframe tbody tr th {\n",
       "        vertical-align: top;\n",
       "    }\n",
       "\n",
       "    .dataframe thead th {\n",
       "        text-align: right;\n",
       "    }\n",
       "</style>\n",
       "<table border=\"1\" class=\"dataframe\">\n",
       "  <thead>\n",
       "    <tr style=\"text-align: right;\">\n",
       "      <th></th>\n",
       "      <th>wmape</th>\n",
       "      <th>smape</th>\n",
       "    </tr>\n",
       "  </thead>\n",
       "  <tbody>\n",
       "    <tr>\n",
       "      <th>0</th>\n",
       "      <td>0.050702</td>\n",
       "      <td>0.051309</td>\n",
       "    </tr>\n",
       "  </tbody>\n",
       "</table>\n",
       "</div>"
      ],
      "text/plain": [
       "      wmape     smape\n",
       "0  0.050702  0.051309"
      ]
     },
     "execution_count": 12,
     "metadata": {},
     "output_type": "execute_result"
    }
   ],
   "source": [
    "bt_expand.get_scores()"
   ]
  },
  {
   "cell_type": "markdown",
   "metadata": {},
   "source": [
    "### rolling window"
   ]
  },
  {
   "cell_type": "code",
   "execution_count": 13,
   "metadata": {
    "ExecuteTime": {
     "end_time": "2020-01-28T01:01:13.753708Z",
     "start_time": "2020-01-28T01:01:12.205718Z"
    }
   },
   "outputs": [
    {
     "data": {
      "text/html": [
       "<div>\n",
       "<style scoped>\n",
       "    .dataframe tbody tr th:only-of-type {\n",
       "        vertical-align: middle;\n",
       "    }\n",
       "\n",
       "    .dataframe tbody tr th {\n",
       "        vertical-align: top;\n",
       "    }\n",
       "\n",
       "    .dataframe thead th {\n",
       "        text-align: right;\n",
       "    }\n",
       "</style>\n",
       "<table border=\"1\" class=\"dataframe\">\n",
       "  <thead>\n",
       "    <tr style=\"text-align: right;\">\n",
       "      <th></th>\n",
       "      <th>steps</th>\n",
       "      <th>week</th>\n",
       "      <th>claims</th>\n",
       "      <th>trend.unemploy</th>\n",
       "      <th>trend.filling</th>\n",
       "      <th>trend.job</th>\n",
       "      <th>prediction</th>\n",
       "      <th>split_key</th>\n",
       "    </tr>\n",
       "  </thead>\n",
       "  <tbody>\n",
       "    <tr>\n",
       "      <th>0</th>\n",
       "      <td>1</td>\n",
       "      <td>2015-10-04</td>\n",
       "      <td>227176</td>\n",
       "      <td>1.261611</td>\n",
       "      <td>0.966504</td>\n",
       "      <td>1.072525</td>\n",
       "      <td>246891.905818</td>\n",
       "      <td>0</td>\n",
       "    </tr>\n",
       "    <tr>\n",
       "      <th>1</th>\n",
       "      <td>2</td>\n",
       "      <td>2015-10-11</td>\n",
       "      <td>256522</td>\n",
       "      <td>1.319839</td>\n",
       "      <td>1.042308</td>\n",
       "      <td>1.025381</td>\n",
       "      <td>265551.882467</td>\n",
       "      <td>0</td>\n",
       "    </tr>\n",
       "    <tr>\n",
       "      <th>2</th>\n",
       "      <td>3</td>\n",
       "      <td>2015-10-18</td>\n",
       "      <td>232860</td>\n",
       "      <td>1.261611</td>\n",
       "      <td>1.042308</td>\n",
       "      <td>1.037167</td>\n",
       "      <td>246232.873646</td>\n",
       "      <td>0</td>\n",
       "    </tr>\n",
       "    <tr>\n",
       "      <th>3</th>\n",
       "      <td>4</td>\n",
       "      <td>2015-10-25</td>\n",
       "      <td>245365</td>\n",
       "      <td>1.261611</td>\n",
       "      <td>0.985455</td>\n",
       "      <td>1.025381</td>\n",
       "      <td>257076.419476</td>\n",
       "      <td>0</td>\n",
       "    </tr>\n",
       "    <tr>\n",
       "      <th>4</th>\n",
       "      <td>5</td>\n",
       "      <td>2015-11-01</td>\n",
       "      <td>258440</td>\n",
       "      <td>1.281020</td>\n",
       "      <td>0.966504</td>\n",
       "      <td>1.060739</td>\n",
       "      <td>256647.479963</td>\n",
       "      <td>0</td>\n",
       "    </tr>\n",
       "  </tbody>\n",
       "</table>\n",
       "</div>"
      ],
      "text/plain": [
       "   steps       week  claims  trend.unemploy  trend.filling  trend.job  \\\n",
       "0      1 2015-10-04  227176        1.261611       0.966504   1.072525   \n",
       "1      2 2015-10-11  256522        1.319839       1.042308   1.025381   \n",
       "2      3 2015-10-18  232860        1.261611       1.042308   1.037167   \n",
       "3      4 2015-10-25  245365        1.261611       0.985455   1.025381   \n",
       "4      5 2015-11-01  258440        1.281020       0.966504   1.060739   \n",
       "\n",
       "      prediction  split_key  \n",
       "0  246891.905818          0  \n",
       "1  265551.882467          0  \n",
       "2  246232.873646          0  \n",
       "3  257076.419476          0  \n",
       "4  256647.479963          0  "
      ]
     },
     "execution_count": 13,
     "metadata": {},
     "output_type": "execute_result"
    }
   ],
   "source": [
    "# bt_expand = BacktestEngine(mod, data)\n",
    "bt_roll = Backtest(\n",
    "    data,\n",
    "    min_train_len=min_train_len,\n",
    "    incremental_len=incremental_len,\n",
    "    forecast_len=forecast_len,\n",
    "    scheme='rolling'\n",
    ")\n",
    "\n",
    "bt_roll.fit_score(mod, response_col='claims', predicted_col='prediction')\n",
    "bt_roll.get_predictions().head()"
   ]
  },
  {
   "cell_type": "code",
   "execution_count": 14,
   "metadata": {
    "ExecuteTime": {
     "end_time": "2020-01-28T01:01:13.765268Z",
     "start_time": "2020-01-28T01:01:13.755752Z"
    }
   },
   "outputs": [
    {
     "data": {
      "text/html": [
       "<div>\n",
       "<style scoped>\n",
       "    .dataframe tbody tr th:only-of-type {\n",
       "        vertical-align: middle;\n",
       "    }\n",
       "\n",
       "    .dataframe tbody tr th {\n",
       "        vertical-align: top;\n",
       "    }\n",
       "\n",
       "    .dataframe thead th {\n",
       "        text-align: right;\n",
       "    }\n",
       "</style>\n",
       "<table border=\"1\" class=\"dataframe\">\n",
       "  <thead>\n",
       "    <tr style=\"text-align: right;\">\n",
       "      <th></th>\n",
       "      <th>wmape</th>\n",
       "      <th>smape</th>\n",
       "    </tr>\n",
       "  </thead>\n",
       "  <tbody>\n",
       "    <tr>\n",
       "      <th>0</th>\n",
       "      <td>0.050965</td>\n",
       "      <td>0.051381</td>\n",
       "    </tr>\n",
       "  </tbody>\n",
       "</table>\n",
       "</div>"
      ],
      "text/plain": [
       "      wmape     smape\n",
       "0  0.050965  0.051381"
      ]
     },
     "execution_count": 14,
     "metadata": {},
     "output_type": "execute_result"
    }
   ],
   "source": [
    "bt_roll.get_scores()"
   ]
  },
  {
   "cell_type": "markdown",
   "metadata": {},
   "source": [
    "### using number of trainings"
   ]
  },
  {
   "cell_type": "markdown",
   "metadata": {},
   "source": [
    "User can also define number of trainings using `n_train` instead of specifying minimum training length.  That way, minimum training length will be automatically calculated."
   ]
  },
  {
   "cell_type": "code",
   "execution_count": 15,
   "metadata": {
    "ExecuteTime": {
     "end_time": "2020-01-28T01:01:14.718136Z",
     "start_time": "2020-01-28T01:01:14.211423Z"
    }
   },
   "outputs": [
    {
     "data": {
      "text/html": [
       "<div>\n",
       "<style scoped>\n",
       "    .dataframe tbody tr th:only-of-type {\n",
       "        vertical-align: middle;\n",
       "    }\n",
       "\n",
       "    .dataframe tbody tr th {\n",
       "        vertical-align: top;\n",
       "    }\n",
       "\n",
       "    .dataframe thead th {\n",
       "        text-align: right;\n",
       "    }\n",
       "</style>\n",
       "<table border=\"1\" class=\"dataframe\">\n",
       "  <thead>\n",
       "    <tr style=\"text-align: right;\">\n",
       "      <th></th>\n",
       "      <th>steps</th>\n",
       "      <th>week</th>\n",
       "      <th>claims</th>\n",
       "      <th>trend.unemploy</th>\n",
       "      <th>trend.filling</th>\n",
       "      <th>trend.job</th>\n",
       "      <th>prediction</th>\n",
       "      <th>split_key</th>\n",
       "    </tr>\n",
       "  </thead>\n",
       "  <tbody>\n",
       "    <tr>\n",
       "      <th>0</th>\n",
       "      <td>1</td>\n",
       "      <td>2017-09-24</td>\n",
       "      <td>212987</td>\n",
       "      <td>1.048107</td>\n",
       "      <td>1.042308</td>\n",
       "      <td>0.990023</td>\n",
       "      <td>194701.971782</td>\n",
       "      <td>0</td>\n",
       "    </tr>\n",
       "    <tr>\n",
       "      <th>1</th>\n",
       "      <td>2</td>\n",
       "      <td>2017-10-01</td>\n",
       "      <td>204180</td>\n",
       "      <td>1.067517</td>\n",
       "      <td>1.023357</td>\n",
       "      <td>0.966451</td>\n",
       "      <td>201454.936843</td>\n",
       "      <td>0</td>\n",
       "    </tr>\n",
       "    <tr>\n",
       "      <th>2</th>\n",
       "      <td>3</td>\n",
       "      <td>2017-10-08</td>\n",
       "      <td>229241</td>\n",
       "      <td>1.086926</td>\n",
       "      <td>1.061259</td>\n",
       "      <td>1.013595</td>\n",
       "      <td>234461.470566</td>\n",
       "      <td>0</td>\n",
       "    </tr>\n",
       "    <tr>\n",
       "      <th>3</th>\n",
       "      <td>4</td>\n",
       "      <td>2017-10-15</td>\n",
       "      <td>205592</td>\n",
       "      <td>1.106335</td>\n",
       "      <td>1.080210</td>\n",
       "      <td>0.966451</td>\n",
       "      <td>226562.325608</td>\n",
       "      <td>0</td>\n",
       "    </tr>\n",
       "    <tr>\n",
       "      <th>4</th>\n",
       "      <td>5</td>\n",
       "      <td>2017-10-22</td>\n",
       "      <td>216004</td>\n",
       "      <td>1.086926</td>\n",
       "      <td>1.080210</td>\n",
       "      <td>0.978237</td>\n",
       "      <td>232351.534459</td>\n",
       "      <td>0</td>\n",
       "    </tr>\n",
       "  </tbody>\n",
       "</table>\n",
       "</div>"
      ],
      "text/plain": [
       "   steps       week  claims  trend.unemploy  trend.filling  trend.job  \\\n",
       "0      1 2017-09-24  212987        1.048107       1.042308   0.990023   \n",
       "1      2 2017-10-01  204180        1.067517       1.023357   0.966451   \n",
       "2      3 2017-10-08  229241        1.086926       1.061259   1.013595   \n",
       "3      4 2017-10-15  205592        1.106335       1.080210   0.966451   \n",
       "4      5 2017-10-22  216004        1.086926       1.080210   0.978237   \n",
       "\n",
       "      prediction  split_key  \n",
       "0  194701.971782          0  \n",
       "1  201454.936843          0  \n",
       "2  234461.470566          0  \n",
       "3  226562.325608          0  \n",
       "4  232351.534459          0  "
      ]
     },
     "execution_count": 15,
     "metadata": {},
     "output_type": "execute_result"
    }
   ],
   "source": [
    "# bt_expand = BacktestEngine(mod, data)\n",
    "bt_n_split = Backtest(\n",
    "    data,\n",
    "    min_train_len=min_train_len,\n",
    "    incremental_len=incremental_len,\n",
    "    forecast_len=forecast_len,\n",
    "    n_splits=2,\n",
    "    scheme='rolling'\n",
    ")\n",
    "\n",
    "bt_n_split.fit_score(mod, response_col='claims', predicted_col='prediction')\n",
    "bt_n_split.get_predictions().head()"
   ]
  },
  {
   "cell_type": "code",
   "execution_count": 16,
   "metadata": {
    "ExecuteTime": {
     "end_time": "2020-01-28T01:01:14.730842Z",
     "start_time": "2020-01-28T01:01:14.720102Z"
    }
   },
   "outputs": [
    {
     "data": {
      "text/html": [
       "<div>\n",
       "<style scoped>\n",
       "    .dataframe tbody tr th:only-of-type {\n",
       "        vertical-align: middle;\n",
       "    }\n",
       "\n",
       "    .dataframe tbody tr th {\n",
       "        vertical-align: top;\n",
       "    }\n",
       "\n",
       "    .dataframe thead th {\n",
       "        text-align: right;\n",
       "    }\n",
       "</style>\n",
       "<table border=\"1\" class=\"dataframe\">\n",
       "  <thead>\n",
       "    <tr style=\"text-align: right;\">\n",
       "      <th></th>\n",
       "      <th>wmape</th>\n",
       "      <th>smape</th>\n",
       "    </tr>\n",
       "  </thead>\n",
       "  <tbody>\n",
       "    <tr>\n",
       "      <th>0</th>\n",
       "      <td>0.052307</td>\n",
       "      <td>0.05161</td>\n",
       "    </tr>\n",
       "  </tbody>\n",
       "</table>\n",
       "</div>"
      ],
      "text/plain": [
       "      wmape    smape\n",
       "0  0.052307  0.05161"
      ]
     },
     "execution_count": 16,
     "metadata": {},
     "output_type": "execute_result"
    }
   ],
   "source": [
    "bt_n_split.get_scores()"
   ]
  },
  {
   "cell_type": "markdown",
   "metadata": {},
   "source": [
    "## Sklearn model object - Random Forest"
   ]
  },
  {
   "cell_type": "markdown",
   "metadata": {},
   "source": [
    "We can generalize backtest to other model objects using callback functions"
   ]
  },
  {
   "cell_type": "code",
   "execution_count": 18,
   "metadata": {
    "ExecuteTime": {
     "end_time": "2020-01-28T01:10:41.876567Z",
     "start_time": "2020-01-28T01:10:41.793996Z"
    }
   },
   "outputs": [],
   "source": [
    "from sklearn.ensemble import RandomForestRegressor\n",
    "\n",
    "# custom callback\n",
    "def fit_callback_sklearn(model, train_df, response_col, regressor_col):\n",
    "    y = train_df[response_col]\n",
    "    X = train_df[regressor_col]\n",
    "    model.fit(X, y)\n",
    "    return\n",
    "\n",
    "def predict_callback_sklearn(model, test_df, response_col, regressor_col):\n",
    "    X = test_df[regressor_col]\n",
    "    pred = model.predict(X)\n",
    "\n",
    "    return pd.DataFrame(pred, columns=['prediction'])"
   ]
  },
  {
   "cell_type": "markdown",
   "metadata": {},
   "source": [
    "Next, instantiate an sklearn model"
   ]
  },
  {
   "cell_type": "code",
   "execution_count": 19,
   "metadata": {
    "ExecuteTime": {
     "end_time": "2020-01-28T01:10:43.918296Z",
     "start_time": "2020-01-28T01:10:43.915954Z"
    }
   },
   "outputs": [],
   "source": [
    "mod = RandomForestRegressor(n_estimators = 50)"
   ]
  },
  {
   "cell_type": "code",
   "execution_count": 23,
   "metadata": {
    "ExecuteTime": {
     "end_time": "2020-01-28T01:10:56.634397Z",
     "start_time": "2020-01-28T01:10:56.244029Z"
    }
   },
   "outputs": [
    {
     "name": "stdout",
     "output_type": "stream",
     "text": [
      "   steps       week  claims  trend.unemploy  trend.filling  trend.job  \\\n",
      "0      1 2015-10-04  227176        1.261611       0.966504   1.072525   \n",
      "1      2 2015-10-11  256522        1.319839       1.042308   1.025381   \n",
      "2      3 2015-10-18  232860        1.261611       1.042308   1.037167   \n",
      "3      4 2015-10-25  245365        1.261611       0.985455   1.025381   \n",
      "4      5 2015-11-01  258440        1.281020       0.966504   1.060739   \n",
      "\n",
      "   prediction  split_key  \n",
      "0   217182.42          0  \n",
      "1   224077.58          0  \n",
      "2   222731.44          0  \n",
      "3   222337.68          0  \n",
      "4   216279.42          0  \n"
     ]
    },
    {
     "data": {
      "text/html": [
       "<div>\n",
       "<style scoped>\n",
       "    .dataframe tbody tr th:only-of-type {\n",
       "        vertical-align: middle;\n",
       "    }\n",
       "\n",
       "    .dataframe tbody tr th {\n",
       "        vertical-align: top;\n",
       "    }\n",
       "\n",
       "    .dataframe thead th {\n",
       "        text-align: right;\n",
       "    }\n",
       "</style>\n",
       "<table border=\"1\" class=\"dataframe\">\n",
       "  <thead>\n",
       "    <tr style=\"text-align: right;\">\n",
       "      <th></th>\n",
       "      <th>steps</th>\n",
       "      <th>week</th>\n",
       "      <th>claims</th>\n",
       "      <th>trend.unemploy</th>\n",
       "      <th>trend.filling</th>\n",
       "      <th>trend.job</th>\n",
       "      <th>prediction</th>\n",
       "      <th>split_key</th>\n",
       "    </tr>\n",
       "  </thead>\n",
       "  <tbody>\n",
       "    <tr>\n",
       "      <th>0</th>\n",
       "      <td>1</td>\n",
       "      <td>2015-10-04</td>\n",
       "      <td>227176</td>\n",
       "      <td>1.261611</td>\n",
       "      <td>0.966504</td>\n",
       "      <td>1.072525</td>\n",
       "      <td>217182.42</td>\n",
       "      <td>0</td>\n",
       "    </tr>\n",
       "    <tr>\n",
       "      <th>1</th>\n",
       "      <td>2</td>\n",
       "      <td>2015-10-11</td>\n",
       "      <td>256522</td>\n",
       "      <td>1.319839</td>\n",
       "      <td>1.042308</td>\n",
       "      <td>1.025381</td>\n",
       "      <td>224077.58</td>\n",
       "      <td>0</td>\n",
       "    </tr>\n",
       "    <tr>\n",
       "      <th>2</th>\n",
       "      <td>3</td>\n",
       "      <td>2015-10-18</td>\n",
       "      <td>232860</td>\n",
       "      <td>1.261611</td>\n",
       "      <td>1.042308</td>\n",
       "      <td>1.037167</td>\n",
       "      <td>222731.44</td>\n",
       "      <td>0</td>\n",
       "    </tr>\n",
       "    <tr>\n",
       "      <th>3</th>\n",
       "      <td>4</td>\n",
       "      <td>2015-10-25</td>\n",
       "      <td>245365</td>\n",
       "      <td>1.261611</td>\n",
       "      <td>0.985455</td>\n",
       "      <td>1.025381</td>\n",
       "      <td>222337.68</td>\n",
       "      <td>0</td>\n",
       "    </tr>\n",
       "    <tr>\n",
       "      <th>4</th>\n",
       "      <td>5</td>\n",
       "      <td>2015-11-01</td>\n",
       "      <td>258440</td>\n",
       "      <td>1.281020</td>\n",
       "      <td>0.966504</td>\n",
       "      <td>1.060739</td>\n",
       "      <td>216279.42</td>\n",
       "      <td>0</td>\n",
       "    </tr>\n",
       "  </tbody>\n",
       "</table>\n",
       "</div>"
      ],
      "text/plain": [
       "   steps       week  claims  trend.unemploy  trend.filling  trend.job  \\\n",
       "0      1 2015-10-04  227176        1.261611       0.966504   1.072525   \n",
       "1      2 2015-10-11  256522        1.319839       1.042308   1.025381   \n",
       "2      3 2015-10-18  232860        1.261611       1.042308   1.037167   \n",
       "3      4 2015-10-25  245365        1.261611       0.985455   1.025381   \n",
       "4      5 2015-11-01  258440        1.281020       0.966504   1.060739   \n",
       "\n",
       "   prediction  split_key  \n",
       "0   217182.42          0  \n",
       "1   224077.58          0  \n",
       "2   222731.44          0  \n",
       "3   222337.68          0  \n",
       "4   216279.42          0  "
      ]
     },
     "execution_count": 23,
     "metadata": {},
     "output_type": "execute_result"
    }
   ],
   "source": [
    "# bt_expand = BacktestEngine(mod, data)\n",
    "bt_sklearn = Backtest(\n",
    "    data,\n",
    "    min_train_len=min_train_len,\n",
    "    incremental_len=incremental_len,\n",
    "    forecast_len=forecast_len,\n",
    ")\n",
    "\n",
    "fit_args_rf = {\n",
    "    'response_col': 'claims',\n",
    "    'regressor_col': ['trend.unemploy', 'trend.filling', 'trend.job']\n",
    "}\n",
    "\n",
    "bt_sklearn.fit_score(\n",
    "    mod,\n",
    "    response_col='claims',\n",
    "    predicted_col='prediction',\n",
    "    fit_callback=fit_callback_sklearn,\n",
    "    predict_callback=predict_callback_sklearn,\n",
    "    fit_args=fit_args_rf\n",
    ")\n",
    "\n",
    "bt_sklearn.get_predictions().head()"
   ]
  },
  {
   "cell_type": "code",
   "execution_count": 24,
   "metadata": {
    "ExecuteTime": {
     "end_time": "2020-01-28T01:10:58.997502Z",
     "start_time": "2020-01-28T01:10:58.987741Z"
    }
   },
   "outputs": [
    {
     "data": {
      "text/html": [
       "<div>\n",
       "<style scoped>\n",
       "    .dataframe tbody tr th:only-of-type {\n",
       "        vertical-align: middle;\n",
       "    }\n",
       "\n",
       "    .dataframe tbody tr th {\n",
       "        vertical-align: top;\n",
       "    }\n",
       "\n",
       "    .dataframe thead th {\n",
       "        text-align: right;\n",
       "    }\n",
       "</style>\n",
       "<table border=\"1\" class=\"dataframe\">\n",
       "  <thead>\n",
       "    <tr style=\"text-align: right;\">\n",
       "      <th></th>\n",
       "      <th>wmape</th>\n",
       "      <th>smape</th>\n",
       "    </tr>\n",
       "  </thead>\n",
       "  <tbody>\n",
       "    <tr>\n",
       "      <th>0</th>\n",
       "      <td>0.271442</td>\n",
       "      <td>0.22531</td>\n",
       "    </tr>\n",
       "  </tbody>\n",
       "</table>\n",
       "</div>"
      ],
      "text/plain": [
       "      wmape    smape\n",
       "0  0.271442  0.22531"
      ]
     },
     "execution_count": 24,
     "metadata": {},
     "output_type": "execute_result"
    }
   ],
   "source": [
    "bt_sklearn.get_scores()"
   ]
  },
  {
   "cell_type": "markdown",
   "metadata": {},
   "source": [
    "## Prophet model object"
   ]
  },
  {
   "cell_type": "code",
   "execution_count": 7,
   "metadata": {
    "ExecuteTime": {
     "end_time": "2020-01-28T01:07:18.322199Z",
     "start_time": "2020-01-28T01:07:18.255280Z"
    }
   },
   "outputs": [
    {
     "name": "stderr",
     "output_type": "stream",
     "text": [
      "ERROR:fbprophet:Importing plotly failed. Interactive plots will not work.\n"
     ]
    }
   ],
   "source": [
    "from fbprophet import Prophet\n",
    "import inspect"
   ]
  },
  {
   "cell_type": "code",
   "execution_count": 8,
   "metadata": {
    "ExecuteTime": {
     "end_time": "2020-01-28T01:07:18.865657Z",
     "start_time": "2020-01-28T01:07:18.857873Z"
    }
   },
   "outputs": [],
   "source": [
    "def model_callback_prophet(model, **kwargs):\n",
    "    object_type = type(model)\n",
    "    new_instance = object_type(**kwargs)\n",
    "    \n",
    "    return new_instance\n",
    "\n",
    "def fit_callbacks_prophet(model, train_df, date_col, response_col, regressor_col):\n",
    "    \n",
    "    train_df = train_df.rename(columns={date_col: \"ds\", response_col: \"y\"})\n",
    "    if regressor_col is not None:\n",
    "        for regressor in regressor_col:\n",
    "            model.add_regressor(regressor) \n",
    "    model.fit(train_df)\n",
    "    \n",
    "    return \n",
    "\n",
    "# def pred_callbacks_prophet(model, test_df, date_col, response_col, regressor_col):\n",
    "#     test_df = test_df.rename(columns={date_col: \"ds\", response_col: \"y\"})\n",
    "    \n",
    "#     return model.predict(test_df)\n",
    "# also, we an use predict callbacks to make the columns\n",
    "# align across models. This wasn't necessary within only prophet models\n",
    "# because the columns aligned\n",
    "def pred_callbacks_prophet(model, test_df, date_col, response_col, regressor_col):\n",
    "    test_df = test_df.rename(columns={date_col: \"ds\", response_col: \"y\"})\n",
    "    \n",
    "    predictions = model.predict(test_df)\n",
    "    predictions.rename(columns={'yhat': 'prediction', 'ds': date_col}, inplace=True)\n",
    "    predictions=predictions[[date_col, 'prediction']]\n",
    "\n",
    "    return predictions"
   ]
  },
  {
   "cell_type": "code",
   "execution_count": 12,
   "metadata": {
    "ExecuteTime": {
     "end_time": "2020-01-28T01:09:41.077850Z",
     "start_time": "2020-01-28T01:09:38.997058Z"
    }
   },
   "outputs": [
    {
     "name": "stderr",
     "output_type": "stream",
     "text": [
      "INFO:fbprophet:Disabling weekly seasonality. Run prophet with weekly_seasonality=True to override this.\n",
      "INFO:fbprophet:Disabling daily seasonality. Run prophet with daily_seasonality=True to override this.\n"
     ]
    }
   ],
   "source": [
    "# prophet standalone\n",
    "mod = Prophet()\n",
    "# fit_callbacks_prophet(\n",
    "#     mod, data, date_col='week',\n",
    "#     response_col='claims',\n",
    "#     regressor_col=['trend.unemploy', 'trend.filling', 'trend.job']\n",
    "# )\n",
    "\n",
    "# pred = pred_callbacks_prophet(\n",
    "#     mod, data, date_col='week',\n",
    "#     response_col='claims',\n",
    "#     regressor_col=['trend.unemploy', 'trend.filling', 'trend.job']\n",
    "# )"
   ]
  },
  {
   "cell_type": "code",
   "execution_count": 14,
   "metadata": {
    "ExecuteTime": {
     "end_time": "2020-01-28T01:10:12.909833Z",
     "start_time": "2020-01-28T01:10:03.746140Z"
    }
   },
   "outputs": [
    {
     "name": "stderr",
     "output_type": "stream",
     "text": [
      "INFO:fbprophet:Disabling weekly seasonality. Run prophet with weekly_seasonality=True to override this.\n",
      "INFO:fbprophet:Disabling daily seasonality. Run prophet with daily_seasonality=True to override this.\n",
      "INFO:fbprophet:Disabling weekly seasonality. Run prophet with weekly_seasonality=True to override this.\n",
      "INFO:fbprophet:Disabling daily seasonality. Run prophet with daily_seasonality=True to override this.\n",
      "INFO:fbprophet:Disabling weekly seasonality. Run prophet with weekly_seasonality=True to override this.\n",
      "INFO:fbprophet:Disabling daily seasonality. Run prophet with daily_seasonality=True to override this.\n",
      "INFO:fbprophet:Disabling weekly seasonality. Run prophet with weekly_seasonality=True to override this.\n",
      "INFO:fbprophet:Disabling daily seasonality. Run prophet with daily_seasonality=True to override this.\n",
      "INFO:fbprophet:Disabling weekly seasonality. Run prophet with weekly_seasonality=True to override this.\n",
      "INFO:fbprophet:Disabling daily seasonality. Run prophet with daily_seasonality=True to override this.\n",
      "INFO:fbprophet:Disabling weekly seasonality. Run prophet with weekly_seasonality=True to override this.\n",
      "INFO:fbprophet:Disabling daily seasonality. Run prophet with daily_seasonality=True to override this.\n",
      "INFO:fbprophet:Disabling weekly seasonality. Run prophet with weekly_seasonality=True to override this.\n",
      "INFO:fbprophet:Disabling daily seasonality. Run prophet with daily_seasonality=True to override this.\n"
     ]
    },
    {
     "name": "stdout",
     "output_type": "stream",
     "text": [
      "   steps       week  claims  trend.unemploy  trend.filling  trend.job  \\\n",
      "0      1 2015-10-04  227176        1.261611       0.966504   1.072525   \n",
      "1      2 2015-10-11  256522        1.319839       1.042308   1.025381   \n",
      "2      3 2015-10-18  232860        1.261611       1.042308   1.037167   \n",
      "3      4 2015-10-25  245365        1.261611       0.985455   1.025381   \n",
      "4      5 2015-11-01  258440        1.281020       0.966504   1.060739   \n",
      "\n",
      "      prediction  split_key  \n",
      "0  224395.896128          0  \n",
      "1  239577.121819          0  \n",
      "2  256718.823374          0  \n",
      "3  258606.220632          0  \n",
      "4  259758.275500          0  \n"
     ]
    },
    {
     "data": {
      "text/html": [
       "<div>\n",
       "<style scoped>\n",
       "    .dataframe tbody tr th:only-of-type {\n",
       "        vertical-align: middle;\n",
       "    }\n",
       "\n",
       "    .dataframe tbody tr th {\n",
       "        vertical-align: top;\n",
       "    }\n",
       "\n",
       "    .dataframe thead th {\n",
       "        text-align: right;\n",
       "    }\n",
       "</style>\n",
       "<table border=\"1\" class=\"dataframe\">\n",
       "  <thead>\n",
       "    <tr style=\"text-align: right;\">\n",
       "      <th></th>\n",
       "      <th>steps</th>\n",
       "      <th>week</th>\n",
       "      <th>claims</th>\n",
       "      <th>trend.unemploy</th>\n",
       "      <th>trend.filling</th>\n",
       "      <th>trend.job</th>\n",
       "      <th>prediction</th>\n",
       "      <th>split_key</th>\n",
       "    </tr>\n",
       "  </thead>\n",
       "  <tbody>\n",
       "    <tr>\n",
       "      <th>0</th>\n",
       "      <td>1</td>\n",
       "      <td>2015-10-04</td>\n",
       "      <td>227176</td>\n",
       "      <td>1.261611</td>\n",
       "      <td>0.966504</td>\n",
       "      <td>1.072525</td>\n",
       "      <td>224395.896128</td>\n",
       "      <td>0</td>\n",
       "    </tr>\n",
       "    <tr>\n",
       "      <th>1</th>\n",
       "      <td>2</td>\n",
       "      <td>2015-10-11</td>\n",
       "      <td>256522</td>\n",
       "      <td>1.319839</td>\n",
       "      <td>1.042308</td>\n",
       "      <td>1.025381</td>\n",
       "      <td>239577.121819</td>\n",
       "      <td>0</td>\n",
       "    </tr>\n",
       "    <tr>\n",
       "      <th>2</th>\n",
       "      <td>3</td>\n",
       "      <td>2015-10-18</td>\n",
       "      <td>232860</td>\n",
       "      <td>1.261611</td>\n",
       "      <td>1.042308</td>\n",
       "      <td>1.037167</td>\n",
       "      <td>256718.823374</td>\n",
       "      <td>0</td>\n",
       "    </tr>\n",
       "    <tr>\n",
       "      <th>3</th>\n",
       "      <td>4</td>\n",
       "      <td>2015-10-25</td>\n",
       "      <td>245365</td>\n",
       "      <td>1.261611</td>\n",
       "      <td>0.985455</td>\n",
       "      <td>1.025381</td>\n",
       "      <td>258606.220632</td>\n",
       "      <td>0</td>\n",
       "    </tr>\n",
       "    <tr>\n",
       "      <th>4</th>\n",
       "      <td>5</td>\n",
       "      <td>2015-11-01</td>\n",
       "      <td>258440</td>\n",
       "      <td>1.281020</td>\n",
       "      <td>0.966504</td>\n",
       "      <td>1.060739</td>\n",
       "      <td>259758.275500</td>\n",
       "      <td>0</td>\n",
       "    </tr>\n",
       "  </tbody>\n",
       "</table>\n",
       "</div>"
      ],
      "text/plain": [
       "   steps       week  claims  trend.unemploy  trend.filling  trend.job  \\\n",
       "0      1 2015-10-04  227176        1.261611       0.966504   1.072525   \n",
       "1      2 2015-10-11  256522        1.319839       1.042308   1.025381   \n",
       "2      3 2015-10-18  232860        1.261611       1.042308   1.037167   \n",
       "3      4 2015-10-25  245365        1.261611       0.985455   1.025381   \n",
       "4      5 2015-11-01  258440        1.281020       0.966504   1.060739   \n",
       "\n",
       "      prediction  split_key  \n",
       "0  224395.896128          0  \n",
       "1  239577.121819          0  \n",
       "2  256718.823374          0  \n",
       "3  258606.220632          0  \n",
       "4  259758.275500          0  "
      ]
     },
     "execution_count": 14,
     "metadata": {},
     "output_type": "execute_result"
    }
   ],
   "source": [
    "# bt_expand = BacktestEngine(mod, data)\n",
    "bt_prophet = Backtest(\n",
    "    data,\n",
    "    min_train_len=min_train_len,\n",
    "    incremental_len=incremental_len,\n",
    "    forecast_len=forecast_len,\n",
    ")\n",
    "\n",
    "fit_args_prophet = {\n",
    "    'response_col': 'claims',\n",
    "    'date_col': 'week',\n",
    "    'regressor_col': ['trend.unemploy', 'trend.filling', 'trend.job']\n",
    "}\n",
    "\n",
    "bt_prophet.fit_score(\n",
    "    mod,\n",
    "    response_col='claims',\n",
    "    predicted_col='prediction',\n",
    "    fit_callback=fit_callbacks_prophet,\n",
    "    predict_callback=pred_callbacks_prophet,\n",
    "    model_callback=model_callback_prophet,\n",
    "    fit_args=fit_args_prophet\n",
    ")\n",
    "\n",
    "bt_prophet.get_predictions().head()"
   ]
  },
  {
   "cell_type": "code",
   "execution_count": 15,
   "metadata": {
    "ExecuteTime": {
     "end_time": "2020-01-28T01:10:27.516202Z",
     "start_time": "2020-01-28T01:10:27.508853Z"
    }
   },
   "outputs": [
    {
     "data": {
      "text/html": [
       "<div>\n",
       "<style scoped>\n",
       "    .dataframe tbody tr th:only-of-type {\n",
       "        vertical-align: middle;\n",
       "    }\n",
       "\n",
       "    .dataframe tbody tr th {\n",
       "        vertical-align: top;\n",
       "    }\n",
       "\n",
       "    .dataframe thead th {\n",
       "        text-align: right;\n",
       "    }\n",
       "</style>\n",
       "<table border=\"1\" class=\"dataframe\">\n",
       "  <thead>\n",
       "    <tr style=\"text-align: right;\">\n",
       "      <th></th>\n",
       "      <th>wmape</th>\n",
       "      <th>smape</th>\n",
       "    </tr>\n",
       "  </thead>\n",
       "  <tbody>\n",
       "    <tr>\n",
       "      <th>0</th>\n",
       "      <td>0.086301</td>\n",
       "      <td>0.088464</td>\n",
       "    </tr>\n",
       "  </tbody>\n",
       "</table>\n",
       "</div>"
      ],
      "text/plain": [
       "      wmape     smape\n",
       "0  0.086301  0.088464"
      ]
     },
     "execution_count": 15,
     "metadata": {},
     "output_type": "execute_result"
    }
   ],
   "source": [
    "bt_prophet.get_scores()"
   ]
  },
  {
   "cell_type": "markdown",
   "metadata": {},
   "source": [
    "## Backtest Multiple Models\n",
    "\n",
    "`Backtest` has built in functionality to handle backtesting of multiple models. This can be multiple models with varying hyperparamters, or even different models all together, by using callbacks."
   ]
  },
  {
   "cell_type": "code",
   "execution_count": 16,
   "metadata": {
    "ExecuteTime": {
     "end_time": "2020-01-28T01:10:32.639142Z",
     "start_time": "2020-01-28T01:10:32.634901Z"
    }
   },
   "outputs": [],
   "source": [
    "bt = Backtest(\n",
    "    data,\n",
    "    min_train_len=min_train_len,\n",
    "    incremental_len=incremental_len,\n",
    "    forecast_len=forecast_len,\n",
    "    n_splits=2,\n",
    "    scheme='rolling'\n",
    ")"
   ]
  },
  {
   "cell_type": "markdown",
   "metadata": {},
   "source": [
    "Init a few different models, some with and some without callbacks"
   ]
  },
  {
   "cell_type": "code",
   "execution_count": 25,
   "metadata": {
    "ExecuteTime": {
     "end_time": "2020-01-28T01:11:02.004902Z",
     "start_time": "2020-01-28T01:11:02.000357Z"
    }
   },
   "outputs": [],
   "source": [
    "# lgt\n",
    "lgt = LGT(\n",
    "    response_col='claims',\n",
    "    date_col='week',\n",
    "    seasonality=52,\n",
    "    chains=4,\n",
    "    predict_method='map',\n",
    "    seed=2020\n",
    ")\n",
    "\n",
    "# sklearn model rf\n",
    "rf = RandomForestRegressor(n_estimators=50)\n",
    "\n",
    "# prophet\n",
    "prophet = Prophet()"
   ]
  },
  {
   "cell_type": "code",
   "execution_count": 26,
   "metadata": {
    "ExecuteTime": {
     "end_time": "2020-01-28T01:11:02.546653Z",
     "start_time": "2020-01-28T01:11:02.543809Z"
    }
   },
   "outputs": [],
   "source": [
    "# # also, we an use predict callbacks to make the columns\n",
    "# # align across models. This wasn't necessary within only prophet models\n",
    "# # because the columns aligned\n",
    "# def pred_callbacks_prophet(model, test_df, date_col, response_col, regressor_col):\n",
    "#     test_df = test_df.rename(columns={date_col: \"ds\", response_col: \"y\"})\n",
    "    \n",
    "#     predictions = model.predict(test_df)\n",
    "#     predictions.rename(columns={'yhat': 'prediction', 'ds': date_col}, inplace=True)\n",
    "#     predictions=predictions[[date_col, 'prediction']]\n",
    "\n",
    "#     return predictions"
   ]
  },
  {
   "cell_type": "code",
   "execution_count": 27,
   "metadata": {
    "ExecuteTime": {
     "end_time": "2020-01-28T01:11:06.651061Z",
     "start_time": "2020-01-28T01:11:02.952939Z"
    },
    "scrolled": false
   },
   "outputs": [
    {
     "name": "stderr",
     "output_type": "stream",
     "text": [
      "INFO:fbprophet:Disabling weekly seasonality. Run prophet with weekly_seasonality=True to override this.\n",
      "INFO:fbprophet:Disabling daily seasonality. Run prophet with daily_seasonality=True to override this.\n",
      "INFO:fbprophet:Disabling weekly seasonality. Run prophet with weekly_seasonality=True to override this.\n",
      "INFO:fbprophet:Disabling daily seasonality. Run prophet with daily_seasonality=True to override this.\n"
     ]
    },
    {
     "name": "stdout",
     "output_type": "stream",
     "text": [
      "   steps       week  claims  trend.unemploy  trend.filling  trend.job  \\\n",
      "0      1 2017-09-24  212987        1.048107       1.042308   0.990023   \n",
      "1      2 2017-10-01  204180        1.067517       1.023357   0.966451   \n",
      "2      3 2017-10-08  229241        1.086926       1.061259   1.013595   \n",
      "3      4 2017-10-15  205592        1.106335       1.080210   0.966451   \n",
      "4      5 2017-10-22  216004        1.086926       1.080210   0.978237   \n",
      "\n",
      "      prediction  split_key  model_idx model  \n",
      "0  196690.075436          0          0   LGT  \n",
      "1  204113.098488          0          0   LGT  \n",
      "2  239229.872618          0          0   LGT  \n",
      "3  229272.065063          0          0   LGT  \n",
      "4  235457.300684          0          0   LGT  \n"
     ]
    }
   ],
   "source": [
    "# batch fit and score models\n",
    "bt.fit_score_batch(\n",
    "    models=[lgt, rf, prophet],\n",
    "    response_col='claims',\n",
    "    predicted_col='prediction',\n",
    "    fit_callbacks=[None, fit_callback_sklearn, fit_callbacks_prophet],\n",
    "    predict_callbacks=[None, predict_callback_sklearn, pred_callbacks_prophet],\n",
    "    model_callbacks=[None, None, model_callback_prophet],\n",
    "    fit_args=[{}, fit_args_rf, fit_args_prophet]\n",
    ")"
   ]
  },
  {
   "cell_type": "code",
   "execution_count": 28,
   "metadata": {
    "ExecuteTime": {
     "end_time": "2020-01-28T01:11:07.465767Z",
     "start_time": "2020-01-28T01:11:07.452171Z"
    }
   },
   "outputs": [
    {
     "data": {
      "text/html": [
       "<div>\n",
       "<style scoped>\n",
       "    .dataframe tbody tr th:only-of-type {\n",
       "        vertical-align: middle;\n",
       "    }\n",
       "\n",
       "    .dataframe tbody tr th {\n",
       "        vertical-align: top;\n",
       "    }\n",
       "\n",
       "    .dataframe thead th {\n",
       "        text-align: right;\n",
       "    }\n",
       "</style>\n",
       "<table border=\"1\" class=\"dataframe\">\n",
       "  <thead>\n",
       "    <tr style=\"text-align: right;\">\n",
       "      <th></th>\n",
       "      <th>steps</th>\n",
       "      <th>week</th>\n",
       "      <th>claims</th>\n",
       "      <th>trend.unemploy</th>\n",
       "      <th>trend.filling</th>\n",
       "      <th>trend.job</th>\n",
       "      <th>prediction</th>\n",
       "      <th>split_key</th>\n",
       "      <th>model_idx</th>\n",
       "      <th>model</th>\n",
       "    </tr>\n",
       "  </thead>\n",
       "  <tbody>\n",
       "    <tr>\n",
       "      <th>0</th>\n",
       "      <td>1</td>\n",
       "      <td>2017-09-24</td>\n",
       "      <td>212987</td>\n",
       "      <td>1.048107</td>\n",
       "      <td>1.042308</td>\n",
       "      <td>0.990023</td>\n",
       "      <td>196690.075436</td>\n",
       "      <td>0</td>\n",
       "      <td>0</td>\n",
       "      <td>LGT</td>\n",
       "    </tr>\n",
       "    <tr>\n",
       "      <th>1</th>\n",
       "      <td>2</td>\n",
       "      <td>2017-10-01</td>\n",
       "      <td>204180</td>\n",
       "      <td>1.067517</td>\n",
       "      <td>1.023357</td>\n",
       "      <td>0.966451</td>\n",
       "      <td>204113.098488</td>\n",
       "      <td>0</td>\n",
       "      <td>0</td>\n",
       "      <td>LGT</td>\n",
       "    </tr>\n",
       "    <tr>\n",
       "      <th>2</th>\n",
       "      <td>3</td>\n",
       "      <td>2017-10-08</td>\n",
       "      <td>229241</td>\n",
       "      <td>1.086926</td>\n",
       "      <td>1.061259</td>\n",
       "      <td>1.013595</td>\n",
       "      <td>239229.872618</td>\n",
       "      <td>0</td>\n",
       "      <td>0</td>\n",
       "      <td>LGT</td>\n",
       "    </tr>\n",
       "    <tr>\n",
       "      <th>3</th>\n",
       "      <td>4</td>\n",
       "      <td>2017-10-15</td>\n",
       "      <td>205592</td>\n",
       "      <td>1.106335</td>\n",
       "      <td>1.080210</td>\n",
       "      <td>0.966451</td>\n",
       "      <td>229272.065063</td>\n",
       "      <td>0</td>\n",
       "      <td>0</td>\n",
       "      <td>LGT</td>\n",
       "    </tr>\n",
       "    <tr>\n",
       "      <th>4</th>\n",
       "      <td>5</td>\n",
       "      <td>2017-10-22</td>\n",
       "      <td>216004</td>\n",
       "      <td>1.086926</td>\n",
       "      <td>1.080210</td>\n",
       "      <td>0.978237</td>\n",
       "      <td>235457.300684</td>\n",
       "      <td>0</td>\n",
       "      <td>0</td>\n",
       "      <td>LGT</td>\n",
       "    </tr>\n",
       "  </tbody>\n",
       "</table>\n",
       "</div>"
      ],
      "text/plain": [
       "   steps       week  claims  trend.unemploy  trend.filling  trend.job  \\\n",
       "0      1 2017-09-24  212987        1.048107       1.042308   0.990023   \n",
       "1      2 2017-10-01  204180        1.067517       1.023357   0.966451   \n",
       "2      3 2017-10-08  229241        1.086926       1.061259   1.013595   \n",
       "3      4 2017-10-15  205592        1.106335       1.080210   0.966451   \n",
       "4      5 2017-10-22  216004        1.086926       1.080210   0.978237   \n",
       "\n",
       "      prediction  split_key  model_idx model  \n",
       "0  196690.075436          0          0   LGT  \n",
       "1  204113.098488          0          0   LGT  \n",
       "2  239229.872618          0          0   LGT  \n",
       "3  229272.065063          0          0   LGT  \n",
       "4  235457.300684          0          0   LGT  "
      ]
     },
     "execution_count": 28,
     "metadata": {},
     "output_type": "execute_result"
    }
   ],
   "source": [
    "bt.get_predictions().head(5)"
   ]
  },
  {
   "cell_type": "code",
   "execution_count": 29,
   "metadata": {
    "ExecuteTime": {
     "end_time": "2020-01-28T01:11:08.130128Z",
     "start_time": "2020-01-28T01:11:08.119154Z"
    }
   },
   "outputs": [
    {
     "data": {
      "text/html": [
       "<div>\n",
       "<style scoped>\n",
       "    .dataframe tbody tr th:only-of-type {\n",
       "        vertical-align: middle;\n",
       "    }\n",
       "\n",
       "    .dataframe tbody tr th {\n",
       "        vertical-align: top;\n",
       "    }\n",
       "\n",
       "    .dataframe thead th {\n",
       "        text-align: right;\n",
       "    }\n",
       "</style>\n",
       "<table border=\"1\" class=\"dataframe\">\n",
       "  <thead>\n",
       "    <tr style=\"text-align: right;\">\n",
       "      <th></th>\n",
       "      <th>model_idx</th>\n",
       "      <th>model</th>\n",
       "      <th>wmape</th>\n",
       "      <th>smape</th>\n",
       "    </tr>\n",
       "  </thead>\n",
       "  <tbody>\n",
       "    <tr>\n",
       "      <th>0</th>\n",
       "      <td>0</td>\n",
       "      <td>LGT</td>\n",
       "      <td>0.052908</td>\n",
       "      <td>0.050519</td>\n",
       "    </tr>\n",
       "    <tr>\n",
       "      <th>1</th>\n",
       "      <td>1</td>\n",
       "      <td>RandomForestRegressor</td>\n",
       "      <td>0.207852</td>\n",
       "      <td>0.178992</td>\n",
       "    </tr>\n",
       "    <tr>\n",
       "      <th>2</th>\n",
       "      <td>2</td>\n",
       "      <td>Prophet</td>\n",
       "      <td>0.073792</td>\n",
       "      <td>0.071825</td>\n",
       "    </tr>\n",
       "  </tbody>\n",
       "</table>\n",
       "</div>"
      ],
      "text/plain": [
       "   model_idx                  model     wmape     smape\n",
       "0          0                    LGT  0.052908  0.050519\n",
       "1          1  RandomForestRegressor  0.207852  0.178992\n",
       "2          2                Prophet  0.073792  0.071825"
      ]
     },
     "execution_count": 29,
     "metadata": {},
     "output_type": "execute_result"
    }
   ],
   "source": [
    "bt.get_scores()"
   ]
  },
  {
   "cell_type": "markdown",
   "metadata": {},
   "source": [
    "## Appendix"
   ]
  },
  {
   "cell_type": "markdown",
   "metadata": {},
   "source": [
    "### back-testing result analysis\n",
    "\n",
    "Internal method is provided to give a quick analysis of the back-testing runs. It is flexible for uses to define their own metrics and aggregation strategy based on the back-testing run results."
   ]
  },
  {
   "cell_type": "code",
   "execution_count": 30,
   "metadata": {
    "ExecuteTime": {
     "end_time": "2020-01-28T01:11:09.240350Z",
     "start_time": "2020-01-28T01:11:09.227749Z"
    }
   },
   "outputs": [
    {
     "ename": "NameError",
     "evalue": "name 'get_scores' is not defined",
     "output_type": "error",
     "traceback": [
      "\u001b[0;31m---------------------------------------------------------------------------\u001b[0m",
      "\u001b[0;31mNameError\u001b[0m                                 Traceback (most recent call last)",
      "\u001b[0;32m<ipython-input-30-7282002f9f41>\u001b[0m in \u001b[0;36m<module>\u001b[0;34m\u001b[0m\n\u001b[0;32m----> 1\u001b[0;31m \u001b[0mbt_horizon_summary\u001b[0m\u001b[0;34m=\u001b[0m\u001b[0mget_scores\u001b[0m\u001b[0;34m(\u001b[0m\u001b[0mresult\u001b[0m\u001b[0;34m=\u001b[0m\u001b[0mbt_res\u001b[0m\u001b[0;34m,\u001b[0m \u001b[0mby\u001b[0m\u001b[0;34m=\u001b[0m\u001b[0;34m[\u001b[0m\u001b[0;34m'model'\u001b[0m\u001b[0;34m,\u001b[0m\u001b[0;34m'pred_horizon'\u001b[0m\u001b[0;34m]\u001b[0m\u001b[0;34m)\u001b[0m\u001b[0;34m\u001b[0m\u001b[0;34m\u001b[0m\u001b[0m\n\u001b[0m",
      "\u001b[0;31mNameError\u001b[0m: name 'get_scores' is not defined"
     ]
    }
   ],
   "source": [
    "bt_horizon_summary=get_scores(result=bt_res, by=['model','pred_horizon'])"
   ]
  },
  {
   "cell_type": "code",
   "execution_count": 31,
   "metadata": {
    "ExecuteTime": {
     "end_time": "2020-01-28T01:11:09.611915Z",
     "start_time": "2020-01-28T01:11:09.600944Z"
    }
   },
   "outputs": [
    {
     "ename": "NameError",
     "evalue": "name 'bt_horizon_summary' is not defined",
     "output_type": "error",
     "traceback": [
      "\u001b[0;31m---------------------------------------------------------------------------\u001b[0m",
      "\u001b[0;31mNameError\u001b[0m                                 Traceback (most recent call last)",
      "\u001b[0;32m<ipython-input-31-6e4c4eb2f61f>\u001b[0m in \u001b[0;36m<module>\u001b[0;34m\u001b[0m\n\u001b[0;32m----> 1\u001b[0;31m \u001b[0mbt_horizon_summary\u001b[0m\u001b[0;34m[\u001b[0m\u001b[0;34m'smape'\u001b[0m\u001b[0;34m]\u001b[0m\u001b[0;34m.\u001b[0m\u001b[0mhead\u001b[0m\u001b[0;34m(\u001b[0m\u001b[0;36m5\u001b[0m\u001b[0;34m)\u001b[0m\u001b[0;34m\u001b[0m\u001b[0;34m\u001b[0m\u001b[0m\n\u001b[0m",
      "\u001b[0;31mNameError\u001b[0m: name 'bt_horizon_summary' is not defined"
     ]
    }
   ],
   "source": [
    "bt_horizon_summary['smape'].head(5)"
   ]
  },
  {
   "cell_type": "markdown",
   "metadata": {
    "ExecuteTime": {
     "end_time": "2020-01-16T02:52:21.172303Z",
     "start_time": "2020-01-16T02:52:21.169629Z"
    }
   },
   "source": [
    "### plotting"
   ]
  },
  {
   "cell_type": "code",
   "execution_count": 43,
   "metadata": {
    "ExecuteTime": {
     "end_time": "2020-01-19T03:02:00.730036Z",
     "start_time": "2020-01-19T03:02:00.376634Z"
    }
   },
   "outputs": [
    {
     "data": {
      "text/plain": [
       "<matplotlib.axes._subplots.AxesSubplot at 0x13584f208>"
      ]
     },
     "execution_count": 43,
     "metadata": {},
     "output_type": "execute_result"
    },
    {
     "data": {
      "image/png": "[encoded data removed]",
      "text/plain": [
       "<Figure size 720x432 with 1 Axes>"
      ]
     },
     "metadata": {
      "needs_background": "light"
     },
     "output_type": "display_data"
    }
   ],
   "source": [
    "bt_horizon_summary['smape'].pivot(index='pred_horizon', columns='model', values='smape').\\\n",
    "plot(figsize=(10,6), title='Forecasting error over horizon')"
   ]
  },
  {
   "cell_type": "code",
   "execution_count": null,
   "metadata": {},
   "outputs": [],
   "source": []
  }
 ],
 "metadata": {
  "kernelspec": {
   "display_name": "Python 3",
   "language": "python",
   "name": "python3"
  },
  "language_info": {
   "codemirror_mode": {
    "name": "ipython",
    "version": 3
   },
   "file_extension": ".py",
   "mimetype": "text/x-python",
   "name": "python",
   "nbconvert_exporter": "python",
   "pygments_lexer": "ipython3",
   "version": "3.7.3"
  },
  "toc": {
   "base_numbering": 1,
   "nav_menu": {},
   "number_sections": true,
   "sideBar": true,
   "skip_h1_title": false,
   "title_cell": "Table of Contents",
   "title_sidebar": "Contents",
   "toc_cell": false,
   "toc_position": {
    "height": "calc(100% - 180px)",
    "left": "10px",
    "top": "150px",
    "width": "306.391px"
   },
   "toc_section_display": true,
   "toc_window_display": true
  }
 },
 "nbformat": 4,
 "nbformat_minor": 2
}
