{
 "cells": [
  {
   "cell_type": "markdown",
   "metadata": {},
   "source": [
    "**BacktestEngine notebook**\n",
    "\n",
    "The purpose of this notebook is to illustrate how to use the `BacktestEngine` class to do the back-testing. To have the greatest flexibility, this engine is designed to work for any model objects which have a `fit` method and a `predict` method, by writing some call back functions. The default settings work for **Orbit** model object automatically. Currently, there are two schemes supported for the back-testing engine: expanding window and rolling window.\n",
    "\n",
    "* expanding window: for each back-testing model training, the train start date is fixed, while the train end date is extended forward.\n",
    "* rolling window: for each back-testing model training, the training window length is fixed but the window is moving forward."
   ]
  },
  {
   "cell_type": "code",
   "execution_count": 29,
   "metadata": {
    "ExecuteTime": {
     "end_time": "2020-01-14T05:01:48.908367Z",
     "start_time": "2020-01-14T05:01:48.890877Z"
    }
   },
   "outputs": [],
   "source": [
    "import pandas as pd\n",
    "import numpy as np\n",
    "\n",
    "import matplotlib.pyplot as plt\n",
    "import seaborn as sns\n",
    "\n",
    "%matplotlib inline\n",
    "plt.style.use('ggplot')\n",
    "\n",
    "import sys\n",
    "sys.path.append(\"../../uTS\")\n",
    "from orbit.lgt import LGT\n",
    "from orbit.dlt import DLT\n",
    "from orbit.backtest import BacktestEngine\n",
    "from orbit.utils.metrics import mape, smape, wmape\n",
    "from orbit.backtest import run_group_backtest"
   ]
  },
  {
   "cell_type": "markdown",
   "metadata": {},
   "source": [
    "## Load data"
   ]
  },
  {
   "cell_type": "code",
   "execution_count": 4,
   "metadata": {
    "ExecuteTime": {
     "end_time": "2020-01-14T04:45:08.242992Z",
     "start_time": "2020-01-14T04:45:08.196898Z"
    }
   },
   "outputs": [
    {
     "name": "stdout",
     "output_type": "stream",
     "text": [
      "(443, 5)\n"
     ]
    },
    {
     "data": {
      "text/html": [
       "<div>\n",
       "<style scoped>\n",
       "    .dataframe tbody tr th:only-of-type {\n",
       "        vertical-align: middle;\n",
       "    }\n",
       "\n",
       "    .dataframe tbody tr th {\n",
       "        vertical-align: top;\n",
       "    }\n",
       "\n",
       "    .dataframe thead th {\n",
       "        text-align: right;\n",
       "    }\n",
       "</style>\n",
       "<table border=\"1\" class=\"dataframe\">\n",
       "  <thead>\n",
       "    <tr style=\"text-align: right;\">\n",
       "      <th></th>\n",
       "      <th>week</th>\n",
       "      <th>claims</th>\n",
       "      <th>trend.unemploy</th>\n",
       "      <th>trend.filling</th>\n",
       "      <th>trend.job</th>\n",
       "    </tr>\n",
       "  </thead>\n",
       "  <tbody>\n",
       "    <tr>\n",
       "      <th>0</th>\n",
       "      <td>2010-01-03</td>\n",
       "      <td>13.386595</td>\n",
       "      <td>0.168876</td>\n",
       "      <td>-0.328309</td>\n",
       "      <td>0.113033</td>\n",
       "    </tr>\n",
       "    <tr>\n",
       "      <th>1</th>\n",
       "      <td>2010-01-10</td>\n",
       "      <td>13.624218</td>\n",
       "      <td>0.168876</td>\n",
       "      <td>-0.204695</td>\n",
       "      <td>0.164326</td>\n",
       "    </tr>\n",
       "    <tr>\n",
       "      <th>2</th>\n",
       "      <td>2010-01-17</td>\n",
       "      <td>13.398741</td>\n",
       "      <td>0.185136</td>\n",
       "      <td>-0.302334</td>\n",
       "      <td>0.113033</td>\n",
       "    </tr>\n",
       "    <tr>\n",
       "      <th>3</th>\n",
       "      <td>2010-01-24</td>\n",
       "      <td>13.137549</td>\n",
       "      <td>0.152346</td>\n",
       "      <td>-0.204695</td>\n",
       "      <td>0.102451</td>\n",
       "    </tr>\n",
       "    <tr>\n",
       "      <th>4</th>\n",
       "      <td>2010-01-31</td>\n",
       "      <td>13.196760</td>\n",
       "      <td>0.083354</td>\n",
       "      <td>-0.252323</td>\n",
       "      <td>0.070016</td>\n",
       "    </tr>\n",
       "  </tbody>\n",
       "</table>\n",
       "</div>"
      ],
      "text/plain": [
       "        week     claims  trend.unemploy  trend.filling  trend.job\n",
       "0 2010-01-03  13.386595        0.168876      -0.328309   0.113033\n",
       "1 2010-01-10  13.624218        0.168876      -0.204695   0.164326\n",
       "2 2010-01-17  13.398741        0.185136      -0.302334   0.113033\n",
       "3 2010-01-24  13.137549        0.152346      -0.204695   0.102451\n",
       "4 2010-01-31  13.196760        0.083354      -0.252323   0.070016"
      ]
     },
     "execution_count": 4,
     "metadata": {},
     "output_type": "execute_result"
    }
   ],
   "source": [
    "data_path = \"../examples/data/iclaims.example.csv\"\n",
    "raw_data = pd.read_csv(data_path, parse_dates=['week'])\n",
    "\n",
    "## log transformation\n",
    "data = raw_data.copy()\n",
    "data[['claims', 'trend.unemploy', 'trend.filling', 'trend.job']] = \\\n",
    "    data[['claims', 'trend.unemploy', 'trend.filling', 'trend.job']].apply(np.log, axis=1)\n",
    "\n",
    "print(data.shape)\n",
    "data.head(5)"
   ]
  },
  {
   "cell_type": "markdown",
   "metadata": {},
   "source": [
    "## Orbit model object"
   ]
  },
  {
   "cell_type": "markdown",
   "metadata": {},
   "source": [
    "###  expanding window"
   ]
  },
  {
   "cell_type": "code",
   "execution_count": 5,
   "metadata": {
    "ExecuteTime": {
     "end_time": "2020-01-14T04:45:12.529399Z",
     "start_time": "2020-01-14T04:45:12.524413Z"
    }
   },
   "outputs": [],
   "source": [
    "date_col = 'week'\n",
    "response_col = 'claims'\n",
    "regressor_col = ['trend.unemploy', 'trend.filling', 'trend.job']\n",
    "\n",
    "min_train_len = 300\n",
    "forecast_len = 20\n",
    "incremental_len = 20\n",
    "\n",
    "mod = LGT(date_col = date_col,\n",
    "    response_col = response_col,\n",
    "    regressor_col = regressor_col,\n",
    "    seasonality = 52,\n",
    "    seed = 8888,\n",
    "    predict_method = 'map'\n",
    ")"
   ]
  },
  {
   "cell_type": "markdown",
   "metadata": {},
   "source": [
    "#### initialization and create meta data"
   ]
  },
  {
   "cell_type": "code",
   "execution_count": 6,
   "metadata": {
    "ExecuteTime": {
     "end_time": "2020-01-14T04:45:12.951041Z",
     "start_time": "2020-01-14T04:45:12.947141Z"
    }
   },
   "outputs": [],
   "source": [
    "bt_expand = BacktestEngine(mod, data)"
   ]
  },
  {
   "cell_type": "code",
   "execution_count": 7,
   "metadata": {
    "ExecuteTime": {
     "end_time": "2020-01-14T04:45:13.160840Z",
     "start_time": "2020-01-14T04:45:13.140445Z"
    }
   },
   "outputs": [],
   "source": [
    "bt_expand.create_meta(min_train_len, incremental_len, forecast_len, \n",
    "                           start_date=None, end_date=None, keep_cols=None,\n",
    "                           scheme='expanding')"
   ]
  },
  {
   "cell_type": "code",
   "execution_count": 8,
   "metadata": {
    "ExecuteTime": {
     "end_time": "2020-01-14T04:45:13.332698Z",
     "start_time": "2020-01-14T04:45:13.319711Z"
    }
   },
   "outputs": [
    {
     "data": {
      "text/plain": [
       "{0: {'model': <orbit.lgt.LGT at 0x118e69470>,\n",
       "  'train_start_date': Timestamp('2010-01-03 00:00:00'),\n",
       "  'train_end_date': Timestamp('2015-09-27 00:00:00'),\n",
       "  'train_idx': range(0, 300),\n",
       "  'test_idx': range(300, 320),\n",
       "  'forecast_dates': 300   2015-10-04\n",
       "  301   2015-10-11\n",
       "  302   2015-10-18\n",
       "  303   2015-10-25\n",
       "  304   2015-11-01\n",
       "  305   2015-11-08\n",
       "  306   2015-11-15\n",
       "  307   2015-11-22\n",
       "  308   2015-11-29\n",
       "  309   2015-12-06\n",
       "  310   2015-12-13\n",
       "  311   2015-12-20\n",
       "  312   2015-12-27\n",
       "  313   2016-01-03\n",
       "  314   2016-01-10\n",
       "  315   2016-01-17\n",
       "  316   2016-01-24\n",
       "  317   2016-01-31\n",
       "  318   2016-02-07\n",
       "  319   2016-02-14\n",
       "  Name: week, dtype: datetime64[ns]},\n",
       " 1: {'model': <orbit.lgt.LGT at 0x10a20a940>,\n",
       "  'train_start_date': Timestamp('2010-01-03 00:00:00'),\n",
       "  'train_end_date': Timestamp('2016-02-14 00:00:00'),\n",
       "  'train_idx': range(0, 320),\n",
       "  'test_idx': range(320, 340),\n",
       "  'forecast_dates': 320   2016-02-21\n",
       "  321   2016-02-28\n",
       "  322   2016-03-06\n",
       "  323   2016-03-13\n",
       "  324   2016-03-20\n",
       "  325   2016-03-27\n",
       "  326   2016-04-03\n",
       "  327   2016-04-10\n",
       "  328   2016-04-17\n",
       "  329   2016-04-24\n",
       "  330   2016-05-01\n",
       "  331   2016-05-08\n",
       "  332   2016-05-15\n",
       "  333   2016-05-22\n",
       "  334   2016-05-29\n",
       "  335   2016-06-05\n",
       "  336   2016-06-12\n",
       "  337   2016-06-19\n",
       "  338   2016-06-26\n",
       "  339   2016-07-03\n",
       "  Name: week, dtype: datetime64[ns]},\n",
       " 2: {'model': <orbit.lgt.LGT at 0x118e5d080>,\n",
       "  'train_start_date': Timestamp('2010-01-03 00:00:00'),\n",
       "  'train_end_date': Timestamp('2016-07-03 00:00:00'),\n",
       "  'train_idx': range(0, 340),\n",
       "  'test_idx': range(340, 360),\n",
       "  'forecast_dates': 340   2016-07-10\n",
       "  341   2016-07-17\n",
       "  342   2016-07-24\n",
       "  343   2016-07-31\n",
       "  344   2016-08-07\n",
       "  345   2016-08-14\n",
       "  346   2016-08-21\n",
       "  347   2016-08-28\n",
       "  348   2016-09-04\n",
       "  349   2016-09-11\n",
       "  350   2016-09-18\n",
       "  351   2016-09-25\n",
       "  352   2016-10-02\n",
       "  353   2016-10-09\n",
       "  354   2016-10-16\n",
       "  355   2016-10-23\n",
       "  356   2016-10-30\n",
       "  357   2016-11-06\n",
       "  358   2016-11-13\n",
       "  359   2016-11-20\n",
       "  Name: week, dtype: datetime64[ns]},\n",
       " 3: {'model': <orbit.lgt.LGT at 0x127308a20>,\n",
       "  'train_start_date': Timestamp('2010-01-03 00:00:00'),\n",
       "  'train_end_date': Timestamp('2016-11-20 00:00:00'),\n",
       "  'train_idx': range(0, 360),\n",
       "  'test_idx': range(360, 380),\n",
       "  'forecast_dates': 360   2016-11-27\n",
       "  361   2016-12-04\n",
       "  362   2016-12-11\n",
       "  363   2016-12-18\n",
       "  364   2016-12-25\n",
       "  365   2017-01-01\n",
       "  366   2017-01-08\n",
       "  367   2017-01-15\n",
       "  368   2017-01-22\n",
       "  369   2017-01-29\n",
       "  370   2017-02-05\n",
       "  371   2017-02-12\n",
       "  372   2017-02-19\n",
       "  373   2017-02-26\n",
       "  374   2017-03-05\n",
       "  375   2017-03-12\n",
       "  376   2017-03-19\n",
       "  377   2017-03-26\n",
       "  378   2017-04-02\n",
       "  379   2017-04-09\n",
       "  Name: week, dtype: datetime64[ns]},\n",
       " 4: {'model': <orbit.lgt.LGT at 0x127308ba8>,\n",
       "  'train_start_date': Timestamp('2010-01-03 00:00:00'),\n",
       "  'train_end_date': Timestamp('2017-04-09 00:00:00'),\n",
       "  'train_idx': range(0, 380),\n",
       "  'test_idx': range(380, 400),\n",
       "  'forecast_dates': 380   2017-04-16\n",
       "  381   2017-04-23\n",
       "  382   2017-04-30\n",
       "  383   2017-05-07\n",
       "  384   2017-05-14\n",
       "  385   2017-05-21\n",
       "  386   2017-05-28\n",
       "  387   2017-06-04\n",
       "  388   2017-06-11\n",
       "  389   2017-06-18\n",
       "  390   2017-06-25\n",
       "  391   2017-07-02\n",
       "  392   2017-07-09\n",
       "  393   2017-07-16\n",
       "  394   2017-07-23\n",
       "  395   2017-07-30\n",
       "  396   2017-08-06\n",
       "  397   2017-08-13\n",
       "  398   2017-08-20\n",
       "  399   2017-08-27\n",
       "  Name: week, dtype: datetime64[ns]},\n",
       " 5: {'model': <orbit.lgt.LGT at 0x127443e10>,\n",
       "  'train_start_date': Timestamp('2010-01-03 00:00:00'),\n",
       "  'train_end_date': Timestamp('2017-08-27 00:00:00'),\n",
       "  'train_idx': range(0, 400),\n",
       "  'test_idx': range(400, 420),\n",
       "  'forecast_dates': 400   2017-09-03\n",
       "  401   2017-09-10\n",
       "  402   2017-09-17\n",
       "  403   2017-09-24\n",
       "  404   2017-10-01\n",
       "  405   2017-10-08\n",
       "  406   2017-10-15\n",
       "  407   2017-10-22\n",
       "  408   2017-10-29\n",
       "  409   2017-11-05\n",
       "  410   2017-11-12\n",
       "  411   2017-11-19\n",
       "  412   2017-11-26\n",
       "  413   2017-12-03\n",
       "  414   2017-12-10\n",
       "  415   2017-12-17\n",
       "  416   2017-12-24\n",
       "  417   2017-12-31\n",
       "  418   2018-01-07\n",
       "  419   2018-01-14\n",
       "  Name: week, dtype: datetime64[ns]},\n",
       " 6: {'model': <orbit.lgt.LGT at 0x127458dd8>,\n",
       "  'train_start_date': Timestamp('2010-01-03 00:00:00'),\n",
       "  'train_end_date': Timestamp('2018-01-14 00:00:00'),\n",
       "  'train_idx': range(0, 420),\n",
       "  'test_idx': range(420, 440),\n",
       "  'forecast_dates': 420   2018-01-21\n",
       "  421   2018-01-28\n",
       "  422   2018-02-04\n",
       "  423   2018-02-11\n",
       "  424   2018-02-18\n",
       "  425   2018-02-25\n",
       "  426   2018-03-04\n",
       "  427   2018-03-11\n",
       "  428   2018-03-18\n",
       "  429   2018-03-25\n",
       "  430   2018-04-01\n",
       "  431   2018-04-08\n",
       "  432   2018-04-15\n",
       "  433   2018-04-22\n",
       "  434   2018-04-29\n",
       "  435   2018-05-06\n",
       "  436   2018-05-13\n",
       "  437   2018-05-20\n",
       "  438   2018-05-27\n",
       "  439   2018-06-03\n",
       "  Name: week, dtype: datetime64[ns]}}"
      ]
     },
     "execution_count": 8,
     "metadata": {},
     "output_type": "execute_result"
    }
   ],
   "source": [
    "bt_expand.bt_meta"
   ]
  },
  {
   "cell_type": "markdown",
   "metadata": {},
   "source": [
    "#### run back-testing"
   ]
  },
  {
   "cell_type": "code",
   "execution_count": 9,
   "metadata": {
    "ExecuteTime": {
     "end_time": "2020-01-14T04:45:15.551097Z",
     "start_time": "2020-01-14T04:45:14.095707Z"
    }
   },
   "outputs": [
    {
     "name": "stderr",
     "output_type": "stream",
     "text": [
      "\r",
      "  0%|          | 0/7 [00:00<?, ?it/s]"
     ]
    },
    {
     "name": "stdout",
     "output_type": "stream",
     "text": [
      "run expanding window back-testing:\n",
      "training and forcasting for horizon 10/04/2015 -- 02/14/2016\n"
     ]
    },
    {
     "name": "stderr",
     "output_type": "stream",
     "text": [
      " 29%|██▊       | 2/7 [00:00<00:01,  4.70it/s]"
     ]
    },
    {
     "name": "stdout",
     "output_type": "stream",
     "text": [
      "training and forcasting for horizon 02/21/2016 -- 07/03/2016\n",
      "training and forcasting for horizon 07/10/2016 -- 11/20/2016\n"
     ]
    },
    {
     "name": "stderr",
     "output_type": "stream",
     "text": [
      " 57%|█████▋    | 4/7 [00:00<00:00,  5.17it/s]"
     ]
    },
    {
     "name": "stdout",
     "output_type": "stream",
     "text": [
      "training and forcasting for horizon 11/27/2016 -- 04/09/2017\n",
      "training and forcasting for horizon 04/16/2017 -- 08/27/2017\n"
     ]
    },
    {
     "name": "stderr",
     "output_type": "stream",
     "text": [
      "\r",
      " 71%|███████▏  | 5/7 [00:00<00:00,  4.94it/s]"
     ]
    },
    {
     "name": "stdout",
     "output_type": "stream",
     "text": [
      "training and forcasting for horizon 09/03/2017 -- 01/14/2018\n"
     ]
    },
    {
     "name": "stderr",
     "output_type": "stream",
     "text": [
      "\r",
      " 86%|████████▌ | 6/7 [00:01<00:00,  4.89it/s]"
     ]
    },
    {
     "name": "stdout",
     "output_type": "stream",
     "text": [
      "training and forcasting for horizon 01/21/2018 -- 06/03/2018\n"
     ]
    },
    {
     "name": "stderr",
     "output_type": "stream",
     "text": [
      "100%|██████████| 7/7 [00:01<00:00,  4.87it/s]\n"
     ]
    }
   ],
   "source": [
    "bt_expand.run(verbose=True, save_results=False, pred_col='prediction')"
   ]
  },
  {
   "cell_type": "code",
   "execution_count": 10,
   "metadata": {
    "ExecuteTime": {
     "end_time": "2020-01-14T04:45:15.574212Z",
     "start_time": "2020-01-14T04:45:15.552524Z"
    }
   },
   "outputs": [
    {
     "data": {
      "text/html": [
       "<div>\n",
       "<style scoped>\n",
       "    .dataframe tbody tr th:only-of-type {\n",
       "        vertical-align: middle;\n",
       "    }\n",
       "\n",
       "    .dataframe tbody tr th {\n",
       "        vertical-align: top;\n",
       "    }\n",
       "\n",
       "    .dataframe thead th {\n",
       "        text-align: right;\n",
       "    }\n",
       "</style>\n",
       "<table border=\"1\" class=\"dataframe\">\n",
       "  <thead>\n",
       "    <tr style=\"text-align: right;\">\n",
       "      <th></th>\n",
       "      <th>train_start_date</th>\n",
       "      <th>train_end_date</th>\n",
       "      <th>forecast_dates</th>\n",
       "      <th>actual</th>\n",
       "      <th>pred</th>\n",
       "      <th>pred_horizon</th>\n",
       "    </tr>\n",
       "  </thead>\n",
       "  <tbody>\n",
       "    <tr>\n",
       "      <th>0</th>\n",
       "      <td>2010-01-03</td>\n",
       "      <td>2015-09-27</td>\n",
       "      <td>2015-10-04</td>\n",
       "      <td>12.333480</td>\n",
       "      <td>12.416718</td>\n",
       "      <td>1</td>\n",
       "    </tr>\n",
       "    <tr>\n",
       "      <th>1</th>\n",
       "      <td>2010-01-03</td>\n",
       "      <td>2015-09-27</td>\n",
       "      <td>2015-10-11</td>\n",
       "      <td>12.454970</td>\n",
       "      <td>12.489585</td>\n",
       "      <td>2</td>\n",
       "    </tr>\n",
       "    <tr>\n",
       "      <th>2</th>\n",
       "      <td>2010-01-03</td>\n",
       "      <td>2015-09-27</td>\n",
       "      <td>2015-10-18</td>\n",
       "      <td>12.358193</td>\n",
       "      <td>12.414058</td>\n",
       "      <td>3</td>\n",
       "    </tr>\n",
       "    <tr>\n",
       "      <th>3</th>\n",
       "      <td>2010-01-03</td>\n",
       "      <td>2015-09-27</td>\n",
       "      <td>2015-10-25</td>\n",
       "      <td>12.410502</td>\n",
       "      <td>12.457153</td>\n",
       "      <td>4</td>\n",
       "    </tr>\n",
       "    <tr>\n",
       "      <th>4</th>\n",
       "      <td>2010-01-03</td>\n",
       "      <td>2015-09-27</td>\n",
       "      <td>2015-11-01</td>\n",
       "      <td>12.462419</td>\n",
       "      <td>12.455492</td>\n",
       "      <td>5</td>\n",
       "    </tr>\n",
       "  </tbody>\n",
       "</table>\n",
       "</div>"
      ],
      "text/plain": [
       "  train_start_date train_end_date forecast_dates     actual       pred pred_horizon\n",
       "0       2010-01-03     2015-09-27     2015-10-04  12.333480  12.416718            1\n",
       "1       2010-01-03     2015-09-27     2015-10-11  12.454970  12.489585            2\n",
       "2       2010-01-03     2015-09-27     2015-10-18  12.358193  12.414058            3\n",
       "3       2010-01-03     2015-09-27     2015-10-25  12.410502  12.457153            4\n",
       "4       2010-01-03     2015-09-27     2015-11-01  12.462419  12.455492            5"
      ]
     },
     "execution_count": 10,
     "metadata": {},
     "output_type": "execute_result"
    }
   ],
   "source": [
    "bt_expand.bt_res.head()"
   ]
  },
  {
   "cell_type": "markdown",
   "metadata": {},
   "source": [
    "#### back-testing result analysis\n",
    "\n",
    "Internal method is provided to give a quick analysis of the back-testing runs. It is flexible for uses to define their own metrics and aggregation strategy based on the back-testing run results."
   ]
  },
  {
   "cell_type": "code",
   "execution_count": 11,
   "metadata": {
    "ExecuteTime": {
     "end_time": "2020-01-14T04:45:15.626340Z",
     "start_time": "2020-01-14T04:45:15.576762Z"
    }
   },
   "outputs": [
    {
     "ename": "NameError",
     "evalue": "name 'wmape' is not defined",
     "output_type": "error",
     "traceback": [
      "\u001b[0;31m---------------------------------------------------------------------------\u001b[0m",
      "\u001b[0;31mNameError\u001b[0m                                 Traceback (most recent call last)",
      "\u001b[0;32m~/work/venv/env3_uTS/lib/python3.6/site-packages/pandas/core/groupby/groupby.py\u001b[0m in \u001b[0;36mapply\u001b[0;34m(self, func, *args, **kwargs)\u001b[0m\n\u001b[1;32m    917\u001b[0m             \u001b[0;32mtry\u001b[0m\u001b[0;34m:\u001b[0m\u001b[0;34m\u001b[0m\u001b[0;34m\u001b[0m\u001b[0m\n\u001b[0;32m--> 918\u001b[0;31m                 \u001b[0mresult\u001b[0m \u001b[0;34m=\u001b[0m \u001b[0mself\u001b[0m\u001b[0;34m.\u001b[0m\u001b[0m_python_apply_general\u001b[0m\u001b[0;34m(\u001b[0m\u001b[0mf\u001b[0m\u001b[0;34m)\u001b[0m\u001b[0;34m\u001b[0m\u001b[0;34m\u001b[0m\u001b[0m\n\u001b[0m\u001b[1;32m    919\u001b[0m             \u001b[0;32mexcept\u001b[0m \u001b[0mException\u001b[0m\u001b[0;34m:\u001b[0m\u001b[0;34m\u001b[0m\u001b[0;34m\u001b[0m\u001b[0m\n",
      "\u001b[0;32m~/work/venv/env3_uTS/lib/python3.6/site-packages/pandas/core/groupby/groupby.py\u001b[0m in \u001b[0;36m_python_apply_general\u001b[0;34m(self, f)\u001b[0m\n\u001b[1;32m    935\u001b[0m         keys, values, mutated = self.grouper.apply(f, self._selected_obj,\n\u001b[0;32m--> 936\u001b[0;31m                                                    self.axis)\n\u001b[0m\u001b[1;32m    937\u001b[0m \u001b[0;34m\u001b[0m\u001b[0m\n",
      "\u001b[0;32m~/work/venv/env3_uTS/lib/python3.6/site-packages/pandas/core/groupby/groupby.py\u001b[0m in \u001b[0;36mapply\u001b[0;34m(self, f, data, axis)\u001b[0m\n\u001b[1;32m   2272\u001b[0m             \u001b[0mgroup_axes\u001b[0m \u001b[0;34m=\u001b[0m \u001b[0m_get_axes\u001b[0m\u001b[0;34m(\u001b[0m\u001b[0mgroup\u001b[0m\u001b[0;34m)\u001b[0m\u001b[0;34m\u001b[0m\u001b[0;34m\u001b[0m\u001b[0m\n\u001b[0;32m-> 2273\u001b[0;31m             \u001b[0mres\u001b[0m \u001b[0;34m=\u001b[0m \u001b[0mf\u001b[0m\u001b[0;34m(\u001b[0m\u001b[0mgroup\u001b[0m\u001b[0;34m)\u001b[0m\u001b[0;34m\u001b[0m\u001b[0;34m\u001b[0m\u001b[0m\n\u001b[0m\u001b[1;32m   2274\u001b[0m             \u001b[0;32mif\u001b[0m \u001b[0;32mnot\u001b[0m \u001b[0m_is_indexed_like\u001b[0m\u001b[0;34m(\u001b[0m\u001b[0mres\u001b[0m\u001b[0;34m,\u001b[0m \u001b[0mgroup_axes\u001b[0m\u001b[0;34m)\u001b[0m\u001b[0;34m:\u001b[0m\u001b[0;34m\u001b[0m\u001b[0;34m\u001b[0m\u001b[0m\n",
      "\u001b[0;32m~/work/venv/env3_uTS/lib/python3.6/site-packages/orbit/backtest.py\u001b[0m in \u001b[0;36m<lambda>\u001b[0;34m(x)\u001b[0m\n\u001b[1;32m    225\u001b[0m         metric_per_btmod = self.bt_res.groupby(BacktestFitColumnNames.TRAIN_END_DATE.value).apply(\n\u001b[0;32m--> 226\u001b[0;31m             lambda x: eval(metrics)(x[BacktestFitColumnNames.ACTUAL.value],\n\u001b[0m\u001b[1;32m    227\u001b[0m                                     \u001b[0mx\u001b[0m\u001b[0;34m[\u001b[0m\u001b[0mBacktestFitColumnNames\u001b[0m\u001b[0;34m.\u001b[0m\u001b[0mPRED\u001b[0m\u001b[0;34m.\u001b[0m\u001b[0mvalue\u001b[0m\u001b[0;34m]\u001b[0m\u001b[0;34m,\u001b[0m\u001b[0;34m\u001b[0m\u001b[0;34m\u001b[0m\u001b[0m\n",
      "\u001b[0;32m~/work/venv/env3_uTS/lib/python3.6/site-packages/orbit/backtest.py\u001b[0m in \u001b[0;36m<module>\u001b[0;34m\u001b[0m\n",
      "\u001b[0;31mNameError\u001b[0m: name 'wmape' is not defined",
      "\nDuring handling of the above exception, another exception occurred:\n",
      "\u001b[0;31mNameError\u001b[0m                                 Traceback (most recent call last)",
      "\u001b[0;32m<ipython-input-11-2337874a3b92>\u001b[0m in \u001b[0;36m<module>\u001b[0;34m\u001b[0m\n\u001b[0;32m----> 1\u001b[0;31m \u001b[0mbt_expand\u001b[0m\u001b[0;34m.\u001b[0m\u001b[0manalyze\u001b[0m\u001b[0;34m(\u001b[0m\u001b[0mmetrics\u001b[0m\u001b[0;34m=\u001b[0m\u001b[0;34m'wmape'\u001b[0m\u001b[0;34m,\u001b[0m \u001b[0mtransform\u001b[0m\u001b[0;34m=\u001b[0m\u001b[0mnp\u001b[0m\u001b[0;34m.\u001b[0m\u001b[0mexp\u001b[0m\u001b[0;34m)\u001b[0m\u001b[0;34m\u001b[0m\u001b[0;34m\u001b[0m\u001b[0m\n\u001b[0m\u001b[1;32m      2\u001b[0m \u001b[0mbt_expand\u001b[0m\u001b[0;34m.\u001b[0m\u001b[0manalyze_res\u001b[0m\u001b[0;34m\u001b[0m\u001b[0;34m\u001b[0m\u001b[0m\n",
      "\u001b[0;32m~/work/venv/env3_uTS/lib/python3.6/site-packages/orbit/backtest.py\u001b[0m in \u001b[0;36manalyze\u001b[0;34m(self, metrics, transform)\u001b[0m\n\u001b[1;32m    224\u001b[0m             \u001b[0;32mraise\u001b[0m \u001b[0mBacktestException\u001b[0m\u001b[0;34m(\u001b[0m\u001b[0;34m\"run .run() before analyzing...\"\u001b[0m\u001b[0;34m)\u001b[0m\u001b[0;34m\u001b[0m\u001b[0;34m\u001b[0m\u001b[0m\n\u001b[1;32m    225\u001b[0m         metric_per_btmod = self.bt_res.groupby(BacktestFitColumnNames.TRAIN_END_DATE.value).apply(\n\u001b[0;32m--> 226\u001b[0;31m             lambda x: eval(metrics)(x[BacktestFitColumnNames.ACTUAL.value],\n\u001b[0m\u001b[1;32m    227\u001b[0m                                     \u001b[0mx\u001b[0m\u001b[0;34m[\u001b[0m\u001b[0mBacktestFitColumnNames\u001b[0m\u001b[0;34m.\u001b[0m\u001b[0mPRED\u001b[0m\u001b[0;34m.\u001b[0m\u001b[0mvalue\u001b[0m\u001b[0;34m]\u001b[0m\u001b[0;34m,\u001b[0m\u001b[0;34m\u001b[0m\u001b[0;34m\u001b[0m\u001b[0m\n\u001b[1;32m    228\u001b[0m                                     transform=transform))\n",
      "\u001b[0;32m~/work/venv/env3_uTS/lib/python3.6/site-packages/pandas/core/groupby/groupby.py\u001b[0m in \u001b[0;36mapply\u001b[0;34m(self, func, *args, **kwargs)\u001b[0m\n\u001b[1;32m    928\u001b[0m \u001b[0;34m\u001b[0m\u001b[0m\n\u001b[1;32m    929\u001b[0m                 \u001b[0;32mwith\u001b[0m \u001b[0m_group_selection_context\u001b[0m\u001b[0;34m(\u001b[0m\u001b[0mself\u001b[0m\u001b[0;34m)\u001b[0m\u001b[0;34m:\u001b[0m\u001b[0;34m\u001b[0m\u001b[0;34m\u001b[0m\u001b[0m\n\u001b[0;32m--> 930\u001b[0;31m                     \u001b[0;32mreturn\u001b[0m \u001b[0mself\u001b[0m\u001b[0;34m.\u001b[0m\u001b[0m_python_apply_general\u001b[0m\u001b[0;34m(\u001b[0m\u001b[0mf\u001b[0m\u001b[0;34m)\u001b[0m\u001b[0;34m\u001b[0m\u001b[0;34m\u001b[0m\u001b[0m\n\u001b[0m\u001b[1;32m    931\u001b[0m \u001b[0;34m\u001b[0m\u001b[0m\n\u001b[1;32m    932\u001b[0m         \u001b[0;32mreturn\u001b[0m \u001b[0mresult\u001b[0m\u001b[0;34m\u001b[0m\u001b[0;34m\u001b[0m\u001b[0m\n",
      "\u001b[0;32m~/work/venv/env3_uTS/lib/python3.6/site-packages/pandas/core/groupby/groupby.py\u001b[0m in \u001b[0;36m_python_apply_general\u001b[0;34m(self, f)\u001b[0m\n\u001b[1;32m    934\u001b[0m     \u001b[0;32mdef\u001b[0m \u001b[0m_python_apply_general\u001b[0m\u001b[0;34m(\u001b[0m\u001b[0mself\u001b[0m\u001b[0;34m,\u001b[0m \u001b[0mf\u001b[0m\u001b[0;34m)\u001b[0m\u001b[0;34m:\u001b[0m\u001b[0;34m\u001b[0m\u001b[0;34m\u001b[0m\u001b[0m\n\u001b[1;32m    935\u001b[0m         keys, values, mutated = self.grouper.apply(f, self._selected_obj,\n\u001b[0;32m--> 936\u001b[0;31m                                                    self.axis)\n\u001b[0m\u001b[1;32m    937\u001b[0m \u001b[0;34m\u001b[0m\u001b[0m\n\u001b[1;32m    938\u001b[0m         return self._wrap_applied_output(\n",
      "\u001b[0;32m~/work/venv/env3_uTS/lib/python3.6/site-packages/pandas/core/groupby/groupby.py\u001b[0m in \u001b[0;36mapply\u001b[0;34m(self, f, data, axis)\u001b[0m\n\u001b[1;32m   2271\u001b[0m             \u001b[0;31m# group might be modified\u001b[0m\u001b[0;34m\u001b[0m\u001b[0;34m\u001b[0m\u001b[0;34m\u001b[0m\u001b[0m\n\u001b[1;32m   2272\u001b[0m             \u001b[0mgroup_axes\u001b[0m \u001b[0;34m=\u001b[0m \u001b[0m_get_axes\u001b[0m\u001b[0;34m(\u001b[0m\u001b[0mgroup\u001b[0m\u001b[0;34m)\u001b[0m\u001b[0;34m\u001b[0m\u001b[0;34m\u001b[0m\u001b[0m\n\u001b[0;32m-> 2273\u001b[0;31m             \u001b[0mres\u001b[0m \u001b[0;34m=\u001b[0m \u001b[0mf\u001b[0m\u001b[0;34m(\u001b[0m\u001b[0mgroup\u001b[0m\u001b[0;34m)\u001b[0m\u001b[0;34m\u001b[0m\u001b[0;34m\u001b[0m\u001b[0m\n\u001b[0m\u001b[1;32m   2274\u001b[0m             \u001b[0;32mif\u001b[0m \u001b[0;32mnot\u001b[0m \u001b[0m_is_indexed_like\u001b[0m\u001b[0;34m(\u001b[0m\u001b[0mres\u001b[0m\u001b[0;34m,\u001b[0m \u001b[0mgroup_axes\u001b[0m\u001b[0;34m)\u001b[0m\u001b[0;34m:\u001b[0m\u001b[0;34m\u001b[0m\u001b[0;34m\u001b[0m\u001b[0m\n\u001b[1;32m   2275\u001b[0m                 \u001b[0mmutated\u001b[0m \u001b[0;34m=\u001b[0m \u001b[0;32mTrue\u001b[0m\u001b[0;34m\u001b[0m\u001b[0;34m\u001b[0m\u001b[0m\n",
      "\u001b[0;32m~/work/venv/env3_uTS/lib/python3.6/site-packages/orbit/backtest.py\u001b[0m in \u001b[0;36m<lambda>\u001b[0;34m(x)\u001b[0m\n\u001b[1;32m    224\u001b[0m             \u001b[0;32mraise\u001b[0m \u001b[0mBacktestException\u001b[0m\u001b[0;34m(\u001b[0m\u001b[0;34m\"run .run() before analyzing...\"\u001b[0m\u001b[0;34m)\u001b[0m\u001b[0;34m\u001b[0m\u001b[0;34m\u001b[0m\u001b[0m\n\u001b[1;32m    225\u001b[0m         metric_per_btmod = self.bt_res.groupby(BacktestFitColumnNames.TRAIN_END_DATE.value).apply(\n\u001b[0;32m--> 226\u001b[0;31m             lambda x: eval(metrics)(x[BacktestFitColumnNames.ACTUAL.value],\n\u001b[0m\u001b[1;32m    227\u001b[0m                                     \u001b[0mx\u001b[0m\u001b[0;34m[\u001b[0m\u001b[0mBacktestFitColumnNames\u001b[0m\u001b[0;34m.\u001b[0m\u001b[0mPRED\u001b[0m\u001b[0;34m.\u001b[0m\u001b[0mvalue\u001b[0m\u001b[0;34m]\u001b[0m\u001b[0;34m,\u001b[0m\u001b[0;34m\u001b[0m\u001b[0;34m\u001b[0m\u001b[0m\n\u001b[1;32m    228\u001b[0m                                     transform=transform))\n",
      "\u001b[0;32m~/work/venv/env3_uTS/lib/python3.6/site-packages/orbit/backtest.py\u001b[0m in \u001b[0;36m<module>\u001b[0;34m\u001b[0m\n",
      "\u001b[0;31mNameError\u001b[0m: name 'wmape' is not defined"
     ]
    }
   ],
   "source": [
    "bt_expand.analyze(metrics='wmape', transform=np.exp)\n",
    "bt_expand.analyze_res"
   ]
  },
  {
   "cell_type": "markdown",
   "metadata": {},
   "source": [
    "#### plotting"
   ]
  },
  {
   "cell_type": "code",
   "execution_count": null,
   "metadata": {
    "ExecuteTime": {
     "end_time": "2020-01-14T04:45:15.629014Z",
     "start_time": "2020-01-14T04:45:15.416Z"
    }
   },
   "outputs": [],
   "source": [
    "fig = bt_expand.plot_horizon(figsize=(10, 5))"
   ]
  },
  {
   "cell_type": "markdown",
   "metadata": {},
   "source": [
    "### rolling window"
   ]
  },
  {
   "cell_type": "code",
   "execution_count": 12,
   "metadata": {
    "ExecuteTime": {
     "end_time": "2020-01-14T04:45:15.932300Z",
     "start_time": "2020-01-14T04:45:15.928611Z"
    }
   },
   "outputs": [],
   "source": [
    "min_train_len = 300\n",
    "forecast_len = 20\n",
    "incremental_len = 20\n",
    "\n",
    "mod = LGT(date_col = date_col,\n",
    "    response_col = response_col,\n",
    "    regressor_col = regressor_col,\n",
    "    seasonality = 52,\n",
    "    seed = 8888,\n",
    "    predict_method = 'map'\n",
    ")"
   ]
  },
  {
   "cell_type": "code",
   "execution_count": 13,
   "metadata": {
    "ExecuteTime": {
     "end_time": "2020-01-14T04:45:17.867657Z",
     "start_time": "2020-01-14T04:45:16.633212Z"
    }
   },
   "outputs": [
    {
     "name": "stderr",
     "output_type": "stream",
     "text": [
      "\r",
      "  0%|          | 0/7 [00:00<?, ?it/s]"
     ]
    },
    {
     "name": "stdout",
     "output_type": "stream",
     "text": [
      "run rolling window back-testing:\n",
      "training and forcasting for horizon 10/04/2015 -- 02/14/2016\n"
     ]
    },
    {
     "name": "stderr",
     "output_type": "stream",
     "text": [
      " 29%|██▊       | 2/7 [00:00<00:01,  4.91it/s]"
     ]
    },
    {
     "name": "stdout",
     "output_type": "stream",
     "text": [
      "training and forcasting for horizon 02/21/2016 -- 07/03/2016\n",
      "training and forcasting for horizon 07/10/2016 -- 11/20/2016\n"
     ]
    },
    {
     "name": "stderr",
     "output_type": "stream",
     "text": [
      " 57%|█████▋    | 4/7 [00:00<00:00,  5.33it/s]"
     ]
    },
    {
     "name": "stdout",
     "output_type": "stream",
     "text": [
      "training and forcasting for horizon 11/27/2016 -- 04/09/2017\n",
      "training and forcasting for horizon 04/16/2017 -- 08/27/2017\n"
     ]
    },
    {
     "name": "stderr",
     "output_type": "stream",
     "text": [
      " 86%|████████▌ | 6/7 [00:01<00:00,  5.67it/s]"
     ]
    },
    {
     "name": "stdout",
     "output_type": "stream",
     "text": [
      "training and forcasting for horizon 09/03/2017 -- 01/14/2018\n",
      "training and forcasting for horizon 01/21/2018 -- 06/03/2018\n"
     ]
    },
    {
     "name": "stderr",
     "output_type": "stream",
     "text": [
      "100%|██████████| 7/7 [00:01<00:00,  5.87it/s]\n"
     ]
    },
    {
     "data": {
      "text/html": [
       "<div>\n",
       "<style scoped>\n",
       "    .dataframe tbody tr th:only-of-type {\n",
       "        vertical-align: middle;\n",
       "    }\n",
       "\n",
       "    .dataframe tbody tr th {\n",
       "        vertical-align: top;\n",
       "    }\n",
       "\n",
       "    .dataframe thead th {\n",
       "        text-align: right;\n",
       "    }\n",
       "</style>\n",
       "<table border=\"1\" class=\"dataframe\">\n",
       "  <thead>\n",
       "    <tr style=\"text-align: right;\">\n",
       "      <th></th>\n",
       "      <th>train_start_date</th>\n",
       "      <th>train_end_date</th>\n",
       "      <th>forecast_dates</th>\n",
       "      <th>actual</th>\n",
       "      <th>pred</th>\n",
       "      <th>pred_horizon</th>\n",
       "    </tr>\n",
       "  </thead>\n",
       "  <tbody>\n",
       "    <tr>\n",
       "      <th>0</th>\n",
       "      <td>2010-01-03</td>\n",
       "      <td>2015-09-27</td>\n",
       "      <td>2015-10-04</td>\n",
       "      <td>12.333480</td>\n",
       "      <td>12.416718</td>\n",
       "      <td>1</td>\n",
       "    </tr>\n",
       "    <tr>\n",
       "      <th>1</th>\n",
       "      <td>2010-01-03</td>\n",
       "      <td>2015-09-27</td>\n",
       "      <td>2015-10-11</td>\n",
       "      <td>12.454970</td>\n",
       "      <td>12.489585</td>\n",
       "      <td>2</td>\n",
       "    </tr>\n",
       "    <tr>\n",
       "      <th>2</th>\n",
       "      <td>2010-01-03</td>\n",
       "      <td>2015-09-27</td>\n",
       "      <td>2015-10-18</td>\n",
       "      <td>12.358193</td>\n",
       "      <td>12.414058</td>\n",
       "      <td>3</td>\n",
       "    </tr>\n",
       "    <tr>\n",
       "      <th>3</th>\n",
       "      <td>2010-01-03</td>\n",
       "      <td>2015-09-27</td>\n",
       "      <td>2015-10-25</td>\n",
       "      <td>12.410502</td>\n",
       "      <td>12.457153</td>\n",
       "      <td>4</td>\n",
       "    </tr>\n",
       "    <tr>\n",
       "      <th>4</th>\n",
       "      <td>2010-01-03</td>\n",
       "      <td>2015-09-27</td>\n",
       "      <td>2015-11-01</td>\n",
       "      <td>12.462419</td>\n",
       "      <td>12.455492</td>\n",
       "      <td>5</td>\n",
       "    </tr>\n",
       "  </tbody>\n",
       "</table>\n",
       "</div>"
      ],
      "text/plain": [
       "  train_start_date train_end_date forecast_dates     actual       pred pred_horizon\n",
       "0       2010-01-03     2015-09-27     2015-10-04  12.333480  12.416718            1\n",
       "1       2010-01-03     2015-09-27     2015-10-11  12.454970  12.489585            2\n",
       "2       2010-01-03     2015-09-27     2015-10-18  12.358193  12.414058            3\n",
       "3       2010-01-03     2015-09-27     2015-10-25  12.410502  12.457153            4\n",
       "4       2010-01-03     2015-09-27     2015-11-01  12.462419  12.455492            5"
      ]
     },
     "execution_count": 13,
     "metadata": {},
     "output_type": "execute_result"
    }
   ],
   "source": [
    "bt_roll = BacktestEngine(mod, data)\n",
    "bt_roll.create_meta(min_train_len, incremental_len, forecast_len, \n",
    "                           start_date=None, end_date=None, keep_cols=None,\n",
    "                           scheme='rolling')\n",
    "bt_roll.run(verbose=True, save_results=False, pred_col='prediction')\n",
    "bt_roll.bt_res.head()"
   ]
  },
  {
   "cell_type": "markdown",
   "metadata": {},
   "source": [
    "## Sklearn model object - Random Forest"
   ]
  },
  {
   "cell_type": "code",
   "execution_count": 14,
   "metadata": {
    "ExecuteTime": {
     "end_time": "2020-01-14T04:45:20.201637Z",
     "start_time": "2020-01-14T04:45:20.019494Z"
    }
   },
   "outputs": [
    {
     "name": "stderr",
     "output_type": "stream",
     "text": [
      "/Library/Frameworks/Python.framework/Versions/3.6/lib/python3.6/importlib/_bootstrap.py:219: RuntimeWarning: numpy.ufunc size changed, may indicate binary incompatibility. Expected 216, got 192\n",
      "  return f(*args, **kwds)\n",
      "/Library/Frameworks/Python.framework/Versions/3.6/lib/python3.6/importlib/_bootstrap.py:219: RuntimeWarning: numpy.ufunc size changed, may indicate binary incompatibility. Expected 216, got 192\n",
      "  return f(*args, **kwds)\n"
     ]
    }
   ],
   "source": [
    "from sklearn.ensemble import RandomForestRegressor\n",
    "\n",
    "def fit_callbacks_sklearn(model, train_df, response_col, regressor_col):\n",
    "    y = train_df[response_col]\n",
    "    X = train_df[regressor_col]\n",
    "    model.fit(X, y)\n",
    "    return \n",
    "\n",
    "def pred_callbacks_sklearn(model, test_df, response_col, regressor_col):\n",
    "    return model.predict(test_df[regressor_col])"
   ]
  },
  {
   "cell_type": "code",
   "execution_count": 15,
   "metadata": {
    "ExecuteTime": {
     "end_time": "2020-01-14T04:45:20.357526Z",
     "start_time": "2020-01-14T04:45:20.353679Z"
    }
   },
   "outputs": [],
   "source": [
    "date_col = 'week'\n",
    "response_col = 'claims'\n",
    "regressor_col = ['trend.unemploy', 'trend.filling', 'trend.job']\n",
    "\n",
    "min_train_len = 300\n",
    "forecast_len = 20\n",
    "incremental_len = 20\n",
    "\n",
    "mod = RandomForestRegressor(n_estimators = 50)"
   ]
  },
  {
   "cell_type": "code",
   "execution_count": 16,
   "metadata": {
    "ExecuteTime": {
     "end_time": "2020-01-14T04:45:21.217992Z",
     "start_time": "2020-01-14T04:45:20.797323Z"
    }
   },
   "outputs": [
    {
     "name": "stderr",
     "output_type": "stream",
     "text": [
      " 29%|██▊       | 2/7 [00:00<00:00, 16.63it/s]"
     ]
    },
    {
     "name": "stdout",
     "output_type": "stream",
     "text": [
      "run expanding window back-testing:\n",
      "training and forcasting for horizon 10/04/2015 -- 02/14/2016\n",
      "training and forcasting for horizon 02/21/2016 -- 07/03/2016\n",
      "training and forcasting for horizon 07/10/2016 -- 11/20/2016\n",
      "training and forcasting for horizon 11/27/2016 -- 04/09/2017\n"
     ]
    },
    {
     "name": "stderr",
     "output_type": "stream",
     "text": [
      "100%|██████████| 7/7 [00:00<00:00, 18.22it/s]"
     ]
    },
    {
     "name": "stdout",
     "output_type": "stream",
     "text": [
      "training and forcasting for horizon 04/16/2017 -- 08/27/2017\n",
      "training and forcasting for horizon 09/03/2017 -- 01/14/2018\n",
      "training and forcasting for horizon 01/21/2018 -- 06/03/2018\n"
     ]
    },
    {
     "name": "stderr",
     "output_type": "stream",
     "text": [
      "\n"
     ]
    },
    {
     "data": {
      "text/html": [
       "<div>\n",
       "<style scoped>\n",
       "    .dataframe tbody tr th:only-of-type {\n",
       "        vertical-align: middle;\n",
       "    }\n",
       "\n",
       "    .dataframe tbody tr th {\n",
       "        vertical-align: top;\n",
       "    }\n",
       "\n",
       "    .dataframe thead th {\n",
       "        text-align: right;\n",
       "    }\n",
       "</style>\n",
       "<table border=\"1\" class=\"dataframe\">\n",
       "  <thead>\n",
       "    <tr style=\"text-align: right;\">\n",
       "      <th></th>\n",
       "      <th>train_start_date</th>\n",
       "      <th>train_end_date</th>\n",
       "      <th>forecast_dates</th>\n",
       "      <th>actual</th>\n",
       "      <th>pred</th>\n",
       "      <th>pred_horizon</th>\n",
       "    </tr>\n",
       "  </thead>\n",
       "  <tbody>\n",
       "    <tr>\n",
       "      <th>0</th>\n",
       "      <td>2010-01-03</td>\n",
       "      <td>2015-09-27</td>\n",
       "      <td>2015-10-04</td>\n",
       "      <td>12.333480</td>\n",
       "      <td>12.269815</td>\n",
       "      <td>1</td>\n",
       "    </tr>\n",
       "    <tr>\n",
       "      <th>1</th>\n",
       "      <td>2010-01-03</td>\n",
       "      <td>2015-09-27</td>\n",
       "      <td>2015-10-11</td>\n",
       "      <td>12.454970</td>\n",
       "      <td>12.314558</td>\n",
       "      <td>2</td>\n",
       "    </tr>\n",
       "    <tr>\n",
       "      <th>2</th>\n",
       "      <td>2010-01-03</td>\n",
       "      <td>2015-09-27</td>\n",
       "      <td>2015-10-18</td>\n",
       "      <td>12.358193</td>\n",
       "      <td>12.298409</td>\n",
       "      <td>3</td>\n",
       "    </tr>\n",
       "    <tr>\n",
       "      <th>3</th>\n",
       "      <td>2010-01-03</td>\n",
       "      <td>2015-09-27</td>\n",
       "      <td>2015-10-25</td>\n",
       "      <td>12.410502</td>\n",
       "      <td>12.297171</td>\n",
       "      <td>4</td>\n",
       "    </tr>\n",
       "    <tr>\n",
       "      <th>4</th>\n",
       "      <td>2010-01-03</td>\n",
       "      <td>2015-09-27</td>\n",
       "      <td>2015-11-01</td>\n",
       "      <td>12.462419</td>\n",
       "      <td>12.288372</td>\n",
       "      <td>5</td>\n",
       "    </tr>\n",
       "  </tbody>\n",
       "</table>\n",
       "</div>"
      ],
      "text/plain": [
       "  train_start_date train_end_date forecast_dates     actual       pred pred_horizon\n",
       "0       2010-01-03     2015-09-27     2015-10-04  12.333480  12.269815            1\n",
       "1       2010-01-03     2015-09-27     2015-10-11  12.454970  12.314558            2\n",
       "2       2010-01-03     2015-09-27     2015-10-18  12.358193  12.298409            3\n",
       "3       2010-01-03     2015-09-27     2015-10-25  12.410502  12.297171            4\n",
       "4       2010-01-03     2015-09-27     2015-11-01  12.462419  12.288372            5"
      ]
     },
     "execution_count": 16,
     "metadata": {},
     "output_type": "execute_result"
    }
   ],
   "source": [
    "bt_expand = BacktestEngine(mod, data, date_col=date_col, response_col=response_col)\n",
    "\n",
    "bt_expand.create_meta(min_train_len, incremental_len, forecast_len, \n",
    "                           start_date=None, end_date=None, keep_cols=None,\n",
    "                           scheme='expanding')\n",
    "\n",
    "bt_expand.run(verbose=True, save_results=False, pred_col=None,\n",
    "              fit_callbacks=fit_callbacks_sklearn, pred_callbacks=pred_callbacks_sklearn,\n",
    "              response_col=response_col, regressor_col=regressor_col)\n",
    "\n",
    "bt_expand.bt_res.head()"
   ]
  },
  {
   "cell_type": "markdown",
   "metadata": {},
   "source": [
    "## Prophet model object"
   ]
  },
  {
   "cell_type": "code",
   "execution_count": 17,
   "metadata": {
    "ExecuteTime": {
     "end_time": "2020-01-14T04:45:43.381223Z",
     "start_time": "2020-01-14T04:45:43.303614Z"
    }
   },
   "outputs": [
    {
     "name": "stderr",
     "output_type": "stream",
     "text": [
      "ERROR:fbprophet:Importing plotly failed. Interactive plots will not work.\n"
     ]
    }
   ],
   "source": [
    "from fbprophet import Prophet\n",
    "import inspect\n",
    "\n",
    "def model_callbacks_prophet(model):\n",
    "    def _get_params(instance):\n",
    "        \"\"\"get initilization parameters via a prophet model object\"\"\"\n",
    "        class_hierarchy = inspect.getmro(Prophet)\n",
    "        init_signatures = [inspect.signature(c.__init__) for c in class_hierarchy if type(c) is not object]\n",
    "\n",
    "        all_params = []\n",
    "        for sig in init_signatures:\n",
    "            params = [p for p in sig.parameters.values()\n",
    "                      if p.name != 'self' and p.kind != p.VAR_KEYWORD\n",
    "                      and p.kind != p.VAR_POSITIONAL]\n",
    "            all_params.extend(params)\n",
    "        param_names = [p.name for p in all_params]\n",
    "        out = dict()\n",
    "        for key in param_names:\n",
    "            out[key] = getattr(instance, key)\n",
    "\n",
    "        return out\n",
    "\n",
    "    def bind(instance, _get_params):\n",
    "        def binding_scope_fn(): \n",
    "            return _get_params(instance)\n",
    "        return binding_scope_fn\n",
    "    model.get_params = bind(model, _get_params)\n",
    "    \n",
    "    return model\n",
    "\n",
    "\n",
    "def fit_callbacks_prophet(model, train_df, date_col, response_col, regressor_col):\n",
    "    train_df = train_df.rename(columns={date_col: \"ds\", response_col: \"y\"})\n",
    "    for regressor in regressor_col:\n",
    "        model.add_regressor(regressor) \n",
    "    model.fit(train_df)\n",
    "    \n",
    "    return \n",
    "\n",
    "def pred_callbacks_prophet(model, test_df, date_col, response_col, regressor_col):\n",
    "    test_df = test_df.rename(columns={date_col: \"ds\", response_col: \"y\"})\n",
    "    \n",
    "    return model.predict(test_df)"
   ]
  },
  {
   "cell_type": "code",
   "execution_count": 19,
   "metadata": {
    "ExecuteTime": {
     "end_time": "2020-01-14T04:45:47.781058Z",
     "start_time": "2020-01-14T04:45:47.777120Z"
    }
   },
   "outputs": [],
   "source": [
    "date_col = 'week'\n",
    "response_col = 'claims'\n",
    "regressor_col = ['trend.unemploy', 'trend.filling', 'trend.job']\n",
    "\n",
    "min_train_len = 300\n",
    "forecast_len = 20\n",
    "incremental_len = 20\n",
    "\n",
    "mod = Prophet()"
   ]
  },
  {
   "cell_type": "code",
   "execution_count": 20,
   "metadata": {
    "ExecuteTime": {
     "end_time": "2020-01-14T04:45:57.141104Z",
     "start_time": "2020-01-14T04:45:48.029702Z"
    }
   },
   "outputs": [
    {
     "name": "stderr",
     "output_type": "stream",
     "text": [
      "  0%|          | 0/7 [00:00<?, ?it/s]INFO:fbprophet:Disabling weekly seasonality. Run prophet with weekly_seasonality=True to override this.\n",
      "INFO:fbprophet:Disabling daily seasonality. Run prophet with daily_seasonality=True to override this.\n"
     ]
    },
    {
     "name": "stdout",
     "output_type": "stream",
     "text": [
      "run expanding window back-testing:\n",
      "training and forcasting for horizon 10/04/2015 -- 02/14/2016\n"
     ]
    },
    {
     "name": "stderr",
     "output_type": "stream",
     "text": [
      " 14%|█▍        | 1/7 [00:01<00:08,  1.34s/it]INFO:fbprophet:Disabling weekly seasonality. Run prophet with weekly_seasonality=True to override this.\n",
      "INFO:fbprophet:Disabling daily seasonality. Run prophet with daily_seasonality=True to override this.\n"
     ]
    },
    {
     "name": "stdout",
     "output_type": "stream",
     "text": [
      "training and forcasting for horizon 02/21/2016 -- 07/03/2016\n"
     ]
    },
    {
     "name": "stderr",
     "output_type": "stream",
     "text": [
      " 29%|██▊       | 2/7 [00:02<00:06,  1.32s/it]INFO:fbprophet:Disabling weekly seasonality. Run prophet with weekly_seasonality=True to override this.\n",
      "INFO:fbprophet:Disabling daily seasonality. Run prophet with daily_seasonality=True to override this.\n"
     ]
    },
    {
     "name": "stdout",
     "output_type": "stream",
     "text": [
      "training and forcasting for horizon 07/10/2016 -- 11/20/2016\n"
     ]
    },
    {
     "name": "stderr",
     "output_type": "stream",
     "text": [
      " 43%|████▎     | 3/7 [00:03<00:05,  1.32s/it]INFO:fbprophet:Disabling weekly seasonality. Run prophet with weekly_seasonality=True to override this.\n",
      "INFO:fbprophet:Disabling daily seasonality. Run prophet with daily_seasonality=True to override this.\n"
     ]
    },
    {
     "name": "stdout",
     "output_type": "stream",
     "text": [
      "training and forcasting for horizon 11/27/2016 -- 04/09/2017\n"
     ]
    },
    {
     "name": "stderr",
     "output_type": "stream",
     "text": [
      " 57%|█████▋    | 4/7 [00:05<00:03,  1.31s/it]INFO:fbprophet:Disabling weekly seasonality. Run prophet with weekly_seasonality=True to override this.\n",
      "INFO:fbprophet:Disabling daily seasonality. Run prophet with daily_seasonality=True to override this.\n"
     ]
    },
    {
     "name": "stdout",
     "output_type": "stream",
     "text": [
      "training and forcasting for horizon 04/16/2017 -- 08/27/2017\n"
     ]
    },
    {
     "name": "stderr",
     "output_type": "stream",
     "text": [
      " 71%|███████▏  | 5/7 [00:06<00:02,  1.33s/it]INFO:fbprophet:Disabling weekly seasonality. Run prophet with weekly_seasonality=True to override this.\n",
      "INFO:fbprophet:Disabling daily seasonality. Run prophet with daily_seasonality=True to override this.\n"
     ]
    },
    {
     "name": "stdout",
     "output_type": "stream",
     "text": [
      "training and forcasting for horizon 09/03/2017 -- 01/14/2018\n"
     ]
    },
    {
     "name": "stderr",
     "output_type": "stream",
     "text": [
      " 86%|████████▌ | 6/7 [00:07<00:01,  1.30s/it]INFO:fbprophet:Disabling weekly seasonality. Run prophet with weekly_seasonality=True to override this.\n",
      "INFO:fbprophet:Disabling daily seasonality. Run prophet with daily_seasonality=True to override this.\n"
     ]
    },
    {
     "name": "stdout",
     "output_type": "stream",
     "text": [
      "training and forcasting for horizon 01/21/2018 -- 06/03/2018\n"
     ]
    },
    {
     "name": "stderr",
     "output_type": "stream",
     "text": [
      "100%|██████████| 7/7 [00:09<00:00,  1.30s/it]\n"
     ]
    },
    {
     "data": {
      "text/html": [
       "<div>\n",
       "<style scoped>\n",
       "    .dataframe tbody tr th:only-of-type {\n",
       "        vertical-align: middle;\n",
       "    }\n",
       "\n",
       "    .dataframe tbody tr th {\n",
       "        vertical-align: top;\n",
       "    }\n",
       "\n",
       "    .dataframe thead th {\n",
       "        text-align: right;\n",
       "    }\n",
       "</style>\n",
       "<table border=\"1\" class=\"dataframe\">\n",
       "  <thead>\n",
       "    <tr style=\"text-align: right;\">\n",
       "      <th></th>\n",
       "      <th>train_start_date</th>\n",
       "      <th>train_end_date</th>\n",
       "      <th>forecast_dates</th>\n",
       "      <th>actual</th>\n",
       "      <th>pred</th>\n",
       "      <th>pred_horizon</th>\n",
       "    </tr>\n",
       "  </thead>\n",
       "  <tbody>\n",
       "    <tr>\n",
       "      <th>0</th>\n",
       "      <td>2010-01-03</td>\n",
       "      <td>2015-09-27</td>\n",
       "      <td>2015-10-04</td>\n",
       "      <td>12.333480</td>\n",
       "      <td>12.353443</td>\n",
       "      <td>1</td>\n",
       "    </tr>\n",
       "    <tr>\n",
       "      <th>1</th>\n",
       "      <td>2010-01-03</td>\n",
       "      <td>2015-09-27</td>\n",
       "      <td>2015-10-11</td>\n",
       "      <td>12.454970</td>\n",
       "      <td>12.408038</td>\n",
       "      <td>2</td>\n",
       "    </tr>\n",
       "    <tr>\n",
       "      <th>2</th>\n",
       "      <td>2010-01-03</td>\n",
       "      <td>2015-09-27</td>\n",
       "      <td>2015-10-18</td>\n",
       "      <td>12.358193</td>\n",
       "      <td>12.444854</td>\n",
       "      <td>3</td>\n",
       "    </tr>\n",
       "    <tr>\n",
       "      <th>3</th>\n",
       "      <td>2010-01-03</td>\n",
       "      <td>2015-09-27</td>\n",
       "      <td>2015-10-25</td>\n",
       "      <td>12.410502</td>\n",
       "      <td>12.447369</td>\n",
       "      <td>4</td>\n",
       "    </tr>\n",
       "    <tr>\n",
       "      <th>4</th>\n",
       "      <td>2010-01-03</td>\n",
       "      <td>2015-09-27</td>\n",
       "      <td>2015-11-01</td>\n",
       "      <td>12.462419</td>\n",
       "      <td>12.449554</td>\n",
       "      <td>5</td>\n",
       "    </tr>\n",
       "  </tbody>\n",
       "</table>\n",
       "</div>"
      ],
      "text/plain": [
       "  train_start_date train_end_date forecast_dates     actual       pred pred_horizon\n",
       "0       2010-01-03     2015-09-27     2015-10-04  12.333480  12.353443            1\n",
       "1       2010-01-03     2015-09-27     2015-10-11  12.454970  12.408038            2\n",
       "2       2010-01-03     2015-09-27     2015-10-18  12.358193  12.444854            3\n",
       "3       2010-01-03     2015-09-27     2015-10-25  12.410502  12.447369            4\n",
       "4       2010-01-03     2015-09-27     2015-11-01  12.462419  12.449554            5"
      ]
     },
     "execution_count": 20,
     "metadata": {},
     "output_type": "execute_result"
    }
   ],
   "source": [
    "bt_expand = BacktestEngine(mod, data, date_col=date_col, response_col=response_col, \n",
    "                           model_callbacks=model_callbacks_prophet)\n",
    "\n",
    "bt_expand.create_meta(min_train_len, incremental_len, forecast_len, \n",
    "                           start_date=None, end_date=None, keep_cols=None,\n",
    "                           scheme='expanding')\n",
    "\n",
    "bt_expand.run(verbose=True, save_results=False, \n",
    "              fit_callbacks=fit_callbacks_prophet, pred_callbacks=pred_callbacks_prophet, pred_col='yhat', \n",
    "              date_col=date_col, response_col=response_col, regressor_col=regressor_col)\n",
    "\n",
    "bt_expand.bt_res.head()"
   ]
  },
  {
   "cell_type": "code",
   "execution_count": 22,
   "metadata": {
    "ExecuteTime": {
     "end_time": "2020-01-14T04:47:38.079998Z",
     "start_time": "2020-01-14T04:47:38.033363Z"
    }
   },
   "outputs": [
    {
     "ename": "NameError",
     "evalue": "name 'smape' is not defined",
     "output_type": "error",
     "traceback": [
      "\u001b[0;31m---------------------------------------------------------------------------\u001b[0m",
      "\u001b[0;31mNameError\u001b[0m                                 Traceback (most recent call last)",
      "\u001b[0;32m~/work/venv/env3_uTS/lib/python3.6/site-packages/pandas/core/groupby/groupby.py\u001b[0m in \u001b[0;36mapply\u001b[0;34m(self, func, *args, **kwargs)\u001b[0m\n\u001b[1;32m    917\u001b[0m             \u001b[0;32mtry\u001b[0m\u001b[0;34m:\u001b[0m\u001b[0;34m\u001b[0m\u001b[0;34m\u001b[0m\u001b[0m\n\u001b[0;32m--> 918\u001b[0;31m                 \u001b[0mresult\u001b[0m \u001b[0;34m=\u001b[0m \u001b[0mself\u001b[0m\u001b[0;34m.\u001b[0m\u001b[0m_python_apply_general\u001b[0m\u001b[0;34m(\u001b[0m\u001b[0mf\u001b[0m\u001b[0;34m)\u001b[0m\u001b[0;34m\u001b[0m\u001b[0;34m\u001b[0m\u001b[0m\n\u001b[0m\u001b[1;32m    919\u001b[0m             \u001b[0;32mexcept\u001b[0m \u001b[0mException\u001b[0m\u001b[0;34m:\u001b[0m\u001b[0;34m\u001b[0m\u001b[0;34m\u001b[0m\u001b[0m\n",
      "\u001b[0;32m~/work/venv/env3_uTS/lib/python3.6/site-packages/pandas/core/groupby/groupby.py\u001b[0m in \u001b[0;36m_python_apply_general\u001b[0;34m(self, f)\u001b[0m\n\u001b[1;32m    935\u001b[0m         keys, values, mutated = self.grouper.apply(f, self._selected_obj,\n\u001b[0;32m--> 936\u001b[0;31m                                                    self.axis)\n\u001b[0m\u001b[1;32m    937\u001b[0m \u001b[0;34m\u001b[0m\u001b[0m\n",
      "\u001b[0;32m~/work/venv/env3_uTS/lib/python3.6/site-packages/pandas/core/groupby/groupby.py\u001b[0m in \u001b[0;36mapply\u001b[0;34m(self, f, data, axis)\u001b[0m\n\u001b[1;32m   2272\u001b[0m             \u001b[0mgroup_axes\u001b[0m \u001b[0;34m=\u001b[0m \u001b[0m_get_axes\u001b[0m\u001b[0;34m(\u001b[0m\u001b[0mgroup\u001b[0m\u001b[0;34m)\u001b[0m\u001b[0;34m\u001b[0m\u001b[0;34m\u001b[0m\u001b[0m\n\u001b[0;32m-> 2273\u001b[0;31m             \u001b[0mres\u001b[0m \u001b[0;34m=\u001b[0m \u001b[0mf\u001b[0m\u001b[0;34m(\u001b[0m\u001b[0mgroup\u001b[0m\u001b[0;34m)\u001b[0m\u001b[0;34m\u001b[0m\u001b[0;34m\u001b[0m\u001b[0m\n\u001b[0m\u001b[1;32m   2274\u001b[0m             \u001b[0;32mif\u001b[0m \u001b[0;32mnot\u001b[0m \u001b[0m_is_indexed_like\u001b[0m\u001b[0;34m(\u001b[0m\u001b[0mres\u001b[0m\u001b[0;34m,\u001b[0m \u001b[0mgroup_axes\u001b[0m\u001b[0;34m)\u001b[0m\u001b[0;34m:\u001b[0m\u001b[0;34m\u001b[0m\u001b[0;34m\u001b[0m\u001b[0m\n",
      "\u001b[0;32m~/work/venv/env3_uTS/lib/python3.6/site-packages/orbit/backtest.py\u001b[0m in \u001b[0;36m<lambda>\u001b[0;34m(x)\u001b[0m\n\u001b[1;32m    225\u001b[0m         metric_per_btmod = self.bt_res.groupby(BacktestFitColumnNames.TRAIN_END_DATE.value).apply(\n\u001b[0;32m--> 226\u001b[0;31m             lambda x: eval(metrics)(x[BacktestFitColumnNames.ACTUAL.value],\n\u001b[0m\u001b[1;32m    227\u001b[0m                                     \u001b[0mx\u001b[0m\u001b[0;34m[\u001b[0m\u001b[0mBacktestFitColumnNames\u001b[0m\u001b[0;34m.\u001b[0m\u001b[0mPRED\u001b[0m\u001b[0;34m.\u001b[0m\u001b[0mvalue\u001b[0m\u001b[0;34m]\u001b[0m\u001b[0;34m,\u001b[0m\u001b[0;34m\u001b[0m\u001b[0;34m\u001b[0m\u001b[0m\n",
      "\u001b[0;32m~/work/venv/env3_uTS/lib/python3.6/site-packages/orbit/backtest.py\u001b[0m in \u001b[0;36m<module>\u001b[0;34m\u001b[0m\n",
      "\u001b[0;31mNameError\u001b[0m: name 'smape' is not defined",
      "\nDuring handling of the above exception, another exception occurred:\n",
      "\u001b[0;31mNameError\u001b[0m                                 Traceback (most recent call last)",
      "\u001b[0;32m<ipython-input-22-e88efbc1ba62>\u001b[0m in \u001b[0;36m<module>\u001b[0;34m\u001b[0m\n\u001b[0;32m----> 1\u001b[0;31m \u001b[0mbt_expand\u001b[0m\u001b[0;34m.\u001b[0m\u001b[0manalyze\u001b[0m\u001b[0;34m(\u001b[0m\u001b[0mmetrics\u001b[0m\u001b[0;34m=\u001b[0m\u001b[0;34m'smape'\u001b[0m\u001b[0;34m,\u001b[0m \u001b[0mtransform\u001b[0m\u001b[0;34m=\u001b[0m\u001b[0mnp\u001b[0m\u001b[0;34m.\u001b[0m\u001b[0mexp\u001b[0m\u001b[0;34m)\u001b[0m\u001b[0;34m\u001b[0m\u001b[0;34m\u001b[0m\u001b[0m\n\u001b[0m\u001b[1;32m      2\u001b[0m \u001b[0mbt_expand\u001b[0m\u001b[0;34m.\u001b[0m\u001b[0manalyze_res\u001b[0m\u001b[0;34m\u001b[0m\u001b[0;34m\u001b[0m\u001b[0m\n",
      "\u001b[0;32m~/work/venv/env3_uTS/lib/python3.6/site-packages/orbit/backtest.py\u001b[0m in \u001b[0;36manalyze\u001b[0;34m(self, metrics, transform)\u001b[0m\n\u001b[1;32m    224\u001b[0m             \u001b[0;32mraise\u001b[0m \u001b[0mBacktestException\u001b[0m\u001b[0;34m(\u001b[0m\u001b[0;34m\"run .run() before analyzing...\"\u001b[0m\u001b[0;34m)\u001b[0m\u001b[0;34m\u001b[0m\u001b[0;34m\u001b[0m\u001b[0m\n\u001b[1;32m    225\u001b[0m         metric_per_btmod = self.bt_res.groupby(BacktestFitColumnNames.TRAIN_END_DATE.value).apply(\n\u001b[0;32m--> 226\u001b[0;31m             lambda x: eval(metrics)(x[BacktestFitColumnNames.ACTUAL.value],\n\u001b[0m\u001b[1;32m    227\u001b[0m                                     \u001b[0mx\u001b[0m\u001b[0;34m[\u001b[0m\u001b[0mBacktestFitColumnNames\u001b[0m\u001b[0;34m.\u001b[0m\u001b[0mPRED\u001b[0m\u001b[0;34m.\u001b[0m\u001b[0mvalue\u001b[0m\u001b[0;34m]\u001b[0m\u001b[0;34m,\u001b[0m\u001b[0;34m\u001b[0m\u001b[0;34m\u001b[0m\u001b[0m\n\u001b[1;32m    228\u001b[0m                                     transform=transform))\n",
      "\u001b[0;32m~/work/venv/env3_uTS/lib/python3.6/site-packages/pandas/core/groupby/groupby.py\u001b[0m in \u001b[0;36mapply\u001b[0;34m(self, func, *args, **kwargs)\u001b[0m\n\u001b[1;32m    928\u001b[0m \u001b[0;34m\u001b[0m\u001b[0m\n\u001b[1;32m    929\u001b[0m                 \u001b[0;32mwith\u001b[0m \u001b[0m_group_selection_context\u001b[0m\u001b[0;34m(\u001b[0m\u001b[0mself\u001b[0m\u001b[0;34m)\u001b[0m\u001b[0;34m:\u001b[0m\u001b[0;34m\u001b[0m\u001b[0;34m\u001b[0m\u001b[0m\n\u001b[0;32m--> 930\u001b[0;31m                     \u001b[0;32mreturn\u001b[0m \u001b[0mself\u001b[0m\u001b[0;34m.\u001b[0m\u001b[0m_python_apply_general\u001b[0m\u001b[0;34m(\u001b[0m\u001b[0mf\u001b[0m\u001b[0;34m)\u001b[0m\u001b[0;34m\u001b[0m\u001b[0;34m\u001b[0m\u001b[0m\n\u001b[0m\u001b[1;32m    931\u001b[0m \u001b[0;34m\u001b[0m\u001b[0m\n\u001b[1;32m    932\u001b[0m         \u001b[0;32mreturn\u001b[0m \u001b[0mresult\u001b[0m\u001b[0;34m\u001b[0m\u001b[0;34m\u001b[0m\u001b[0m\n",
      "\u001b[0;32m~/work/venv/env3_uTS/lib/python3.6/site-packages/pandas/core/groupby/groupby.py\u001b[0m in \u001b[0;36m_python_apply_general\u001b[0;34m(self, f)\u001b[0m\n\u001b[1;32m    934\u001b[0m     \u001b[0;32mdef\u001b[0m \u001b[0m_python_apply_general\u001b[0m\u001b[0;34m(\u001b[0m\u001b[0mself\u001b[0m\u001b[0;34m,\u001b[0m \u001b[0mf\u001b[0m\u001b[0;34m)\u001b[0m\u001b[0;34m:\u001b[0m\u001b[0;34m\u001b[0m\u001b[0;34m\u001b[0m\u001b[0m\n\u001b[1;32m    935\u001b[0m         keys, values, mutated = self.grouper.apply(f, self._selected_obj,\n\u001b[0;32m--> 936\u001b[0;31m                                                    self.axis)\n\u001b[0m\u001b[1;32m    937\u001b[0m \u001b[0;34m\u001b[0m\u001b[0m\n\u001b[1;32m    938\u001b[0m         return self._wrap_applied_output(\n",
      "\u001b[0;32m~/work/venv/env3_uTS/lib/python3.6/site-packages/pandas/core/groupby/groupby.py\u001b[0m in \u001b[0;36mapply\u001b[0;34m(self, f, data, axis)\u001b[0m\n\u001b[1;32m   2271\u001b[0m             \u001b[0;31m# group might be modified\u001b[0m\u001b[0;34m\u001b[0m\u001b[0;34m\u001b[0m\u001b[0;34m\u001b[0m\u001b[0m\n\u001b[1;32m   2272\u001b[0m             \u001b[0mgroup_axes\u001b[0m \u001b[0;34m=\u001b[0m \u001b[0m_get_axes\u001b[0m\u001b[0;34m(\u001b[0m\u001b[0mgroup\u001b[0m\u001b[0;34m)\u001b[0m\u001b[0;34m\u001b[0m\u001b[0;34m\u001b[0m\u001b[0m\n\u001b[0;32m-> 2273\u001b[0;31m             \u001b[0mres\u001b[0m \u001b[0;34m=\u001b[0m \u001b[0mf\u001b[0m\u001b[0;34m(\u001b[0m\u001b[0mgroup\u001b[0m\u001b[0;34m)\u001b[0m\u001b[0;34m\u001b[0m\u001b[0;34m\u001b[0m\u001b[0m\n\u001b[0m\u001b[1;32m   2274\u001b[0m             \u001b[0;32mif\u001b[0m \u001b[0;32mnot\u001b[0m \u001b[0m_is_indexed_like\u001b[0m\u001b[0;34m(\u001b[0m\u001b[0mres\u001b[0m\u001b[0;34m,\u001b[0m \u001b[0mgroup_axes\u001b[0m\u001b[0;34m)\u001b[0m\u001b[0;34m:\u001b[0m\u001b[0;34m\u001b[0m\u001b[0;34m\u001b[0m\u001b[0m\n\u001b[1;32m   2275\u001b[0m                 \u001b[0mmutated\u001b[0m \u001b[0;34m=\u001b[0m \u001b[0;32mTrue\u001b[0m\u001b[0;34m\u001b[0m\u001b[0;34m\u001b[0m\u001b[0m\n",
      "\u001b[0;32m~/work/venv/env3_uTS/lib/python3.6/site-packages/orbit/backtest.py\u001b[0m in \u001b[0;36m<lambda>\u001b[0;34m(x)\u001b[0m\n\u001b[1;32m    224\u001b[0m             \u001b[0;32mraise\u001b[0m \u001b[0mBacktestException\u001b[0m\u001b[0;34m(\u001b[0m\u001b[0;34m\"run .run() before analyzing...\"\u001b[0m\u001b[0;34m)\u001b[0m\u001b[0;34m\u001b[0m\u001b[0;34m\u001b[0m\u001b[0m\n\u001b[1;32m    225\u001b[0m         metric_per_btmod = self.bt_res.groupby(BacktestFitColumnNames.TRAIN_END_DATE.value).apply(\n\u001b[0;32m--> 226\u001b[0;31m             lambda x: eval(metrics)(x[BacktestFitColumnNames.ACTUAL.value],\n\u001b[0m\u001b[1;32m    227\u001b[0m                                     \u001b[0mx\u001b[0m\u001b[0;34m[\u001b[0m\u001b[0mBacktestFitColumnNames\u001b[0m\u001b[0;34m.\u001b[0m\u001b[0mPRED\u001b[0m\u001b[0;34m.\u001b[0m\u001b[0mvalue\u001b[0m\u001b[0;34m]\u001b[0m\u001b[0;34m,\u001b[0m\u001b[0;34m\u001b[0m\u001b[0;34m\u001b[0m\u001b[0m\n\u001b[1;32m    228\u001b[0m                                     transform=transform))\n",
      "\u001b[0;32m~/work/venv/env3_uTS/lib/python3.6/site-packages/orbit/backtest.py\u001b[0m in \u001b[0;36m<module>\u001b[0;34m\u001b[0m\n",
      "\u001b[0;31mNameError\u001b[0m: name 'smape' is not defined"
     ]
    }
   ],
   "source": [
    "bt_expand.analyze(metrics='smape', transform=np.exp)\n",
    "bt_expand.analyze_res"
   ]
  },
  {
   "cell_type": "markdown",
   "metadata": {},
   "source": [
    "## Backtest Multiple Models"
   ]
  },
  {
   "cell_type": "code",
   "execution_count": 34,
   "metadata": {
    "ExecuteTime": {
     "end_time": "2020-01-14T05:04:13.633085Z",
     "start_time": "2020-01-14T05:04:13.621675Z"
    }
   },
   "outputs": [],
   "source": [
    "def model_callbacks_prophet(model):\n",
    "    def _get_params(instance):\n",
    "        \"\"\"get initilization parameters via a prophet model object\"\"\"\n",
    "        class_hierarchy = inspect.getmro(Prophet)\n",
    "        init_signatures = [inspect.signature(c.__init__) for c in class_hierarchy if type(c) is not object]\n",
    "\n",
    "        all_params = []\n",
    "        for sig in init_signatures:\n",
    "            params = [p for p in sig.parameters.values()\n",
    "                      if p.name != 'self' and p.kind != p.VAR_KEYWORD\n",
    "                      and p.kind != p.VAR_POSITIONAL]\n",
    "            all_params.extend(params)\n",
    "        param_names = [p.name for p in all_params]\n",
    "        out = dict()\n",
    "        for key in param_names:\n",
    "            out[key] = getattr(instance, key)\n",
    "\n",
    "        return out\n",
    "\n",
    "    def bind(instance, _get_params):\n",
    "        def binding_scope_fn(): \n",
    "            return _get_params(instance)\n",
    "        return binding_scope_fn\n",
    "    model.get_params = bind(model, _get_params)\n",
    "    \n",
    "    return model\n",
    "\n",
    "\n",
    "def fit_callbacks_prophet(model, train_df, date_col, response_col, regressor_col):\n",
    "    train_df = train_df.rename(columns={date_col: \"ds\", response_col: \"y\"})\n",
    "    if regressor_col is not None:\n",
    "        for regressor in regressor_col:\n",
    "            model.add_regressor(regressor) \n",
    "    model.fit(train_df)\n",
    "    \n",
    "    return \n",
    "\n",
    "def pred_callbacks_prophet(model, test_df, date_col, response_col, regressor_col):\n",
    "    test_df = test_df.rename(columns={date_col: \"ds\", response_col: \"y\"})\n",
    "    \n",
    "    return model.predict(test_df)"
   ]
  },
  {
   "cell_type": "code",
   "execution_count": 35,
   "metadata": {
    "ExecuteTime": {
     "end_time": "2020-01-14T05:04:14.024778Z",
     "start_time": "2020-01-14T05:04:14.019627Z"
    }
   },
   "outputs": [],
   "source": [
    "model_names = [\"LGT-MAP\",  \"DLT-MAP\", \"Prophet\"]\n",
    "pred_cols = ['prediction', 'prediction', 'yhat']\n",
    "model_callbacks = [None]*2 + [model_callbacks_prophet]\n",
    "fit_callbacks = [None]*2 + [fit_callbacks_prophet]\n",
    "pred_callbacks = [None]*2 + [pred_callbacks_prophet]\n",
    "transform_fun = np.exp\n",
    "metric_fun = 'smape'\n",
    "data['city_name'] = 'TBD'"
   ]
  },
  {
   "cell_type": "code",
   "execution_count": 36,
   "metadata": {
    "ExecuteTime": {
     "end_time": "2020-01-14T05:04:14.442971Z",
     "start_time": "2020-01-14T05:04:14.435816Z"
    }
   },
   "outputs": [],
   "source": [
    "date_col = 'week'\n",
    "resp_col = 'claims'\n",
    "min_train_len = 350\n",
    "forecast_len = 52\n",
    "incremental_len = 10\n",
    "\n",
    "key_col = 'city_name'\n",
    "keep_cols = ['city_name']\n",
    "city_name_list = data['city_name'].unique()\n",
    "scheme = 'expanding'\n",
    "transform_fun = np.exp\n",
    "mod_list = [ \n",
    "    \n",
    "    ## vanilla LGT\n",
    "    LGT(response_col = resp_col,\n",
    "        date_col = date_col,\n",
    "        seasonality = 52,\n",
    "        seed = 1,\n",
    "        predict_method = 'map'\n",
    "),\n",
    "    \n",
    "    DLT(response_col=resp_col,\n",
    "        date_col=date_col,\n",
    "        seasonality=52,\n",
    "        num_warmup=1000, \n",
    "        num_sample=2000,\n",
    "        predict_method = 'map',\n",
    "        damped_factor_fixed=-1,\n",
    "        seed = 1\n",
    "),\n",
    "    ## fb prophet\n",
    "    Prophet()\n",
    "]"
   ]
  },
  {
   "cell_type": "code",
   "execution_count": 37,
   "metadata": {
    "ExecuteTime": {
     "end_time": "2020-01-14T05:04:25.486132Z",
     "start_time": "2020-01-14T05:04:15.080584Z"
    }
   },
   "outputs": [
    {
     "name": "stderr",
     "output_type": "stream",
     "text": [
      "100%|██████████| 5/5 [00:00<00:00,  7.61it/s]\n",
      "  0%|          | 0/5 [00:00<?, ?it/s]"
     ]
    },
    {
     "name": "stdout",
     "output_type": "stream",
     "text": [
      "time elapsed 00:00:00\n"
     ]
    },
    {
     "name": "stderr",
     "output_type": "stream",
     "text": [
      "100%|██████████| 5/5 [00:02<00:00,  1.85it/s]\n",
      "  0%|          | 0/5 [00:00<?, ?it/s]INFO:fbprophet:Disabling weekly seasonality. Run prophet with weekly_seasonality=True to override this.\n",
      "INFO:fbprophet:Disabling daily seasonality. Run prophet with daily_seasonality=True to override this.\n"
     ]
    },
    {
     "name": "stdout",
     "output_type": "stream",
     "text": [
      "time elapsed 00:00:02\n"
     ]
    },
    {
     "name": "stderr",
     "output_type": "stream",
     "text": [
      " 20%|██        | 1/5 [00:01<00:06,  1.55s/it]INFO:fbprophet:Disabling weekly seasonality. Run prophet with weekly_seasonality=True to override this.\n",
      "INFO:fbprophet:Disabling daily seasonality. Run prophet with daily_seasonality=True to override this.\n",
      " 40%|████      | 2/5 [00:02<00:04,  1.46s/it]INFO:fbprophet:Disabling weekly seasonality. Run prophet with weekly_seasonality=True to override this.\n",
      "INFO:fbprophet:Disabling daily seasonality. Run prophet with daily_seasonality=True to override this.\n",
      " 60%|██████    | 3/5 [00:04<00:02,  1.45s/it]INFO:fbprophet:Disabling weekly seasonality. Run prophet with weekly_seasonality=True to override this.\n",
      "INFO:fbprophet:Disabling daily seasonality. Run prophet with daily_seasonality=True to override this.\n",
      " 80%|████████  | 4/5 [00:05<00:01,  1.41s/it]INFO:fbprophet:Disabling weekly seasonality. Run prophet with weekly_seasonality=True to override this.\n",
      "INFO:fbprophet:Disabling daily seasonality. Run prophet with daily_seasonality=True to override this.\n",
      "100%|██████████| 5/5 [00:06<00:00,  1.40s/it]"
     ]
    },
    {
     "name": "stdout",
     "output_type": "stream",
     "text": [
      "time elapsed 00:00:07\n"
     ]
    },
    {
     "name": "stderr",
     "output_type": "stream",
     "text": [
      "\n"
     ]
    }
   ],
   "source": [
    "np.random.seed(2019) # to have full reproducibility for mcmc samples\n",
    "bt_res = run_group_backtest(data, date_col, resp_col, key_col, pred_cols,\n",
    "                            mod_list, model_callbacks, fit_callbacks, pred_callbacks,\n",
    "                            min_train_len, incremental_len, forecast_len, \n",
    "                            transform_fun, start_date=None, end_date=None,\n",
    "                            keep_cols = keep_cols, \n",
    "                            mod_names = model_names,\n",
    "                            scheme = scheme)"
   ]
  },
  {
   "cell_type": "code",
   "execution_count": 40,
   "metadata": {
    "ExecuteTime": {
     "end_time": "2020-01-14T05:05:20.336652Z",
     "start_time": "2020-01-14T05:05:20.317165Z"
    }
   },
   "outputs": [
    {
     "data": {
      "text/plain": [
       "model\n",
       "DLT-MAP    0.016285\n",
       "LGT-MAP    0.014218\n",
       "Prophet    0.050994\n",
       "dtype: float64"
      ]
     },
     "execution_count": 40,
     "metadata": {},
     "output_type": "execute_result"
    }
   ],
   "source": [
    "bt_summary=bt_res[bt_res['pred_horizon'] <= 1].groupby(['model']).\\\n",
    "apply(lambda x: smape(x['actual'], x['pred']))\n",
    "bt_summary"
   ]
  },
  {
   "cell_type": "code",
   "execution_count": null,
   "metadata": {},
   "outputs": [],
   "source": []
  }
 ],
 "metadata": {
  "kernelspec": {
   "display_name": "Python 3",
   "language": "python",
   "name": "python3"
  },
  "language_info": {
   "codemirror_mode": {
    "name": "ipython",
    "version": 3
   },
   "file_extension": ".py",
   "mimetype": "text/x-python",
   "name": "python",
   "nbconvert_exporter": "python",
   "pygments_lexer": "ipython3",
   "version": "3.6.8"
  },
  "toc": {
   "base_numbering": 1,
   "nav_menu": {},
   "number_sections": true,
   "sideBar": true,
   "skip_h1_title": false,
   "title_cell": "Table of Contents",
   "title_sidebar": "Contents",
   "toc_cell": false,
   "toc_position": {
    "height": "calc(100% - 180px)",
    "left": "10px",
    "top": "150px",
    "width": "316.391px"
   },
   "toc_section_display": true,
   "toc_window_display": true
  }
 },
 "nbformat": 4,
 "nbformat_minor": 2
}
