{
 "cells": [
  {
   "cell_type": "markdown",
   "metadata": {},
   "source": [
    "# DLT Quick Start"
   ]
  },
  {
   "cell_type": "markdown",
   "metadata": {},
   "source": [
    "**DLT** stands for `Damped Local Trend` model, which is an important model type in orbit package. In the model equation, there is a local trend term and a global trend term.\n",
    "\n",
    "In this notebook we will show how to use Orbit DLT models with the US unemployment claims data and different gloabl trend options."
   ]
  },
  {
   "cell_type": "code",
   "execution_count": 1,
   "metadata": {
    "ExecuteTime": {
     "end_time": "2021-08-09T18:20:17.631073Z",
     "start_time": "2021-08-09T18:20:17.607277Z"
    }
   },
   "outputs": [],
   "source": [
    "%load_ext autoreload\n",
    "%autoreload 2"
   ]
  },
  {
   "cell_type": "code",
   "execution_count": 2,
   "metadata": {
    "ExecuteTime": {
     "end_time": "2021-08-09T18:20:20.267447Z",
     "start_time": "2021-08-09T18:20:17.895944Z"
    }
   },
   "outputs": [],
   "source": [
    "from datetime import timedelta\n",
    "\n",
    "import pandas as pd\n",
    "import numpy as np\n",
    "\n",
    "import orbit\n",
    "from orbit.models import DLT\n",
    "from orbit.diagnostics.plot import plot_predicted_data, plot_predicted_components\n",
    "from orbit.utils.dataset import load_iclaims"
   ]
  },
  {
   "cell_type": "code",
   "execution_count": 3,
   "metadata": {
    "ExecuteTime": {
     "end_time": "2021-08-09T18:20:21.530825Z",
     "start_time": "2021-08-09T18:20:21.493661Z"
    }
   },
   "outputs": [
    {
     "data": {
      "text/plain": [
       "'1.1.0dev'"
      ]
     },
     "execution_count": 3,
     "metadata": {},
     "output_type": "execute_result"
    }
   ],
   "source": [
    "orbit.__version__"
   ]
  },
  {
   "cell_type": "markdown",
   "metadata": {},
   "source": [
    "## Data"
   ]
  },
  {
   "cell_type": "markdown",
   "metadata": {},
   "source": [
    "*iclaims_example* is a dataset containing the weekly initial claims for US unemployment benefits against a few related google trend queries (unemploy, filling and job) from Jan 2010 - June 2018.\n",
    "\n",
    "This aim is to mimick the dataset from the paper [Predicting the Present with Bayesian Structural Time Series](https://people.ischool.berkeley.edu/~hal/Papers/2013/pred-present-with-bsts.pdf) by SCOTT and VARIAN (2014).\n",
    "\n",
    "Number of claims are obtained from [Federal Reserve Bank of St. Louis](https://fred.stlouisfed.org/series/ICNSA) while google queries are obtained through [Google Trends API](https://trends.google.com/trends/?geo=US).\n",
    "Note that dataset is transformed by natural log before fitting in order to have a multiplicative model."
   ]
  },
  {
   "cell_type": "code",
   "execution_count": 4,
   "metadata": {
    "ExecuteTime": {
     "end_time": "2021-08-09T18:20:24.806582Z",
     "start_time": "2021-08-09T18:20:23.904948Z"
    }
   },
   "outputs": [
    {
     "data": {
      "text/plain": [
       "week              datetime64[ns]\n",
       "claims                     int64\n",
       "trend.unemploy           float64\n",
       "trend.filling            float64\n",
       "trend.job                float64\n",
       "sp500                    float64\n",
       "vix                      float64\n",
       "dtype: object"
      ]
     },
     "execution_count": 4,
     "metadata": {},
     "output_type": "execute_result"
    }
   ],
   "source": [
    "# load data\n",
    "df = load_iclaims(transform=True)\n",
    "df.dtypes"
   ]
  },
  {
   "cell_type": "code",
   "execution_count": 5,
   "metadata": {
    "ExecuteTime": {
     "end_time": "2021-08-09T18:20:24.850776Z",
     "start_time": "2021-08-09T18:20:24.808293Z"
    }
   },
   "outputs": [
    {
     "data": {
      "text/html": [
       "<div>\n",
       "<style scoped>\n",
       "    .dataframe tbody tr th:only-of-type {\n",
       "        vertical-align: middle;\n",
       "    }\n",
       "\n",
       "    .dataframe tbody tr th {\n",
       "        vertical-align: top;\n",
       "    }\n",
       "\n",
       "    .dataframe thead th {\n",
       "        text-align: right;\n",
       "    }\n",
       "</style>\n",
       "<table border=\"1\" class=\"dataframe\">\n",
       "  <thead>\n",
       "    <tr style=\"text-align: right;\">\n",
       "      <th></th>\n",
       "      <th>week</th>\n",
       "      <th>claims</th>\n",
       "      <th>trend.unemploy</th>\n",
       "      <th>trend.filling</th>\n",
       "      <th>trend.job</th>\n",
       "      <th>sp500</th>\n",
       "      <th>vix</th>\n",
       "    </tr>\n",
       "  </thead>\n",
       "  <tbody>\n",
       "    <tr>\n",
       "      <th>0</th>\n",
       "      <td>2010-01-03</td>\n",
       "      <td>651215</td>\n",
       "      <td>1.183973</td>\n",
       "      <td>0.720140</td>\n",
       "      <td>1.119669</td>\n",
       "      <td>1144.979980</td>\n",
       "      <td>18.13</td>\n",
       "    </tr>\n",
       "    <tr>\n",
       "      <th>1</th>\n",
       "      <td>2010-01-10</td>\n",
       "      <td>825891</td>\n",
       "      <td>1.183973</td>\n",
       "      <td>0.814896</td>\n",
       "      <td>1.178599</td>\n",
       "      <td>1136.030029</td>\n",
       "      <td>17.91</td>\n",
       "    </tr>\n",
       "    <tr>\n",
       "      <th>2</th>\n",
       "      <td>2010-01-17</td>\n",
       "      <td>659173</td>\n",
       "      <td>1.203382</td>\n",
       "      <td>0.739091</td>\n",
       "      <td>1.119669</td>\n",
       "      <td>1091.760010</td>\n",
       "      <td>27.31</td>\n",
       "    </tr>\n",
       "    <tr>\n",
       "      <th>3</th>\n",
       "      <td>2010-01-24</td>\n",
       "      <td>507651</td>\n",
       "      <td>1.164564</td>\n",
       "      <td>0.814896</td>\n",
       "      <td>1.107883</td>\n",
       "      <td>1073.869995</td>\n",
       "      <td>24.62</td>\n",
       "    </tr>\n",
       "    <tr>\n",
       "      <th>4</th>\n",
       "      <td>2010-01-31</td>\n",
       "      <td>538617</td>\n",
       "      <td>1.086926</td>\n",
       "      <td>0.776993</td>\n",
       "      <td>1.072525</td>\n",
       "      <td>1066.189941</td>\n",
       "      <td>26.11</td>\n",
       "    </tr>\n",
       "  </tbody>\n",
       "</table>\n",
       "</div>"
      ],
      "text/plain": [
       "        week  claims  trend.unemploy  trend.filling  trend.job        sp500  \\\n",
       "0 2010-01-03  651215        1.183973       0.720140   1.119669  1144.979980   \n",
       "1 2010-01-10  825891        1.183973       0.814896   1.178599  1136.030029   \n",
       "2 2010-01-17  659173        1.203382       0.739091   1.119669  1091.760010   \n",
       "3 2010-01-24  507651        1.164564       0.814896   1.107883  1073.869995   \n",
       "4 2010-01-31  538617        1.086926       0.776993   1.072525  1066.189941   \n",
       "\n",
       "     vix  \n",
       "0  18.13  \n",
       "1  17.91  \n",
       "2  27.31  \n",
       "3  24.62  \n",
       "4  26.11  "
      ]
     },
     "execution_count": 5,
     "metadata": {},
     "output_type": "execute_result"
    }
   ],
   "source": [
    "df.head()"
   ]
  },
  {
   "cell_type": "code",
   "execution_count": 6,
   "metadata": {
    "ExecuteTime": {
     "end_time": "2021-08-09T18:20:24.886377Z",
     "start_time": "2021-08-09T18:20:24.853842Z"
    }
   },
   "outputs": [],
   "source": [
    "DATE_COL = 'week'\n",
    "RESPONSE_COL = 'claims'"
   ]
  },
  {
   "cell_type": "markdown",
   "metadata": {},
   "source": [
    "### Train / Test Split"
   ]
  },
  {
   "cell_type": "code",
   "execution_count": 7,
   "metadata": {
    "ExecuteTime": {
     "end_time": "2021-08-09T18:20:27.331983Z",
     "start_time": "2021-08-09T18:20:27.297850Z"
    }
   },
   "outputs": [],
   "source": [
    "test_size = 52\n",
    "\n",
    "train_df = df[:-test_size]\n",
    "test_df = df[-test_size:]"
   ]
  },
  {
   "cell_type": "code",
   "execution_count": 8,
   "metadata": {
    "ExecuteTime": {
     "end_time": "2021-08-09T18:20:27.530386Z",
     "start_time": "2021-08-09T18:20:27.487269Z"
    }
   },
   "outputs": [
    {
     "data": {
      "text/html": [
       "<div>\n",
       "<style scoped>\n",
       "    .dataframe tbody tr th:only-of-type {\n",
       "        vertical-align: middle;\n",
       "    }\n",
       "\n",
       "    .dataframe tbody tr th {\n",
       "        vertical-align: top;\n",
       "    }\n",
       "\n",
       "    .dataframe thead th {\n",
       "        text-align: right;\n",
       "    }\n",
       "</style>\n",
       "<table border=\"1\" class=\"dataframe\">\n",
       "  <thead>\n",
       "    <tr style=\"text-align: right;\">\n",
       "      <th></th>\n",
       "      <th>week</th>\n",
       "      <th>claims</th>\n",
       "      <th>trend.unemploy</th>\n",
       "      <th>trend.filling</th>\n",
       "      <th>trend.job</th>\n",
       "      <th>sp500</th>\n",
       "      <th>vix</th>\n",
       "    </tr>\n",
       "  </thead>\n",
       "  <tbody>\n",
       "    <tr>\n",
       "      <th>0</th>\n",
       "      <td>2010-01-03</td>\n",
       "      <td>651215</td>\n",
       "      <td>1.183973</td>\n",
       "      <td>0.720140</td>\n",
       "      <td>1.119669</td>\n",
       "      <td>1144.979980</td>\n",
       "      <td>18.13</td>\n",
       "    </tr>\n",
       "    <tr>\n",
       "      <th>1</th>\n",
       "      <td>2010-01-10</td>\n",
       "      <td>825891</td>\n",
       "      <td>1.183973</td>\n",
       "      <td>0.814896</td>\n",
       "      <td>1.178599</td>\n",
       "      <td>1136.030029</td>\n",
       "      <td>17.91</td>\n",
       "    </tr>\n",
       "    <tr>\n",
       "      <th>2</th>\n",
       "      <td>2010-01-17</td>\n",
       "      <td>659173</td>\n",
       "      <td>1.203382</td>\n",
       "      <td>0.739091</td>\n",
       "      <td>1.119669</td>\n",
       "      <td>1091.760010</td>\n",
       "      <td>27.31</td>\n",
       "    </tr>\n",
       "    <tr>\n",
       "      <th>3</th>\n",
       "      <td>2010-01-24</td>\n",
       "      <td>507651</td>\n",
       "      <td>1.164564</td>\n",
       "      <td>0.814896</td>\n",
       "      <td>1.107883</td>\n",
       "      <td>1073.869995</td>\n",
       "      <td>24.62</td>\n",
       "    </tr>\n",
       "    <tr>\n",
       "      <th>4</th>\n",
       "      <td>2010-01-31</td>\n",
       "      <td>538617</td>\n",
       "      <td>1.086926</td>\n",
       "      <td>0.776993</td>\n",
       "      <td>1.072525</td>\n",
       "      <td>1066.189941</td>\n",
       "      <td>26.11</td>\n",
       "    </tr>\n",
       "  </tbody>\n",
       "</table>\n",
       "</div>"
      ],
      "text/plain": [
       "        week  claims  trend.unemploy  trend.filling  trend.job        sp500  \\\n",
       "0 2010-01-03  651215        1.183973       0.720140   1.119669  1144.979980   \n",
       "1 2010-01-10  825891        1.183973       0.814896   1.178599  1136.030029   \n",
       "2 2010-01-17  659173        1.203382       0.739091   1.119669  1091.760010   \n",
       "3 2010-01-24  507651        1.164564       0.814896   1.107883  1073.869995   \n",
       "4 2010-01-31  538617        1.086926       0.776993   1.072525  1066.189941   \n",
       "\n",
       "     vix  \n",
       "0  18.13  \n",
       "1  17.91  \n",
       "2  27.31  \n",
       "3  24.62  \n",
       "4  26.11  "
      ]
     },
     "execution_count": 8,
     "metadata": {},
     "output_type": "execute_result"
    }
   ],
   "source": [
    "train_df.head()"
   ]
  },
  {
   "cell_type": "markdown",
   "metadata": {},
   "source": [
    "## DLT Model"
   ]
  },
  {
   "cell_type": "markdown",
   "metadata": {},
   "source": [
    "**DLT** stands for Damped Local Trend model,"
   ]
  },
  {
   "cell_type": "markdown",
   "metadata": {},
   "source": [
    "$$ y_{t}  = \\hat{y}_t + \\epsilon $$\n",
    "$$\\hat{y}_t=\\mu_t + s_t + r_t $$\n",
    "$$\\mu_t=D(t) + l_{t-1} +  \\theta{b_{t-1}}$$\n",
    "\n",
    "with the update process as such \n",
    "\n",
    "$$g_t = D(t)$$\n",
    "$$l_t = \\rho_l(y_t - g_{t} - s_t - r_t) + (1-\\rho_l)l_{t-1}$$\n",
    "$$b_t=  \\rho_b(l_t - l_{t-1}) + (1-\\rho_b)\\theta{b_{t-1}}$$\n",
    "$$s_{t+m} =  \\rho_s(y_t - l_t - r_t) + (1-\\rho_s)s_t$$\n",
    "$$r_t =  \\Sigma_{j}\\beta_j x_{jt}$$\n",
    "\n",
    "There are a few choices of $D(t)$ as a global trend, such as linear, log-linear and logistic. Another feature of DLT is the regression component $r_t$. This serves the purpose of nowcasting or forecasting when exogenous regressors are known such as events and holidays.  Without losing generality, assume\n",
    "\n",
    "$$\\beta_j ~\\sim \\mathtt{Normal}(\\mu_j, \\sigma_j)$$\n",
    "\n",
    "where $\\mu_j = 0$  and $\\sigma_j = 1$ by default as a non-informative prior. There are more choices of priors for the regression component in the package."
   ]
  },
  {
   "cell_type": "markdown",
   "metadata": {},
   "source": [
    "In orbit, we have three different wrappers for DLT models, `DLTMAP`, `DLTAggregated` and  `DLTFull`"
   ]
  },
  {
   "cell_type": "markdown",
   "metadata": {},
   "source": [
    "### DLTMAP"
   ]
  },
  {
   "cell_type": "markdown",
   "metadata": {},
   "source": [
    "DLT model for MAP (Maximum a Posteriori) prediction"
   ]
  },
  {
   "cell_type": "code",
   "execution_count": 11,
   "metadata": {
    "ExecuteTime": {
     "end_time": "2021-08-09T18:30:16.447321Z",
     "start_time": "2021-08-09T18:30:16.411174Z"
    }
   },
   "outputs": [],
   "source": [
    "dlt = DLT(response_col=RESPONSE_COL,\n",
    "          date_col=DATE_COL,\n",
    "          estimator='stan-map',\n",
    "          seasonality=52,\n",
    "          seed=8888)"
   ]
  },
  {
   "cell_type": "code",
   "execution_count": 12,
   "metadata": {
    "ExecuteTime": {
     "end_time": "2021-08-09T18:30:16.847532Z",
     "start_time": "2021-08-09T18:30:16.694086Z"
    },
    "scrolled": true,
    "tags": []
   },
   "outputs": [
    {
     "name": "stderr",
     "output_type": "stream",
     "text": [
      "INFO:pystan:COMPILING THE C++ CODE FOR MODEL anon_model_ca8c74ded8cbccce6fb4db47bec54444 NOW.\n"
     ]
    },
    {
     "data": {
      "text/plain": [
       "<orbit.forecaster.map.MAPForecaster at 0x14749ac50>"
      ]
     },
     "execution_count": 12,
     "metadata": {},
     "output_type": "execute_result"
    }
   ],
   "source": [
    "dlt.fit(df=train_df)"
   ]
  },
  {
   "cell_type": "code",
   "execution_count": 15,
   "metadata": {
    "ExecuteTime": {
     "end_time": "2021-08-09T18:21:12.134976Z",
     "start_time": "2021-08-09T18:21:12.080081Z"
    }
   },
   "outputs": [
    {
     "name": "stderr",
     "output_type": "stream",
     "text": [
      "[autoreload of orbit.template.lgt failed: Traceback (most recent call last):\n",
      "  File \"/Users/edwinng/work/venv/orbit37/lib/python3.7/site-packages/IPython/extensions/autoreload.py\", line 245, in check\n",
      "    superreload(m, reload, self.old_objects)\n",
      "  File \"/Users/edwinng/work/venv/orbit37/lib/python3.7/site-packages/IPython/extensions/autoreload.py\", line 410, in superreload\n",
      "    update_generic(old_obj, new_obj)\n",
      "  File \"/Users/edwinng/work/venv/orbit37/lib/python3.7/site-packages/IPython/extensions/autoreload.py\", line 347, in update_generic\n",
      "    update(a, b)\n",
      "  File \"/Users/edwinng/work/venv/orbit37/lib/python3.7/site-packages/IPython/extensions/autoreload.py\", line 302, in update_class\n",
      "    if update_generic(old_obj, new_obj): continue\n",
      "  File \"/Users/edwinng/work/venv/orbit37/lib/python3.7/site-packages/IPython/extensions/autoreload.py\", line 347, in update_generic\n",
      "    update(a, b)\n",
      "  File \"/Users/edwinng/work/venv/orbit37/lib/python3.7/site-packages/IPython/extensions/autoreload.py\", line 266, in update_function\n",
      "    setattr(old, name, getattr(new, name))\n",
      "ValueError: set_dynamic_attributes() requires a code object with 0 free vars, not 1\n",
      "]\n"
     ]
    },
    {
     "data": {
      "text/html": [
       "<div>\n",
       "<style scoped>\n",
       "    .dataframe tbody tr th:only-of-type {\n",
       "        vertical-align: middle;\n",
       "    }\n",
       "\n",
       "    .dataframe tbody tr th {\n",
       "        vertical-align: top;\n",
       "    }\n",
       "\n",
       "    .dataframe thead th {\n",
       "        text-align: right;\n",
       "    }\n",
       "</style>\n",
       "<table border=\"1\" class=\"dataframe\">\n",
       "  <thead>\n",
       "    <tr style=\"text-align: right;\">\n",
       "      <th></th>\n",
       "      <th>week</th>\n",
       "      <th>prediction</th>\n",
       "      <th>trend</th>\n",
       "      <th>seasonality</th>\n",
       "      <th>regression</th>\n",
       "    </tr>\n",
       "  </thead>\n",
       "  <tbody>\n",
       "    <tr>\n",
       "      <th>0</th>\n",
       "      <td>2017-07-02</td>\n",
       "      <td>259540.116833</td>\n",
       "      <td>219913.518121</td>\n",
       "      <td>39626.598713</td>\n",
       "      <td>0.0</td>\n",
       "    </tr>\n",
       "    <tr>\n",
       "      <th>1</th>\n",
       "      <td>2017-07-09</td>\n",
       "      <td>301005.671809</td>\n",
       "      <td>219913.518162</td>\n",
       "      <td>81092.153647</td>\n",
       "      <td>0.0</td>\n",
       "    </tr>\n",
       "    <tr>\n",
       "      <th>2</th>\n",
       "      <td>2017-07-16</td>\n",
       "      <td>246518.715560</td>\n",
       "      <td>219913.518203</td>\n",
       "      <td>26605.197357</td>\n",
       "      <td>0.0</td>\n",
       "    </tr>\n",
       "    <tr>\n",
       "      <th>3</th>\n",
       "      <td>2017-07-23</td>\n",
       "      <td>193437.962241</td>\n",
       "      <td>219913.518244</td>\n",
       "      <td>-26475.556003</td>\n",
       "      <td>0.0</td>\n",
       "    </tr>\n",
       "    <tr>\n",
       "      <th>4</th>\n",
       "      <td>2017-07-30</td>\n",
       "      <td>172751.853460</td>\n",
       "      <td>219913.518285</td>\n",
       "      <td>-47161.664825</td>\n",
       "      <td>0.0</td>\n",
       "    </tr>\n",
       "  </tbody>\n",
       "</table>\n",
       "</div>"
      ],
      "text/plain": [
       "        week     prediction          trend   seasonality  regression\n",
       "0 2017-07-02  259540.116833  219913.518121  39626.598713         0.0\n",
       "1 2017-07-09  301005.671809  219913.518162  81092.153647         0.0\n",
       "2 2017-07-16  246518.715560  219913.518203  26605.197357         0.0\n",
       "3 2017-07-23  193437.962241  219913.518244 -26475.556003         0.0\n",
       "4 2017-07-30  172751.853460  219913.518285 -47161.664825         0.0"
      ]
     },
     "execution_count": 15,
     "metadata": {},
     "output_type": "execute_result"
    }
   ],
   "source": [
    "predicted_df = dlt.predict(df=test_df, decompose=True)\n",
    "predicted_df.head()"
   ]
  },
  {
   "cell_type": "code",
   "execution_count": 16,
   "metadata": {
    "ExecuteTime": {
     "end_time": "2021-08-09T18:21:20.866068Z",
     "start_time": "2021-08-09T18:21:20.536192Z"
    }
   },
   "outputs": [
    {
     "data": {
      "image/png": "[encoded data removed]",
      "text/plain": [
       "<Figure size 1600x800 with 1 Axes>"
      ]
     },
     "metadata": {},
     "output_type": "display_data"
    }
   ],
   "source": [
    "_ = plot_predicted_data(training_actual_df=train_df,\n",
    "                        predicted_df=predicted_df,\n",
    "                        date_col=DATE_COL,\n",
    "                        actual_col=RESPONSE_COL,\n",
    "                        test_actual_df=test_df,\n",
    "                        title='Prediction with DLTMAP Model')"
   ]
  },
  {
   "cell_type": "markdown",
   "metadata": {},
   "source": [
    "### DLTFull"
   ]
  },
  {
   "cell_type": "markdown",
   "metadata": {},
   "source": [
    "LGT model for full prediction. In full prediction, the prediction occurs as a function of each parameter posterior sample, and the prediction results are aggregated after prediction. Prediction will always return the median (aka 50th percentile) along with any additional percentiles that are specified."
   ]
  },
  {
   "cell_type": "code",
   "execution_count": null,
   "metadata": {
    "ExecuteTime": {
     "end_time": "2021-08-09T18:22:35.006319Z",
     "start_time": "2021-08-09T18:22:34.970823Z"
    }
   },
   "outputs": [],
   "source": [
    "dlt = DLT(response_col=RESPONSE_COL,\n",
    "          date_col=DATE_COL,\n",
    "          estimator='stan-mcmc',\n",
    "          seasonality=52,\n",
    "          seed=8888)"
   ]
  },
  {
   "cell_type": "code",
   "execution_count": null,
   "metadata": {
    "ExecuteTime": {
     "end_time": "2021-08-09T18:25:07.394680Z",
     "start_time": "2021-08-09T18:25:03.247672Z"
    },
    "jupyter": {
     "outputs_hidden": true
    },
    "tags": []
   },
   "outputs": [],
   "source": [
    "dlt.fit(df=train_df, point_method=None)"
   ]
  },
  {
   "cell_type": "code",
   "execution_count": null,
   "metadata": {
    "ExecuteTime": {
     "end_time": "2021-08-09T18:25:07.482758Z",
     "start_time": "2021-08-09T18:25:07.397361Z"
    }
   },
   "outputs": [],
   "source": [
    "predicted_df = dlt.predict(df=test_df, decompose=True)"
   ]
  },
  {
   "cell_type": "code",
   "execution_count": null,
   "metadata": {
    "ExecuteTime": {
     "end_time": "2021-08-09T18:25:07.532369Z",
     "start_time": "2021-08-09T18:25:07.485173Z"
    }
   },
   "outputs": [],
   "source": [
    "predicted_df.tail()"
   ]
  },
  {
   "cell_type": "code",
   "execution_count": null,
   "metadata": {
    "ExecuteTime": {
     "end_time": "2021-08-09T18:25:07.878326Z",
     "start_time": "2021-08-09T18:25:07.534420Z"
    }
   },
   "outputs": [],
   "source": [
    "_ = plot_predicted_data(training_actual_df=train_df,\n",
    "                        predicted_df=predicted_df,\n",
    "                        date_col=DATE_COL,\n",
    "                        actual_col=RESPONSE_COL,\n",
    "                        test_actual_df=test_df,\n",
    "                        title='Prediction with DLTFull Model')"
   ]
  },
  {
   "cell_type": "markdown",
   "metadata": {},
   "source": [
    "### DLTAggregated"
   ]
  },
  {
   "cell_type": "markdown",
   "metadata": {},
   "source": [
    "DLT model for aggregated posterior prediction. In aggregated prediction, the parameter posterior samples are reduced using `aggregate_method ({ 'mean', 'median' })` before performing a single prediction."
   ]
  },
  {
   "cell_type": "code",
   "execution_count": null,
   "metadata": {
    "ExecuteTime": {
     "end_time": "2021-08-09T18:25:57.900574Z",
     "start_time": "2021-08-09T18:25:57.865599Z"
    }
   },
   "outputs": [],
   "source": [
    "dlt = DLT(response_col=RESPONSE_COL,\n",
    "           date_col=DATE_COL,\n",
    "           estimator='stan-mcmc',\n",
    "           seasonality=52,\n",
    "           seed=8888)"
   ]
  },
  {
   "cell_type": "code",
   "execution_count": null,
   "metadata": {
    "ExecuteTime": {
     "end_time": "2021-08-09T18:26:02.189608Z",
     "start_time": "2021-08-09T18:25:58.192657Z"
    },
    "jupyter": {
     "outputs_hidden": true
    },
    "tags": []
   },
   "outputs": [],
   "source": [
    "dlt.fit(df=train_df, point_method='mean')"
   ]
  },
  {
   "cell_type": "code",
   "execution_count": null,
   "metadata": {
    "ExecuteTime": {
     "end_time": "2021-08-09T18:26:21.751987Z",
     "start_time": "2021-08-09T18:26:21.699392Z"
    }
   },
   "outputs": [],
   "source": [
    "predicted_df = dlt.predict(df=test_df, decompose=True)"
   ]
  },
  {
   "cell_type": "code",
   "execution_count": null,
   "metadata": {
    "ExecuteTime": {
     "end_time": "2021-08-09T18:26:22.368765Z",
     "start_time": "2021-08-09T18:26:22.326265Z"
    }
   },
   "outputs": [],
   "source": [
    "predicted_df.tail()"
   ]
  },
  {
   "cell_type": "code",
   "execution_count": null,
   "metadata": {
    "ExecuteTime": {
     "end_time": "2021-08-09T18:26:26.116771Z",
     "start_time": "2021-08-09T18:26:25.799210Z"
    }
   },
   "outputs": [],
   "source": [
    "_ = plot_predicted_data(training_actual_df=train_df,\n",
    "                        predicted_df=predicted_df,\n",
    "                        date_col=DATE_COL,\n",
    "                        actual_col=RESPONSE_COL,\n",
    "                        test_actual_df=test_df,\n",
    "                        title='Prediction with DLTAggregated Model')"
   ]
  },
  {
   "cell_type": "markdown",
   "metadata": {},
   "source": [
    "## DLT Model with Global Trend"
   ]
  },
  {
   "cell_type": "markdown",
   "metadata": {},
   "source": [
    "The main differences between `DLT` and `LGT` are mainly:\n",
    "\n",
    "- It introduces a damped factor on local trend\n",
    "- It models global trend as a determinstic projection\n",
    "\n",
    "There are four options in modeling the `global trend` with the `global_trend_option` arguemnt:\n",
    "\n",
    "1. `linear`\n",
    "2. `loglinear`\n",
    "3. `logistic`\n",
    "4. `flat`\n",
    "\n",
    "The behavior of these three options will depend on the condition of `is_multiplicative` as well.  Below, we only show cases with condition when `is_multiplicative` as `True` since it is the default."
   ]
  },
  {
   "cell_type": "markdown",
   "metadata": {},
   "source": [
    "### Data"
   ]
  },
  {
   "cell_type": "markdown",
   "metadata": {},
   "source": [
    "Instead of splitting the data into train and test. We will use the full data set to train and simulate the multiplicative prediction data in the following 4 years."
   ]
  },
  {
   "cell_type": "code",
   "execution_count": null,
   "metadata": {
    "ExecuteTime": {
     "end_time": "2021-08-09T18:26:39.363144Z",
     "start_time": "2021-08-09T18:26:39.326316Z"
    }
   },
   "outputs": [],
   "source": [
    "num_periods = 52 * 4\n",
    "\n",
    "freq = 7\n",
    "\n",
    "last_dt = (df[DATE_COL].dt.to_pydatetime())[-1]\n",
    "\n",
    "dts = [last_dt + timedelta(days=x * freq) for x in range(1, num_periods + 1)]\n",
    "\n",
    "future_df = pd.DataFrame(dts, columns=[DATE_COL])"
   ]
  },
  {
   "cell_type": "markdown",
   "metadata": {},
   "source": [
    "### Linear Trend"
   ]
  },
  {
   "cell_type": "markdown",
   "metadata": {},
   "source": [
    "In multiplicative model, the linear trend as default will be transformed as exponential growth/decay."
   ]
  },
  {
   "cell_type": "code",
   "execution_count": null,
   "metadata": {
    "ExecuteTime": {
     "end_time": "2021-08-09T18:27:02.338989Z",
     "start_time": "2021-08-09T18:27:02.301988Z"
    }
   },
   "outputs": [],
   "source": [
    "dlt = DLT(response_col=RESPONSE_COL,\n",
    "          date_col=DATE_COL,\n",
    "          estimator='stan-map',\n",
    "          seasonality=52,\n",
    "          seed=8888)"
   ]
  },
  {
   "cell_type": "code",
   "execution_count": null,
   "metadata": {
    "ExecuteTime": {
     "end_time": "2021-08-09T18:27:03.521480Z",
     "start_time": "2021-08-09T18:27:03.379873Z"
    },
    "jupyter": {
     "outputs_hidden": true
    },
    "tags": []
   },
   "outputs": [],
   "source": [
    "dlt.fit(df)"
   ]
  },
  {
   "cell_type": "code",
   "execution_count": null,
   "metadata": {
    "ExecuteTime": {
     "end_time": "2021-08-09T18:27:07.033920Z",
     "start_time": "2021-08-09T18:27:06.962317Z"
    }
   },
   "outputs": [],
   "source": [
    "predicted_df = dlt.predict(df=future_df, decompose=True)"
   ]
  },
  {
   "cell_type": "code",
   "execution_count": null,
   "metadata": {
    "ExecuteTime": {
     "end_time": "2021-08-09T18:27:08.991630Z",
     "start_time": "2021-08-09T18:27:08.725149Z"
    }
   },
   "outputs": [],
   "source": [
    "_ = plot_predicted_data(training_actual_df=df,\n",
    "                        predicted_df=predicted_df, \n",
    "                        date_col=DATE_COL,\n",
    "                        actual_col=RESPONSE_COL,\n",
    "                        title='DLT Model with Linear Trend')"
   ]
  },
  {
   "cell_type": "markdown",
   "metadata": {},
   "source": [
    "### Log-Linear Trend"
   ]
  },
  {
   "cell_type": "markdown",
   "metadata": {},
   "source": [
    "For users who want to maintain linear trend assumption in the multiplicative model, they can switch to `loglinear` global trend.  "
   ]
  },
  {
   "cell_type": "code",
   "execution_count": null,
   "metadata": {
    "ExecuteTime": {
     "end_time": "2021-08-09T18:27:45.893717Z",
     "start_time": "2021-08-09T18:27:45.858229Z"
    }
   },
   "outputs": [],
   "source": [
    "dlt_log = DLT(response_col=RESPONSE_COL,\n",
    "              date_col=DATE_COL,\n",
    "              estimator='stan-map',\n",
    "              seasonality=52,\n",
    "              seed=8888,\n",
    "              global_trend_option='loglinear')"
   ]
  },
  {
   "cell_type": "code",
   "execution_count": null,
   "metadata": {
    "ExecuteTime": {
     "end_time": "2021-08-09T18:27:46.808596Z",
     "start_time": "2021-08-09T18:27:46.672734Z"
    },
    "jupyter": {
     "outputs_hidden": true
    },
    "tags": []
   },
   "outputs": [],
   "source": [
    "dlt_log.fit(df=df)"
   ]
  },
  {
   "cell_type": "code",
   "execution_count": null,
   "metadata": {
    "ExecuteTime": {
     "end_time": "2021-08-09T18:27:48.526299Z",
     "start_time": "2021-08-09T18:27:48.457766Z"
    }
   },
   "outputs": [],
   "source": [
    "predicted_df_dlt_log = dlt_log.predict(df=future_df, decompose=True)"
   ]
  },
  {
   "cell_type": "code",
   "execution_count": null,
   "metadata": {
    "ExecuteTime": {
     "end_time": "2021-08-09T18:27:49.506267Z",
     "start_time": "2021-08-09T18:27:49.225468Z"
    }
   },
   "outputs": [],
   "source": [
    "_ = plot_predicted_data(training_actual_df=df,\n",
    "                        predicted_df=predicted_df_dlt_log, \n",
    "                        date_col=DATE_COL,\n",
    "                        actual_col=RESPONSE_COL,\n",
    "                        title='DLT Model with Log-Linear Trend')"
   ]
  },
  {
   "cell_type": "markdown",
   "metadata": {},
   "source": [
    "### Logistic Trend"
   ]
  },
  {
   "cell_type": "markdown",
   "metadata": {},
   "source": [
    "In case of modeling logistic growth/decay, user can switch to `logistic` in the `global_trend_option`. "
   ]
  },
  {
   "cell_type": "code",
   "execution_count": null,
   "metadata": {
    "ExecuteTime": {
     "end_time": "2021-08-09T18:28:11.747113Z",
     "start_time": "2021-08-09T18:28:11.710709Z"
    }
   },
   "outputs": [],
   "source": [
    "dlt_logit = DLT(response_col=RESPONSE_COL,\n",
    "                date_col=DATE_COL,\n",
    "                estimator='stan-map',\n",
    "                seasonality=52,\n",
    "                seed=8888,\n",
    "                global_trend_option='logistic')"
   ]
  },
  {
   "cell_type": "code",
   "execution_count": null,
   "metadata": {
    "ExecuteTime": {
     "end_time": "2021-08-09T18:28:12.334178Z",
     "start_time": "2021-08-09T18:28:12.198363Z"
    },
    "jupyter": {
     "outputs_hidden": true
    },
    "tags": []
   },
   "outputs": [],
   "source": [
    "dlt_logit.fit(df=df)"
   ]
  },
  {
   "cell_type": "code",
   "execution_count": null,
   "metadata": {
    "ExecuteTime": {
     "end_time": "2021-08-09T18:28:12.920800Z",
     "start_time": "2021-08-09T18:28:12.843553Z"
    }
   },
   "outputs": [],
   "source": [
    "predicted_df_dlt_logit = dlt_logit.predict(df=future_df, decompose=True)"
   ]
  },
  {
   "cell_type": "code",
   "execution_count": null,
   "metadata": {
    "ExecuteTime": {
     "end_time": "2021-08-09T18:28:14.268226Z",
     "start_time": "2021-08-09T18:28:13.989121Z"
    }
   },
   "outputs": [],
   "source": [
    "_ = plot_predicted_data(training_actual_df=df,\n",
    "                        predicted_df=predicted_df_dlt_logit, \n",
    "                        date_col=DATE_COL,\n",
    "                        actual_col=RESPONSE_COL,\n",
    "                        title='DLT Model with Log-Linear Trend')"
   ]
  },
  {
   "cell_type": "markdown",
   "metadata": {},
   "source": [
    "### Flat Trend"
   ]
  },
  {
   "cell_type": "code",
   "execution_count": null,
   "metadata": {
    "ExecuteTime": {
     "end_time": "2021-08-09T18:28:33.197819Z",
     "start_time": "2021-08-09T18:28:33.163083Z"
    }
   },
   "outputs": [],
   "source": [
    "dlt_logit = DLT(response_col=RESPONSE_COL,\n",
    "                date_col=DATE_COL,\n",
    "                estimator='stan-map',\n",
    "                seasonality=52,\n",
    "                seed=8888,\n",
    "                global_trend_option='flat')"
   ]
  },
  {
   "cell_type": "code",
   "execution_count": null,
   "metadata": {
    "ExecuteTime": {
     "end_time": "2021-08-09T18:28:33.584347Z",
     "start_time": "2021-08-09T18:28:33.499396Z"
    },
    "jupyter": {
     "outputs_hidden": true
    },
    "tags": []
   },
   "outputs": [],
   "source": [
    "dlt_logit.fit(df=df)"
   ]
  },
  {
   "cell_type": "code",
   "execution_count": null,
   "metadata": {
    "ExecuteTime": {
     "end_time": "2021-08-09T18:28:33.893071Z",
     "start_time": "2021-08-09T18:28:33.827499Z"
    }
   },
   "outputs": [],
   "source": [
    "predicted_df_dlt_logit = dlt_logit.predict(df=future_df, decompose=True)"
   ]
  },
  {
   "cell_type": "code",
   "execution_count": null,
   "metadata": {
    "ExecuteTime": {
     "end_time": "2021-08-09T18:28:34.484805Z",
     "start_time": "2021-08-09T18:28:34.202605Z"
    }
   },
   "outputs": [],
   "source": [
    "_ = plot_predicted_data(training_actual_df=df,\n",
    "                        predicted_df=predicted_df_dlt_logit, \n",
    "                        date_col=DATE_COL,\n",
    "                        actual_col=RESPONSE_COL,\n",
    "                        title='DLT Model with Flat Trend')"
   ]
  },
  {
   "cell_type": "markdown",
   "metadata": {},
   "source": [
    "More details for each method are available in the docstrings and also here: https://orbit-ml.readthedocs.io/en/latest/orbit.models.html#module-orbit.models.dlt"
   ]
  }
 ],
 "metadata": {
  "kernelspec": {
   "display_name": "Python 3",
   "language": "python",
   "name": "python3"
  },
  "language_info": {
   "codemirror_mode": {
    "name": "ipython",
    "version": 3
   },
   "file_extension": ".py",
   "mimetype": "text/x-python",
   "name": "python",
   "nbconvert_exporter": "python",
   "pygments_lexer": "ipython3",
   "version": "3.7.8"
  },
  "toc": {
   "base_numbering": 1,
   "nav_menu": {},
   "number_sections": true,
   "sideBar": true,
   "skip_h1_title": true,
   "title_cell": "Table of Contents",
   "title_sidebar": "Contents",
   "toc_cell": false,
   "toc_position": {},
   "toc_section_display": true,
   "toc_window_display": true
  }
 },
 "nbformat": 4,
 "nbformat_minor": 4
}
