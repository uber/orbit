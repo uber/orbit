{
 "cells": [
  {
   "cell_type": "code",
   "execution_count": 1,
   "metadata": {},
   "outputs": [],
   "source": [
    "from orbit.models.base_model import BaseModel\n",
    "from orbit.models.ets import BaseETS, ETSFull, ETSAggregated, ETSMAP\n",
    "from orbit.models.dlt import BaseDLT, DLTFull, DLTAggregated, DLTMAP\n",
    "from orbit.models.lgt import BaseLGT, LGTFull, LGTAggregated, LGTMAP\n",
    "from orbit.models.base_model import BaseModel\n",
    "from orbit.estimators.stan_estimator import StanEstimator"
   ]
  },
  {
   "cell_type": "code",
   "execution_count": 2,
   "metadata": {},
   "outputs": [
    {
     "name": "stdout",
     "output_type": "stream",
     "text": [
      "Abstract StanEstimator with shared args for all StanEstimator child classes\n",
      "\n",
      "Parameters\n",
      "----------\n",
      "seed : int\n",
      "    seed number for initial random values\n",
      "verbose : bool\n",
      "    If True, output all stan diagnostics messages\n",
      "num_warmup : int\n",
      "    Number of samples to discard, default 900\n",
      "num_sample : int\n",
      "    Number of samples to return, default 100\n",
      "chains : int\n",
      "    Number of chains in stan sampler, default 4\n",
      "cores : int\n",
      "    Number of cores for parallel processing, default max(cores, multiprocessing.cpu_count())\n",
      "algorithm : str\n",
      "    If None, default to Stan defaults\n",
      "kwargs\n",
      "    Additional `BaseEstimator` class args\n"
     ]
    }
   ],
   "source": [
    "print(StanEstimator.__doc__)"
   ]
  },
  {
   "cell_type": "code",
   "execution_count": 3,
   "metadata": {},
   "outputs": [
    {
     "name": "stdout",
     "output_type": "stream",
     "text": [
      "Base model class\n",
      "\n",
      "`BaseModel` will instantiate an estimator class of `estimator_type`.\n",
      "\n",
      "Each model defines its own `_supported_estimator_types` to determine if\n",
      "the provided `estimator_type` is supported for that particular model.\n",
      "\n",
      "Parameters\n",
      "----------\n",
      "estimator_type : orbit.BaseEstimator\n",
      "    Any subclass of `orbit.BaseEstimator`\n"
     ]
    }
   ],
   "source": [
    "print(BaseModel.__doc__)"
   ]
  },
  {
   "cell_type": "code",
   "execution_count": 4,
   "metadata": {},
   "outputs": [
    {
     "name": "stdout",
     "output_type": "stream",
     "text": [
      "Base model class\n",
      "\n",
      "`BaseModel` will instantiate an estimator class of `estimator_type`.\n",
      "\n",
      "Each model defines its own `_supported_estimator_types` to determine if\n",
      "the provided `estimator_type` is supported for that particular model.\n",
      "\n",
      "Parameters\n",
      "----------\n",
      "estimator_type : orbit.BaseEstimator\n",
      "    Any subclass of `orbit.BaseEstimator`\n",
      "response_col : str\n",
      "    Name of response variable column, default 'y'\n",
      "date_col : str\n",
      "    Name of date variable column, default 'ds'\n",
      "seasonality : int\n",
      "    Length of seasonality\n",
      "seasonality_sm_input : float\n",
      "    float value between [0, 1], applicable only if `seasonality` > 1. A larger value puts\n",
      "    more weight on the current seasonality.\n",
      "    If None, the model will estimate this value.\n",
      "level_sm_input : float\n",
      "    float value between [0, 1]. A larger value puts more weight on the current level.\n",
      "    If None, the model will estimate this value.\n",
      "\n",
      "Other Parameters\n",
      "----------------\n",
      "**kwargs: additional arguments passed into orbit.estimators.stan_estimator or orbit.estimators.pyro_estimator\n"
     ]
    }
   ],
   "source": [
    "print(BaseETS.__doc__)"
   ]
  },
  {
   "cell_type": "code",
   "execution_count": 5,
   "metadata": {},
   "outputs": [
    {
     "data": {
      "text/plain": [
       "\"Concrete ETS model for full prediction\\n\\nIn full prediction, the prediction occurs as a function of each parameter posterior sample,\\nand the prediction results are aggregated after prediction. Prediction will\\nalways return the median (aka 50th percentile) along with any additional percentiles that\\nare specified.\\n\\nParameters\\n----------\\nestimator_type : orbit.BaseEstimator\\n    Any subclass of `orbit.BaseEstimator`\\nresponse_col : str\\n    Name of response variable column, default 'y'\\ndate_col : str\\n    Name of date variable column, default 'ds'\\nseasonality : int\\n    Length of seasonality\\nseasonality_sm_input : float\\n    float value between [0, 1], applicable only if `seasonality` > 1. A larger value puts\\n    more weight on the current seasonality.\\n    If None, the model will estimate this value.\\nlevel_sm_input : float\\n    float value between [0, 1]. A larger value puts more weight on the current level.\\n    If None, the model will estimate this value.\\nn_bootstrap_draws : int\\n    Number of bootstrap samples to draw from the initial MCMC or VI posterior samples.\\n    If None, use the original posterior draws.\\nprediction_percentiles : list\\n    List of integers of prediction percentiles that should be returned on prediction. To avoid reporting any\\n    confident intervals, pass an empty list\\n\\nOther Parameters\\n----------------\\n**kwargs: additional arguments passed into orbit.estimators.stan_estimator or orbit.estimators.pyro_estimator\""
      ]
     },
     "execution_count": 5,
     "metadata": {},
     "output_type": "execute_result"
    }
   ],
   "source": [
    "ETSFull.__doc__"
   ]
  },
  {
   "cell_type": "code",
   "execution_count": 6,
   "metadata": {},
   "outputs": [
    {
     "name": "stdout",
     "output_type": "stream",
     "text": [
      "Concrete ETS model for full prediction\n",
      "\n",
      "In full prediction, the prediction occurs as a function of each parameter posterior sample,\n",
      "and the prediction results are aggregated after prediction. Prediction will\n",
      "always return the median (aka 50th percentile) along with any additional percentiles that\n",
      "are specified.\n",
      "\n",
      "Parameters\n",
      "----------\n",
      "estimator_type : orbit.BaseEstimator\n",
      "    Any subclass of `orbit.BaseEstimator`\n",
      "response_col : str\n",
      "    Name of response variable column, default 'y'\n",
      "date_col : str\n",
      "    Name of date variable column, default 'ds'\n",
      "seasonality : int\n",
      "    Length of seasonality\n",
      "seasonality_sm_input : float\n",
      "    float value between [0, 1], applicable only if `seasonality` > 1. A larger value puts\n",
      "    more weight on the current seasonality.\n",
      "    If None, the model will estimate this value.\n",
      "level_sm_input : float\n",
      "    float value between [0, 1]. A larger value puts more weight on the current level.\n",
      "    If None, the model will estimate this value.\n",
      "n_bootstrap_draws : int\n",
      "    Number of bootstrap samples to draw from the initial MCMC or VI posterior samples.\n",
      "    If None, use the original posterior draws.\n",
      "prediction_percentiles : list\n",
      "    List of integers of prediction percentiles that should be returned on prediction. To avoid reporting any\n",
      "    confident intervals, pass an empty list\n",
      "\n",
      "Other Parameters\n",
      "----------------\n",
      "**kwargs: additional arguments passed into orbit.estimators.stan_estimator or orbit.estimators.pyro_estimator\n"
     ]
    }
   ],
   "source": [
    "print(ETSFull.__doc__)"
   ]
  },
  {
   "cell_type": "code",
   "execution_count": 7,
   "metadata": {},
   "outputs": [
    {
     "name": "stdout",
     "output_type": "stream",
     "text": [
      "Concrete ETS model for MAP (Maximum a Posteriori) prediction\n",
      "\n",
      "Similar to `ETSAggregated` but prediction is based on Maximum a Posteriori (aka Mode)\n",
      "of the posterior.\n",
      "\n",
      "This model only supports MAP estimating `estimator_type`s\n",
      "\n",
      "Parameters\n",
      "----------\n",
      "estimator_type : orbit.BaseEstimator\n",
      "    Any subclass of `orbit.BaseEstimator`\n",
      "response_col : str\n",
      "    Name of response variable column, default 'y'\n",
      "date_col : str\n",
      "    Name of date variable column, default 'ds'\n",
      "seasonality : int\n",
      "    Length of seasonality\n",
      "seasonality_sm_input : float\n",
      "    float value between [0, 1], applicable only if `seasonality` > 1. A larger value puts\n",
      "    more weight on the current seasonality.\n",
      "    If None, the model will estimate this value.\n",
      "level_sm_input : float\n",
      "    float value between [0, 1]. A larger value puts more weight on the current level.\n",
      "    If None, the model will estimate this value.\n",
      "\n",
      "Other Parameters\n",
      "----------------\n",
      "**kwargs: additional arguments passed into orbit.estimators.stan_estimator or orbit.estimators.pyro_estimator\n"
     ]
    }
   ],
   "source": [
    "print(ETSMAP.__doc__)"
   ]
  },
  {
   "cell_type": "code",
   "execution_count": 8,
   "metadata": {},
   "outputs": [
    {
     "name": "stdout",
     "output_type": "stream",
     "text": [
      "Concrete ETS model for aggregated posterior prediction\n",
      "\n",
      "In aggregated prediction, the parameter posterior samples are reduced using `aggregate_method`\n",
      "before performing a single prediction.\n",
      "\n",
      "Parameters\n",
      "----------\n",
      "estimator_type : orbit.BaseEstimator\n",
      "    Any subclass of `orbit.BaseEstimator`\n",
      "response_col : str\n",
      "    Name of response variable column, default 'y'\n",
      "date_col : str\n",
      "    Name of date variable column, default 'ds'\n",
      "seasonality : int\n",
      "    Length of seasonality\n",
      "seasonality_sm_input : float\n",
      "    float value between [0, 1], applicable only if `seasonality` > 1. A larger value puts\n",
      "    more weight on the current seasonality.\n",
      "    If None, the model will estimate this value.\n",
      "level_sm_input : float\n",
      "    float value between [0, 1]. A larger value puts more weight on the current level.\n",
      "    If None, the model will estimate this value.\n",
      "aggregate_method : { 'mean', 'median' }\n",
      "    Method used to reduce parameter posterior samples\n",
      "\n",
      "Other Parameters\n",
      "----------------\n",
      "**kwargs: additional arguments passed into orbit.estimators.stan_estimator or orbit.estimators.pyro_estimator\n"
     ]
    }
   ],
   "source": [
    "print(ETSAggregated.__doc__)"
   ]
  },
  {
   "cell_type": "code",
   "execution_count": 9,
   "metadata": {},
   "outputs": [
    {
     "name": "stdout",
     "output_type": "stream",
     "text": [
      "Base DLT model object with shared functionality for Full, Aggregated, and MAP methods\n",
      "\n",
      "The model arguments are the same as `BaseLGT` with some additional arguments\n",
      "\n",
      "Parameters\n",
      "----------\n",
      "estimator_type : orbit.BaseEstimator\n",
      "    Any subclass of `orbit.BaseEstimator`\n",
      "response_col : str\n",
      "    Name of response variable column, default 'y'\n",
      "date_col : str\n",
      "    Name of date variable column, default 'ds'\n",
      "seasonality : int\n",
      "    Length of seasonality\n",
      "seasonality_sm_input : float\n",
      "    float value between [0, 1], applicable only if `seasonality` > 1. A larger value puts\n",
      "    more weight on the current seasonality.\n",
      "    If None, the model will estimate this value.\n",
      "level_sm_input : float\n",
      "    float value between [0, 1]. A larger value puts more weight on the current level.\n",
      "    If None, the model will estimate this value.\n",
      "regressor_col : list\n",
      "    Names of regressor columns, if any\n",
      "regressor_sign :  list\n",
      "    list with values { '+', '-', '=' } such that\n",
      "    '+' indicates regressor coefficient estimates are constrained to [0, inf).\n",
      "    '-' indicates regressor coefficient estimates are constrained to (-inf, 0].\n",
      "    '=' indicates regressor coefficient estimates can be any value between (-inf, inf).\n",
      "    The length of `regressor_sign` must be the same length as `regressor_col`. If None,\n",
      "    all elements of list will be set to '='.\n",
      "regressor_beta_prior : list\n",
      "    list of prior float values for regressor coefficient betas. The length of `regressor_beta_prior`\n",
      "    must be the same length as `regressor_col`. If None, use non-informative priors.\n",
      "regressor_sigma_prior : list\n",
      "    list of prior float values for regressor coefficient sigmas. The length of `regressor_sigma_prior`\n",
      "    must be the same length as `regressor_col`. If None, use non-informative priors.\n",
      "regression_penalty : { 'fixed_ridge', 'lasso', 'auto_ridge' }\n",
      "    regression penalty method\n",
      "lasso_scale : float\n",
      "    float value between [0, 1], applicable only if `regression_penalty` == 'lasso'\n",
      "auto_ridge_scale : float\n",
      "    float value between [0, 1], applicable only if `regression_penalty` == 'auto_ridge'\n",
      "slope_sm_input : float\n",
      "    float value between [0, 1]. A larger value puts more weight on the current slope.\n",
      "    If None, the model will estimate this value.\n",
      "period : int\n",
      "    Used to set `time_delta` as `1 / max(period, seasonality)`. If None and no seasonality,\n",
      "    then `time_delta` == 1\n",
      "damped_factor : float\n",
      "    Hyperparameter float value between [0, 1]. A smaller value further dampens the previous\n",
      "    global trend value. Default, 0.8\n",
      "global_trend_option : { 'flat', 'linear', 'loglinear', 'logistic' }\n",
      "    Transformation function for the shape of the forecasted global trend.\n",
      "\n",
      "Other Parameters\n",
      "----------------\n",
      "**kwargs: additional arguments passed into orbit.estimators.stan_estimator or orbit.estimators.pyro_estimator\n",
      "\n",
      "See Also\n",
      "--------\n",
      ":class: `~orbit.models.lgt.BaseETS`\n"
     ]
    }
   ],
   "source": [
    "print(BaseDLT.__doc__)"
   ]
  },
  {
   "cell_type": "code",
   "execution_count": 10,
   "metadata": {},
   "outputs": [
    {
     "name": "stdout",
     "output_type": "stream",
     "text": [
      "Concrete DLT model for full prediction\n",
      "\n",
      "The model arguments are the same as `ETSFull` with some additional arguments\n",
      "\n",
      "Parameters\n",
      "----------\n",
      "estimator_type : orbit.BaseEstimator\n",
      "    Any subclass of `orbit.BaseEstimator`\n",
      "response_col : str\n",
      "    Name of response variable column, default 'y'\n",
      "date_col : str\n",
      "    Name of date variable column, default 'ds'\n",
      "seasonality : int\n",
      "    Length of seasonality\n",
      "seasonality_sm_input : float\n",
      "    float value between [0, 1], applicable only if `seasonality` > 1. A larger value puts\n",
      "    more weight on the current seasonality.\n",
      "    If None, the model will estimate this value.\n",
      "level_sm_input : float\n",
      "    float value between [0, 1]. A larger value puts more weight on the current level.\n",
      "    If None, the model will estimate this value.\n",
      "regressor_col : list\n",
      "    Names of regressor columns, if any\n",
      "regressor_sign :  list\n",
      "    list with values { '+', '-', '=' } such that\n",
      "    '+' indicates regressor coefficient estimates are constrained to [0, inf).\n",
      "    '-' indicates regressor coefficient estimates are constrained to (-inf, 0].\n",
      "    '=' indicates regressor coefficient estimates can be any value between (-inf, inf).\n",
      "    The length of `regressor_sign` must be the same length as `regressor_col`. If None,\n",
      "    all elements of list will be set to '='.\n",
      "regressor_beta_prior : list\n",
      "    list of prior float values for regressor coefficient betas. The length of `regressor_beta_prior`\n",
      "    must be the same length as `regressor_col`. If None, use non-informative priors.\n",
      "regressor_sigma_prior : list\n",
      "    list of prior float values for regressor coefficient sigmas. The length of `regressor_sigma_prior`\n",
      "    must be the same length as `regressor_col`. If None, use non-informative priors.\n",
      "regression_penalty : { 'fixed_ridge', 'lasso', 'auto_ridge' }\n",
      "    regression penalty method\n",
      "lasso_scale : float\n",
      "    float value between [0, 1], applicable only if `regression_penalty` == 'lasso'\n",
      "auto_ridge_scale : float\n",
      "    float value between [0, 1], applicable only if `regression_penalty` == 'auto_ridge'\n",
      "slope_sm_input : float\n",
      "    float value between [0, 1]. A larger value puts more weight on the current slope.\n",
      "    If None, the model will estimate this value.\n",
      "period : int\n",
      "    Used to set `time_delta` as `1 / max(period, seasonality)`. If None and no seasonality,\n",
      "    then `time_delta` == 1\n",
      "damped_factor : float\n",
      "    Hyperparameter float value between [0, 1]. A smaller value further dampens the previous\n",
      "    global trend value. Default, 0.8\n",
      "global_trend_option : { 'flat', 'linear', 'loglinear', 'logistic' }\n",
      "    Transformation function for the shape of the forecasted global trend.\n",
      "n_bootstrap_draws : int\n",
      "    Number of bootstrap samples to draw from the initial MCMC or VI posterior samples.\n",
      "    If None, use the original posterior draws.\n",
      "prediction_percentiles : list\n",
      "    List of integers of prediction percentiles that should be returned on prediction. To avoid reporting any\n",
      "    confident intervals, pass an empty list\n",
      "\n",
      "Other Parameters\n",
      "----------------\n",
      "**kwargs: additional arguments passed into orbit.estimators.stan_estimator or orbit.estimators.pyro_estimator\n",
      "\n",
      "See Also\n",
      "--------\n",
      ":class: `~orbit.models.lgt.BaseETS`\n",
      "orbit.models.lgt.ETSFull\n"
     ]
    }
   ],
   "source": [
    "print(DLTFull.__doc__)"
   ]
  },
  {
   "cell_type": "code",
   "execution_count": 11,
   "metadata": {},
   "outputs": [
    {
     "name": "stdout",
     "output_type": "stream",
     "text": [
      "Concrete DLT model for aggregated posterior prediction\n",
      "\n",
      "The model arguments are the same as `ETSAggregated` with some additional arguments\n",
      "\n",
      "Parameters\n",
      "----------\n",
      "estimator_type : orbit.BaseEstimator\n",
      "    Any subclass of `orbit.BaseEstimator`\n",
      "response_col : str\n",
      "    Name of response variable column, default 'y'\n",
      "date_col : str\n",
      "    Name of date variable column, default 'ds'\n",
      "seasonality : int\n",
      "    Length of seasonality\n",
      "seasonality_sm_input : float\n",
      "    float value between [0, 1], applicable only if `seasonality` > 1. A larger value puts\n",
      "    more weight on the current seasonality.\n",
      "    If None, the model will estimate this value.\n",
      "level_sm_input : float\n",
      "    float value between [0, 1]. A larger value puts more weight on the current level.\n",
      "    If None, the model will estimate this value.\n",
      "regressor_col : list\n",
      "    Names of regressor columns, if any\n",
      "regressor_sign :  list\n",
      "    list with values { '+', '-', '=' } such that\n",
      "    '+' indicates regressor coefficient estimates are constrained to [0, inf).\n",
      "    '-' indicates regressor coefficient estimates are constrained to (-inf, 0].\n",
      "    '=' indicates regressor coefficient estimates can be any value between (-inf, inf).\n",
      "    The length of `regressor_sign` must be the same length as `regressor_col`. If None,\n",
      "    all elements of list will be set to '='.\n",
      "regressor_beta_prior : list\n",
      "    list of prior float values for regressor coefficient betas. The length of `regressor_beta_prior`\n",
      "    must be the same length as `regressor_col`. If None, use non-informative priors.\n",
      "regressor_sigma_prior : list\n",
      "    list of prior float values for regressor coefficient sigmas. The length of `regressor_sigma_prior`\n",
      "    must be the same length as `regressor_col`. If None, use non-informative priors.\n",
      "regression_penalty : { 'fixed_ridge', 'lasso', 'auto_ridge' }\n",
      "    regression penalty method\n",
      "lasso_scale : float\n",
      "    float value between [0, 1], applicable only if `regression_penalty` == 'lasso'\n",
      "auto_ridge_scale : float\n",
      "    float value between [0, 1], applicable only if `regression_penalty` == 'auto_ridge'\n",
      "slope_sm_input : float\n",
      "    float value between [0, 1]. A larger value puts more weight on the current slope.\n",
      "    If None, the model will estimate this value.\n",
      "period : int\n",
      "    Used to set `time_delta` as `1 / max(period, seasonality)`. If None and no seasonality,\n",
      "    then `time_delta` == 1\n",
      "damped_factor : float\n",
      "    Hyperparameter float value between [0, 1]. A smaller value further dampens the previous\n",
      "    global trend value. Default, 0.8\n",
      "global_trend_option : { 'flat', 'linear', 'loglinear', 'logistic' }\n",
      "    Transformation function for the shape of the forecasted global trend.\n",
      "aggregate_method : { 'mean', 'median' }\n",
      "    Method used to reduce parameter posterior samples\n",
      "\n",
      "Other Parameters\n",
      "----------------\n",
      "**kwargs: additional arguments passed into orbit.estimators.stan_estimator or orbit.estimators.pyro_estimator\n",
      "\n",
      "See Also\n",
      "--------\n",
      ":class: `~orbit.models.lgt.BaseETS`\n",
      "orbit.models.lgt.ETSAggregated\n"
     ]
    }
   ],
   "source": [
    "print(DLTAggregated.__doc__)"
   ]
  },
  {
   "cell_type": "code",
   "execution_count": 12,
   "metadata": {},
   "outputs": [
    {
     "name": "stdout",
     "output_type": "stream",
     "text": [
      "Concrete DLT model for MAP (Maximum a Posteriori) prediction\n",
      "\n",
      "The model arguments are the same as `ETSMAP` with some additional arguments\n",
      "\n",
      "Parameters\n",
      "----------\n",
      "estimator_type : orbit.BaseEstimator\n",
      "    Any subclass of `orbit.BaseEstimator`\n",
      "response_col : str\n",
      "    Name of response variable column, default 'y'\n",
      "date_col : str\n",
      "    Name of date variable column, default 'ds'\n",
      "seasonality : int\n",
      "    Length of seasonality\n",
      "seasonality_sm_input : float\n",
      "    float value between [0, 1], applicable only if `seasonality` > 1. A larger value puts\n",
      "    more weight on the current seasonality.\n",
      "    If None, the model will estimate this value.\n",
      "level_sm_input : float\n",
      "    float value between [0, 1]. A larger value puts more weight on the current level.\n",
      "    If None, the model will estimate this value.\n",
      "regressor_col : list\n",
      "    Names of regressor columns, if any\n",
      "regressor_sign :  list\n",
      "    list with values { '+', '-', '=' } such that\n",
      "    '+' indicates regressor coefficient estimates are constrained to [0, inf).\n",
      "    '-' indicates regressor coefficient estimates are constrained to (-inf, 0].\n",
      "    '=' indicates regressor coefficient estimates can be any value between (-inf, inf).\n",
      "    The length of `regressor_sign` must be the same length as `regressor_col`. If None,\n",
      "    all elements of list will be set to '='.\n",
      "regressor_beta_prior : list\n",
      "    list of prior float values for regressor coefficient betas. The length of `regressor_beta_prior`\n",
      "    must be the same length as `regressor_col`. If None, use non-informative priors.\n",
      "regressor_sigma_prior : list\n",
      "    list of prior float values for regressor coefficient sigmas. The length of `regressor_sigma_prior`\n",
      "    must be the same length as `regressor_col`. If None, use non-informative priors.\n",
      "regression_penalty : { 'fixed_ridge', 'lasso', 'auto_ridge' }\n",
      "    regression penalty method\n",
      "lasso_scale : float\n",
      "    float value between [0, 1], applicable only if `regression_penalty` == 'lasso'\n",
      "auto_ridge_scale : float\n",
      "    float value between [0, 1], applicable only if `regression_penalty` == 'auto_ridge'\n",
      "slope_sm_input : float\n",
      "    float value between [0, 1]. A larger value puts more weight on the current slope.\n",
      "    If None, the model will estimate this value.\n",
      "period : int\n",
      "    Used to set `time_delta` as `1 / max(period, seasonality)`. If None and no seasonality,\n",
      "    then `time_delta` == 1\n",
      "damped_factor : float\n",
      "    Hyperparameter float value between [0, 1]. A smaller value further dampens the previous\n",
      "    global trend value. Default, 0.8\n",
      "global_trend_option : { 'flat', 'linear', 'loglinear', 'logistic' }\n",
      "    Transformation function for the shape of the forecasted global trend.\n",
      "\n",
      "Other Parameters\n",
      "----------------\n",
      "**kwargs: additional arguments passed into orbit.estimators.stan_estimator or orbit.estimators.pyro_estimator\n",
      "\n",
      "See Also\n",
      "--------\n",
      ":class: `~orbit.models.lgt.BaseETS`\n",
      "orbit.models.lgt.ETSMAP\n"
     ]
    }
   ],
   "source": [
    "print(DLTMAP.__doc__)"
   ]
  },
  {
   "cell_type": "code",
   "execution_count": 13,
   "metadata": {},
   "outputs": [
    {
     "name": "stdout",
     "output_type": "stream",
     "text": [
      "Concrete ETS model for MAP (Maximum a Posteriori) prediction\n",
      "\n",
      "Similar to `ETSAggregated` but prediction is based on Maximum a Posteriori (aka Mode)\n",
      "of the posterior.\n",
      "\n",
      "This model only supports MAP estimating `estimator_type`s\n",
      "\n",
      "Parameters\n",
      "----------\n",
      "estimator_type : orbit.BaseEstimator\n",
      "    Any subclass of `orbit.BaseEstimator`\n",
      "response_col : str\n",
      "    Name of response variable column, default 'y'\n",
      "date_col : str\n",
      "    Name of date variable column, default 'ds'\n",
      "seasonality : int\n",
      "    Length of seasonality\n",
      "seasonality_sm_input : float\n",
      "    float value between [0, 1], applicable only if `seasonality` > 1. A larger value puts\n",
      "    more weight on the current seasonality.\n",
      "    If None, the model will estimate this value.\n",
      "level_sm_input : float\n",
      "    float value between [0, 1]. A larger value puts more weight on the current level.\n",
      "    If None, the model will estimate this value.\n",
      "\n",
      "Other Parameters\n",
      "----------------\n",
      "**kwargs: additional arguments passed into orbit.estimators.stan_estimator or orbit.estimators.pyro_estimator\n"
     ]
    }
   ],
   "source": [
    "print(ETSMAP.__doc__)"
   ]
  },
  {
   "cell_type": "code",
   "execution_count": 14,
   "metadata": {},
   "outputs": [
    {
     "name": "stdout",
     "output_type": "stream",
     "text": [
      "Base LGT model object with shared functionality for Full, Aggregated, and MAP methods\n",
      "\n",
      "Parameters\n",
      "----------\n",
      "estimator_type : orbit.BaseEstimator\n",
      "    Any subclass of `orbit.BaseEstimator`\n",
      "response_col : str\n",
      "    Name of response variable column, default 'y'\n",
      "date_col : str\n",
      "    Name of date variable column, default 'ds'\n",
      "seasonality : int\n",
      "    Length of seasonality\n",
      "seasonality_sm_input : float\n",
      "    float value between [0, 1], applicable only if `seasonality` > 1. A larger value puts\n",
      "    more weight on the current seasonality.\n",
      "    If None, the model will estimate this value.\n",
      "level_sm_input : float\n",
      "    float value between [0, 1]. A larger value puts more weight on the current level.\n",
      "    If None, the model will estimate this value.\n",
      "regressor_col : list\n",
      "    Names of regressor columns, if any\n",
      "regressor_sign :  list\n",
      "    list with values { '+', '-', '=' } such that\n",
      "    '+' indicates regressor coefficient estimates are constrained to [0, inf).\n",
      "    '-' indicates regressor coefficient estimates are constrained to (-inf, 0].\n",
      "    '=' indicates regressor coefficient estimates can be any value between (-inf, inf).\n",
      "    The length of `regressor_sign` must be the same length as `regressor_col`. If None,\n",
      "    all elements of list will be set to '='.\n",
      "regressor_beta_prior : list\n",
      "    list of prior float values for regressor coefficient betas. The length of `regressor_beta_prior`\n",
      "    must be the same length as `regressor_col`. If None, use non-informative priors.\n",
      "regressor_sigma_prior : list\n",
      "    list of prior float values for regressor coefficient sigmas. The length of `regressor_sigma_prior`\n",
      "    must be the same length as `regressor_col`. If None, use non-informative priors.\n",
      "regression_penalty : { 'fixed_ridge', 'lasso', 'auto_ridge' }\n",
      "    regression penalty method\n",
      "lasso_scale : float\n",
      "    float value between [0, 1], applicable only if `regression_penalty` == 'lasso'\n",
      "auto_ridge_scale : float\n",
      "    float value between [0, 1], applicable only if `regression_penalty` == 'auto_ridge'\n",
      "slope_sm_input : float\n",
      "    float value between [0, 1]. A larger value puts more weight on the current slope.\n",
      "    If None, the model will estimate this value.\n",
      "kwargs\n",
      "    To specify `estimator_type` or additional args for the specified `estimator_type`\n",
      "\n",
      "Other Parameters\n",
      "----------------\n",
      "**kwargs: additional arguments passed into orbit.estimators.stan_estimator or orbit.estimators.pyro_estimator\n",
      "\n",
      "See Also\n",
      "--------\n",
      ":class: `~orbit.models.lgt.BaseETS`\n"
     ]
    }
   ],
   "source": [
    "print(BaseLGT.__doc__)"
   ]
  },
  {
   "cell_type": "code",
   "execution_count": null,
   "metadata": {},
   "outputs": [],
   "source": []
  }
 ],
 "metadata": {
  "kernelspec": {
   "display_name": "orbit",
   "language": "python",
   "name": "orbit"
  },
  "language_info": {
   "codemirror_mode": {
    "name": "ipython",
    "version": 3
   },
   "file_extension": ".py",
   "mimetype": "text/x-python",
   "name": "python",
   "nbconvert_exporter": "python",
   "pygments_lexer": "ipython3",
   "version": "3.6.8"
  }
 },
 "nbformat": 4,
 "nbformat_minor": 4
}
