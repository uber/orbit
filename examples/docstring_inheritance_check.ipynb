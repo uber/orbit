{
 "cells": [
  {
   "cell_type": "code",
   "execution_count": 1,
   "metadata": {
    "ExecuteTime": {
     "end_time": "2021-07-13T22:32:12.265444Z",
     "start_time": "2021-07-13T22:32:07.053380Z"
    }
   },
   "outputs": [],
   "source": [
    "from orbit.models.ets import BaseETS, ETSFull, ETSAggregated, ETSMAP\n",
    "from orbit.models.dlt import BaseDLT, DLTFull, DLTAggregated, DLTMAP\n",
    "from orbit.models.lgt import BaseLGT, LGTFull, LGTAggregated, LGTMAP\n",
    "from orbit.models.ktrlite import KTRLiteMAP\n",
    "from orbit.models.template import BaseTemplate\n",
    "from orbit.estimators.stan_estimator import BaseEstimator, StanEstimator, StanEstimatorMCMC"
   ]
  },
  {
   "cell_type": "code",
   "execution_count": 2,
   "metadata": {
    "ExecuteTime": {
     "end_time": "2021-07-13T22:32:12.282447Z",
     "start_time": "2021-07-13T22:32:12.274223Z"
    }
   },
   "outputs": [
    {
     "name": "stdout",
     "output_type": "stream",
     "text": [
      "Base Estimator class for both Stan and Pyro Estimator\n",
      "\n",
      "Parameters\n",
      "----------\n",
      "seed : int\n",
      "    seed number for initial random values\n",
      "verbose : bool\n",
      "    If True (default), output all diagnostics messages from estimators\n"
     ]
    }
   ],
   "source": [
    "print(BaseEstimator.__doc__)"
   ]
  },
  {
   "cell_type": "code",
   "execution_count": 3,
   "metadata": {
    "ExecuteTime": {
     "end_time": "2021-07-13T22:32:12.299170Z",
     "start_time": "2021-07-13T22:32:12.293106Z"
    }
   },
   "outputs": [
    {
     "name": "stdout",
     "output_type": "stream",
     "text": [
      "Abstract StanEstimator with shared args for all StanEstimator child classes\n",
      "\n",
      "Parameters\n",
      "----------\n",
      "seed : int\n",
      "    seed number for initial random values\n",
      "verbose : bool\n",
      "    If True (default), output all diagnostics messages from estimators\n",
      "num_warmup : int\n",
      "    Number of samples to warm up and to be discarded, default 900\n",
      "num_sample : int\n",
      "    Number of samples to return, default 100\n",
      "chains : int\n",
      "    Number of chains in stan sampler, default 4\n",
      "cores : int\n",
      "    Number of cores for parallel processing, default max(cores, multiprocessing.cpu_count())\n",
      "algorithm : str\n",
      "    If None, default to Stan defaults\n",
      "kwargs\n",
      "    Additional `BaseEstimator` class args\n"
     ]
    }
   ],
   "source": [
    "print(StanEstimator.__doc__)"
   ]
  },
  {
   "cell_type": "code",
   "execution_count": 4,
   "metadata": {
    "ExecuteTime": {
     "end_time": "2021-07-13T22:32:12.319174Z",
     "start_time": "2021-07-13T22:32:12.311690Z"
    }
   },
   "outputs": [
    {
     "name": "stdout",
     "output_type": "stream",
     "text": [
      "Stan Estimator for MCMC Sampling\n",
      "\n",
      "Parameters\n",
      "----------\n",
      "seed : int\n",
      "    seed number for initial random values\n",
      "verbose : bool\n",
      "    If True (default), output all diagnostics messages from estimators\n",
      "num_warmup : int\n",
      "    Number of samples to warm up and to be discarded, default 900\n",
      "num_sample : int\n",
      "    Number of samples to return, default 100\n",
      "chains : int\n",
      "    Number of chains in stan sampler, default 4\n",
      "cores : int\n",
      "    Number of cores for parallel processing, default max(cores, multiprocessing.cpu_count())\n",
      "algorithm : str\n",
      "    If None, default to Stan defaults\n",
      "kwargs\n",
      "    Additional `BaseEstimator` class args\n",
      "stan_mcmc_control : dict\n",
      "    Supplemental stan control parameters to pass to PyStan.sampling()\n",
      "stan_mcmc_args : dict\n",
      "    Supplemental stan mcmc args to pass to PyStan.sampling()\n"
     ]
    }
   ],
   "source": [
    "print(StanEstimatorMCMC.__doc__)"
   ]
  },
  {
   "cell_type": "code",
   "execution_count": 5,
   "metadata": {
    "ExecuteTime": {
     "end_time": "2021-07-13T22:32:12.331826Z",
     "start_time": "2021-07-13T22:32:12.325672Z"
    }
   },
   "outputs": [
    {
     "name": "stdout",
     "output_type": "stream",
     "text": [
      "Base abstract class for univariate time-series model creation\n",
      "`BaseTemplate` will instantiate an estimator class of `estimator_type`.\n",
      "Each model defines its own `_supported_estimator_types` to determine if\n",
      "the provided `estimator_type` is supported for that particular model.\n",
      "\n",
      "Parameters\n",
      "----------\n",
      "response_col : str\n",
      "    Name of response variable column, default 'y'\n",
      "date_col : str\n",
      "    Name of date variable column, default 'ds'\n",
      "estimator_type : orbit.BaseEstimator\n",
      "    Any subclass of `orbit.BaseEstimator`\n",
      "\n",
      "Notes\n",
      "-----\n",
      "For attributes which are input by users and needed to mutate further downstream, we will introduce a\n",
      "new internal attribute with identical name except a prefix \"_\".\n",
      "e.g. If x appear in the arg default as `None` and we need to impute by 0. we will have self._x = 0 downstream.\n"
     ]
    }
   ],
   "source": [
    "print(BaseTemplate.__doc__)"
   ]
  },
  {
   "cell_type": "code",
   "execution_count": 6,
   "metadata": {
    "ExecuteTime": {
     "end_time": "2021-07-13T22:32:12.343887Z",
     "start_time": "2021-07-13T22:32:12.336257Z"
    }
   },
   "outputs": [
    {
     "name": "stdout",
     "output_type": "stream",
     "text": [
      "Base abstract class for univariate time-series model creation\n",
      "`BaseTemplate` will instantiate an estimator class of `estimator_type`.\n",
      "Each model defines its own `_supported_estimator_types` to determine if\n",
      "the provided `estimator_type` is supported for that particular model.\n",
      "\n",
      "Parameters\n",
      "----------\n",
      "response_col : str\n",
      "    Name of response variable column, default 'y'\n",
      "date_col : str\n",
      "    Name of date variable column, default 'ds'\n",
      "estimator_type : orbit.BaseEstimator\n",
      "    Any subclass of `orbit.BaseEstimator`\n",
      "seasonality : int\n",
      "    Length of seasonality\n",
      "seasonality_sm_input : float\n",
      "    float value between [0, 1], applicable only if `seasonality` > 1. A larger value puts\n",
      "    more weight on the current seasonality.\n",
      "    If None, the model will estimate this value.\n",
      "level_sm_input : float\n",
      "    float value between [0.0001, 1]. A larger value puts more weight on the current level.\n",
      "    If None, the model will estimate this value.\n",
      "\n",
      "Other Parameters\n",
      "----------------\n",
      "**kwargs: additional arguments passed into orbit.estimators.stan_estimator or orbit.estimators.pyro_estimator\n",
      "\n",
      "Notes\n",
      "-----\n",
      "For attributes which are input by users and needed to mutate further downstream, we will introduce a\n",
      "new internal attribute with identical name except a prefix \"_\".\n",
      "e.g. If x appear in the arg default as `None` and we need to impute by 0. we will have self._x = 0 downstream.\n"
     ]
    }
   ],
   "source": [
    "print(BaseETS.__doc__)"
   ]
  },
  {
   "cell_type": "code",
   "execution_count": 7,
   "metadata": {
    "ExecuteTime": {
     "end_time": "2021-07-13T22:32:12.357690Z",
     "start_time": "2021-07-13T22:32:12.350907Z"
    }
   },
   "outputs": [
    {
     "name": "stdout",
     "output_type": "stream",
     "text": [
      "Concrete ETS model for full Bayesian prediction\n",
      "\n",
      "Parameters\n",
      "----------\n",
      "response_col : str\n",
      "    Name of response variable column, default 'y'\n",
      "date_col : str\n",
      "    Name of date variable column, default 'ds'\n",
      "estimator_type : orbit.BaseEstimator\n",
      "    Any subclass of `orbit.BaseEstimator`\n",
      "seasonality : int\n",
      "    Length of seasonality\n",
      "seasonality_sm_input : float\n",
      "    float value between [0, 1], applicable only if `seasonality` > 1. A larger value puts\n",
      "    more weight on the current seasonality.\n",
      "    If None, the model will estimate this value.\n",
      "level_sm_input : float\n",
      "    float value between [0.0001, 1]. A larger value puts more weight on the current level.\n",
      "    If None, the model will estimate this value.\n",
      "n_bootstrap_draws : int\n",
      "    Number of bootstrap samples to draw from the initial MCMC or VI posterior samples.\n",
      "    If -1, use the original posterior draws.\n",
      "prediction_percentiles : list\n",
      "    List of integers of prediction percentiles that should be returned on prediction. To avoid reporting any\n",
      "    confident intervals, pass an empty list\n",
      "\n",
      "Other Parameters\n",
      "----------------\n",
      "**kwargs: additional arguments passed into orbit.estimators.stan_estimator or orbit.estimators.pyro_estimator\n",
      "\n",
      "Notes\n",
      "-----\n",
      "For attributes which are input by users and needed to mutate further downstream, we will introduce a\n",
      "new internal attribute with identical name except a prefix \"_\".\n",
      "e.g. If x appear in the arg default as `None` and we need to impute by 0. we will have self._x = 0 downstream.\n"
     ]
    }
   ],
   "source": [
    "print(ETSFull.__doc__)"
   ]
  },
  {
   "cell_type": "code",
   "execution_count": 8,
   "metadata": {
    "ExecuteTime": {
     "end_time": "2021-07-13T22:32:12.395484Z",
     "start_time": "2021-07-13T22:32:12.386977Z"
    }
   },
   "outputs": [
    {
     "name": "stdout",
     "output_type": "stream",
     "text": [
      "Concrete ETS model for MAP (Maximum a Posteriori) prediction\n",
      "\n",
      "Similar to `ETSAggregated` but prediction is based on Maximum a Posteriori (aka Mode)\n",
      "of the posterior.\n",
      "\n",
      "This model only supports MAP estimating `estimator_type`s\n",
      "\n",
      "Parameters\n",
      "----------\n",
      "response_col : str\n",
      "    Name of response variable column, default 'y'\n",
      "date_col : str\n",
      "    Name of date variable column, default 'ds'\n",
      "estimator_type : orbit.BaseEstimator\n",
      "    Any subclass of `orbit.BaseEstimator`\n",
      "seasonality : int\n",
      "    Length of seasonality\n",
      "seasonality_sm_input : float\n",
      "    float value between [0, 1], applicable only if `seasonality` > 1. A larger value puts\n",
      "    more weight on the current seasonality.\n",
      "    If None, the model will estimate this value.\n",
      "level_sm_input : float\n",
      "    float value between [0.0001, 1]. A larger value puts more weight on the current level.\n",
      "    If None, the model will estimate this value.\n",
      "n_bootstrap_draws : int\n",
      "    Number of bootstrap samples to draw from the error part to generate the uncertainty.\n",
      "    If set to be -1, will use the original posterior draw (no uncertainty).\n",
      "prediction_percentiles : list\n",
      "    List of integers of prediction percentiles that should be returned on prediction. To avoid reporting any\n",
      "    confident intervals, pass an empty list\n",
      "\n",
      "Other Parameters\n",
      "----------------\n",
      "**kwargs: additional arguments passed into orbit.estimators.stan_estimator or orbit.estimators.pyro_estimator\n",
      "\n",
      "Notes\n",
      "-----\n",
      "For attributes which are input by users and needed to mutate further downstream, we will introduce a\n",
      "new internal attribute with identical name except a prefix \"_\".\n",
      "e.g. If x appear in the arg default as `None` and we need to impute by 0. we will have self._x = 0 downstream.\n"
     ]
    }
   ],
   "source": [
    "print(ETSMAP.__doc__)"
   ]
  },
  {
   "cell_type": "code",
   "execution_count": 9,
   "metadata": {
    "ExecuteTime": {
     "end_time": "2021-07-13T22:32:12.421963Z",
     "start_time": "2021-07-13T22:32:12.412496Z"
    }
   },
   "outputs": [
    {
     "name": "stdout",
     "output_type": "stream",
     "text": [
      "Concrete ETS model for aggregated posterior prediction\n",
      "\n",
      "Parameters\n",
      "----------\n",
      "response_col : str\n",
      "    Name of response variable column, default 'y'\n",
      "date_col : str\n",
      "    Name of date variable column, default 'ds'\n",
      "estimator_type : orbit.BaseEstimator\n",
      "    Any subclass of `orbit.BaseEstimator`\n",
      "seasonality : int\n",
      "    Length of seasonality\n",
      "seasonality_sm_input : float\n",
      "    float value between [0, 1], applicable only if `seasonality` > 1. A larger value puts\n",
      "    more weight on the current seasonality.\n",
      "    If None, the model will estimate this value.\n",
      "level_sm_input : float\n",
      "    float value between [0.0001, 1]. A larger value puts more weight on the current level.\n",
      "    If None, the model will estimate this value.\n",
      "aggregate_method : { 'mean', 'median' }\n",
      "    Method used to reduce parameter posterior samples\n",
      "n_bootstrap_draws : int\n",
      "    Number of bootstrap samples to draw from the error part to generate the uncertainty.\n",
      "    If -1, will use the original posterior draw (no uncertainty).\n",
      "prediction_percentiles : list\n",
      "    List of integers of prediction percentiles that should be returned on prediction. To avoid reporting any\n",
      "    confident intervals, pass an empty list\n",
      "\n",
      "Other Parameters\n",
      "----------------\n",
      "**kwargs: additional arguments passed into orbit.estimators.stan_estimator or orbit.estimators.pyro_estimator\n",
      "\n",
      "Notes\n",
      "-----\n",
      "For attributes which are input by users and needed to mutate further downstream, we will introduce a\n",
      "new internal attribute with identical name except a prefix \"_\".\n",
      "e.g. If x appear in the arg default as `None` and we need to impute by 0. we will have self._x = 0 downstream.\n"
     ]
    }
   ],
   "source": [
    "print(ETSAggregated.__doc__)"
   ]
  },
  {
   "cell_type": "code",
   "execution_count": 10,
   "metadata": {
    "ExecuteTime": {
     "end_time": "2021-07-13T22:32:12.439040Z",
     "start_time": "2021-07-13T22:32:12.429059Z"
    }
   },
   "outputs": [
    {
     "name": "stdout",
     "output_type": "stream",
     "text": [
      "Base DLT model object with shared functionality for Full, Aggregated, and MAP methods\n",
      "\n",
      "The model arguments are the same as `BaseLGT` with some additional arguments\n",
      "\n",
      "Parameters\n",
      "----------\n",
      "response_col : str\n",
      "    Name of response variable column, default 'y'\n",
      "date_col : str\n",
      "    Name of date variable column, default 'ds'\n",
      "estimator_type : orbit.BaseEstimator\n",
      "    Any subclass of `orbit.BaseEstimator`\n",
      "seasonality : int\n",
      "    Length of seasonality\n",
      "seasonality_sm_input : float\n",
      "    float value between [0, 1], applicable only if `seasonality` > 1. A larger value puts\n",
      "    more weight on the current seasonality.\n",
      "    If None, the model will estimate this value.\n",
      "level_sm_input : float\n",
      "    float value between [0.0001, 1]. A larger value puts more weight on the current level.\n",
      "    If None, the model will estimate this value.\n",
      "regressor_col : list\n",
      "    Names of regressor columns, if any\n",
      "regressor_sign :  list\n",
      "    list with values { '+', '-', '=' } such that\n",
      "    '+' indicates regressor coefficient estimates are constrained to [0, inf).\n",
      "    '-' indicates regressor coefficient estimates are constrained to (-inf, 0].\n",
      "    '=' indicates regressor coefficient estimates can be any value between (-inf, inf).\n",
      "    The length of `regressor_sign` must be the same length as `regressor_col`. If None,\n",
      "    all elements of list will be set to '='.\n",
      "regressor_beta_prior : list\n",
      "    list of prior float values for regressor coefficient betas. The length of `regressor_beta_prior`\n",
      "    must be the same length as `regressor_col`. If None, use non-informative priors.\n",
      "regressor_sigma_prior : list\n",
      "    list of prior float values for regressor coefficient sigmas. The length of `regressor_sigma_prior`\n",
      "    must be the same length as `regressor_col`. If None, use non-informative priors.\n",
      "regression_penalty : { 'fixed_ridge', 'lasso', 'auto_ridge' }\n",
      "    regression penalty method\n",
      "lasso_scale : float\n",
      "    float value between [0, 1], applicable only if `regression_penalty` == 'lasso'\n",
      "auto_ridge_scale : float\n",
      "    float value between [0, 1], applicable only if `regression_penalty` == 'auto_ridge'\n",
      "slope_sm_input : float\n",
      "    float value between [0, 1]. A larger value puts more weight on the current slope.\n",
      "    If None, the model will estimate this value.\n",
      "period : int\n",
      "    Used to set `time_delta` as `1 / max(period, seasonality)`. If None and no seasonality,\n",
      "    then `time_delta` == 1\n",
      "damped_factor : float\n",
      "    Hyperparameter float value between [0, 1]. A smaller value further dampens the previous\n",
      "    global trend value. Default, 0.8\n",
      "global_trend_option : { 'flat', 'linear', 'loglinear', 'logistic' }\n",
      "    Transformation function for the shape of the forecasted global trend.\n",
      "\n",
      "Other Parameters\n",
      "----------------\n",
      "**kwargs: additional arguments passed into orbit.estimators.stan_estimator or orbit.estimators.pyro_estimator\n",
      "\n",
      "See Also\n",
      "--------\n",
      ":class: `~orbit.model.ets.BaseETS`\n",
      "\n",
      "Notes\n",
      "-----\n",
      "For attributes which are input by users and needed to mutate further downstream, we will introduce a\n",
      "new internal attribute with identical name except a prefix \"_\".\n",
      "e.g. If x appear in the arg default as `None` and we need to impute by 0. we will have self._x = 0 downstream.\n"
     ]
    }
   ],
   "source": [
    "print(BaseDLT.__doc__)"
   ]
  },
  {
   "cell_type": "code",
   "execution_count": 11,
   "metadata": {
    "ExecuteTime": {
     "end_time": "2021-07-13T22:32:12.454625Z",
     "start_time": "2021-07-13T22:32:12.445901Z"
    }
   },
   "outputs": [
    {
     "name": "stdout",
     "output_type": "stream",
     "text": [
      "Concrete DLT model for full prediction\n",
      "\n",
      "The model arguments are the same as `ETSFull` with some additional arguments\n",
      "\n",
      "Parameters\n",
      "----------\n",
      "response_col : str\n",
      "    Name of response variable column, default 'y'\n",
      "date_col : str\n",
      "    Name of date variable column, default 'ds'\n",
      "estimator_type : orbit.BaseEstimator\n",
      "    Any subclass of `orbit.BaseEstimator`\n",
      "seasonality : int\n",
      "    Length of seasonality\n",
      "seasonality_sm_input : float\n",
      "    float value between [0, 1], applicable only if `seasonality` > 1. A larger value puts\n",
      "    more weight on the current seasonality.\n",
      "    If None, the model will estimate this value.\n",
      "level_sm_input : float\n",
      "    float value between [0.0001, 1]. A larger value puts more weight on the current level.\n",
      "    If None, the model will estimate this value.\n",
      "regressor_col : list\n",
      "    Names of regressor columns, if any\n",
      "regressor_sign :  list\n",
      "    list with values { '+', '-', '=' } such that\n",
      "    '+' indicates regressor coefficient estimates are constrained to [0, inf).\n",
      "    '-' indicates regressor coefficient estimates are constrained to (-inf, 0].\n",
      "    '=' indicates regressor coefficient estimates can be any value between (-inf, inf).\n",
      "    The length of `regressor_sign` must be the same length as `regressor_col`. If None,\n",
      "    all elements of list will be set to '='.\n",
      "regressor_beta_prior : list\n",
      "    list of prior float values for regressor coefficient betas. The length of `regressor_beta_prior`\n",
      "    must be the same length as `regressor_col`. If None, use non-informative priors.\n",
      "regressor_sigma_prior : list\n",
      "    list of prior float values for regressor coefficient sigmas. The length of `regressor_sigma_prior`\n",
      "    must be the same length as `regressor_col`. If None, use non-informative priors.\n",
      "regression_penalty : { 'fixed_ridge', 'lasso', 'auto_ridge' }\n",
      "    regression penalty method\n",
      "lasso_scale : float\n",
      "    float value between [0, 1], applicable only if `regression_penalty` == 'lasso'\n",
      "auto_ridge_scale : float\n",
      "    float value between [0, 1], applicable only if `regression_penalty` == 'auto_ridge'\n",
      "slope_sm_input : float\n",
      "    float value between [0, 1]. A larger value puts more weight on the current slope.\n",
      "    If None, the model will estimate this value.\n",
      "period : int\n",
      "    Used to set `time_delta` as `1 / max(period, seasonality)`. If None and no seasonality,\n",
      "    then `time_delta` == 1\n",
      "damped_factor : float\n",
      "    Hyperparameter float value between [0, 1]. A smaller value further dampens the previous\n",
      "    global trend value. Default, 0.8\n",
      "global_trend_option : { 'flat', 'linear', 'loglinear', 'logistic' }\n",
      "    Transformation function for the shape of the forecasted global trend.\n",
      "n_bootstrap_draws : int\n",
      "    Number of bootstrap samples to draw from the initial MCMC or VI posterior samples.\n",
      "    If -1, use the original posterior draws.\n",
      "prediction_percentiles : list\n",
      "    List of integers of prediction percentiles that should be returned on prediction. To avoid reporting any\n",
      "    confident intervals, pass an empty list\n",
      "seasonality : int\n",
      "    Length of seasonality\n",
      "seasonality_sm_input : float\n",
      "    float value between [0, 1], applicable only if `seasonality` > 1. A larger value puts\n",
      "    more weight on the current seasonality.\n",
      "    If None, the model will estimate this value.\n",
      "level_sm_input : float\n",
      "    float value between [0.0001, 1]. A larger value puts more weight on the current level.\n",
      "    If None, the model will estimate this value.\n",
      "n_bootstrap_draws : int\n",
      "    Number of bootstrap samples to draw from the initial MCMC or VI posterior samples.\n",
      "    If -1, use the original posterior draws.\n",
      "prediction_percentiles : list\n",
      "    List of integers of prediction percentiles that should be returned on prediction. To avoid reporting any\n",
      "    confident intervals, pass an empty list\n",
      "\n",
      "Other Parameters\n",
      "----------------\n",
      "**kwargs: additional arguments passed into orbit.estimators.stan_estimator or orbit.estimators.pyro_estimator\n",
      "\n",
      "See Also\n",
      "--------\n",
      ":class: `~orbit.model.ets.BaseETS`\n",
      "orbit.models.ets.ETSFull\n",
      "\n",
      "Notes\n",
      "-----\n",
      "For attributes which are input by users and needed to mutate further downstream, we will introduce a\n",
      "new internal attribute with identical name except a prefix \"_\".\n",
      "e.g. If x appear in the arg default as `None` and we need to impute by 0. we will have self._x = 0 downstream.\n"
     ]
    }
   ],
   "source": [
    "print(DLTFull.__doc__)"
   ]
  },
  {
   "cell_type": "code",
   "execution_count": 12,
   "metadata": {
    "ExecuteTime": {
     "end_time": "2021-07-13T22:32:12.473327Z",
     "start_time": "2021-07-13T22:32:12.461322Z"
    }
   },
   "outputs": [
    {
     "name": "stdout",
     "output_type": "stream",
     "text": [
      "Concrete DLT model for aggregated posterior prediction\n",
      "\n",
      "The model arguments are the same as `ETSAggregated` with some additional arguments\n",
      "\n",
      "Parameters\n",
      "----------\n",
      "response_col : str\n",
      "    Name of response variable column, default 'y'\n",
      "date_col : str\n",
      "    Name of date variable column, default 'ds'\n",
      "estimator_type : orbit.BaseEstimator\n",
      "    Any subclass of `orbit.BaseEstimator`\n",
      "seasonality : int\n",
      "    Length of seasonality\n",
      "seasonality_sm_input : float\n",
      "    float value between [0, 1], applicable only if `seasonality` > 1. A larger value puts\n",
      "    more weight on the current seasonality.\n",
      "    If None, the model will estimate this value.\n",
      "level_sm_input : float\n",
      "    float value between [0.0001, 1]. A larger value puts more weight on the current level.\n",
      "    If None, the model will estimate this value.\n",
      "regressor_col : list\n",
      "    Names of regressor columns, if any\n",
      "regressor_sign :  list\n",
      "    list with values { '+', '-', '=' } such that\n",
      "    '+' indicates regressor coefficient estimates are constrained to [0, inf).\n",
      "    '-' indicates regressor coefficient estimates are constrained to (-inf, 0].\n",
      "    '=' indicates regressor coefficient estimates can be any value between (-inf, inf).\n",
      "    The length of `regressor_sign` must be the same length as `regressor_col`. If None,\n",
      "    all elements of list will be set to '='.\n",
      "regressor_beta_prior : list\n",
      "    list of prior float values for regressor coefficient betas. The length of `regressor_beta_prior`\n",
      "    must be the same length as `regressor_col`. If None, use non-informative priors.\n",
      "regressor_sigma_prior : list\n",
      "    list of prior float values for regressor coefficient sigmas. The length of `regressor_sigma_prior`\n",
      "    must be the same length as `regressor_col`. If None, use non-informative priors.\n",
      "regression_penalty : { 'fixed_ridge', 'lasso', 'auto_ridge' }\n",
      "    regression penalty method\n",
      "lasso_scale : float\n",
      "    float value between [0, 1], applicable only if `regression_penalty` == 'lasso'\n",
      "auto_ridge_scale : float\n",
      "    float value between [0, 1], applicable only if `regression_penalty` == 'auto_ridge'\n",
      "slope_sm_input : float\n",
      "    float value between [0, 1]. A larger value puts more weight on the current slope.\n",
      "    If None, the model will estimate this value.\n",
      "period : int\n",
      "    Used to set `time_delta` as `1 / max(period, seasonality)`. If None and no seasonality,\n",
      "    then `time_delta` == 1\n",
      "damped_factor : float\n",
      "    Hyperparameter float value between [0, 1]. A smaller value further dampens the previous\n",
      "    global trend value. Default, 0.8\n",
      "global_trend_option : { 'flat', 'linear', 'loglinear', 'logistic' }\n",
      "    Transformation function for the shape of the forecasted global trend.\n",
      "aggregate_method : { 'mean', 'median' }\n",
      "    Method used to reduce parameter posterior samples\n",
      "n_bootstrap_draws : int\n",
      "    Number of bootstrap samples to draw from the error part to generate the uncertainty.\n",
      "    If -1, will use the original posterior draw (no uncertainty).\n",
      "prediction_percentiles : list\n",
      "    List of integers of prediction percentiles that should be returned on prediction. To avoid reporting any\n",
      "    confident intervals, pass an empty list\n",
      "seasonality : int\n",
      "    Length of seasonality\n",
      "seasonality_sm_input : float\n",
      "    float value between [0, 1], applicable only if `seasonality` > 1. A larger value puts\n",
      "    more weight on the current seasonality.\n",
      "    If None, the model will estimate this value.\n",
      "level_sm_input : float\n",
      "    float value between [0.0001, 1]. A larger value puts more weight on the current level.\n",
      "    If None, the model will estimate this value.\n",
      "aggregate_method : { 'mean', 'median' }\n",
      "    Method used to reduce parameter posterior samples\n",
      "n_bootstrap_draws : int\n",
      "    Number of bootstrap samples to draw from the error part to generate the uncertainty.\n",
      "    If -1, will use the original posterior draw (no uncertainty).\n",
      "prediction_percentiles : list\n",
      "    List of integers of prediction percentiles that should be returned on prediction. To avoid reporting any\n",
      "    confident intervals, pass an empty list\n",
      "\n",
      "Other Parameters\n",
      "----------------\n",
      "**kwargs: additional arguments passed into orbit.estimators.stan_estimator or orbit.estimators.pyro_estimator\n",
      "\n",
      "See Also\n",
      "--------\n",
      ":class: `~orbit.model.ets.BaseETS`\n",
      "orbit.models.ets.ETSAggregated\n",
      "\n",
      "Notes\n",
      "-----\n",
      "For attributes which are input by users and needed to mutate further downstream, we will introduce a\n",
      "new internal attribute with identical name except a prefix \"_\".\n",
      "e.g. If x appear in the arg default as `None` and we need to impute by 0. we will have self._x = 0 downstream.\n"
     ]
    }
   ],
   "source": [
    "print(DLTAggregated.__doc__)"
   ]
  },
  {
   "cell_type": "code",
   "execution_count": 13,
   "metadata": {
    "ExecuteTime": {
     "end_time": "2021-07-13T22:32:12.487123Z",
     "start_time": "2021-07-13T22:32:12.479353Z"
    }
   },
   "outputs": [
    {
     "name": "stdout",
     "output_type": "stream",
     "text": [
      "Concrete DLT model for MAP (Maximum a Posteriori) prediction\n",
      "\n",
      "The model arguments are the same as `ETSMAP` with some additional arguments\n",
      "\n",
      "Parameters\n",
      "----------\n",
      "response_col : str\n",
      "    Name of response variable column, default 'y'\n",
      "date_col : str\n",
      "    Name of date variable column, default 'ds'\n",
      "estimator_type : orbit.BaseEstimator\n",
      "    Any subclass of `orbit.BaseEstimator`\n",
      "seasonality : int\n",
      "    Length of seasonality\n",
      "seasonality_sm_input : float\n",
      "    float value between [0, 1], applicable only if `seasonality` > 1. A larger value puts\n",
      "    more weight on the current seasonality.\n",
      "    If None, the model will estimate this value.\n",
      "level_sm_input : float\n",
      "    float value between [0.0001, 1]. A larger value puts more weight on the current level.\n",
      "    If None, the model will estimate this value.\n",
      "regressor_col : list\n",
      "    Names of regressor columns, if any\n",
      "regressor_sign :  list\n",
      "    list with values { '+', '-', '=' } such that\n",
      "    '+' indicates regressor coefficient estimates are constrained to [0, inf).\n",
      "    '-' indicates regressor coefficient estimates are constrained to (-inf, 0].\n",
      "    '=' indicates regressor coefficient estimates can be any value between (-inf, inf).\n",
      "    The length of `regressor_sign` must be the same length as `regressor_col`. If None,\n",
      "    all elements of list will be set to '='.\n",
      "regressor_beta_prior : list\n",
      "    list of prior float values for regressor coefficient betas. The length of `regressor_beta_prior`\n",
      "    must be the same length as `regressor_col`. If None, use non-informative priors.\n",
      "regressor_sigma_prior : list\n",
      "    list of prior float values for regressor coefficient sigmas. The length of `regressor_sigma_prior`\n",
      "    must be the same length as `regressor_col`. If None, use non-informative priors.\n",
      "regression_penalty : { 'fixed_ridge', 'lasso', 'auto_ridge' }\n",
      "    regression penalty method\n",
      "lasso_scale : float\n",
      "    float value between [0, 1], applicable only if `regression_penalty` == 'lasso'\n",
      "auto_ridge_scale : float\n",
      "    float value between [0, 1], applicable only if `regression_penalty` == 'auto_ridge'\n",
      "slope_sm_input : float\n",
      "    float value between [0, 1]. A larger value puts more weight on the current slope.\n",
      "    If None, the model will estimate this value.\n",
      "period : int\n",
      "    Used to set `time_delta` as `1 / max(period, seasonality)`. If None and no seasonality,\n",
      "    then `time_delta` == 1\n",
      "damped_factor : float\n",
      "    Hyperparameter float value between [0, 1]. A smaller value further dampens the previous\n",
      "    global trend value. Default, 0.8\n",
      "global_trend_option : { 'flat', 'linear', 'loglinear', 'logistic' }\n",
      "    Transformation function for the shape of the forecasted global trend.\n",
      "n_bootstrap_draws : int\n",
      "    Number of bootstrap samples to draw from the error part to generate the uncertainty.\n",
      "    If set to be -1, will use the original posterior draw (no uncertainty).\n",
      "prediction_percentiles : list\n",
      "    List of integers of prediction percentiles that should be returned on prediction. To avoid reporting any\n",
      "    confident intervals, pass an empty list\n",
      "seasonality : int\n",
      "    Length of seasonality\n",
      "seasonality_sm_input : float\n",
      "    float value between [0, 1], applicable only if `seasonality` > 1. A larger value puts\n",
      "    more weight on the current seasonality.\n",
      "    If None, the model will estimate this value.\n",
      "level_sm_input : float\n",
      "    float value between [0.0001, 1]. A larger value puts more weight on the current level.\n",
      "    If None, the model will estimate this value.\n",
      "n_bootstrap_draws : int\n",
      "    Number of bootstrap samples to draw from the error part to generate the uncertainty.\n",
      "    If set to be -1, will use the original posterior draw (no uncertainty).\n",
      "prediction_percentiles : list\n",
      "    List of integers of prediction percentiles that should be returned on prediction. To avoid reporting any\n",
      "    confident intervals, pass an empty list\n",
      "\n",
      "Other Parameters\n",
      "----------------\n",
      "**kwargs: additional arguments passed into orbit.estimators.stan_estimator or orbit.estimators.pyro_estimator\n",
      "\n",
      "See Also\n",
      "--------\n",
      ":class: `~orbit.model.ets.BaseETS`\n",
      "orbit.models.ets.ETSMAP\n",
      "\n",
      "Notes\n",
      "-----\n",
      "For attributes which are input by users and needed to mutate further downstream, we will introduce a\n",
      "new internal attribute with identical name except a prefix \"_\".\n",
      "e.g. If x appear in the arg default as `None` and we need to impute by 0. we will have self._x = 0 downstream.\n"
     ]
    }
   ],
   "source": [
    "print(DLTMAP.__doc__)"
   ]
  },
  {
   "cell_type": "code",
   "execution_count": 14,
   "metadata": {
    "ExecuteTime": {
     "end_time": "2021-07-13T22:32:12.507668Z",
     "start_time": "2021-07-13T22:32:12.495902Z"
    }
   },
   "outputs": [
    {
     "name": "stdout",
     "output_type": "stream",
     "text": [
      "Concrete ETS model for MAP (Maximum a Posteriori) prediction\n",
      "\n",
      "Similar to `ETSAggregated` but prediction is based on Maximum a Posteriori (aka Mode)\n",
      "of the posterior.\n",
      "\n",
      "This model only supports MAP estimating `estimator_type`s\n",
      "\n",
      "Parameters\n",
      "----------\n",
      "response_col : str\n",
      "    Name of response variable column, default 'y'\n",
      "date_col : str\n",
      "    Name of date variable column, default 'ds'\n",
      "estimator_type : orbit.BaseEstimator\n",
      "    Any subclass of `orbit.BaseEstimator`\n",
      "seasonality : int\n",
      "    Length of seasonality\n",
      "seasonality_sm_input : float\n",
      "    float value between [0, 1], applicable only if `seasonality` > 1. A larger value puts\n",
      "    more weight on the current seasonality.\n",
      "    If None, the model will estimate this value.\n",
      "level_sm_input : float\n",
      "    float value between [0.0001, 1]. A larger value puts more weight on the current level.\n",
      "    If None, the model will estimate this value.\n",
      "n_bootstrap_draws : int\n",
      "    Number of bootstrap samples to draw from the error part to generate the uncertainty.\n",
      "    If set to be -1, will use the original posterior draw (no uncertainty).\n",
      "prediction_percentiles : list\n",
      "    List of integers of prediction percentiles that should be returned on prediction. To avoid reporting any\n",
      "    confident intervals, pass an empty list\n",
      "\n",
      "Other Parameters\n",
      "----------------\n",
      "**kwargs: additional arguments passed into orbit.estimators.stan_estimator or orbit.estimators.pyro_estimator\n",
      "\n",
      "Notes\n",
      "-----\n",
      "For attributes which are input by users and needed to mutate further downstream, we will introduce a\n",
      "new internal attribute with identical name except a prefix \"_\".\n",
      "e.g. If x appear in the arg default as `None` and we need to impute by 0. we will have self._x = 0 downstream.\n"
     ]
    }
   ],
   "source": [
    "print(ETSMAP.__doc__)"
   ]
  },
  {
   "cell_type": "code",
   "execution_count": 15,
   "metadata": {
    "ExecuteTime": {
     "end_time": "2021-07-13T22:32:12.526356Z",
     "start_time": "2021-07-13T22:32:12.514339Z"
    }
   },
   "outputs": [
    {
     "name": "stdout",
     "output_type": "stream",
     "text": [
      "Base LGT model object with shared functionality for Full, Aggregated, and MAP methods\n",
      "\n",
      "Parameters\n",
      "----------\n",
      "response_col : str\n",
      "    Name of response variable column, default 'y'\n",
      "date_col : str\n",
      "    Name of date variable column, default 'ds'\n",
      "estimator_type : orbit.BaseEstimator\n",
      "    Any subclass of `orbit.BaseEstimator`\n",
      "seasonality : int\n",
      "    Length of seasonality\n",
      "seasonality_sm_input : float\n",
      "    float value between [0, 1], applicable only if `seasonality` > 1. A larger value puts\n",
      "    more weight on the current seasonality.\n",
      "    If None, the model will estimate this value.\n",
      "level_sm_input : float\n",
      "    float value between [0.0001, 1]. A larger value puts more weight on the current level.\n",
      "    If None, the model will estimate this value.\n",
      "regressor_col : list\n",
      "    Names of regressor columns, if any\n",
      "regressor_sign :  list\n",
      "    list with values { '+', '-', '=' } such that\n",
      "    '+' indicates regressor coefficient estimates are constrained to [0, inf).\n",
      "    '-' indicates regressor coefficient estimates are constrained to (-inf, 0].\n",
      "    '=' indicates regressor coefficient estimates can be any value between (-inf, inf).\n",
      "    The length of `regressor_sign` must be the same length as `regressor_col`. If None,\n",
      "    all elements of list will be set to '='.\n",
      "regressor_beta_prior : list\n",
      "    list of prior float values for regressor coefficient betas. The length of `regressor_beta_prior`\n",
      "    must be the same length as `regressor_col`. If None, use non-informative priors.\n",
      "regressor_sigma_prior : list\n",
      "    list of prior float values for regressor coefficient sigmas. The length of `regressor_sigma_prior`\n",
      "    must be the same length as `regressor_col`. If None, use non-informative priors.\n",
      "regression_penalty : { 'fixed_ridge', 'lasso', 'auto_ridge' }\n",
      "    regression penalty method\n",
      "lasso_scale : float\n",
      "    float value between [0, 1], applicable only if `regression_penalty` == 'lasso'\n",
      "auto_ridge_scale : float\n",
      "    float value between [0, 1], applicable only if `regression_penalty` == 'auto_ridge'\n",
      "slope_sm_input : float\n",
      "    float value between [0, 1]. A larger value puts more weight on the current slope.\n",
      "    If None, the model will estimate this value.\n",
      "\n",
      "Other Parameters\n",
      "----------------\n",
      "**kwargs: additional arguments passed into orbit.estimators.stan_estimator or orbit.estimators.pyro_estimator\n",
      "\n",
      "See Also\n",
      "--------\n",
      ":class: `~orbit.models.ets.BaseETS`\n",
      "\n",
      "Notes\n",
      "-----\n",
      "For attributes which are input by users and needed to mutate further downstream, we will introduce a\n",
      "new internal attribute with identical name except a prefix \"_\".\n",
      "e.g. If x appear in the arg default as `None` and we need to impute by 0. we will have self._x = 0 downstream.\n"
     ]
    }
   ],
   "source": [
    "print(BaseLGT.__doc__)"
   ]
  },
  {
   "cell_type": "code",
   "execution_count": 16,
   "metadata": {
    "ExecuteTime": {
     "end_time": "2021-07-13T22:32:12.543912Z",
     "start_time": "2021-07-13T22:32:12.534846Z"
    }
   },
   "outputs": [
    {
     "name": "stdout",
     "output_type": "stream",
     "text": [
      "Concrete LGT model for MAP (Maximum a Posteriori) prediction\n",
      "\n",
      "Similar to :class: `~orbit.models.LGTAggregated` but prediction is based on Maximum a Posteriori (aka Mode)\n",
      "of the posterior.\n",
      "\n",
      "This model only supports MAP estimating `estimator_type`s\n",
      "\n",
      "Parameters\n",
      "----------\n",
      "response_col : str\n",
      "    Name of response variable column, default 'y'\n",
      "date_col : str\n",
      "    Name of date variable column, default 'ds'\n",
      "estimator_type : orbit.BaseEstimator\n",
      "    Any subclass of `orbit.BaseEstimator`\n",
      "seasonality : int\n",
      "    Length of seasonality\n",
      "seasonality_sm_input : float\n",
      "    float value between [0, 1], applicable only if `seasonality` > 1. A larger value puts\n",
      "    more weight on the current seasonality.\n",
      "    If None, the model will estimate this value.\n",
      "level_sm_input : float\n",
      "    float value between [0.0001, 1]. A larger value puts more weight on the current level.\n",
      "    If None, the model will estimate this value.\n",
      "regressor_col : list\n",
      "    Names of regressor columns, if any\n",
      "regressor_sign :  list\n",
      "    list with values { '+', '-', '=' } such that\n",
      "    '+' indicates regressor coefficient estimates are constrained to [0, inf).\n",
      "    '-' indicates regressor coefficient estimates are constrained to (-inf, 0].\n",
      "    '=' indicates regressor coefficient estimates can be any value between (-inf, inf).\n",
      "    The length of `regressor_sign` must be the same length as `regressor_col`. If None,\n",
      "    all elements of list will be set to '='.\n",
      "regressor_beta_prior : list\n",
      "    list of prior float values for regressor coefficient betas. The length of `regressor_beta_prior`\n",
      "    must be the same length as `regressor_col`. If None, use non-informative priors.\n",
      "regressor_sigma_prior : list\n",
      "    list of prior float values for regressor coefficient sigmas. The length of `regressor_sigma_prior`\n",
      "    must be the same length as `regressor_col`. If None, use non-informative priors.\n",
      "regression_penalty : { 'fixed_ridge', 'lasso', 'auto_ridge' }\n",
      "    regression penalty method\n",
      "lasso_scale : float\n",
      "    float value between [0, 1], applicable only if `regression_penalty` == 'lasso'\n",
      "auto_ridge_scale : float\n",
      "    float value between [0, 1], applicable only if `regression_penalty` == 'auto_ridge'\n",
      "slope_sm_input : float\n",
      "    float value between [0, 1]. A larger value puts more weight on the current slope.\n",
      "    If None, the model will estimate this value.\n",
      "n_bootstrap_draws : int\n",
      "    Number of bootstrap samples to draw from the error part to generate the uncertainty.\n",
      "    If set to be -1, will use the original posterior draw (no uncertainty).\n",
      "prediction_percentiles : list\n",
      "    List of integers of prediction percentiles that should be returned on prediction. To avoid reporting any\n",
      "    confident intervals, pass an empty list\n",
      "seasonality : int\n",
      "    Length of seasonality\n",
      "seasonality_sm_input : float\n",
      "    float value between [0, 1], applicable only if `seasonality` > 1. A larger value puts\n",
      "    more weight on the current seasonality.\n",
      "    If None, the model will estimate this value.\n",
      "level_sm_input : float\n",
      "    float value between [0.0001, 1]. A larger value puts more weight on the current level.\n",
      "    If None, the model will estimate this value.\n",
      "n_bootstrap_draws : int\n",
      "    Number of bootstrap samples to draw from the error part to generate the uncertainty.\n",
      "    If set to be -1, will use the original posterior draw (no uncertainty).\n",
      "prediction_percentiles : list\n",
      "    List of integers of prediction percentiles that should be returned on prediction. To avoid reporting any\n",
      "    confident intervals, pass an empty list\n",
      "\n",
      "Other Parameters\n",
      "----------------\n",
      "**kwargs: additional arguments passed into orbit.estimators.stan_estimator or orbit.estimators.pyro_estimator\n",
      "\n",
      "See Also\n",
      "--------\n",
      ":class: `~orbit.models.ets.BaseETS`\n",
      "\n",
      "Notes\n",
      "-----\n",
      "For attributes which are input by users and needed to mutate further downstream, we will introduce a\n",
      "new internal attribute with identical name except a prefix \"_\".\n",
      "e.g. If x appear in the arg default as `None` and we need to impute by 0. we will have self._x = 0 downstream.\n"
     ]
    }
   ],
   "source": [
    "print(LGTMAP.__doc__)"
   ]
  },
  {
   "cell_type": "code",
   "execution_count": 17,
   "metadata": {
    "ExecuteTime": {
     "end_time": "2021-07-13T22:32:12.567520Z",
     "start_time": "2021-07-13T22:32:12.553926Z"
    }
   },
   "outputs": [
    {
     "name": "stdout",
     "output_type": "stream",
     "text": [
      "Concrete KTRLite model for MAP (Maximum a Posteriori) prediction\n",
      "\n",
      "This model only supports MAP estimating `estimator_type`s\n",
      "\n",
      "Parameters\n",
      "----------\n",
      "response_col : str\n",
      "    Name of response variable column, default 'y'\n",
      "date_col : str\n",
      "    Name of date variable column, default 'ds'\n",
      "estimator_type : orbit.BaseEstimator\n",
      "    Any subclass of `orbit.BaseEstimator`\n",
      "seasonality : int, or list of int\n",
      "    multiple seasonality\n",
      "seasonality_fs_order : int, or list of int\n",
      "    fourier series order for seasonality\n",
      "level_knot_scale : float\n",
      "    sigma for level; default to be .5\n",
      "seasonal_initial_knot_scale : float\n",
      "    scale parameter for seasonal regressors initial coefficient knots; default to be 1\n",
      "seasonal_knot_scale : float\n",
      "    scale parameter for seasonal regressors drift of coefficient knots; default to be 0.1.\n",
      "span_level : float between (0, 1)\n",
      "    window width to decide the number of windows for the level (trend) term.\n",
      "    e.g., span 0.1 will produce 10 windows.\n",
      "span_coefficients : float between (0, 1)\n",
      "    window width to decide the number of windows for the regression term\n",
      "degree of freedom : int\n",
      "    degree of freedom for error t-distribution\n",
      "level_knot_dates : array like\n",
      "    list of pre-specified dates for the level knots\n",
      "level_knot_length : int\n",
      "    the distance between every two knots for level\n",
      "coefficients_knot_length : int\n",
      "    the distance between every two knots for coefficients\n",
      "date_freq : str\n",
      "    date frequency; if not supplied, pd.infer_freq will be used to imply the date frequency.\n",
      "\n",
      "kwargs\n",
      "    To specify `estimator_type` or additional args for the specified `estimator_type`\n",
      "n_bootstrap_draws : int\n",
      "    Number of bootstrap samples to draw from the error part to generate the uncertainty.\n",
      "    If set to be -1, will use the original posterior draw (no uncertainty).\n",
      "prediction_percentiles : list\n",
      "    List of integers of prediction percentiles that should be returned on prediction. To avoid reporting any\n",
      "    confident intervals, pass an empty list\n",
      "\n",
      "Notes\n",
      "-----\n",
      "For attributes which are input by users and needed to mutate further downstream, we will introduce a\n",
      "new internal attribute with identical name except a prefix \"_\".\n",
      "e.g. If x appear in the arg default as `None` and we need to impute by 0. we will have self._x = 0 downstream.\n"
     ]
    }
   ],
   "source": [
    "print(KTRLiteMAP.__doc__)"
   ]
  }
 ],
 "metadata": {
  "kernelspec": {
   "display_name": "Python 3",
   "language": "python",
   "name": "python3"
  },
  "language_info": {
   "codemirror_mode": {
    "name": "ipython",
    "version": 3
   },
   "file_extension": ".py",
   "mimetype": "text/x-python",
   "name": "python",
   "nbconvert_exporter": "python",
   "pygments_lexer": "ipython3",
   "version": "3.7.8"
  },
  "toc": {
   "base_numbering": 1,
   "nav_menu": {},
   "number_sections": true,
   "sideBar": true,
   "skip_h1_title": false,
   "title_cell": "Table of Contents",
   "title_sidebar": "Contents",
   "toc_cell": false,
   "toc_position": {},
   "toc_section_display": true,
   "toc_window_display": false
  }
 },
 "nbformat": 4,
 "nbformat_minor": 4
}
