{
 "cells": [
  {
   "cell_type": "code",
   "execution_count": 1,
   "metadata": {},
   "outputs": [],
   "source": [
    "from orbit.models.ets import BaseETS, ETSFull, ETSAggregated, ETSMAP\n",
    "from orbit.models.dlt import BaseDLT, DLTFull, DLTAggregated, DLTMAP\n",
    "from orbit.models.base_model import BaseModel\n",
    "from orbit.estimators.stan_estimator import StanEstimator"
   ]
  },
  {
   "cell_type": "code",
   "execution_count": 2,
   "metadata": {},
   "outputs": [
    {
     "name": "stdout",
     "output_type": "stream",
     "text": [
      "Base model class\n",
      "\n",
      "    `BaseModel` will instantiate an estimator class of `estimator_type`.\n",
      "\n",
      "    Each model defines its own `_supported_estimator_types` to determine if\n",
      "    the provided `estimator_type` is supported for that particular model.\n",
      "\n",
      "    Parameters\n",
      "    ----------\n",
      "    estimator_type : orbit.BaseEstimator\n",
      "        Any subclass of `orbit.BaseEstimator`\n",
      "\n",
      "    \n"
     ]
    }
   ],
   "source": [
    "print(BaseModel.__doc__)"
   ]
  },
  {
   "cell_type": "code",
   "execution_count": 3,
   "metadata": {},
   "outputs": [
    {
     "name": "stdout",
     "output_type": "stream",
     "text": [
      "Base model class\n",
      "\n",
      "`BaseModel` will instantiate an estimator class of `estimator_type`.\n",
      "\n",
      "Each model defines its own `_supported_estimator_types` to determine if\n",
      "the provided `estimator_type` is supported for that particular model.\n",
      "\n",
      "Parameters\n",
      "----------\n",
      "estimator_type : orbit.BaseEstimator\n",
      "    Any subclass of `orbit.BaseEstimator`response_col : str\n",
      "    Name of response variable column, default 'y'\n",
      "date_col : str\n",
      "    Name of date variable column, default 'ds'\n",
      "seasonality : int\n",
      "    Length of seasonality\n",
      "seasonality_sm_input : float\n",
      "    float value between [0, 1], applicable only if `seasonality` > 1. A larger value puts\n",
      "    more weight on the current seasonality.\n",
      "    If None, the model will estimate this value.\n",
      "level_sm_input : float\n",
      "    float value between [0, 1]. A larger value puts more weight on the current level.\n",
      "    If None, the model will estimate this value.\n",
      "\n",
      "Other Parameters\n",
      "----------------\n",
      "**kwargs: additional arguments passed into orbit.estimators.stan_estimator or orbit.estimators.pyro_estimator\n"
     ]
    }
   ],
   "source": [
    "print(BaseETS.__doc__)"
   ]
  },
  {
   "cell_type": "code",
   "execution_count": 2,
   "metadata": {},
   "outputs": [
    {
     "name": "stdout",
     "output_type": "stream",
     "text": [
      "Concrete ETS model for full prediction\n",
      "\n",
      "In full prediction, the prediction occurs as a function of each parameter posterior sample,\n",
      "and the prediction results are aggregated after prediction. Prediction will\n",
      "always return the median (aka 50th percentile) along with any additional percentiles that\n",
      "are specified.\n",
      "\n",
      "Parameters\n",
      "----------\n",
      "estimator_type : orbit.BaseEstimator\n",
      "    Any subclass of `orbit.BaseEstimator`response_col : str\n",
      "    Name of response variable column, default 'y'\n",
      "date_col : str\n",
      "    Name of date variable column, default 'ds'\n",
      "seasonality : int\n",
      "    Length of seasonality\n",
      "seasonality_sm_input : float\n",
      "    float value between [0, 1], applicable only if `seasonality` > 1. A larger value puts\n",
      "    more weight on the current seasonality.\n",
      "    If None, the model will estimate this value.\n",
      "level_sm_input : float\n",
      "    float value between [0, 1]. A larger value puts more weight on the current level.\n",
      "    If None, the model will estimate this value.\n",
      "n_bootstrap_draws : int\n",
      "    Number of bootstrap samples to draw from the initial MCMC or VI posterior samples.\n",
      "    If None, use the original posterior draws.\n",
      "prediction_percentiles : list\n",
      "    List of integers of prediction percentiles that should be returned on prediction. To avoid reporting any\n",
      "    confident intervals, pass an empty list\n",
      "\n",
      "Other Parameters\n",
      "----------------\n",
      "**kwargs: additional arguments passed into orbit.estimators.stan_estimator or orbit.estimators.pyro_estimator\n"
     ]
    }
   ],
   "source": [
    "print(ETSFull.__doc__)"
   ]
  },
  {
   "cell_type": "code",
   "execution_count": 5,
   "metadata": {},
   "outputs": [
    {
     "name": "stdout",
     "output_type": "stream",
     "text": [
      "Concrete ETS model for MAP (Maximum a Posteriori) prediction\n",
      "\n",
      "Similar to `ETSAggregated` but prediction is based on Maximum a Posteriori (aka Mode)\n",
      "of the posterior.\n",
      "\n",
      "This model only supports MAP estimating `estimator_type`s\n",
      "\n",
      "Parameters\n",
      "----------\n",
      "estimator_type : orbit.BaseEstimator\n",
      "    Any subclass of `orbit.BaseEstimator`response_col : str\n",
      "    Name of response variable column, default 'y'\n",
      "date_col : str\n",
      "    Name of date variable column, default 'ds'\n",
      "seasonality : int\n",
      "    Length of seasonality\n",
      "seasonality_sm_input : float\n",
      "    float value between [0, 1], applicable only if `seasonality` > 1. A larger value puts\n",
      "    more weight on the current seasonality.\n",
      "    If None, the model will estimate this value.\n",
      "level_sm_input : float\n",
      "    float value between [0, 1]. A larger value puts more weight on the current level.\n",
      "    If None, the model will estimate this value.\n",
      "\n",
      "Other Parameters\n",
      "----------------\n",
      "**kwargs: additional arguments passed into orbit.estimators.stan_estimator or orbit.estimators.pyro_estimator\n"
     ]
    }
   ],
   "source": [
    "print(ETSMAP.__doc__)"
   ]
  },
  {
   "cell_type": "code",
   "execution_count": 6,
   "metadata": {},
   "outputs": [
    {
     "name": "stdout",
     "output_type": "stream",
     "text": [
      "Concrete ETS model for aggregated posterior prediction\n",
      "\n",
      "In aggregated prediction, the parameter posterior samples are reduced using `aggregate_method`\n",
      "before performing a single prediction.\n",
      "\n",
      "Parameters\n",
      "----------\n",
      "estimator_type : orbit.BaseEstimator\n",
      "    Any subclass of `orbit.BaseEstimator`response_col : str\n",
      "    Name of response variable column, default 'y'\n",
      "date_col : str\n",
      "    Name of date variable column, default 'ds'\n",
      "seasonality : int\n",
      "    Length of seasonality\n",
      "seasonality_sm_input : float\n",
      "    float value between [0, 1], applicable only if `seasonality` > 1. A larger value puts\n",
      "    more weight on the current seasonality.\n",
      "    If None, the model will estimate this value.\n",
      "level_sm_input : float\n",
      "    float value between [0, 1]. A larger value puts more weight on the current level.\n",
      "    If None, the model will estimate this value.aggregate_method : { 'mean', 'median' }\n",
      "    Method used to reduce parameter posterior samples\n",
      "\n",
      "Other Parameters\n",
      "----------------\n",
      "**kwargs: additional arguments passed into orbit.estimators.stan_estimator or orbit.estimators.pyro_estimator\n"
     ]
    }
   ],
   "source": [
    "print(ETSAggregated.__doc__)"
   ]
  },
  {
   "cell_type": "code",
   "execution_count": 7,
   "metadata": {},
   "outputs": [
    {
     "name": "stdout",
     "output_type": "stream",
     "text": [
      "Base DLT model object with shared functionality for Full, Aggregated, and MAP methods\n",
      "\n",
      "The model arguments are the same as `BaseLGT` with some additional arguments\n",
      "\n",
      "Parameters\n",
      "----------\n",
      "estimator_type : orbit.BaseEstimator\n",
      "    Any subclass of `orbit.BaseEstimator`response_col : str\n",
      "    Name of response variable column, default 'y'\n",
      "date_col : str\n",
      "    Name of date variable column, default 'ds'\n",
      "seasonality : int\n",
      "    Length of seasonality\n",
      "seasonality_sm_input : float\n",
      "    float value between [0, 1], applicable only if `seasonality` > 1. A larger value puts\n",
      "    more weight on the current seasonality.\n",
      "    If None, the model will estimate this value.\n",
      "level_sm_input : float\n",
      "    float value between [0, 1]. A larger value puts more weight on the current level.\n",
      "    If None, the model will estimate this value.regressor_col : list\n",
      "    Names of regressor columns, if any\n",
      "regressor_sign :  list\n",
      "    list with values { '+', '-', '=' } such that\n",
      "    '+' indicates regressor coefficient estimates are constrained to [0, inf).\n",
      "    '-' indicates regressor coefficient estimates are constrained to (-inf, 0].\n",
      "    '=' indicates regressor coefficient estimates can be any value between (-inf, inf).\n",
      "    The length of `regressor_sign` must be the same length as `regressor_col`. If None,\n",
      "    all elements of list will be set to '='.\n",
      "regressor_beta_prior : list\n",
      "    list of prior float values for regressor coefficient betas. The length of `regressor_beta_prior`\n",
      "    must be the same length as `regressor_col`. If None, use non-informative priors.\n",
      "regressor_sigma_prior : list\n",
      "    list of prior float values for regressor coefficient sigmas. The length of `regressor_sigma_prior`\n",
      "    must be the same length as `regressor_col`. If None, use non-informative priors.\n",
      "regression_penalty : { 'fixed_ridge', 'lasso', 'auto_ridge' }\n",
      "    regression penalty method\n",
      "lasso_scale : float\n",
      "    float value between [0, 1], applicable only if `regression_penalty` == 'lasso'\n",
      "auto_ridge_scale : float\n",
      "    float value between [0, 1], applicable only if `regression_penalty` == 'auto_ridge'\n",
      "slope_sm_input : float\n",
      "    float value between [0, 1]. A larger value puts more weight on the current slope.\n",
      "    If None, the model will estimate this value.\n",
      "period : int\n",
      "    Used to set `time_delta` as `1 / max(period, seasonality)`. If None and no seasonality,\n",
      "    then `time_delta` == 1\n",
      "damped_factor : float\n",
      "    Hyperparameter float value between [0, 1]. A smaller value further dampens the previous\n",
      "    global trend value. Default, 0.8\n",
      "global_trend_option : { 'flat', 'linear', 'loglinear', 'logistic' }\n",
      "    Transformation function for the shape of the forecasted global trend.\n",
      "\n",
      "Other Parameters\n",
      "----------------\n",
      "**kwargs: additional arguments passed into orbit.estimators.stan_estimator or orbit.estimators.pyro_estimator\n",
      "\n",
      "See Also\n",
      "--------\n",
      ":class: `~orbit.models.lgt.BaseETS`\n"
     ]
    }
   ],
   "source": [
    "print(BaseDLT.__doc__)"
   ]
  },
  {
   "cell_type": "code",
   "execution_count": 2,
   "metadata": {},
   "outputs": [
    {
     "name": "stdout",
     "output_type": "stream",
     "text": [
      "Concrete DLT model for full prediction\n",
      "\n",
      "The model arguments are the same as `ETSFull` with some additional arguments\n",
      "\n",
      "Parameters\n",
      "----------\n",
      "estimator_type : orbit.BaseEstimator\n",
      "    Any subclass of `orbit.BaseEstimator`response_col : str\n",
      "    Name of response variable column, default 'y'\n",
      "date_col : str\n",
      "    Name of date variable column, default 'ds'\n",
      "seasonality : int\n",
      "    Length of seasonality\n",
      "seasonality_sm_input : float\n",
      "    float value between [0, 1], applicable only if `seasonality` > 1. A larger value puts\n",
      "    more weight on the current seasonality.\n",
      "    If None, the model will estimate this value.\n",
      "level_sm_input : float\n",
      "    float value between [0, 1]. A larger value puts more weight on the current level.\n",
      "    If None, the model will estimate this value.regressor_col : list\n",
      "    Names of regressor columns, if any\n",
      "regressor_sign :  list\n",
      "    list with values { '+', '-', '=' } such that\n",
      "    '+' indicates regressor coefficient estimates are constrained to [0, inf).\n",
      "    '-' indicates regressor coefficient estimates are constrained to (-inf, 0].\n",
      "    '=' indicates regressor coefficient estimates can be any value between (-inf, inf).\n",
      "    The length of `regressor_sign` must be the same length as `regressor_col`. If None,\n",
      "    all elements of list will be set to '='.\n",
      "regressor_beta_prior : list\n",
      "    list of prior float values for regressor coefficient betas. The length of `regressor_beta_prior`\n",
      "    must be the same length as `regressor_col`. If None, use non-informative priors.\n",
      "regressor_sigma_prior : list\n",
      "    list of prior float values for regressor coefficient sigmas. The length of `regressor_sigma_prior`\n",
      "    must be the same length as `regressor_col`. If None, use non-informative priors.\n",
      "regression_penalty : { 'fixed_ridge', 'lasso', 'auto_ridge' }\n",
      "    regression penalty method\n",
      "lasso_scale : float\n",
      "    float value between [0, 1], applicable only if `regression_penalty` == 'lasso'\n",
      "auto_ridge_scale : float\n",
      "    float value between [0, 1], applicable only if `regression_penalty` == 'auto_ridge'\n",
      "slope_sm_input : float\n",
      "    float value between [0, 1]. A larger value puts more weight on the current slope.\n",
      "    If None, the model will estimate this value.\n",
      "period : int\n",
      "    Used to set `time_delta` as `1 / max(period, seasonality)`. If None and no seasonality,\n",
      "    then `time_delta` == 1\n",
      "damped_factor : float\n",
      "    Hyperparameter float value between [0, 1]. A smaller value further dampens the previous\n",
      "    global trend value. Default, 0.8\n",
      "global_trend_option : { 'flat', 'linear', 'loglinear', 'logistic' }\n",
      "    Transformation function for the shape of the forecasted global trend.n_bootstrap_draws : int\n",
      "    Number of bootstrap samples to draw from the initial MCMC or VI posterior samples.\n",
      "    If None, use the original posterior draws.\n",
      "prediction_percentiles : list\n",
      "    List of integers of prediction percentiles that should be returned on prediction. To avoid reporting any\n",
      "    confident intervals, pass an empty list testing\n",
      "\n",
      "Other Parameters\n",
      "----------------\n",
      "**kwargs: additional arguments passed into orbit.estimators.stan_estimator or orbit.estimators.pyro_estimator\n",
      "\n",
      "See Also\n",
      "--------\n",
      ":class: `~orbit.models.lgt.BaseETS`orbit.models.lgt.ETSFull\n"
     ]
    }
   ],
   "source": [
    "print(DLTFull.__doc__)"
   ]
  },
  {
   "cell_type": "code",
   "execution_count": 9,
   "metadata": {},
   "outputs": [
    {
     "name": "stdout",
     "output_type": "stream",
     "text": [
      "Concrete DLT model for aggregated posterior prediction\n",
      "\n",
      "The model arguments are the same as `ETSAggregated` with some additional arguments\n",
      "\n",
      "Parameters\n",
      "----------\n",
      "estimator_type : orbit.BaseEstimator\n",
      "    Any subclass of `orbit.BaseEstimator`response_col : str\n",
      "    Name of response variable column, default 'y'\n",
      "date_col : str\n",
      "    Name of date variable column, default 'ds'\n",
      "seasonality : int\n",
      "    Length of seasonality\n",
      "seasonality_sm_input : float\n",
      "    float value between [0, 1], applicable only if `seasonality` > 1. A larger value puts\n",
      "    more weight on the current seasonality.\n",
      "    If None, the model will estimate this value.\n",
      "level_sm_input : float\n",
      "    float value between [0, 1]. A larger value puts more weight on the current level.\n",
      "    If None, the model will estimate this value.regressor_col : list\n",
      "    Names of regressor columns, if any\n",
      "regressor_sign :  list\n",
      "    list with values { '+', '-', '=' } such that\n",
      "    '+' indicates regressor coefficient estimates are constrained to [0, inf).\n",
      "    '-' indicates regressor coefficient estimates are constrained to (-inf, 0].\n",
      "    '=' indicates regressor coefficient estimates can be any value between (-inf, inf).\n",
      "    The length of `regressor_sign` must be the same length as `regressor_col`. If None,\n",
      "    all elements of list will be set to '='.\n",
      "regressor_beta_prior : list\n",
      "    list of prior float values for regressor coefficient betas. The length of `regressor_beta_prior`\n",
      "    must be the same length as `regressor_col`. If None, use non-informative priors.\n",
      "regressor_sigma_prior : list\n",
      "    list of prior float values for regressor coefficient sigmas. The length of `regressor_sigma_prior`\n",
      "    must be the same length as `regressor_col`. If None, use non-informative priors.\n",
      "regression_penalty : { 'fixed_ridge', 'lasso', 'auto_ridge' }\n",
      "    regression penalty method\n",
      "lasso_scale : float\n",
      "    float value between [0, 1], applicable only if `regression_penalty` == 'lasso'\n",
      "auto_ridge_scale : float\n",
      "    float value between [0, 1], applicable only if `regression_penalty` == 'auto_ridge'\n",
      "slope_sm_input : float\n",
      "    float value between [0, 1]. A larger value puts more weight on the current slope.\n",
      "    If None, the model will estimate this value.\n",
      "period : int\n",
      "    Used to set `time_delta` as `1 / max(period, seasonality)`. If None and no seasonality,\n",
      "    then `time_delta` == 1\n",
      "damped_factor : float\n",
      "    Hyperparameter float value between [0, 1]. A smaller value further dampens the previous\n",
      "    global trend value. Default, 0.8\n",
      "global_trend_option : { 'flat', 'linear', 'loglinear', 'logistic' }\n",
      "    Transformation function for the shape of the forecasted global trend.aggregate_method : { 'mean', 'median' }\n",
      "    Method used to reduce parameter posterior samples\n",
      "\n",
      "Other Parameters\n",
      "----------------\n",
      "**kwargs: additional arguments passed into orbit.estimators.stan_estimator or orbit.estimators.pyro_estimator\n",
      "\n",
      "See Also\n",
      "--------\n",
      ":class: `~orbit.models.lgt.BaseETS`orbit.models.lgt.ETSAggregated\n"
     ]
    }
   ],
   "source": [
    "print(DLTAggregated.__doc__)"
   ]
  },
  {
   "cell_type": "code",
   "execution_count": 10,
   "metadata": {},
   "outputs": [
    {
     "name": "stdout",
     "output_type": "stream",
     "text": [
      "Concrete DLT model for MAP (Maximum a Posteriori) prediction\n",
      "\n",
      "The model arguments are the same as `ETSMAP` with some additional arguments\n",
      "\n",
      "Parameters\n",
      "----------\n",
      "estimator_type : orbit.BaseEstimator\n",
      "    Any subclass of `orbit.BaseEstimator`response_col : str\n",
      "    Name of response variable column, default 'y'\n",
      "date_col : str\n",
      "    Name of date variable column, default 'ds'\n",
      "seasonality : int\n",
      "    Length of seasonality\n",
      "seasonality_sm_input : float\n",
      "    float value between [0, 1], applicable only if `seasonality` > 1. A larger value puts\n",
      "    more weight on the current seasonality.\n",
      "    If None, the model will estimate this value.\n",
      "level_sm_input : float\n",
      "    float value between [0, 1]. A larger value puts more weight on the current level.\n",
      "    If None, the model will estimate this value.regressor_col : list\n",
      "    Names of regressor columns, if any\n",
      "regressor_sign :  list\n",
      "    list with values { '+', '-', '=' } such that\n",
      "    '+' indicates regressor coefficient estimates are constrained to [0, inf).\n",
      "    '-' indicates regressor coefficient estimates are constrained to (-inf, 0].\n",
      "    '=' indicates regressor coefficient estimates can be any value between (-inf, inf).\n",
      "    The length of `regressor_sign` must be the same length as `regressor_col`. If None,\n",
      "    all elements of list will be set to '='.\n",
      "regressor_beta_prior : list\n",
      "    list of prior float values for regressor coefficient betas. The length of `regressor_beta_prior`\n",
      "    must be the same length as `regressor_col`. If None, use non-informative priors.\n",
      "regressor_sigma_prior : list\n",
      "    list of prior float values for regressor coefficient sigmas. The length of `regressor_sigma_prior`\n",
      "    must be the same length as `regressor_col`. If None, use non-informative priors.\n",
      "regression_penalty : { 'fixed_ridge', 'lasso', 'auto_ridge' }\n",
      "    regression penalty method\n",
      "lasso_scale : float\n",
      "    float value between [0, 1], applicable only if `regression_penalty` == 'lasso'\n",
      "auto_ridge_scale : float\n",
      "    float value between [0, 1], applicable only if `regression_penalty` == 'auto_ridge'\n",
      "slope_sm_input : float\n",
      "    float value between [0, 1]. A larger value puts more weight on the current slope.\n",
      "    If None, the model will estimate this value.\n",
      "period : int\n",
      "    Used to set `time_delta` as `1 / max(period, seasonality)`. If None and no seasonality,\n",
      "    then `time_delta` == 1\n",
      "damped_factor : float\n",
      "    Hyperparameter float value between [0, 1]. A smaller value further dampens the previous\n",
      "    global trend value. Default, 0.8\n",
      "global_trend_option : { 'flat', 'linear', 'loglinear', 'logistic' }\n",
      "    Transformation function for the shape of the forecasted global trend.\n",
      "\n",
      "Other Parameters\n",
      "----------------\n",
      "**kwargs: additional arguments passed into orbit.estimators.stan_estimator or orbit.estimators.pyro_estimator\n",
      "\n",
      "See Also\n",
      "--------\n",
      ":class: `~orbit.models.lgt.BaseETS`orbit.models.lgt.ETSMAP\n"
     ]
    }
   ],
   "source": [
    "print(DLTMAP.__doc__)"
   ]
  },
  {
   "cell_type": "code",
   "execution_count": 11,
   "metadata": {},
   "outputs": [
    {
     "name": "stdout",
     "output_type": "stream",
     "text": [
      "Concrete ETS model for MAP (Maximum a Posteriori) prediction\n",
      "\n",
      "Similar to `ETSAggregated` but prediction is based on Maximum a Posteriori (aka Mode)\n",
      "of the posterior.\n",
      "\n",
      "This model only supports MAP estimating `estimator_type`s\n",
      "\n",
      "Parameters\n",
      "----------\n",
      "estimator_type : orbit.BaseEstimator\n",
      "    Any subclass of `orbit.BaseEstimator`response_col : str\n",
      "    Name of response variable column, default 'y'\n",
      "date_col : str\n",
      "    Name of date variable column, default 'ds'\n",
      "seasonality : int\n",
      "    Length of seasonality\n",
      "seasonality_sm_input : float\n",
      "    float value between [0, 1], applicable only if `seasonality` > 1. A larger value puts\n",
      "    more weight on the current seasonality.\n",
      "    If None, the model will estimate this value.\n",
      "level_sm_input : float\n",
      "    float value between [0, 1]. A larger value puts more weight on the current level.\n",
      "    If None, the model will estimate this value.\n",
      "\n",
      "Other Parameters\n",
      "----------------\n",
      "**kwargs: additional arguments passed into orbit.estimators.stan_estimator or orbit.estimators.pyro_estimator\n"
     ]
    }
   ],
   "source": [
    "print(ETSMAP.__doc__)"
   ]
  },
  {
   "cell_type": "code",
   "execution_count": null,
   "metadata": {},
   "outputs": [],
   "source": []
  }
 ],
 "metadata": {
  "kernelspec": {
   "display_name": "env37_orbit",
   "language": "python",
   "name": "env37_orbit"
  },
  "language_info": {
   "codemirror_mode": {
    "name": "ipython",
    "version": 3
   },
   "file_extension": ".py",
   "mimetype": "text/x-python",
   "name": "python",
   "nbconvert_exporter": "python",
   "pygments_lexer": "ipython3",
   "version": "3.7.7"
  }
 },
 "nbformat": 4,
 "nbformat_minor": 4
}
