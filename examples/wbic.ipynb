{
 "cells": [
  {
   "cell_type": "markdown",
   "metadata": {},
   "source": [
    "# WBIC/BIC"
   ]
  },
  {
   "cell_type": "markdown",
   "metadata": {},
   "source": [
    "This notebook gives a tutorial on how to use Watanabe-Bayesian information criterion (WBIC) and Bayesian information criterion (BIC) for feature selection (Watanabe[2010], McElreath[2015], and Vehtari[2016]). The WBIC or BIC is an information criterion. Similar to other criteria (AIC, DIC), the WBIC/BIC endeavors to find the most parsimonious model, i.e., the model that balances fit with complexity. In other words a model (or set of features) that optimizes WBIC/BIC should neither over nor under fit the available data. \n",
    "\n",
    "In this tutorial a data set is simulated using the damped linear trend (DLT) model. This data set is then used to fit DLT models with varying number of features as well as a global local trend model (GLT), and a Error-Trend-Seasonal (ETS) model. The WBIC/BIC criteria is then show to find the true model. \n",
    "\n",
    "Note that we recommend the use of WBIC for full Bayesian and SVI estimators and BIC for MAP estimator."
   ]
  },
  {
   "cell_type": "code",
   "execution_count": 1,
   "metadata": {
    "ExecuteTime": {
     "end_time": "2022-03-25T01:00:59.543313Z",
     "start_time": "2022-03-25T01:00:57.082822Z"
    }
   },
   "outputs": [],
   "source": [
    "from datetime import timedelta\n",
    "\n",
    "import pandas as pd\n",
    "import numpy as np\n",
    "\n",
    "import matplotlib.pyplot as plt\n",
    "%matplotlib inline\n",
    "\n",
    "import orbit\n",
    "from orbit.models import DLT,ETS, KTRLite, LGT\n",
    "from orbit.utils.simulation import make_trend, make_regression"
   ]
  },
  {
   "cell_type": "code",
   "execution_count": 2,
   "metadata": {
    "ExecuteTime": {
     "end_time": "2022-03-25T01:00:59.549375Z",
     "start_time": "2022-03-25T01:00:59.545300Z"
    }
   },
   "outputs": [
    {
     "name": "stdout",
     "output_type": "stream",
     "text": [
      "1.1.1dev\n"
     ]
    }
   ],
   "source": [
    "print(orbit.__version__)"
   ]
  },
  {
   "cell_type": "markdown",
   "metadata": {
    "toc-hr-collapsed": false
   },
   "source": [
    "## Data Simulation"
   ]
  },
  {
   "cell_type": "markdown",
   "metadata": {},
   "source": [
    "This block of code creats random data set (365 observations with 10 features) assuming a DLT model. Of the 10 features 5 are effective regressors; i.e., they are used in the true model to create the data.\n",
    "\n",
    "As an exerise left to the user once you have run the code once try changing the `NUM_OF_EFFECTIVE_REGRESSORS` (line 2), the `SERIES_LEN` (line 3), and the `SEED` (line 4) to see how it effects the results. "
   ]
  },
  {
   "cell_type": "code",
   "execution_count": 3,
   "metadata": {
    "ExecuteTime": {
     "end_time": "2022-03-25T01:00:59.566063Z",
     "start_time": "2022-03-25T01:00:59.553063Z"
    }
   },
   "outputs": [],
   "source": [
    "NUM_OF_REGRESSORS = 10\n",
    "NUM_OF_EFFECTIVE_REGRESSORS = 4\n",
    "SERIES_LEN = 365\n",
    "SEED = 1\n",
    "# sample some coefficients\n",
    "COEFS = np.random.default_rng(SEED).uniform(-1, 1, NUM_OF_EFFECTIVE_REGRESSORS)\n",
    "trend = make_trend(SERIES_LEN, rw_loc=0.01, rw_scale=0.1)\n",
    "x, regression, coefs = make_regression(series_len=SERIES_LEN, coefs=COEFS)\n",
    "\n",
    "# combine trend and the regression\n",
    "y = trend + regression\n",
    "y = y - y.min()\n",
    "\n",
    "\n",
    "x_extra = np.random.normal(0, 1, (SERIES_LEN, NUM_OF_REGRESSORS - NUM_OF_EFFECTIVE_REGRESSORS))\n",
    "x = np.concatenate([x, x_extra], axis=-1)\n",
    "\n",
    "x_cols = [f\"x{x}\" for x in range(1, NUM_OF_REGRESSORS + 1)]\n",
    "response_col = \"y\"\n",
    "dt_col = \"date\"\n",
    "obs_matrix = np.concatenate([y.reshape(-1, 1), x], axis=1)\n",
    "# make a data frame for orbit inputs\n",
    "df = pd.DataFrame(obs_matrix, columns=[response_col] + x_cols)\n",
    "# make some dummy date stamp\n",
    "dt = pd.date_range(start='2016-01-04', periods=SERIES_LEN, freq=\"1W\")\n",
    "df['date'] = dt"
   ]
  },
  {
   "cell_type": "code",
   "execution_count": 4,
   "metadata": {
    "ExecuteTime": {
     "end_time": "2022-03-25T01:00:59.577457Z",
     "start_time": "2022-03-25T01:00:59.568215Z"
    }
   },
   "outputs": [
    {
     "name": "stdout",
     "output_type": "stream",
     "text": [
      "(365, 12)\n",
      "          y        x1        x2        x3        x4        x5        x6  \\\n",
      "0  4.426242  0.172792  0.000000  0.165219 -0.000000  1.423322  1.301471   \n",
      "1  5.580432  0.452678  0.223187 -0.000000  0.290559 -1.024741  0.184248   \n",
      "2  5.031773  0.182286  0.147066  0.014211  0.273356  0.280129 -0.505640   \n",
      "3  3.264027 -0.368227 -0.081455 -0.241060  0.299423  0.239474  1.030042   \n",
      "4  5.246511  0.019861 -0.146228 -0.390954 -0.128596 -1.383825  1.380475   \n",
      "\n",
      "         x7        x8        x9       x10       date  \n",
      "0 -0.800659  0.076600 -0.067121  0.607613 2016-01-10  \n",
      "1  0.116189 -0.398064  1.097113 -2.235996 2016-01-17  \n",
      "2 -0.899321  0.269387 -2.176335  0.017437 2016-01-24  \n",
      "3 -0.457549 -0.427036 -0.097208 -0.432638 2016-01-31  \n",
      "4  0.427569  0.445645 -0.201212 -0.080081 2016-02-07  \n"
     ]
    }
   ],
   "source": [
    "print(df.shape)\n",
    "print(df.head())"
   ]
  },
  {
   "cell_type": "markdown",
   "metadata": {},
   "source": [
    "## WBIC"
   ]
  },
  {
   "cell_type": "markdown",
   "metadata": {},
   "source": [
    "In this section, we use DLT model as an example. Different DLT models (the number of features used changes) are fitted and their WBIC values are calculated respectively."
   ]
  },
  {
   "cell_type": "code",
   "execution_count": 5,
   "metadata": {
    "ExecuteTime": {
     "end_time": "2022-03-25T01:05:42.822823Z",
     "start_time": "2022-03-25T01:00:59.579560Z"
    }
   },
   "outputs": [
    {
     "name": "stderr",
     "output_type": "stream",
     "text": [
      "INFO:orbit:Sampling (PyStan) with chains: 4, cores: 8, temperature: 5.900, warmups (per chain): 1000 and samples(per chain): 1000.\n",
      "WARNING:pystan:Maximum (flat) parameter count (1000) exceeded: skipping diagnostic tests for n_eff and Rhat.\n",
      "To run all diagnostics call pystan.check_hmc_diagnostics(fit)\n",
      "INFO:orbit:Sampling (PyStan) with chains: 4, cores: 8, temperature: 5.900, warmups (per chain): 1000 and samples(per chain): 1000.\n"
     ]
    },
    {
     "name": "stdout",
     "output_type": "stream",
     "text": [
      "WBIC value with 0 regressors: 1202.366\n",
      "------------------------------------------------------------------\n"
     ]
    },
    {
     "name": "stderr",
     "output_type": "stream",
     "text": [
      "WARNING:pystan:Maximum (flat) parameter count (1000) exceeded: skipping diagnostic tests for n_eff and Rhat.\n",
      "To run all diagnostics call pystan.check_hmc_diagnostics(fit)\n",
      "INFO:orbit:Sampling (PyStan) with chains: 4, cores: 8, temperature: 5.900, warmups (per chain): 1000 and samples(per chain): 1000.\n"
     ]
    },
    {
     "name": "stdout",
     "output_type": "stream",
     "text": [
      "WBIC value with 1 regressors: 1150.291\n",
      "------------------------------------------------------------------\n"
     ]
    },
    {
     "name": "stderr",
     "output_type": "stream",
     "text": [
      "WARNING:pystan:Maximum (flat) parameter count (1000) exceeded: skipping diagnostic tests for n_eff and Rhat.\n",
      "To run all diagnostics call pystan.check_hmc_diagnostics(fit)\n",
      "INFO:orbit:Sampling (PyStan) with chains: 4, cores: 8, temperature: 5.900, warmups (per chain): 1000 and samples(per chain): 1000.\n"
     ]
    },
    {
     "name": "stdout",
     "output_type": "stream",
     "text": [
      "WBIC value with 2 regressors: 1104.491\n",
      "------------------------------------------------------------------\n"
     ]
    },
    {
     "name": "stderr",
     "output_type": "stream",
     "text": [
      "WARNING:pystan:Maximum (flat) parameter count (1000) exceeded: skipping diagnostic tests for n_eff and Rhat.\n",
      "To run all diagnostics call pystan.check_hmc_diagnostics(fit)\n",
      "INFO:orbit:Sampling (PyStan) with chains: 4, cores: 8, temperature: 5.900, warmups (per chain): 1000 and samples(per chain): 1000.\n"
     ]
    },
    {
     "name": "stdout",
     "output_type": "stream",
     "text": [
      "WBIC value with 3 regressors: 1054.450\n",
      "------------------------------------------------------------------\n"
     ]
    },
    {
     "name": "stderr",
     "output_type": "stream",
     "text": [
      "WARNING:pystan:Maximum (flat) parameter count (1000) exceeded: skipping diagnostic tests for n_eff and Rhat.\n",
      "To run all diagnostics call pystan.check_hmc_diagnostics(fit)\n",
      "INFO:orbit:Sampling (PyStan) with chains: 4, cores: 8, temperature: 5.900, warmups (per chain): 1000 and samples(per chain): 1000.\n"
     ]
    },
    {
     "name": "stdout",
     "output_type": "stream",
     "text": [
      "WBIC value with 4 regressors: 1061.073\n",
      "------------------------------------------------------------------\n"
     ]
    },
    {
     "name": "stderr",
     "output_type": "stream",
     "text": [
      "WARNING:pystan:Maximum (flat) parameter count (1000) exceeded: skipping diagnostic tests for n_eff and Rhat.\n",
      "To run all diagnostics call pystan.check_hmc_diagnostics(fit)\n",
      "INFO:orbit:Sampling (PyStan) with chains: 4, cores: 8, temperature: 5.900, warmups (per chain): 1000 and samples(per chain): 1000.\n"
     ]
    },
    {
     "name": "stdout",
     "output_type": "stream",
     "text": [
      "WBIC value with 5 regressors: 1066.583\n",
      "------------------------------------------------------------------\n"
     ]
    },
    {
     "name": "stderr",
     "output_type": "stream",
     "text": [
      "WARNING:pystan:Maximum (flat) parameter count (1000) exceeded: skipping diagnostic tests for n_eff and Rhat.\n",
      "To run all diagnostics call pystan.check_hmc_diagnostics(fit)\n",
      "INFO:orbit:Sampling (PyStan) with chains: 4, cores: 8, temperature: 5.900, warmups (per chain): 1000 and samples(per chain): 1000.\n"
     ]
    },
    {
     "name": "stdout",
     "output_type": "stream",
     "text": [
      "WBIC value with 6 regressors: 1071.716\n",
      "------------------------------------------------------------------\n"
     ]
    },
    {
     "name": "stderr",
     "output_type": "stream",
     "text": [
      "WARNING:pystan:Maximum (flat) parameter count (1000) exceeded: skipping diagnostic tests for n_eff and Rhat.\n",
      "To run all diagnostics call pystan.check_hmc_diagnostics(fit)\n",
      "INFO:orbit:Sampling (PyStan) with chains: 4, cores: 8, temperature: 5.900, warmups (per chain): 1000 and samples(per chain): 1000.\n"
     ]
    },
    {
     "name": "stdout",
     "output_type": "stream",
     "text": [
      "WBIC value with 7 regressors: 1079.906\n",
      "------------------------------------------------------------------\n"
     ]
    },
    {
     "name": "stderr",
     "output_type": "stream",
     "text": [
      "WARNING:pystan:Maximum (flat) parameter count (1000) exceeded: skipping diagnostic tests for n_eff and Rhat.\n",
      "To run all diagnostics call pystan.check_hmc_diagnostics(fit)\n",
      "INFO:orbit:Sampling (PyStan) with chains: 4, cores: 8, temperature: 5.900, warmups (per chain): 1000 and samples(per chain): 1000.\n"
     ]
    },
    {
     "name": "stdout",
     "output_type": "stream",
     "text": [
      "WBIC value with 8 regressors: 1085.978\n",
      "------------------------------------------------------------------\n"
     ]
    },
    {
     "name": "stderr",
     "output_type": "stream",
     "text": [
      "WARNING:pystan:Maximum (flat) parameter count (1000) exceeded: skipping diagnostic tests for n_eff and Rhat.\n",
      "To run all diagnostics call pystan.check_hmc_diagnostics(fit)\n"
     ]
    },
    {
     "name": "stdout",
     "output_type": "stream",
     "text": [
      "WBIC value with 9 regressors: 1091.978\n",
      "------------------------------------------------------------------\n",
      "CPU times: user 3.18 s, sys: 3.99 s, total: 7.16 s\n",
      "Wall time: 4min 43s\n"
     ]
    }
   ],
   "source": [
    "%%time\n",
    "WBIC_ls = []\n",
    "for k in range(0, NUM_OF_REGRESSORS):\n",
    "    regressor_col = x_cols[:k + 1]\n",
    "    dlt_mod = DLT(\n",
    "        response_col=response_col,\n",
    "        date_col=dt_col,\n",
    "        regressor_col=regressor_col,\n",
    "        seed=2022,\n",
    "        # fixing the smoothing parameters to learn regression coefficients more effectively\n",
    "        level_sm_input=0.01,\n",
    "        slope_sm_input=0.01,\n",
    "        num_warmup=4000,\n",
    "        num_sample=4000,\n",
    "        )\n",
    "    WBIC_temp = dlt_mod.fit_wbic(df=df) \n",
    "    print(\"WBIC value with {:d} regressors: {:.3f}\".format(k, WBIC_temp))\n",
    "    print('------------------------------------------------------------------')\n",
    "    WBIC_ls.append(WBIC_temp)"
   ]
  },
  {
   "cell_type": "markdown",
   "metadata": {},
   "source": [
    "It is also interesting to see if WBIC can distinguish between model types; not just do feature selection for a given type of model. To that end the next block fits an LGT and ETS model to the data; the WBIC values for both models are then calculated.  \n",
    "\n",
    "Note that WBIC is supported for both  the 'stan-mcmc' and 'pyro-svi' estimators. Currently only the LGT model has both. Thus WBIC is calculated for GLT for both estimators. \n"
   ]
  },
  {
   "cell_type": "code",
   "execution_count": 6,
   "metadata": {
    "ExecuteTime": {
     "end_time": "2022-03-25T01:06:42.858826Z",
     "start_time": "2022-03-25T01:05:42.825873Z"
    },
    "scrolled": false
   },
   "outputs": [
    {
     "name": "stderr",
     "output_type": "stream",
     "text": [
      "INFO:orbit:Sampling (PyStan) with chains: 4, cores: 8, temperature: 5.900, warmups (per chain): 225 and samples(per chain): 25.\n",
      "WARNING:pystan:Maximum (flat) parameter count (1000) exceeded: skipping diagnostic tests for n_eff and Rhat.\n",
      "To run all diagnostics call pystan.check_hmc_diagnostics(fit)\n",
      "INFO:orbit:Using SVI (Pyro) with steps: 301, samples: 100, learning rate: 0.1, learning_rate_total_decay: 1.0 and particles: 100.\n",
      "INFO:root:Guessed max_plate_nesting = 2\n"
     ]
    },
    {
     "name": "stdout",
     "output_type": "stream",
     "text": [
      "WBIC value for LGT model (stan MCMC): 1142.842\n"
     ]
    },
    {
     "name": "stderr",
     "output_type": "stream",
     "text": [
      "INFO:orbit:step    0 loss = 314.68, scale = 0.11548\n",
      "INFO:orbit:step  100 loss = 116.78, scale = 0.50484\n",
      "INFO:orbit:step  200 loss = 116.78, scale = 0.50891\n",
      "INFO:orbit:step  300 loss = 116.8, scale = 0.50979\n",
      "INFO:orbit:Sampling (PyStan) with chains: 4, cores: 8, temperature: 5.900, warmups (per chain): 225 and samples(per chain): 25.\n"
     ]
    },
    {
     "name": "stdout",
     "output_type": "stream",
     "text": [
      "WBIC value for LGT model (pyro SVI): 1130.477\n"
     ]
    },
    {
     "name": "stderr",
     "output_type": "stream",
     "text": [
      "WARNING:pystan:n_eff / iter below 0.001 indicates that the effective sample size has likely been overestimated\n",
      "WARNING:pystan:Rhat above 1.1 or below 0.9 indicates that the chains very likely have not mixed\n"
     ]
    },
    {
     "name": "stdout",
     "output_type": "stream",
     "text": [
      "WBIC value for ETS model: 1203.031\n",
      "CPU times: user 52.6 s, sys: 7.77 s, total: 1min\n",
      "Wall time: 1min\n"
     ]
    }
   ],
   "source": [
    "%%time\n",
    "lgt = LGT(response_col=response_col,\n",
    "          date_col=dt_col,\n",
    "          regressor_col=regressor_col,\n",
    "          seasonality=52,\n",
    "          estimator='stan-mcmc',\n",
    "          seed=8888)\n",
    "WBIC_lgt_mcmc = lgt.fit_wbic(df=df) \n",
    "print(\"WBIC value for LGT model (stan MCMC): {:.3f}\".format( WBIC_lgt_mcmc))\n",
    "\n",
    "lgt = LGT(response_col=response_col,\n",
    "          date_col=dt_col,\n",
    "          regressor_col=regressor_col,\n",
    "          seasonality=52,\n",
    "          estimator='pyro-svi',\n",
    "          seed=8888)\n",
    "WBIC_lgt_pyro = lgt.fit_wbic(df=df) \n",
    "print(\"WBIC value for LGT model (pyro SVI): {:.3f}\".format( WBIC_lgt_pyro))\n",
    "\n",
    "ets = ETS(\n",
    "        response_col=response_col,\n",
    "        date_col=dt_col,\n",
    "        seed=2020,\n",
    "        # fixing the smoothing parameters to learn regression coefficients more effectively\n",
    "        level_sm_input=0.01,\n",
    "    )\n",
    "\n",
    "WBIC_ets = ets.fit_wbic(df=df) \n",
    "print(\"WBIC value for ETS model: {:.3f}\".format( WBIC_ets))\n",
    "\n",
    "WBIC_ls.append(WBIC_lgt_mcmc)\n",
    "WBIC_ls.append(WBIC_lgt_pyro)\n",
    "WBIC_ls.append(WBIC_ets)"
   ]
  },
  {
   "cell_type": "markdown",
   "metadata": {},
   "source": [
    "The plot below shows the WBIC vs the number of features / model type (blue line). The true model is indicated by the vertical red line. The horizontal gray line shows the minimum (optimal) value. The minimum is at the true value. "
   ]
  },
  {
   "cell_type": "code",
   "execution_count": 7,
   "metadata": {
    "ExecuteTime": {
     "end_time": "2022-03-25T01:06:43.064656Z",
     "start_time": "2022-03-25T01:06:42.861185Z"
    }
   },
   "outputs": [
    {
     "data": {
      "image/png": "[encoded data removed]",
      "text/plain": [
       "<Figure size 960x480 with 1 Axes>"
      ]
     },
     "metadata": {
      "needs_background": "light"
     },
     "output_type": "display_data"
    }
   ],
   "source": [
    "labels = [\"DLT_{}\".format(x) for x in range(1, NUM_OF_REGRESSORS + 1)] + ['LGT_MCMC', 'LGT_SVI','ETS']\n",
    "fig, ax = plt.subplots(1, 1,figsize=(12, 6), dpi=80)\n",
    "markerline, stemlines, baseline = ax.stem(\n",
    "    np.arange(len(labels)), np.array(WBIC_ls), label='WBIC', markerfmt='D')\n",
    "baseline.set_color('none')\n",
    "markerline.set_markersize(12)\n",
    "ax.set_ylim(1020, )\n",
    "ax.set_xticks(np.arange(len(labels)))\n",
    "ax.set_xticklabels(labels)\n",
    "# because list type is mixed index from 1;\n",
    "ax.axvline(x=NUM_OF_EFFECTIVE_REGRESSORS - 1, color='red', linewidth=3, alpha=0.5, linestyle='-', label='truth') \n",
    "ax.set_ylabel(\"WBIC\")\n",
    "ax.set_xlabel(\"# of Features / Model Type\")\n",
    "ax.legend();"
   ]
  },
  {
   "cell_type": "markdown",
   "metadata": {},
   "source": [
    "## BIC"
   ]
  },
  {
   "cell_type": "markdown",
   "metadata": {},
   "source": [
    "In this section, we use DLT model as an example. Different DLT models (the number of features used changes) are fitted and their BIC values are calculated respectively."
   ]
  },
  {
   "cell_type": "code",
   "execution_count": 8,
   "metadata": {
    "ExecuteTime": {
     "end_time": "2022-03-25T01:06:43.874445Z",
     "start_time": "2022-03-25T01:06:43.069491Z"
    }
   },
   "outputs": [
    {
     "name": "stderr",
     "output_type": "stream",
     "text": [
      "INFO:orbit:Optimizing (PyStan) with algorithm: LBFGS.\n",
      "INFO:orbit:Optimizing (PyStan) with algorithm: LBFGS.\n",
      "INFO:orbit:Optimizing (PyStan) with algorithm: LBFGS.\n",
      "INFO:orbit:Optimizing (PyStan) with algorithm: LBFGS.\n",
      "INFO:orbit:Optimizing (PyStan) with algorithm: LBFGS.\n"
     ]
    },
    {
     "name": "stdout",
     "output_type": "stream",
     "text": [
      "BIC value with 1 regressors: 1247.445\n",
      "------------------------------------------------------------------\n",
      "BIC value with 2 regressors: 1191.889\n",
      "------------------------------------------------------------------\n",
      "BIC value with 3 regressors: 1139.408\n",
      "------------------------------------------------------------------\n",
      "BIC value with 4 regressors: 1079.639\n",
      "------------------------------------------------------------------\n"
     ]
    },
    {
     "name": "stderr",
     "output_type": "stream",
     "text": [
      "INFO:orbit:Optimizing (PyStan) with algorithm: LBFGS.\n",
      "INFO:orbit:Optimizing (PyStan) with algorithm: LBFGS.\n"
     ]
    },
    {
     "name": "stdout",
     "output_type": "stream",
     "text": [
      "BIC value with 5 regressors: 1082.517\n",
      "------------------------------------------------------------------\n",
      "BIC value with 6 regressors: 1081.891\n",
      "------------------------------------------------------------------\n"
     ]
    },
    {
     "name": "stderr",
     "output_type": "stream",
     "text": [
      "INFO:orbit:Optimizing (PyStan) with algorithm: LBFGS.\n",
      "INFO:orbit:Optimizing (PyStan) with algorithm: LBFGS.\n"
     ]
    },
    {
     "name": "stdout",
     "output_type": "stream",
     "text": [
      "BIC value with 7 regressors: 1081.042\n",
      "------------------------------------------------------------------\n",
      "BIC value with 8 regressors: 1080.961\n",
      "------------------------------------------------------------------\n"
     ]
    },
    {
     "name": "stderr",
     "output_type": "stream",
     "text": [
      "INFO:orbit:Optimizing (PyStan) with algorithm: LBFGS.\n"
     ]
    },
    {
     "name": "stdout",
     "output_type": "stream",
     "text": [
      "BIC value with 9 regressors: 1080.888\n",
      "------------------------------------------------------------------\n",
      "BIC value with 10 regressors: 1189.240\n",
      "------------------------------------------------------------------\n",
      "CPU times: user 748 ms, sys: 50.9 ms, total: 799 ms\n",
      "Wall time: 800 ms\n"
     ]
    }
   ],
   "source": [
    "%%time\n",
    "BIC_ls = []\n",
    "for k in range(0, NUM_OF_REGRESSORS):\n",
    "    regressor_col = x_cols[:k + 1]\n",
    "    dlt_mod = DLT(\n",
    "        estimator='stan-map',\n",
    "        response_col=response_col,\n",
    "        date_col=dt_col,\n",
    "        regressor_col=regressor_col,\n",
    "        seed=2022,\n",
    "        # fixing the smoothing parameters to learn regression coefficients more effectively\n",
    "        level_sm_input=0.01,\n",
    "        slope_sm_input=0.01,\n",
    "        )\n",
    "    dlt_mod.fit(df=df)\n",
    "    BIC_temp = dlt_mod.get_bic() \n",
    "    print(\"BIC value with {:d} regressors: {:.3f}\".format(k + 1, BIC_temp))\n",
    "    print('------------------------------------------------------------------')\n",
    "    BIC_ls.append(BIC_temp)"
   ]
  },
  {
   "cell_type": "markdown",
   "metadata": {},
   "source": [
    "The plot below shows the BIC vs the number of features (blue line). The true model is indicated by the vertical red line. The horizontal gray line shows the minimum (optimal) value. The minimum is at the true value. "
   ]
  },
  {
   "cell_type": "code",
   "execution_count": 9,
   "metadata": {
    "ExecuteTime": {
     "end_time": "2022-03-25T01:06:44.054469Z",
     "start_time": "2022-03-25T01:06:43.876697Z"
    }
   },
   "outputs": [
    {
     "data": {
      "image/png": "[encoded data removed]",
      "text/plain": [
       "<Figure size 960x480 with 1 Axes>"
      ]
     },
     "metadata": {
      "needs_background": "light"
     },
     "output_type": "display_data"
    }
   ],
   "source": [
    "labels = [\"DLT_{}\".format(x) for x in range(1, NUM_OF_REGRESSORS + 1)]\n",
    "fig, ax = plt.subplots(1, 1,figsize=(12, 6), dpi=80)\n",
    "markerline, stemlines, baseline = ax.stem(\n",
    "    np.arange(len(labels)), np.array(BIC_ls), label='BIC', markerfmt='D')\n",
    "baseline.set_color('none')\n",
    "markerline.set_markersize(12)\n",
    "ax.set_ylim(1020, )\n",
    "ax.set_xticks(np.arange(len(labels)))\n",
    "ax.set_xticklabels(labels)\n",
    "# because list type is mixed index from 1;\n",
    "ax.axvline(x=NUM_OF_EFFECTIVE_REGRESSORS - 1, color='red', linewidth=3, alpha=0.5, linestyle='-', label='truth') \n",
    "ax.set_ylabel(\"BIC\")\n",
    "ax.set_xlabel(\"# of Features\")\n",
    "ax.legend();"
   ]
  },
  {
   "cell_type": "markdown",
   "metadata": {},
   "source": [
    "## References\n",
    "\n",
    "1. Watanabe Sumio (2010). \"Asymptotic Equivalence of Bayes Cross Validation and Widely Applicable Information Criterion in Singular Learning Theory\". Journal of Machine Learning Research. 11: 3571–3594.\n",
    "2. McElreath Richard (2015). \"Statistical Rethinking: A Bayesian course with examples in R and Stan\" Secound Ed. 193-221.\n",
    "3. Vehtari Aki, Gelman Andrew, Gabry Jonah (2016) \"Practical Bayesian model evaluation using leave-one-out cross-validation and WAIC\"\n"
   ]
  }
 ],
 "metadata": {
  "kernelspec": {
   "display_name": "Python 3",
   "language": "python",
   "name": "python3"
  },
  "language_info": {
   "codemirror_mode": {
    "name": "ipython",
    "version": 3
   },
   "file_extension": ".py",
   "mimetype": "text/x-python",
   "name": "python",
   "nbconvert_exporter": "python",
   "pygments_lexer": "ipython3",
   "version": "3.7.8"
  },
  "toc": {
   "base_numbering": 1,
   "nav_menu": {},
   "number_sections": true,
   "sideBar": true,
   "skip_h1_title": true,
   "title_cell": "Table of Contents",
   "title_sidebar": "Contents",
   "toc_cell": false,
   "toc_position": {},
   "toc_section_display": true,
   "toc_window_display": true
  }
 },
 "nbformat": 4,
 "nbformat_minor": 4
}
