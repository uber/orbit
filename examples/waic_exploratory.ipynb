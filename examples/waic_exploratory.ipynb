{
 "cells": [
  {
   "cell_type": "markdown",
   "id": "wicked-application",
   "metadata": {},
   "source": [
    "This notebook gives some examples of the Widely Applicable Information Criterion (WAIC) and its use with STAN.\n",
    "\n",
    "\n",
    "The three cases considered are:\n",
    "<ol>\n",
    "<li>Linear Model vs Generalized Linear Model</li>\n",
    "<li>Linear model feature selection </li>\n",
    "<li>AR order determination </li>\n",
    "</ol>"
   ]
  },
  {
   "cell_type": "code",
   "execution_count": 1,
   "id": "accessible-carter",
   "metadata": {},
   "outputs": [],
   "source": [
    "# this section imports stuff \n",
    "import pandas as pd\n",
    "import numpy as np\n",
    "import pystan\n",
    "import matplotlib.pyplot as plt\n",
    "import seaborn as sns\n",
    "from pystan import StanModel\n",
    "import arviz as az\n",
    "from platform import python_version\n",
    "import matplotlib.pyplot as plt\n",
    "from orbit.utils.simulation import make_regression"
   ]
  },
  {
   "cell_type": "code",
   "execution_count": 2,
   "id": "surrounded-alloy",
   "metadata": {},
   "outputs": [],
   "source": [
    "%matplotlib inline"
   ]
  },
  {
   "cell_type": "code",
   "execution_count": 3,
   "id": "simple-thirty",
   "metadata": {},
   "outputs": [
    {
     "name": "stdout",
     "output_type": "stream",
     "text": [
      "pandas: 1.3.1\n",
      "numpy: 1.21.1\n",
      "pystan: 2.19.1.1\n",
      "3.7.8\n"
     ]
    }
   ],
   "source": [
    "# check the things!\n",
    "print('pandas: {}'.format(pd.__version__))\n",
    "print('numpy: {}'.format(np.__version__))\n",
    "print('pystan: {}'.format(pystan.__version__))\n",
    "print(python_version())"
   ]
  },
  {
   "cell_type": "markdown",
   "id": "humanitarian-shanghai",
   "metadata": {},
   "source": [
    "This section gives the WAIC function. For it to work the models must have a log probability of each observation for each sample. \n",
    "\n",
    "Note that the penalty term (k) is currently left as an argument to the user. In \"Understanding predictive information criteria for Bayesian models” and \"Practical Bayesian model evaluation using leave-one-out cross-validation and WAIC\" k=2 is assumed. As is discussed here k = log(n) mighte be another choice. Note this is not WBIC which is its own thing. \n",
    "\n"
   ]
  },
  {
   "cell_type": "code",
   "execution_count": 4,
   "id": "starting-involvement",
   "metadata": {},
   "outputs": [],
   "source": [
    "#WAIC\n",
    "def WAIC(log_p, k = 2 ):\n",
    "    P_WAIC2 = np.nansum(log_p.var(axis=0)) # the effective number of paramters \n",
    "    lppd = np.nansum(np.log(np.exp(log_p).mean(axis=0))) # the sum of log pointwise predictive density\n",
    "    WAIC = -2*lppd +k* P_WAIC2 \n",
    "    return WAIC, lppd, P_WAIC2"
   ]
  },
  {
   "cell_type": "markdown",
   "id": "photographic-pakistan",
   "metadata": {},
   "source": [
    "## First example:\n",
    "This example considers the fitting of linear model with both a normal and a  Generalized normal distribution "
   ]
  },
  {
   "cell_type": "code",
   "execution_count": 5,
   "id": "efficient-trinidad",
   "metadata": {},
   "outputs": [
    {
     "name": "stdout",
     "output_type": "stream",
     "text": [
      "(1000, 3)\n",
      "(1000,)\n",
      "[2.6 0.2 0.1]\n"
     ]
    }
   ],
   "source": [
    "# make data \n",
    "n = 1000\n",
    "x0 = np.ones(n)\n",
    "x1 = np.random.normal(0, 10, n)\n",
    "x2 = np.random.normal(0, 0.5, n)\n",
    "\n",
    "X = np.vstack([x0, x1, x2]).transpose()\n",
    "\n",
    "\n",
    "coefs = np.array([2.6, 0.2, 0.1])\n",
    "yhat = np.matmul(X, coefs)\n",
    "y = np.random.normal(yhat, 1)\n",
    "print(X.shape)\n",
    "print(y.shape)\n",
    "print(coefs)"
   ]
  },
  {
   "cell_type": "markdown",
   "id": "dutch-specification",
   "metadata": {},
   "source": [
    "Four parts to a STAN process. Data, Model, Fitting, and outputs"
   ]
  },
  {
   "cell_type": "code",
   "execution_count": 6,
   "id": "micro-miami",
   "metadata": {},
   "outputs": [],
   "source": [
    "# data\n",
    "data = {\n",
    "    'n_obs': len(y),\n",
    "    'n_features': X.shape[1],\n",
    "    'y': y,\n",
    "    'X': X,\n",
    "}"
   ]
  },
  {
   "cell_type": "code",
   "execution_count": 7,
   "id": "descending-mainstream",
   "metadata": {},
   "outputs": [
    {
     "name": "stderr",
     "output_type": "stream",
     "text": [
      "INFO:pystan:COMPILING THE C++ CODE FOR MODEL anon_model_412e1436f24115a7272534d9976f78f6 NOW.\n"
     ]
    },
    {
     "name": "stdout",
     "output_type": "stream",
     "text": [
      "CPU times: user 999 ms, sys: 80.8 ms, total: 1.08 s\n",
      "Wall time: 46.6 s\n"
     ]
    }
   ],
   "source": [
    "%%time\n",
    "# make model 1 \n",
    "model_code = \"\"\"\n",
    "\n",
    "    data {\n",
    "      int<lower=0> n_obs;\n",
    "      int<lower=0> n_features;\n",
    "      vector[n_obs] y;\n",
    "      // real y[n_obs];\n",
    "      matrix[n_obs, n_features] X;\n",
    "    }\n",
    "    \n",
    "    parameters{\n",
    "      vector[n_features] beta;\n",
    "      real<lower=0> sigma;\n",
    "    }\n",
    "    \n",
    "    transformed parameters {\n",
    "      vector[n_obs] yhat;\n",
    "      vector[n_obs] log_p;\n",
    "      yhat = X * beta;\n",
    "      for (i in 1:n_obs)\n",
    "        log_p[i] = normal_lpdf(y[i]|yhat[i], sigma);\n",
    "    }\n",
    "    \n",
    "    model {\n",
    "\n",
    "      y ~ normal(yhat, sigma);\n",
    "    }\n",
    "    \n",
    "\"\"\"\n",
    "sm_simple = StanModel(model_code=model_code)"
   ]
  },
  {
   "cell_type": "code",
   "execution_count": 8,
   "id": "passing-texture",
   "metadata": {},
   "outputs": [
    {
     "name": "stderr",
     "output_type": "stream",
     "text": [
      "INFO:pystan:COMPILING THE C++ CODE FOR MODEL anon_model_b4b8122407a34d7b8cd18507d807e8a2 NOW.\n"
     ]
    },
    {
     "name": "stdout",
     "output_type": "stream",
     "text": [
      "CPU times: user 1.04 s, sys: 67.5 ms, total: 1.1 s\n",
      "Wall time: 45.4 s\n"
     ]
    }
   ],
   "source": [
    "%%time\n",
    "# make model 2 \n",
    "model_code = \"\"\"\n",
    "    functions{\n",
    "    real gen_norm_lpdf(real x, real alpha, real beta, real mu){\n",
    "        return(log(beta) - log(2*alpha)- lgamma(1/beta) - pow(fabs(x-mu)/alpha, beta) );        \n",
    "        }\n",
    "    }\n",
    "\n",
    "\n",
    "    data {\n",
    "      int<lower=0> n_obs;\n",
    "      int<lower=0> n_features;\n",
    "      vector[n_obs] y;\n",
    "      // real y[n_obs];\n",
    "      matrix[n_obs, n_features] X;\n",
    "    }\n",
    "    \n",
    "\n",
    "    \n",
    "    parameters{\n",
    "      vector[n_features] m;\n",
    "      real<lower=0> alpha;\n",
    "      real<lower=0,upper=5> beta;\n",
    "    }\n",
    "    \n",
    "    transformed parameters {\n",
    "      vector[n_obs] yhat;\n",
    "      vector[n_obs] log_p;\n",
    "      yhat = X * m;\n",
    "      for (i in 1:n_obs)\n",
    "          log_p[i] = log(beta) - log(2*alpha)- lgamma(1/beta) - pow(fabs(y[i]-yhat[i])/alpha, beta);\n",
    "    }\n",
    "    \n",
    "    model {\n",
    "      //vector[n_obs] yhat;\n",
    "      //yhat = X * m;\n",
    "      alpha ~ uniform(0, 10);\n",
    "      beta ~ uniform(0, 5);\n",
    "      \n",
    "      for (i in 1:n_obs)\n",
    "          target += gen_norm_lpdf(y[i]| alpha, beta, yhat[i] );\n",
    "      //y ~ normal(yhat, alpha);\n",
    "    }\n",
    "    \n",
    "\"\"\"\n",
    "sm_complex = StanModel(model_code=model_code)"
   ]
  },
  {
   "cell_type": "code",
   "execution_count": 9,
   "id": "relevant-metadata",
   "metadata": {},
   "outputs": [
    {
     "name": "stderr",
     "output_type": "stream",
     "text": [
      "WARNING:pystan:Maximum (flat) parameter count (1000) exceeded: skipping diagnostic tests for n_eff and Rhat.\n",
      "To run all diagnostics call pystan.check_hmc_diagnostics(fit)\n",
      "WARNING:pystan:Maximum (flat) parameter count (1000) exceeded: skipping diagnostic tests for n_eff and Rhat.\n",
      "To run all diagnostics call pystan.check_hmc_diagnostics(fit)\n"
     ]
    },
    {
     "name": "stdout",
     "output_type": "stream",
     "text": [
      "CPU times: user 1.37 s, sys: 13.8 s, total: 15.2 s\n",
      "Wall time: 1min 13s\n"
     ]
    }
   ],
   "source": [
    "%%time\n",
    "# fit the models \n",
    "fit_simple = sm_simple.sampling(data=data, iter=10000, chains=4, verbose =True)\n",
    "fit_complex = sm_complex.sampling(data=data, iter=10000, chains=4, verbose =True)"
   ]
  },
  {
   "cell_type": "code",
   "execution_count": 10,
   "id": "earned-functionality",
   "metadata": {},
   "outputs": [
    {
     "name": "stdout",
     "output_type": "stream",
     "text": [
      "odict_keys(['beta', 'sigma', 'yhat', 'log_p', 'lp__'])\n",
      "odict_keys(['m', 'alpha', 'beta', 'yhat', 'log_p', 'lp__'])\n"
     ]
    }
   ],
   "source": [
    "# extract the posteriors\n",
    "posteriors_simple = fit_simple.extract(permuted=True)  # return a dictionary of arrays\n",
    "print(posteriors_simple.keys())\n",
    "\n",
    "posteriors_complex = fit_complex.extract(permuted=True)  # return a dictionary of arrays\n",
    "print(posteriors_complex.keys())"
   ]
  },
  {
   "cell_type": "code",
   "execution_count": 11,
   "id": "executive-dependence",
   "metadata": {},
   "outputs": [
    {
     "name": "stdout",
     "output_type": "stream",
     "text": [
      "WAIC\n",
      "2700.098437558937\n",
      "2695.2999768508926\n",
      "Effective # Pars\n",
      "3.6321420914698623\n",
      "4.771916602933693\n",
      "log pointwise predictive density\n",
      "-1346.4170766879986\n",
      "-1342.8780718225125\n"
     ]
    }
   ],
   "source": [
    "WAIC_s, lppd_s, P_WAIC2_s = WAIC(log_p = posteriors_simple['log_p'])\n",
    "WAIC_c, lppd_c, P_WAIC2_c = WAIC(log_p = posteriors_complex['log_p'])\n",
    "\n",
    "print(\"WAIC\")\n",
    "print(WAIC_s)\n",
    "print(WAIC_c)\n",
    "\n",
    "print(\"Effective # Pars\")\n",
    "print(P_WAIC2_s)\n",
    "print(P_WAIC2_c)\n",
    "\n",
    "print(\"log pointwise predictive density\")\n",
    "print(lppd_s)\n",
    "print(lppd_c)"
   ]
  },
  {
   "cell_type": "markdown",
   "id": "apparent-hunter",
   "metadata": {},
   "source": [
    "The above should show that simple model is about 2 points better than the complex. The complex has one more parameter and should have about the same LPPD."
   ]
  },
  {
   "cell_type": "markdown",
   "id": "acoustic-republican",
   "metadata": {},
   "source": [
    "## Example 2\n",
    "Feature selection for linear models with WAIC."
   ]
  },
  {
   "cell_type": "code",
   "execution_count": 12,
   "id": "quantitative-hearts",
   "metadata": {},
   "outputs": [
    {
     "name": "stdout",
     "output_type": "stream",
     "text": [
      "(1000, 3)\n",
      "(1000,)\n",
      "[2.6 0.2 0.1]\n"
     ]
    }
   ],
   "source": [
    "# make data \n",
    "n = 1000\n",
    "x0 = np.ones(n)\n",
    "x1 = np.random.normal(0, 1, n)\n",
    "x2 = np.random.normal(0, 1, n)\n",
    "x3 = np.random.normal(0, 1, n)\n",
    "x4 = np.random.normal(0, 1, n)\n",
    "x5 = np.random.normal(0, 1, n)\n",
    "x6 = np.random.normal(0, 1, n)\n",
    "x7 = np.random.normal(0, 1, n)\n",
    "x8 = np.random.normal(0, 1, n)\n",
    "x9 = np.random.normal(0, 1, n)\n",
    "\n",
    "X9 = np.vstack([x0, x1, x2, x3, x4, x5, x6, x7, x8, x9]).transpose()\n",
    "X = np.vstack([x0, x1, x2]).transpose()\n",
    "coefs = np.array([2.6, 0.2, 0.1])\n",
    "yhat = np.matmul(X, coefs)\n",
    "y = np.random.normal(yhat, 1)\n",
    "print(X.shape)\n",
    "print(y.shape)\n",
    "print(coefs)"
   ]
  },
  {
   "cell_type": "code",
   "execution_count": 13,
   "id": "educational-november",
   "metadata": {},
   "outputs": [],
   "source": [
    "data = {\n",
    "    'n_obs': len(y),\n",
    "    'n_features': X.shape[1],\n",
    "    'y': y,\n",
    "    'X': X,\n",
    "}"
   ]
  },
  {
   "cell_type": "code",
   "execution_count": 14,
   "id": "curious-platinum",
   "metadata": {},
   "outputs": [
    {
     "name": "stderr",
     "output_type": "stream",
     "text": [
      "INFO:pystan:COMPILING THE C++ CODE FOR MODEL anon_model_412e1436f24115a7272534d9976f78f6 NOW.\n"
     ]
    },
    {
     "name": "stdout",
     "output_type": "stream",
     "text": [
      "CPU times: user 1.04 s, sys: 81.5 ms, total: 1.12 s\n",
      "Wall time: 43.1 s\n"
     ]
    }
   ],
   "source": [
    "%%time\n",
    "model_code = \"\"\"\n",
    "\n",
    "    data {\n",
    "      int<lower=0> n_obs;\n",
    "      int<lower=0> n_features;\n",
    "      vector[n_obs] y;\n",
    "      // real y[n_obs];\n",
    "      matrix[n_obs, n_features] X;\n",
    "    }\n",
    "    \n",
    "    parameters{\n",
    "      vector[n_features] beta;\n",
    "      real<lower=0> sigma;\n",
    "    }\n",
    "    \n",
    "    transformed parameters {\n",
    "      vector[n_obs] yhat;\n",
    "      vector[n_obs] log_p;\n",
    "      yhat = X * beta;\n",
    "      for (i in 1:n_obs)\n",
    "        log_p[i] = normal_lpdf(y[i]|yhat[i], sigma);\n",
    "    }\n",
    "    \n",
    "    model {\n",
    "\n",
    "      y ~ normal(yhat, sigma);\n",
    "    }\n",
    "    \n",
    "\"\"\"\n",
    "sm_temp = StanModel(model_code=model_code)"
   ]
  },
  {
   "cell_type": "code",
   "execution_count": 15,
   "id": "acute-postcard",
   "metadata": {},
   "outputs": [
    {
     "name": "stdout",
     "output_type": "stream",
     "text": [
      "1\n"
     ]
    },
    {
     "name": "stderr",
     "output_type": "stream",
     "text": [
      "WARNING:pystan:Maximum (flat) parameter count (1000) exceeded: skipping diagnostic tests for n_eff and Rhat.\n",
      "To run all diagnostics call pystan.check_hmc_diagnostics(fit)\n"
     ]
    },
    {
     "name": "stdout",
     "output_type": "stream",
     "text": [
      "-------------------------------------------------------------------------------\n",
      "1\n",
      "2885.28134582768\n",
      "-------------------------------------------------------------------------------\n",
      "2\n"
     ]
    },
    {
     "name": "stderr",
     "output_type": "stream",
     "text": [
      "WARNING:pystan:Maximum (flat) parameter count (1000) exceeded: skipping diagnostic tests for n_eff and Rhat.\n",
      "To run all diagnostics call pystan.check_hmc_diagnostics(fit)\n"
     ]
    },
    {
     "name": "stdout",
     "output_type": "stream",
     "text": [
      "-------------------------------------------------------------------------------\n",
      "2\n",
      "2830.2655456835746\n",
      "-------------------------------------------------------------------------------\n",
      "3\n"
     ]
    },
    {
     "name": "stderr",
     "output_type": "stream",
     "text": [
      "WARNING:pystan:Maximum (flat) parameter count (1000) exceeded: skipping diagnostic tests for n_eff and Rhat.\n",
      "To run all diagnostics call pystan.check_hmc_diagnostics(fit)\n"
     ]
    },
    {
     "name": "stdout",
     "output_type": "stream",
     "text": [
      "-------------------------------------------------------------------------------\n",
      "3\n",
      "2815.4119267285287\n",
      "-------------------------------------------------------------------------------\n",
      "4\n"
     ]
    },
    {
     "name": "stderr",
     "output_type": "stream",
     "text": [
      "WARNING:pystan:Maximum (flat) parameter count (1000) exceeded: skipping diagnostic tests for n_eff and Rhat.\n",
      "To run all diagnostics call pystan.check_hmc_diagnostics(fit)\n"
     ]
    },
    {
     "name": "stdout",
     "output_type": "stream",
     "text": [
      "-------------------------------------------------------------------------------\n",
      "4\n",
      "2817.343076021675\n",
      "-------------------------------------------------------------------------------\n",
      "5\n"
     ]
    },
    {
     "name": "stderr",
     "output_type": "stream",
     "text": [
      "WARNING:pystan:Maximum (flat) parameter count (1000) exceeded: skipping diagnostic tests for n_eff and Rhat.\n",
      "To run all diagnostics call pystan.check_hmc_diagnostics(fit)\n"
     ]
    },
    {
     "name": "stdout",
     "output_type": "stream",
     "text": [
      "-------------------------------------------------------------------------------\n",
      "5\n",
      "2818.676322886171\n",
      "-------------------------------------------------------------------------------\n",
      "6\n"
     ]
    },
    {
     "name": "stderr",
     "output_type": "stream",
     "text": [
      "WARNING:pystan:Maximum (flat) parameter count (1000) exceeded: skipping diagnostic tests for n_eff and Rhat.\n",
      "To run all diagnostics call pystan.check_hmc_diagnostics(fit)\n"
     ]
    },
    {
     "name": "stdout",
     "output_type": "stream",
     "text": [
      "-------------------------------------------------------------------------------\n",
      "6\n",
      "2820.367725844212\n",
      "-------------------------------------------------------------------------------\n",
      "7\n"
     ]
    },
    {
     "name": "stderr",
     "output_type": "stream",
     "text": [
      "WARNING:pystan:Maximum (flat) parameter count (1000) exceeded: skipping diagnostic tests for n_eff and Rhat.\n",
      "To run all diagnostics call pystan.check_hmc_diagnostics(fit)\n"
     ]
    },
    {
     "name": "stdout",
     "output_type": "stream",
     "text": [
      "-------------------------------------------------------------------------------\n",
      "7\n",
      "2822.302334001832\n",
      "-------------------------------------------------------------------------------\n",
      "8\n"
     ]
    },
    {
     "name": "stderr",
     "output_type": "stream",
     "text": [
      "WARNING:pystan:Maximum (flat) parameter count (1000) exceeded: skipping diagnostic tests for n_eff and Rhat.\n",
      "To run all diagnostics call pystan.check_hmc_diagnostics(fit)\n"
     ]
    },
    {
     "name": "stdout",
     "output_type": "stream",
     "text": [
      "-------------------------------------------------------------------------------\n",
      "8\n",
      "2823.910048379475\n",
      "-------------------------------------------------------------------------------\n",
      "9\n"
     ]
    },
    {
     "name": "stderr",
     "output_type": "stream",
     "text": [
      "WARNING:pystan:Maximum (flat) parameter count (1000) exceeded: skipping diagnostic tests for n_eff and Rhat.\n",
      "To run all diagnostics call pystan.check_hmc_diagnostics(fit)\n"
     ]
    },
    {
     "name": "stdout",
     "output_type": "stream",
     "text": [
      "-------------------------------------------------------------------------------\n",
      "9\n",
      "2825.5917704362637\n",
      "-------------------------------------------------------------------------------\n",
      "CPU times: user 2.33 s, sys: 3.24 s, total: 5.57 s\n",
      "Wall time: 17.6 s\n"
     ]
    }
   ],
   "source": [
    "%%time\n",
    "# this cell loops through models with different number of features\n",
    "WAIC_list = np.zeros((10))\n",
    "lppd_list = np.zeros((10))\n",
    "p_list = np.zeros((10))\n",
    "\n",
    "for i in range(1, 10):\n",
    "    X = X9.copy()\n",
    "    X = X[:,:i]\n",
    "    print(X.shape[1])\n",
    "    data = {\n",
    "        'n_obs': len(y),\n",
    "        'n_features': X.shape[1],\n",
    "        'y': y,\n",
    "        'X': X,\n",
    "    }\n",
    "    \n",
    "    fit_temp = sm_temp.sampling(data=data, iter=2000, chains=4, verbose =False)\n",
    "    posteriors_temp = fit_temp.extract(permuted=True)\n",
    "    WAIC_v, lppd, P_WAIC2 = WAIC(log_p = posteriors_temp['log_p'])\n",
    "    WAIC_list[i-1] = WAIC_v\n",
    "    lppd_list[i-1] = lppd\n",
    "    p_list[i-1] = P_WAIC2  \n",
    "    \n",
    "    print(\"-------------------------------------------------------------------------------\")\n",
    "    print(i)\n",
    "    print(WAIC_v)\n",
    "    print(\"-------------------------------------------------------------------------------\")    "
   ]
  },
  {
   "cell_type": "code",
   "execution_count": 16,
   "id": "alien-austria",
   "metadata": {},
   "outputs": [
    {
     "name": "stdout",
     "output_type": "stream",
     "text": [
      "[2885.28134583 2830.26554568 2815.41192673 2817.34307602 2818.67632289\n",
      " 2820.36772584 2822.302334   2823.91004838 2825.59177044    0.        ]\n",
      "[-1440.66767558 -1412.10939141 -1403.79047009 -1403.72266223\n",
      " -1403.53045153 -1403.25759589 -1403.20611636 -1403.28473916\n",
      " -1403.32124835     0.        ]\n",
      "[1.97299734 3.02338144 3.91549327 4.94887578 5.80770991 6.92626704\n",
      " 7.94505064 8.67028503 9.47463687 0.        ]\n"
     ]
    }
   ],
   "source": [
    "print(WAIC_list)\n",
    "print( lppd_list)\n",
    "print( p_list)"
   ]
  },
  {
   "cell_type": "markdown",
   "id": "friendly-track",
   "metadata": {},
   "source": [
    "The min WAIC should be for the 3rd itteration"
   ]
  },
  {
   "cell_type": "markdown",
   "id": "magnetic-karen",
   "metadata": {},
   "source": [
    "## Example 3\n",
    "AR order selections"
   ]
  },
  {
   "cell_type": "code",
   "execution_count": 17,
   "id": "recognized-delhi",
   "metadata": {},
   "outputs": [
    {
     "data": {
      "text/plain": [
       "[<matplotlib.lines.Line2D at 0x13c755050>]"
      ]
     },
     "execution_count": 17,
     "metadata": {},
     "output_type": "execute_result"
    },
    {
     "data": {
      "image/png": "[encoded data removed]",
      "text/plain": [
       "<Figure size 432x288 with 1 Axes>"
      ]
     },
     "metadata": {
      "needs_background": "light"
     },
     "output_type": "display_data"
    }
   ],
   "source": [
    "# make the data\n",
    "n = 1000\n",
    "eta = np.random.normal(0, 1, n)\n",
    "rho = [0.85, -0.25]\n",
    "y = eta.copy()\n",
    "for i in range(2, n):\n",
    "    y[i] = rho[0]*y[i-1] + rho[1]*y[i-2] + eta[i]\n",
    "\n",
    "#plt.plot(y)\n",
    "plt.plot(y[2:150])"
   ]
  },
  {
   "cell_type": "code",
   "execution_count": 18,
   "id": "theoretical-destruction",
   "metadata": {},
   "outputs": [],
   "source": [
    "data = {\n",
    "    'N': len(y),\n",
    "    'K': 3,\n",
    "    'y': y,\n",
    "}"
   ]
  },
  {
   "cell_type": "code",
   "execution_count": 19,
   "id": "numerical-queens",
   "metadata": {},
   "outputs": [
    {
     "name": "stderr",
     "output_type": "stream",
     "text": [
      "INFO:pystan:COMPILING THE C++ CODE FOR MODEL anon_model_803ebb3b05161220dab6fc73b7ece80b NOW.\n"
     ]
    },
    {
     "name": "stdout",
     "output_type": "stream",
     "text": [
      "CPU times: user 1.06 s, sys: 71.5 ms, total: 1.13 s\n",
      "Wall time: 40.5 s\n"
     ]
    }
   ],
   "source": [
    "%%time\n",
    "model_code = \"\"\"\n",
    "    data {\n",
    "      int<lower=0> K;\n",
    "      int<lower=0> N;\n",
    "      real y[N];\n",
    "    }\n",
    "    parameters {\n",
    "      real<lower=-1,upper=1> rho[K];\n",
    "      real sigma;\n",
    "    }\n",
    "    \n",
    "    \n",
    "    transformed parameters {\n",
    "        vector[N] yhat;\n",
    "        vector[N] log_p;\n",
    "        for (i in (K+1):N) {\n",
    "            yhat[i] = 0;\n",
    "            for (k in 1:K)\n",
    "              yhat[i] += rho[k] * y[i-k];\n",
    "            log_p[i] = normal_lpdf(y[i]|yhat[i], sigma);\n",
    "            }\n",
    "    }\n",
    "    \n",
    "    \n",
    "    model {\n",
    "      \n",
    "      for (i in (K+1):N) \n",
    "        y[i] ~ normal(yhat[i], sigma);\n",
    "      \n",
    "    }\"\"\"\n",
    "AR_K = StanModel(model_code=model_code)"
   ]
  },
  {
   "cell_type": "code",
   "execution_count": 20,
   "id": "consolidated-pricing",
   "metadata": {},
   "outputs": [
    {
     "name": "stderr",
     "output_type": "stream",
     "text": [
      "WARNING:pystan:Maximum (flat) parameter count (1000) exceeded: skipping diagnostic tests for n_eff and Rhat.\n",
      "To run all diagnostics call pystan.check_hmc_diagnostics(fit)\n"
     ]
    },
    {
     "name": "stdout",
     "output_type": "stream",
     "text": [
      "-------------------------------------------------------------------------------\n",
      "1\n",
      "2925.008571937309\n",
      "-------------------------------------------------------------------------------\n"
     ]
    },
    {
     "name": "stderr",
     "output_type": "stream",
     "text": [
      "WARNING:pystan:Maximum (flat) parameter count (1000) exceeded: skipping diagnostic tests for n_eff and Rhat.\n",
      "To run all diagnostics call pystan.check_hmc_diagnostics(fit)\n"
     ]
    },
    {
     "name": "stdout",
     "output_type": "stream",
     "text": [
      "-------------------------------------------------------------------------------\n",
      "2\n",
      "2851.1061909207306\n",
      "-------------------------------------------------------------------------------\n"
     ]
    },
    {
     "name": "stderr",
     "output_type": "stream",
     "text": [
      "WARNING:pystan:Maximum (flat) parameter count (1000) exceeded: skipping diagnostic tests for n_eff and Rhat.\n",
      "To run all diagnostics call pystan.check_hmc_diagnostics(fit)\n"
     ]
    },
    {
     "name": "stdout",
     "output_type": "stream",
     "text": [
      "-------------------------------------------------------------------------------\n",
      "3\n",
      "2849.920120129771\n",
      "-------------------------------------------------------------------------------\n"
     ]
    },
    {
     "name": "stderr",
     "output_type": "stream",
     "text": [
      "WARNING:pystan:Maximum (flat) parameter count (1000) exceeded: skipping diagnostic tests for n_eff and Rhat.\n",
      "To run all diagnostics call pystan.check_hmc_diagnostics(fit)\n"
     ]
    },
    {
     "name": "stdout",
     "output_type": "stream",
     "text": [
      "-------------------------------------------------------------------------------\n",
      "4\n",
      "2849.6814793893413\n",
      "-------------------------------------------------------------------------------\n"
     ]
    },
    {
     "name": "stderr",
     "output_type": "stream",
     "text": [
      "WARNING:pystan:Maximum (flat) parameter count (1000) exceeded: skipping diagnostic tests for n_eff and Rhat.\n",
      "To run all diagnostics call pystan.check_hmc_diagnostics(fit)\n"
     ]
    },
    {
     "name": "stdout",
     "output_type": "stream",
     "text": [
      "-------------------------------------------------------------------------------\n",
      "5\n",
      "2847.2520567853953\n",
      "-------------------------------------------------------------------------------\n"
     ]
    },
    {
     "name": "stderr",
     "output_type": "stream",
     "text": [
      "WARNING:pystan:Maximum (flat) parameter count (1000) exceeded: skipping diagnostic tests for n_eff and Rhat.\n",
      "To run all diagnostics call pystan.check_hmc_diagnostics(fit)\n"
     ]
    },
    {
     "name": "stdout",
     "output_type": "stream",
     "text": [
      "-------------------------------------------------------------------------------\n",
      "6\n",
      "2839.8743094134584\n",
      "-------------------------------------------------------------------------------\n"
     ]
    },
    {
     "name": "stderr",
     "output_type": "stream",
     "text": [
      "WARNING:pystan:Maximum (flat) parameter count (1000) exceeded: skipping diagnostic tests for n_eff and Rhat.\n",
      "To run all diagnostics call pystan.check_hmc_diagnostics(fit)\n"
     ]
    },
    {
     "name": "stdout",
     "output_type": "stream",
     "text": [
      "-------------------------------------------------------------------------------\n",
      "7\n",
      "2839.7751940220946\n",
      "-------------------------------------------------------------------------------\n"
     ]
    },
    {
     "name": "stderr",
     "output_type": "stream",
     "text": [
      "WARNING:pystan:Maximum (flat) parameter count (1000) exceeded: skipping diagnostic tests for n_eff and Rhat.\n",
      "To run all diagnostics call pystan.check_hmc_diagnostics(fit)\n"
     ]
    },
    {
     "name": "stdout",
     "output_type": "stream",
     "text": [
      "-------------------------------------------------------------------------------\n",
      "8\n",
      "2833.9483947898693\n",
      "-------------------------------------------------------------------------------\n"
     ]
    },
    {
     "name": "stderr",
     "output_type": "stream",
     "text": [
      "WARNING:pystan:Maximum (flat) parameter count (1000) exceeded: skipping diagnostic tests for n_eff and Rhat.\n",
      "To run all diagnostics call pystan.check_hmc_diagnostics(fit)\n"
     ]
    },
    {
     "name": "stdout",
     "output_type": "stream",
     "text": [
      "-------------------------------------------------------------------------------\n",
      "9\n",
      "2834.0645427391355\n",
      "-------------------------------------------------------------------------------\n"
     ]
    },
    {
     "name": "stderr",
     "output_type": "stream",
     "text": [
      "WARNING:pystan:Maximum (flat) parameter count (1000) exceeded: skipping diagnostic tests for n_eff and Rhat.\n",
      "To run all diagnostics call pystan.check_hmc_diagnostics(fit)\n"
     ]
    },
    {
     "name": "stdout",
     "output_type": "stream",
     "text": [
      "-------------------------------------------------------------------------------\n",
      "10\n",
      "2833.8045820931243\n",
      "-------------------------------------------------------------------------------\n",
      "CPU times: user 2.69 s, sys: 4.09 s, total: 6.78 s\n",
      "Wall time: 1min 16s\n"
     ]
    }
   ],
   "source": [
    "%%time\n",
    "WAIC_list = np.zeros((10))\n",
    "lppd_list = np.zeros((10))\n",
    "p_list = np.zeros((10))\n",
    "\n",
    "for k in range(1, 11):\n",
    "    data = {\n",
    "    'N': len(y),\n",
    "    'K': k,\n",
    "    'y': y,\n",
    "    }\n",
    "    fit_AR_K = AR_K.sampling(data=data, iter=2000, chains=4, verbose =False)\n",
    "    posteriors_AR_K = fit_AR_K.extract(permuted=True) \n",
    "    WAIC_v, lppd, P_WAIC2 = WAIC(log_p = posteriors_AR_K['log_p'])\n",
    "    WAIC_list[k-1] = WAIC_v\n",
    "    lppd_list[k-1] = lppd\n",
    "    p_list[k-1] = P_WAIC2  \n",
    "    \n",
    "    print(\"-------------------------------------------------------------------------------\")\n",
    "    print(k)\n",
    "    print(WAIC_v)\n",
    "    print(\"-------------------------------------------------------------------------------\")    \n",
    "    "
   ]
  },
  {
   "cell_type": "code",
   "execution_count": 21,
   "id": "raised-palestine",
   "metadata": {},
   "outputs": [
    {
     "name": "stdout",
     "output_type": "stream",
     "text": [
      "[2925.00857194 2851.10619092 2849.92012013 2849.68147939 2847.25205679\n",
      " 2839.87430941 2839.77519402 2833.94839479 2834.06454274 2833.80458209]\n",
      "[-1460.60913072 -1422.50875992 -1420.79105562 -1419.6806621\n",
      " -1417.60881407 -1412.88950087 -1411.79082942 -1407.87885243\n",
      " -1406.86988313 -1405.68371009]\n",
      "[ 1.89515525  3.04433554  4.16900444  5.16007759  6.01721432  7.04765383\n",
      "  8.09676759  9.09534496 10.16238824 11.21858096]\n"
     ]
    }
   ],
   "source": [
    "print(WAIC_list)\n",
    "print(lppd_list)\n",
    "print(p_list)"
   ]
  },
  {
   "cell_type": "markdown",
   "id": "fiscal-relation",
   "metadata": {},
   "source": [
    "\n",
    "This does not seem to work because there is too much data and the AR lag parameters are too efficient\n",
    " "
   ]
  },
  {
   "cell_type": "code",
   "execution_count": 22,
   "id": "blond-senior",
   "metadata": {},
   "outputs": [
    {
     "name": "stderr",
     "output_type": "stream",
     "text": [
      "WARNING:pystan:Maximum (flat) parameter count (1000) exceeded: skipping diagnostic tests for n_eff and Rhat.\n",
      "To run all diagnostics call pystan.check_hmc_diagnostics(fit)\n"
     ]
    },
    {
     "name": "stdout",
     "output_type": "stream",
     "text": [
      "-------------------------------------------------------------------------------\n",
      "1\n",
      "2934.54483254403\n",
      "-------------------------------------------------------------------------------\n"
     ]
    },
    {
     "name": "stderr",
     "output_type": "stream",
     "text": [
      "WARNING:pystan:Maximum (flat) parameter count (1000) exceeded: skipping diagnostic tests for n_eff and Rhat.\n",
      "To run all diagnostics call pystan.check_hmc_diagnostics(fit)\n"
     ]
    },
    {
     "name": "stdout",
     "output_type": "stream",
     "text": [
      "-------------------------------------------------------------------------------\n",
      "2\n",
      "2865.494407348225\n",
      "-------------------------------------------------------------------------------\n"
     ]
    },
    {
     "name": "stderr",
     "output_type": "stream",
     "text": [
      "WARNING:pystan:Maximum (flat) parameter count (1000) exceeded: skipping diagnostic tests for n_eff and Rhat.\n",
      "To run all diagnostics call pystan.check_hmc_diagnostics(fit)\n"
     ]
    },
    {
     "name": "stdout",
     "output_type": "stream",
     "text": [
      "-------------------------------------------------------------------------------\n",
      "3\n",
      "2869.9964534070286\n",
      "-------------------------------------------------------------------------------\n"
     ]
    },
    {
     "name": "stderr",
     "output_type": "stream",
     "text": [
      "WARNING:pystan:Maximum (flat) parameter count (1000) exceeded: skipping diagnostic tests for n_eff and Rhat.\n",
      "To run all diagnostics call pystan.check_hmc_diagnostics(fit)\n"
     ]
    },
    {
     "name": "stdout",
     "output_type": "stream",
     "text": [
      "-------------------------------------------------------------------------------\n",
      "4\n",
      "2876.252874585508\n",
      "-------------------------------------------------------------------------------\n"
     ]
    },
    {
     "name": "stderr",
     "output_type": "stream",
     "text": [
      "WARNING:pystan:Maximum (flat) parameter count (1000) exceeded: skipping diagnostic tests for n_eff and Rhat.\n",
      "To run all diagnostics call pystan.check_hmc_diagnostics(fit)\n"
     ]
    },
    {
     "name": "stdout",
     "output_type": "stream",
     "text": [
      "-------------------------------------------------------------------------------\n",
      "5\n",
      "2877.260879301775\n",
      "-------------------------------------------------------------------------------\n"
     ]
    },
    {
     "name": "stderr",
     "output_type": "stream",
     "text": [
      "WARNING:pystan:Maximum (flat) parameter count (1000) exceeded: skipping diagnostic tests for n_eff and Rhat.\n",
      "To run all diagnostics call pystan.check_hmc_diagnostics(fit)\n"
     ]
    },
    {
     "name": "stdout",
     "output_type": "stream",
     "text": [
      "-------------------------------------------------------------------------------\n",
      "6\n",
      "2873.4249990816747\n",
      "-------------------------------------------------------------------------------\n"
     ]
    },
    {
     "name": "stderr",
     "output_type": "stream",
     "text": [
      "WARNING:pystan:Maximum (flat) parameter count (1000) exceeded: skipping diagnostic tests for n_eff and Rhat.\n",
      "To run all diagnostics call pystan.check_hmc_diagnostics(fit)\n"
     ]
    },
    {
     "name": "stdout",
     "output_type": "stream",
     "text": [
      "-------------------------------------------------------------------------------\n",
      "7\n",
      "2879.701569467063\n",
      "-------------------------------------------------------------------------------\n"
     ]
    },
    {
     "name": "stderr",
     "output_type": "stream",
     "text": [
      "WARNING:pystan:Maximum (flat) parameter count (1000) exceeded: skipping diagnostic tests for n_eff and Rhat.\n",
      "To run all diagnostics call pystan.check_hmc_diagnostics(fit)\n"
     ]
    },
    {
     "name": "stdout",
     "output_type": "stream",
     "text": [
      "-------------------------------------------------------------------------------\n",
      "8\n",
      "2877.7365992067657\n",
      "-------------------------------------------------------------------------------\n"
     ]
    },
    {
     "name": "stderr",
     "output_type": "stream",
     "text": [
      "WARNING:pystan:Maximum (flat) parameter count (1000) exceeded: skipping diagnostic tests for n_eff and Rhat.\n",
      "To run all diagnostics call pystan.check_hmc_diagnostics(fit)\n"
     ]
    },
    {
     "name": "stdout",
     "output_type": "stream",
     "text": [
      "-------------------------------------------------------------------------------\n",
      "9\n",
      "2883.801708281401\n",
      "-------------------------------------------------------------------------------\n"
     ]
    },
    {
     "name": "stderr",
     "output_type": "stream",
     "text": [
      "WARNING:pystan:Maximum (flat) parameter count (1000) exceeded: skipping diagnostic tests for n_eff and Rhat.\n",
      "To run all diagnostics call pystan.check_hmc_diagnostics(fit)\n"
     ]
    },
    {
     "name": "stdout",
     "output_type": "stream",
     "text": [
      "-------------------------------------------------------------------------------\n",
      "10\n",
      "2888.6073158823397\n",
      "-------------------------------------------------------------------------------\n"
     ]
    }
   ],
   "source": [
    "WAIC_list = np.zeros((10))\n",
    "lppd_list = np.zeros((10))\n",
    "p_list = np.zeros((10))\n",
    "\n",
    "for k in range(1, 11):\n",
    "    data = {\n",
    "    'N': len(y),\n",
    "    'K': k,\n",
    "    'y': y,\n",
    "    }\n",
    "    fit_AR_K = AR_K.sampling(data=data, iter=2000, chains=4, verbose =False)\n",
    "    posteriors_AR_K = fit_AR_K.extract(permuted=True) \n",
    "    ####################################################################################\n",
    "    WAIC_v, lppd, P_WAIC2 = WAIC(log_p = posteriors_AR_K['log_p'], k = np.log(n-10)) # this line was updated\n",
    "    # log 990 is number of data points shared by all models. THis is similar to the BIC.\n",
    "    ####################################################################################    \n",
    "    WAIC_list[k-1] = WAIC_v\n",
    "    lppd_list[k-1] = lppd\n",
    "    p_list[k-1] = P_WAIC2  \n",
    "    \n",
    "    print(\"-------------------------------------------------------------------------------\")\n",
    "    print(k)\n",
    "    print(WAIC_v)\n",
    "    print(\"-------------------------------------------------------------------------------\")    "
   ]
  },
  {
   "cell_type": "code",
   "execution_count": 23,
   "id": "assured-madonna",
   "metadata": {},
   "outputs": [
    {
     "name": "stdout",
     "output_type": "stream",
     "text": [
      "[2934.54483254 2865.49440735 2869.99645341 2876.25287459 2877.2608793\n",
      " 2873.42499908 2879.70156947 2877.73659921 2883.80170828 2888.60731588]\n",
      "[-1460.6064328  -1422.50581582 -1420.79328927 -1419.68483765\n",
      " -1417.61648539 -1412.88064911 -1411.78323226 -1407.87287947\n",
      " -1406.88232172 -1405.69879897]\n",
      "[ 1.93281201  2.96950593  4.11874313  5.34716976  6.09302788  6.91008114\n",
      "  8.13822937  8.98716903 10.15367654 11.19353736]\n"
     ]
    }
   ],
   "source": [
    "print(WAIC_list)\n",
    "print( lppd_list)\n",
    "print( p_list)"
   ]
  },
  {
   "cell_type": "markdown",
   "id": "fancy-edward",
   "metadata": {},
   "source": [
    "The above should show that the 2nd iteration is best "
   ]
  }
 ],
 "metadata": {
  "kernelspec": {
   "display_name": "Python 3",
   "language": "python",
   "name": "python3"
  },
  "language_info": {
   "codemirror_mode": {
    "name": "ipython",
    "version": 3
   },
   "file_extension": ".py",
   "mimetype": "text/x-python",
   "name": "python",
   "nbconvert_exporter": "python",
   "pygments_lexer": "ipython3",
   "version": "3.7.8"
  },
  "toc": {
   "base_numbering": 1,
   "nav_menu": {},
   "number_sections": true,
   "sideBar": true,
   "skip_h1_title": false,
   "title_cell": "Table of Contents",
   "title_sidebar": "Contents",
   "toc_cell": false,
   "toc_position": {},
   "toc_section_display": true,
   "toc_window_display": false
  }
 },
 "nbformat": 4,
 "nbformat_minor": 5
}
